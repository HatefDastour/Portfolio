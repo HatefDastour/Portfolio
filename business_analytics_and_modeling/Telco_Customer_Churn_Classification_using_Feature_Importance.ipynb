{
 "cells": [
  {
   "cell_type": "code",
   "execution_count": 1,
   "metadata": {},
   "outputs": [],
   "source": [
    "# Computations\n",
    "import numpy as np\n",
    "import pandas as pd\n",
    "\n",
    "# scipy\n",
    "import scipy.stats as stats\n",
    "from scipy.stats import norm\n",
    "\n",
    "# preprocessing\n",
    "from sklearn.preprocessing import StandardScaler\n",
    "\n",
    "# sklearn\n",
    "# from sklearn.metrics import classification_report, accuracy_score, f1_score, precision_score, recall_score, confusion_matrix\n",
    "from sklearn import metrics\n",
    "from sklearn.model_selection import train_test_split, GridSearchCV, RandomizedSearchCV, cross_val_score, KFold\n",
    "from sklearn.feature_selection import RFE\n",
    "from sklearn.utils.fixes import loguniform\n",
    "from sklearn.ensemble import RandomForestClassifier\n",
    "\n",
    "# Visualisation libraries\n",
    "\n",
    "## Text\n",
    "from colorama import Fore, Back, Style\n",
    "from IPython.display import Image, display, Markdown, Latex\n",
    "\n",
    "## seaborn\n",
    "import seaborn as sns\n",
    "sns.set_context('paper', rc={'font.size':12,'axes.titlesize':14,'axes.labelsize':12})\n",
    "sns.set_style('white')\n",
    "\n",
    "## matplotlib\n",
    "import matplotlib.pyplot as plt\n",
    "from matplotlib.patches import Ellipse, Polygon\n",
    "import matplotlib.gridspec as gridspec\n",
    "import matplotlib.colors\n",
    "from pylab import rcParams\n",
    "plt.style.use('seaborn-whitegrid')\n",
    "plt.rcParams['figure.figsize'] = 14, 8\n",
    "plt.rcParams['axes.labelsize'] = 14\n",
    "plt.rcParams['xtick.labelsize'] = 12\n",
    "plt.rcParams['ytick.labelsize'] = 12\n",
    "plt.rcParams['text.color'] = 'k'\n",
    "%matplotlib inline\n",
    "\n",
    "## missingno\n",
    "import missingno as msno\n",
    "\n",
    "import warnings\n",
    "warnings.filterwarnings(\"ignore\")"
   ]
  },
  {
   "cell_type": "markdown",
   "metadata": {},
   "source": [
    "<div class=\"alert alert-block alert-info\">\n",
    "<font size=\"+3\"><b>\n",
    "Telco Customer Churn\n",
    "</b></font>\n",
    "</div>\n",
    "\n",
    "\n",
    "In this article, we analyze and predict customer churn for [Telco Customer Churn data](https://www.kaggle.com/blastchar/telco-customer-churn).\n",
    "\n",
    "### Dataset\n",
    "\n",
    "* Customers who left within the last month – the column is called Churn\n",
    "* Services that each customer has signed up for – phone, multiple lines, internet, online security, online backup, device * protection, tech support, and streaming TV and movies\n",
    "* Customer account information – how long they’ve been a customer, contract, payment method, paperless billing, monthly charges, and total charges\n",
    "* Demographic info about customers – gender, age range, and if they have partners and dependents\n",
    "\n",
    "| Columns     | Description     |\n",
    "|------------------    |---------------------------------------------------------------------------------------------------------------------------------    |\n",
    "| customerID     | Customer ID     |\n",
    "| gender     | Whether the customer is a male or a female     |\n",
    "| SeniorCitizen     | Whether the customer is a senior citizen or not (1, 0)     |\n",
    "| Partner     | Whether the customer has a partner or not (Yes, No)     |\n",
    "| Dependents     | Whether the customer has dependents or not (Yes, No)     |\n",
    "| tenure     | Number of months the customer has stayed with the company     |\n",
    "| PhoneService     | Whether the customer has a phone service or not (Yes, No)     |\n",
    "| MultipleLines     | Whether the customer has multiple lines or not (Yes, No, No phone service)     |\n",
    "| InternetService     | Customer’s internet service provider (DSL, Fiber optic, No)     |\n",
    "| OnlineSecurity     | Whether the customer has online security or not (Yes, No, No internet service)     |\n",
    "| OnlineBackup     | Whether the customer has an online backup or not (Yes, No, No internet service)     |\n",
    "| DeviceProtection     | Whether the customer has device protection or not (Yes, No, No internet service)     |\n",
    "| TechSupport     | Whether the customer has tech support or not (Yes, No, No internet service)     |\n",
    "| StreamingTV     | Whether the customer has streaming TV or not (Yes, No, No internet service)     |\n",
    "| StreamingMovies     | Whether the customer has streaming movies or not (Yes, No, No internet service)     |\n",
    "| Contract     | The contract term of the customer (Month-to-month, One year, Two years)     |\n",
    "| PaperlessBilling     | Whether the customer has paperless billing or not (Yes, No)     |\n",
    "| PaymentMethod     | The customer’s payment method (Electronic check, Mailed check, Bank transfer (automatic), Credit card (automatic))     |\n",
    "| MonthlyCharges     | The amount charged to the customer monthly     |\n",
    "| TotalCharges     | The total amount charged to the customer     |\n",
    "| Churn     | Whether the customer churned or not (Yes or No)     |"
   ]
  },
  {
   "cell_type": "markdown",
   "metadata": {},
   "source": [
    "#### Loading the Dataset"
   ]
  },
  {
   "cell_type": "code",
   "execution_count": 2,
   "metadata": {},
   "outputs": [],
   "source": [
    "Data = pd.read_csv('telco-customer-churn/WA_Fn-UseC_-Telco-Customer-Churn_clean.csv')"
   ]
  },
  {
   "cell_type": "markdown",
   "metadata": {},
   "source": [
    "# Modeling"
   ]
  },
  {
   "cell_type": "code",
   "execution_count": 3,
   "metadata": {},
   "outputs": [
    {
     "data": {
      "text/html": [
       "<div>\n",
       "<style scoped>\n",
       "    .dataframe tbody tr th:only-of-type {\n",
       "        vertical-align: middle;\n",
       "    }\n",
       "\n",
       "    .dataframe tbody tr th {\n",
       "        vertical-align: top;\n",
       "    }\n",
       "\n",
       "    .dataframe thead th {\n",
       "        text-align: right;\n",
       "    }\n",
       "</style>\n",
       "<table border=\"1\" class=\"dataframe\">\n",
       "  <thead>\n",
       "    <tr style=\"text-align: right;\">\n",
       "      <th>Set</th>\n",
       "      <th>X_train</th>\n",
       "      <th>X_test</th>\n",
       "      <th>y_train</th>\n",
       "      <th>y_test</th>\n",
       "    </tr>\n",
       "  </thead>\n",
       "  <tbody>\n",
       "    <tr>\n",
       "      <th>Array Shape</th>\n",
       "      <td>(4930, 22)</td>\n",
       "      <td>(2113, 22)</td>\n",
       "      <td>(4930,)</td>\n",
       "      <td>(2113,)</td>\n",
       "    </tr>\n",
       "  </tbody>\n",
       "</table>\n",
       "</div>"
      ],
      "text/plain": [
       "Set             X_train      X_test  y_train   y_test\n",
       "Array Shape  (4930, 22)  (2113, 22)  (4930,)  (2113,)"
      ]
     },
     "metadata": {},
     "output_type": "display_data"
    }
   ],
   "source": [
    "df = Data.drop(columns = ['customer ID'])\n",
    "Target = 'Churn'\n",
    "X = df.drop(columns = [Target])\n",
    "y = df[Target].astype(float)\n",
    "X_train, X_test, y_train, y_test = train_test_split(X, y, test_size=0.3, random_state=42)\n",
    "\n",
    "display(pd.DataFrame(data={'Set':['X_train','X_test','y_train','y_test'],\n",
    "               'Array Shape':[X_train.shape, X_test.shape, y_train.shape, y_test.shape]}).set_index('Set').T)\n",
    "Labels = ['Remanined', 'Churned']"
   ]
  },
  {
   "cell_type": "markdown",
   "metadata": {},
   "source": [
    "Furthermore, we would like to standardize features by removing the mean and scaling to unit variance. In this [article](https://hatefdastour.github.io/portfolio/statistical_modeling/Pima_Indians_Diabetes_Data_Classification.html), we demonstrated the benefits of scaling data using [**StandardScaler()**](https://scikit-learn.org/stable/modules/generated/sklearn.preprocessing.StandardScaler.html)."
   ]
  },
  {
   "cell_type": "code",
   "execution_count": 4,
   "metadata": {},
   "outputs": [],
   "source": [
    "scaler = StandardScaler()\n",
    "_ = scaler.fit(X)\n",
    "X_train = scaler.transform(X_train)\n",
    "X_train = pd.DataFrame(X_train, columns = X.columns)\n",
    "X_test = scaler.transform(X_test)\n",
    "X_test = pd.DataFrame(X_test, columns = X.columns)"
   ]
  },
  {
   "cell_type": "markdown",
   "metadata": {},
   "source": [
    "A number of functions that we use throughout this article."
   ]
  },
  {
   "cell_type": "code",
   "execution_count": 5,
   "metadata": {},
   "outputs": [],
   "source": [
    "def Performance(clf, X_test = X_test):\n",
    "    df = pd.DataFrame()\n",
    "    y_pred = clf.predict(X_test)\n",
    "    df = df.append({'Score': clf.score(X_test, y_test),\n",
    "                    'F1 Score': metrics.f1_score(y_test.values, y_pred, average= 'weighted'),\n",
    "                    'Precision Score': metrics.precision_score(y_test.values, y_pred, average= 'weighted'),\n",
    "                    'Recall Score':  metrics.recall_score(y_test.values, y_pred, average= 'weighted')}, ignore_index=True)\n",
    "    display(df.style.hide_index())\n",
    "\n",
    "def highlight_max(s):\n",
    "    is_max = s == s.max()\n",
    "    return ['background-color: SpringGreen' if v else '' for v in is_max]\n",
    "\n",
    "\n",
    "def Feature_Ranking(clf):\n",
    "    df = pd.DataFrame()\n",
    "    for n in range(2, X.shape[1]):\n",
    "        selector = RFE(estimator= clf, n_features_to_select=n, verbose=0)\n",
    "        selector.fit(X_train, y_train)\n",
    "        df = df.append({'Number of Features to Select': n,\n",
    "                        'Score':metrics.accuracy_score(y_test, selector.predict(X_test)),\n",
    "                        'Features': X.columns[selector.support_].tolist(),\n",
    "                        'Best Features':X.columns[selector.ranking_ == 1].tolist()}, ignore_index=True)\n",
    "\n",
    "    df = df[['Number of Features to Select', 'Score', 'Features', 'Best Features']]\n",
    "    display(df.style.apply(highlight_max, subset=['Score']))\n",
    "    return df.loc[df.Score == df.Score.max(), 'Features'].values[0]\n",
    "\n",
    "def ROC_Curve(clf, X_test = X_test):\n",
    "    # false positive rates, true positive rates and thresholds\n",
    "    fpr, tpr, threshold = metrics.roc_curve(y_test, clf.predict_proba(X_test)[:,1])\n",
    "\n",
    "    fig, ax = plt.subplots(1, 1, figsize=(5.5, 5.5))\n",
    "    _ = ax.plot(fpr, tpr, lw=2, label = 'AUC = %0.2f' % metrics.auc(fpr, tpr))\n",
    "    _ = ax.plot([0, 1], [0, 1],'r--', lw=2)\n",
    "    _ = ax.legend(loc = 'lower right', fontsize = 14)\n",
    "    _ = ax.set_xlim([0,1])\n",
    "    # _ = ax.set_ylim([0,1])\n",
    "    _ = ax.set_xlabel('False Positive Rate (FPR)')\n",
    "    _ = ax.set_ylabel('True Positive Rate (TPR)')"
   ]
  },
  {
   "cell_type": "markdown",
   "metadata": {},
   "source": [
    "For this set of data, we would like to implement Random Forest Classifier. which creates a set of decision trees from a randomly selected subset of the training set. It benefits from voting of different decision trees for classifying the final outputs."
   ]
  },
  {
   "cell_type": "code",
   "execution_count": 6,
   "metadata": {},
   "outputs": [
    {
     "data": {
      "text/html": [
       "<style  type=\"text/css\" >\n",
       "</style><table id=\"T_04c6808c_9e07_11ea_9615_50e08586bf81\" ><thead>    <tr>        <th class=\"col_heading level0 col0\" >F1 Score</th>        <th class=\"col_heading level0 col1\" >Precision Score</th>        <th class=\"col_heading level0 col2\" >Recall Score</th>        <th class=\"col_heading level0 col3\" >Score</th>    </tr></thead><tbody>\n",
       "                <tr>\n",
       "                                <td id=\"T_04c6808c_9e07_11ea_9615_50e08586bf81row0_col0\" class=\"data row0 col0\" >0.773707</td>\n",
       "                        <td id=\"T_04c6808c_9e07_11ea_9615_50e08586bf81row0_col1\" class=\"data row0 col1\" >0.773621</td>\n",
       "                        <td id=\"T_04c6808c_9e07_11ea_9615_50e08586bf81row0_col2\" class=\"data row0 col2\" >0.787033</td>\n",
       "                        <td id=\"T_04c6808c_9e07_11ea_9615_50e08586bf81row0_col3\" class=\"data row0 col3\" >0.787033</td>\n",
       "            </tr>\n",
       "    </tbody></table>"
      ],
      "text/plain": [
       "<pandas.io.formats.style.Styler at 0x22eeb37ae88>"
      ]
     },
     "metadata": {},
     "output_type": "display_data"
    },
    {
     "data": {
      "image/png": "[encoded data removed]",
      "text/plain": [
       "<Figure size 396x396 with 1 Axes>"
      ]
     },
     "metadata": {
      "needs_background": "light"
     },
     "output_type": "display_data"
    }
   ],
   "source": [
    "rfc = RandomForestClassifier()\n",
    "_ = rfc.fit(X_train,y_train)\n",
    "Performance(rfc)\n",
    "ROC_Curve(rfc)"
   ]
  },
  {
   "cell_type": "markdown",
   "metadata": {},
   "source": [
    "However, we only need to implement features that are useful for classifications. In this [article](https://hatefdastour.github.io/portfolio/statistical_modeling/Pima_Indians_Diabetes_Data_Classification_Feature_Importance.html), we demonstrated the importance of feature ranking."
   ]
  },
  {
   "cell_type": "code",
   "execution_count": 7,
   "metadata": {},
   "outputs": [
    {
     "data": {
      "text/html": [
       "<style  type=\"text/css\" >\n",
       "    #T_383c5b64_9e07_11ea_b3d7_50e08586bf81row18_col1 {\n",
       "            background-color:  SpringGreen;\n",
       "        }</style><table id=\"T_383c5b64_9e07_11ea_b3d7_50e08586bf81\" ><thead>    <tr>        <th class=\"blank level0\" ></th>        <th class=\"col_heading level0 col0\" >Number of Features to Select</th>        <th class=\"col_heading level0 col1\" >Score</th>        <th class=\"col_heading level0 col2\" >Features</th>        <th class=\"col_heading level0 col3\" >Best Features</th>    </tr></thead><tbody>\n",
       "                <tr>\n",
       "                        <th id=\"T_383c5b64_9e07_11ea_b3d7_50e08586bf81level0_row0\" class=\"row_heading level0 row0\" >0</th>\n",
       "                        <td id=\"T_383c5b64_9e07_11ea_b3d7_50e08586bf81row0_col0\" class=\"data row0 col0\" >2.000000</td>\n",
       "                        <td id=\"T_383c5b64_9e07_11ea_b3d7_50e08586bf81row0_col1\" class=\"data row0 col1\" >0.772362</td>\n",
       "                        <td id=\"T_383c5b64_9e07_11ea_b3d7_50e08586bf81row0_col2\" class=\"data row0 col2\" >['Monthly Charges', 'Total Charges']</td>\n",
       "                        <td id=\"T_383c5b64_9e07_11ea_b3d7_50e08586bf81row0_col3\" class=\"data row0 col3\" >['Monthly Charges', 'Total Charges']</td>\n",
       "            </tr>\n",
       "            <tr>\n",
       "                        <th id=\"T_383c5b64_9e07_11ea_b3d7_50e08586bf81level0_row1\" class=\"row_heading level0 row1\" >1</th>\n",
       "                        <td id=\"T_383c5b64_9e07_11ea_b3d7_50e08586bf81row1_col0\" class=\"data row1 col0\" >3.000000</td>\n",
       "                        <td id=\"T_383c5b64_9e07_11ea_b3d7_50e08586bf81row1_col1\" class=\"data row1 col1\" >0.773781</td>\n",
       "                        <td id=\"T_383c5b64_9e07_11ea_b3d7_50e08586bf81row1_col2\" class=\"data row1 col2\" >['Tenure', 'Monthly Charges', 'Total Charges']</td>\n",
       "                        <td id=\"T_383c5b64_9e07_11ea_b3d7_50e08586bf81row1_col3\" class=\"data row1 col3\" >['Tenure', 'Monthly Charges', 'Total Charges']</td>\n",
       "            </tr>\n",
       "            <tr>\n",
       "                        <th id=\"T_383c5b64_9e07_11ea_b3d7_50e08586bf81level0_row2\" class=\"row_heading level0 row2\" >2</th>\n",
       "                        <td id=\"T_383c5b64_9e07_11ea_b3d7_50e08586bf81row2_col0\" class=\"data row2 col0\" >4.000000</td>\n",
       "                        <td id=\"T_383c5b64_9e07_11ea_b3d7_50e08586bf81row2_col1\" class=\"data row2 col1\" >0.768102</td>\n",
       "                        <td id=\"T_383c5b64_9e07_11ea_b3d7_50e08586bf81row2_col2\" class=\"data row2 col2\" >['Tenure', 'Contract', 'Monthly Charges', 'Total Charges']</td>\n",
       "                        <td id=\"T_383c5b64_9e07_11ea_b3d7_50e08586bf81row2_col3\" class=\"data row2 col3\" >['Tenure', 'Contract', 'Monthly Charges', 'Total Charges']</td>\n",
       "            </tr>\n",
       "            <tr>\n",
       "                        <th id=\"T_383c5b64_9e07_11ea_b3d7_50e08586bf81level0_row3\" class=\"row_heading level0 row3\" >3</th>\n",
       "                        <td id=\"T_383c5b64_9e07_11ea_b3d7_50e08586bf81row3_col0\" class=\"data row3 col0\" >5.000000</td>\n",
       "                        <td id=\"T_383c5b64_9e07_11ea_b3d7_50e08586bf81row3_col1\" class=\"data row3 col1\" >0.767629</td>\n",
       "                        <td id=\"T_383c5b64_9e07_11ea_b3d7_50e08586bf81row3_col2\" class=\"data row3 col2\" >['Tenure', 'Internet Service', 'Contract', 'Monthly Charges', 'Total Charges']</td>\n",
       "                        <td id=\"T_383c5b64_9e07_11ea_b3d7_50e08586bf81row3_col3\" class=\"data row3 col3\" >['Tenure', 'Internet Service', 'Contract', 'Monthly Charges', 'Total Charges']</td>\n",
       "            </tr>\n",
       "            <tr>\n",
       "                        <th id=\"T_383c5b64_9e07_11ea_b3d7_50e08586bf81level0_row4\" class=\"row_heading level0 row4\" >4</th>\n",
       "                        <td id=\"T_383c5b64_9e07_11ea_b3d7_50e08586bf81row4_col0\" class=\"data row4 col0\" >6.000000</td>\n",
       "                        <td id=\"T_383c5b64_9e07_11ea_b3d7_50e08586bf81row4_col1\" class=\"data row4 col1\" >0.772362</td>\n",
       "                        <td id=\"T_383c5b64_9e07_11ea_b3d7_50e08586bf81row4_col2\" class=\"data row4 col2\" >['Tenure', 'Internet Service', 'Contract', 'Monthly Charges', 'Total Charges', 'Electronic check']</td>\n",
       "                        <td id=\"T_383c5b64_9e07_11ea_b3d7_50e08586bf81row4_col3\" class=\"data row4 col3\" >['Tenure', 'Internet Service', 'Contract', 'Monthly Charges', 'Total Charges', 'Electronic check']</td>\n",
       "            </tr>\n",
       "            <tr>\n",
       "                        <th id=\"T_383c5b64_9e07_11ea_b3d7_50e08586bf81level0_row5\" class=\"row_heading level0 row5\" >5</th>\n",
       "                        <td id=\"T_383c5b64_9e07_11ea_b3d7_50e08586bf81row5_col0\" class=\"data row5 col0\" >7.000000</td>\n",
       "                        <td id=\"T_383c5b64_9e07_11ea_b3d7_50e08586bf81row5_col1\" class=\"data row5 col1\" >0.777567</td>\n",
       "                        <td id=\"T_383c5b64_9e07_11ea_b3d7_50e08586bf81row5_col2\" class=\"data row5 col2\" >['Tenure', 'Internet Service', 'Contract', 'Paperless Billing', 'Monthly Charges', 'Total Charges', 'Electronic check']</td>\n",
       "                        <td id=\"T_383c5b64_9e07_11ea_b3d7_50e08586bf81row5_col3\" class=\"data row5 col3\" >['Tenure', 'Internet Service', 'Contract', 'Paperless Billing', 'Monthly Charges', 'Total Charges', 'Electronic check']</td>\n",
       "            </tr>\n",
       "            <tr>\n",
       "                        <th id=\"T_383c5b64_9e07_11ea_b3d7_50e08586bf81level0_row6\" class=\"row_heading level0 row6\" >6</th>\n",
       "                        <td id=\"T_383c5b64_9e07_11ea_b3d7_50e08586bf81row6_col0\" class=\"data row6 col0\" >8.000000</td>\n",
       "                        <td id=\"T_383c5b64_9e07_11ea_b3d7_50e08586bf81row6_col1\" class=\"data row6 col1\" >0.783247</td>\n",
       "                        <td id=\"T_383c5b64_9e07_11ea_b3d7_50e08586bf81row6_col2\" class=\"data row6 col2\" >['Gender', 'Tenure', 'Internet Service', 'Contract', 'Paperless Billing', 'Monthly Charges', 'Total Charges', 'Electronic check']</td>\n",
       "                        <td id=\"T_383c5b64_9e07_11ea_b3d7_50e08586bf81row6_col3\" class=\"data row6 col3\" >['Gender', 'Tenure', 'Internet Service', 'Contract', 'Paperless Billing', 'Monthly Charges', 'Total Charges', 'Electronic check']</td>\n",
       "            </tr>\n",
       "            <tr>\n",
       "                        <th id=\"T_383c5b64_9e07_11ea_b3d7_50e08586bf81level0_row7\" class=\"row_heading level0 row7\" >7</th>\n",
       "                        <td id=\"T_383c5b64_9e07_11ea_b3d7_50e08586bf81row7_col0\" class=\"data row7 col0\" >9.000000</td>\n",
       "                        <td id=\"T_383c5b64_9e07_11ea_b3d7_50e08586bf81row7_col1\" class=\"data row7 col1\" >0.782773</td>\n",
       "                        <td id=\"T_383c5b64_9e07_11ea_b3d7_50e08586bf81row7_col2\" class=\"data row7 col2\" >['Gender', 'Partner', 'Tenure', 'Internet Service', 'Contract', 'Paperless Billing', 'Monthly Charges', 'Total Charges', 'Electronic check']</td>\n",
       "                        <td id=\"T_383c5b64_9e07_11ea_b3d7_50e08586bf81row7_col3\" class=\"data row7 col3\" >['Gender', 'Partner', 'Tenure', 'Internet Service', 'Contract', 'Paperless Billing', 'Monthly Charges', 'Total Charges', 'Electronic check']</td>\n",
       "            </tr>\n",
       "            <tr>\n",
       "                        <th id=\"T_383c5b64_9e07_11ea_b3d7_50e08586bf81level0_row8\" class=\"row_heading level0 row8\" >8</th>\n",
       "                        <td id=\"T_383c5b64_9e07_11ea_b3d7_50e08586bf81row8_col0\" class=\"data row8 col0\" >10.000000</td>\n",
       "                        <td id=\"T_383c5b64_9e07_11ea_b3d7_50e08586bf81row8_col1\" class=\"data row8 col1\" >0.788452</td>\n",
       "                        <td id=\"T_383c5b64_9e07_11ea_b3d7_50e08586bf81row8_col2\" class=\"data row8 col2\" >['Gender', 'Partner', 'Tenure', 'Internet Service', 'Online Security', 'Contract', 'Paperless Billing', 'Monthly Charges', 'Total Charges', 'Electronic check']</td>\n",
       "                        <td id=\"T_383c5b64_9e07_11ea_b3d7_50e08586bf81row8_col3\" class=\"data row8 col3\" >['Gender', 'Partner', 'Tenure', 'Internet Service', 'Online Security', 'Contract', 'Paperless Billing', 'Monthly Charges', 'Total Charges', 'Electronic check']</td>\n",
       "            </tr>\n",
       "            <tr>\n",
       "                        <th id=\"T_383c5b64_9e07_11ea_b3d7_50e08586bf81level0_row9\" class=\"row_heading level0 row9\" >9</th>\n",
       "                        <td id=\"T_383c5b64_9e07_11ea_b3d7_50e08586bf81row9_col0\" class=\"data row9 col0\" >11.000000</td>\n",
       "                        <td id=\"T_383c5b64_9e07_11ea_b3d7_50e08586bf81row9_col1\" class=\"data row9 col1\" >0.781354</td>\n",
       "                        <td id=\"T_383c5b64_9e07_11ea_b3d7_50e08586bf81row9_col2\" class=\"data row9 col2\" >['Gender', 'Partner', 'Tenure', 'Internet Service', 'Online Security', 'Online Backup', 'Contract', 'Paperless Billing', 'Monthly Charges', 'Total Charges', 'Electronic check']</td>\n",
       "                        <td id=\"T_383c5b64_9e07_11ea_b3d7_50e08586bf81row9_col3\" class=\"data row9 col3\" >['Gender', 'Partner', 'Tenure', 'Internet Service', 'Online Security', 'Online Backup', 'Contract', 'Paperless Billing', 'Monthly Charges', 'Total Charges', 'Electronic check']</td>\n",
       "            </tr>\n",
       "            <tr>\n",
       "                        <th id=\"T_383c5b64_9e07_11ea_b3d7_50e08586bf81level0_row10\" class=\"row_heading level0 row10\" >10</th>\n",
       "                        <td id=\"T_383c5b64_9e07_11ea_b3d7_50e08586bf81row10_col0\" class=\"data row10 col0\" >12.000000</td>\n",
       "                        <td id=\"T_383c5b64_9e07_11ea_b3d7_50e08586bf81row10_col1\" class=\"data row10 col1\" >0.791292</td>\n",
       "                        <td id=\"T_383c5b64_9e07_11ea_b3d7_50e08586bf81row10_col2\" class=\"data row10 col2\" >['Gender', 'Partner', 'Tenure', 'Multiple Lines', 'Internet Service', 'Online Security', 'Online Backup', 'Contract', 'Paperless Billing', 'Monthly Charges', 'Total Charges', 'Electronic check']</td>\n",
       "                        <td id=\"T_383c5b64_9e07_11ea_b3d7_50e08586bf81row10_col3\" class=\"data row10 col3\" >['Gender', 'Partner', 'Tenure', 'Multiple Lines', 'Internet Service', 'Online Security', 'Online Backup', 'Contract', 'Paperless Billing', 'Monthly Charges', 'Total Charges', 'Electronic check']</td>\n",
       "            </tr>\n",
       "            <tr>\n",
       "                        <th id=\"T_383c5b64_9e07_11ea_b3d7_50e08586bf81level0_row11\" class=\"row_heading level0 row11\" >11</th>\n",
       "                        <td id=\"T_383c5b64_9e07_11ea_b3d7_50e08586bf81row11_col0\" class=\"data row11 col0\" >13.000000</td>\n",
       "                        <td id=\"T_383c5b64_9e07_11ea_b3d7_50e08586bf81row11_col1\" class=\"data row11 col1\" >0.787033</td>\n",
       "                        <td id=\"T_383c5b64_9e07_11ea_b3d7_50e08586bf81row11_col2\" class=\"data row11 col2\" >['Gender', 'Senior Citizen', 'Partner', 'Tenure', 'Multiple Lines', 'Internet Service', 'Online Security', 'Online Backup', 'Contract', 'Paperless Billing', 'Monthly Charges', 'Total Charges', 'Electronic check']</td>\n",
       "                        <td id=\"T_383c5b64_9e07_11ea_b3d7_50e08586bf81row11_col3\" class=\"data row11 col3\" >['Gender', 'Senior Citizen', 'Partner', 'Tenure', 'Multiple Lines', 'Internet Service', 'Online Security', 'Online Backup', 'Contract', 'Paperless Billing', 'Monthly Charges', 'Total Charges', 'Electronic check']</td>\n",
       "            </tr>\n",
       "            <tr>\n",
       "                        <th id=\"T_383c5b64_9e07_11ea_b3d7_50e08586bf81level0_row12\" class=\"row_heading level0 row12\" >12</th>\n",
       "                        <td id=\"T_383c5b64_9e07_11ea_b3d7_50e08586bf81row12_col0\" class=\"data row12 col0\" >14.000000</td>\n",
       "                        <td id=\"T_383c5b64_9e07_11ea_b3d7_50e08586bf81row12_col1\" class=\"data row12 col1\" >0.786086</td>\n",
       "                        <td id=\"T_383c5b64_9e07_11ea_b3d7_50e08586bf81row12_col2\" class=\"data row12 col2\" >['Gender', 'Partner', 'Dependents', 'Tenure', 'Multiple Lines', 'Internet Service', 'Online Security', 'Online Backup', 'Device Protection', 'Contract', 'Paperless Billing', 'Monthly Charges', 'Total Charges', 'Electronic check']</td>\n",
       "                        <td id=\"T_383c5b64_9e07_11ea_b3d7_50e08586bf81row12_col3\" class=\"data row12 col3\" >['Gender', 'Partner', 'Dependents', 'Tenure', 'Multiple Lines', 'Internet Service', 'Online Security', 'Online Backup', 'Device Protection', 'Contract', 'Paperless Billing', 'Monthly Charges', 'Total Charges', 'Electronic check']</td>\n",
       "            </tr>\n",
       "            <tr>\n",
       "                        <th id=\"T_383c5b64_9e07_11ea_b3d7_50e08586bf81level0_row13\" class=\"row_heading level0 row13\" >13</th>\n",
       "                        <td id=\"T_383c5b64_9e07_11ea_b3d7_50e08586bf81row13_col0\" class=\"data row13 col0\" >15.000000</td>\n",
       "                        <td id=\"T_383c5b64_9e07_11ea_b3d7_50e08586bf81row13_col1\" class=\"data row13 col1\" >0.791765</td>\n",
       "                        <td id=\"T_383c5b64_9e07_11ea_b3d7_50e08586bf81row13_col2\" class=\"data row13 col2\" >['Gender', 'Senior Citizen', 'Partner', 'Dependents', 'Tenure', 'Multiple Lines', 'Internet Service', 'Online Security', 'Online Backup', 'Tech Support', 'Contract', 'Paperless Billing', 'Monthly Charges', 'Total Charges', 'Electronic check']</td>\n",
       "                        <td id=\"T_383c5b64_9e07_11ea_b3d7_50e08586bf81row13_col3\" class=\"data row13 col3\" >['Gender', 'Senior Citizen', 'Partner', 'Dependents', 'Tenure', 'Multiple Lines', 'Internet Service', 'Online Security', 'Online Backup', 'Tech Support', 'Contract', 'Paperless Billing', 'Monthly Charges', 'Total Charges', 'Electronic check']</td>\n",
       "            </tr>\n",
       "            <tr>\n",
       "                        <th id=\"T_383c5b64_9e07_11ea_b3d7_50e08586bf81level0_row14\" class=\"row_heading level0 row14\" >14</th>\n",
       "                        <td id=\"T_383c5b64_9e07_11ea_b3d7_50e08586bf81row14_col0\" class=\"data row14 col0\" >16.000000</td>\n",
       "                        <td id=\"T_383c5b64_9e07_11ea_b3d7_50e08586bf81row14_col1\" class=\"data row14 col1\" >0.788926</td>\n",
       "                        <td id=\"T_383c5b64_9e07_11ea_b3d7_50e08586bf81row14_col2\" class=\"data row14 col2\" >['Gender', 'Senior Citizen', 'Partner', 'Dependents', 'Tenure', 'Multiple Lines', 'Internet Service', 'Online Security', 'Online Backup', 'Device Protection', 'Tech Support', 'Contract', 'Paperless Billing', 'Monthly Charges', 'Total Charges', 'Electronic check']</td>\n",
       "                        <td id=\"T_383c5b64_9e07_11ea_b3d7_50e08586bf81row14_col3\" class=\"data row14 col3\" >['Gender', 'Senior Citizen', 'Partner', 'Dependents', 'Tenure', 'Multiple Lines', 'Internet Service', 'Online Security', 'Online Backup', 'Device Protection', 'Tech Support', 'Contract', 'Paperless Billing', 'Monthly Charges', 'Total Charges', 'Electronic check']</td>\n",
       "            </tr>\n",
       "            <tr>\n",
       "                        <th id=\"T_383c5b64_9e07_11ea_b3d7_50e08586bf81level0_row15\" class=\"row_heading level0 row15\" >15</th>\n",
       "                        <td id=\"T_383c5b64_9e07_11ea_b3d7_50e08586bf81row15_col0\" class=\"data row15 col0\" >17.000000</td>\n",
       "                        <td id=\"T_383c5b64_9e07_11ea_b3d7_50e08586bf81row15_col1\" class=\"data row15 col1\" >0.791765</td>\n",
       "                        <td id=\"T_383c5b64_9e07_11ea_b3d7_50e08586bf81row15_col2\" class=\"data row15 col2\" >['Gender', 'Senior Citizen', 'Partner', 'Dependents', 'Tenure', 'Multiple Lines', 'Internet Service', 'Online Security', 'Online Backup', 'Device Protection', 'Tech Support', 'Streaming Movies', 'Contract', 'Paperless Billing', 'Monthly Charges', 'Total Charges', 'Electronic check']</td>\n",
       "                        <td id=\"T_383c5b64_9e07_11ea_b3d7_50e08586bf81row15_col3\" class=\"data row15 col3\" >['Gender', 'Senior Citizen', 'Partner', 'Dependents', 'Tenure', 'Multiple Lines', 'Internet Service', 'Online Security', 'Online Backup', 'Device Protection', 'Tech Support', 'Streaming Movies', 'Contract', 'Paperless Billing', 'Monthly Charges', 'Total Charges', 'Electronic check']</td>\n",
       "            </tr>\n",
       "            <tr>\n",
       "                        <th id=\"T_383c5b64_9e07_11ea_b3d7_50e08586bf81level0_row16\" class=\"row_heading level0 row16\" >16</th>\n",
       "                        <td id=\"T_383c5b64_9e07_11ea_b3d7_50e08586bf81row16_col0\" class=\"data row16 col0\" >18.000000</td>\n",
       "                        <td id=\"T_383c5b64_9e07_11ea_b3d7_50e08586bf81row16_col1\" class=\"data row16 col1\" >0.790819</td>\n",
       "                        <td id=\"T_383c5b64_9e07_11ea_b3d7_50e08586bf81row16_col2\" class=\"data row16 col2\" >['Gender', 'Senior Citizen', 'Partner', 'Dependents', 'Tenure', 'Multiple Lines', 'Internet Service', 'Online Security', 'Online Backup', 'Device Protection', 'Tech Support', 'Streaming TV', 'Streaming Movies', 'Contract', 'Paperless Billing', 'Monthly Charges', 'Total Charges', 'Electronic check']</td>\n",
       "                        <td id=\"T_383c5b64_9e07_11ea_b3d7_50e08586bf81row16_col3\" class=\"data row16 col3\" >['Gender', 'Senior Citizen', 'Partner', 'Dependents', 'Tenure', 'Multiple Lines', 'Internet Service', 'Online Security', 'Online Backup', 'Device Protection', 'Tech Support', 'Streaming TV', 'Streaming Movies', 'Contract', 'Paperless Billing', 'Monthly Charges', 'Total Charges', 'Electronic check']</td>\n",
       "            </tr>\n",
       "            <tr>\n",
       "                        <th id=\"T_383c5b64_9e07_11ea_b3d7_50e08586bf81level0_row17\" class=\"row_heading level0 row17\" >17</th>\n",
       "                        <td id=\"T_383c5b64_9e07_11ea_b3d7_50e08586bf81row17_col0\" class=\"data row17 col0\" >19.000000</td>\n",
       "                        <td id=\"T_383c5b64_9e07_11ea_b3d7_50e08586bf81row17_col1\" class=\"data row17 col1\" >0.792239</td>\n",
       "                        <td id=\"T_383c5b64_9e07_11ea_b3d7_50e08586bf81row17_col2\" class=\"data row17 col2\" >['Gender', 'Senior Citizen', 'Partner', 'Dependents', 'Tenure', 'Multiple Lines', 'Internet Service', 'Online Security', 'Online Backup', 'Device Protection', 'Tech Support', 'Streaming TV', 'Streaming Movies', 'Contract', 'Paperless Billing', 'Monthly Charges', 'Total Charges', 'Electronic check', 'Mailed check']</td>\n",
       "                        <td id=\"T_383c5b64_9e07_11ea_b3d7_50e08586bf81row17_col3\" class=\"data row17 col3\" >['Gender', 'Senior Citizen', 'Partner', 'Dependents', 'Tenure', 'Multiple Lines', 'Internet Service', 'Online Security', 'Online Backup', 'Device Protection', 'Tech Support', 'Streaming TV', 'Streaming Movies', 'Contract', 'Paperless Billing', 'Monthly Charges', 'Total Charges', 'Electronic check', 'Mailed check']</td>\n",
       "            </tr>\n",
       "            <tr>\n",
       "                        <th id=\"T_383c5b64_9e07_11ea_b3d7_50e08586bf81level0_row18\" class=\"row_heading level0 row18\" >18</th>\n",
       "                        <td id=\"T_383c5b64_9e07_11ea_b3d7_50e08586bf81row18_col0\" class=\"data row18 col0\" >20.000000</td>\n",
       "                        <td id=\"T_383c5b64_9e07_11ea_b3d7_50e08586bf81row18_col1\" class=\"data row18 col1\" >0.795551</td>\n",
       "                        <td id=\"T_383c5b64_9e07_11ea_b3d7_50e08586bf81row18_col2\" class=\"data row18 col2\" >['Gender', 'Senior Citizen', 'Partner', 'Dependents', 'Tenure', 'Multiple Lines', 'Internet Service', 'Online Security', 'Online Backup', 'Device Protection', 'Tech Support', 'Streaming TV', 'Streaming Movies', 'Contract', 'Paperless Billing', 'Monthly Charges', 'Total Charges', 'Bank transfer (automatic)', 'Electronic check', 'Mailed check']</td>\n",
       "                        <td id=\"T_383c5b64_9e07_11ea_b3d7_50e08586bf81row18_col3\" class=\"data row18 col3\" >['Gender', 'Senior Citizen', 'Partner', 'Dependents', 'Tenure', 'Multiple Lines', 'Internet Service', 'Online Security', 'Online Backup', 'Device Protection', 'Tech Support', 'Streaming TV', 'Streaming Movies', 'Contract', 'Paperless Billing', 'Monthly Charges', 'Total Charges', 'Bank transfer (automatic)', 'Electronic check', 'Mailed check']</td>\n",
       "            </tr>\n",
       "            <tr>\n",
       "                        <th id=\"T_383c5b64_9e07_11ea_b3d7_50e08586bf81level0_row19\" class=\"row_heading level0 row19\" >19</th>\n",
       "                        <td id=\"T_383c5b64_9e07_11ea_b3d7_50e08586bf81row19_col0\" class=\"data row19 col0\" >21.000000</td>\n",
       "                        <td id=\"T_383c5b64_9e07_11ea_b3d7_50e08586bf81row19_col1\" class=\"data row19 col1\" >0.788452</td>\n",
       "                        <td id=\"T_383c5b64_9e07_11ea_b3d7_50e08586bf81row19_col2\" class=\"data row19 col2\" >['Gender', 'Senior Citizen', 'Partner', 'Dependents', 'Tenure', 'Multiple Lines', 'Internet Service', 'Online Security', 'Online Backup', 'Device Protection', 'Tech Support', 'Streaming TV', 'Streaming Movies', 'Contract', 'Paperless Billing', 'Monthly Charges', 'Total Charges', 'Bank transfer (automatic)', 'Credit card (automatic)', 'Electronic check', 'Mailed check']</td>\n",
       "                        <td id=\"T_383c5b64_9e07_11ea_b3d7_50e08586bf81row19_col3\" class=\"data row19 col3\" >['Gender', 'Senior Citizen', 'Partner', 'Dependents', 'Tenure', 'Multiple Lines', 'Internet Service', 'Online Security', 'Online Backup', 'Device Protection', 'Tech Support', 'Streaming TV', 'Streaming Movies', 'Contract', 'Paperless Billing', 'Monthly Charges', 'Total Charges', 'Bank transfer (automatic)', 'Credit card (automatic)', 'Electronic check', 'Mailed check']</td>\n",
       "            </tr>\n",
       "    </tbody></table>"
      ],
      "text/plain": [
       "<pandas.io.formats.style.Styler at 0x22ef1052ac8>"
      ]
     },
     "metadata": {},
     "output_type": "display_data"
    }
   ],
   "source": [
    "Best_Features = Feature_Ranking(rfc)"
   ]
  },
  {
   "cell_type": "markdown",
   "metadata": {},
   "source": [
    "Thus, the best features:"
   ]
  },
  {
   "cell_type": "code",
   "execution_count": 8,
   "metadata": {},
   "outputs": [
    {
     "name": "stdout",
     "output_type": "stream",
     "text": [
      "\u001b[40m\u001b[36m\u001b[22mBest Features:\u001b[0m Gender, Senior Citizen, Partner, Dependents, Tenure, Multiple Lines, Internet Service, Online Security, Online Backup, Device Protection, Tech Support, Streaming TV, Streaming Movies, Contract, Paperless Billing, Monthly Charges, Total Charges, Bank transfer (automatic), Electronic check, Mailed check:\n"
     ]
    }
   ],
   "source": [
    "print(Back.BLACK + Fore.CYAN + Style.NORMAL + 'Best Features:'+ Style.RESET_ALL + ' %s:' % ', '.join(Best_Features))"
   ]
  },
  {
   "cell_type": "code",
   "execution_count": 9,
   "metadata": {},
   "outputs": [
    {
     "data": {
      "text/html": [
       "<style  type=\"text/css\" >\n",
       "</style><table id=\"T_3880905a_9e07_11ea_a0b0_50e08586bf81\" ><thead>    <tr>        <th class=\"col_heading level0 col0\" >F1 Score</th>        <th class=\"col_heading level0 col1\" >Precision Score</th>        <th class=\"col_heading level0 col2\" >Recall Score</th>        <th class=\"col_heading level0 col3\" >Score</th>    </tr></thead><tbody>\n",
       "                <tr>\n",
       "                                <td id=\"T_3880905a_9e07_11ea_a0b0_50e08586bf81row0_col0\" class=\"data row0 col0\" >0.777324</td>\n",
       "                        <td id=\"T_3880905a_9e07_11ea_a0b0_50e08586bf81row0_col1\" class=\"data row0 col1\" >0.777512</td>\n",
       "                        <td id=\"T_3880905a_9e07_11ea_a0b0_50e08586bf81row0_col2\" class=\"data row0 col2\" >0.790345</td>\n",
       "                        <td id=\"T_3880905a_9e07_11ea_a0b0_50e08586bf81row0_col3\" class=\"data row0 col3\" >0.790345</td>\n",
       "            </tr>\n",
       "    </tbody></table>"
      ],
      "text/plain": [
       "<pandas.io.formats.style.Styler at 0x22ef0983608>"
      ]
     },
     "metadata": {},
     "output_type": "display_data"
    },
    {
     "data": {
      "image/png": "[encoded data removed]",
      "text/plain": [
       "<Figure size 396x396 with 1 Axes>"
      ]
     },
     "metadata": {
      "needs_background": "light"
     },
     "output_type": "display_data"
    }
   ],
   "source": [
    "rfc = RandomForestClassifier()\n",
    "_ = rfc.fit(X_train[Best_Features],y_train)\n",
    "Performance(rfc, X_test[Best_Features])\n",
    "ROC_Curve(rfc, X_test[Best_Features])"
   ]
  },
  {
   "cell_type": "markdown",
   "metadata": {},
   "source": [
    "The main classification metrics:"
   ]
  },
  {
   "cell_type": "code",
   "execution_count": 10,
   "metadata": {},
   "outputs": [
    {
     "data": {
      "text/html": [
       "<div>\n",
       "<style scoped>\n",
       "    .dataframe tbody tr th:only-of-type {\n",
       "        vertical-align: middle;\n",
       "    }\n",
       "\n",
       "    .dataframe tbody tr th {\n",
       "        vertical-align: top;\n",
       "    }\n",
       "\n",
       "    .dataframe thead th {\n",
       "        text-align: right;\n",
       "    }\n",
       "</style>\n",
       "<table border=\"1\" class=\"dataframe\">\n",
       "  <thead>\n",
       "    <tr style=\"text-align: right;\">\n",
       "      <th></th>\n",
       "      <th>Remanined</th>\n",
       "      <th>Churned</th>\n",
       "      <th>accuracy</th>\n",
       "      <th>macro avg</th>\n",
       "      <th>weighted avg</th>\n",
       "    </tr>\n",
       "  </thead>\n",
       "  <tbody>\n",
       "    <tr>\n",
       "      <th>precision</th>\n",
       "      <td>0.820093</td>\n",
       "      <td>0.663342</td>\n",
       "      <td>0.790345</td>\n",
       "      <td>0.741718</td>\n",
       "      <td>0.777512</td>\n",
       "    </tr>\n",
       "    <tr>\n",
       "      <th>recall</th>\n",
       "      <td>0.912281</td>\n",
       "      <td>0.463415</td>\n",
       "      <td>0.790345</td>\n",
       "      <td>0.687848</td>\n",
       "      <td>0.790345</td>\n",
       "    </tr>\n",
       "    <tr>\n",
       "      <th>f1-score</th>\n",
       "      <td>0.863734</td>\n",
       "      <td>0.545641</td>\n",
       "      <td>0.790345</td>\n",
       "      <td>0.704688</td>\n",
       "      <td>0.777324</td>\n",
       "    </tr>\n",
       "    <tr>\n",
       "      <th>support</th>\n",
       "      <td>1539.000000</td>\n",
       "      <td>574.000000</td>\n",
       "      <td>0.790345</td>\n",
       "      <td>2113.000000</td>\n",
       "      <td>2113.000000</td>\n",
       "    </tr>\n",
       "  </tbody>\n",
       "</table>\n",
       "</div>"
      ],
      "text/plain": [
       "             Remanined     Churned  accuracy    macro avg  weighted avg\n",
       "precision     0.820093    0.663342  0.790345     0.741718      0.777512\n",
       "recall        0.912281    0.463415  0.790345     0.687848      0.790345\n",
       "f1-score      0.863734    0.545641  0.790345     0.704688      0.777324\n",
       "support    1539.000000  574.000000  0.790345  2113.000000   2113.000000"
      ]
     },
     "execution_count": 10,
     "metadata": {},
     "output_type": "execute_result"
    }
   ],
   "source": [
    "pd.DataFrame(metrics.classification_report(y_test,rfc.predict(X_test[Best_Features]),\n",
    "                                   output_dict = True, target_names = Labels))"
   ]
  },
  {
   "cell_type": "markdown",
   "metadata": {},
   "source": [
    "A confusion matrix allows the visualization of the performance of a classification model."
   ]
  },
  {
   "cell_type": "code",
   "execution_count": 11,
   "metadata": {},
   "outputs": [
    {
     "data": {
      "image/png": "[encoded data removed]",
      "text/plain": [
       "<Figure size 864x288 with 4 Axes>"
      ]
     },
     "metadata": {
      "needs_background": "light"
     },
     "output_type": "display_data"
    },
    {
     "data": {
      "image/png": "[encoded data removed]",
      "text/plain": [
       "<Figure size 864x288 with 4 Axes>"
      ]
     },
     "metadata": {
      "needs_background": "light"
     },
     "output_type": "display_data"
    }
   ],
   "source": [
    "# Train set\n",
    "y_pred = rfc.predict(X_train[Best_Features])\n",
    "Confusion_Matrix = metrics.confusion_matrix(y_train, y_pred)\n",
    "\n",
    "fig, ax = plt.subplots(1, 2, figsize=(12, 4))\n",
    "fig.suptitle('Train Set', fontsize = 18)\n",
    "_ = sns.heatmap(Confusion_Matrix, annot=True, annot_kws={\"size\": 14}, cmap=\"Blues\", ax = ax[0],\n",
    "               linewidths = 0.2, cbar_kws={\"shrink\": 1})\n",
    "_ = ax[0].set_xlabel('Predicted labels')\n",
    "_ = ax[0].set_ylabel('True labels'); \n",
    "_ = ax[0].set_title('Confusion Matrix');\n",
    "_ = ax[0].xaxis.set_ticklabels(Labels)\n",
    "_ = ax[0].yaxis.set_ticklabels(Labels)\n",
    "\n",
    "Confusion_Matrix = Confusion_Matrix.astype('float') / Confusion_Matrix.sum(axis=1)[:, np.newaxis]\n",
    "_ = sns.heatmap(Confusion_Matrix, annot=True, annot_kws={\"size\": 14}, cmap=\"Greens\", ax = ax[1],\n",
    "               linewidths = 0.2, vmin=0, vmax=1, cbar_kws={\"shrink\": 1})\n",
    "_ = ax[1].set_xlabel('Predicted labels')\n",
    "_ = ax[1].set_ylabel('True labels'); \n",
    "_ = ax[1].set_title('Normalized Confusion Matrix');\n",
    "_ = ax[1].xaxis.set_ticklabels(Labels)\n",
    "_ = ax[1].yaxis.set_ticklabels(Labels)\n",
    "\n",
    "# Test set\n",
    "y_pred = rfc.predict(X_test[Best_Features])\n",
    "Confusion_Matrix = metrics.confusion_matrix(y_test, y_pred)\n",
    "\n",
    "fig, ax = plt.subplots(1, 2, figsize=(12, 4))\n",
    "fig.suptitle('Test Set', fontsize = 18)\n",
    "_ = sns.heatmap(Confusion_Matrix, annot=True, annot_kws={\"size\": 14}, cmap=\"Blues\", ax = ax[0],\n",
    "                linewidths = 0.2, cbar_kws={\"shrink\": 1})\n",
    "_ = ax[0].set_xlabel('Predicted labels')\n",
    "_ = ax[0].set_ylabel('True labels'); \n",
    "_ = ax[0].set_title('Confusion Matrix');\n",
    "_ = ax[0].xaxis.set_ticklabels(Labels)\n",
    "_ = ax[0].yaxis.set_ticklabels(Labels)\n",
    "\n",
    "Confusion_Matrix = Confusion_Matrix.astype('float') / Confusion_Matrix.sum(axis=1)[:, np.newaxis]\n",
    "_ = sns.heatmap(Confusion_Matrix, annot=True, annot_kws={\"size\": 14}, cmap=\"Greens\", ax = ax[1],\n",
    "               linewidths = 0.2, vmin=0, vmax=1, cbar_kws={\"shrink\": 1})\n",
    "_ = ax[1].set_xlabel('Predicted labels')\n",
    "_ = ax[1].set_ylabel('True labels'); \n",
    "_ = ax[1].set_title('Normalized Confusion Matrix');\n",
    "_ = ax[1].xaxis.set_ticklabels(Labels)\n",
    "_ = ax[1].yaxis.set_ticklabels(Labels)"
   ]
  },
  {
   "cell_type": "markdown",
   "metadata": {},
   "source": [
    "# Predictions\n",
    "\n",
    "Now for any given dataset, we can predict churn"
   ]
  },
  {
   "cell_type": "code",
   "execution_count": 12,
   "metadata": {},
   "outputs": [
    {
     "data": {
      "text/html": [
       "<div>\n",
       "<style scoped>\n",
       "    .dataframe tbody tr th:only-of-type {\n",
       "        vertical-align: middle;\n",
       "    }\n",
       "\n",
       "    .dataframe tbody tr th {\n",
       "        vertical-align: top;\n",
       "    }\n",
       "\n",
       "    .dataframe thead th {\n",
       "        text-align: right;\n",
       "    }\n",
       "</style>\n",
       "<table border=\"1\" class=\"dataframe\">\n",
       "  <thead>\n",
       "    <tr style=\"text-align: right;\">\n",
       "      <th></th>\n",
       "      <th>customer ID</th>\n",
       "      <th>Predicted Status</th>\n",
       "      <th>Remanined Probability</th>\n",
       "      <th>Churned Probability</th>\n",
       "    </tr>\n",
       "  </thead>\n",
       "  <tbody>\n",
       "    <tr>\n",
       "      <th>0</th>\n",
       "      <td>6457-GIRWB</td>\n",
       "      <td>Churned</td>\n",
       "      <td>0.00</td>\n",
       "      <td>1.00</td>\n",
       "    </tr>\n",
       "    <tr>\n",
       "      <th>1</th>\n",
       "      <td>5397-NSKQG</td>\n",
       "      <td>Remanined</td>\n",
       "      <td>0.96</td>\n",
       "      <td>0.04</td>\n",
       "    </tr>\n",
       "    <tr>\n",
       "      <th>2</th>\n",
       "      <td>0701-TJSEF</td>\n",
       "      <td>Remanined</td>\n",
       "      <td>0.88</td>\n",
       "      <td>0.12</td>\n",
       "    </tr>\n",
       "    <tr>\n",
       "      <th>3</th>\n",
       "      <td>9720-JJJOR</td>\n",
       "      <td>Remanined</td>\n",
       "      <td>0.90</td>\n",
       "      <td>0.10</td>\n",
       "    </tr>\n",
       "    <tr>\n",
       "      <th>4</th>\n",
       "      <td>7241-AJHFS</td>\n",
       "      <td>Remanined</td>\n",
       "      <td>0.82</td>\n",
       "      <td>0.18</td>\n",
       "    </tr>\n",
       "    <tr>\n",
       "      <th>...</th>\n",
       "      <td>...</td>\n",
       "      <td>...</td>\n",
       "      <td>...</td>\n",
       "      <td>...</td>\n",
       "    </tr>\n",
       "    <tr>\n",
       "      <th>699</th>\n",
       "      <td>8617-ENBDS</td>\n",
       "      <td>Remanined</td>\n",
       "      <td>0.78</td>\n",
       "      <td>0.22</td>\n",
       "    </tr>\n",
       "    <tr>\n",
       "      <th>700</th>\n",
       "      <td>9938-PRCVK</td>\n",
       "      <td>Remanined</td>\n",
       "      <td>1.00</td>\n",
       "      <td>0.00</td>\n",
       "    </tr>\n",
       "    <tr>\n",
       "      <th>701</th>\n",
       "      <td>8267-KFGYD</td>\n",
       "      <td>Remanined</td>\n",
       "      <td>0.92</td>\n",
       "      <td>0.08</td>\n",
       "    </tr>\n",
       "    <tr>\n",
       "      <th>702</th>\n",
       "      <td>9050-IKDZA</td>\n",
       "      <td>Churned</td>\n",
       "      <td>0.13</td>\n",
       "      <td>0.87</td>\n",
       "    </tr>\n",
       "    <tr>\n",
       "      <th>703</th>\n",
       "      <td>2446-BEGGB</td>\n",
       "      <td>Churned</td>\n",
       "      <td>0.03</td>\n",
       "      <td>0.97</td>\n",
       "    </tr>\n",
       "  </tbody>\n",
       "</table>\n",
       "<p>704 rows × 4 columns</p>\n",
       "</div>"
      ],
      "text/plain": [
       "    customer ID Predicted Status  Remanined Probability  Churned Probability\n",
       "0    6457-GIRWB          Churned                   0.00                 1.00\n",
       "1    5397-NSKQG        Remanined                   0.96                 0.04\n",
       "2    0701-TJSEF        Remanined                   0.88                 0.12\n",
       "3    9720-JJJOR        Remanined                   0.90                 0.10\n",
       "4    7241-AJHFS        Remanined                   0.82                 0.18\n",
       "..          ...              ...                    ...                  ...\n",
       "699  8617-ENBDS        Remanined                   0.78                 0.22\n",
       "700  9938-PRCVK        Remanined                   1.00                 0.00\n",
       "701  8267-KFGYD        Remanined                   0.92                 0.08\n",
       "702  9050-IKDZA          Churned                   0.13                 0.87\n",
       "703  2446-BEGGB          Churned                   0.03                 0.97\n",
       "\n",
       "[704 rows x 4 columns]"
      ]
     },
     "metadata": {},
     "output_type": "display_data"
    }
   ],
   "source": [
    "Sample = df.sample(frac = 0.1)\n",
    "X_sample = Sample.drop(columns = [Target])\n",
    "X_sample = pd.DataFrame(scaler.transform(X_sample), columns = X.columns)\n",
    "y_pred = rfc.predict(X_sample[Best_Features])\n",
    "y_pred_proba = rfc.predict_proba(X_sample[Best_Features])\n",
    "y_pred = pd.Series(y_pred).to_frame('Predicted Status').applymap(lambda x: Labels[0] if x ==0 else  Labels[1])\n",
    "y_pred_proba = pd.DataFrame(y_pred_proba,columns = [x + ' Probability' for x in Labels])\n",
    "Predictions = pd.concat([Data.loc[Sample.index, 'customer ID'].reset_index(drop = True), y_pred, y_pred_proba], axis = 1)\n",
    "display(Predictions)"
   ]
  },
  {
   "cell_type": "markdown",
   "metadata": {},
   "source": [
    "***"
   ]
  }
 ],
 "metadata": {
  "kernelspec": {
   "display_name": "Python 3",
   "language": "python",
   "name": "python3"
  },
  "language_info": {
   "codemirror_mode": {
    "name": "ipython",
    "version": 3
   },
   "file_extension": ".py",
   "mimetype": "text/x-python",
   "name": "python",
   "nbconvert_exporter": "python",
   "pygments_lexer": "ipython3",
   "version": "3.7.7"
  }
 },
 "nbformat": 4,
 "nbformat_minor": 4
}
