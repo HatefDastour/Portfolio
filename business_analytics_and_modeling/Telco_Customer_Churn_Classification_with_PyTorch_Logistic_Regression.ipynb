{
 "cells": [
  {
   "cell_type": "code",
   "execution_count": 1,
   "metadata": {},
   "outputs": [],
   "source": [
    "# Computations\n",
    "import numpy as np\n",
    "import pandas as pd\n",
    "from scipy.stats import norm\n",
    "\n",
    "# preprocessing\n",
    "from sklearn.preprocessing import StandardScaler\n",
    "\n",
    "# sklearn\n",
    "from sklearn.metrics import classification_report, accuracy_score, f1_score, precision_score, recall_score, confusion_matrix\n",
    "from sklearn.model_selection import train_test_split\n",
    "\n",
    "# Pytorch\n",
    "import torch\n",
    "from torch.autograd import Variable\n",
    "import torch.nn as nn \n",
    "import torchvision.transforms as transforms\n",
    "\n",
    "# Visualisation libraries\n",
    "\n",
    "## Text\n",
    "from colorama import Fore, Back, Style\n",
    "from IPython.display import Image, display, Markdown, Latex\n",
    "\n",
    "## progress bar\n",
    "import progressbar\n",
    "\n",
    "## seaborn\n",
    "import seaborn as sns\n",
    "sns.set_context('paper', rc={'font.size':12,'axes.titlesize':14,'axes.labelsize':12})\n",
    "sns.set_style('white')\n",
    "\n",
    "## matplotlib\n",
    "import matplotlib.pyplot as plt\n",
    "from matplotlib.patches import Ellipse, Polygon\n",
    "import matplotlib.gridspec as gridspec\n",
    "import matplotlib.colors\n",
    "from pylab import rcParams\n",
    "plt.style.use('seaborn-whitegrid')\n",
    "plt.rcParams['figure.figsize'] = 14, 8\n",
    "plt.rcParams['axes.labelsize'] = 14\n",
    "plt.rcParams['xtick.labelsize'] = 12\n",
    "plt.rcParams['ytick.labelsize'] = 12\n",
    "plt.rcParams['text.color'] = 'k'\n",
    "%matplotlib inline\n",
    "\n",
    "## missingno\n",
    "import missingno as msno\n",
    "\n",
    "import warnings\n",
    "warnings.filterwarnings(\"ignore\")"
   ]
  },
  {
   "cell_type": "markdown",
   "metadata": {},
   "source": [
    "<div class=\"alert alert-block alert-info\">\n",
    "<font size=\"+3\"><b>\n",
    "Telco Customer Churn\n",
    "</b></font>\n",
    "</div>\n",
    "\n",
    "\n",
    "In this article, we analyze and predict customer churn for [Telco Customer Churn data](https://www.kaggle.com/blastchar/telco-customer-churn).\n",
    "\n",
    "### Dataset\n",
    "\n",
    "* Customers who left within the last month – the column is called Churn\n",
    "* Services that each customer has signed up for – phone, multiple lines, internet, online security, online backup, device * protection, tech support, and streaming TV and movies\n",
    "* Customer account information – how long they’ve been a customer, contract, payment method, paperless billing, monthly charges, and total charges\n",
    "* Demographic info about customers – gender, age range, and if they have partners and dependents\n",
    "\n",
    "| Columns     | Description     |\n",
    "|------------------    |---------------------------------------------------------------------------------------------------------------------------------    |\n",
    "| customerID     | Customer ID     |\n",
    "| gender     | Whether the customer is a male or a female     |\n",
    "| SeniorCitizen     | Whether the customer is a senior citizen or not (1, 0)     |\n",
    "| Partner     | Whether the customer has a partner or not (Yes, No)     |\n",
    "| Dependents     | Whether the customer has dependents or not (Yes, No)     |\n",
    "| tenure     | Number of months the customer has stayed with the company     |\n",
    "| PhoneService     | Whether the customer has a phone service or not (Yes, No)     |\n",
    "| MultipleLines     | Whether the customer has multiple lines or not (Yes, No, No phone service)     |\n",
    "| InternetService     | Customer’s internet service provider (DSL, Fiber optic, No)     |\n",
    "| OnlineSecurity     | Whether the customer has online security or not (Yes, No, No internet service)     |\n",
    "| OnlineBackup     | Whether the customer has an online backup or not (Yes, No, No internet service)     |\n",
    "| DeviceProtection     | Whether the customer has device protection or not (Yes, No, No internet service)     |\n",
    "| TechSupport     | Whether the customer has tech support or not (Yes, No, No internet service)     |\n",
    "| StreamingTV     | Whether the customer has streaming TV or not (Yes, No, No internet service)     |\n",
    "| StreamingMovies     | Whether the customer has streaming movies or not (Yes, No, No internet service)     |\n",
    "| Contract     | The contract term of the customer (Month-to-month, One year, Two years)     |\n",
    "| PaperlessBilling     | Whether the customer has paperless billing or not (Yes, No)     |\n",
    "| PaymentMethod     | The customer’s payment method (Electronic check, Mailed check, Bank transfer (automatic), Credit card (automatic))     |\n",
    "| MonthlyCharges     | The amount charged to the customer monthly     |\n",
    "| TotalCharges     | The total amount charged to the customer     |\n",
    "| Churn     | Whether the customer churned or not (Yes or No)     |"
   ]
  },
  {
   "cell_type": "markdown",
   "metadata": {},
   "source": [
    "#### Loading the Dataset"
   ]
  },
  {
   "cell_type": "code",
   "execution_count": 2,
   "metadata": {},
   "outputs": [],
   "source": [
    "Data = pd.read_csv('telco-customer-churn/WA_Fn-UseC_-Telco-Customer-Churn_clean.csv')"
   ]
  },
  {
   "cell_type": "markdown",
   "metadata": {},
   "source": [
    "# Modeling"
   ]
  },
  {
   "cell_type": "code",
   "execution_count": 3,
   "metadata": {},
   "outputs": [
    {
     "data": {
      "text/html": [
       "<div>\n",
       "<style scoped>\n",
       "    .dataframe tbody tr th:only-of-type {\n",
       "        vertical-align: middle;\n",
       "    }\n",
       "\n",
       "    .dataframe tbody tr th {\n",
       "        vertical-align: top;\n",
       "    }\n",
       "\n",
       "    .dataframe thead th {\n",
       "        text-align: right;\n",
       "    }\n",
       "</style>\n",
       "<table border=\"1\" class=\"dataframe\">\n",
       "  <thead>\n",
       "    <tr style=\"text-align: right;\">\n",
       "      <th>Set</th>\n",
       "      <th>X_train</th>\n",
       "      <th>X_test</th>\n",
       "      <th>y_train</th>\n",
       "      <th>y_test</th>\n",
       "    </tr>\n",
       "  </thead>\n",
       "  <tbody>\n",
       "    <tr>\n",
       "      <th>Array Shape</th>\n",
       "      <td>(4930, 22)</td>\n",
       "      <td>(2113, 22)</td>\n",
       "      <td>(4930,)</td>\n",
       "      <td>(2113,)</td>\n",
       "    </tr>\n",
       "  </tbody>\n",
       "</table>\n",
       "</div>"
      ],
      "text/plain": [
       "Set             X_train      X_test  y_train   y_test\n",
       "Array Shape  (4930, 22)  (2113, 22)  (4930,)  (2113,)"
      ]
     },
     "metadata": {},
     "output_type": "display_data"
    }
   ],
   "source": [
    "df = Data.drop(columns = ['customer ID'])\n",
    "Target = 'Churn'\n",
    "X = df.drop(columns = [Target]).values\n",
    "y = df[Target].astype(float).values\n",
    "X_train, X_test, y_train, y_test = train_test_split(X, y, test_size=0.3, random_state=42)\n",
    "\n",
    "display(pd.DataFrame(data={'Set':['X_train','X_test','y_train','y_test'],\n",
    "               'Array Shape':[X_train.shape, X_test.shape, y_train.shape, y_test.shape]}).set_index('Set').T)\n",
    "Labels = ['Remanined', 'Churned']"
   ]
  },
  {
   "cell_type": "markdown",
   "metadata": {},
   "source": [
    "Furthermore, we would like to standardize features by removing the mean and scaling to unit variance. In this [article](https://hatefdastour.github.io/portfolio/statistical_modeling/Pima_Indians_Diabetes_Data_Classification.html), we demonstrated the benefits of scaling data using [**StandardScaler()**](https://scikit-learn.org/stable/modules/generated/sklearn.preprocessing.StandardScaler.html)."
   ]
  },
  {
   "cell_type": "code",
   "execution_count": 4,
   "metadata": {},
   "outputs": [],
   "source": [
    "scaler = StandardScaler()\n",
    "_ = scaler.fit(X)\n",
    "X_train = scaler.transform(X_train)\n",
    "X_test = scaler.transform(X_test)"
   ]
  },
  {
   "cell_type": "code",
   "execution_count": 5,
   "metadata": {},
   "outputs": [],
   "source": [
    "if torch.cuda.is_available():\n",
    "    X_train_tensor = Variable(torch.from_numpy(X_train).cuda())\n",
    "    y_train_tensor = Variable(torch.from_numpy(y_train).type(torch.LongTensor).cuda())\n",
    "    X_test_tensor = Variable(torch.from_numpy(X_test).cuda())\n",
    "    y_test_tensor = Variable(torch.from_numpy(y_test).type(torch.LongTensor).cuda())\n",
    "else:\n",
    "    X_train_tensor = Variable(torch.from_numpy(X_train))\n",
    "    y_train_tensor = Variable(torch.from_numpy(y_train).type(torch.LongTensor))\n",
    "    X_test_tensor = Variable(torch.from_numpy(X_test))\n",
    "    y_test_tensor = Variable(torch.from_numpy(y_test).type(torch.LongTensor))"
   ]
  },
  {
   "cell_type": "code",
   "execution_count": 6,
   "metadata": {},
   "outputs": [],
   "source": [
    "Batch_size = 100\n",
    "iteration_number = 1e4\n",
    "\n",
    "epochs_number = int(iteration_number / (len(X_train) / Batch_size))\n",
    "\n",
    "# Pytorch train and test sets\n",
    "Train_set = torch.utils.data.TensorDataset(X_train_tensor, y_train_tensor)\n",
    "Test_set = torch.utils.data.TensorDataset(X_test_tensor, y_test_tensor)\n",
    "\n",
    "# data loader\n",
    "train_loader = torch.utils.data.DataLoader(Train_set, batch_size = Batch_size, shuffle = False)\n",
    "test_loader = torch.utils.data.DataLoader(Train_set, batch_size = Batch_size, shuffle = False)\n",
    "\n",
    "del X_train_tensor, y_train_tensor, y_test_tensor, Train_set, Test_set"
   ]
  },
  {
   "cell_type": "markdown",
   "metadata": {},
   "source": [
    "## PyTorch Logistic Regression"
   ]
  },
  {
   "cell_type": "markdown",
   "metadata": {},
   "source": [
    "We would like to try the logistic regression iteratively using an optimization algorithm. The algorithm at each iteration uses the [Cross-Entropy Loss](https://ml-cheatsheet.readthedocs.io/en/latest/loss_functions.html) to measure the loss, and then the gradient and the model update is calculated. At the end of this iterative process, we would reach a better level of agreement between test and predicted sets since the error would be lower from that of the first step."
   ]
  },
  {
   "cell_type": "code",
   "execution_count": 7,
   "metadata": {},
   "outputs": [
    {
     "name": "stderr",
     "output_type": "stream",
     "text": [
      "|=========================================================================|100%\n"
     ]
    }
   ],
   "source": [
    "class LogisticRegressionModel(torch.nn.Module):\n",
    "    def __init__(self, input_Size, output_Size):\n",
    "        super(LogisticRegressionModel, self).__init__()\n",
    "        self.linear = torch.nn.Linear(input_Size, output_Size)\n",
    "    \n",
    "    def forward(self, x):\n",
    "        out = self.linear(x)\n",
    "        return out\n",
    "\n",
    "input_Size, output_Size = len(X[0]), len(np.unique(y))\n",
    "\n",
    "# model\n",
    "model = LogisticRegressionModel(input_Size, output_Size)\n",
    "\n",
    "# GPU\n",
    "if torch.cuda.is_available():\n",
    "    model.cuda()\n",
    "\n",
    "# Cross Entropy Loss \n",
    "CEL= nn.CrossEntropyLoss()\n",
    "\n",
    "# Optimizer \n",
    "learning_rate = 1e-2\n",
    "optimizer = torch.optim.SGD(model.parameters(), lr=learning_rate)\n",
    "\n",
    "# Traning the Model\n",
    "Count = 0\n",
    "loss_list = []\n",
    "Iteration_list = []\n",
    "Accuracy_list = []\n",
    "Steps = 50\n",
    "\n",
    "Progress_Bar = progressbar.ProgressBar(maxval= iteration_number + 200,\n",
    "                                       widgets=[progressbar.Bar('=', '|', '|'),\n",
    "                                                progressbar.Percentage()])\n",
    "# print('---------------------------------------------------------')\n",
    "for epoch in range(epochs_number):\n",
    "    for i, (X_train, y_train) in enumerate(train_loader):\n",
    "        \n",
    "        # Variables\n",
    "        X_train = Variable(X_train.view(-1, X[0].shape[0]))\n",
    "        y_train = Variable(y_train)\n",
    "        \n",
    "        # Set all gradients to zero\n",
    "        optimizer.zero_grad()\n",
    "        \n",
    "        # Forward\n",
    "        Out = model(X_train.float())\n",
    "        \n",
    "        # CEL\n",
    "        loss = CEL(Out, y_train.long())\n",
    "        \n",
    "        # Backward (Calculating the gradients)\n",
    "        loss.backward()\n",
    "        \n",
    "        # Update parameters\n",
    "        optimizer.step()\n",
    "        \n",
    "        Count += 1\n",
    "        \n",
    "        # Predictions\n",
    "        if Count % Steps == 0:\n",
    "            # Calculate Accuracy         \n",
    "            Correct, Total = 0, 0\n",
    "            # Predictions\n",
    "            for X_test, y_train in test_loader: \n",
    "                X_test = Variable(X_test.view(-1, X[0].shape[0]))\n",
    "                \n",
    "                # Forward\n",
    "                Out = model(X_test.float())\n",
    "                \n",
    "                # The maximum value of Out\n",
    "                Predicted = torch.max(Out.data, 1)[1]\n",
    "                \n",
    "                # Total number of y_train\n",
    "                Total += len(y_train)\n",
    "                \n",
    "                # Total Correct predictions\n",
    "                Correct += (Predicted == y_train).sum()\n",
    "            \n",
    "            Accuracy = 100 * (Correct / float(Total))\n",
    "            \n",
    "            # store loss and iteration\n",
    "            loss_list.append(loss.data)\n",
    "            Iteration_list.append(Count)\n",
    "            Accuracy_list.append(Accuracy)\n",
    "            \n",
    "#         if Count % Steps == 0:\n",
    "#             # Print Loss\n",
    "#             print('Iteration: %i,  Loss: %.4f and  Accuracy: %.4f' % (Count, loss.data, Accuracy))\n",
    "\n",
    "        Progress_Bar.update(Count)\n",
    "\n",
    "Progress_Bar.finish()"
   ]
  },
  {
   "cell_type": "code",
   "execution_count": 8,
   "metadata": {},
   "outputs": [
    {
     "data": {
      "text/html": [
       "<style  type=\"text/css\" >\n",
       "</style><table id=\"T_b989c85e_9e06_11ea_9a36_50e08586bf81\" ><thead>    <tr>        <th class=\"col_heading level0 col0\" >Iteration</th>        <th class=\"col_heading level0 col1\" >Loss</th>        <th class=\"col_heading level0 col2\" >Accuracy</th>    </tr></thead><tbody>\n",
       "                <tr>\n",
       "                                <td id=\"T_b989c85e_9e06_11ea_9a36_50e08586bf81row0_col0\" class=\"data row0 col0\" >50</td>\n",
       "                        <td id=\"T_b989c85e_9e06_11ea_9a36_50e08586bf81row0_col1\" class=\"data row0 col1\" >0.61753595</td>\n",
       "                        <td id=\"T_b989c85e_9e06_11ea_9a36_50e08586bf81row0_col2\" class=\"data row0 col2\" >63.0426</td>\n",
       "            </tr>\n",
       "            <tr>\n",
       "                                <td id=\"T_b989c85e_9e06_11ea_9a36_50e08586bf81row1_col0\" class=\"data row1 col0\" >800</td>\n",
       "                        <td id=\"T_b989c85e_9e06_11ea_9a36_50e08586bf81row1_col1\" class=\"data row1 col1\" >0.41633096</td>\n",
       "                        <td id=\"T_b989c85e_9e06_11ea_9a36_50e08586bf81row1_col2\" class=\"data row1 col2\" >79.959435</td>\n",
       "            </tr>\n",
       "            <tr>\n",
       "                                <td id=\"T_b989c85e_9e06_11ea_9a36_50e08586bf81row2_col0\" class=\"data row2 col0\" >1550</td>\n",
       "                        <td id=\"T_b989c85e_9e06_11ea_9a36_50e08586bf81row2_col1\" class=\"data row2 col1\" >0.41283765</td>\n",
       "                        <td id=\"T_b989c85e_9e06_11ea_9a36_50e08586bf81row2_col2\" class=\"data row2 col2\" >80.08114</td>\n",
       "            </tr>\n",
       "            <tr>\n",
       "                                <td id=\"T_b989c85e_9e06_11ea_9a36_50e08586bf81row3_col0\" class=\"data row3 col0\" >2300</td>\n",
       "                        <td id=\"T_b989c85e_9e06_11ea_9a36_50e08586bf81row3_col1\" class=\"data row3 col1\" >0.41206062</td>\n",
       "                        <td id=\"T_b989c85e_9e06_11ea_9a36_50e08586bf81row3_col2\" class=\"data row3 col2\" >80.08114</td>\n",
       "            </tr>\n",
       "            <tr>\n",
       "                                <td id=\"T_b989c85e_9e06_11ea_9a36_50e08586bf81row4_col0\" class=\"data row4 col0\" >3050</td>\n",
       "                        <td id=\"T_b989c85e_9e06_11ea_9a36_50e08586bf81row4_col1\" class=\"data row4 col1\" >0.4114467</td>\n",
       "                        <td id=\"T_b989c85e_9e06_11ea_9a36_50e08586bf81row4_col2\" class=\"data row4 col2\" >80.182556</td>\n",
       "            </tr>\n",
       "            <tr>\n",
       "                                <td id=\"T_b989c85e_9e06_11ea_9a36_50e08586bf81row5_col0\" class=\"data row5 col0\" >3800</td>\n",
       "                        <td id=\"T_b989c85e_9e06_11ea_9a36_50e08586bf81row5_col1\" class=\"data row5 col1\" >0.41083914</td>\n",
       "                        <td id=\"T_b989c85e_9e06_11ea_9a36_50e08586bf81row5_col2\" class=\"data row5 col2\" >80.10142</td>\n",
       "            </tr>\n",
       "            <tr>\n",
       "                                <td id=\"T_b989c85e_9e06_11ea_9a36_50e08586bf81row6_col0\" class=\"data row6 col0\" >4550</td>\n",
       "                        <td id=\"T_b989c85e_9e06_11ea_9a36_50e08586bf81row6_col1\" class=\"data row6 col1\" >0.41021627</td>\n",
       "                        <td id=\"T_b989c85e_9e06_11ea_9a36_50e08586bf81row6_col2\" class=\"data row6 col2\" >80.16228</td>\n",
       "            </tr>\n",
       "            <tr>\n",
       "                                <td id=\"T_b989c85e_9e06_11ea_9a36_50e08586bf81row7_col0\" class=\"data row7 col0\" >5300</td>\n",
       "                        <td id=\"T_b989c85e_9e06_11ea_9a36_50e08586bf81row7_col1\" class=\"data row7 col1\" >0.40958202</td>\n",
       "                        <td id=\"T_b989c85e_9e06_11ea_9a36_50e08586bf81row7_col2\" class=\"data row7 col2\" >80.22312</td>\n",
       "            </tr>\n",
       "            <tr>\n",
       "                                <td id=\"T_b989c85e_9e06_11ea_9a36_50e08586bf81row8_col0\" class=\"data row8 col0\" >6050</td>\n",
       "                        <td id=\"T_b989c85e_9e06_11ea_9a36_50e08586bf81row8_col1\" class=\"data row8 col1\" >0.4089472</td>\n",
       "                        <td id=\"T_b989c85e_9e06_11ea_9a36_50e08586bf81row8_col2\" class=\"data row8 col2\" >80.24341</td>\n",
       "            </tr>\n",
       "            <tr>\n",
       "                                <td id=\"T_b989c85e_9e06_11ea_9a36_50e08586bf81row9_col0\" class=\"data row9 col0\" >6800</td>\n",
       "                        <td id=\"T_b989c85e_9e06_11ea_9a36_50e08586bf81row9_col1\" class=\"data row9 col1\" >0.4083225</td>\n",
       "                        <td id=\"T_b989c85e_9e06_11ea_9a36_50e08586bf81row9_col2\" class=\"data row9 col2\" >80.24341</td>\n",
       "            </tr>\n",
       "            <tr>\n",
       "                                <td id=\"T_b989c85e_9e06_11ea_9a36_50e08586bf81row10_col0\" class=\"data row10 col0\" >7550</td>\n",
       "                        <td id=\"T_b989c85e_9e06_11ea_9a36_50e08586bf81row10_col1\" class=\"data row10 col1\" >0.4077155</td>\n",
       "                        <td id=\"T_b989c85e_9e06_11ea_9a36_50e08586bf81row10_col2\" class=\"data row10 col2\" >80.30426</td>\n",
       "            </tr>\n",
       "            <tr>\n",
       "                                <td id=\"T_b989c85e_9e06_11ea_9a36_50e08586bf81row11_col0\" class=\"data row11 col0\" >8300</td>\n",
       "                        <td id=\"T_b989c85e_9e06_11ea_9a36_50e08586bf81row11_col1\" class=\"data row11 col1\" >0.40713146</td>\n",
       "                        <td id=\"T_b989c85e_9e06_11ea_9a36_50e08586bf81row11_col2\" class=\"data row11 col2\" >80.28397</td>\n",
       "            </tr>\n",
       "            <tr>\n",
       "                                <td id=\"T_b989c85e_9e06_11ea_9a36_50e08586bf81row12_col0\" class=\"data row12 col0\" >9050</td>\n",
       "                        <td id=\"T_b989c85e_9e06_11ea_9a36_50e08586bf81row12_col1\" class=\"data row12 col1\" >0.40657288</td>\n",
       "                        <td id=\"T_b989c85e_9e06_11ea_9a36_50e08586bf81row12_col2\" class=\"data row12 col2\" >80.32454</td>\n",
       "            </tr>\n",
       "            <tr>\n",
       "                                <td id=\"T_b989c85e_9e06_11ea_9a36_50e08586bf81row13_col0\" class=\"data row13 col0\" >9800</td>\n",
       "                        <td id=\"T_b989c85e_9e06_11ea_9a36_50e08586bf81row13_col1\" class=\"data row13 col1\" >0.40604132</td>\n",
       "                        <td id=\"T_b989c85e_9e06_11ea_9a36_50e08586bf81row13_col2\" class=\"data row13 col2\" >80.28397</td>\n",
       "            </tr>\n",
       "    </tbody></table>"
      ],
      "text/plain": [
       "<pandas.io.formats.style.Styler at 0x1a7055d5d48>"
      ]
     },
     "metadata": {},
     "output_type": "display_data"
    },
    {
     "data": {
      "image/png": "[encoded data removed]",
      "text/plain": [
       "<Figure size 1008x432 with 2 Axes>"
      ]
     },
     "metadata": {
      "needs_background": "light"
     },
     "output_type": "display_data"
    }
   ],
   "source": [
    "fig, ax = plt.subplots(1, 2, figsize=(14,6))\n",
    "_ = ax[0].plot(Iteration_list, loss_list, linewidth=2)\n",
    "_ = ax[0].set_xlabel(\"Number of iteration\")\n",
    "_ = ax[0].set_ylabel(\"Cross-Entropy Loss\")\n",
    "_ = ax[0].set_title(\"Pytorch: Logistic Regression\")\n",
    "_ = ax[0].set_xlim([0,iteration_number])\n",
    "\n",
    "_ = ax[1].plot(Iteration_list, Accuracy_list, linewidth=2)\n",
    "_ = ax[1].set_xlabel(\"Number of iteration\")\n",
    "_ = ax[1].set_ylabel(\"Accuracy\")\n",
    "_ = ax[1].set_title(\"Pytorch: Logistic Regression\")\n",
    "_ = ax[1].set_xlim([0,iteration_number])\n",
    "_ = ax[1].set_ylim([0,100])\n",
    "Table = pd.DataFrame({'Iteration':Iteration_list,\n",
    "                      'Loss': [x.cpu().numpy() for x in loss_list],\n",
    "                      'Accuracy': [x.cpu().numpy() for x in Accuracy_list]})\n",
    "display(Table[0:-1:15].style.hide_index())"
   ]
  },
  {
   "cell_type": "markdown",
   "metadata": {},
   "source": [
    "A confusion matrix allows the visualization of the performance of a classification model."
   ]
  },
  {
   "cell_type": "code",
   "execution_count": 9,
   "metadata": {},
   "outputs": [
    {
     "data": {
      "image/png": "[encoded data removed]",
      "text/plain": [
       "<Figure size 1008x360 with 4 Axes>"
      ]
     },
     "metadata": {
      "needs_background": "light"
     },
     "output_type": "display_data"
    }
   ],
   "source": [
    "# Test set\n",
    "y_pred = model(X_test_tensor.float()).cpu().data.numpy()\n",
    "Confusion_Matrix = confusion_matrix(y_test, y_pred.argmax(axis=1))\n",
    "\n",
    "fig, ax = plt.subplots(1, 2, figsize=(14, 5))\n",
    "fig.suptitle('Test Set', fontsize = 18)\n",
    "_ = sns.heatmap(Confusion_Matrix, annot=True, annot_kws={\"size\": 14}, cmap=\"Blues\", ax = ax[0],\n",
    "                linewidths = 0.2, cbar_kws={\"shrink\": 1})\n",
    "_ = ax[0].set_xlabel('Predicted labels')\n",
    "_ = ax[0].set_ylabel('True labels'); \n",
    "_ = ax[0].set_title('Confusion Matrix');\n",
    "_ = ax[0].xaxis.set_ticklabels(Labels)\n",
    "_ = ax[0].yaxis.set_ticklabels(Labels)\n",
    "\n",
    "Confusion_Matrix = Confusion_Matrix.astype('float') / Confusion_Matrix.sum(axis=1)[:, np.newaxis]\n",
    "_ = sns.heatmap(Confusion_Matrix, annot=True, annot_kws={\"size\": 14}, cmap=\"Greens\", ax = ax[1],\n",
    "               linewidths = 0.2, vmin=0, vmax=1, cbar_kws={\"shrink\": 1})\n",
    "_ = ax[1].set_xlabel('Predicted labels')\n",
    "_ = ax[1].set_ylabel('True labels'); \n",
    "_ = ax[1].set_title('Normalized Confusion Matrix');\n",
    "_ = ax[1].xaxis.set_ticklabels(Labels)\n",
    "_ = ax[1].yaxis.set_ticklabels(Labels)"
   ]
  },
  {
   "cell_type": "markdown",
   "metadata": {},
   "source": [
    "# Predictions\n",
    "\n",
    "Now for any given dataset, we can predict churn"
   ]
  },
  {
   "cell_type": "code",
   "execution_count": 10,
   "metadata": {},
   "outputs": [
    {
     "data": {
      "text/html": [
       "<div>\n",
       "<style scoped>\n",
       "    .dataframe tbody tr th:only-of-type {\n",
       "        vertical-align: middle;\n",
       "    }\n",
       "\n",
       "    .dataframe tbody tr th {\n",
       "        vertical-align: top;\n",
       "    }\n",
       "\n",
       "    .dataframe thead th {\n",
       "        text-align: right;\n",
       "    }\n",
       "</style>\n",
       "<table border=\"1\" class=\"dataframe\">\n",
       "  <thead>\n",
       "    <tr style=\"text-align: right;\">\n",
       "      <th></th>\n",
       "      <th>customer ID</th>\n",
       "      <th>Predicted Status</th>\n",
       "    </tr>\n",
       "  </thead>\n",
       "  <tbody>\n",
       "    <tr>\n",
       "      <th>0</th>\n",
       "      <td>4616-EWBNJ</td>\n",
       "      <td>Remanined</td>\n",
       "    </tr>\n",
       "    <tr>\n",
       "      <th>1</th>\n",
       "      <td>1755-FZQEC</td>\n",
       "      <td>Remanined</td>\n",
       "    </tr>\n",
       "    <tr>\n",
       "      <th>2</th>\n",
       "      <td>6861-OKBCE</td>\n",
       "      <td>Remanined</td>\n",
       "    </tr>\n",
       "    <tr>\n",
       "      <th>3</th>\n",
       "      <td>2252-JHJGE</td>\n",
       "      <td>Remanined</td>\n",
       "    </tr>\n",
       "    <tr>\n",
       "      <th>4</th>\n",
       "      <td>1589-AGTLK</td>\n",
       "      <td>Remanined</td>\n",
       "    </tr>\n",
       "    <tr>\n",
       "      <th>...</th>\n",
       "      <td>...</td>\n",
       "      <td>...</td>\n",
       "    </tr>\n",
       "    <tr>\n",
       "      <th>699</th>\n",
       "      <td>2990-HWIML</td>\n",
       "      <td>Churned</td>\n",
       "    </tr>\n",
       "    <tr>\n",
       "      <th>700</th>\n",
       "      <td>6994-KERXL</td>\n",
       "      <td>Churned</td>\n",
       "    </tr>\n",
       "    <tr>\n",
       "      <th>701</th>\n",
       "      <td>6353-BRMMA</td>\n",
       "      <td>Remanined</td>\n",
       "    </tr>\n",
       "    <tr>\n",
       "      <th>702</th>\n",
       "      <td>7234-KMNRQ</td>\n",
       "      <td>Remanined</td>\n",
       "    </tr>\n",
       "    <tr>\n",
       "      <th>703</th>\n",
       "      <td>5003-XZWWO</td>\n",
       "      <td>Remanined</td>\n",
       "    </tr>\n",
       "  </tbody>\n",
       "</table>\n",
       "<p>704 rows × 2 columns</p>\n",
       "</div>"
      ],
      "text/plain": [
       "    customer ID Predicted Status\n",
       "0    4616-EWBNJ        Remanined\n",
       "1    1755-FZQEC        Remanined\n",
       "2    6861-OKBCE        Remanined\n",
       "3    2252-JHJGE        Remanined\n",
       "4    1589-AGTLK        Remanined\n",
       "..          ...              ...\n",
       "699  2990-HWIML          Churned\n",
       "700  6994-KERXL          Churned\n",
       "701  6353-BRMMA        Remanined\n",
       "702  7234-KMNRQ        Remanined\n",
       "703  5003-XZWWO        Remanined\n",
       "\n",
       "[704 rows x 2 columns]"
      ]
     },
     "metadata": {},
     "output_type": "display_data"
    }
   ],
   "source": [
    "Sample = df.sample(frac = 0.1)\n",
    "X_sample = Sample.drop(columns = [Target]).values\n",
    "X_sample = scaler.transform(X_sample)\n",
    "if torch.cuda.is_available():\n",
    "    X_sample_tensor = Variable(torch.from_numpy(X_sample).cuda())\n",
    "else:\n",
    "    X_sample_tensor = Variable(torch.from_numpy(X_sample))\n",
    "\n",
    "y_pred = model(X_sample_tensor.float())\n",
    "y_pred = np.asarray(y_pred.cpu().detach().numpy())\n",
    "y_pred = pd.Series(y_pred.argmax(axis=1)).to_frame('Predicted Status').applymap(lambda x: Labels[0] if x ==0 else  Labels[1])\n",
    "\n",
    "Predictions = pd.concat([Data.loc[Sample.index, 'customer ID'].reset_index(drop = True), y_pred], axis = 1)\n",
    "display(Predictions)"
   ]
  },
  {
   "cell_type": "markdown",
   "metadata": {},
   "source": [
    "***"
   ]
  }
 ],
 "metadata": {
  "kernelspec": {
   "display_name": "Python 3",
   "language": "python",
   "name": "python3"
  },
  "language_info": {
   "codemirror_mode": {
    "name": "ipython",
    "version": 3
   },
   "file_extension": ".py",
   "mimetype": "text/x-python",
   "name": "python",
   "nbconvert_exporter": "python",
   "pygments_lexer": "ipython3",
   "version": "3.7.7"
  }
 },
 "nbformat": 4,
 "nbformat_minor": 4
}
