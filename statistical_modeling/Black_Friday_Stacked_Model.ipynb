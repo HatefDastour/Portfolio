{
 "cells": [
  {
   "cell_type": "code",
   "execution_count": 1,
   "metadata": {},
   "outputs": [],
   "source": [
    "# Computations\n",
    "import numpy as np\n",
    "import pandas as pd\n",
    "from scipy import stats\n",
    "from scipy.stats import norm, skew\n",
    "\n",
    "# Display\n",
    "from colorama import Fore, Back, Style\n",
    "\n",
    "# Testing\n",
    "from sklearn.metrics import mean_squared_error, r2_score\n",
    "from math import sqrt\n",
    "\n",
    "# preprocessing\n",
    "from sklearn import preprocessing\n",
    "\n",
    "# Imputing Data\n",
    "from sklearn.impute import SimpleImputer\n",
    "\n",
    "# Train and Test sets\n",
    "from sklearn.model_selection import train_test_split\n",
    "\n",
    "# Modeling\n",
    "from sklearn.linear_model import LinearRegression\n",
    "from sklearn.linear_model import LogisticRegression\n",
    "from sklearn.linear_model import RidgeCV\n",
    "from sklearn.linear_model import LassoCV\n",
    "from sklearn.linear_model import ElasticNet\n",
    "from sklearn.ensemble import BaggingRegressor\n",
    "from sklearn.ensemble import GradientBoostingRegressor\n",
    "from sklearn.ensemble import RandomForestRegressor\n",
    "import xgboost as xgb\n",
    "\n",
    "# Making pipline\n",
    "from sklearn.preprocessing import RobustScaler\n",
    "from sklearn.pipeline import make_pipeline\n",
    "from mlxtend.regressor import StackingCVRegressor\n",
    "\n",
    "# Plots\n",
    "\n",
    "import seaborn as sns\n",
    "import matplotlib.pyplot as plt\n",
    "from matplotlib.patches import Ellipse, Polygon\n",
    "\n",
    "# sns setting\n",
    "sns.set_context(\"paper\", rc={\"font.size\":12,\"axes.titlesize\":14,\"axes.labelsize\":12})\n",
    "sns.set_style(\"whitegrid\")\n",
    "\n",
    "# plt setting\n",
    "plt.style.use('seaborn-whitegrid')\n",
    "plt.rcParams['axes.labelsize'] = 14\n",
    "plt.rcParams['xtick.labelsize'] = 12\n",
    "plt.rcParams['ytick.labelsize'] = 12\n",
    "plt.rcParams['text.color'] = 'k'\n",
    "%matplotlib inline\n",
    "import warnings\n",
    "warnings.filterwarnings(\"ignore\")"
   ]
  },
  {
   "cell_type": "markdown",
   "metadata": {},
   "source": [
    "In this article, we would like to try the [Practice Problem: Black Friday](https://datahack.analyticsvidhya.com/contest/black-friday/?utm_source=auto-email) by [analyticsvidhya.com](https://www.analyticsvidhya.com/). You can download the required files from [here](https://datahack.analyticsvidhya.com/contest/black-friday/?utm_source=auto-email)."
   ]
  },
  {
   "cell_type": "markdown",
   "metadata": {},
   "source": [
    "## Problem Statement\n",
    "\n",
    "A retail company “ABC Private Limited” wants to understand the customer purchase behaviour (specifically, purchase amount) against various products of different categories. They have shared purchase summary of various customers for selected high volume products from last month.\n",
    "The data set also contains customer demographics (age, gender, marital status, city_type, stay_in_current_city), product details (product_id and product category) and Total purchase_amount from last month.\n",
    "\n",
    "Now, they want to build a model to predict the purchase amount of customer against various products which will help them to create personalized offer for customers against different products."
   ]
  },
  {
   "cell_type": "markdown",
   "metadata": {},
   "source": [
    "#### Table of contents\n",
    "\n",
    "* [Preprocessing](#Preprocessing)\n",
    "* [Modeling](#Modeling)"
   ]
  },
  {
   "cell_type": "markdown",
   "metadata": {},
   "source": [
    "### Loading the Data"
   ]
  },
  {
   "cell_type": "code",
   "execution_count": 2,
   "metadata": {},
   "outputs": [
    {
     "name": "stdout",
     "output_type": "stream",
     "text": [
      "\u001b[45m\"Train Data\":\n"
     ]
    },
    {
     "data": {
      "text/html": [
       "<style  type=\"text/css\" >\n",
       "</style><table id=\"T_9d40eb4c_60ee_11ea_9a09_50e08586bf81\" ><thead>    <tr>        <th class=\"col_heading level0 col0\" >User_ID</th>        <th class=\"col_heading level0 col1\" >Product_ID</th>        <th class=\"col_heading level0 col2\" >Gender</th>        <th class=\"col_heading level0 col3\" >Age</th>        <th class=\"col_heading level0 col4\" >Occupation</th>        <th class=\"col_heading level0 col5\" >City_Category</th>        <th class=\"col_heading level0 col6\" >Stay_In_Current_City_Years</th>        <th class=\"col_heading level0 col7\" >Marital_Status</th>        <th class=\"col_heading level0 col8\" >Product_Category_1</th>        <th class=\"col_heading level0 col9\" >Product_Category_2</th>        <th class=\"col_heading level0 col10\" >Product_Category_3</th>        <th class=\"col_heading level0 col11\" >Purchase</th>    </tr></thead><tbody>\n",
       "                <tr>\n",
       "                                <td id=\"T_9d40eb4c_60ee_11ea_9a09_50e08586bf81row0_col0\" class=\"data row0 col0\" >1000001</td>\n",
       "                        <td id=\"T_9d40eb4c_60ee_11ea_9a09_50e08586bf81row0_col1\" class=\"data row0 col1\" >P00069042</td>\n",
       "                        <td id=\"T_9d40eb4c_60ee_11ea_9a09_50e08586bf81row0_col2\" class=\"data row0 col2\" >F</td>\n",
       "                        <td id=\"T_9d40eb4c_60ee_11ea_9a09_50e08586bf81row0_col3\" class=\"data row0 col3\" >0-17</td>\n",
       "                        <td id=\"T_9d40eb4c_60ee_11ea_9a09_50e08586bf81row0_col4\" class=\"data row0 col4\" >10</td>\n",
       "                        <td id=\"T_9d40eb4c_60ee_11ea_9a09_50e08586bf81row0_col5\" class=\"data row0 col5\" >A</td>\n",
       "                        <td id=\"T_9d40eb4c_60ee_11ea_9a09_50e08586bf81row0_col6\" class=\"data row0 col6\" >2</td>\n",
       "                        <td id=\"T_9d40eb4c_60ee_11ea_9a09_50e08586bf81row0_col7\" class=\"data row0 col7\" >0</td>\n",
       "                        <td id=\"T_9d40eb4c_60ee_11ea_9a09_50e08586bf81row0_col8\" class=\"data row0 col8\" >3</td>\n",
       "                        <td id=\"T_9d40eb4c_60ee_11ea_9a09_50e08586bf81row0_col9\" class=\"data row0 col9\" >nan</td>\n",
       "                        <td id=\"T_9d40eb4c_60ee_11ea_9a09_50e08586bf81row0_col10\" class=\"data row0 col10\" >nan</td>\n",
       "                        <td id=\"T_9d40eb4c_60ee_11ea_9a09_50e08586bf81row0_col11\" class=\"data row0 col11\" >8370</td>\n",
       "            </tr>\n",
       "            <tr>\n",
       "                                <td id=\"T_9d40eb4c_60ee_11ea_9a09_50e08586bf81row1_col0\" class=\"data row1 col0\" >1000001</td>\n",
       "                        <td id=\"T_9d40eb4c_60ee_11ea_9a09_50e08586bf81row1_col1\" class=\"data row1 col1\" >P00248942</td>\n",
       "                        <td id=\"T_9d40eb4c_60ee_11ea_9a09_50e08586bf81row1_col2\" class=\"data row1 col2\" >F</td>\n",
       "                        <td id=\"T_9d40eb4c_60ee_11ea_9a09_50e08586bf81row1_col3\" class=\"data row1 col3\" >0-17</td>\n",
       "                        <td id=\"T_9d40eb4c_60ee_11ea_9a09_50e08586bf81row1_col4\" class=\"data row1 col4\" >10</td>\n",
       "                        <td id=\"T_9d40eb4c_60ee_11ea_9a09_50e08586bf81row1_col5\" class=\"data row1 col5\" >A</td>\n",
       "                        <td id=\"T_9d40eb4c_60ee_11ea_9a09_50e08586bf81row1_col6\" class=\"data row1 col6\" >2</td>\n",
       "                        <td id=\"T_9d40eb4c_60ee_11ea_9a09_50e08586bf81row1_col7\" class=\"data row1 col7\" >0</td>\n",
       "                        <td id=\"T_9d40eb4c_60ee_11ea_9a09_50e08586bf81row1_col8\" class=\"data row1 col8\" >1</td>\n",
       "                        <td id=\"T_9d40eb4c_60ee_11ea_9a09_50e08586bf81row1_col9\" class=\"data row1 col9\" >6.000000</td>\n",
       "                        <td id=\"T_9d40eb4c_60ee_11ea_9a09_50e08586bf81row1_col10\" class=\"data row1 col10\" >14.000000</td>\n",
       "                        <td id=\"T_9d40eb4c_60ee_11ea_9a09_50e08586bf81row1_col11\" class=\"data row1 col11\" >15200</td>\n",
       "            </tr>\n",
       "            <tr>\n",
       "                                <td id=\"T_9d40eb4c_60ee_11ea_9a09_50e08586bf81row2_col0\" class=\"data row2 col0\" >1000001</td>\n",
       "                        <td id=\"T_9d40eb4c_60ee_11ea_9a09_50e08586bf81row2_col1\" class=\"data row2 col1\" >P00087842</td>\n",
       "                        <td id=\"T_9d40eb4c_60ee_11ea_9a09_50e08586bf81row2_col2\" class=\"data row2 col2\" >F</td>\n",
       "                        <td id=\"T_9d40eb4c_60ee_11ea_9a09_50e08586bf81row2_col3\" class=\"data row2 col3\" >0-17</td>\n",
       "                        <td id=\"T_9d40eb4c_60ee_11ea_9a09_50e08586bf81row2_col4\" class=\"data row2 col4\" >10</td>\n",
       "                        <td id=\"T_9d40eb4c_60ee_11ea_9a09_50e08586bf81row2_col5\" class=\"data row2 col5\" >A</td>\n",
       "                        <td id=\"T_9d40eb4c_60ee_11ea_9a09_50e08586bf81row2_col6\" class=\"data row2 col6\" >2</td>\n",
       "                        <td id=\"T_9d40eb4c_60ee_11ea_9a09_50e08586bf81row2_col7\" class=\"data row2 col7\" >0</td>\n",
       "                        <td id=\"T_9d40eb4c_60ee_11ea_9a09_50e08586bf81row2_col8\" class=\"data row2 col8\" >12</td>\n",
       "                        <td id=\"T_9d40eb4c_60ee_11ea_9a09_50e08586bf81row2_col9\" class=\"data row2 col9\" >nan</td>\n",
       "                        <td id=\"T_9d40eb4c_60ee_11ea_9a09_50e08586bf81row2_col10\" class=\"data row2 col10\" >nan</td>\n",
       "                        <td id=\"T_9d40eb4c_60ee_11ea_9a09_50e08586bf81row2_col11\" class=\"data row2 col11\" >1422</td>\n",
       "            </tr>\n",
       "            <tr>\n",
       "                                <td id=\"T_9d40eb4c_60ee_11ea_9a09_50e08586bf81row3_col0\" class=\"data row3 col0\" >1000001</td>\n",
       "                        <td id=\"T_9d40eb4c_60ee_11ea_9a09_50e08586bf81row3_col1\" class=\"data row3 col1\" >P00085442</td>\n",
       "                        <td id=\"T_9d40eb4c_60ee_11ea_9a09_50e08586bf81row3_col2\" class=\"data row3 col2\" >F</td>\n",
       "                        <td id=\"T_9d40eb4c_60ee_11ea_9a09_50e08586bf81row3_col3\" class=\"data row3 col3\" >0-17</td>\n",
       "                        <td id=\"T_9d40eb4c_60ee_11ea_9a09_50e08586bf81row3_col4\" class=\"data row3 col4\" >10</td>\n",
       "                        <td id=\"T_9d40eb4c_60ee_11ea_9a09_50e08586bf81row3_col5\" class=\"data row3 col5\" >A</td>\n",
       "                        <td id=\"T_9d40eb4c_60ee_11ea_9a09_50e08586bf81row3_col6\" class=\"data row3 col6\" >2</td>\n",
       "                        <td id=\"T_9d40eb4c_60ee_11ea_9a09_50e08586bf81row3_col7\" class=\"data row3 col7\" >0</td>\n",
       "                        <td id=\"T_9d40eb4c_60ee_11ea_9a09_50e08586bf81row3_col8\" class=\"data row3 col8\" >12</td>\n",
       "                        <td id=\"T_9d40eb4c_60ee_11ea_9a09_50e08586bf81row3_col9\" class=\"data row3 col9\" >14.000000</td>\n",
       "                        <td id=\"T_9d40eb4c_60ee_11ea_9a09_50e08586bf81row3_col10\" class=\"data row3 col10\" >nan</td>\n",
       "                        <td id=\"T_9d40eb4c_60ee_11ea_9a09_50e08586bf81row3_col11\" class=\"data row3 col11\" >1057</td>\n",
       "            </tr>\n",
       "    </tbody></table>"
      ],
      "text/plain": [
       "<pandas.io.formats.style.Styler at 0x12f1c54f4c8>"
      ]
     },
     "metadata": {},
     "output_type": "display_data"
    },
    {
     "name": "stdout",
     "output_type": "stream",
     "text": [
      "\u001b[46m\"Test Data\":\n"
     ]
    },
    {
     "data": {
      "text/html": [
       "<style  type=\"text/css\" >\n",
       "</style><table id=\"T_9d41aea4_60ee_11ea_a125_50e08586bf81\" ><thead>    <tr>        <th class=\"col_heading level0 col0\" >User_ID</th>        <th class=\"col_heading level0 col1\" >Product_ID</th>        <th class=\"col_heading level0 col2\" >Gender</th>        <th class=\"col_heading level0 col3\" >Age</th>        <th class=\"col_heading level0 col4\" >Occupation</th>        <th class=\"col_heading level0 col5\" >City_Category</th>        <th class=\"col_heading level0 col6\" >Stay_In_Current_City_Years</th>        <th class=\"col_heading level0 col7\" >Marital_Status</th>        <th class=\"col_heading level0 col8\" >Product_Category_1</th>        <th class=\"col_heading level0 col9\" >Product_Category_2</th>        <th class=\"col_heading level0 col10\" >Product_Category_3</th>    </tr></thead><tbody>\n",
       "                <tr>\n",
       "                                <td id=\"T_9d41aea4_60ee_11ea_a125_50e08586bf81row0_col0\" class=\"data row0 col0\" >1000004</td>\n",
       "                        <td id=\"T_9d41aea4_60ee_11ea_a125_50e08586bf81row0_col1\" class=\"data row0 col1\" >P00128942</td>\n",
       "                        <td id=\"T_9d41aea4_60ee_11ea_a125_50e08586bf81row0_col2\" class=\"data row0 col2\" >M</td>\n",
       "                        <td id=\"T_9d41aea4_60ee_11ea_a125_50e08586bf81row0_col3\" class=\"data row0 col3\" >46-50</td>\n",
       "                        <td id=\"T_9d41aea4_60ee_11ea_a125_50e08586bf81row0_col4\" class=\"data row0 col4\" >7</td>\n",
       "                        <td id=\"T_9d41aea4_60ee_11ea_a125_50e08586bf81row0_col5\" class=\"data row0 col5\" >B</td>\n",
       "                        <td id=\"T_9d41aea4_60ee_11ea_a125_50e08586bf81row0_col6\" class=\"data row0 col6\" >2</td>\n",
       "                        <td id=\"T_9d41aea4_60ee_11ea_a125_50e08586bf81row0_col7\" class=\"data row0 col7\" >1</td>\n",
       "                        <td id=\"T_9d41aea4_60ee_11ea_a125_50e08586bf81row0_col8\" class=\"data row0 col8\" >1</td>\n",
       "                        <td id=\"T_9d41aea4_60ee_11ea_a125_50e08586bf81row0_col9\" class=\"data row0 col9\" >11.000000</td>\n",
       "                        <td id=\"T_9d41aea4_60ee_11ea_a125_50e08586bf81row0_col10\" class=\"data row0 col10\" >nan</td>\n",
       "            </tr>\n",
       "            <tr>\n",
       "                                <td id=\"T_9d41aea4_60ee_11ea_a125_50e08586bf81row1_col0\" class=\"data row1 col0\" >1000009</td>\n",
       "                        <td id=\"T_9d41aea4_60ee_11ea_a125_50e08586bf81row1_col1\" class=\"data row1 col1\" >P00113442</td>\n",
       "                        <td id=\"T_9d41aea4_60ee_11ea_a125_50e08586bf81row1_col2\" class=\"data row1 col2\" >M</td>\n",
       "                        <td id=\"T_9d41aea4_60ee_11ea_a125_50e08586bf81row1_col3\" class=\"data row1 col3\" >26-35</td>\n",
       "                        <td id=\"T_9d41aea4_60ee_11ea_a125_50e08586bf81row1_col4\" class=\"data row1 col4\" >17</td>\n",
       "                        <td id=\"T_9d41aea4_60ee_11ea_a125_50e08586bf81row1_col5\" class=\"data row1 col5\" >C</td>\n",
       "                        <td id=\"T_9d41aea4_60ee_11ea_a125_50e08586bf81row1_col6\" class=\"data row1 col6\" >0</td>\n",
       "                        <td id=\"T_9d41aea4_60ee_11ea_a125_50e08586bf81row1_col7\" class=\"data row1 col7\" >0</td>\n",
       "                        <td id=\"T_9d41aea4_60ee_11ea_a125_50e08586bf81row1_col8\" class=\"data row1 col8\" >3</td>\n",
       "                        <td id=\"T_9d41aea4_60ee_11ea_a125_50e08586bf81row1_col9\" class=\"data row1 col9\" >5.000000</td>\n",
       "                        <td id=\"T_9d41aea4_60ee_11ea_a125_50e08586bf81row1_col10\" class=\"data row1 col10\" >nan</td>\n",
       "            </tr>\n",
       "            <tr>\n",
       "                                <td id=\"T_9d41aea4_60ee_11ea_a125_50e08586bf81row2_col0\" class=\"data row2 col0\" >1000010</td>\n",
       "                        <td id=\"T_9d41aea4_60ee_11ea_a125_50e08586bf81row2_col1\" class=\"data row2 col1\" >P00288442</td>\n",
       "                        <td id=\"T_9d41aea4_60ee_11ea_a125_50e08586bf81row2_col2\" class=\"data row2 col2\" >F</td>\n",
       "                        <td id=\"T_9d41aea4_60ee_11ea_a125_50e08586bf81row2_col3\" class=\"data row2 col3\" >36-45</td>\n",
       "                        <td id=\"T_9d41aea4_60ee_11ea_a125_50e08586bf81row2_col4\" class=\"data row2 col4\" >1</td>\n",
       "                        <td id=\"T_9d41aea4_60ee_11ea_a125_50e08586bf81row2_col5\" class=\"data row2 col5\" >B</td>\n",
       "                        <td id=\"T_9d41aea4_60ee_11ea_a125_50e08586bf81row2_col6\" class=\"data row2 col6\" >4+</td>\n",
       "                        <td id=\"T_9d41aea4_60ee_11ea_a125_50e08586bf81row2_col7\" class=\"data row2 col7\" >1</td>\n",
       "                        <td id=\"T_9d41aea4_60ee_11ea_a125_50e08586bf81row2_col8\" class=\"data row2 col8\" >5</td>\n",
       "                        <td id=\"T_9d41aea4_60ee_11ea_a125_50e08586bf81row2_col9\" class=\"data row2 col9\" >14.000000</td>\n",
       "                        <td id=\"T_9d41aea4_60ee_11ea_a125_50e08586bf81row2_col10\" class=\"data row2 col10\" >nan</td>\n",
       "            </tr>\n",
       "            <tr>\n",
       "                                <td id=\"T_9d41aea4_60ee_11ea_a125_50e08586bf81row3_col0\" class=\"data row3 col0\" >1000010</td>\n",
       "                        <td id=\"T_9d41aea4_60ee_11ea_a125_50e08586bf81row3_col1\" class=\"data row3 col1\" >P00145342</td>\n",
       "                        <td id=\"T_9d41aea4_60ee_11ea_a125_50e08586bf81row3_col2\" class=\"data row3 col2\" >F</td>\n",
       "                        <td id=\"T_9d41aea4_60ee_11ea_a125_50e08586bf81row3_col3\" class=\"data row3 col3\" >36-45</td>\n",
       "                        <td id=\"T_9d41aea4_60ee_11ea_a125_50e08586bf81row3_col4\" class=\"data row3 col4\" >1</td>\n",
       "                        <td id=\"T_9d41aea4_60ee_11ea_a125_50e08586bf81row3_col5\" class=\"data row3 col5\" >B</td>\n",
       "                        <td id=\"T_9d41aea4_60ee_11ea_a125_50e08586bf81row3_col6\" class=\"data row3 col6\" >4+</td>\n",
       "                        <td id=\"T_9d41aea4_60ee_11ea_a125_50e08586bf81row3_col7\" class=\"data row3 col7\" >1</td>\n",
       "                        <td id=\"T_9d41aea4_60ee_11ea_a125_50e08586bf81row3_col8\" class=\"data row3 col8\" >4</td>\n",
       "                        <td id=\"T_9d41aea4_60ee_11ea_a125_50e08586bf81row3_col9\" class=\"data row3 col9\" >9.000000</td>\n",
       "                        <td id=\"T_9d41aea4_60ee_11ea_a125_50e08586bf81row3_col10\" class=\"data row3 col10\" >nan</td>\n",
       "            </tr>\n",
       "    </tbody></table>"
      ],
      "text/plain": [
       "<pandas.io.formats.style.Styler at 0x12f1c783108>"
      ]
     },
     "metadata": {},
     "output_type": "display_data"
    }
   ],
   "source": [
    "Train = pd.read_csv(\"Data/train.csv\")\n",
    "Test = pd.read_csv(\"Data/test.csv\")\n",
    "print(Back.MAGENTA +'\"%s\":' % 'Train Data')\n",
    "display(Train.head(4).style.hide_index())\n",
    "print(Back.CYAN +'\"%s\":' % 'Test Data')\n",
    "display(Test.head(4).style.hide_index())"
   ]
  },
  {
   "cell_type": "markdown",
   "metadata": {},
   "source": [
    "# Initial Analysis"
   ]
  },
  {
   "cell_type": "markdown",
   "metadata": {},
   "source": [
    "Creating a new dataframe by combining <font color='blue'>**Test**</font> and <font color='blue'>**Train**</font> sets."
   ]
  },
  {
   "cell_type": "code",
   "execution_count": 3,
   "metadata": {
    "scrolled": true
   },
   "outputs": [
    {
     "data": {
      "text/html": [
       "<style  type=\"text/css\" >\n",
       "</style><table id=\"T_9d4ea6ee_60ee_11ea_9fa0_50e08586bf81\" ><thead>    <tr>        <th class=\"col_heading level0 col0\" >User_ID</th>        <th class=\"col_heading level0 col1\" >Product_ID</th>        <th class=\"col_heading level0 col2\" >Gender</th>        <th class=\"col_heading level0 col3\" >Age</th>        <th class=\"col_heading level0 col4\" >Occupation</th>        <th class=\"col_heading level0 col5\" >City_Category</th>        <th class=\"col_heading level0 col6\" >Stay_In_Current_City_Years</th>        <th class=\"col_heading level0 col7\" >Marital_Status</th>        <th class=\"col_heading level0 col8\" >Product_Category_1</th>        <th class=\"col_heading level0 col9\" >Product_Category_2</th>        <th class=\"col_heading level0 col10\" >Product_Category_3</th>        <th class=\"col_heading level0 col11\" >Purchase</th>    </tr></thead><tbody>\n",
       "                <tr>\n",
       "                                <td id=\"T_9d4ea6ee_60ee_11ea_9fa0_50e08586bf81row0_col0\" class=\"data row0 col0\" >1000001</td>\n",
       "                        <td id=\"T_9d4ea6ee_60ee_11ea_9fa0_50e08586bf81row0_col1\" class=\"data row0 col1\" >P00069042</td>\n",
       "                        <td id=\"T_9d4ea6ee_60ee_11ea_9fa0_50e08586bf81row0_col2\" class=\"data row0 col2\" >F</td>\n",
       "                        <td id=\"T_9d4ea6ee_60ee_11ea_9fa0_50e08586bf81row0_col3\" class=\"data row0 col3\" >0-17</td>\n",
       "                        <td id=\"T_9d4ea6ee_60ee_11ea_9fa0_50e08586bf81row0_col4\" class=\"data row0 col4\" >10</td>\n",
       "                        <td id=\"T_9d4ea6ee_60ee_11ea_9fa0_50e08586bf81row0_col5\" class=\"data row0 col5\" >A</td>\n",
       "                        <td id=\"T_9d4ea6ee_60ee_11ea_9fa0_50e08586bf81row0_col6\" class=\"data row0 col6\" >2</td>\n",
       "                        <td id=\"T_9d4ea6ee_60ee_11ea_9fa0_50e08586bf81row0_col7\" class=\"data row0 col7\" >0</td>\n",
       "                        <td id=\"T_9d4ea6ee_60ee_11ea_9fa0_50e08586bf81row0_col8\" class=\"data row0 col8\" >3</td>\n",
       "                        <td id=\"T_9d4ea6ee_60ee_11ea_9fa0_50e08586bf81row0_col9\" class=\"data row0 col9\" >nan</td>\n",
       "                        <td id=\"T_9d4ea6ee_60ee_11ea_9fa0_50e08586bf81row0_col10\" class=\"data row0 col10\" >nan</td>\n",
       "                        <td id=\"T_9d4ea6ee_60ee_11ea_9fa0_50e08586bf81row0_col11\" class=\"data row0 col11\" >8370.000000</td>\n",
       "            </tr>\n",
       "            <tr>\n",
       "                                <td id=\"T_9d4ea6ee_60ee_11ea_9fa0_50e08586bf81row1_col0\" class=\"data row1 col0\" >1000001</td>\n",
       "                        <td id=\"T_9d4ea6ee_60ee_11ea_9fa0_50e08586bf81row1_col1\" class=\"data row1 col1\" >P00248942</td>\n",
       "                        <td id=\"T_9d4ea6ee_60ee_11ea_9fa0_50e08586bf81row1_col2\" class=\"data row1 col2\" >F</td>\n",
       "                        <td id=\"T_9d4ea6ee_60ee_11ea_9fa0_50e08586bf81row1_col3\" class=\"data row1 col3\" >0-17</td>\n",
       "                        <td id=\"T_9d4ea6ee_60ee_11ea_9fa0_50e08586bf81row1_col4\" class=\"data row1 col4\" >10</td>\n",
       "                        <td id=\"T_9d4ea6ee_60ee_11ea_9fa0_50e08586bf81row1_col5\" class=\"data row1 col5\" >A</td>\n",
       "                        <td id=\"T_9d4ea6ee_60ee_11ea_9fa0_50e08586bf81row1_col6\" class=\"data row1 col6\" >2</td>\n",
       "                        <td id=\"T_9d4ea6ee_60ee_11ea_9fa0_50e08586bf81row1_col7\" class=\"data row1 col7\" >0</td>\n",
       "                        <td id=\"T_9d4ea6ee_60ee_11ea_9fa0_50e08586bf81row1_col8\" class=\"data row1 col8\" >1</td>\n",
       "                        <td id=\"T_9d4ea6ee_60ee_11ea_9fa0_50e08586bf81row1_col9\" class=\"data row1 col9\" >6.000000</td>\n",
       "                        <td id=\"T_9d4ea6ee_60ee_11ea_9fa0_50e08586bf81row1_col10\" class=\"data row1 col10\" >14.000000</td>\n",
       "                        <td id=\"T_9d4ea6ee_60ee_11ea_9fa0_50e08586bf81row1_col11\" class=\"data row1 col11\" >15200.000000</td>\n",
       "            </tr>\n",
       "            <tr>\n",
       "                                <td id=\"T_9d4ea6ee_60ee_11ea_9fa0_50e08586bf81row2_col0\" class=\"data row2 col0\" >1000001</td>\n",
       "                        <td id=\"T_9d4ea6ee_60ee_11ea_9fa0_50e08586bf81row2_col1\" class=\"data row2 col1\" >P00087842</td>\n",
       "                        <td id=\"T_9d4ea6ee_60ee_11ea_9fa0_50e08586bf81row2_col2\" class=\"data row2 col2\" >F</td>\n",
       "                        <td id=\"T_9d4ea6ee_60ee_11ea_9fa0_50e08586bf81row2_col3\" class=\"data row2 col3\" >0-17</td>\n",
       "                        <td id=\"T_9d4ea6ee_60ee_11ea_9fa0_50e08586bf81row2_col4\" class=\"data row2 col4\" >10</td>\n",
       "                        <td id=\"T_9d4ea6ee_60ee_11ea_9fa0_50e08586bf81row2_col5\" class=\"data row2 col5\" >A</td>\n",
       "                        <td id=\"T_9d4ea6ee_60ee_11ea_9fa0_50e08586bf81row2_col6\" class=\"data row2 col6\" >2</td>\n",
       "                        <td id=\"T_9d4ea6ee_60ee_11ea_9fa0_50e08586bf81row2_col7\" class=\"data row2 col7\" >0</td>\n",
       "                        <td id=\"T_9d4ea6ee_60ee_11ea_9fa0_50e08586bf81row2_col8\" class=\"data row2 col8\" >12</td>\n",
       "                        <td id=\"T_9d4ea6ee_60ee_11ea_9fa0_50e08586bf81row2_col9\" class=\"data row2 col9\" >nan</td>\n",
       "                        <td id=\"T_9d4ea6ee_60ee_11ea_9fa0_50e08586bf81row2_col10\" class=\"data row2 col10\" >nan</td>\n",
       "                        <td id=\"T_9d4ea6ee_60ee_11ea_9fa0_50e08586bf81row2_col11\" class=\"data row2 col11\" >1422.000000</td>\n",
       "            </tr>\n",
       "            <tr>\n",
       "                                <td id=\"T_9d4ea6ee_60ee_11ea_9fa0_50e08586bf81row3_col0\" class=\"data row3 col0\" >1000001</td>\n",
       "                        <td id=\"T_9d4ea6ee_60ee_11ea_9fa0_50e08586bf81row3_col1\" class=\"data row3 col1\" >P00085442</td>\n",
       "                        <td id=\"T_9d4ea6ee_60ee_11ea_9fa0_50e08586bf81row3_col2\" class=\"data row3 col2\" >F</td>\n",
       "                        <td id=\"T_9d4ea6ee_60ee_11ea_9fa0_50e08586bf81row3_col3\" class=\"data row3 col3\" >0-17</td>\n",
       "                        <td id=\"T_9d4ea6ee_60ee_11ea_9fa0_50e08586bf81row3_col4\" class=\"data row3 col4\" >10</td>\n",
       "                        <td id=\"T_9d4ea6ee_60ee_11ea_9fa0_50e08586bf81row3_col5\" class=\"data row3 col5\" >A</td>\n",
       "                        <td id=\"T_9d4ea6ee_60ee_11ea_9fa0_50e08586bf81row3_col6\" class=\"data row3 col6\" >2</td>\n",
       "                        <td id=\"T_9d4ea6ee_60ee_11ea_9fa0_50e08586bf81row3_col7\" class=\"data row3 col7\" >0</td>\n",
       "                        <td id=\"T_9d4ea6ee_60ee_11ea_9fa0_50e08586bf81row3_col8\" class=\"data row3 col8\" >12</td>\n",
       "                        <td id=\"T_9d4ea6ee_60ee_11ea_9fa0_50e08586bf81row3_col9\" class=\"data row3 col9\" >14.000000</td>\n",
       "                        <td id=\"T_9d4ea6ee_60ee_11ea_9fa0_50e08586bf81row3_col10\" class=\"data row3 col10\" >nan</td>\n",
       "                        <td id=\"T_9d4ea6ee_60ee_11ea_9fa0_50e08586bf81row3_col11\" class=\"data row3 col11\" >1057.000000</td>\n",
       "            </tr>\n",
       "    </tbody></table>"
      ],
      "text/plain": [
       "<pandas.io.formats.style.Styler at 0x12f16b4d888>"
      ]
     },
     "execution_count": 3,
     "metadata": {},
     "output_type": "execute_result"
    }
   ],
   "source": [
    "# keep sort False in case you do not require the names of the columns in alphabetical order\n",
    "Data = pd.concat([Train, Test], sort=False)\n",
    "Data.head(4).style.hide_index()"
   ]
  },
  {
   "cell_type": "code",
   "execution_count": 4,
   "metadata": {},
   "outputs": [
    {
     "data": {
      "text/html": [
       "<div>\n",
       "<style scoped>\n",
       "    .dataframe tbody tr th:only-of-type {\n",
       "        vertical-align: middle;\n",
       "    }\n",
       "\n",
       "    .dataframe tbody tr th {\n",
       "        vertical-align: top;\n",
       "    }\n",
       "\n",
       "    .dataframe thead th {\n",
       "        text-align: right;\n",
       "    }\n",
       "</style>\n",
       "<table border=\"1\" class=\"dataframe\">\n",
       "  <thead>\n",
       "    <tr style=\"text-align: right;\">\n",
       "      <th></th>\n",
       "      <th>Female</th>\n",
       "      <th>Male</th>\n",
       "    </tr>\n",
       "  </thead>\n",
       "  <tbody>\n",
       "    <tr>\n",
       "      <th>Count</th>\n",
       "      <td>193636</td>\n",
       "      <td>590031</td>\n",
       "    </tr>\n",
       "  </tbody>\n",
       "</table>\n",
       "</div>"
      ],
      "text/plain": [
       "       Female    Male\n",
       "Count  193636  590031"
      ]
     },
     "metadata": {},
     "output_type": "display_data"
    },
    {
     "data": {
      "image/png": "[encoded data removed]",
      "text/plain": [
       "<Figure size 1008x108 with 1 Axes>"
      ]
     },
     "metadata": {
      "needs_background": "light"
     },
     "output_type": "display_data"
    }
   ],
   "source": [
    "Group = pd.DataFrame(Data.groupby('Gender')['Gender'].count())\n",
    "Group.columns = ['Count']\n",
    "Group.index = ['Female', 'Male']\n",
    "display(Group.T)\n",
    "\n",
    "fig, ax = plt.subplots(nrows=1, ncols=1, figsize=(14, 1.5), sharex = True)\n",
    "_ = sns.barplot(y = Group.index, x='Count', palette=\"Blues_d\", data=Group, ax = ax, hatch = '/')\n",
    "_ = ax.set_xlabel('Count')\n",
    "_ = ax.set_xlim([0,6e5])"
   ]
  },
  {
   "cell_type": "code",
   "execution_count": 5,
   "metadata": {},
   "outputs": [
    {
     "data": {
      "text/html": [
       "<div>\n",
       "<style scoped>\n",
       "    .dataframe tbody tr th:only-of-type {\n",
       "        vertical-align: middle;\n",
       "    }\n",
       "\n",
       "    .dataframe tbody tr th {\n",
       "        vertical-align: top;\n",
       "    }\n",
       "\n",
       "    .dataframe thead th {\n",
       "        text-align: right;\n",
       "    }\n",
       "</style>\n",
       "<table border=\"1\" class=\"dataframe\">\n",
       "  <thead>\n",
       "    <tr style=\"text-align: right;\">\n",
       "      <th>Age</th>\n",
       "      <th>0-17</th>\n",
       "      <th>18-25</th>\n",
       "      <th>26-35</th>\n",
       "      <th>36-45</th>\n",
       "      <th>46-50</th>\n",
       "      <th>51-55</th>\n",
       "      <th>55+</th>\n",
       "    </tr>\n",
       "  </thead>\n",
       "  <tbody>\n",
       "    <tr>\n",
       "      <th>Count</th>\n",
       "      <td>21334</td>\n",
       "      <td>141953</td>\n",
       "      <td>313015</td>\n",
       "      <td>156724</td>\n",
       "      <td>65278</td>\n",
       "      <td>54784</td>\n",
       "      <td>30579</td>\n",
       "    </tr>\n",
       "  </tbody>\n",
       "</table>\n",
       "</div>"
      ],
      "text/plain": [
       "Age     0-17   18-25   26-35   36-45  46-50  51-55    55+\n",
       "Count  21334  141953  313015  156724  65278  54784  30579"
      ]
     },
     "metadata": {},
     "output_type": "display_data"
    },
    {
     "data": {
      "image/png": "[encoded data removed]",
      "text/plain": [
       "<Figure size 432x432 with 1 Axes>"
      ]
     },
     "metadata": {},
     "output_type": "display_data"
    }
   ],
   "source": [
    "Group = pd.DataFrame(Data.groupby('Age')['Age'].count())\n",
    "Group.columns = ['Count']\n",
    "display(Group.T)\n",
    "\n",
    "fig, ax = plt.subplots(1,1, figsize=(6,6))\n",
    "_ = Group.plot.pie(y='Count', startangle=90, legend=False,label='',ax=ax, autopct='%1.1f%%',\n",
    "                   colors = sns.color_palette(\"Spectral\", len(Group)), fontsize=12)\n",
    "_ = ax.legend(bbox_to_anchor=(2, 1))\n",
    "_ = ax.set_title('The Number of Rolling Per Year')"
   ]
  },
  {
   "cell_type": "code",
   "execution_count": 6,
   "metadata": {},
   "outputs": [
    {
     "data": {
      "text/html": [
       "<div>\n",
       "<style scoped>\n",
       "    .dataframe tbody tr th:only-of-type {\n",
       "        vertical-align: middle;\n",
       "    }\n",
       "\n",
       "    .dataframe tbody tr th {\n",
       "        vertical-align: top;\n",
       "    }\n",
       "\n",
       "    .dataframe thead th {\n",
       "        text-align: right;\n",
       "    }\n",
       "</style>\n",
       "<table border=\"1\" class=\"dataframe\">\n",
       "  <thead>\n",
       "    <tr style=\"text-align: right;\">\n",
       "      <th>Marital_Status</th>\n",
       "      <th>No</th>\n",
       "      <th>Yes</th>\n",
       "    </tr>\n",
       "  </thead>\n",
       "  <tbody>\n",
       "    <tr>\n",
       "      <th>Count</th>\n",
       "      <td>462538</td>\n",
       "      <td>321129</td>\n",
       "    </tr>\n",
       "  </tbody>\n",
       "</table>\n",
       "</div>"
      ],
      "text/plain": [
       "Marital_Status      No     Yes\n",
       "Count           462538  321129"
      ]
     },
     "metadata": {},
     "output_type": "display_data"
    },
    {
     "data": {
      "image/png": "[encoded data removed]",
      "text/plain": [
       "<Figure size 432x432 with 1 Axes>"
      ]
     },
     "metadata": {},
     "output_type": "display_data"
    }
   ],
   "source": [
    "Temp= Data.copy()\n",
    "Temp['Marital_Status'] = Temp['Marital_Status'].map({1: \"Yes\", 0: \"No\"})\n",
    "Group = pd.DataFrame(Temp.groupby('Marital_Status')['Marital_Status'].count())\n",
    "Group.columns = ['Count']\n",
    "del Temp\n",
    "display(Group.T)\n",
    "\n",
    "fig, ax = plt.subplots(1,1, figsize=(6,6))\n",
    "_ = Group.plot.pie(y='Count', startangle=90, legend=False,label='',ax=ax, autopct='%1.1f%%',\n",
    "                   colors = sns.color_palette(\"deep\", len(Group)), fontsize=12)\n",
    "_ = ax.legend(bbox_to_anchor=(2, 1))\n",
    "_ = ax.set_title('The Number of Rolling Per Year')"
   ]
  },
  {
   "cell_type": "code",
   "execution_count": 7,
   "metadata": {},
   "outputs": [],
   "source": [
    "def Search_Columns(Inp, df= Data):\n",
    "    ''' Search for specific value (Inp)'''\n",
    "    Columns_list = df.columns.tolist()\n",
    "    mylist=list()\n",
    "    for i in range(len(Columns_list)):\n",
    "        if Columns_list[i].find(Inp) != -1:\n",
    "            mylist.append(Columns_list[i])\n",
    "    return mylist"
   ]
  },
  {
   "cell_type": "markdown",
   "metadata": {},
   "source": [
    "# Preprocessing"
   ]
  },
  {
   "cell_type": "code",
   "execution_count": 8,
   "metadata": {},
   "outputs": [],
   "source": [
    "def NaN_Table(Inp):\n",
    "    Out = pd.DataFrame(Inp.isnull().sum(), columns=['Number of NaN Values'])\n",
    "    Out['Percentage'] = np.round(100*(Out['Number of NaN Values']/Inp.shape[0]),2)\n",
    "    Out = Out[Out['Number of NaN Values']>0]\n",
    "    display(Out)\n",
    "    return Out.index.tolist()\n",
    "def Data_Type_Table(Inp):\n",
    "    Out = pd.DataFrame(Inp.dtypes,columns=['Data Type']).sort_values(by=['Data Type'])\n",
    "    display(Out)\n",
    "    return Out"
   ]
  },
  {
   "cell_type": "code",
   "execution_count": 9,
   "metadata": {},
   "outputs": [
    {
     "data": {
      "text/html": [
       "<div>\n",
       "<style scoped>\n",
       "    .dataframe tbody tr th:only-of-type {\n",
       "        vertical-align: middle;\n",
       "    }\n",
       "\n",
       "    .dataframe tbody tr th {\n",
       "        vertical-align: top;\n",
       "    }\n",
       "\n",
       "    .dataframe thead th {\n",
       "        text-align: right;\n",
       "    }\n",
       "</style>\n",
       "<table border=\"1\" class=\"dataframe\">\n",
       "  <thead>\n",
       "    <tr style=\"text-align: right;\">\n",
       "      <th></th>\n",
       "      <th>User_ID</th>\n",
       "      <th>Occupation</th>\n",
       "      <th>Marital_Status</th>\n",
       "      <th>Product_Category_1</th>\n",
       "      <th>Product_Category_2</th>\n",
       "      <th>Product_Category_3</th>\n",
       "      <th>Purchase</th>\n",
       "    </tr>\n",
       "  </thead>\n",
       "  <tbody>\n",
       "    <tr>\n",
       "      <th>count</th>\n",
       "      <td>7.836670e+05</td>\n",
       "      <td>783667.000000</td>\n",
       "      <td>783667.000000</td>\n",
       "      <td>783667.000000</td>\n",
       "      <td>537685.000000</td>\n",
       "      <td>237858.000000</td>\n",
       "      <td>550068.000000</td>\n",
       "    </tr>\n",
       "    <tr>\n",
       "      <th>mean</th>\n",
       "      <td>1.003029e+06</td>\n",
       "      <td>8.079300</td>\n",
       "      <td>0.409777</td>\n",
       "      <td>5.366196</td>\n",
       "      <td>9.844506</td>\n",
       "      <td>12.668605</td>\n",
       "      <td>9263.968713</td>\n",
       "    </tr>\n",
       "    <tr>\n",
       "      <th>std</th>\n",
       "      <td>1.727267e+03</td>\n",
       "      <td>6.522206</td>\n",
       "      <td>0.491793</td>\n",
       "      <td>3.878160</td>\n",
       "      <td>5.089093</td>\n",
       "      <td>4.125510</td>\n",
       "      <td>5023.065394</td>\n",
       "    </tr>\n",
       "    <tr>\n",
       "      <th>min</th>\n",
       "      <td>1.000001e+06</td>\n",
       "      <td>0.000000</td>\n",
       "      <td>0.000000</td>\n",
       "      <td>1.000000</td>\n",
       "      <td>2.000000</td>\n",
       "      <td>3.000000</td>\n",
       "      <td>12.000000</td>\n",
       "    </tr>\n",
       "    <tr>\n",
       "      <th>25%</th>\n",
       "      <td>1.001519e+06</td>\n",
       "      <td>2.000000</td>\n",
       "      <td>0.000000</td>\n",
       "      <td>1.000000</td>\n",
       "      <td>5.000000</td>\n",
       "      <td>9.000000</td>\n",
       "      <td>5823.000000</td>\n",
       "    </tr>\n",
       "    <tr>\n",
       "      <th>50%</th>\n",
       "      <td>1.003075e+06</td>\n",
       "      <td>7.000000</td>\n",
       "      <td>0.000000</td>\n",
       "      <td>5.000000</td>\n",
       "      <td>9.000000</td>\n",
       "      <td>14.000000</td>\n",
       "      <td>8047.000000</td>\n",
       "    </tr>\n",
       "    <tr>\n",
       "      <th>75%</th>\n",
       "      <td>1.004478e+06</td>\n",
       "      <td>14.000000</td>\n",
       "      <td>1.000000</td>\n",
       "      <td>8.000000</td>\n",
       "      <td>15.000000</td>\n",
       "      <td>16.000000</td>\n",
       "      <td>12054.000000</td>\n",
       "    </tr>\n",
       "    <tr>\n",
       "      <th>max</th>\n",
       "      <td>1.006040e+06</td>\n",
       "      <td>20.000000</td>\n",
       "      <td>1.000000</td>\n",
       "      <td>20.000000</td>\n",
       "      <td>18.000000</td>\n",
       "      <td>18.000000</td>\n",
       "      <td>23961.000000</td>\n",
       "    </tr>\n",
       "  </tbody>\n",
       "</table>\n",
       "</div>"
      ],
      "text/plain": [
       "            User_ID     Occupation  Marital_Status  Product_Category_1  \\\n",
       "count  7.836670e+05  783667.000000   783667.000000       783667.000000   \n",
       "mean   1.003029e+06       8.079300        0.409777            5.366196   \n",
       "std    1.727267e+03       6.522206        0.491793            3.878160   \n",
       "min    1.000001e+06       0.000000        0.000000            1.000000   \n",
       "25%    1.001519e+06       2.000000        0.000000            1.000000   \n",
       "50%    1.003075e+06       7.000000        0.000000            5.000000   \n",
       "75%    1.004478e+06      14.000000        1.000000            8.000000   \n",
       "max    1.006040e+06      20.000000        1.000000           20.000000   \n",
       "\n",
       "       Product_Category_2  Product_Category_3       Purchase  \n",
       "count       537685.000000       237858.000000  550068.000000  \n",
       "mean             9.844506           12.668605    9263.968713  \n",
       "std              5.089093            4.125510    5023.065394  \n",
       "min              2.000000            3.000000      12.000000  \n",
       "25%              5.000000            9.000000    5823.000000  \n",
       "50%              9.000000           14.000000    8047.000000  \n",
       "75%             15.000000           16.000000   12054.000000  \n",
       "max             18.000000           18.000000   23961.000000  "
      ]
     },
     "metadata": {},
     "output_type": "display_data"
    },
    {
     "data": {
      "text/html": [
       "<div>\n",
       "<style scoped>\n",
       "    .dataframe tbody tr th:only-of-type {\n",
       "        vertical-align: middle;\n",
       "    }\n",
       "\n",
       "    .dataframe tbody tr th {\n",
       "        vertical-align: top;\n",
       "    }\n",
       "\n",
       "    .dataframe thead th {\n",
       "        text-align: right;\n",
       "    }\n",
       "</style>\n",
       "<table border=\"1\" class=\"dataframe\">\n",
       "  <thead>\n",
       "    <tr style=\"text-align: right;\">\n",
       "      <th></th>\n",
       "      <th>Data Type</th>\n",
       "    </tr>\n",
       "  </thead>\n",
       "  <tbody>\n",
       "    <tr>\n",
       "      <th>User_ID</th>\n",
       "      <td>int64</td>\n",
       "    </tr>\n",
       "    <tr>\n",
       "      <th>Occupation</th>\n",
       "      <td>int64</td>\n",
       "    </tr>\n",
       "    <tr>\n",
       "      <th>Marital_Status</th>\n",
       "      <td>int64</td>\n",
       "    </tr>\n",
       "    <tr>\n",
       "      <th>Product_Category_1</th>\n",
       "      <td>int64</td>\n",
       "    </tr>\n",
       "    <tr>\n",
       "      <th>Product_Category_2</th>\n",
       "      <td>float64</td>\n",
       "    </tr>\n",
       "    <tr>\n",
       "      <th>Product_Category_3</th>\n",
       "      <td>float64</td>\n",
       "    </tr>\n",
       "    <tr>\n",
       "      <th>Purchase</th>\n",
       "      <td>float64</td>\n",
       "    </tr>\n",
       "    <tr>\n",
       "      <th>Product_ID</th>\n",
       "      <td>object</td>\n",
       "    </tr>\n",
       "    <tr>\n",
       "      <th>Gender</th>\n",
       "      <td>object</td>\n",
       "    </tr>\n",
       "    <tr>\n",
       "      <th>Age</th>\n",
       "      <td>object</td>\n",
       "    </tr>\n",
       "    <tr>\n",
       "      <th>City_Category</th>\n",
       "      <td>object</td>\n",
       "    </tr>\n",
       "    <tr>\n",
       "      <th>Stay_In_Current_City_Years</th>\n",
       "      <td>object</td>\n",
       "    </tr>\n",
       "  </tbody>\n",
       "</table>\n",
       "</div>"
      ],
      "text/plain": [
       "                           Data Type\n",
       "User_ID                        int64\n",
       "Occupation                     int64\n",
       "Marital_Status                 int64\n",
       "Product_Category_1             int64\n",
       "Product_Category_2           float64\n",
       "Product_Category_3           float64\n",
       "Purchase                     float64\n",
       "Product_ID                    object\n",
       "Gender                        object\n",
       "Age                           object\n",
       "City_Category                 object\n",
       "Stay_In_Current_City_Years    object"
      ]
     },
     "metadata": {},
     "output_type": "display_data"
    },
    {
     "data": {
      "text/html": [
       "<div>\n",
       "<style scoped>\n",
       "    .dataframe tbody tr th:only-of-type {\n",
       "        vertical-align: middle;\n",
       "    }\n",
       "\n",
       "    .dataframe tbody tr th {\n",
       "        vertical-align: top;\n",
       "    }\n",
       "\n",
       "    .dataframe thead th {\n",
       "        text-align: right;\n",
       "    }\n",
       "</style>\n",
       "<table border=\"1\" class=\"dataframe\">\n",
       "  <thead>\n",
       "    <tr style=\"text-align: right;\">\n",
       "      <th></th>\n",
       "      <th>Number of NaN Values</th>\n",
       "      <th>Percentage</th>\n",
       "    </tr>\n",
       "  </thead>\n",
       "  <tbody>\n",
       "    <tr>\n",
       "      <th>Product_Category_2</th>\n",
       "      <td>245982</td>\n",
       "      <td>31.39</td>\n",
       "    </tr>\n",
       "    <tr>\n",
       "      <th>Product_Category_3</th>\n",
       "      <td>545809</td>\n",
       "      <td>69.65</td>\n",
       "    </tr>\n",
       "    <tr>\n",
       "      <th>Purchase</th>\n",
       "      <td>233599</td>\n",
       "      <td>29.81</td>\n",
       "    </tr>\n",
       "  </tbody>\n",
       "</table>\n",
       "</div>"
      ],
      "text/plain": [
       "                    Number of NaN Values  Percentage\n",
       "Product_Category_2                245982       31.39\n",
       "Product_Category_3                545809       69.65\n",
       "Purchase                          233599       29.81"
      ]
     },
     "metadata": {},
     "output_type": "display_data"
    }
   ],
   "source": [
    "display(Data.describe())\n",
    "Data_Type = Data_Type_Table(Data)\n",
    "NaN_Columns = NaN_Table(Data)"
   ]
  },
  {
   "cell_type": "markdown",
   "metadata": {},
   "source": [
    "In particular, we can see that"
   ]
  },
  {
   "cell_type": "code",
   "execution_count": 10,
   "metadata": {},
   "outputs": [
    {
     "data": {
      "text/html": [
       "<div>\n",
       "<style scoped>\n",
       "    .dataframe tbody tr th:only-of-type {\n",
       "        vertical-align: middle;\n",
       "    }\n",
       "\n",
       "    .dataframe tbody tr th {\n",
       "        vertical-align: top;\n",
       "    }\n",
       "\n",
       "    .dataframe thead th {\n",
       "        text-align: right;\n",
       "    }\n",
       "</style>\n",
       "<table border=\"1\" class=\"dataframe\">\n",
       "  <thead>\n",
       "    <tr style=\"text-align: right;\">\n",
       "      <th></th>\n",
       "      <th>Product_Category_2</th>\n",
       "      <th>Product_Category_3</th>\n",
       "      <th>Purchase</th>\n",
       "    </tr>\n",
       "  </thead>\n",
       "  <tbody>\n",
       "    <tr>\n",
       "      <th>0</th>\n",
       "      <td>NaN</td>\n",
       "      <td>NaN</td>\n",
       "      <td>NaN</td>\n",
       "    </tr>\n",
       "    <tr>\n",
       "      <th>1</th>\n",
       "      <td>NaN</td>\n",
       "      <td>NaN</td>\n",
       "      <td>NaN</td>\n",
       "    </tr>\n",
       "    <tr>\n",
       "      <th>2</th>\n",
       "      <td>NaN</td>\n",
       "      <td>NaN</td>\n",
       "      <td>NaN</td>\n",
       "    </tr>\n",
       "    <tr>\n",
       "      <th>3</th>\n",
       "      <td>NaN</td>\n",
       "      <td>NaN</td>\n",
       "      <td>NaN</td>\n",
       "    </tr>\n",
       "    <tr>\n",
       "      <th>4</th>\n",
       "      <td>NaN</td>\n",
       "      <td>NaN</td>\n",
       "      <td>NaN</td>\n",
       "    </tr>\n",
       "  </tbody>\n",
       "</table>\n",
       "</div>"
      ],
      "text/plain": [
       "   Product_Category_2  Product_Category_3  Purchase\n",
       "0                 NaN                 NaN       NaN\n",
       "1                 NaN                 NaN       NaN\n",
       "2                 NaN                 NaN       NaN\n",
       "3                 NaN                 NaN       NaN\n",
       "4                 NaN                 NaN       NaN"
      ]
     },
     "execution_count": 10,
     "metadata": {},
     "output_type": "execute_result"
    }
   ],
   "source": [
    "Null = Data[Data.isna()][NaN_Columns]\n",
    "Null.head()"
   ]
  },
  {
   "cell_type": "markdown",
   "metadata": {},
   "source": [
    "We can drop these values."
   ]
  },
  {
   "cell_type": "code",
   "execution_count": 11,
   "metadata": {},
   "outputs": [],
   "source": [
    "Data = Data.dropna()\n",
    "Data[NaN_Columns] = Data[NaN_Columns].astype(int)"
   ]
  },
  {
   "cell_type": "markdown",
   "metadata": {},
   "source": [
    "Note that now,"
   ]
  },
  {
   "cell_type": "code",
   "execution_count": 12,
   "metadata": {},
   "outputs": [
    {
     "data": {
      "text/html": [
       "<div>\n",
       "<style scoped>\n",
       "    .dataframe tbody tr th:only-of-type {\n",
       "        vertical-align: middle;\n",
       "    }\n",
       "\n",
       "    .dataframe tbody tr th {\n",
       "        vertical-align: top;\n",
       "    }\n",
       "\n",
       "    .dataframe thead th {\n",
       "        text-align: right;\n",
       "    }\n",
       "</style>\n",
       "<table border=\"1\" class=\"dataframe\">\n",
       "  <thead>\n",
       "    <tr style=\"text-align: right;\">\n",
       "      <th></th>\n",
       "      <th>Number of NaN Values</th>\n",
       "      <th>Percentage</th>\n",
       "    </tr>\n",
       "  </thead>\n",
       "  <tbody>\n",
       "  </tbody>\n",
       "</table>\n",
       "</div>"
      ],
      "text/plain": [
       "Empty DataFrame\n",
       "Columns: [Number of NaN Values, Percentage]\n",
       "Index: []"
      ]
     },
     "metadata": {},
     "output_type": "display_data"
    },
    {
     "data": {
      "text/plain": [
       "[]"
      ]
     },
     "execution_count": 12,
     "metadata": {},
     "output_type": "execute_result"
    }
   ],
   "source": [
    "NaN_Table(Data)"
   ]
  },
  {
   "cell_type": "markdown",
   "metadata": {},
   "source": [
    "## Sets"
   ]
  },
  {
   "cell_type": "markdown",
   "metadata": {},
   "source": [
    "For the next part, we can use **[LabelEncoder](#https://scikit-learn.org/stable/modules/generated/sklearn.preprocessing.LabelEncoder.html)** for converting categorical to numeric using. Therefore,"
   ]
  },
  {
   "cell_type": "code",
   "execution_count": 13,
   "metadata": {},
   "outputs": [
    {
     "data": {
      "text/html": [
       "<div>\n",
       "<style scoped>\n",
       "    .dataframe tbody tr th:only-of-type {\n",
       "        vertical-align: middle;\n",
       "    }\n",
       "\n",
       "    .dataframe tbody tr th {\n",
       "        vertical-align: top;\n",
       "    }\n",
       "\n",
       "    .dataframe thead th {\n",
       "        text-align: right;\n",
       "    }\n",
       "</style>\n",
       "<table border=\"1\" class=\"dataframe\">\n",
       "  <thead>\n",
       "    <tr style=\"text-align: right;\">\n",
       "      <th></th>\n",
       "      <th>Data Type</th>\n",
       "    </tr>\n",
       "  </thead>\n",
       "  <tbody>\n",
       "    <tr>\n",
       "      <th>Product_ID</th>\n",
       "      <td>int32</td>\n",
       "    </tr>\n",
       "    <tr>\n",
       "      <th>Gender</th>\n",
       "      <td>int32</td>\n",
       "    </tr>\n",
       "    <tr>\n",
       "      <th>Age</th>\n",
       "      <td>int32</td>\n",
       "    </tr>\n",
       "    <tr>\n",
       "      <th>City_Category</th>\n",
       "      <td>int32</td>\n",
       "    </tr>\n",
       "    <tr>\n",
       "      <th>Stay_In_Current_City_Years</th>\n",
       "      <td>int32</td>\n",
       "    </tr>\n",
       "    <tr>\n",
       "      <th>Product_Category_2</th>\n",
       "      <td>int32</td>\n",
       "    </tr>\n",
       "    <tr>\n",
       "      <th>Product_Category_3</th>\n",
       "      <td>int32</td>\n",
       "    </tr>\n",
       "    <tr>\n",
       "      <th>Purchase</th>\n",
       "      <td>int32</td>\n",
       "    </tr>\n",
       "    <tr>\n",
       "      <th>User_ID</th>\n",
       "      <td>int64</td>\n",
       "    </tr>\n",
       "    <tr>\n",
       "      <th>Occupation</th>\n",
       "      <td>int64</td>\n",
       "    </tr>\n",
       "    <tr>\n",
       "      <th>Marital_Status</th>\n",
       "      <td>int64</td>\n",
       "    </tr>\n",
       "    <tr>\n",
       "      <th>Product_Category_1</th>\n",
       "      <td>int64</td>\n",
       "    </tr>\n",
       "  </tbody>\n",
       "</table>\n",
       "</div>"
      ],
      "text/plain": [
       "                           Data Type\n",
       "Product_ID                     int32\n",
       "Gender                         int32\n",
       "Age                            int32\n",
       "City_Category                  int32\n",
       "Stay_In_Current_City_Years     int32\n",
       "Product_Category_2             int32\n",
       "Product_Category_3             int32\n",
       "Purchase                       int32\n",
       "User_ID                        int64\n",
       "Occupation                     int64\n",
       "Marital_Status                 int64\n",
       "Product_Category_1             int64"
      ]
     },
     "metadata": {},
     "output_type": "display_data"
    }
   ],
   "source": [
    "Categorical_List = Data_Type[~Data_Type['Data Type'].isin(['int64', 'float64'])]\n",
    "# Product_ID\n",
    "le_Product_ID = preprocessing.LabelEncoder()\n",
    "le_Product_ID.fit(list(Data['Product_ID']))\n",
    "Data.loc[:,['Product_ID']] = le_Product_ID.transform(Data.loc[:,['Product_ID']])\n",
    "# Gender\n",
    "le_Gender = preprocessing.LabelEncoder()\n",
    "le_Gender.fit(list(Data['Gender']))\n",
    "Data.loc[:,['Gender']] = le_Gender.transform(Data.loc[:,['Gender']])\n",
    "# Age\n",
    "le_Age = preprocessing.LabelEncoder()\n",
    "le_Age.fit(list(Data['Age']))\n",
    "Data.loc[:,['Age']] = le_Age.transform(Data.loc[:,['Age']])\n",
    "# City_Category\n",
    "le_City_Category = preprocessing.LabelEncoder()\n",
    "le_City_Category.fit(list(Data['City_Category']))\n",
    "Data.loc[:,['City_Category']] = le_City_Category.transform(Data.loc[:,['City_Category']])\n",
    "# Stay_In_Current_City_Years\n",
    "le_Stay_In_Current_City_Years = preprocessing.LabelEncoder()\n",
    "le_Stay_In_Current_City_Years.fit(list(Data['Stay_In_Current_City_Years']))\n",
    "Data.loc[:,['Stay_In_Current_City_Years']] = le_Stay_In_Current_City_Years.transform(Data.loc[:,['Stay_In_Current_City_Years']])\n",
    "# Finally\n",
    "_ = Data_Type_Table(Data)"
   ]
  },
  {
   "cell_type": "markdown",
   "metadata": {},
   "source": [
    "Thus, we have converted this set"
   ]
  },
  {
   "cell_type": "markdown",
   "metadata": {},
   "source": [
    "# Modeling"
   ]
  },
  {
   "cell_type": "code",
   "execution_count": 14,
   "metadata": {},
   "outputs": [],
   "source": [
    "def Scoring(clf, X, y):\n",
    "    Out = pd.DataFrame(np.array([[clf.score(X, y),\n",
    "                            mean_squared_error(y_test, clf.predict(X_test)),\n",
    "                            r2_score(y_test, clf.predict(X_test))]]),\n",
    "                       columns=['Score', 'MSE', 'Variance score'])\n",
    "    return Out.style.hide_index()\n",
    "    return Out"
   ]
  },
  {
   "cell_type": "code",
   "execution_count": 15,
   "metadata": {
    "scrolled": true
   },
   "outputs": [
    {
     "data": {
      "text/html": [
       "<style  type=\"text/css\" >\n",
       "</style><table id=\"T_9e56a10c_60ee_11ea_afb0_50e08586bf81\" ><thead>    <tr>        <th class=\"col_heading level0 col0\" >Set</th>        <th class=\"col_heading level0 col1\" >Shape</th>    </tr></thead><tbody>\n",
       "                <tr>\n",
       "                                <td id=\"T_9e56a10c_60ee_11ea_afb0_50e08586bf81row0_col0\" class=\"data row0 col0\" >X_train</td>\n",
       "                        <td id=\"T_9e56a10c_60ee_11ea_afb0_50e08586bf81row0_col1\" class=\"data row0 col1\" >(111770, 11)</td>\n",
       "            </tr>\n",
       "            <tr>\n",
       "                                <td id=\"T_9e56a10c_60ee_11ea_afb0_50e08586bf81row1_col0\" class=\"data row1 col0\" >X_test</td>\n",
       "                        <td id=\"T_9e56a10c_60ee_11ea_afb0_50e08586bf81row1_col1\" class=\"data row1 col1\" >(55051, 11)</td>\n",
       "            </tr>\n",
       "            <tr>\n",
       "                                <td id=\"T_9e56a10c_60ee_11ea_afb0_50e08586bf81row2_col0\" class=\"data row2 col0\" >y_train</td>\n",
       "                        <td id=\"T_9e56a10c_60ee_11ea_afb0_50e08586bf81row2_col1\" class=\"data row2 col1\" >(111770,)</td>\n",
       "            </tr>\n",
       "            <tr>\n",
       "                                <td id=\"T_9e56a10c_60ee_11ea_afb0_50e08586bf81row3_col0\" class=\"data row3 col0\" >y_test</td>\n",
       "                        <td id=\"T_9e56a10c_60ee_11ea_afb0_50e08586bf81row3_col1\" class=\"data row3 col1\" >(55051,)</td>\n",
       "            </tr>\n",
       "    </tbody></table>"
      ],
      "text/plain": [
       "<pandas.io.formats.style.Styler at 0x12f1de97948>"
      ]
     },
     "execution_count": 15,
     "metadata": {},
     "output_type": "execute_result"
    }
   ],
   "source": [
    "Target = 'Purchase'\n",
    "X = Data.drop(columns = Target)\n",
    "Y = Data[Target]\n",
    "\n",
    "X_train, X_test, y_train, y_test = train_test_split(X, Y, test_size=0.33, random_state=7)\n",
    "pd.DataFrame(data={'Set':['X_train','X_test','y_train','y_test'],\n",
    "             'Shape':[X_train.shape, X_test.shape, y_train.shape, y_test.shape]}).style.hide_index()"
   ]
  },
  {
   "cell_type": "markdown",
   "metadata": {},
   "source": [
    "## Developing a model"
   ]
  },
  {
   "cell_type": "code",
   "execution_count": 16,
   "metadata": {},
   "outputs": [],
   "source": [
    "#\n",
    "lr = LinearRegression().fit(X_train, y_train)\n",
    "lr2 = make_pipeline(preprocessing.RobustScaler(), lr).fit(X_train, y_train)\n",
    "#\n",
    "ridge = RidgeCV(alphas=[1e-5, 1e-4, 1e-3, 1e-2, 1e-1, 1, 1.5, 2, 4, 10, 16]).fit(X_train, y_train)\n",
    "ridge2 = make_pipeline(preprocessing.RobustScaler(), ridge).fit(X_train, y_train)\n",
    "#\n",
    "lasso = LassoCV(alphas=[1e-5, 1e-4, 1e-3, 1e-2, 1e-1, 1, 1.5, 2, 4, 10, 16]).fit(X_train, y_train)\n",
    "lasso2 = make_pipeline(preprocessing.RobustScaler(), lasso).fit(X_train, y_train)\n",
    "#\n",
    "elastic = ElasticNet().fit(X_train, y_train)\n",
    "elastic2 = make_pipeline(preprocessing.RobustScaler(), elastic).fit(X_train, y_train)\n",
    "#\n",
    "br = BaggingRegressor().fit(X_train, y_train)\n",
    "br2 = make_pipeline(preprocessing.RobustScaler(), br).fit(X_train, y_train)\n",
    "#\n",
    "gbr = GradientBoostingRegressor().fit(X_train, y_train)\n",
    "gbr2 = make_pipeline(preprocessing.RobustScaler(), gbr).fit(X_train, y_train)\n",
    "#\n",
    "rfr = RandomForestRegressor().fit(X_train, y_train)\n",
    "rfr2 = make_pipeline(preprocessing.RobustScaler(), rfr).fit(X_train, y_train)\n",
    "# Stacking\n",
    "stacked = StackingCVRegressor(regressors=(lr2, lasso2, br2, gbr2, rfr2),\n",
    "                              meta_regressor=rfr2,\n",
    "                              use_features_in_secondary=True).fit(X_train, y_train)\n",
    "del lr, ridge, lasso, br, gbr, rfr"
   ]
  },
  {
   "cell_type": "code",
   "execution_count": 17,
   "metadata": {},
   "outputs": [
    {
     "data": {
      "text/html": [
       "<style  type=\"text/css\" >\n",
       "</style><table id=\"T_8ac639da_60ef_11ea_baca_50e08586bf81\" ><thead>    <tr>        <th class=\"col_heading level0 col0\" >Score</th>        <th class=\"col_heading level0 col1\" >MSE</th>        <th class=\"col_heading level0 col2\" >Variance score</th>    </tr></thead><tbody>\n",
       "                <tr>\n",
       "                                <td id=\"T_8ac639da_60ef_11ea_baca_50e08586bf81row0_col0\" class=\"data row0 col0\" >0.577684</td>\n",
       "                        <td id=\"T_8ac639da_60ef_11ea_baca_50e08586bf81row0_col1\" class=\"data row0 col1\" >10871729.443879</td>\n",
       "                        <td id=\"T_8ac639da_60ef_11ea_baca_50e08586bf81row0_col2\" class=\"data row0 col2\" >0.577684</td>\n",
       "            </tr>\n",
       "    </tbody></table>"
      ],
      "text/plain": [
       "<pandas.io.formats.style.Styler at 0x12f1df595c8>"
      ]
     },
     "execution_count": 17,
     "metadata": {},
     "output_type": "execute_result"
    }
   ],
   "source": [
    "Scoring(stacked, X_test, y_test)"
   ]
  },
  {
   "cell_type": "code",
   "execution_count": 27,
   "metadata": {},
   "outputs": [
    {
     "name": "stdout",
     "output_type": "stream",
     "text": [
      "Minimum = 315.480000, Maximum = 22554.720000\n"
     ]
    }
   ],
   "source": [
    "Predictions = stacked.predict(X_test)\n",
    "print('Minimum = %f, Maximum = %f'% (Predictions.min(), Predictions.max()))"
   ]
  },
  {
   "cell_type": "markdown",
   "metadata": {},
   "source": [
    "## XGBoost modeling\n",
    "\n",
    "First, we can try **[XGBoost](https://xgboost.readthedocs.io/en/latest/python/python_intro.html)** which provides a gradient boosting framework. First, we need to set up the parameters. For a quick review, please see [this link](https://www.analyticsvidhya.com/blog/2016/03/complete-guide-parameter-tuning-xgboost-with-codes-python/) and [this link](https://xgboost.readthedocs.io/en/latest/parameter.html)."
   ]
  },
  {
   "cell_type": "code",
   "execution_count": 18,
   "metadata": {},
   "outputs": [],
   "source": [
    "# creating an empty dictionary\n",
    "params = {}\n",
    "params[\"silent\"] = 1\n",
    "params[\"eta\"] = 0.11\n",
    "params[\"min_child_weight\"] = 11\n",
    "params[\"scale_pos_weight\"] = 0.7\n",
    "params[\"seed\"] = 0\n",
    "params[\"base_score\"] = 1800\n",
    "params[\"subsample\"] = 0.6\n",
    "params[\"colsample_bytree\"] = 0.6\n",
    "\n",
    "parm_list = list(params.items())\n",
    "Steps = 1500"
   ]
  },
  {
   "cell_type": "markdown",
   "metadata": {},
   "source": [
    "For the next part, we use **[DMatrix](https://xgboost.readthedocs.io/en/latest/python/python_api.html?highlight=dmatrix#xgboost.DMatrix)** which transforms a numpy array of data to a **DMatrix object**."
   ]
  },
  {
   "cell_type": "code",
   "execution_count": 19,
   "metadata": {},
   "outputs": [],
   "source": [
    "xgtrain = xgb.DMatrix(X_train, label=y_train)"
   ]
  },
  {
   "cell_type": "markdown",
   "metadata": {},
   "source": [
    "Creating a model using **[xgb.train](https://xgboost.readthedocs.io/en/latest/python/python_api.html?highlight=xgb%20train#xgboost.train)**:"
   ]
  },
  {
   "cell_type": "code",
   "execution_count": 20,
   "metadata": {},
   "outputs": [],
   "source": [
    "model = xgb.train(parm_list, xgtrain, Steps)"
   ]
  },
  {
   "cell_type": "code",
   "execution_count": 25,
   "metadata": {},
   "outputs": [
    {
     "data": {
      "text/html": [
       "<div>\n",
       "<style scoped>\n",
       "    .dataframe tbody tr th:only-of-type {\n",
       "        vertical-align: middle;\n",
       "    }\n",
       "\n",
       "    .dataframe tbody tr th {\n",
       "        vertical-align: top;\n",
       "    }\n",
       "\n",
       "    .dataframe thead th {\n",
       "        text-align: right;\n",
       "    }\n",
       "</style>\n",
       "<table border=\"1\" class=\"dataframe\">\n",
       "  <thead>\n",
       "    <tr style=\"text-align: right;\">\n",
       "      <th></th>\n",
       "      <th>MSE</th>\n",
       "      <th>Variance score</th>\n",
       "    </tr>\n",
       "  </thead>\n",
       "  <tbody>\n",
       "    <tr>\n",
       "      <th>0</th>\n",
       "      <td>9.314272e+06</td>\n",
       "      <td>0.638184</td>\n",
       "    </tr>\n",
       "  </tbody>\n",
       "</table>\n",
       "</div>"
      ],
      "text/plain": [
       "            MSE  Variance score\n",
       "0  9.314272e+06        0.638184"
      ]
     },
     "metadata": {},
     "output_type": "display_data"
    },
    {
     "name": "stdout",
     "output_type": "stream",
     "text": [
      "Minimum = -2601.385742, Maximum = 23160.019531\n"
     ]
    }
   ],
   "source": [
    "Predictions = model.predict(xgb.DMatrix(X_test))\n",
    "display(pd.DataFrame(np.array([[mean_squared_error(y_test, Predictions), r2_score(y_test, Predictions)]]),\n",
    "                       columns=['MSE', 'Variance score']))\n",
    "print('Minimum = %f, Maximum = %f'% (Predictions.min(), Predictions.max()))"
   ]
  },
  {
   "cell_type": "markdown",
   "metadata": {},
   "source": [
    "Since we are talking about purchases, <font color='red'>*negative values do not make sense!*</font>."
   ]
  },
  {
   "cell_type": "markdown",
   "metadata": {},
   "source": [
    "Therefore, for this example, we would recommend the stacked model for predictions. However, this model still can be improved by stacking some of the iterative models, such as XGBoost that we have used."
   ]
  },
  {
   "cell_type": "markdown",
   "metadata": {},
   "source": [
    "***"
   ]
  }
 ],
 "metadata": {
  "kernelspec": {
   "display_name": "Python 3",
   "language": "python",
   "name": "python3"
  },
  "language_info": {
   "codemirror_mode": {
    "name": "ipython",
    "version": 3
   },
   "file_extension": ".py",
   "mimetype": "text/x-python",
   "name": "python",
   "nbconvert_exporter": "python",
   "pygments_lexer": "ipython3",
   "version": "3.7.6"
  }
 },
 "nbformat": 4,
 "nbformat_minor": 1
}
