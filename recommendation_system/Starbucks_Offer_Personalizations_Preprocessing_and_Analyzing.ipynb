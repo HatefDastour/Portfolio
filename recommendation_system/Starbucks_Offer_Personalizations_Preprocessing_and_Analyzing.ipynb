{
 "cells": [
  {
   "cell_type": "code",
   "execution_count": 1,
   "metadata": {},
   "outputs": [],
   "source": [
    "# Required Packages\n",
    "import pandas as pd\n",
    "import numpy as np\n",
    "import math\n",
    "import json\n",
    "\n",
    "# Display\n",
    "from IPython.core.display import Image, display\n",
    "import progressbar\n",
    "\n",
    "# Plots\n",
    "\n",
    "import seaborn as sns\n",
    "import matplotlib.pyplot as plt\n",
    "\n",
    "# sns setting\n",
    "sns.set_context(\"paper\", rc={\"font.size\":12,\"axes.titlesize\":14,\"axes.labelsize\":12})\n",
    "sns.set_style(\"whitegrid\")\n",
    "\n",
    "# plt setting\n",
    "plt.style.use('seaborn-whitegrid')\n",
    "plt.rcParams['axes.labelsize'] = 14\n",
    "plt.rcParams['xtick.labelsize'] = 12\n",
    "plt.rcParams['ytick.labelsize'] = 12\n",
    "plt.rcParams['text.color'] = 'k'\n",
    "%matplotlib inline\n",
    "import warnings\n",
    "warnings.filterwarnings(\"ignore\")"
   ]
  },
  {
   "cell_type": "markdown",
   "metadata": {},
   "source": [
    "<img src='https://upload.wikimedia.org/wikipedia/en/thumb/d/d3/Starbucks_Corporation_Logo_2011.svg/474px-Starbucks_Corporation_Logo_2011.svg.png' width='300' align=\"center\"/>"
   ]
  },
  {
   "cell_type": "markdown",
   "metadata": {},
   "source": [
    "# Starbucks Offer Personalizations\n",
    "\n",
    "In this article, simulated data that mimics customer behavior on the Starbucks rewards mobile app is used. Starbucks tends to send out offers to users of the mobile app once every few days. These offers are exclusive, that is not all users receive the same offer. An offer can contain a  discount for their products or sometimes BOGO (buy one get one free). These offers have a validity period before the offer expires. The article here is inspired by a [towardsdatascience.com](https://towardsdatascience.com/using-starbucks-app-user-data-to-predict-effective-offers-20b799f3a6d5) article."
   ]
  },
  {
   "cell_type": "markdown",
   "metadata": {},
   "source": [
    "### Table of contents\n",
    "* [Data](#Data)\n",
    "* [Preprocessing](#Preprocessing)\n",
    "    * [Portfolio Data](#Portfolio-Data)\n",
    "    * [Profile Data](#Portfolio-Data)\n",
    "    * [Transcript Data](#Transcript-Data)\n",
    "    * [Transcript-Portfolio Data](#Transcript-Portfolio-Data)\n",
    "* [Analysis](#Analysis)\n",
    "    * [Analyzing Portfolio Data](#Analyzing-Portfolio-Data)\n",
    "        * [Channel Distribution for Various Offers](#Channel-Distribution-for-Various-Offers)\n",
    "        * [Age Distribution Plot](#Age-Distribution-Plot)\n",
    "        * [Income Distribution Plot](#Income-Distribution-Plot)\n",
    "        * [Gender Distribution Plot](#Gender-Distribution-Plot)\n",
    "        * [Membership Plots](#Gender-Distribution-Plot)\n",
    "* [Analyzing Transcript Data](#Analyzing-Transcript-Data)\n",
    "    * [Event Plots](#Event-Plots)\n",
    "    * [Received Reward Plot](#Received-Reward-Plot)\n",
    "    * [A Customer's Journey](#A-Customer's-Journey)"
   ]
  },
  {
   "cell_type": "markdown",
   "metadata": {},
   "source": [
    "## Data\n",
    "\n",
    "The data is contained in three files:"
   ]
  },
  {
   "cell_type": "code",
   "execution_count": 2,
   "metadata": {
    "scrolled": false
   },
   "outputs": [],
   "source": [
    "# read in the json files\n",
    "portfolio = pd.read_json('StarBucks/portfolio.json', orient='records', lines=True)\n",
    "profile = pd.read_json('StarBucks/profile.json', orient='records', lines=True)\n",
    "transcript = pd.read_json('StarBucks/transcript.json', orient='records', lines=True)"
   ]
  },
  {
   "cell_type": "code",
   "execution_count": 3,
   "metadata": {},
   "outputs": [],
   "source": [
    "def column_rename(Data):\n",
    "    Temp = Data.columns.tolist()\n",
    "    Temp = [x.title() for x in Temp]\n",
    "    Temp = [x.replace('Id','ID') for x in Temp]\n",
    "    Data.columns = Temp\n",
    "    del Temp\n",
    "    return Data"
   ]
  },
  {
   "cell_type": "code",
   "execution_count": 4,
   "metadata": {
    "scrolled": true
   },
   "outputs": [
    {
     "data": {
      "text/html": [
       "<style  type=\"text/css\" >\n",
       "</style><table id=\"T_dc5e1086_720b_11ea_9c80_50e08586bf81\" ><thead>    <tr>        <th class=\"col_heading level0 col0\" >Reward</th>        <th class=\"col_heading level0 col1\" >Channels</th>        <th class=\"col_heading level0 col2\" >Difficulty</th>        <th class=\"col_heading level0 col3\" >Duration</th>        <th class=\"col_heading level0 col4\" >Offer_Type</th>        <th class=\"col_heading level0 col5\" >ID</th>    </tr></thead><tbody>\n",
       "                <tr>\n",
       "                                <td id=\"T_dc5e1086_720b_11ea_9c80_50e08586bf81row0_col0\" class=\"data row0 col0\" >10</td>\n",
       "                        <td id=\"T_dc5e1086_720b_11ea_9c80_50e08586bf81row0_col1\" class=\"data row0 col1\" >['email', 'mobile', 'social']</td>\n",
       "                        <td id=\"T_dc5e1086_720b_11ea_9c80_50e08586bf81row0_col2\" class=\"data row0 col2\" >10</td>\n",
       "                        <td id=\"T_dc5e1086_720b_11ea_9c80_50e08586bf81row0_col3\" class=\"data row0 col3\" >7</td>\n",
       "                        <td id=\"T_dc5e1086_720b_11ea_9c80_50e08586bf81row0_col4\" class=\"data row0 col4\" >bogo</td>\n",
       "                        <td id=\"T_dc5e1086_720b_11ea_9c80_50e08586bf81row0_col5\" class=\"data row0 col5\" >ae264e3637204a6fb9bb56bc8210ddfd</td>\n",
       "            </tr>\n",
       "            <tr>\n",
       "                                <td id=\"T_dc5e1086_720b_11ea_9c80_50e08586bf81row1_col0\" class=\"data row1 col0\" >10</td>\n",
       "                        <td id=\"T_dc5e1086_720b_11ea_9c80_50e08586bf81row1_col1\" class=\"data row1 col1\" >['web', 'email', 'mobile', 'social']</td>\n",
       "                        <td id=\"T_dc5e1086_720b_11ea_9c80_50e08586bf81row1_col2\" class=\"data row1 col2\" >10</td>\n",
       "                        <td id=\"T_dc5e1086_720b_11ea_9c80_50e08586bf81row1_col3\" class=\"data row1 col3\" >5</td>\n",
       "                        <td id=\"T_dc5e1086_720b_11ea_9c80_50e08586bf81row1_col4\" class=\"data row1 col4\" >bogo</td>\n",
       "                        <td id=\"T_dc5e1086_720b_11ea_9c80_50e08586bf81row1_col5\" class=\"data row1 col5\" >4d5c57ea9a6940dd891ad53e9dbe8da0</td>\n",
       "            </tr>\n",
       "            <tr>\n",
       "                                <td id=\"T_dc5e1086_720b_11ea_9c80_50e08586bf81row2_col0\" class=\"data row2 col0\" >0</td>\n",
       "                        <td id=\"T_dc5e1086_720b_11ea_9c80_50e08586bf81row2_col1\" class=\"data row2 col1\" >['web', 'email', 'mobile']</td>\n",
       "                        <td id=\"T_dc5e1086_720b_11ea_9c80_50e08586bf81row2_col2\" class=\"data row2 col2\" >0</td>\n",
       "                        <td id=\"T_dc5e1086_720b_11ea_9c80_50e08586bf81row2_col3\" class=\"data row2 col3\" >4</td>\n",
       "                        <td id=\"T_dc5e1086_720b_11ea_9c80_50e08586bf81row2_col4\" class=\"data row2 col4\" >informational</td>\n",
       "                        <td id=\"T_dc5e1086_720b_11ea_9c80_50e08586bf81row2_col5\" class=\"data row2 col5\" >3f207df678b143eea3cee63160fa8bed</td>\n",
       "            </tr>\n",
       "            <tr>\n",
       "                                <td id=\"T_dc5e1086_720b_11ea_9c80_50e08586bf81row3_col0\" class=\"data row3 col0\" >5</td>\n",
       "                        <td id=\"T_dc5e1086_720b_11ea_9c80_50e08586bf81row3_col1\" class=\"data row3 col1\" >['web', 'email', 'mobile']</td>\n",
       "                        <td id=\"T_dc5e1086_720b_11ea_9c80_50e08586bf81row3_col2\" class=\"data row3 col2\" >5</td>\n",
       "                        <td id=\"T_dc5e1086_720b_11ea_9c80_50e08586bf81row3_col3\" class=\"data row3 col3\" >7</td>\n",
       "                        <td id=\"T_dc5e1086_720b_11ea_9c80_50e08586bf81row3_col4\" class=\"data row3 col4\" >bogo</td>\n",
       "                        <td id=\"T_dc5e1086_720b_11ea_9c80_50e08586bf81row3_col5\" class=\"data row3 col5\" >9b98b8c7a33c4b65b9aebfe6a799e6d9</td>\n",
       "            </tr>\n",
       "            <tr>\n",
       "                                <td id=\"T_dc5e1086_720b_11ea_9c80_50e08586bf81row4_col0\" class=\"data row4 col0\" >5</td>\n",
       "                        <td id=\"T_dc5e1086_720b_11ea_9c80_50e08586bf81row4_col1\" class=\"data row4 col1\" >['web', 'email']</td>\n",
       "                        <td id=\"T_dc5e1086_720b_11ea_9c80_50e08586bf81row4_col2\" class=\"data row4 col2\" >20</td>\n",
       "                        <td id=\"T_dc5e1086_720b_11ea_9c80_50e08586bf81row4_col3\" class=\"data row4 col3\" >10</td>\n",
       "                        <td id=\"T_dc5e1086_720b_11ea_9c80_50e08586bf81row4_col4\" class=\"data row4 col4\" >discount</td>\n",
       "                        <td id=\"T_dc5e1086_720b_11ea_9c80_50e08586bf81row4_col5\" class=\"data row4 col5\" >0b1e1539f2cc45b7b9fa7c272da2e1d7</td>\n",
       "            </tr>\n",
       "    </tbody></table>"
      ],
      "text/plain": [
       "<pandas.io.formats.style.Styler at 0x22ef1530fc8>"
      ]
     },
     "execution_count": 4,
     "metadata": {},
     "output_type": "execute_result"
    }
   ],
   "source": [
    "portfolio = column_rename(portfolio)\n",
    "portfolio.head().style.hide_index()"
   ]
  },
  {
   "cell_type": "markdown",
   "metadata": {},
   "source": [
    "Here\n",
    "\n",
    "| Parameter | Description |\n",
    "|----------------------------|------------------------------------------------------|\n",
    "| Reward (int) | Given Reward for Completing an Offer |\n",
    "| Channels (list of strings) | Email, Mobile App, Social Media, etc |\n",
    "| Difficulty (int) | Minimum Spending Requirement for Completing an Offer |\n",
    "| Duration (int) | Time That an Offer is Valid |\n",
    "| Offer_Type (string) | Type of Offer |\n",
    "| ID| (string) \t  | Offer ID |"
   ]
  },
  {
   "cell_type": "code",
   "execution_count": 5,
   "metadata": {
    "scrolled": true
   },
   "outputs": [
    {
     "data": {
      "text/html": [
       "<style  type=\"text/css\" >\n",
       "</style><table id=\"T_dc5f21f0_720b_11ea_b789_50e08586bf81\" ><thead>    <tr>        <th class=\"col_heading level0 col0\" >Gender</th>        <th class=\"col_heading level0 col1\" >Age</th>        <th class=\"col_heading level0 col2\" >ID</th>        <th class=\"col_heading level0 col3\" >Became_Member_On</th>        <th class=\"col_heading level0 col4\" >Income</th>    </tr></thead><tbody>\n",
       "                <tr>\n",
       "                                <td id=\"T_dc5f21f0_720b_11ea_b789_50e08586bf81row0_col0\" class=\"data row0 col0\" >None</td>\n",
       "                        <td id=\"T_dc5f21f0_720b_11ea_b789_50e08586bf81row0_col1\" class=\"data row0 col1\" >118</td>\n",
       "                        <td id=\"T_dc5f21f0_720b_11ea_b789_50e08586bf81row0_col2\" class=\"data row0 col2\" >68be06ca386d4c31939f3a4f0e3dd783</td>\n",
       "                        <td id=\"T_dc5f21f0_720b_11ea_b789_50e08586bf81row0_col3\" class=\"data row0 col3\" >20170212</td>\n",
       "                        <td id=\"T_dc5f21f0_720b_11ea_b789_50e08586bf81row0_col4\" class=\"data row0 col4\" >nan</td>\n",
       "            </tr>\n",
       "            <tr>\n",
       "                                <td id=\"T_dc5f21f0_720b_11ea_b789_50e08586bf81row1_col0\" class=\"data row1 col0\" >F</td>\n",
       "                        <td id=\"T_dc5f21f0_720b_11ea_b789_50e08586bf81row1_col1\" class=\"data row1 col1\" >55</td>\n",
       "                        <td id=\"T_dc5f21f0_720b_11ea_b789_50e08586bf81row1_col2\" class=\"data row1 col2\" >0610b486422d4921ae7d2bf64640c50b</td>\n",
       "                        <td id=\"T_dc5f21f0_720b_11ea_b789_50e08586bf81row1_col3\" class=\"data row1 col3\" >20170715</td>\n",
       "                        <td id=\"T_dc5f21f0_720b_11ea_b789_50e08586bf81row1_col4\" class=\"data row1 col4\" >112000.000000</td>\n",
       "            </tr>\n",
       "            <tr>\n",
       "                                <td id=\"T_dc5f21f0_720b_11ea_b789_50e08586bf81row2_col0\" class=\"data row2 col0\" >None</td>\n",
       "                        <td id=\"T_dc5f21f0_720b_11ea_b789_50e08586bf81row2_col1\" class=\"data row2 col1\" >118</td>\n",
       "                        <td id=\"T_dc5f21f0_720b_11ea_b789_50e08586bf81row2_col2\" class=\"data row2 col2\" >38fe809add3b4fcf9315a9694bb96ff5</td>\n",
       "                        <td id=\"T_dc5f21f0_720b_11ea_b789_50e08586bf81row2_col3\" class=\"data row2 col3\" >20180712</td>\n",
       "                        <td id=\"T_dc5f21f0_720b_11ea_b789_50e08586bf81row2_col4\" class=\"data row2 col4\" >nan</td>\n",
       "            </tr>\n",
       "            <tr>\n",
       "                                <td id=\"T_dc5f21f0_720b_11ea_b789_50e08586bf81row3_col0\" class=\"data row3 col0\" >F</td>\n",
       "                        <td id=\"T_dc5f21f0_720b_11ea_b789_50e08586bf81row3_col1\" class=\"data row3 col1\" >75</td>\n",
       "                        <td id=\"T_dc5f21f0_720b_11ea_b789_50e08586bf81row3_col2\" class=\"data row3 col2\" >78afa995795e4d85b5d9ceeca43f5fef</td>\n",
       "                        <td id=\"T_dc5f21f0_720b_11ea_b789_50e08586bf81row3_col3\" class=\"data row3 col3\" >20170509</td>\n",
       "                        <td id=\"T_dc5f21f0_720b_11ea_b789_50e08586bf81row3_col4\" class=\"data row3 col4\" >100000.000000</td>\n",
       "            </tr>\n",
       "            <tr>\n",
       "                                <td id=\"T_dc5f21f0_720b_11ea_b789_50e08586bf81row4_col0\" class=\"data row4 col0\" >None</td>\n",
       "                        <td id=\"T_dc5f21f0_720b_11ea_b789_50e08586bf81row4_col1\" class=\"data row4 col1\" >118</td>\n",
       "                        <td id=\"T_dc5f21f0_720b_11ea_b789_50e08586bf81row4_col2\" class=\"data row4 col2\" >a03223e636434f42ac4c3df47e8bac43</td>\n",
       "                        <td id=\"T_dc5f21f0_720b_11ea_b789_50e08586bf81row4_col3\" class=\"data row4 col3\" >20170804</td>\n",
       "                        <td id=\"T_dc5f21f0_720b_11ea_b789_50e08586bf81row4_col4\" class=\"data row4 col4\" >nan</td>\n",
       "            </tr>\n",
       "    </tbody></table>"
      ],
      "text/plain": [
       "<pandas.io.formats.style.Styler at 0x22ef1576f48>"
      ]
     },
     "execution_count": 5,
     "metadata": {},
     "output_type": "execute_result"
    }
   ],
   "source": [
    "profile = column_rename(profile)\n",
    "profile.head().style.hide_index()"
   ]
  },
  {
   "cell_type": "markdown",
   "metadata": {},
   "source": [
    "In the above table:\n",
    "\n",
    "| Parameter | Description |\n",
    "|------------------------|--------------------|\n",
    "| Gender (str) | Customers Gender |\n",
    "| Age (int) | Customers Age |\n",
    "| ID (str) | Customers ID |\n",
    "| Became_Member_On (int) | Date of Membership |\n",
    "| Income (float) | Customer's Income |"
   ]
  },
  {
   "cell_type": "code",
   "execution_count": 6,
   "metadata": {},
   "outputs": [
    {
     "data": {
      "text/html": [
       "<style  type=\"text/css\" >\n",
       "</style><table id=\"T_dc6048c6_720b_11ea_89e0_50e08586bf81\" ><thead>    <tr>        <th class=\"col_heading level0 col0\" >Person</th>        <th class=\"col_heading level0 col1\" >Event</th>        <th class=\"col_heading level0 col2\" >Value</th>        <th class=\"col_heading level0 col3\" >Time</th>    </tr></thead><tbody>\n",
       "                <tr>\n",
       "                                <td id=\"T_dc6048c6_720b_11ea_89e0_50e08586bf81row0_col0\" class=\"data row0 col0\" >78afa995795e4d85b5d9ceeca43f5fef</td>\n",
       "                        <td id=\"T_dc6048c6_720b_11ea_89e0_50e08586bf81row0_col1\" class=\"data row0 col1\" >offer received</td>\n",
       "                        <td id=\"T_dc6048c6_720b_11ea_89e0_50e08586bf81row0_col2\" class=\"data row0 col2\" >{'offer id': '9b98b8c7a33c4b65b9aebfe6a799e6d9'}</td>\n",
       "                        <td id=\"T_dc6048c6_720b_11ea_89e0_50e08586bf81row0_col3\" class=\"data row0 col3\" >0</td>\n",
       "            </tr>\n",
       "            <tr>\n",
       "                                <td id=\"T_dc6048c6_720b_11ea_89e0_50e08586bf81row1_col0\" class=\"data row1 col0\" >a03223e636434f42ac4c3df47e8bac43</td>\n",
       "                        <td id=\"T_dc6048c6_720b_11ea_89e0_50e08586bf81row1_col1\" class=\"data row1 col1\" >offer received</td>\n",
       "                        <td id=\"T_dc6048c6_720b_11ea_89e0_50e08586bf81row1_col2\" class=\"data row1 col2\" >{'offer id': '0b1e1539f2cc45b7b9fa7c272da2e1d7'}</td>\n",
       "                        <td id=\"T_dc6048c6_720b_11ea_89e0_50e08586bf81row1_col3\" class=\"data row1 col3\" >0</td>\n",
       "            </tr>\n",
       "            <tr>\n",
       "                                <td id=\"T_dc6048c6_720b_11ea_89e0_50e08586bf81row2_col0\" class=\"data row2 col0\" >e2127556f4f64592b11af22de27a7932</td>\n",
       "                        <td id=\"T_dc6048c6_720b_11ea_89e0_50e08586bf81row2_col1\" class=\"data row2 col1\" >offer received</td>\n",
       "                        <td id=\"T_dc6048c6_720b_11ea_89e0_50e08586bf81row2_col2\" class=\"data row2 col2\" >{'offer id': '2906b810c7d4411798c6938adc9daaa5'}</td>\n",
       "                        <td id=\"T_dc6048c6_720b_11ea_89e0_50e08586bf81row2_col3\" class=\"data row2 col3\" >0</td>\n",
       "            </tr>\n",
       "            <tr>\n",
       "                                <td id=\"T_dc6048c6_720b_11ea_89e0_50e08586bf81row3_col0\" class=\"data row3 col0\" >8ec6ce2a7e7949b1bf142def7d0e0586</td>\n",
       "                        <td id=\"T_dc6048c6_720b_11ea_89e0_50e08586bf81row3_col1\" class=\"data row3 col1\" >offer received</td>\n",
       "                        <td id=\"T_dc6048c6_720b_11ea_89e0_50e08586bf81row3_col2\" class=\"data row3 col2\" >{'offer id': 'fafdcd668e3743c1bb461111dcafc2a4'}</td>\n",
       "                        <td id=\"T_dc6048c6_720b_11ea_89e0_50e08586bf81row3_col3\" class=\"data row3 col3\" >0</td>\n",
       "            </tr>\n",
       "            <tr>\n",
       "                                <td id=\"T_dc6048c6_720b_11ea_89e0_50e08586bf81row4_col0\" class=\"data row4 col0\" >68617ca6246f4fbc85e91a2a49552598</td>\n",
       "                        <td id=\"T_dc6048c6_720b_11ea_89e0_50e08586bf81row4_col1\" class=\"data row4 col1\" >offer received</td>\n",
       "                        <td id=\"T_dc6048c6_720b_11ea_89e0_50e08586bf81row4_col2\" class=\"data row4 col2\" >{'offer id': '4d5c57ea9a6940dd891ad53e9dbe8da0'}</td>\n",
       "                        <td id=\"T_dc6048c6_720b_11ea_89e0_50e08586bf81row4_col3\" class=\"data row4 col3\" >0</td>\n",
       "            </tr>\n",
       "    </tbody></table>"
      ],
      "text/plain": [
       "<pandas.io.formats.style.Styler at 0x22ef1576d08>"
      ]
     },
     "execution_count": 6,
     "metadata": {},
     "output_type": "execute_result"
    }
   ],
   "source": [
    "transcript = column_rename(transcript)\n",
    "transcript.head().style.hide_index()"
   ]
  },
  {
   "cell_type": "markdown",
   "metadata": {},
   "source": [
    "In the above table:\n",
    "\n",
    "| Parameter | Description |\n",
    "|---------------------------|--------------------------------------------------|\n",
    "| Person (str) | customer ID |\n",
    "| Event (str) | Record Description |\n",
    "| time (int) | time in hours (since the beginning of the study) |\n",
    "| Value - (dict of strings) | offer id or transaction amount |"
   ]
  },
  {
   "cell_type": "markdown",
   "metadata": {},
   "source": [
    "## Preprocessing\n",
    "\n",
    "### Portfolio Data\n",
    "\n",
    "The first thing that needs to be done is converting the categorical variables (that are important for our analysis) into dummy variables. We have,"
   ]
  },
  {
   "cell_type": "code",
   "execution_count": 7,
   "metadata": {
    "scrolled": true
   },
   "outputs": [],
   "source": [
    "Temp= portfolio['Channels'].str.join(',').str.get_dummies(',')\n",
    "portfolio = pd.concat([portfolio, Temp], axis = 1)\n",
    "del Temp\n",
    "portfolio.drop(['Channels'], axis = 1, inplace = True)\n",
    "#renaming column \"ID\" to \"Offer ID\"\n",
    "portfolio.rename(columns={'ID':'offer_ID'},inplace=True)"
   ]
  },
  {
   "cell_type": "markdown",
   "metadata": {},
   "source": [
    "Therefore, Portfolio Data becomes:"
   ]
  },
  {
   "cell_type": "code",
   "execution_count": 8,
   "metadata": {},
   "outputs": [
    {
     "data": {
      "text/html": [
       "<style  type=\"text/css\" >\n",
       "</style><table id=\"T_dc63f29c_720b_11ea_856a_50e08586bf81\" ><thead>    <tr>        <th class=\"col_heading level0 col0\" >Reward</th>        <th class=\"col_heading level0 col1\" >Difficulty</th>        <th class=\"col_heading level0 col2\" >Duration</th>        <th class=\"col_heading level0 col3\" >Offer_Type</th>        <th class=\"col_heading level0 col4\" >Offer_ID</th>        <th class=\"col_heading level0 col5\" >Email</th>        <th class=\"col_heading level0 col6\" >Mobile</th>        <th class=\"col_heading level0 col7\" >Social</th>        <th class=\"col_heading level0 col8\" >Web</th>    </tr></thead><tbody>\n",
       "                <tr>\n",
       "                                <td id=\"T_dc63f29c_720b_11ea_856a_50e08586bf81row0_col0\" class=\"data row0 col0\" >10</td>\n",
       "                        <td id=\"T_dc63f29c_720b_11ea_856a_50e08586bf81row0_col1\" class=\"data row0 col1\" >10</td>\n",
       "                        <td id=\"T_dc63f29c_720b_11ea_856a_50e08586bf81row0_col2\" class=\"data row0 col2\" >7</td>\n",
       "                        <td id=\"T_dc63f29c_720b_11ea_856a_50e08586bf81row0_col3\" class=\"data row0 col3\" >BOGO</td>\n",
       "                        <td id=\"T_dc63f29c_720b_11ea_856a_50e08586bf81row0_col4\" class=\"data row0 col4\" >ae264e3637204a6fb9bb56bc8210ddfd</td>\n",
       "                        <td id=\"T_dc63f29c_720b_11ea_856a_50e08586bf81row0_col5\" class=\"data row0 col5\" >1</td>\n",
       "                        <td id=\"T_dc63f29c_720b_11ea_856a_50e08586bf81row0_col6\" class=\"data row0 col6\" >1</td>\n",
       "                        <td id=\"T_dc63f29c_720b_11ea_856a_50e08586bf81row0_col7\" class=\"data row0 col7\" >1</td>\n",
       "                        <td id=\"T_dc63f29c_720b_11ea_856a_50e08586bf81row0_col8\" class=\"data row0 col8\" >0</td>\n",
       "            </tr>\n",
       "            <tr>\n",
       "                                <td id=\"T_dc63f29c_720b_11ea_856a_50e08586bf81row1_col0\" class=\"data row1 col0\" >10</td>\n",
       "                        <td id=\"T_dc63f29c_720b_11ea_856a_50e08586bf81row1_col1\" class=\"data row1 col1\" >10</td>\n",
       "                        <td id=\"T_dc63f29c_720b_11ea_856a_50e08586bf81row1_col2\" class=\"data row1 col2\" >5</td>\n",
       "                        <td id=\"T_dc63f29c_720b_11ea_856a_50e08586bf81row1_col3\" class=\"data row1 col3\" >BOGO</td>\n",
       "                        <td id=\"T_dc63f29c_720b_11ea_856a_50e08586bf81row1_col4\" class=\"data row1 col4\" >4d5c57ea9a6940dd891ad53e9dbe8da0</td>\n",
       "                        <td id=\"T_dc63f29c_720b_11ea_856a_50e08586bf81row1_col5\" class=\"data row1 col5\" >1</td>\n",
       "                        <td id=\"T_dc63f29c_720b_11ea_856a_50e08586bf81row1_col6\" class=\"data row1 col6\" >1</td>\n",
       "                        <td id=\"T_dc63f29c_720b_11ea_856a_50e08586bf81row1_col7\" class=\"data row1 col7\" >1</td>\n",
       "                        <td id=\"T_dc63f29c_720b_11ea_856a_50e08586bf81row1_col8\" class=\"data row1 col8\" >1</td>\n",
       "            </tr>\n",
       "            <tr>\n",
       "                                <td id=\"T_dc63f29c_720b_11ea_856a_50e08586bf81row2_col0\" class=\"data row2 col0\" >0</td>\n",
       "                        <td id=\"T_dc63f29c_720b_11ea_856a_50e08586bf81row2_col1\" class=\"data row2 col1\" >0</td>\n",
       "                        <td id=\"T_dc63f29c_720b_11ea_856a_50e08586bf81row2_col2\" class=\"data row2 col2\" >4</td>\n",
       "                        <td id=\"T_dc63f29c_720b_11ea_856a_50e08586bf81row2_col3\" class=\"data row2 col3\" >Informational</td>\n",
       "                        <td id=\"T_dc63f29c_720b_11ea_856a_50e08586bf81row2_col4\" class=\"data row2 col4\" >3f207df678b143eea3cee63160fa8bed</td>\n",
       "                        <td id=\"T_dc63f29c_720b_11ea_856a_50e08586bf81row2_col5\" class=\"data row2 col5\" >1</td>\n",
       "                        <td id=\"T_dc63f29c_720b_11ea_856a_50e08586bf81row2_col6\" class=\"data row2 col6\" >1</td>\n",
       "                        <td id=\"T_dc63f29c_720b_11ea_856a_50e08586bf81row2_col7\" class=\"data row2 col7\" >0</td>\n",
       "                        <td id=\"T_dc63f29c_720b_11ea_856a_50e08586bf81row2_col8\" class=\"data row2 col8\" >1</td>\n",
       "            </tr>\n",
       "            <tr>\n",
       "                                <td id=\"T_dc63f29c_720b_11ea_856a_50e08586bf81row3_col0\" class=\"data row3 col0\" >5</td>\n",
       "                        <td id=\"T_dc63f29c_720b_11ea_856a_50e08586bf81row3_col1\" class=\"data row3 col1\" >5</td>\n",
       "                        <td id=\"T_dc63f29c_720b_11ea_856a_50e08586bf81row3_col2\" class=\"data row3 col2\" >7</td>\n",
       "                        <td id=\"T_dc63f29c_720b_11ea_856a_50e08586bf81row3_col3\" class=\"data row3 col3\" >BOGO</td>\n",
       "                        <td id=\"T_dc63f29c_720b_11ea_856a_50e08586bf81row3_col4\" class=\"data row3 col4\" >9b98b8c7a33c4b65b9aebfe6a799e6d9</td>\n",
       "                        <td id=\"T_dc63f29c_720b_11ea_856a_50e08586bf81row3_col5\" class=\"data row3 col5\" >1</td>\n",
       "                        <td id=\"T_dc63f29c_720b_11ea_856a_50e08586bf81row3_col6\" class=\"data row3 col6\" >1</td>\n",
       "                        <td id=\"T_dc63f29c_720b_11ea_856a_50e08586bf81row3_col7\" class=\"data row3 col7\" >0</td>\n",
       "                        <td id=\"T_dc63f29c_720b_11ea_856a_50e08586bf81row3_col8\" class=\"data row3 col8\" >1</td>\n",
       "            </tr>\n",
       "            <tr>\n",
       "                                <td id=\"T_dc63f29c_720b_11ea_856a_50e08586bf81row4_col0\" class=\"data row4 col0\" >5</td>\n",
       "                        <td id=\"T_dc63f29c_720b_11ea_856a_50e08586bf81row4_col1\" class=\"data row4 col1\" >20</td>\n",
       "                        <td id=\"T_dc63f29c_720b_11ea_856a_50e08586bf81row4_col2\" class=\"data row4 col2\" >10</td>\n",
       "                        <td id=\"T_dc63f29c_720b_11ea_856a_50e08586bf81row4_col3\" class=\"data row4 col3\" >Discount</td>\n",
       "                        <td id=\"T_dc63f29c_720b_11ea_856a_50e08586bf81row4_col4\" class=\"data row4 col4\" >0b1e1539f2cc45b7b9fa7c272da2e1d7</td>\n",
       "                        <td id=\"T_dc63f29c_720b_11ea_856a_50e08586bf81row4_col5\" class=\"data row4 col5\" >1</td>\n",
       "                        <td id=\"T_dc63f29c_720b_11ea_856a_50e08586bf81row4_col6\" class=\"data row4 col6\" >0</td>\n",
       "                        <td id=\"T_dc63f29c_720b_11ea_856a_50e08586bf81row4_col7\" class=\"data row4 col7\" >0</td>\n",
       "                        <td id=\"T_dc63f29c_720b_11ea_856a_50e08586bf81row4_col8\" class=\"data row4 col8\" >1</td>\n",
       "            </tr>\n",
       "    </tbody></table>"
      ],
      "text/plain": [
       "<pandas.io.formats.style.Styler at 0x22ef7ab8c88>"
      ]
     },
     "execution_count": 8,
     "metadata": {},
     "output_type": "execute_result"
    }
   ],
   "source": [
    "portfolio = column_rename(portfolio)\n",
    "portfolio['Offer_Type'] = portfolio['Offer_Type'].map({'bogo':'BOGO','discount':'Discount','informational':'Informational'})\n",
    "portfolio.head().style.hide_index()"
   ]
  },
  {
   "cell_type": "code",
   "execution_count": 9,
   "metadata": {},
   "outputs": [],
   "source": [
    "export_csv = portfolio.to_csv (r'StarBucks\\Clean_portfolio.csv', index = None, header=True)"
   ]
  },
  {
   "cell_type": "markdown",
   "metadata": {},
   "source": [
    "### Profile Data"
   ]
  },
  {
   "cell_type": "markdown",
   "metadata": {},
   "source": [
    "Searching the **Null** values in the data:"
   ]
  },
  {
   "cell_type": "code",
   "execution_count": 10,
   "metadata": {},
   "outputs": [],
   "source": [
    "def NN_Table(Inp):\n",
    "    Out = pd.DataFrame(Inp.isnull().sum(), columns={'Nuumber of NaN'})\n",
    "    return Out"
   ]
  },
  {
   "cell_type": "code",
   "execution_count": 11,
   "metadata": {
    "scrolled": false
   },
   "outputs": [
    {
     "data": {
      "text/html": [
       "<div>\n",
       "<style scoped>\n",
       "    .dataframe tbody tr th:only-of-type {\n",
       "        vertical-align: middle;\n",
       "    }\n",
       "\n",
       "    .dataframe tbody tr th {\n",
       "        vertical-align: top;\n",
       "    }\n",
       "\n",
       "    .dataframe thead th {\n",
       "        text-align: right;\n",
       "    }\n",
       "</style>\n",
       "<table border=\"1\" class=\"dataframe\">\n",
       "  <thead>\n",
       "    <tr style=\"text-align: right;\">\n",
       "      <th></th>\n",
       "      <th>Nuumber of NaN</th>\n",
       "    </tr>\n",
       "  </thead>\n",
       "  <tbody>\n",
       "    <tr>\n",
       "      <th>Gender</th>\n",
       "      <td>2175</td>\n",
       "    </tr>\n",
       "    <tr>\n",
       "      <th>Age</th>\n",
       "      <td>0</td>\n",
       "    </tr>\n",
       "    <tr>\n",
       "      <th>ID</th>\n",
       "      <td>0</td>\n",
       "    </tr>\n",
       "    <tr>\n",
       "      <th>Became_Member_On</th>\n",
       "      <td>0</td>\n",
       "    </tr>\n",
       "    <tr>\n",
       "      <th>Income</th>\n",
       "      <td>2175</td>\n",
       "    </tr>\n",
       "  </tbody>\n",
       "</table>\n",
       "</div>"
      ],
      "text/plain": [
       "                  Nuumber of NaN\n",
       "Gender                      2175\n",
       "Age                            0\n",
       "ID                             0\n",
       "Became_Member_On               0\n",
       "Income                      2175"
      ]
     },
     "execution_count": 11,
     "metadata": {},
     "output_type": "execute_result"
    }
   ],
   "source": [
    "NN_Table(profile)"
   ]
  },
  {
   "cell_type": "markdown",
   "metadata": {},
   "source": [
    "2175 out of 17000 customers don't have information on gender and income!\n",
    "\n",
    "Since ages over 100 might be the result of misentering data from users, we can search for ages over 100 and impute them with median ages."
   ]
  },
  {
   "cell_type": "code",
   "execution_count": 12,
   "metadata": {},
   "outputs": [
    {
     "data": {
      "text/plain": [
       "118    2175\n",
       "100      12\n",
       "101       5\n",
       "Name: Age, dtype: int64"
      ]
     },
     "execution_count": 12,
     "metadata": {},
     "output_type": "execute_result"
    }
   ],
   "source": [
    "profile.Age[profile.Age>=100].value_counts()"
   ]
  },
  {
   "cell_type": "code",
   "execution_count": 13,
   "metadata": {
    "scrolled": false
   },
   "outputs": [],
   "source": [
    "# setting Age>=0 to NaN\n",
    "profile.Age[profile.Age>=100] = np.nan\n",
    "# imputing missing Ages\n",
    "median_Age = profile.Age.median()\n",
    "profile['Age'] = profile.Age.fillna(median_Age)\n",
    "# converting 'Became_Member_On' column to a columns with date entries\n",
    "profile['Became_Member_On'] = pd.to_datetime(profile['Became_Member_On'], format='%Y%m%d')\n",
    "# keeping only the year from 'Became_Member_On' column as 'Member_Since_Year'\n",
    "profile['Member_Since_Year'] = profile['Became_Member_On'].dt.year"
   ]
  },
  {
   "cell_type": "markdown",
   "metadata": {},
   "source": [
    "Note that"
   ]
  },
  {
   "cell_type": "code",
   "execution_count": 14,
   "metadata": {},
   "outputs": [
    {
     "data": {
      "text/html": [
       "<div>\n",
       "<style scoped>\n",
       "    .dataframe tbody tr th:only-of-type {\n",
       "        vertical-align: middle;\n",
       "    }\n",
       "\n",
       "    .dataframe tbody tr th {\n",
       "        vertical-align: top;\n",
       "    }\n",
       "\n",
       "    .dataframe thead th {\n",
       "        text-align: right;\n",
       "    }\n",
       "</style>\n",
       "<table border=\"1\" class=\"dataframe\">\n",
       "  <thead>\n",
       "    <tr style=\"text-align: right;\">\n",
       "      <th></th>\n",
       "      <th>Gender</th>\n",
       "      <th>Age</th>\n",
       "      <th>ID</th>\n",
       "      <th>Became_Member_On</th>\n",
       "      <th>Income</th>\n",
       "      <th>Member_Since_Year</th>\n",
       "    </tr>\n",
       "  </thead>\n",
       "  <tbody>\n",
       "    <tr>\n",
       "      <th>8079</th>\n",
       "      <td>M</td>\n",
       "      <td>82.0</td>\n",
       "      <td>039e0c539c2f4fc582423412a8bceb40</td>\n",
       "      <td>2018-07-26</td>\n",
       "      <td>32000.0</td>\n",
       "      <td>2018</td>\n",
       "    </tr>\n",
       "    <tr>\n",
       "      <th>12326</th>\n",
       "      <td>F</td>\n",
       "      <td>59.0</td>\n",
       "      <td>3b9ec536e4224688950913b9cf53362c</td>\n",
       "      <td>2018-07-26</td>\n",
       "      <td>88000.0</td>\n",
       "      <td>2018</td>\n",
       "    </tr>\n",
       "    <tr>\n",
       "      <th>10282</th>\n",
       "      <td>M</td>\n",
       "      <td>46.0</td>\n",
       "      <td>e4989ca3d8974e28a3fe87aa0b0ce327</td>\n",
       "      <td>2018-07-26</td>\n",
       "      <td>74000.0</td>\n",
       "      <td>2018</td>\n",
       "    </tr>\n",
       "    <tr>\n",
       "      <th>12902</th>\n",
       "      <td>M</td>\n",
       "      <td>85.0</td>\n",
       "      <td>f1f01be4e2344bf08b7f488c115ad374</td>\n",
       "      <td>2018-07-26</td>\n",
       "      <td>45000.0</td>\n",
       "      <td>2018</td>\n",
       "    </tr>\n",
       "    <tr>\n",
       "      <th>4357</th>\n",
       "      <td>M</td>\n",
       "      <td>76.0</td>\n",
       "      <td>6597e5ab63754726b83ba2032f008d26</td>\n",
       "      <td>2018-07-26</td>\n",
       "      <td>92000.0</td>\n",
       "      <td>2018</td>\n",
       "    </tr>\n",
       "  </tbody>\n",
       "</table>\n",
       "</div>"
      ],
      "text/plain": [
       "      Gender   Age                                ID Became_Member_On  \\\n",
       "8079       M  82.0  039e0c539c2f4fc582423412a8bceb40       2018-07-26   \n",
       "12326      F  59.0  3b9ec536e4224688950913b9cf53362c       2018-07-26   \n",
       "10282      M  46.0  e4989ca3d8974e28a3fe87aa0b0ce327       2018-07-26   \n",
       "12902      M  85.0  f1f01be4e2344bf08b7f488c115ad374       2018-07-26   \n",
       "4357       M  76.0  6597e5ab63754726b83ba2032f008d26       2018-07-26   \n",
       "\n",
       "        Income  Member_Since_Year  \n",
       "8079   32000.0               2018  \n",
       "12326  88000.0               2018  \n",
       "10282  74000.0               2018  \n",
       "12902  45000.0               2018  \n",
       "4357   92000.0               2018  "
      ]
     },
     "execution_count": 14,
     "metadata": {},
     "output_type": "execute_result"
    }
   ],
   "source": [
    "profile.sort_values(by='Became_Member_On', ascending=True).tail()"
   ]
  },
  {
   "cell_type": "markdown",
   "metadata": {},
   "source": [
    "Assuming the data is a snapshot of **the end of 2018**. get member tenure by **the number of months**.\n",
    "\n",
    "$$Member~Tenure~=(the~end~of~2018)~-~(Became~Member~On)\\qquad (In~Months)$$"
   ]
  },
  {
   "cell_type": "code",
   "execution_count": 15,
   "metadata": {},
   "outputs": [],
   "source": [
    "Temp = pd.to_datetime('20181231', format='%Y%m%d')\n",
    "profile['Member_Tenure'] = round((Temp - profile['Became_Member_On'])/np.timedelta64(1, 'M'))\n",
    "del Temp"
   ]
  },
  {
   "cell_type": "markdown",
   "metadata": {},
   "source": [
    "Thus, the profile data becomes:"
   ]
  },
  {
   "cell_type": "code",
   "execution_count": 16,
   "metadata": {
    "scrolled": true
   },
   "outputs": [
    {
     "data": {
      "text/html": [
       "<style  type=\"text/css\" >\n",
       "</style><table id=\"T_dc6ec80a_720b_11ea_bead_50e08586bf81\" ><thead>    <tr>        <th class=\"col_heading level0 col0\" >Gender</th>        <th class=\"col_heading level0 col1\" >Age</th>        <th class=\"col_heading level0 col2\" >ID</th>        <th class=\"col_heading level0 col3\" >Became_Member_On</th>        <th class=\"col_heading level0 col4\" >Income</th>        <th class=\"col_heading level0 col5\" >Member_Since_Year</th>        <th class=\"col_heading level0 col6\" >Member_Tenure</th>    </tr></thead><tbody>\n",
       "                <tr>\n",
       "                                <td id=\"T_dc6ec80a_720b_11ea_bead_50e08586bf81row0_col0\" class=\"data row0 col0\" >None</td>\n",
       "                        <td id=\"T_dc6ec80a_720b_11ea_bead_50e08586bf81row0_col1\" class=\"data row0 col1\" >55.000000</td>\n",
       "                        <td id=\"T_dc6ec80a_720b_11ea_bead_50e08586bf81row0_col2\" class=\"data row0 col2\" >68be06ca386d4c31939f3a4f0e3dd783</td>\n",
       "                        <td id=\"T_dc6ec80a_720b_11ea_bead_50e08586bf81row0_col3\" class=\"data row0 col3\" >2017-02-12 00:00:00</td>\n",
       "                        <td id=\"T_dc6ec80a_720b_11ea_bead_50e08586bf81row0_col4\" class=\"data row0 col4\" >nan</td>\n",
       "                        <td id=\"T_dc6ec80a_720b_11ea_bead_50e08586bf81row0_col5\" class=\"data row0 col5\" >2017</td>\n",
       "                        <td id=\"T_dc6ec80a_720b_11ea_bead_50e08586bf81row0_col6\" class=\"data row0 col6\" >23.000000</td>\n",
       "            </tr>\n",
       "            <tr>\n",
       "                                <td id=\"T_dc6ec80a_720b_11ea_bead_50e08586bf81row1_col0\" class=\"data row1 col0\" >F</td>\n",
       "                        <td id=\"T_dc6ec80a_720b_11ea_bead_50e08586bf81row1_col1\" class=\"data row1 col1\" >55.000000</td>\n",
       "                        <td id=\"T_dc6ec80a_720b_11ea_bead_50e08586bf81row1_col2\" class=\"data row1 col2\" >0610b486422d4921ae7d2bf64640c50b</td>\n",
       "                        <td id=\"T_dc6ec80a_720b_11ea_bead_50e08586bf81row1_col3\" class=\"data row1 col3\" >2017-07-15 00:00:00</td>\n",
       "                        <td id=\"T_dc6ec80a_720b_11ea_bead_50e08586bf81row1_col4\" class=\"data row1 col4\" >112000.000000</td>\n",
       "                        <td id=\"T_dc6ec80a_720b_11ea_bead_50e08586bf81row1_col5\" class=\"data row1 col5\" >2017</td>\n",
       "                        <td id=\"T_dc6ec80a_720b_11ea_bead_50e08586bf81row1_col6\" class=\"data row1 col6\" >18.000000</td>\n",
       "            </tr>\n",
       "            <tr>\n",
       "                                <td id=\"T_dc6ec80a_720b_11ea_bead_50e08586bf81row2_col0\" class=\"data row2 col0\" >None</td>\n",
       "                        <td id=\"T_dc6ec80a_720b_11ea_bead_50e08586bf81row2_col1\" class=\"data row2 col1\" >55.000000</td>\n",
       "                        <td id=\"T_dc6ec80a_720b_11ea_bead_50e08586bf81row2_col2\" class=\"data row2 col2\" >38fe809add3b4fcf9315a9694bb96ff5</td>\n",
       "                        <td id=\"T_dc6ec80a_720b_11ea_bead_50e08586bf81row2_col3\" class=\"data row2 col3\" >2018-07-12 00:00:00</td>\n",
       "                        <td id=\"T_dc6ec80a_720b_11ea_bead_50e08586bf81row2_col4\" class=\"data row2 col4\" >nan</td>\n",
       "                        <td id=\"T_dc6ec80a_720b_11ea_bead_50e08586bf81row2_col5\" class=\"data row2 col5\" >2018</td>\n",
       "                        <td id=\"T_dc6ec80a_720b_11ea_bead_50e08586bf81row2_col6\" class=\"data row2 col6\" >6.000000</td>\n",
       "            </tr>\n",
       "            <tr>\n",
       "                                <td id=\"T_dc6ec80a_720b_11ea_bead_50e08586bf81row3_col0\" class=\"data row3 col0\" >F</td>\n",
       "                        <td id=\"T_dc6ec80a_720b_11ea_bead_50e08586bf81row3_col1\" class=\"data row3 col1\" >75.000000</td>\n",
       "                        <td id=\"T_dc6ec80a_720b_11ea_bead_50e08586bf81row3_col2\" class=\"data row3 col2\" >78afa995795e4d85b5d9ceeca43f5fef</td>\n",
       "                        <td id=\"T_dc6ec80a_720b_11ea_bead_50e08586bf81row3_col3\" class=\"data row3 col3\" >2017-05-09 00:00:00</td>\n",
       "                        <td id=\"T_dc6ec80a_720b_11ea_bead_50e08586bf81row3_col4\" class=\"data row3 col4\" >100000.000000</td>\n",
       "                        <td id=\"T_dc6ec80a_720b_11ea_bead_50e08586bf81row3_col5\" class=\"data row3 col5\" >2017</td>\n",
       "                        <td id=\"T_dc6ec80a_720b_11ea_bead_50e08586bf81row3_col6\" class=\"data row3 col6\" >20.000000</td>\n",
       "            </tr>\n",
       "            <tr>\n",
       "                                <td id=\"T_dc6ec80a_720b_11ea_bead_50e08586bf81row4_col0\" class=\"data row4 col0\" >None</td>\n",
       "                        <td id=\"T_dc6ec80a_720b_11ea_bead_50e08586bf81row4_col1\" class=\"data row4 col1\" >55.000000</td>\n",
       "                        <td id=\"T_dc6ec80a_720b_11ea_bead_50e08586bf81row4_col2\" class=\"data row4 col2\" >a03223e636434f42ac4c3df47e8bac43</td>\n",
       "                        <td id=\"T_dc6ec80a_720b_11ea_bead_50e08586bf81row4_col3\" class=\"data row4 col3\" >2017-08-04 00:00:00</td>\n",
       "                        <td id=\"T_dc6ec80a_720b_11ea_bead_50e08586bf81row4_col4\" class=\"data row4 col4\" >nan</td>\n",
       "                        <td id=\"T_dc6ec80a_720b_11ea_bead_50e08586bf81row4_col5\" class=\"data row4 col5\" >2017</td>\n",
       "                        <td id=\"T_dc6ec80a_720b_11ea_bead_50e08586bf81row4_col6\" class=\"data row4 col6\" >17.000000</td>\n",
       "            </tr>\n",
       "    </tbody></table>"
      ],
      "text/plain": [
       "<pandas.io.formats.style.Styler at 0x22ef7a57c48>"
      ]
     },
     "execution_count": 16,
     "metadata": {},
     "output_type": "execute_result"
    }
   ],
   "source": [
    "profile.head().style.hide_index()"
   ]
  },
  {
   "cell_type": "code",
   "execution_count": 17,
   "metadata": {},
   "outputs": [],
   "source": [
    "export_csv = profile.to_csv (r'StarBucks\\Clean_profile.csv', index = None, header=True)"
   ]
  },
  {
   "cell_type": "markdown",
   "metadata": {},
   "source": [
    "### Transcript Data"
   ]
  },
  {
   "cell_type": "markdown",
   "metadata": {},
   "source": [
    "Looking at the value column from the Transcript Data, we notice that, this data needs to be processed to be used for our analysis. Thus, we are searching for different key-value pairs. That can be done using"
   ]
  },
  {
   "cell_type": "code",
   "execution_count": 18,
   "metadata": {
    "scrolled": true
   },
   "outputs": [
    {
     "name": "stderr",
     "output_type": "stream",
     "text": [
      "|#########################################################################|100%\n"
     ]
    },
    {
     "data": {
      "text/plain": [
       "[dict_keys(['offer id']),\n",
       " dict_keys(['amount']),\n",
       " dict_keys(['offer_id', 'reward'])]"
      ]
     },
     "execution_count": 18,
     "metadata": {},
     "output_type": "execute_result"
    }
   ],
   "source": [
    "# Starting with an empty 'value_key'\n",
    "value_keys = []\n",
    "\n",
    "Counter = 0\n",
    "Progress_Bar = progressbar.ProgressBar(maxval=transcript.shape[0],\n",
    "                                       widgets=[progressbar.Bar('#', '|', '|'), progressbar.Percentage()])\n",
    "# The Loop\n",
    "Progress_Bar.start()\n",
    "for i in range(transcript.shape[0]):\n",
    "    Counter+=1\n",
    "    # only reading 'keys' from the dictionary of 'Value'\n",
    "    # if it is not already in the value_keys list, we can append it\n",
    "    if transcript.Value[i].keys() not in value_keys:\n",
    "        value_keys.append(transcript.Value[i].keys())\n",
    "\n",
    "Progress_Bar.finish()\n",
    "value_keys"
   ]
  },
  {
   "cell_type": "markdown",
   "metadata": {},
   "source": [
    "Now, we divide **offer id** into individual columns"
   ]
  },
  {
   "cell_type": "code",
   "execution_count": 19,
   "metadata": {},
   "outputs": [],
   "source": [
    "transcript = pd.concat([transcript, transcript['Value'].apply(pd.Series)], axis=1)"
   ]
  },
  {
   "cell_type": "markdown",
   "metadata": {},
   "source": [
    "Let's look at the resulting DataFrame."
   ]
  },
  {
   "cell_type": "code",
   "execution_count": 20,
   "metadata": {
    "scrolled": true
   },
   "outputs": [
    {
     "data": {
      "text/html": [
       "<style  type=\"text/css\" >\n",
       "</style><table id=\"T_0ea3cdc2_720c_11ea_a5ef_50e08586bf81\" ><thead>    <tr>        <th class=\"col_heading level0 col0\" >Person</th>        <th class=\"col_heading level0 col1\" >Event</th>        <th class=\"col_heading level0 col2\" >Value</th>        <th class=\"col_heading level0 col3\" >Time</th>        <th class=\"col_heading level0 col4\" >offer id</th>        <th class=\"col_heading level0 col5\" >amount</th>        <th class=\"col_heading level0 col6\" >offer_id</th>        <th class=\"col_heading level0 col7\" >reward</th>    </tr></thead><tbody>\n",
       "                <tr>\n",
       "                                <td id=\"T_0ea3cdc2_720c_11ea_a5ef_50e08586bf81row0_col0\" class=\"data row0 col0\" >78afa995795e4d85b5d9ceeca43f5fef</td>\n",
       "                        <td id=\"T_0ea3cdc2_720c_11ea_a5ef_50e08586bf81row0_col1\" class=\"data row0 col1\" >offer received</td>\n",
       "                        <td id=\"T_0ea3cdc2_720c_11ea_a5ef_50e08586bf81row0_col2\" class=\"data row0 col2\" >{'offer id': '9b98b8c7a33c4b65b9aebfe6a799e6d9'}</td>\n",
       "                        <td id=\"T_0ea3cdc2_720c_11ea_a5ef_50e08586bf81row0_col3\" class=\"data row0 col3\" >0</td>\n",
       "                        <td id=\"T_0ea3cdc2_720c_11ea_a5ef_50e08586bf81row0_col4\" class=\"data row0 col4\" >9b98b8c7a33c4b65b9aebfe6a799e6d9</td>\n",
       "                        <td id=\"T_0ea3cdc2_720c_11ea_a5ef_50e08586bf81row0_col5\" class=\"data row0 col5\" >nan</td>\n",
       "                        <td id=\"T_0ea3cdc2_720c_11ea_a5ef_50e08586bf81row0_col6\" class=\"data row0 col6\" >nan</td>\n",
       "                        <td id=\"T_0ea3cdc2_720c_11ea_a5ef_50e08586bf81row0_col7\" class=\"data row0 col7\" >nan</td>\n",
       "            </tr>\n",
       "            <tr>\n",
       "                                <td id=\"T_0ea3cdc2_720c_11ea_a5ef_50e08586bf81row1_col0\" class=\"data row1 col0\" >a03223e636434f42ac4c3df47e8bac43</td>\n",
       "                        <td id=\"T_0ea3cdc2_720c_11ea_a5ef_50e08586bf81row1_col1\" class=\"data row1 col1\" >offer received</td>\n",
       "                        <td id=\"T_0ea3cdc2_720c_11ea_a5ef_50e08586bf81row1_col2\" class=\"data row1 col2\" >{'offer id': '0b1e1539f2cc45b7b9fa7c272da2e1d7'}</td>\n",
       "                        <td id=\"T_0ea3cdc2_720c_11ea_a5ef_50e08586bf81row1_col3\" class=\"data row1 col3\" >0</td>\n",
       "                        <td id=\"T_0ea3cdc2_720c_11ea_a5ef_50e08586bf81row1_col4\" class=\"data row1 col4\" >0b1e1539f2cc45b7b9fa7c272da2e1d7</td>\n",
       "                        <td id=\"T_0ea3cdc2_720c_11ea_a5ef_50e08586bf81row1_col5\" class=\"data row1 col5\" >nan</td>\n",
       "                        <td id=\"T_0ea3cdc2_720c_11ea_a5ef_50e08586bf81row1_col6\" class=\"data row1 col6\" >nan</td>\n",
       "                        <td id=\"T_0ea3cdc2_720c_11ea_a5ef_50e08586bf81row1_col7\" class=\"data row1 col7\" >nan</td>\n",
       "            </tr>\n",
       "            <tr>\n",
       "                                <td id=\"T_0ea3cdc2_720c_11ea_a5ef_50e08586bf81row2_col0\" class=\"data row2 col0\" >e2127556f4f64592b11af22de27a7932</td>\n",
       "                        <td id=\"T_0ea3cdc2_720c_11ea_a5ef_50e08586bf81row2_col1\" class=\"data row2 col1\" >offer received</td>\n",
       "                        <td id=\"T_0ea3cdc2_720c_11ea_a5ef_50e08586bf81row2_col2\" class=\"data row2 col2\" >{'offer id': '2906b810c7d4411798c6938adc9daaa5'}</td>\n",
       "                        <td id=\"T_0ea3cdc2_720c_11ea_a5ef_50e08586bf81row2_col3\" class=\"data row2 col3\" >0</td>\n",
       "                        <td id=\"T_0ea3cdc2_720c_11ea_a5ef_50e08586bf81row2_col4\" class=\"data row2 col4\" >2906b810c7d4411798c6938adc9daaa5</td>\n",
       "                        <td id=\"T_0ea3cdc2_720c_11ea_a5ef_50e08586bf81row2_col5\" class=\"data row2 col5\" >nan</td>\n",
       "                        <td id=\"T_0ea3cdc2_720c_11ea_a5ef_50e08586bf81row2_col6\" class=\"data row2 col6\" >nan</td>\n",
       "                        <td id=\"T_0ea3cdc2_720c_11ea_a5ef_50e08586bf81row2_col7\" class=\"data row2 col7\" >nan</td>\n",
       "            </tr>\n",
       "            <tr>\n",
       "                                <td id=\"T_0ea3cdc2_720c_11ea_a5ef_50e08586bf81row3_col0\" class=\"data row3 col0\" >8ec6ce2a7e7949b1bf142def7d0e0586</td>\n",
       "                        <td id=\"T_0ea3cdc2_720c_11ea_a5ef_50e08586bf81row3_col1\" class=\"data row3 col1\" >offer received</td>\n",
       "                        <td id=\"T_0ea3cdc2_720c_11ea_a5ef_50e08586bf81row3_col2\" class=\"data row3 col2\" >{'offer id': 'fafdcd668e3743c1bb461111dcafc2a4'}</td>\n",
       "                        <td id=\"T_0ea3cdc2_720c_11ea_a5ef_50e08586bf81row3_col3\" class=\"data row3 col3\" >0</td>\n",
       "                        <td id=\"T_0ea3cdc2_720c_11ea_a5ef_50e08586bf81row3_col4\" class=\"data row3 col4\" >fafdcd668e3743c1bb461111dcafc2a4</td>\n",
       "                        <td id=\"T_0ea3cdc2_720c_11ea_a5ef_50e08586bf81row3_col5\" class=\"data row3 col5\" >nan</td>\n",
       "                        <td id=\"T_0ea3cdc2_720c_11ea_a5ef_50e08586bf81row3_col6\" class=\"data row3 col6\" >nan</td>\n",
       "                        <td id=\"T_0ea3cdc2_720c_11ea_a5ef_50e08586bf81row3_col7\" class=\"data row3 col7\" >nan</td>\n",
       "            </tr>\n",
       "            <tr>\n",
       "                                <td id=\"T_0ea3cdc2_720c_11ea_a5ef_50e08586bf81row4_col0\" class=\"data row4 col0\" >68617ca6246f4fbc85e91a2a49552598</td>\n",
       "                        <td id=\"T_0ea3cdc2_720c_11ea_a5ef_50e08586bf81row4_col1\" class=\"data row4 col1\" >offer received</td>\n",
       "                        <td id=\"T_0ea3cdc2_720c_11ea_a5ef_50e08586bf81row4_col2\" class=\"data row4 col2\" >{'offer id': '4d5c57ea9a6940dd891ad53e9dbe8da0'}</td>\n",
       "                        <td id=\"T_0ea3cdc2_720c_11ea_a5ef_50e08586bf81row4_col3\" class=\"data row4 col3\" >0</td>\n",
       "                        <td id=\"T_0ea3cdc2_720c_11ea_a5ef_50e08586bf81row4_col4\" class=\"data row4 col4\" >4d5c57ea9a6940dd891ad53e9dbe8da0</td>\n",
       "                        <td id=\"T_0ea3cdc2_720c_11ea_a5ef_50e08586bf81row4_col5\" class=\"data row4 col5\" >nan</td>\n",
       "                        <td id=\"T_0ea3cdc2_720c_11ea_a5ef_50e08586bf81row4_col6\" class=\"data row4 col6\" >nan</td>\n",
       "                        <td id=\"T_0ea3cdc2_720c_11ea_a5ef_50e08586bf81row4_col7\" class=\"data row4 col7\" >nan</td>\n",
       "            </tr>\n",
       "    </tbody></table>"
      ],
      "text/plain": [
       "<pandas.io.formats.style.Styler at 0x22eba5f8908>"
      ]
     },
     "execution_count": 20,
     "metadata": {},
     "output_type": "execute_result"
    }
   ],
   "source": [
    "transcript.head().style.hide_index()"
   ]
  },
  {
   "cell_type": "markdown",
   "metadata": {},
   "source": [
    "Note that **offer_id** appears in two separate columns since there are two different key types for **offer_id**. We would like to  create a new column to combine the two **offer_id** columns."
   ]
  },
  {
   "cell_type": "code",
   "execution_count": 21,
   "metadata": {
    "scrolled": false
   },
   "outputs": [],
   "source": [
    "transcript['offer_id_new']=np.where(transcript['offer id'].isnull() & transcript['offer_id'].notnull(),\n",
    "                                    transcript['offer_id'],transcript['offer id'])\n",
    "transcript.drop(['offer id','offer_id'],axis=1,inplace=True)\n",
    "transcript.rename(columns={'offer_id_new':'offer_id'},inplace=True)"
   ]
  },
  {
   "cell_type": "code",
   "execution_count": 22,
   "metadata": {},
   "outputs": [
    {
     "data": {
      "text/html": [
       "<style  type=\"text/css\" >\n",
       "</style><table id=\"T_0edb3164_720c_11ea_bbc5_50e08586bf81\" ><thead>    <tr>        <th class=\"col_heading level0 col0\" >Person</th>        <th class=\"col_heading level0 col1\" >Event</th>        <th class=\"col_heading level0 col2\" >Value</th>        <th class=\"col_heading level0 col3\" >Time</th>        <th class=\"col_heading level0 col4\" >Amount</th>        <th class=\"col_heading level0 col5\" >Reward</th>        <th class=\"col_heading level0 col6\" >Offer_ID</th>    </tr></thead><tbody>\n",
       "                <tr>\n",
       "                                <td id=\"T_0edb3164_720c_11ea_bbc5_50e08586bf81row0_col0\" class=\"data row0 col0\" >78afa995795e4d85b5d9ceeca43f5fef</td>\n",
       "                        <td id=\"T_0edb3164_720c_11ea_bbc5_50e08586bf81row0_col1\" class=\"data row0 col1\" >Offer Received</td>\n",
       "                        <td id=\"T_0edb3164_720c_11ea_bbc5_50e08586bf81row0_col2\" class=\"data row0 col2\" >{'offer id': '9b98b8c7a33c4b65b9aebfe6a799e6d9'}</td>\n",
       "                        <td id=\"T_0edb3164_720c_11ea_bbc5_50e08586bf81row0_col3\" class=\"data row0 col3\" >0</td>\n",
       "                        <td id=\"T_0edb3164_720c_11ea_bbc5_50e08586bf81row0_col4\" class=\"data row0 col4\" >nan</td>\n",
       "                        <td id=\"T_0edb3164_720c_11ea_bbc5_50e08586bf81row0_col5\" class=\"data row0 col5\" >nan</td>\n",
       "                        <td id=\"T_0edb3164_720c_11ea_bbc5_50e08586bf81row0_col6\" class=\"data row0 col6\" >9b98b8c7a33c4b65b9aebfe6a799e6d9</td>\n",
       "            </tr>\n",
       "            <tr>\n",
       "                                <td id=\"T_0edb3164_720c_11ea_bbc5_50e08586bf81row1_col0\" class=\"data row1 col0\" >a03223e636434f42ac4c3df47e8bac43</td>\n",
       "                        <td id=\"T_0edb3164_720c_11ea_bbc5_50e08586bf81row1_col1\" class=\"data row1 col1\" >Offer Received</td>\n",
       "                        <td id=\"T_0edb3164_720c_11ea_bbc5_50e08586bf81row1_col2\" class=\"data row1 col2\" >{'offer id': '0b1e1539f2cc45b7b9fa7c272da2e1d7'}</td>\n",
       "                        <td id=\"T_0edb3164_720c_11ea_bbc5_50e08586bf81row1_col3\" class=\"data row1 col3\" >0</td>\n",
       "                        <td id=\"T_0edb3164_720c_11ea_bbc5_50e08586bf81row1_col4\" class=\"data row1 col4\" >nan</td>\n",
       "                        <td id=\"T_0edb3164_720c_11ea_bbc5_50e08586bf81row1_col5\" class=\"data row1 col5\" >nan</td>\n",
       "                        <td id=\"T_0edb3164_720c_11ea_bbc5_50e08586bf81row1_col6\" class=\"data row1 col6\" >0b1e1539f2cc45b7b9fa7c272da2e1d7</td>\n",
       "            </tr>\n",
       "            <tr>\n",
       "                                <td id=\"T_0edb3164_720c_11ea_bbc5_50e08586bf81row2_col0\" class=\"data row2 col0\" >e2127556f4f64592b11af22de27a7932</td>\n",
       "                        <td id=\"T_0edb3164_720c_11ea_bbc5_50e08586bf81row2_col1\" class=\"data row2 col1\" >Offer Received</td>\n",
       "                        <td id=\"T_0edb3164_720c_11ea_bbc5_50e08586bf81row2_col2\" class=\"data row2 col2\" >{'offer id': '2906b810c7d4411798c6938adc9daaa5'}</td>\n",
       "                        <td id=\"T_0edb3164_720c_11ea_bbc5_50e08586bf81row2_col3\" class=\"data row2 col3\" >0</td>\n",
       "                        <td id=\"T_0edb3164_720c_11ea_bbc5_50e08586bf81row2_col4\" class=\"data row2 col4\" >nan</td>\n",
       "                        <td id=\"T_0edb3164_720c_11ea_bbc5_50e08586bf81row2_col5\" class=\"data row2 col5\" >nan</td>\n",
       "                        <td id=\"T_0edb3164_720c_11ea_bbc5_50e08586bf81row2_col6\" class=\"data row2 col6\" >2906b810c7d4411798c6938adc9daaa5</td>\n",
       "            </tr>\n",
       "            <tr>\n",
       "                                <td id=\"T_0edb3164_720c_11ea_bbc5_50e08586bf81row3_col0\" class=\"data row3 col0\" >8ec6ce2a7e7949b1bf142def7d0e0586</td>\n",
       "                        <td id=\"T_0edb3164_720c_11ea_bbc5_50e08586bf81row3_col1\" class=\"data row3 col1\" >Offer Received</td>\n",
       "                        <td id=\"T_0edb3164_720c_11ea_bbc5_50e08586bf81row3_col2\" class=\"data row3 col2\" >{'offer id': 'fafdcd668e3743c1bb461111dcafc2a4'}</td>\n",
       "                        <td id=\"T_0edb3164_720c_11ea_bbc5_50e08586bf81row3_col3\" class=\"data row3 col3\" >0</td>\n",
       "                        <td id=\"T_0edb3164_720c_11ea_bbc5_50e08586bf81row3_col4\" class=\"data row3 col4\" >nan</td>\n",
       "                        <td id=\"T_0edb3164_720c_11ea_bbc5_50e08586bf81row3_col5\" class=\"data row3 col5\" >nan</td>\n",
       "                        <td id=\"T_0edb3164_720c_11ea_bbc5_50e08586bf81row3_col6\" class=\"data row3 col6\" >fafdcd668e3743c1bb461111dcafc2a4</td>\n",
       "            </tr>\n",
       "            <tr>\n",
       "                                <td id=\"T_0edb3164_720c_11ea_bbc5_50e08586bf81row4_col0\" class=\"data row4 col0\" >68617ca6246f4fbc85e91a2a49552598</td>\n",
       "                        <td id=\"T_0edb3164_720c_11ea_bbc5_50e08586bf81row4_col1\" class=\"data row4 col1\" >Offer Received</td>\n",
       "                        <td id=\"T_0edb3164_720c_11ea_bbc5_50e08586bf81row4_col2\" class=\"data row4 col2\" >{'offer id': '4d5c57ea9a6940dd891ad53e9dbe8da0'}</td>\n",
       "                        <td id=\"T_0edb3164_720c_11ea_bbc5_50e08586bf81row4_col3\" class=\"data row4 col3\" >0</td>\n",
       "                        <td id=\"T_0edb3164_720c_11ea_bbc5_50e08586bf81row4_col4\" class=\"data row4 col4\" >nan</td>\n",
       "                        <td id=\"T_0edb3164_720c_11ea_bbc5_50e08586bf81row4_col5\" class=\"data row4 col5\" >nan</td>\n",
       "                        <td id=\"T_0edb3164_720c_11ea_bbc5_50e08586bf81row4_col6\" class=\"data row4 col6\" >4d5c57ea9a6940dd891ad53e9dbe8da0</td>\n",
       "            </tr>\n",
       "    </tbody></table>"
      ],
      "text/plain": [
       "<pandas.io.formats.style.Styler at 0x22e9d4c1948>"
      ]
     },
     "execution_count": 22,
     "metadata": {},
     "output_type": "execute_result"
    }
   ],
   "source": [
    "transcript = column_rename(transcript)\n",
    "transcript['Event'] = transcript['Event'].apply(lambda x: x.title())\n",
    "transcript.head().style.hide_index()"
   ]
  },
  {
   "cell_type": "code",
   "execution_count": 23,
   "metadata": {},
   "outputs": [],
   "source": [
    "export_csv = transcript.to_csv (r'StarBucks\\Clean_transcript.csv', index = None, header=True)"
   ]
  },
  {
   "cell_type": "markdown",
   "metadata": {},
   "source": [
    "### The Dataset"
   ]
  },
  {
   "cell_type": "markdown",
   "metadata": {},
   "source": [
    "Merging transcript with portfolio to get offer type."
   ]
  },
  {
   "cell_type": "code",
   "execution_count": 24,
   "metadata": {
    "scrolled": false
   },
   "outputs": [],
   "source": [
    "Data = transcript.merge(portfolio,how='left',on='Offer_ID')"
   ]
  },
  {
   "cell_type": "markdown",
   "metadata": {},
   "source": [
    "However, this creates some undesired columns that we need to modify"
   ]
  },
  {
   "cell_type": "code",
   "execution_count": 25,
   "metadata": {
    "scrolled": true
   },
   "outputs": [],
   "source": [
    "# Getting rid of value column\n",
    "Data.drop('Value', axis=1, inplace=True)\n",
    "# renaming reward_x and reward_y to reward_received and reward_defined, respectively.\n",
    "Data.rename(columns={'Reward_x':'Reward_Received', 'Reward_y':'Reward_Defined'},inplace=True)"
   ]
  },
  {
   "cell_type": "markdown",
   "metadata": {},
   "source": [
    "Therefore,"
   ]
  },
  {
   "cell_type": "code",
   "execution_count": 26,
   "metadata": {},
   "outputs": [
    {
     "data": {
      "text/html": [
       "<style  type=\"text/css\" >\n",
       "</style><table id=\"T_0fddd52e_720c_11ea_9d87_50e08586bf81\" ><thead>    <tr>        <th class=\"col_heading level0 col0\" >Person</th>        <th class=\"col_heading level0 col1\" >Event</th>        <th class=\"col_heading level0 col2\" >Time</th>        <th class=\"col_heading level0 col3\" >Amount</th>        <th class=\"col_heading level0 col4\" >Reward_Received</th>        <th class=\"col_heading level0 col5\" >Offer_ID</th>        <th class=\"col_heading level0 col6\" >Reward_Defined</th>        <th class=\"col_heading level0 col7\" >Difficulty</th>        <th class=\"col_heading level0 col8\" >Duration</th>        <th class=\"col_heading level0 col9\" >Offer_Type</th>        <th class=\"col_heading level0 col10\" >Email</th>        <th class=\"col_heading level0 col11\" >Mobile</th>        <th class=\"col_heading level0 col12\" >Social</th>        <th class=\"col_heading level0 col13\" >Web</th>    </tr></thead><tbody>\n",
       "                <tr>\n",
       "                                <td id=\"T_0fddd52e_720c_11ea_9d87_50e08586bf81row0_col0\" class=\"data row0 col0\" >78afa995795e4d85b5d9ceeca43f5fef</td>\n",
       "                        <td id=\"T_0fddd52e_720c_11ea_9d87_50e08586bf81row0_col1\" class=\"data row0 col1\" >Offer Received</td>\n",
       "                        <td id=\"T_0fddd52e_720c_11ea_9d87_50e08586bf81row0_col2\" class=\"data row0 col2\" >0</td>\n",
       "                        <td id=\"T_0fddd52e_720c_11ea_9d87_50e08586bf81row0_col3\" class=\"data row0 col3\" >nan</td>\n",
       "                        <td id=\"T_0fddd52e_720c_11ea_9d87_50e08586bf81row0_col4\" class=\"data row0 col4\" >nan</td>\n",
       "                        <td id=\"T_0fddd52e_720c_11ea_9d87_50e08586bf81row0_col5\" class=\"data row0 col5\" >9b98b8c7a33c4b65b9aebfe6a799e6d9</td>\n",
       "                        <td id=\"T_0fddd52e_720c_11ea_9d87_50e08586bf81row0_col6\" class=\"data row0 col6\" >5.000000</td>\n",
       "                        <td id=\"T_0fddd52e_720c_11ea_9d87_50e08586bf81row0_col7\" class=\"data row0 col7\" >5.000000</td>\n",
       "                        <td id=\"T_0fddd52e_720c_11ea_9d87_50e08586bf81row0_col8\" class=\"data row0 col8\" >7.000000</td>\n",
       "                        <td id=\"T_0fddd52e_720c_11ea_9d87_50e08586bf81row0_col9\" class=\"data row0 col9\" >BOGO</td>\n",
       "                        <td id=\"T_0fddd52e_720c_11ea_9d87_50e08586bf81row0_col10\" class=\"data row0 col10\" >1.000000</td>\n",
       "                        <td id=\"T_0fddd52e_720c_11ea_9d87_50e08586bf81row0_col11\" class=\"data row0 col11\" >1.000000</td>\n",
       "                        <td id=\"T_0fddd52e_720c_11ea_9d87_50e08586bf81row0_col12\" class=\"data row0 col12\" >0.000000</td>\n",
       "                        <td id=\"T_0fddd52e_720c_11ea_9d87_50e08586bf81row0_col13\" class=\"data row0 col13\" >1.000000</td>\n",
       "            </tr>\n",
       "            <tr>\n",
       "                                <td id=\"T_0fddd52e_720c_11ea_9d87_50e08586bf81row1_col0\" class=\"data row1 col0\" >a03223e636434f42ac4c3df47e8bac43</td>\n",
       "                        <td id=\"T_0fddd52e_720c_11ea_9d87_50e08586bf81row1_col1\" class=\"data row1 col1\" >Offer Received</td>\n",
       "                        <td id=\"T_0fddd52e_720c_11ea_9d87_50e08586bf81row1_col2\" class=\"data row1 col2\" >0</td>\n",
       "                        <td id=\"T_0fddd52e_720c_11ea_9d87_50e08586bf81row1_col3\" class=\"data row1 col3\" >nan</td>\n",
       "                        <td id=\"T_0fddd52e_720c_11ea_9d87_50e08586bf81row1_col4\" class=\"data row1 col4\" >nan</td>\n",
       "                        <td id=\"T_0fddd52e_720c_11ea_9d87_50e08586bf81row1_col5\" class=\"data row1 col5\" >0b1e1539f2cc45b7b9fa7c272da2e1d7</td>\n",
       "                        <td id=\"T_0fddd52e_720c_11ea_9d87_50e08586bf81row1_col6\" class=\"data row1 col6\" >5.000000</td>\n",
       "                        <td id=\"T_0fddd52e_720c_11ea_9d87_50e08586bf81row1_col7\" class=\"data row1 col7\" >20.000000</td>\n",
       "                        <td id=\"T_0fddd52e_720c_11ea_9d87_50e08586bf81row1_col8\" class=\"data row1 col8\" >10.000000</td>\n",
       "                        <td id=\"T_0fddd52e_720c_11ea_9d87_50e08586bf81row1_col9\" class=\"data row1 col9\" >Discount</td>\n",
       "                        <td id=\"T_0fddd52e_720c_11ea_9d87_50e08586bf81row1_col10\" class=\"data row1 col10\" >1.000000</td>\n",
       "                        <td id=\"T_0fddd52e_720c_11ea_9d87_50e08586bf81row1_col11\" class=\"data row1 col11\" >0.000000</td>\n",
       "                        <td id=\"T_0fddd52e_720c_11ea_9d87_50e08586bf81row1_col12\" class=\"data row1 col12\" >0.000000</td>\n",
       "                        <td id=\"T_0fddd52e_720c_11ea_9d87_50e08586bf81row1_col13\" class=\"data row1 col13\" >1.000000</td>\n",
       "            </tr>\n",
       "            <tr>\n",
       "                                <td id=\"T_0fddd52e_720c_11ea_9d87_50e08586bf81row2_col0\" class=\"data row2 col0\" >e2127556f4f64592b11af22de27a7932</td>\n",
       "                        <td id=\"T_0fddd52e_720c_11ea_9d87_50e08586bf81row2_col1\" class=\"data row2 col1\" >Offer Received</td>\n",
       "                        <td id=\"T_0fddd52e_720c_11ea_9d87_50e08586bf81row2_col2\" class=\"data row2 col2\" >0</td>\n",
       "                        <td id=\"T_0fddd52e_720c_11ea_9d87_50e08586bf81row2_col3\" class=\"data row2 col3\" >nan</td>\n",
       "                        <td id=\"T_0fddd52e_720c_11ea_9d87_50e08586bf81row2_col4\" class=\"data row2 col4\" >nan</td>\n",
       "                        <td id=\"T_0fddd52e_720c_11ea_9d87_50e08586bf81row2_col5\" class=\"data row2 col5\" >2906b810c7d4411798c6938adc9daaa5</td>\n",
       "                        <td id=\"T_0fddd52e_720c_11ea_9d87_50e08586bf81row2_col6\" class=\"data row2 col6\" >2.000000</td>\n",
       "                        <td id=\"T_0fddd52e_720c_11ea_9d87_50e08586bf81row2_col7\" class=\"data row2 col7\" >10.000000</td>\n",
       "                        <td id=\"T_0fddd52e_720c_11ea_9d87_50e08586bf81row2_col8\" class=\"data row2 col8\" >7.000000</td>\n",
       "                        <td id=\"T_0fddd52e_720c_11ea_9d87_50e08586bf81row2_col9\" class=\"data row2 col9\" >Discount</td>\n",
       "                        <td id=\"T_0fddd52e_720c_11ea_9d87_50e08586bf81row2_col10\" class=\"data row2 col10\" >1.000000</td>\n",
       "                        <td id=\"T_0fddd52e_720c_11ea_9d87_50e08586bf81row2_col11\" class=\"data row2 col11\" >1.000000</td>\n",
       "                        <td id=\"T_0fddd52e_720c_11ea_9d87_50e08586bf81row2_col12\" class=\"data row2 col12\" >0.000000</td>\n",
       "                        <td id=\"T_0fddd52e_720c_11ea_9d87_50e08586bf81row2_col13\" class=\"data row2 col13\" >1.000000</td>\n",
       "            </tr>\n",
       "            <tr>\n",
       "                                <td id=\"T_0fddd52e_720c_11ea_9d87_50e08586bf81row3_col0\" class=\"data row3 col0\" >8ec6ce2a7e7949b1bf142def7d0e0586</td>\n",
       "                        <td id=\"T_0fddd52e_720c_11ea_9d87_50e08586bf81row3_col1\" class=\"data row3 col1\" >Offer Received</td>\n",
       "                        <td id=\"T_0fddd52e_720c_11ea_9d87_50e08586bf81row3_col2\" class=\"data row3 col2\" >0</td>\n",
       "                        <td id=\"T_0fddd52e_720c_11ea_9d87_50e08586bf81row3_col3\" class=\"data row3 col3\" >nan</td>\n",
       "                        <td id=\"T_0fddd52e_720c_11ea_9d87_50e08586bf81row3_col4\" class=\"data row3 col4\" >nan</td>\n",
       "                        <td id=\"T_0fddd52e_720c_11ea_9d87_50e08586bf81row3_col5\" class=\"data row3 col5\" >fafdcd668e3743c1bb461111dcafc2a4</td>\n",
       "                        <td id=\"T_0fddd52e_720c_11ea_9d87_50e08586bf81row3_col6\" class=\"data row3 col6\" >2.000000</td>\n",
       "                        <td id=\"T_0fddd52e_720c_11ea_9d87_50e08586bf81row3_col7\" class=\"data row3 col7\" >10.000000</td>\n",
       "                        <td id=\"T_0fddd52e_720c_11ea_9d87_50e08586bf81row3_col8\" class=\"data row3 col8\" >10.000000</td>\n",
       "                        <td id=\"T_0fddd52e_720c_11ea_9d87_50e08586bf81row3_col9\" class=\"data row3 col9\" >Discount</td>\n",
       "                        <td id=\"T_0fddd52e_720c_11ea_9d87_50e08586bf81row3_col10\" class=\"data row3 col10\" >1.000000</td>\n",
       "                        <td id=\"T_0fddd52e_720c_11ea_9d87_50e08586bf81row3_col11\" class=\"data row3 col11\" >1.000000</td>\n",
       "                        <td id=\"T_0fddd52e_720c_11ea_9d87_50e08586bf81row3_col12\" class=\"data row3 col12\" >1.000000</td>\n",
       "                        <td id=\"T_0fddd52e_720c_11ea_9d87_50e08586bf81row3_col13\" class=\"data row3 col13\" >1.000000</td>\n",
       "            </tr>\n",
       "            <tr>\n",
       "                                <td id=\"T_0fddd52e_720c_11ea_9d87_50e08586bf81row4_col0\" class=\"data row4 col0\" >68617ca6246f4fbc85e91a2a49552598</td>\n",
       "                        <td id=\"T_0fddd52e_720c_11ea_9d87_50e08586bf81row4_col1\" class=\"data row4 col1\" >Offer Received</td>\n",
       "                        <td id=\"T_0fddd52e_720c_11ea_9d87_50e08586bf81row4_col2\" class=\"data row4 col2\" >0</td>\n",
       "                        <td id=\"T_0fddd52e_720c_11ea_9d87_50e08586bf81row4_col3\" class=\"data row4 col3\" >nan</td>\n",
       "                        <td id=\"T_0fddd52e_720c_11ea_9d87_50e08586bf81row4_col4\" class=\"data row4 col4\" >nan</td>\n",
       "                        <td id=\"T_0fddd52e_720c_11ea_9d87_50e08586bf81row4_col5\" class=\"data row4 col5\" >4d5c57ea9a6940dd891ad53e9dbe8da0</td>\n",
       "                        <td id=\"T_0fddd52e_720c_11ea_9d87_50e08586bf81row4_col6\" class=\"data row4 col6\" >10.000000</td>\n",
       "                        <td id=\"T_0fddd52e_720c_11ea_9d87_50e08586bf81row4_col7\" class=\"data row4 col7\" >10.000000</td>\n",
       "                        <td id=\"T_0fddd52e_720c_11ea_9d87_50e08586bf81row4_col8\" class=\"data row4 col8\" >5.000000</td>\n",
       "                        <td id=\"T_0fddd52e_720c_11ea_9d87_50e08586bf81row4_col9\" class=\"data row4 col9\" >BOGO</td>\n",
       "                        <td id=\"T_0fddd52e_720c_11ea_9d87_50e08586bf81row4_col10\" class=\"data row4 col10\" >1.000000</td>\n",
       "                        <td id=\"T_0fddd52e_720c_11ea_9d87_50e08586bf81row4_col11\" class=\"data row4 col11\" >1.000000</td>\n",
       "                        <td id=\"T_0fddd52e_720c_11ea_9d87_50e08586bf81row4_col12\" class=\"data row4 col12\" >1.000000</td>\n",
       "                        <td id=\"T_0fddd52e_720c_11ea_9d87_50e08586bf81row4_col13\" class=\"data row4 col13\" >1.000000</td>\n",
       "            </tr>\n",
       "    </tbody></table>"
      ],
      "text/plain": [
       "<pandas.io.formats.style.Styler at 0x22e9d4da5c8>"
      ]
     },
     "execution_count": 26,
     "metadata": {},
     "output_type": "execute_result"
    }
   ],
   "source": [
    "Data.head().style.hide_index()"
   ]
  },
  {
   "cell_type": "code",
   "execution_count": 27,
   "metadata": {},
   "outputs": [],
   "source": [
    "export_csv = Data.to_csv (r'StarBucks\\Data.csv', index = None, header=True)"
   ]
  },
  {
   "cell_type": "markdown",
   "metadata": {},
   "source": [
    "## Exploratory Data Analysis\n",
    "\n",
    "In this section, a variety of plots are provided to a better understanding of the relationships between parameters.\n",
    "\n",
    "### Channel Distribution for Various Offers"
   ]
  },
  {
   "cell_type": "code",
   "execution_count": 28,
   "metadata": {},
   "outputs": [
    {
     "data": {
      "text/html": [
       "<div>\n",
       "<style scoped>\n",
       "    .dataframe tbody tr th:only-of-type {\n",
       "        vertical-align: middle;\n",
       "    }\n",
       "\n",
       "    .dataframe tbody tr th {\n",
       "        vertical-align: top;\n",
       "    }\n",
       "\n",
       "    .dataframe thead th {\n",
       "        text-align: right;\n",
       "    }\n",
       "</style>\n",
       "<table border=\"1\" class=\"dataframe\">\n",
       "  <thead>\n",
       "    <tr style=\"text-align: right;\">\n",
       "      <th></th>\n",
       "      <th>Email</th>\n",
       "      <th>Mobile</th>\n",
       "      <th>Social</th>\n",
       "      <th>Web</th>\n",
       "    </tr>\n",
       "    <tr>\n",
       "      <th>Offer_Type</th>\n",
       "      <th></th>\n",
       "      <th></th>\n",
       "      <th></th>\n",
       "      <th></th>\n",
       "    </tr>\n",
       "  </thead>\n",
       "  <tbody>\n",
       "    <tr>\n",
       "      <th>BOGO</th>\n",
       "      <td>4</td>\n",
       "      <td>4</td>\n",
       "      <td>3</td>\n",
       "      <td>3</td>\n",
       "    </tr>\n",
       "    <tr>\n",
       "      <th>Discount</th>\n",
       "      <td>4</td>\n",
       "      <td>3</td>\n",
       "      <td>2</td>\n",
       "      <td>4</td>\n",
       "    </tr>\n",
       "    <tr>\n",
       "      <th>Informational</th>\n",
       "      <td>2</td>\n",
       "      <td>2</td>\n",
       "      <td>1</td>\n",
       "      <td>1</td>\n",
       "    </tr>\n",
       "  </tbody>\n",
       "</table>\n",
       "</div>"
      ],
      "text/plain": [
       "               Email  Mobile  Social  Web\n",
       "Offer_Type                               \n",
       "BOGO               4       4       3    3\n",
       "Discount           4       3       2    4\n",
       "Informational      2       2       1    1"
      ]
     },
     "metadata": {},
     "output_type": "display_data"
    },
    {
     "data": {
      "image/png": "[encoded data removed]",
      "text/plain": [
       "<Figure size 864x432 with 1 Axes>"
      ]
     },
     "metadata": {
      "needs_background": "light"
     },
     "output_type": "display_data"
    }
   ],
   "source": [
    "Offer_Type_List = ['Email','Mobile','Social','Web']\n",
    "Group = portfolio.groupby('Offer_Type')[Offer_Type_List].sum()\n",
    "display(Group)\n",
    "Group = Group.reset_index().melt(id_vars= ['Offer_Type'], value_vars= Group.columns, var_name='Channels', value_name='Count')\n",
    "fig, ax = plt.subplots(1, 1, figsize=(12, 6))\n",
    "_ = sns.barplot(x=\"Offer_Type\", y=\"Count\", hue=\"Channels\", palette='Blues', edgecolor='Navy',  hatch=\"\\\\\", data=Group, ax = ax)\n",
    "_ = ax.set_xlabel('Channels')\n",
    "_ = ax.set_ylim([0, 5])\n",
    "_ = ax.set_title('Channel Distribution for Various Offers')"
   ]
  },
  {
   "cell_type": "markdown",
   "metadata": {},
   "source": [
    "It seems that social media is the least efficient channel among all."
   ]
  },
  {
   "cell_type": "markdown",
   "metadata": {},
   "source": [
    "### Age and Income Distribution Plots"
   ]
  },
  {
   "cell_type": "code",
   "execution_count": 29,
   "metadata": {
    "scrolled": false
   },
   "outputs": [
    {
     "data": {
      "image/png": "[encoded data removed]",
      "text/plain": [
       "<Figure size 864x864 with 2 Axes>"
      ]
     },
     "metadata": {
      "needs_background": "light"
     },
     "output_type": "display_data"
    }
   ],
   "source": [
    "fig, ax = plt.subplots(2, 1, figsize=(12, 12), sharex=False)\n",
    "\n",
    "_ = profile.Age.plot.hist(ax = ax[0], color='limegreen', edgecolor='Green', fontsize = 14)\n",
    "_ = ax[0].axvline(profile['Age'].median(), color = 'Navy', linestyle = '--', label = 'Median Income')\n",
    "_ = ax[0].axvline(profile['Age'].mean(), color = 'red', linestyle = '--', label = 'Mean Income')\n",
    "_ = ax[0].set_title('Age Distribution', fontsize = 14)\n",
    "_ = ax[0].set_xlabel('Age')\n",
    "_ = ax[0].legend(loc='upper right', fontsize = 14)\n",
    "_ = ax[0].set_ylim([0, 6e3])\n",
    "\n",
    "_ = profile.Income.plot.hist(ax = ax[1], color= 'lightskyblue', edgecolor = 'steelblue', fontsize = 14)\n",
    "_ = ax[1].axvline(profile['Income'].median(), color = 'k', linestyle = '--', label = 'Median Income')\n",
    "_ = ax[1].axvline(profile['Income'].mean(), color = 'red', linestyle = '--', label = 'Mean Income')\n",
    "_ = ax[1].set_title('Income Distribution', fontsize = 14)\n",
    "_ = ax[1].set_xlabel('Income', fontsize = 14)\n",
    "_ = ax[1].legend(loc='upper right', fontsize = 14)\n",
    "_ = ax[1].set_ylim([0, 2500])"
   ]
  },
  {
   "cell_type": "markdown",
   "metadata": {},
   "source": [
    "Costumers are mainly from ages 50 to 60, and most of the customers' income is around 60K."
   ]
  },
  {
   "cell_type": "markdown",
   "metadata": {},
   "source": [
    "### Gender Distribution Plot"
   ]
  },
  {
   "cell_type": "code",
   "execution_count": 30,
   "metadata": {},
   "outputs": [
    {
     "data": {
      "image/png": "[encoded data removed]",
      "text/plain": [
       "<Figure size 1008x432 with 2 Axes>"
      ]
     },
     "metadata": {
      "needs_background": "light"
     },
     "output_type": "display_data"
    }
   ],
   "source": [
    "fig, ax = plt.subplots(nrows=1, ncols=2, figsize=(14, 6), sharex=False)\n",
    "_ = profile.Gender.value_counts().plot.bar(ax = ax[0] , color='LightPink', edgecolor='DarkRed',\n",
    "                                           hatch = '\\\\\\\\',fontsize = 14, rot=0)\n",
    "_ = ax[0].set_title('Gender Distribution', fontsize = 14)\n",
    "_ = ax[0].set_xlabel('Gender', fontsize = 14)\n",
    "_ = ax[0].set_ylim([0, 9e3])\n",
    "\n",
    "_ = profile.Gender.value_counts().plot.pie(ax = ax[1], y= 'Count', colors = ['#66b3ff','#ff9999','#99ff99'],\n",
    "                                startangle=90, legend = False, autopct='%1.1f%%', fontsize=14,\n",
    "                                pctdistance=0.85, explode = (0.05,0.05,0.05))\n",
    "\n",
    "_ = ax[1].legend(bbox_to_anchor=(1, 1))"
   ]
  },
  {
   "cell_type": "markdown",
   "metadata": {},
   "source": [
    "More male customers than female customers."
   ]
  },
  {
   "cell_type": "markdown",
   "metadata": {},
   "source": [
    "### Membership Plots"
   ]
  },
  {
   "cell_type": "code",
   "execution_count": 31,
   "metadata": {},
   "outputs": [
    {
     "data": {
      "image/png": "[encoded data removed]",
      "text/plain": [
       "<Figure size 1008x576 with 2 Axes>"
      ]
     },
     "metadata": {
      "needs_background": "light"
     },
     "output_type": "display_data"
    }
   ],
   "source": [
    "fig, ax = plt.subplots(nrows=1, ncols=2, figsize=(14, 8), sharex=False)\n",
    "_ = profile['Member_Since_Year'].value_counts().sort_index().plot.bar(ax = ax[0] ,\n",
    "                                                     color= 'violet', edgecolor='indigo', hatch = '///', fontsize = 14,rot=0)\n",
    "_ = ax[0].set_title('Start Year of Membership', fontsize = 14)\n",
    "_ = ax[0].set_xlabel('Membership Since Year', fontsize = 14)\n",
    "_ = ax[0].set_ylim([0, 7e3])\n",
    "\n",
    "_ = profile['Member_Since_Year'].value_counts().sort_index().plot.pie(ax = ax[1], startangle=90, label = '', labels = None,\n",
    "                                                          colors = sns.color_palette(\"Paired\"),\n",
    "                                                          legend=True, autopct='%1.1f%%', fontsize=14,\n",
    "                                                          pctdistance=0.85, explode = (0.05,0.05,0.05,0.05,0.05,0.05))\n",
    "_ = ax[1].legend(bbox_to_anchor=(1, 1), labels= profile['Member_Since_Year'].value_counts().sort_index().index)\n",
    "_ = ax[1].add_artist(plt.Circle((0,0),0.70,fc='white'))\n",
    "_ = ax[1].set_xlabel('Membership Since Year', fontsize = 14)"
   ]
  },
  {
   "cell_type": "code",
   "execution_count": 32,
   "metadata": {},
   "outputs": [
    {
     "data": {
      "text/html": [
       "<div>\n",
       "<style scoped>\n",
       "    .dataframe tbody tr th:only-of-type {\n",
       "        vertical-align: middle;\n",
       "    }\n",
       "\n",
       "    .dataframe tbody tr th {\n",
       "        vertical-align: top;\n",
       "    }\n",
       "\n",
       "    .dataframe thead th {\n",
       "        text-align: right;\n",
       "    }\n",
       "</style>\n",
       "<table border=\"1\" class=\"dataframe\">\n",
       "  <thead>\n",
       "    <tr style=\"text-align: right;\">\n",
       "      <th>Gender</th>\n",
       "      <th>F</th>\n",
       "      <th>M</th>\n",
       "      <th>O</th>\n",
       "    </tr>\n",
       "    <tr>\n",
       "      <th>Member_Since_Year</th>\n",
       "      <th></th>\n",
       "      <th></th>\n",
       "      <th></th>\n",
       "    </tr>\n",
       "  </thead>\n",
       "  <tbody>\n",
       "    <tr>\n",
       "      <th>2013</th>\n",
       "      <td>74</td>\n",
       "      <td>197</td>\n",
       "      <td>3</td>\n",
       "    </tr>\n",
       "    <tr>\n",
       "      <th>2014</th>\n",
       "      <td>138</td>\n",
       "      <td>520</td>\n",
       "      <td>4</td>\n",
       "    </tr>\n",
       "    <tr>\n",
       "      <th>2015</th>\n",
       "      <td>663</td>\n",
       "      <td>905</td>\n",
       "      <td>29</td>\n",
       "    </tr>\n",
       "    <tr>\n",
       "      <th>2016</th>\n",
       "      <td>1509</td>\n",
       "      <td>1483</td>\n",
       "      <td>32</td>\n",
       "    </tr>\n",
       "    <tr>\n",
       "      <th>2017</th>\n",
       "      <td>2443</td>\n",
       "      <td>3067</td>\n",
       "      <td>89</td>\n",
       "    </tr>\n",
       "    <tr>\n",
       "      <th>2018</th>\n",
       "      <td>1302</td>\n",
       "      <td>2312</td>\n",
       "      <td>55</td>\n",
       "    </tr>\n",
       "  </tbody>\n",
       "</table>\n",
       "</div>"
      ],
      "text/plain": [
       "Gender                F     M   O\n",
       "Member_Since_Year                \n",
       "2013                 74   197   3\n",
       "2014                138   520   4\n",
       "2015                663   905  29\n",
       "2016               1509  1483  32\n",
       "2017               2443  3067  89\n",
       "2018               1302  2312  55"
      ]
     },
     "metadata": {},
     "output_type": "display_data"
    },
    {
     "data": {
      "image/png": "[encoded data removed]",
      "text/plain": [
       "<Figure size 1008x432 with 1 Axes>"
      ]
     },
     "metadata": {
      "needs_background": "light"
     },
     "output_type": "display_data"
    }
   ],
   "source": [
    "Group = profile.groupby('Member_Since_Year')['Gender'].value_counts().unstack().sort_index()\n",
    "display(Group)\n",
    "Group = Group.reset_index().melt(id_vars= ['Member_Since_Year'],\n",
    "                                 value_vars= Group.columns, var_name='Channels', value_name='Count')\n",
    "\n",
    "fig, ax = plt.subplots(1, 1, figsize=(14, 6))\n",
    "_ = sns.barplot(x=\"Member_Since_Year\", y=\"Count\", hue=\"Channels\", palette='Purples', edgecolor='Indigo',  hatch=\"\\\\\", data=Group, ax = ax)\n",
    "_ = ax.set_title('Membership Growth Over Year by Gender', fontsize = 14)\n",
    "_ = ax.set_xlabel('Membership Since Year', fontsize = 14)\n",
    "_ = ax.set_ylim([0, 35e2])"
   ]
  },
  {
   "cell_type": "markdown",
   "metadata": {},
   "source": [
    "Assuming the data is a snapshot of the end of 2018. get member tenure by the number of months."
   ]
  },
  {
   "cell_type": "code",
   "execution_count": 33,
   "metadata": {
    "scrolled": false
   },
   "outputs": [
    {
     "data": {
      "image/png": "[encoded data removed]",
      "text/plain": [
       "<Figure size 864x432 with 1 Axes>"
      ]
     },
     "metadata": {
      "needs_background": "light"
     },
     "output_type": "display_data"
    }
   ],
   "source": [
    "fig, ax = plt.subplots(1, 1, figsize=(12, 6), sharex=False)\n",
    "\n",
    "_ = profile['Member_Tenure'].plot.hist(ax = ax, color='lavenderblush', edgecolor='hotpink', rot=0, fontsize = 14)\n",
    "_ = ax.set_title('Member Tenure by Month', fontsize = 14)\n",
    "_ = ax.set_xlabel('Number of Months', fontsize = 14)\n",
    "_ = ax.set_ylim([0, 6e3])\n",
    "_ = ax.axvline(profile['Member_Tenure'].median(), color = 'Navy', linestyle = '--', label = 'Median Income')\n",
    "_ = ax.axvline(profile['Member_Tenure'].mean(), color = 'DarkGreen', linestyle = '--', label = 'Mean Income')\n",
    "_ = ax.legend(loc='upper right', fontsize = 14)"
   ]
  },
  {
   "cell_type": "markdown",
   "metadata": {},
   "source": [
    "Let's look at the Transcript data one more time."
   ]
  },
  {
   "cell_type": "code",
   "execution_count": 34,
   "metadata": {
    "scrolled": true
   },
   "outputs": [
    {
     "data": {
      "text/html": [
       "<style  type=\"text/css\" >\n",
       "</style><table id=\"T_120067c2_720c_11ea_93e4_50e08586bf81\" ><thead>    <tr>        <th class=\"col_heading level0 col0\" >Person</th>        <th class=\"col_heading level0 col1\" >Event</th>        <th class=\"col_heading level0 col2\" >Value</th>        <th class=\"col_heading level0 col3\" >Time</th>        <th class=\"col_heading level0 col4\" >Amount</th>        <th class=\"col_heading level0 col5\" >Reward</th>        <th class=\"col_heading level0 col6\" >Offer_ID</th>    </tr></thead><tbody>\n",
       "                <tr>\n",
       "                                <td id=\"T_120067c2_720c_11ea_93e4_50e08586bf81row0_col0\" class=\"data row0 col0\" >78afa995795e4d85b5d9ceeca43f5fef</td>\n",
       "                        <td id=\"T_120067c2_720c_11ea_93e4_50e08586bf81row0_col1\" class=\"data row0 col1\" >Offer Received</td>\n",
       "                        <td id=\"T_120067c2_720c_11ea_93e4_50e08586bf81row0_col2\" class=\"data row0 col2\" >{'offer id': '9b98b8c7a33c4b65b9aebfe6a799e6d9'}</td>\n",
       "                        <td id=\"T_120067c2_720c_11ea_93e4_50e08586bf81row0_col3\" class=\"data row0 col3\" >0</td>\n",
       "                        <td id=\"T_120067c2_720c_11ea_93e4_50e08586bf81row0_col4\" class=\"data row0 col4\" >nan</td>\n",
       "                        <td id=\"T_120067c2_720c_11ea_93e4_50e08586bf81row0_col5\" class=\"data row0 col5\" >nan</td>\n",
       "                        <td id=\"T_120067c2_720c_11ea_93e4_50e08586bf81row0_col6\" class=\"data row0 col6\" >9b98b8c7a33c4b65b9aebfe6a799e6d9</td>\n",
       "            </tr>\n",
       "            <tr>\n",
       "                                <td id=\"T_120067c2_720c_11ea_93e4_50e08586bf81row1_col0\" class=\"data row1 col0\" >a03223e636434f42ac4c3df47e8bac43</td>\n",
       "                        <td id=\"T_120067c2_720c_11ea_93e4_50e08586bf81row1_col1\" class=\"data row1 col1\" >Offer Received</td>\n",
       "                        <td id=\"T_120067c2_720c_11ea_93e4_50e08586bf81row1_col2\" class=\"data row1 col2\" >{'offer id': '0b1e1539f2cc45b7b9fa7c272da2e1d7'}</td>\n",
       "                        <td id=\"T_120067c2_720c_11ea_93e4_50e08586bf81row1_col3\" class=\"data row1 col3\" >0</td>\n",
       "                        <td id=\"T_120067c2_720c_11ea_93e4_50e08586bf81row1_col4\" class=\"data row1 col4\" >nan</td>\n",
       "                        <td id=\"T_120067c2_720c_11ea_93e4_50e08586bf81row1_col5\" class=\"data row1 col5\" >nan</td>\n",
       "                        <td id=\"T_120067c2_720c_11ea_93e4_50e08586bf81row1_col6\" class=\"data row1 col6\" >0b1e1539f2cc45b7b9fa7c272da2e1d7</td>\n",
       "            </tr>\n",
       "            <tr>\n",
       "                                <td id=\"T_120067c2_720c_11ea_93e4_50e08586bf81row2_col0\" class=\"data row2 col0\" >e2127556f4f64592b11af22de27a7932</td>\n",
       "                        <td id=\"T_120067c2_720c_11ea_93e4_50e08586bf81row2_col1\" class=\"data row2 col1\" >Offer Received</td>\n",
       "                        <td id=\"T_120067c2_720c_11ea_93e4_50e08586bf81row2_col2\" class=\"data row2 col2\" >{'offer id': '2906b810c7d4411798c6938adc9daaa5'}</td>\n",
       "                        <td id=\"T_120067c2_720c_11ea_93e4_50e08586bf81row2_col3\" class=\"data row2 col3\" >0</td>\n",
       "                        <td id=\"T_120067c2_720c_11ea_93e4_50e08586bf81row2_col4\" class=\"data row2 col4\" >nan</td>\n",
       "                        <td id=\"T_120067c2_720c_11ea_93e4_50e08586bf81row2_col5\" class=\"data row2 col5\" >nan</td>\n",
       "                        <td id=\"T_120067c2_720c_11ea_93e4_50e08586bf81row2_col6\" class=\"data row2 col6\" >2906b810c7d4411798c6938adc9daaa5</td>\n",
       "            </tr>\n",
       "            <tr>\n",
       "                                <td id=\"T_120067c2_720c_11ea_93e4_50e08586bf81row3_col0\" class=\"data row3 col0\" >8ec6ce2a7e7949b1bf142def7d0e0586</td>\n",
       "                        <td id=\"T_120067c2_720c_11ea_93e4_50e08586bf81row3_col1\" class=\"data row3 col1\" >Offer Received</td>\n",
       "                        <td id=\"T_120067c2_720c_11ea_93e4_50e08586bf81row3_col2\" class=\"data row3 col2\" >{'offer id': 'fafdcd668e3743c1bb461111dcafc2a4'}</td>\n",
       "                        <td id=\"T_120067c2_720c_11ea_93e4_50e08586bf81row3_col3\" class=\"data row3 col3\" >0</td>\n",
       "                        <td id=\"T_120067c2_720c_11ea_93e4_50e08586bf81row3_col4\" class=\"data row3 col4\" >nan</td>\n",
       "                        <td id=\"T_120067c2_720c_11ea_93e4_50e08586bf81row3_col5\" class=\"data row3 col5\" >nan</td>\n",
       "                        <td id=\"T_120067c2_720c_11ea_93e4_50e08586bf81row3_col6\" class=\"data row3 col6\" >fafdcd668e3743c1bb461111dcafc2a4</td>\n",
       "            </tr>\n",
       "            <tr>\n",
       "                                <td id=\"T_120067c2_720c_11ea_93e4_50e08586bf81row4_col0\" class=\"data row4 col0\" >68617ca6246f4fbc85e91a2a49552598</td>\n",
       "                        <td id=\"T_120067c2_720c_11ea_93e4_50e08586bf81row4_col1\" class=\"data row4 col1\" >Offer Received</td>\n",
       "                        <td id=\"T_120067c2_720c_11ea_93e4_50e08586bf81row4_col2\" class=\"data row4 col2\" >{'offer id': '4d5c57ea9a6940dd891ad53e9dbe8da0'}</td>\n",
       "                        <td id=\"T_120067c2_720c_11ea_93e4_50e08586bf81row4_col3\" class=\"data row4 col3\" >0</td>\n",
       "                        <td id=\"T_120067c2_720c_11ea_93e4_50e08586bf81row4_col4\" class=\"data row4 col4\" >nan</td>\n",
       "                        <td id=\"T_120067c2_720c_11ea_93e4_50e08586bf81row4_col5\" class=\"data row4 col5\" >nan</td>\n",
       "                        <td id=\"T_120067c2_720c_11ea_93e4_50e08586bf81row4_col6\" class=\"data row4 col6\" >4d5c57ea9a6940dd891ad53e9dbe8da0</td>\n",
       "            </tr>\n",
       "    </tbody></table>"
      ],
      "text/plain": [
       "<pandas.io.formats.style.Styler at 0x22e97e9b488>"
      ]
     },
     "execution_count": 34,
     "metadata": {},
     "output_type": "execute_result"
    }
   ],
   "source": [
    "transcript.head().style.hide_index()"
   ]
  },
  {
   "cell_type": "markdown",
   "metadata": {},
   "source": [
    "First of all,  It can be seen that  there are $17000$ unique customer profiles in **Transcript Data**."
   ]
  },
  {
   "cell_type": "code",
   "execution_count": 35,
   "metadata": {
    "scrolled": false
   },
   "outputs": [
    {
     "data": {
      "text/plain": [
       "17000"
      ]
     },
     "execution_count": 35,
     "metadata": {},
     "output_type": "execute_result"
    }
   ],
   "source": [
    "transcript['Person'].unique().shape[0]"
   ]
  },
  {
   "cell_type": "markdown",
   "metadata": {},
   "source": [
    "### Event Plots"
   ]
  },
  {
   "cell_type": "markdown",
   "metadata": {},
   "source": [
    "Moreover, 76277 customers received an offer, 57725 of which only viewed the received offer, and 33579 only completed the offer."
   ]
  },
  {
   "cell_type": "code",
   "execution_count": 36,
   "metadata": {},
   "outputs": [
    {
     "data": {
      "text/html": [
       "<div>\n",
       "<style scoped>\n",
       "    .dataframe tbody tr th:only-of-type {\n",
       "        vertical-align: middle;\n",
       "    }\n",
       "\n",
       "    .dataframe tbody tr th {\n",
       "        vertical-align: top;\n",
       "    }\n",
       "\n",
       "    .dataframe thead th {\n",
       "        text-align: right;\n",
       "    }\n",
       "</style>\n",
       "<table border=\"1\" class=\"dataframe\">\n",
       "  <thead>\n",
       "    <tr style=\"text-align: right;\">\n",
       "      <th>Event</th>\n",
       "      <th>Offer Completed</th>\n",
       "      <th>Offer Received</th>\n",
       "      <th>Offer Viewed</th>\n",
       "      <th>Transaction</th>\n",
       "    </tr>\n",
       "  </thead>\n",
       "  <tbody>\n",
       "    <tr>\n",
       "      <th>Count</th>\n",
       "      <td>33579</td>\n",
       "      <td>76277</td>\n",
       "      <td>57725</td>\n",
       "      <td>138953</td>\n",
       "    </tr>\n",
       "  </tbody>\n",
       "</table>\n",
       "</div>"
      ],
      "text/plain": [
       "Event  Offer Completed  Offer Received  Offer Viewed  Transaction\n",
       "Count            33579           76277         57725       138953"
      ]
     },
     "metadata": {},
     "output_type": "display_data"
    },
    {
     "data": {
      "text/html": [
       "<div>\n",
       "<style scoped>\n",
       "    .dataframe tbody tr th:only-of-type {\n",
       "        vertical-align: middle;\n",
       "    }\n",
       "\n",
       "    .dataframe tbody tr th {\n",
       "        vertical-align: top;\n",
       "    }\n",
       "\n",
       "    .dataframe thead th {\n",
       "        text-align: right;\n",
       "    }\n",
       "</style>\n",
       "<table border=\"1\" class=\"dataframe\">\n",
       "  <thead>\n",
       "    <tr style=\"text-align: right;\">\n",
       "      <th></th>\n",
       "      <th>Completed</th>\n",
       "      <th>Viewed</th>\n",
       "    </tr>\n",
       "  </thead>\n",
       "  <tbody>\n",
       "    <tr>\n",
       "      <th>Percentage</th>\n",
       "      <td>58.17</td>\n",
       "      <td>75.68</td>\n",
       "    </tr>\n",
       "  </tbody>\n",
       "</table>\n",
       "</div>"
      ],
      "text/plain": [
       "            Completed  Viewed\n",
       "Percentage      58.17   75.68"
      ]
     },
     "metadata": {},
     "output_type": "display_data"
    }
   ],
   "source": [
    "Summary_Transcript = pd.DataFrame(Data.groupby(['Event'])['Event'].count())\n",
    "Summary_Transcript.columns = ['Count']\n",
    "display(Summary_Transcript.T)\n",
    "data = {'Completed': [100*Summary_Transcript.loc['Offer Completed','Count']/Summary_Transcript.loc['Offer Viewed','Count']],\n",
    "        'Viewed':[100*Summary_Transcript.loc['Offer Viewed','Count']/Summary_Transcript.loc['Offer Received','Count']]}\n",
    "Group = pd.DataFrame(data = data).round(2).T\n",
    "Group.columns = ['Percentage']\n",
    "display(Group.T)"
   ]
  },
  {
   "cell_type": "code",
   "execution_count": 37,
   "metadata": {},
   "outputs": [
    {
     "data": {
      "image/png": "[encoded data removed]",
      "text/plain": [
       "<Figure size 936x360 with 2 Axes>"
      ]
     },
     "metadata": {
      "needs_background": "light"
     },
     "output_type": "display_data"
    }
   ],
   "source": [
    "fig = plt.figure(figsize=(13, 5), constrained_layout=True)\n",
    "gs = fig.add_gridspec(1, 5)\n",
    "ax0 = fig.add_subplot(gs[:-1])\n",
    "ax1 = fig.add_subplot(gs[-1])\n",
    "_ = sns.barplot(ax = ax0, y=\"Event\", x=\"Count\", palette='Purples',\n",
    "                edgecolor='k',  hatch=\"///\", data=Summary_Transcript.reset_index(drop = False))\n",
    "_ = ax0.set_xlim([0, 16e4])\n",
    "_ = ax0.set_xlabel('Count', fontsize = 14)\n",
    "\n",
    "_ = sns.barplot(ax = ax1, x=\"index\", y=\"Percentage\", palette='Blues',\n",
    "                edgecolor='k',  hatch=\"///\", data=Group.reset_index(drop = False))\n",
    "_ = ax1.set_xlabel(None, fontsize = 14)\n",
    "_ = ax1.set_ylim([0,100])\n",
    "_ = ax1.set_yticks(np.arange(0, 101, 10))\n",
    "\n",
    "# plt.subplots_adjust(wspace=-0.2)"
   ]
  },
  {
   "cell_type": "code",
   "execution_count": 38,
   "metadata": {
    "scrolled": false
   },
   "outputs": [
    {
     "data": {
      "text/html": [
       "<div>\n",
       "<style scoped>\n",
       "    .dataframe tbody tr th:only-of-type {\n",
       "        vertical-align: middle;\n",
       "    }\n",
       "\n",
       "    .dataframe tbody tr th {\n",
       "        vertical-align: top;\n",
       "    }\n",
       "\n",
       "    .dataframe thead th {\n",
       "        text-align: right;\n",
       "    }\n",
       "</style>\n",
       "<table border=\"1\" class=\"dataframe\">\n",
       "  <thead>\n",
       "    <tr style=\"text-align: right;\">\n",
       "      <th></th>\n",
       "      <th></th>\n",
       "      <th>Count</th>\n",
       "    </tr>\n",
       "    <tr>\n",
       "      <th>Event</th>\n",
       "      <th>Offer_Type</th>\n",
       "      <th></th>\n",
       "    </tr>\n",
       "  </thead>\n",
       "  <tbody>\n",
       "    <tr>\n",
       "      <th rowspan=\"2\" valign=\"top\">Offer Completed</th>\n",
       "      <th>BOGO</th>\n",
       "      <td>15669</td>\n",
       "    </tr>\n",
       "    <tr>\n",
       "      <th>Discount</th>\n",
       "      <td>17910</td>\n",
       "    </tr>\n",
       "    <tr>\n",
       "      <th rowspan=\"3\" valign=\"top\">Offer Received</th>\n",
       "      <th>BOGO</th>\n",
       "      <td>30499</td>\n",
       "    </tr>\n",
       "    <tr>\n",
       "      <th>Discount</th>\n",
       "      <td>30543</td>\n",
       "    </tr>\n",
       "    <tr>\n",
       "      <th>Informational</th>\n",
       "      <td>15235</td>\n",
       "    </tr>\n",
       "    <tr>\n",
       "      <th rowspan=\"3\" valign=\"top\">Offer Viewed</th>\n",
       "      <th>BOGO</th>\n",
       "      <td>25449</td>\n",
       "    </tr>\n",
       "    <tr>\n",
       "      <th>Discount</th>\n",
       "      <td>21445</td>\n",
       "    </tr>\n",
       "    <tr>\n",
       "      <th>Informational</th>\n",
       "      <td>10831</td>\n",
       "    </tr>\n",
       "  </tbody>\n",
       "</table>\n",
       "</div>"
      ],
      "text/plain": [
       "                               Count\n",
       "Event           Offer_Type          \n",
       "Offer Completed BOGO           15669\n",
       "                Discount       17910\n",
       "Offer Received  BOGO           30499\n",
       "                Discount       30543\n",
       "                Informational  15235\n",
       "Offer Viewed    BOGO           25449\n",
       "                Discount       21445\n",
       "                Informational  10831"
      ]
     },
     "metadata": {},
     "output_type": "display_data"
    },
    {
     "data": {
      "image/png": "[encoded data removed]",
      "text/plain": [
       "<Figure size 864x432 with 1 Axes>"
      ]
     },
     "metadata": {
      "needs_background": "light"
     },
     "output_type": "display_data"
    }
   ],
   "source": [
    "event_tp = pd.DataFrame(Data.groupby(['Event','Offer_Type'])['Offer_Type'].count())\n",
    "event_tp.columns = ['Count']\n",
    "display(event_tp)\n",
    "event_tp.reset_index(inplace = True)\n",
    "fig, ax = plt.subplots(1, 1, figsize=(12, 6))\n",
    "_ = sns.barplot(x=\"Event\", y=\"Count\", hue=\"Offer_Type\", palette='Purples', edgecolor='Indigo',  hatch=\"\\\\\",\n",
    "                data=event_tp, ax = ax)\n",
    "_ = ax.set_ylim([0, 35e3])\n",
    "_ = ax.set_xlabel('Offer Type', fontsize = 14)\n",
    "_ = ax.set_ylabel('Count', fontsize = 14)"
   ]
  },
  {
   "cell_type": "markdown",
   "metadata": {},
   "source": [
    "### Received Reward"
   ]
  },
  {
   "cell_type": "code",
   "execution_count": 39,
   "metadata": {},
   "outputs": [
    {
     "data": {
      "text/html": [
       "<div>\n",
       "<style scoped>\n",
       "    .dataframe tbody tr th:only-of-type {\n",
       "        vertical-align: middle;\n",
       "    }\n",
       "\n",
       "    .dataframe tbody tr th {\n",
       "        vertical-align: top;\n",
       "    }\n",
       "\n",
       "    .dataframe thead th {\n",
       "        text-align: right;\n",
       "    }\n",
       "</style>\n",
       "<table border=\"1\" class=\"dataframe\">\n",
       "  <thead>\n",
       "    <tr style=\"text-align: right;\">\n",
       "      <th></th>\n",
       "      <th>Count</th>\n",
       "    </tr>\n",
       "    <tr>\n",
       "      <th>Reward_Received</th>\n",
       "      <th></th>\n",
       "    </tr>\n",
       "  </thead>\n",
       "  <tbody>\n",
       "    <tr>\n",
       "      <th>2.0</th>\n",
       "      <td>9334</td>\n",
       "    </tr>\n",
       "    <tr>\n",
       "      <th>3.0</th>\n",
       "      <td>5156</td>\n",
       "    </tr>\n",
       "    <tr>\n",
       "      <th>5.0</th>\n",
       "      <td>12070</td>\n",
       "    </tr>\n",
       "    <tr>\n",
       "      <th>10.0</th>\n",
       "      <td>7019</td>\n",
       "    </tr>\n",
       "  </tbody>\n",
       "</table>\n",
       "</div>"
      ],
      "text/plain": [
       "                 Count\n",
       "Reward_Received       \n",
       "2.0               9334\n",
       "3.0               5156\n",
       "5.0              12070\n",
       "10.0              7019"
      ]
     },
     "metadata": {},
     "output_type": "display_data"
    },
    {
     "data": {
      "image/png": "[encoded data removed]",
      "text/plain": [
       "<Figure size 432x432 with 1 Axes>"
      ]
     },
     "metadata": {
      "needs_background": "light"
     },
     "output_type": "display_data"
    }
   ],
   "source": [
    "reward_received_tp = pd.DataFrame(Data.groupby(['Reward_Received'])['Reward_Received'].count())\n",
    "reward_received_tp.columns = ['Count']\n",
    "display(reward_received_tp)\n",
    "\n",
    "fig, ax = plt.subplots(1, 1, figsize=(6, 6), sharex=False)\n",
    "_ = sns.barplot(ax = ax, x=\"Reward_Received\", y=\"Count\", palette='Greens',\n",
    "                edgecolor='k',  hatch=\"///\", data=reward_received_tp.reset_index(drop = False))\n",
    "_ = ax.set_title('Reward Received', fontsize = 14)\n",
    "_ = ax.set_ylim([0, 14e3])\n",
    "_ = ax.set_xlabel('Reward Received', fontsize = 14)\n",
    "_ = ax.set_ylabel('Count', fontsize = 14)"
   ]
  },
  {
   "cell_type": "markdown",
   "metadata": {},
   "source": [
    "### A Customer's Journey\n",
    "\n",
    "First off,"
   ]
  },
  {
   "cell_type": "code",
   "execution_count": 40,
   "metadata": {},
   "outputs": [
    {
     "data": {
      "text/plain": [
       "['Offer Received', 'Offer Viewed', 'Transaction', 'Offer Completed']"
      ]
     },
     "execution_count": 40,
     "metadata": {},
     "output_type": "execute_result"
    }
   ],
   "source": [
    "Data['Event'].unique().tolist()"
   ]
  },
  {
   "cell_type": "markdown",
   "metadata": {},
   "source": [
    "Now, let's focus on those customers that **completed an offer**."
   ]
  },
  {
   "cell_type": "code",
   "execution_count": 41,
   "metadata": {},
   "outputs": [],
   "source": [
    "# creating a list of these customers\n",
    "offer_completed_list = Data.loc[Data['Event'] == 'Offer Completed', 'Person'].tolist()"
   ]
  },
  {
   "cell_type": "markdown",
   "metadata": {},
   "source": [
    "The journey of one of these customers can be analyzed  as well. For example, the first customer from the above list"
   ]
  },
  {
   "cell_type": "code",
   "execution_count": 42,
   "metadata": {
    "scrolled": false
   },
   "outputs": [
    {
     "data": {
      "text/html": [
       "<div>\n",
       "<style scoped>\n",
       "    .dataframe tbody tr th:only-of-type {\n",
       "        vertical-align: middle;\n",
       "    }\n",
       "\n",
       "    .dataframe tbody tr th {\n",
       "        vertical-align: top;\n",
       "    }\n",
       "\n",
       "    .dataframe thead th {\n",
       "        text-align: right;\n",
       "    }\n",
       "</style>\n",
       "<table border=\"1\" class=\"dataframe\">\n",
       "  <thead>\n",
       "    <tr style=\"text-align: right;\">\n",
       "      <th></th>\n",
       "      <th>Person</th>\n",
       "      <th>Event</th>\n",
       "      <th>Time</th>\n",
       "      <th>Amount</th>\n",
       "      <th>Reward_Received</th>\n",
       "      <th>Offer_ID</th>\n",
       "      <th>Reward_Defined</th>\n",
       "      <th>Difficulty</th>\n",
       "      <th>Duration</th>\n",
       "      <th>Offer_Type</th>\n",
       "      <th>Email</th>\n",
       "      <th>Mobile</th>\n",
       "      <th>Social</th>\n",
       "      <th>Web</th>\n",
       "    </tr>\n",
       "  </thead>\n",
       "  <tbody>\n",
       "    <tr>\n",
       "      <th>36</th>\n",
       "      <td>9fa9ae8f57894cc9a3b8a9bbe0fc1b2f</td>\n",
       "      <td>Offer Received</td>\n",
       "      <td>0</td>\n",
       "      <td>NaN</td>\n",
       "      <td>NaN</td>\n",
       "      <td>2906b810c7d4411798c6938adc9daaa5</td>\n",
       "      <td>2.0</td>\n",
       "      <td>10.0</td>\n",
       "      <td>7.0</td>\n",
       "      <td>Discount</td>\n",
       "      <td>1.0</td>\n",
       "      <td>1.0</td>\n",
       "      <td>0.0</td>\n",
       "      <td>1.0</td>\n",
       "    </tr>\n",
       "    <tr>\n",
       "      <th>12656</th>\n",
       "      <td>9fa9ae8f57894cc9a3b8a9bbe0fc1b2f</td>\n",
       "      <td>Offer Viewed</td>\n",
       "      <td>0</td>\n",
       "      <td>NaN</td>\n",
       "      <td>NaN</td>\n",
       "      <td>2906b810c7d4411798c6938adc9daaa5</td>\n",
       "      <td>2.0</td>\n",
       "      <td>10.0</td>\n",
       "      <td>7.0</td>\n",
       "      <td>Discount</td>\n",
       "      <td>1.0</td>\n",
       "      <td>1.0</td>\n",
       "      <td>0.0</td>\n",
       "      <td>1.0</td>\n",
       "    </tr>\n",
       "    <tr>\n",
       "      <th>12657</th>\n",
       "      <td>9fa9ae8f57894cc9a3b8a9bbe0fc1b2f</td>\n",
       "      <td>Transaction</td>\n",
       "      <td>0</td>\n",
       "      <td>34.56</td>\n",
       "      <td>NaN</td>\n",
       "      <td>NaN</td>\n",
       "      <td>NaN</td>\n",
       "      <td>NaN</td>\n",
       "      <td>NaN</td>\n",
       "      <td>NaN</td>\n",
       "      <td>NaN</td>\n",
       "      <td>NaN</td>\n",
       "      <td>NaN</td>\n",
       "      <td>NaN</td>\n",
       "    </tr>\n",
       "    <tr>\n",
       "      <th>12658</th>\n",
       "      <td>9fa9ae8f57894cc9a3b8a9bbe0fc1b2f</td>\n",
       "      <td>Offer Completed</td>\n",
       "      <td>0</td>\n",
       "      <td>NaN</td>\n",
       "      <td>2.0</td>\n",
       "      <td>2906b810c7d4411798c6938adc9daaa5</td>\n",
       "      <td>2.0</td>\n",
       "      <td>10.0</td>\n",
       "      <td>7.0</td>\n",
       "      <td>Discount</td>\n",
       "      <td>1.0</td>\n",
       "      <td>1.0</td>\n",
       "      <td>0.0</td>\n",
       "      <td>1.0</td>\n",
       "    </tr>\n",
       "    <tr>\n",
       "      <th>27850</th>\n",
       "      <td>9fa9ae8f57894cc9a3b8a9bbe0fc1b2f</td>\n",
       "      <td>Transaction</td>\n",
       "      <td>42</td>\n",
       "      <td>21.55</td>\n",
       "      <td>NaN</td>\n",
       "      <td>NaN</td>\n",
       "      <td>NaN</td>\n",
       "      <td>NaN</td>\n",
       "      <td>NaN</td>\n",
       "      <td>NaN</td>\n",
       "      <td>NaN</td>\n",
       "      <td>NaN</td>\n",
       "      <td>NaN</td>\n",
       "      <td>NaN</td>\n",
       "    </tr>\n",
       "    <tr>\n",
       "      <th>44327</th>\n",
       "      <td>9fa9ae8f57894cc9a3b8a9bbe0fc1b2f</td>\n",
       "      <td>Transaction</td>\n",
       "      <td>114</td>\n",
       "      <td>32.87</td>\n",
       "      <td>NaN</td>\n",
       "      <td>NaN</td>\n",
       "      <td>NaN</td>\n",
       "      <td>NaN</td>\n",
       "      <td>NaN</td>\n",
       "      <td>NaN</td>\n",
       "      <td>NaN</td>\n",
       "      <td>NaN</td>\n",
       "      <td>NaN</td>\n",
       "      <td>NaN</td>\n",
       "    </tr>\n",
       "  </tbody>\n",
       "</table>\n",
       "</div>"
      ],
      "text/plain": [
       "                                 Person            Event  Time  Amount  \\\n",
       "36     9fa9ae8f57894cc9a3b8a9bbe0fc1b2f   Offer Received     0     NaN   \n",
       "12656  9fa9ae8f57894cc9a3b8a9bbe0fc1b2f     Offer Viewed     0     NaN   \n",
       "12657  9fa9ae8f57894cc9a3b8a9bbe0fc1b2f      Transaction     0   34.56   \n",
       "12658  9fa9ae8f57894cc9a3b8a9bbe0fc1b2f  Offer Completed     0     NaN   \n",
       "27850  9fa9ae8f57894cc9a3b8a9bbe0fc1b2f      Transaction    42   21.55   \n",
       "44327  9fa9ae8f57894cc9a3b8a9bbe0fc1b2f      Transaction   114   32.87   \n",
       "\n",
       "       Reward_Received                          Offer_ID  Reward_Defined  \\\n",
       "36                 NaN  2906b810c7d4411798c6938adc9daaa5             2.0   \n",
       "12656              NaN  2906b810c7d4411798c6938adc9daaa5             2.0   \n",
       "12657              NaN                               NaN             NaN   \n",
       "12658              2.0  2906b810c7d4411798c6938adc9daaa5             2.0   \n",
       "27850              NaN                               NaN             NaN   \n",
       "44327              NaN                               NaN             NaN   \n",
       "\n",
       "       Difficulty  Duration Offer_Type  Email  Mobile  Social  Web  \n",
       "36           10.0       7.0   Discount    1.0     1.0     0.0  1.0  \n",
       "12656        10.0       7.0   Discount    1.0     1.0     0.0  1.0  \n",
       "12657         NaN       NaN        NaN    NaN     NaN     NaN  NaN  \n",
       "12658        10.0       7.0   Discount    1.0     1.0     0.0  1.0  \n",
       "27850         NaN       NaN        NaN    NaN     NaN     NaN  NaN  \n",
       "44327         NaN       NaN        NaN    NaN     NaN     NaN  NaN  "
      ]
     },
     "execution_count": 42,
     "metadata": {},
     "output_type": "execute_result"
    }
   ],
   "source": [
    "Customer_Journey = Data.loc[Data.Person == offer_completed_list[0],:].sort_index()\n",
    "Customer_Journey.head(6)"
   ]
  },
  {
   "cell_type": "markdown",
   "metadata": {},
   "source": [
    "For the modeling and further analyzing, check the next file."
   ]
  },
  {
   "cell_type": "markdown",
   "metadata": {},
   "source": [
    "***"
   ]
  }
 ],
 "metadata": {
  "kernelspec": {
   "display_name": "Python 3",
   "language": "python",
   "name": "python3"
  },
  "language_info": {
   "codemirror_mode": {
    "name": "ipython",
    "version": 3
   },
   "file_extension": ".py",
   "mimetype": "text/x-python",
   "name": "python",
   "nbconvert_exporter": "python",
   "pygments_lexer": "ipython3",
   "version": "3.7.7"
  }
 },
 "nbformat": 4,
 "nbformat_minor": 2
}
