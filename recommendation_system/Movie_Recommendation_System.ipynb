{
 "cells": [
  {
   "cell_type": "code",
   "execution_count": 1,
   "metadata": {},
   "outputs": [],
   "source": [
    "# Required Packages\n",
    "\n",
    "import numpy as np\n",
    "import pandas as pd\n",
    "\n",
    "# Display\n",
    "from colorama import Fore, Back, Style\n",
    "\n",
    "# Plots\n",
    "\n",
    "import seaborn as sns\n",
    "import matplotlib.pyplot as plt\n",
    "from matplotlib.patches import Ellipse, Polygon\n",
    "import matplotlib.gridspec as gridspec\n",
    "\n",
    "# sns setting\n",
    "sns.set_context(\"paper\", rc={\"font.size\":12,\"axes.titlesize\":14,\"axes.labelsize\":12})\n",
    "sns.set_style(\"whitegrid\")\n",
    "\n",
    "# plt setting\n",
    "plt.style.use('seaborn-whitegrid')\n",
    "plt.rcParams['axes.labelsize'] = 14\n",
    "plt.rcParams['xtick.labelsize'] = 12\n",
    "plt.rcParams['ytick.labelsize'] = 12\n",
    "plt.rcParams['text.color'] = 'k'\n",
    "%matplotlib inline\n",
    "import warnings\n",
    "warnings.filterwarnings(\"ignore\")"
   ]
  },
  {
   "cell_type": "markdown",
   "metadata": {},
   "source": [
    "# Movie Recommendation System\n",
    "\n",
    "* [Data](#Data)\n",
    "    * [Movie Ratings](#Movie-Ratings)\n",
    "    * [Movie titles and their IDs](#Movie-titles-and-their-IDs)\n",
    "* [Data Analysis](#Data-Analysis)\n",
    "* [Developing a Recommender Function](#Developing-a-Recommender-Function)\n",
    "* [Conclusions and Movie Recommendations](#Conclusions-and-Movie-Recommendations)\n",
    "\n",
    "In this article, a recommender system is developed that suggests similar movies based on available data."
   ]
  },
  {
   "cell_type": "markdown",
   "metadata": {},
   "source": [
    "## Data\n",
    "\n",
    "There are two sets of data that we will be using in this article.\n",
    "\n",
    "### Movie Ratings"
   ]
  },
  {
   "cell_type": "code",
   "execution_count": 2,
   "metadata": {},
   "outputs": [
    {
     "data": {
      "text/html": [
       "<style  type=\"text/css\" >\n",
       "</style><table id=\"T_35c9fdf4_71f4_11ea_950a_50e08586bf81\" ><thead>    <tr>        <th class=\"col_heading level0 col0\" >user_id</th>        <th class=\"col_heading level0 col1\" >item_id</th>        <th class=\"col_heading level0 col2\" >rating</th>        <th class=\"col_heading level0 col3\" >timestamp</th>    </tr></thead><tbody>\n",
       "                <tr>\n",
       "                                <td id=\"T_35c9fdf4_71f4_11ea_950a_50e08586bf81row0_col0\" class=\"data row0 col0\" >0</td>\n",
       "                        <td id=\"T_35c9fdf4_71f4_11ea_950a_50e08586bf81row0_col1\" class=\"data row0 col1\" >50</td>\n",
       "                        <td id=\"T_35c9fdf4_71f4_11ea_950a_50e08586bf81row0_col2\" class=\"data row0 col2\" >5</td>\n",
       "                        <td id=\"T_35c9fdf4_71f4_11ea_950a_50e08586bf81row0_col3\" class=\"data row0 col3\" >881250949</td>\n",
       "            </tr>\n",
       "            <tr>\n",
       "                                <td id=\"T_35c9fdf4_71f4_11ea_950a_50e08586bf81row1_col0\" class=\"data row1 col0\" >0</td>\n",
       "                        <td id=\"T_35c9fdf4_71f4_11ea_950a_50e08586bf81row1_col1\" class=\"data row1 col1\" >172</td>\n",
       "                        <td id=\"T_35c9fdf4_71f4_11ea_950a_50e08586bf81row1_col2\" class=\"data row1 col2\" >5</td>\n",
       "                        <td id=\"T_35c9fdf4_71f4_11ea_950a_50e08586bf81row1_col3\" class=\"data row1 col3\" >881250949</td>\n",
       "            </tr>\n",
       "            <tr>\n",
       "                                <td id=\"T_35c9fdf4_71f4_11ea_950a_50e08586bf81row2_col0\" class=\"data row2 col0\" >0</td>\n",
       "                        <td id=\"T_35c9fdf4_71f4_11ea_950a_50e08586bf81row2_col1\" class=\"data row2 col1\" >133</td>\n",
       "                        <td id=\"T_35c9fdf4_71f4_11ea_950a_50e08586bf81row2_col2\" class=\"data row2 col2\" >1</td>\n",
       "                        <td id=\"T_35c9fdf4_71f4_11ea_950a_50e08586bf81row2_col3\" class=\"data row2 col3\" >881250949</td>\n",
       "            </tr>\n",
       "            <tr>\n",
       "                                <td id=\"T_35c9fdf4_71f4_11ea_950a_50e08586bf81row3_col0\" class=\"data row3 col0\" >196</td>\n",
       "                        <td id=\"T_35c9fdf4_71f4_11ea_950a_50e08586bf81row3_col1\" class=\"data row3 col1\" >242</td>\n",
       "                        <td id=\"T_35c9fdf4_71f4_11ea_950a_50e08586bf81row3_col2\" class=\"data row3 col2\" >3</td>\n",
       "                        <td id=\"T_35c9fdf4_71f4_11ea_950a_50e08586bf81row3_col3\" class=\"data row3 col3\" >881250949</td>\n",
       "            </tr>\n",
       "            <tr>\n",
       "                                <td id=\"T_35c9fdf4_71f4_11ea_950a_50e08586bf81row4_col0\" class=\"data row4 col0\" >186</td>\n",
       "                        <td id=\"T_35c9fdf4_71f4_11ea_950a_50e08586bf81row4_col1\" class=\"data row4 col1\" >302</td>\n",
       "                        <td id=\"T_35c9fdf4_71f4_11ea_950a_50e08586bf81row4_col2\" class=\"data row4 col2\" >3</td>\n",
       "                        <td id=\"T_35c9fdf4_71f4_11ea_950a_50e08586bf81row4_col3\" class=\"data row4 col3\" >891717742</td>\n",
       "            </tr>\n",
       "    </tbody></table>"
      ],
      "text/plain": [
       "<pandas.io.formats.style.Styler at 0x2049e9ce7c8>"
      ]
     },
     "metadata": {},
     "output_type": "display_data"
    }
   ],
   "source": [
    "#Reading the movie ratings dataset.\n",
    "movie_ratings_df = pd.read_csv('Data/movie_ratings.csv', sep='\\t', names=['user_id', 'item_id', 'rating', 'timestamp'])\n",
    "display(movie_ratings_df.head().style.hide_index())"
   ]
  },
  {
   "cell_type": "markdown",
   "metadata": {},
   "source": [
    "### Movie titles and their IDs\n",
    "\n",
    "Reading the movie titles and their IDs"
   ]
  },
  {
   "cell_type": "code",
   "execution_count": 3,
   "metadata": {},
   "outputs": [
    {
     "data": {
      "text/html": [
       "<style  type=\"text/css\" >\n",
       "</style><table id=\"T_35cb5d9a_71f4_11ea_8270_50e08586bf81\" ><thead>    <tr>        <th class=\"col_heading level0 col0\" >item_id</th>        <th class=\"col_heading level0 col1\" >title</th>    </tr></thead><tbody>\n",
       "                <tr>\n",
       "                                <td id=\"T_35cb5d9a_71f4_11ea_8270_50e08586bf81row0_col0\" class=\"data row0 col0\" >1</td>\n",
       "                        <td id=\"T_35cb5d9a_71f4_11ea_8270_50e08586bf81row0_col1\" class=\"data row0 col1\" >Toy Story (1995)</td>\n",
       "            </tr>\n",
       "            <tr>\n",
       "                                <td id=\"T_35cb5d9a_71f4_11ea_8270_50e08586bf81row1_col0\" class=\"data row1 col0\" >2</td>\n",
       "                        <td id=\"T_35cb5d9a_71f4_11ea_8270_50e08586bf81row1_col1\" class=\"data row1 col1\" >GoldenEye (1995)</td>\n",
       "            </tr>\n",
       "            <tr>\n",
       "                                <td id=\"T_35cb5d9a_71f4_11ea_8270_50e08586bf81row2_col0\" class=\"data row2 col0\" >3</td>\n",
       "                        <td id=\"T_35cb5d9a_71f4_11ea_8270_50e08586bf81row2_col1\" class=\"data row2 col1\" >Four Rooms (1995)</td>\n",
       "            </tr>\n",
       "            <tr>\n",
       "                                <td id=\"T_35cb5d9a_71f4_11ea_8270_50e08586bf81row3_col0\" class=\"data row3 col0\" >4</td>\n",
       "                        <td id=\"T_35cb5d9a_71f4_11ea_8270_50e08586bf81row3_col1\" class=\"data row3 col1\" >Get Shorty (1995)</td>\n",
       "            </tr>\n",
       "            <tr>\n",
       "                                <td id=\"T_35cb5d9a_71f4_11ea_8270_50e08586bf81row4_col0\" class=\"data row4 col0\" >5</td>\n",
       "                        <td id=\"T_35cb5d9a_71f4_11ea_8270_50e08586bf81row4_col1\" class=\"data row4 col1\" >Copycat (1995)</td>\n",
       "            </tr>\n",
       "    </tbody></table>"
      ],
      "text/plain": [
       "<pandas.io.formats.style.Styler at 0x2049e9de808>"
      ]
     },
     "metadata": {},
     "output_type": "display_data"
    }
   ],
   "source": [
    "movie_titles_df = pd.read_csv(\"Data/movie_id_titles.csv\")\n",
    "display(movie_titles_df.head().style.hide_index())"
   ]
  },
  {
   "cell_type": "markdown",
   "metadata": {},
   "source": [
    "Merging the the two dataframes:"
   ]
  },
  {
   "cell_type": "code",
   "execution_count": 4,
   "metadata": {},
   "outputs": [
    {
     "data": {
      "text/html": [
       "<style  type=\"text/css\" >\n",
       "</style><table id=\"T_35ce4450_71f4_11ea_a3a6_50e08586bf81\" ><thead>    <tr>        <th class=\"col_heading level0 col0\" >User_ID</th>        <th class=\"col_heading level0 col1\" >Item_ID</th>        <th class=\"col_heading level0 col2\" >Rating</th>        <th class=\"col_heading level0 col3\" >Timestamp</th>        <th class=\"col_heading level0 col4\" >Title</th>    </tr></thead><tbody>\n",
       "                <tr>\n",
       "                                <td id=\"T_35ce4450_71f4_11ea_a3a6_50e08586bf81row0_col0\" class=\"data row0 col0\" >0</td>\n",
       "                        <td id=\"T_35ce4450_71f4_11ea_a3a6_50e08586bf81row0_col1\" class=\"data row0 col1\" >50</td>\n",
       "                        <td id=\"T_35ce4450_71f4_11ea_a3a6_50e08586bf81row0_col2\" class=\"data row0 col2\" >5</td>\n",
       "                        <td id=\"T_35ce4450_71f4_11ea_a3a6_50e08586bf81row0_col3\" class=\"data row0 col3\" >881250949</td>\n",
       "                        <td id=\"T_35ce4450_71f4_11ea_a3a6_50e08586bf81row0_col4\" class=\"data row0 col4\" >Star Wars (1977)</td>\n",
       "            </tr>\n",
       "            <tr>\n",
       "                                <td id=\"T_35ce4450_71f4_11ea_a3a6_50e08586bf81row1_col0\" class=\"data row1 col0\" >290</td>\n",
       "                        <td id=\"T_35ce4450_71f4_11ea_a3a6_50e08586bf81row1_col1\" class=\"data row1 col1\" >50</td>\n",
       "                        <td id=\"T_35ce4450_71f4_11ea_a3a6_50e08586bf81row1_col2\" class=\"data row1 col2\" >5</td>\n",
       "                        <td id=\"T_35ce4450_71f4_11ea_a3a6_50e08586bf81row1_col3\" class=\"data row1 col3\" >880473582</td>\n",
       "                        <td id=\"T_35ce4450_71f4_11ea_a3a6_50e08586bf81row1_col4\" class=\"data row1 col4\" >Star Wars (1977)</td>\n",
       "            </tr>\n",
       "            <tr>\n",
       "                                <td id=\"T_35ce4450_71f4_11ea_a3a6_50e08586bf81row2_col0\" class=\"data row2 col0\" >79</td>\n",
       "                        <td id=\"T_35ce4450_71f4_11ea_a3a6_50e08586bf81row2_col1\" class=\"data row2 col1\" >50</td>\n",
       "                        <td id=\"T_35ce4450_71f4_11ea_a3a6_50e08586bf81row2_col2\" class=\"data row2 col2\" >4</td>\n",
       "                        <td id=\"T_35ce4450_71f4_11ea_a3a6_50e08586bf81row2_col3\" class=\"data row2 col3\" >891271545</td>\n",
       "                        <td id=\"T_35ce4450_71f4_11ea_a3a6_50e08586bf81row2_col4\" class=\"data row2 col4\" >Star Wars (1977)</td>\n",
       "            </tr>\n",
       "            <tr>\n",
       "                                <td id=\"T_35ce4450_71f4_11ea_a3a6_50e08586bf81row3_col0\" class=\"data row3 col0\" >2</td>\n",
       "                        <td id=\"T_35ce4450_71f4_11ea_a3a6_50e08586bf81row3_col1\" class=\"data row3 col1\" >50</td>\n",
       "                        <td id=\"T_35ce4450_71f4_11ea_a3a6_50e08586bf81row3_col2\" class=\"data row3 col2\" >5</td>\n",
       "                        <td id=\"T_35ce4450_71f4_11ea_a3a6_50e08586bf81row3_col3\" class=\"data row3 col3\" >888552084</td>\n",
       "                        <td id=\"T_35ce4450_71f4_11ea_a3a6_50e08586bf81row3_col4\" class=\"data row3 col4\" >Star Wars (1977)</td>\n",
       "            </tr>\n",
       "            <tr>\n",
       "                                <td id=\"T_35ce4450_71f4_11ea_a3a6_50e08586bf81row4_col0\" class=\"data row4 col0\" >8</td>\n",
       "                        <td id=\"T_35ce4450_71f4_11ea_a3a6_50e08586bf81row4_col1\" class=\"data row4 col1\" >50</td>\n",
       "                        <td id=\"T_35ce4450_71f4_11ea_a3a6_50e08586bf81row4_col2\" class=\"data row4 col2\" >5</td>\n",
       "                        <td id=\"T_35ce4450_71f4_11ea_a3a6_50e08586bf81row4_col3\" class=\"data row4 col3\" >879362124</td>\n",
       "                        <td id=\"T_35ce4450_71f4_11ea_a3a6_50e08586bf81row4_col4\" class=\"data row4 col4\" >Star Wars (1977)</td>\n",
       "            </tr>\n",
       "    </tbody></table>"
      ],
      "text/plain": [
       "<pandas.io.formats.style.Styler at 0x2049fd204c8>"
      ]
     },
     "metadata": {},
     "output_type": "display_data"
    }
   ],
   "source": [
    "df = pd.merge(movie_ratings_df, movie_titles_df, on='item_id')\n",
    "# modifying the column names\n",
    "Temp = df.columns.tolist()\n",
    "Temp = [x.title() for x in Temp]\n",
    "Temp = [x.replace('Id','ID') for x in Temp]\n",
    "df.columns = Temp\n",
    "del Temp\n",
    "display(df.head().style.hide_index())"
   ]
  },
  {
   "cell_type": "markdown",
   "metadata": {},
   "source": [
    "## Data Analysis\n",
    "\n",
    "Exploring the data to identify at some of the best-rated movies. In doing so, the data frame can be grouped by **movie titles** and their **ratings**. It follows that,"
   ]
  },
  {
   "cell_type": "code",
   "execution_count": 5,
   "metadata": {},
   "outputs": [
    {
     "data": {
      "text/html": [
       "<style  type=\"text/css\" >\n",
       "</style><table id=\"T_35d26354_71f4_11ea_a06c_50e08586bf81\" ><thead>    <tr>        <th class=\"col_heading level0 col0\" >Title</th>        <th class=\"col_heading level0 col1\" >Average Rating</th>        <th class=\"col_heading level0 col2\" >Number of Ratings</th>    </tr></thead><tbody>\n",
       "                <tr>\n",
       "                                <td id=\"T_35d26354_71f4_11ea_a06c_50e08586bf81row0_col0\" class=\"data row0 col0\" >Star Wars (1977)</td>\n",
       "                        <td id=\"T_35d26354_71f4_11ea_a06c_50e08586bf81row0_col1\" class=\"data row0 col1\" >4.359589</td>\n",
       "                        <td id=\"T_35d26354_71f4_11ea_a06c_50e08586bf81row0_col2\" class=\"data row0 col2\" >584</td>\n",
       "            </tr>\n",
       "            <tr>\n",
       "                                <td id=\"T_35d26354_71f4_11ea_a06c_50e08586bf81row1_col0\" class=\"data row1 col0\" >Contact (1997)</td>\n",
       "                        <td id=\"T_35d26354_71f4_11ea_a06c_50e08586bf81row1_col1\" class=\"data row1 col1\" >3.803536</td>\n",
       "                        <td id=\"T_35d26354_71f4_11ea_a06c_50e08586bf81row1_col2\" class=\"data row1 col2\" >509</td>\n",
       "            </tr>\n",
       "            <tr>\n",
       "                                <td id=\"T_35d26354_71f4_11ea_a06c_50e08586bf81row2_col0\" class=\"data row2 col0\" >Fargo (1996)</td>\n",
       "                        <td id=\"T_35d26354_71f4_11ea_a06c_50e08586bf81row2_col1\" class=\"data row2 col1\" >4.155512</td>\n",
       "                        <td id=\"T_35d26354_71f4_11ea_a06c_50e08586bf81row2_col2\" class=\"data row2 col2\" >508</td>\n",
       "            </tr>\n",
       "            <tr>\n",
       "                                <td id=\"T_35d26354_71f4_11ea_a06c_50e08586bf81row3_col0\" class=\"data row3 col0\" >Return of the Jedi (1983)</td>\n",
       "                        <td id=\"T_35d26354_71f4_11ea_a06c_50e08586bf81row3_col1\" class=\"data row3 col1\" >4.007890</td>\n",
       "                        <td id=\"T_35d26354_71f4_11ea_a06c_50e08586bf81row3_col2\" class=\"data row3 col2\" >507</td>\n",
       "            </tr>\n",
       "            <tr>\n",
       "                                <td id=\"T_35d26354_71f4_11ea_a06c_50e08586bf81row4_col0\" class=\"data row4 col0\" >Liar Liar (1997)</td>\n",
       "                        <td id=\"T_35d26354_71f4_11ea_a06c_50e08586bf81row4_col1\" class=\"data row4 col1\" >3.156701</td>\n",
       "                        <td id=\"T_35d26354_71f4_11ea_a06c_50e08586bf81row4_col2\" class=\"data row4 col2\" >485</td>\n",
       "            </tr>\n",
       "    </tbody></table>"
      ],
      "text/plain": [
       "<pandas.io.formats.style.Styler at 0x2049fd188c8>"
      ]
     },
     "metadata": {},
     "output_type": "display_data"
    }
   ],
   "source": [
    "Ratings = pd.merge(pd.DataFrame(df.groupby(['Title'])['Rating'].mean()).reset_index(),\n",
    "         pd.DataFrame(df.groupby(['Title'])['Rating'].count()).reset_index(), on = 'Title')\n",
    "Ratings.columns =  ['Title', 'Average Rating', 'Number of Ratings']\n",
    "display(Ratings.sort_values(by=['Number of Ratings'],ascending=False).head().style.hide_index())"
   ]
  },
  {
   "cell_type": "markdown",
   "metadata": {},
   "source": [
    "Visualizing the number of ratings:"
   ]
  },
  {
   "cell_type": "code",
   "execution_count": 6,
   "metadata": {},
   "outputs": [
    {
     "data": {
      "image/png": "[encoded data removed]",
      "text/plain": [
       "<Figure size 1152x432 with 2 Axes>"
      ]
     },
     "metadata": {
      "needs_background": "light"
     },
     "output_type": "display_data"
    }
   ],
   "source": [
    "fig, ax = plt.subplots(1, 2, figsize=(16, 6), sharex=False)\n",
    "# Left Plot\n",
    "_ = Ratings['Number of Ratings'].hist(bins=20, ax=ax[0], color='#34495e', edgecolor='k', hatch = '//')\n",
    "_ = ax[0].set_ylim([0, 9e2])\n",
    "_ = ax[0].set_xlabel('Number of Ratings')\n",
    "_ = ax[0].set_ylabel('Count')\n",
    "# Right Plot\n",
    "_ = Ratings['Average Rating'].hist(bins=20, ax=ax[1], color='#e74c3c', edgecolor='k', hatch = '//')\n",
    "_ = ax[1].set_ylim([0, 250])\n",
    "_ = ax[1].set_xlabel('Average Rating')\n",
    "_ = ax[1].set_ylabel('Count')"
   ]
  },
  {
   "cell_type": "markdown",
   "metadata": {},
   "source": [
    "## Recommending Similar Movies"
   ]
  },
  {
   "cell_type": "markdown",
   "metadata": {},
   "source": [
    "The next step is to create a matrix that has the user ids on one axis and the movie titles on another. Each cell will then consist of the rating of a movie by a particular user. For this purpose, we use ```pivot_table``` function (see this [link](https://pandas.pydata.org/pandas-docs/stable/reference/api/pandas.pivot_table.html) for more details)."
   ]
  },
  {
   "cell_type": "code",
   "execution_count": 7,
   "metadata": {},
   "outputs": [
    {
     "data": {
      "text/html": [
       "<div>\n",
       "<style scoped>\n",
       "    .dataframe tbody tr th:only-of-type {\n",
       "        vertical-align: middle;\n",
       "    }\n",
       "\n",
       "    .dataframe tbody tr th {\n",
       "        vertical-align: top;\n",
       "    }\n",
       "\n",
       "    .dataframe thead th {\n",
       "        text-align: right;\n",
       "    }\n",
       "</style>\n",
       "<table border=\"1\" class=\"dataframe\">\n",
       "  <thead>\n",
       "    <tr style=\"text-align: right;\">\n",
       "      <th>Title</th>\n",
       "      <th>'Til There Was You (1997)</th>\n",
       "      <th>1-900 (1994)</th>\n",
       "      <th>101 Dalmatians (1996)</th>\n",
       "      <th>12 Angry Men (1957)</th>\n",
       "      <th>187 (1997)</th>\n",
       "      <th>2 Days in the Valley (1996)</th>\n",
       "      <th>20,000 Leagues Under the Sea (1954)</th>\n",
       "      <th>2001: A Space Odyssey (1968)</th>\n",
       "      <th>3 Ninjas: High Noon At Mega Mountain (1998)</th>\n",
       "      <th>39 Steps, The (1935)</th>\n",
       "      <th>...</th>\n",
       "      <th>Yankee Zulu (1994)</th>\n",
       "      <th>Year of the Horse (1997)</th>\n",
       "      <th>You So Crazy (1994)</th>\n",
       "      <th>Young Frankenstein (1974)</th>\n",
       "      <th>Young Guns (1988)</th>\n",
       "      <th>Young Guns II (1990)</th>\n",
       "      <th>Young Poisoner's Handbook, The (1995)</th>\n",
       "      <th>Zeus and Roxanne (1997)</th>\n",
       "      <th>unknown</th>\n",
       "      <th>Á köldum klaka (Cold Fever) (1994)</th>\n",
       "    </tr>\n",
       "    <tr>\n",
       "      <th>User_ID</th>\n",
       "      <th></th>\n",
       "      <th></th>\n",
       "      <th></th>\n",
       "      <th></th>\n",
       "      <th></th>\n",
       "      <th></th>\n",
       "      <th></th>\n",
       "      <th></th>\n",
       "      <th></th>\n",
       "      <th></th>\n",
       "      <th></th>\n",
       "      <th></th>\n",
       "      <th></th>\n",
       "      <th></th>\n",
       "      <th></th>\n",
       "      <th></th>\n",
       "      <th></th>\n",
       "      <th></th>\n",
       "      <th></th>\n",
       "      <th></th>\n",
       "      <th></th>\n",
       "    </tr>\n",
       "  </thead>\n",
       "  <tbody>\n",
       "    <tr>\n",
       "      <th>0</th>\n",
       "      <td>NaN</td>\n",
       "      <td>NaN</td>\n",
       "      <td>NaN</td>\n",
       "      <td>NaN</td>\n",
       "      <td>NaN</td>\n",
       "      <td>NaN</td>\n",
       "      <td>NaN</td>\n",
       "      <td>NaN</td>\n",
       "      <td>NaN</td>\n",
       "      <td>NaN</td>\n",
       "      <td>...</td>\n",
       "      <td>NaN</td>\n",
       "      <td>NaN</td>\n",
       "      <td>NaN</td>\n",
       "      <td>NaN</td>\n",
       "      <td>NaN</td>\n",
       "      <td>NaN</td>\n",
       "      <td>NaN</td>\n",
       "      <td>NaN</td>\n",
       "      <td>NaN</td>\n",
       "      <td>NaN</td>\n",
       "    </tr>\n",
       "    <tr>\n",
       "      <th>1</th>\n",
       "      <td>NaN</td>\n",
       "      <td>NaN</td>\n",
       "      <td>2.0</td>\n",
       "      <td>5.0</td>\n",
       "      <td>NaN</td>\n",
       "      <td>NaN</td>\n",
       "      <td>3.0</td>\n",
       "      <td>4.0</td>\n",
       "      <td>NaN</td>\n",
       "      <td>NaN</td>\n",
       "      <td>...</td>\n",
       "      <td>NaN</td>\n",
       "      <td>NaN</td>\n",
       "      <td>NaN</td>\n",
       "      <td>5.0</td>\n",
       "      <td>3.0</td>\n",
       "      <td>NaN</td>\n",
       "      <td>NaN</td>\n",
       "      <td>NaN</td>\n",
       "      <td>4.0</td>\n",
       "      <td>NaN</td>\n",
       "    </tr>\n",
       "    <tr>\n",
       "      <th>2</th>\n",
       "      <td>NaN</td>\n",
       "      <td>NaN</td>\n",
       "      <td>NaN</td>\n",
       "      <td>NaN</td>\n",
       "      <td>NaN</td>\n",
       "      <td>NaN</td>\n",
       "      <td>NaN</td>\n",
       "      <td>NaN</td>\n",
       "      <td>1.0</td>\n",
       "      <td>NaN</td>\n",
       "      <td>...</td>\n",
       "      <td>NaN</td>\n",
       "      <td>NaN</td>\n",
       "      <td>NaN</td>\n",
       "      <td>NaN</td>\n",
       "      <td>NaN</td>\n",
       "      <td>NaN</td>\n",
       "      <td>NaN</td>\n",
       "      <td>NaN</td>\n",
       "      <td>NaN</td>\n",
       "      <td>NaN</td>\n",
       "    </tr>\n",
       "    <tr>\n",
       "      <th>3</th>\n",
       "      <td>NaN</td>\n",
       "      <td>NaN</td>\n",
       "      <td>NaN</td>\n",
       "      <td>NaN</td>\n",
       "      <td>2.0</td>\n",
       "      <td>NaN</td>\n",
       "      <td>NaN</td>\n",
       "      <td>NaN</td>\n",
       "      <td>NaN</td>\n",
       "      <td>NaN</td>\n",
       "      <td>...</td>\n",
       "      <td>NaN</td>\n",
       "      <td>NaN</td>\n",
       "      <td>NaN</td>\n",
       "      <td>NaN</td>\n",
       "      <td>NaN</td>\n",
       "      <td>NaN</td>\n",
       "      <td>NaN</td>\n",
       "      <td>NaN</td>\n",
       "      <td>NaN</td>\n",
       "      <td>NaN</td>\n",
       "    </tr>\n",
       "    <tr>\n",
       "      <th>4</th>\n",
       "      <td>NaN</td>\n",
       "      <td>NaN</td>\n",
       "      <td>NaN</td>\n",
       "      <td>NaN</td>\n",
       "      <td>NaN</td>\n",
       "      <td>NaN</td>\n",
       "      <td>NaN</td>\n",
       "      <td>NaN</td>\n",
       "      <td>NaN</td>\n",
       "      <td>NaN</td>\n",
       "      <td>...</td>\n",
       "      <td>NaN</td>\n",
       "      <td>NaN</td>\n",
       "      <td>NaN</td>\n",
       "      <td>NaN</td>\n",
       "      <td>NaN</td>\n",
       "      <td>NaN</td>\n",
       "      <td>NaN</td>\n",
       "      <td>NaN</td>\n",
       "      <td>NaN</td>\n",
       "      <td>NaN</td>\n",
       "    </tr>\n",
       "  </tbody>\n",
       "</table>\n",
       "<p>5 rows × 1664 columns</p>\n",
       "</div>"
      ],
      "text/plain": [
       "Title    'Til There Was You (1997)  1-900 (1994)  101 Dalmatians (1996)  \\\n",
       "User_ID                                                                   \n",
       "0                              NaN           NaN                    NaN   \n",
       "1                              NaN           NaN                    2.0   \n",
       "2                              NaN           NaN                    NaN   \n",
       "3                              NaN           NaN                    NaN   \n",
       "4                              NaN           NaN                    NaN   \n",
       "\n",
       "Title    12 Angry Men (1957)  187 (1997)  2 Days in the Valley (1996)  \\\n",
       "User_ID                                                                 \n",
       "0                        NaN         NaN                          NaN   \n",
       "1                        5.0         NaN                          NaN   \n",
       "2                        NaN         NaN                          NaN   \n",
       "3                        NaN         2.0                          NaN   \n",
       "4                        NaN         NaN                          NaN   \n",
       "\n",
       "Title    20,000 Leagues Under the Sea (1954)  2001: A Space Odyssey (1968)  \\\n",
       "User_ID                                                                      \n",
       "0                                        NaN                           NaN   \n",
       "1                                        3.0                           4.0   \n",
       "2                                        NaN                           NaN   \n",
       "3                                        NaN                           NaN   \n",
       "4                                        NaN                           NaN   \n",
       "\n",
       "Title    3 Ninjas: High Noon At Mega Mountain (1998)  39 Steps, The (1935)  \\\n",
       "User_ID                                                                      \n",
       "0                                                NaN                   NaN   \n",
       "1                                                NaN                   NaN   \n",
       "2                                                1.0                   NaN   \n",
       "3                                                NaN                   NaN   \n",
       "4                                                NaN                   NaN   \n",
       "\n",
       "Title    ...  Yankee Zulu (1994)  Year of the Horse (1997)  \\\n",
       "User_ID  ...                                                 \n",
       "0        ...                 NaN                       NaN   \n",
       "1        ...                 NaN                       NaN   \n",
       "2        ...                 NaN                       NaN   \n",
       "3        ...                 NaN                       NaN   \n",
       "4        ...                 NaN                       NaN   \n",
       "\n",
       "Title    You So Crazy (1994)  Young Frankenstein (1974)  Young Guns (1988)  \\\n",
       "User_ID                                                                      \n",
       "0                        NaN                        NaN                NaN   \n",
       "1                        NaN                        5.0                3.0   \n",
       "2                        NaN                        NaN                NaN   \n",
       "3                        NaN                        NaN                NaN   \n",
       "4                        NaN                        NaN                NaN   \n",
       "\n",
       "Title    Young Guns II (1990)  Young Poisoner's Handbook, The (1995)  \\\n",
       "User_ID                                                                \n",
       "0                         NaN                                    NaN   \n",
       "1                         NaN                                    NaN   \n",
       "2                         NaN                                    NaN   \n",
       "3                         NaN                                    NaN   \n",
       "4                         NaN                                    NaN   \n",
       "\n",
       "Title    Zeus and Roxanne (1997)  unknown  Á köldum klaka (Cold Fever) (1994)  \n",
       "User_ID                                                                        \n",
       "0                            NaN      NaN                                 NaN  \n",
       "1                            NaN      4.0                                 NaN  \n",
       "2                            NaN      NaN                                 NaN  \n",
       "3                            NaN      NaN                                 NaN  \n",
       "4                            NaN      NaN                                 NaN  \n",
       "\n",
       "[5 rows x 1664 columns]"
      ]
     },
     "execution_count": 7,
     "metadata": {},
     "output_type": "execute_result"
    }
   ],
   "source": [
    "Movie_Matrix = df.pivot_table(index='User_ID', columns='Title', values='Rating')\n",
    "Movie_Matrix.head()"
   ]
  },
  {
   "cell_type": "markdown",
   "metadata": {},
   "source": [
    "Since users might have not watched all movies (only some movies), some of these values appear as **<font color='Blue'>NaN</font>**."
   ]
  },
  {
   "cell_type": "markdown",
   "metadata": {},
   "source": [
    "Checking out the top ten movies that have a rating greater than 4.0 and have the most rated numbers."
   ]
  },
  {
   "cell_type": "code",
   "execution_count": 8,
   "metadata": {},
   "outputs": [
    {
     "name": "stdout",
     "output_type": "stream",
     "text": [
      "\u001b[46mThe Top 10 by Average Rating:\n",
      "\u001b[0m\n"
     ]
    },
    {
     "data": {
      "text/html": [
       "<style  type=\"text/css\" >\n",
       "</style><table id=\"T_361782a2_71f4_11ea_935d_50e08586bf81\" ><thead>    <tr>        <th class=\"col_heading level0 col0\" >Title</th>        <th class=\"col_heading level0 col1\" >Average Rating</th>        <th class=\"col_heading level0 col2\" >Number of Ratings</th>    </tr></thead><tbody>\n",
       "                <tr>\n",
       "                                <td id=\"T_361782a2_71f4_11ea_935d_50e08586bf81row0_col0\" class=\"data row0 col0\" >Star Wars (1977)</td>\n",
       "                        <td id=\"T_361782a2_71f4_11ea_935d_50e08586bf81row0_col1\" class=\"data row0 col1\" >4.359589</td>\n",
       "                        <td id=\"T_361782a2_71f4_11ea_935d_50e08586bf81row0_col2\" class=\"data row0 col2\" >584</td>\n",
       "            </tr>\n",
       "            <tr>\n",
       "                                <td id=\"T_361782a2_71f4_11ea_935d_50e08586bf81row1_col0\" class=\"data row1 col0\" >Fargo (1996)</td>\n",
       "                        <td id=\"T_361782a2_71f4_11ea_935d_50e08586bf81row1_col1\" class=\"data row1 col1\" >4.155512</td>\n",
       "                        <td id=\"T_361782a2_71f4_11ea_935d_50e08586bf81row1_col2\" class=\"data row1 col2\" >508</td>\n",
       "            </tr>\n",
       "            <tr>\n",
       "                                <td id=\"T_361782a2_71f4_11ea_935d_50e08586bf81row2_col0\" class=\"data row2 col0\" >Return of the Jedi (1983)</td>\n",
       "                        <td id=\"T_361782a2_71f4_11ea_935d_50e08586bf81row2_col1\" class=\"data row2 col1\" >4.007890</td>\n",
       "                        <td id=\"T_361782a2_71f4_11ea_935d_50e08586bf81row2_col2\" class=\"data row2 col2\" >507</td>\n",
       "            </tr>\n",
       "            <tr>\n",
       "                                <td id=\"T_361782a2_71f4_11ea_935d_50e08586bf81row3_col0\" class=\"data row3 col0\" >Raiders of the Lost Ark (1981)</td>\n",
       "                        <td id=\"T_361782a2_71f4_11ea_935d_50e08586bf81row3_col1\" class=\"data row3 col1\" >4.252381</td>\n",
       "                        <td id=\"T_361782a2_71f4_11ea_935d_50e08586bf81row3_col2\" class=\"data row3 col2\" >420</td>\n",
       "            </tr>\n",
       "            <tr>\n",
       "                                <td id=\"T_361782a2_71f4_11ea_935d_50e08586bf81row4_col0\" class=\"data row4 col0\" >Godfather, The (1972)</td>\n",
       "                        <td id=\"T_361782a2_71f4_11ea_935d_50e08586bf81row4_col1\" class=\"data row4 col1\" >4.283293</td>\n",
       "                        <td id=\"T_361782a2_71f4_11ea_935d_50e08586bf81row4_col2\" class=\"data row4 col2\" >413</td>\n",
       "            </tr>\n",
       "            <tr>\n",
       "                                <td id=\"T_361782a2_71f4_11ea_935d_50e08586bf81row5_col0\" class=\"data row5 col0\" >Pulp Fiction (1994)</td>\n",
       "                        <td id=\"T_361782a2_71f4_11ea_935d_50e08586bf81row5_col1\" class=\"data row5 col1\" >4.060914</td>\n",
       "                        <td id=\"T_361782a2_71f4_11ea_935d_50e08586bf81row5_col2\" class=\"data row5 col2\" >394</td>\n",
       "            </tr>\n",
       "            <tr>\n",
       "                                <td id=\"T_361782a2_71f4_11ea_935d_50e08586bf81row6_col0\" class=\"data row6 col0\" >Silence of the Lambs, The (1991)</td>\n",
       "                        <td id=\"T_361782a2_71f4_11ea_935d_50e08586bf81row6_col1\" class=\"data row6 col1\" >4.289744</td>\n",
       "                        <td id=\"T_361782a2_71f4_11ea_935d_50e08586bf81row6_col2\" class=\"data row6 col2\" >390</td>\n",
       "            </tr>\n",
       "            <tr>\n",
       "                                <td id=\"T_361782a2_71f4_11ea_935d_50e08586bf81row7_col0\" class=\"data row7 col0\" >Empire Strikes Back, The (1980)</td>\n",
       "                        <td id=\"T_361782a2_71f4_11ea_935d_50e08586bf81row7_col1\" class=\"data row7 col1\" >4.206522</td>\n",
       "                        <td id=\"T_361782a2_71f4_11ea_935d_50e08586bf81row7_col2\" class=\"data row7 col2\" >368</td>\n",
       "            </tr>\n",
       "            <tr>\n",
       "                                <td id=\"T_361782a2_71f4_11ea_935d_50e08586bf81row8_col0\" class=\"data row8 col0\" >Titanic (1997)</td>\n",
       "                        <td id=\"T_361782a2_71f4_11ea_935d_50e08586bf81row8_col1\" class=\"data row8 col1\" >4.245714</td>\n",
       "                        <td id=\"T_361782a2_71f4_11ea_935d_50e08586bf81row8_col2\" class=\"data row8 col2\" >350</td>\n",
       "            </tr>\n",
       "            <tr>\n",
       "                                <td id=\"T_361782a2_71f4_11ea_935d_50e08586bf81row9_col0\" class=\"data row9 col0\" >Fugitive, The (1993)</td>\n",
       "                        <td id=\"T_361782a2_71f4_11ea_935d_50e08586bf81row9_col1\" class=\"data row9 col1\" >4.044643</td>\n",
       "                        <td id=\"T_361782a2_71f4_11ea_935d_50e08586bf81row9_col2\" class=\"data row9 col2\" >336</td>\n",
       "            </tr>\n",
       "    </tbody></table>"
      ],
      "text/plain": [
       "<pandas.io.formats.style.Styler at 0x204a06427c8>"
      ]
     },
     "metadata": {},
     "output_type": "display_data"
    }
   ],
   "source": [
    "Top_Ratings = Ratings[Ratings['Average Rating'] > 4.0].sort_values('Number of Ratings',ascending=False)\n",
    "Top_list = list(Top_Ratings.Title) \n",
    "Top = 10\n",
    "print(Back.CYAN + \"The Top %i by Average Rating:\" % Top)\n",
    "print(Style.RESET_ALL)\n",
    "# \n",
    "display(Top_Ratings.head(Top).style.hide_index())"
   ]
  },
  {
   "cell_type": "markdown",
   "metadata": {},
   "source": [
    "## Developing a Recommender Function\n",
    "\n",
    "In doing so, consider a movie title, for example,"
   ]
  },
  {
   "cell_type": "code",
   "execution_count": 9,
   "metadata": {},
   "outputs": [
    {
     "name": "stdout",
     "output_type": "stream",
     "text": [
      "\u001b[43m\"Star Wars (1977)\":\n"
     ]
    }
   ],
   "source": [
    "Movie = Top_list[0]\n",
    "print(Back.YELLOW +'\"%s\":' % Movie)"
   ]
  },
  {
   "cell_type": "markdown",
   "metadata": {},
   "source": [
    "Now let's consider the user ratings for this movie"
   ]
  },
  {
   "cell_type": "code",
   "execution_count": 10,
   "metadata": {},
   "outputs": [],
   "source": [
    "Temp = Movie_Matrix[Movie]"
   ]
  },
  {
   "cell_type": "markdown",
   "metadata": {},
   "source": [
    "We can then use [**corrwith()**](https://pandas.pydata.org/pandas-docs/stable/reference/api/pandas.DataFrame.corrwith.html) method to get correlations between two pandas series:"
   ]
  },
  {
   "cell_type": "code",
   "execution_count": 11,
   "metadata": {},
   "outputs": [
    {
     "data": {
      "text/plain": [
       "Title\n",
       "'Til There Was You (1997)                0.872872\n",
       "1-900 (1994)                            -0.645497\n",
       "101 Dalmatians (1996)                    0.211132\n",
       "12 Angry Men (1957)                      0.184289\n",
       "187 (1997)                               0.027398\n",
       "                                           ...   \n",
       "Young Guns II (1990)                     0.228615\n",
       "Young Poisoner's Handbook, The (1995)   -0.007374\n",
       "Zeus and Roxanne (1997)                  0.818182\n",
       "unknown                                  0.723123\n",
       "Á köldum klaka (Cold Fever) (1994)            NaN\n",
       "Length: 1664, dtype: float64"
      ]
     },
     "execution_count": 11,
     "metadata": {},
     "output_type": "execute_result"
    }
   ],
   "source": [
    "similar_to_movie = Movie_Matrix.corrwith(Temp)\n",
    "similar_to_movie"
   ]
  },
  {
   "cell_type": "markdown",
   "metadata": {},
   "source": [
    "Cleaning the data by removing **Nan** values and using a DataFrame instead."
   ]
  },
  {
   "cell_type": "code",
   "execution_count": 12,
   "metadata": {
    "scrolled": false
   },
   "outputs": [
    {
     "name": "stdout",
     "output_type": "stream",
     "text": [
      "Ten similar movies to \"Star Wars (1977)\":\n"
     ]
    },
    {
     "data": {
      "text/html": [
       "<style  type=\"text/css\" >\n",
       "</style><table id=\"T_36415f5c_71f4_11ea_822c_50e08586bf81\" ><thead>    <tr>        <th class=\"col_heading level0 col0\" >Title</th>        <th class=\"col_heading level0 col1\" >Correlation</th>    </tr></thead><tbody>\n",
       "                <tr>\n",
       "                                <td id=\"T_36415f5c_71f4_11ea_822c_50e08586bf81row0_col0\" class=\"data row0 col0\" >Hollow Reed (1996)</td>\n",
       "                        <td id=\"T_36415f5c_71f4_11ea_822c_50e08586bf81row0_col1\" class=\"data row0 col1\" >1.000000</td>\n",
       "            </tr>\n",
       "            <tr>\n",
       "                                <td id=\"T_36415f5c_71f4_11ea_822c_50e08586bf81row1_col0\" class=\"data row1 col0\" >Stripes (1981)</td>\n",
       "                        <td id=\"T_36415f5c_71f4_11ea_822c_50e08586bf81row1_col1\" class=\"data row1 col1\" >1.000000</td>\n",
       "            </tr>\n",
       "            <tr>\n",
       "                                <td id=\"T_36415f5c_71f4_11ea_822c_50e08586bf81row2_col0\" class=\"data row2 col0\" >Star Wars (1977)</td>\n",
       "                        <td id=\"T_36415f5c_71f4_11ea_822c_50e08586bf81row2_col1\" class=\"data row2 col1\" >1.000000</td>\n",
       "            </tr>\n",
       "            <tr>\n",
       "                                <td id=\"T_36415f5c_71f4_11ea_822c_50e08586bf81row3_col0\" class=\"data row3 col0\" >Man of the Year (1995)</td>\n",
       "                        <td id=\"T_36415f5c_71f4_11ea_822c_50e08586bf81row3_col1\" class=\"data row3 col1\" >1.000000</td>\n",
       "            </tr>\n",
       "            <tr>\n",
       "                                <td id=\"T_36415f5c_71f4_11ea_822c_50e08586bf81row4_col0\" class=\"data row4 col0\" >Beans of Egypt, Maine, The (1994)</td>\n",
       "                        <td id=\"T_36415f5c_71f4_11ea_822c_50e08586bf81row4_col1\" class=\"data row4 col1\" >1.000000</td>\n",
       "            </tr>\n",
       "            <tr>\n",
       "                                <td id=\"T_36415f5c_71f4_11ea_822c_50e08586bf81row5_col0\" class=\"data row5 col0\" >Safe Passage (1994)</td>\n",
       "                        <td id=\"T_36415f5c_71f4_11ea_822c_50e08586bf81row5_col1\" class=\"data row5 col1\" >1.000000</td>\n",
       "            </tr>\n",
       "            <tr>\n",
       "                                <td id=\"T_36415f5c_71f4_11ea_822c_50e08586bf81row6_col0\" class=\"data row6 col0\" >Old Lady Who Walked in the Sea, The (Vieille qui marchait dans la mer, La) (1991)</td>\n",
       "                        <td id=\"T_36415f5c_71f4_11ea_822c_50e08586bf81row6_col1\" class=\"data row6 col1\" >1.000000</td>\n",
       "            </tr>\n",
       "            <tr>\n",
       "                                <td id=\"T_36415f5c_71f4_11ea_822c_50e08586bf81row7_col0\" class=\"data row7 col0\" >Outlaw, The (1943)</td>\n",
       "                        <td id=\"T_36415f5c_71f4_11ea_822c_50e08586bf81row7_col1\" class=\"data row7 col1\" >1.000000</td>\n",
       "            </tr>\n",
       "            <tr>\n",
       "                                <td id=\"T_36415f5c_71f4_11ea_822c_50e08586bf81row8_col0\" class=\"data row8 col0\" >Line King: Al Hirschfeld, The (1996)</td>\n",
       "                        <td id=\"T_36415f5c_71f4_11ea_822c_50e08586bf81row8_col1\" class=\"data row8 col1\" >1.000000</td>\n",
       "            </tr>\n",
       "            <tr>\n",
       "                                <td id=\"T_36415f5c_71f4_11ea_822c_50e08586bf81row9_col0\" class=\"data row9 col0\" >Hurricane Streets (1998)</td>\n",
       "                        <td id=\"T_36415f5c_71f4_11ea_822c_50e08586bf81row9_col1\" class=\"data row9 col1\" >1.000000</td>\n",
       "            </tr>\n",
       "    </tbody></table>"
      ],
      "text/plain": [
       "<pandas.io.formats.style.Styler at 0x2049cb2aec8>"
      ]
     },
     "execution_count": 12,
     "metadata": {},
     "output_type": "execute_result"
    }
   ],
   "source": [
    "df_movie_corr = pd.DataFrame(similar_to_movie,columns=['Correlation']).reset_index(drop = False)\n",
    "df_movie_corr.dropna(inplace=True)\n",
    "print('Ten similar movies to \"%s\":' % Top_list[0])\n",
    "df_movie_corr.sort_values('Correlation',ascending=False).head(10).style.hide_index()"
   ]
  },
  {
   "cell_type": "markdown",
   "metadata": {},
   "source": [
    "However, some of these movies only rated by a few users. In caste that we are only interested in movies that have a least 100 reviews. We have,"
   ]
  },
  {
   "cell_type": "code",
   "execution_count": 13,
   "metadata": {},
   "outputs": [
    {
     "data": {
      "text/html": [
       "<div>\n",
       "<style scoped>\n",
       "    .dataframe tbody tr th:only-of-type {\n",
       "        vertical-align: middle;\n",
       "    }\n",
       "\n",
       "    .dataframe tbody tr th {\n",
       "        vertical-align: top;\n",
       "    }\n",
       "\n",
       "    .dataframe thead th {\n",
       "        text-align: right;\n",
       "    }\n",
       "</style>\n",
       "<table border=\"1\" class=\"dataframe\">\n",
       "  <thead>\n",
       "    <tr style=\"text-align: right;\">\n",
       "      <th></th>\n",
       "      <th>Title</th>\n",
       "      <th>Correlation</th>\n",
       "      <th>Number of Ratings</th>\n",
       "    </tr>\n",
       "  </thead>\n",
       "  <tbody>\n",
       "    <tr>\n",
       "      <th>0</th>\n",
       "      <td>'Til There Was You (1997)</td>\n",
       "      <td>0.872872</td>\n",
       "      <td>9</td>\n",
       "    </tr>\n",
       "    <tr>\n",
       "      <th>1</th>\n",
       "      <td>1-900 (1994)</td>\n",
       "      <td>-0.645497</td>\n",
       "      <td>5</td>\n",
       "    </tr>\n",
       "    <tr>\n",
       "      <th>2</th>\n",
       "      <td>101 Dalmatians (1996)</td>\n",
       "      <td>0.211132</td>\n",
       "      <td>109</td>\n",
       "    </tr>\n",
       "    <tr>\n",
       "      <th>3</th>\n",
       "      <td>12 Angry Men (1957)</td>\n",
       "      <td>0.184289</td>\n",
       "      <td>125</td>\n",
       "    </tr>\n",
       "    <tr>\n",
       "      <th>4</th>\n",
       "      <td>187 (1997)</td>\n",
       "      <td>0.027398</td>\n",
       "      <td>41</td>\n",
       "    </tr>\n",
       "  </tbody>\n",
       "</table>\n",
       "</div>"
      ],
      "text/plain": [
       "                       Title  Correlation  Number of Ratings\n",
       "0  'Til There Was You (1997)     0.872872                  9\n",
       "1               1-900 (1994)    -0.645497                  5\n",
       "2      101 Dalmatians (1996)     0.211132                109\n",
       "3        12 Angry Men (1957)     0.184289                125\n",
       "4                 187 (1997)     0.027398                 41"
      ]
     },
     "execution_count": 13,
     "metadata": {},
     "output_type": "execute_result"
    }
   ],
   "source": [
    "df_movie_corr = pd.merge(df_movie_corr,Ratings[['Title','Number of Ratings']] , on = 'Title')\n",
    "df_movie_corr.head()"
   ]
  },
  {
   "cell_type": "markdown",
   "metadata": {},
   "source": [
    "Now sort the values and notice how the titles make a lot more sense:"
   ]
  },
  {
   "cell_type": "code",
   "execution_count": 14,
   "metadata": {
    "scrolled": true
   },
   "outputs": [
    {
     "data": {
      "text/html": [
       "<div>\n",
       "<style scoped>\n",
       "    .dataframe tbody tr th:only-of-type {\n",
       "        vertical-align: middle;\n",
       "    }\n",
       "\n",
       "    .dataframe tbody tr th {\n",
       "        vertical-align: top;\n",
       "    }\n",
       "\n",
       "    .dataframe thead th {\n",
       "        text-align: right;\n",
       "    }\n",
       "</style>\n",
       "<table border=\"1\" class=\"dataframe\">\n",
       "  <thead>\n",
       "    <tr style=\"text-align: right;\">\n",
       "      <th></th>\n",
       "      <th>Title</th>\n",
       "      <th>Correlation</th>\n",
       "      <th>Number of Ratings</th>\n",
       "    </tr>\n",
       "  </thead>\n",
       "  <tbody>\n",
       "    <tr>\n",
       "      <th>1192</th>\n",
       "      <td>Star Wars (1977)</td>\n",
       "      <td>1.000000</td>\n",
       "      <td>584</td>\n",
       "    </tr>\n",
       "    <tr>\n",
       "      <th>397</th>\n",
       "      <td>Empire Strikes Back, The (1980)</td>\n",
       "      <td>0.748353</td>\n",
       "      <td>368</td>\n",
       "    </tr>\n",
       "    <tr>\n",
       "      <th>1051</th>\n",
       "      <td>Return of the Jedi (1983)</td>\n",
       "      <td>0.672556</td>\n",
       "      <td>507</td>\n",
       "    </tr>\n",
       "    <tr>\n",
       "      <th>1026</th>\n",
       "      <td>Raiders of the Lost Ark (1981)</td>\n",
       "      <td>0.536117</td>\n",
       "      <td>420</td>\n",
       "    </tr>\n",
       "    <tr>\n",
       "      <th>91</th>\n",
       "      <td>Austin Powers: International Man of Mystery (1...</td>\n",
       "      <td>0.377433</td>\n",
       "      <td>130</td>\n",
       "    </tr>\n",
       "  </tbody>\n",
       "</table>\n",
       "</div>"
      ],
      "text/plain": [
       "                                                  Title  Correlation  \\\n",
       "1192                                   Star Wars (1977)     1.000000   \n",
       "397                     Empire Strikes Back, The (1980)     0.748353   \n",
       "1051                          Return of the Jedi (1983)     0.672556   \n",
       "1026                     Raiders of the Lost Ark (1981)     0.536117   \n",
       "91    Austin Powers: International Man of Mystery (1...     0.377433   \n",
       "\n",
       "      Number of Ratings  \n",
       "1192                584  \n",
       "397                 368  \n",
       "1051                507  \n",
       "1026                420  \n",
       "91                  130  "
      ]
     },
     "execution_count": 14,
     "metadata": {},
     "output_type": "execute_result"
    }
   ],
   "source": [
    "df_movie_corr[df_movie_corr['Number of Ratings']>100].sort_values('Correlation',ascending=False).head()"
   ]
  },
  {
   "cell_type": "markdown",
   "metadata": {},
   "source": [
    "We can come with a similar analysis for any other movies from the list. Therefore, we can summarize the results in the next section."
   ]
  },
  {
   "cell_type": "markdown",
   "metadata": {},
   "source": [
    "## Conclusions and Movie Recommendations\n",
    "\n",
    "Based on the analysis, we can create the following function that recommends four similar movies to a movie that we just watched.\n",
    "\n",
    "The following function recommends **N** movies similar to the **Inp** movie."
   ]
  },
  {
   "cell_type": "code",
   "execution_count": 15,
   "metadata": {
    "scrolled": false
   },
   "outputs": [],
   "source": [
    "def Movie_Recommendations(Inp, N= 10, at_least= 100, Data = Movie_Matrix, Rate_df= Ratings):\n",
    "    df_Movie = Data[Inp]\n",
    "    Similar_Movies = Data.corrwith(df_Movie)\n",
    "    Movie_corr = pd.DataFrame(Similar_Movies, columns=['Correlation'])\n",
    "    Rate_df = Rate_df.set_index('Title')\n",
    "    Movie_corr = Movie_corr.join(Rate_df['Number of Ratings'])\n",
    "    Move_Rec=Movie_corr[Movie_corr['Number of Ratings']> at_least].sort_values('Correlation',ascending=False).head(N)\n",
    "    Move_Rec_list=list(Move_Rec.index)\n",
    "    print(Back.CYAN +'Ten similar movies to: \"%s\":' % Inp)\n",
    "    return Move_Rec_list[1:]"
   ]
  },
  {
   "cell_type": "markdown",
   "metadata": {},
   "source": [
    "For example, consider **Star Wars (1977)**. For this movie, the function recommends the following movies"
   ]
  },
  {
   "cell_type": "code",
   "execution_count": 16,
   "metadata": {},
   "outputs": [
    {
     "name": "stdout",
     "output_type": "stream",
     "text": [
      "\u001b[46mTen similar movies to: \"Star Wars (1977)\":\n"
     ]
    },
    {
     "data": {
      "text/plain": [
       "['Empire Strikes Back, The (1980)',\n",
       " 'Return of the Jedi (1983)',\n",
       " 'Raiders of the Lost Ark (1981)',\n",
       " 'Austin Powers: International Man of Mystery (1997)',\n",
       " 'Sting, The (1973)',\n",
       " 'Indiana Jones and the Last Crusade (1989)',\n",
       " 'Pinocchio (1940)',\n",
       " 'Frighteners, The (1996)',\n",
       " 'L.A. Confidential (1997)']"
      ]
     },
     "execution_count": 16,
     "metadata": {},
     "output_type": "execute_result"
    }
   ],
   "source": [
    "Movie_Recommendations('Star Wars (1977)')"
   ]
  },
  {
   "cell_type": "markdown",
   "metadata": {},
   "source": [
    "Or for **Titanic (1997)** movie, we have"
   ]
  },
  {
   "cell_type": "code",
   "execution_count": 17,
   "metadata": {},
   "outputs": [
    {
     "name": "stdout",
     "output_type": "stream",
     "text": [
      "\u001b[46mTen similar movies to: \"Titanic (1997)\":\n"
     ]
    },
    {
     "data": {
      "text/plain": [
       "['River Wild, The (1994)',\n",
       " 'Abyss, The (1989)',\n",
       " \"Bram Stoker's Dracula (1992)\",\n",
       " 'True Lies (1994)',\n",
       " \"William Shakespeare's Romeo and Juliet (1996)\",\n",
       " 'Last of the Mohicans, The (1992)',\n",
       " 'Outbreak (1995)',\n",
       " 'Die Hard (1988)',\n",
       " 'Frighteners, The (1996)']"
      ]
     },
     "execution_count": 17,
     "metadata": {},
     "output_type": "execute_result"
    }
   ],
   "source": [
    "Movie_Recommendations('Titanic (1997)')"
   ]
  },
  {
   "cell_type": "markdown",
   "metadata": {},
   "source": [
    "***"
   ]
  }
 ],
 "metadata": {
  "anaconda-cloud": {},
  "kernelspec": {
   "display_name": "Python 3",
   "language": "python",
   "name": "python3"
  },
  "language_info": {
   "codemirror_mode": {
    "name": "ipython",
    "version": 3
   },
   "file_extension": ".py",
   "mimetype": "text/x-python",
   "name": "python",
   "nbconvert_exporter": "python",
   "pygments_lexer": "ipython3",
   "version": "3.7.7"
  }
 },
 "nbformat": 4,
 "nbformat_minor": 1
}
