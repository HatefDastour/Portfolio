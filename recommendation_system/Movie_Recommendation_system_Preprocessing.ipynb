{
 "cells": [
  {
   "cell_type": "code",
   "execution_count": 1,
   "metadata": {},
   "outputs": [],
   "source": [
    "import pandas as pd\n",
    "import missingno as msno\n",
    "import numpy as np\n",
    "import copy\n",
    "\n",
    "from sklearn.impute import SimpleImputer\n",
    "from sklearn.model_selection import train_test_split\n",
    "from sklearn.linear_model import LinearRegression\n",
    "from sklearn.metrics import mean_absolute_error, r2_score\n",
    "from sklearn.preprocessing import StandardScaler\n",
    "import copy\n",
    "\n",
    "import seaborn as sns\n",
    "import matplotlib.pyplot as plt\n",
    "\n",
    "plt.style.use('ggplot')\n",
    "%matplotlib inline\n",
    "import warnings\n",
    "warnings.filterwarnings(\"ignore\")"
   ]
  },
  {
   "cell_type": "markdown",
   "metadata": {},
   "source": [
    "# Movie Recommendation System (Preprocessing)\n",
    "\n",
    "## Preprocessing\n",
    "\n",
    "In this study, we are using a Data Source from Kaggle.com ([link to Data](https://www.kaggle.com/carolzhangdc/imdb-5000-movie-dataset)). This dataset contains several NaN values and some of the values need to use standard forms."
   ]
  },
  {
   "cell_type": "markdown",
   "metadata": {},
   "source": [
    "#### Table of contents\n",
    "\n",
    "* [Loading the Data](#Loading-the-Data)\n",
    "* [Removing Duplicates](#Removing-Duplicates)\n",
    "* [Missing values](Missing-values)\n",
    "    * [Column 'director_name'](#Column-'director_name')\n",
    "    * [Column 'budget'](#Column-'budget')\n",
    "    * [Column 'color'](#Column-'color')\n",
    "    * [Column 'language'](#Column-'language')\n",
    "    * [Column 'duration'](#Column-'duration')\n",
    "    * [Column 'country'](#Column-'country')\n",
    "    * [Column 'content_rating'](#Column-'content_rating')\n",
    "    * [Columns contain 'likes'](#Columns-contain 'likes')\n",
    "    * [Column 'Gross'](#Column-'Gross')"
   ]
  },
  {
   "cell_type": "markdown",
   "metadata": {},
   "source": [
    "## Loading the Data"
   ]
  },
  {
   "cell_type": "code",
   "execution_count": 2,
   "metadata": {
    "scrolled": false
   },
   "outputs": [
    {
     "data": {
      "text/html": [
       "<div>\n",
       "<style scoped>\n",
       "    .dataframe tbody tr th:only-of-type {\n",
       "        vertical-align: middle;\n",
       "    }\n",
       "\n",
       "    .dataframe tbody tr th {\n",
       "        vertical-align: top;\n",
       "    }\n",
       "\n",
       "    .dataframe thead th {\n",
       "        text-align: right;\n",
       "    }\n",
       "</style>\n",
       "<table border=\"1\" class=\"dataframe\">\n",
       "  <thead>\n",
       "    <tr style=\"text-align: right;\">\n",
       "      <th></th>\n",
       "      <th>color</th>\n",
       "      <th>director_name</th>\n",
       "      <th>num_critic_for_reviews</th>\n",
       "      <th>duration</th>\n",
       "      <th>director_facebook_likes</th>\n",
       "      <th>actor_3_facebook_likes</th>\n",
       "      <th>actor_2_name</th>\n",
       "      <th>actor_1_facebook_likes</th>\n",
       "      <th>gross</th>\n",
       "      <th>genres</th>\n",
       "      <th>...</th>\n",
       "      <th>num_user_for_reviews</th>\n",
       "      <th>language</th>\n",
       "      <th>country</th>\n",
       "      <th>content_rating</th>\n",
       "      <th>budget</th>\n",
       "      <th>title_year</th>\n",
       "      <th>actor_2_facebook_likes</th>\n",
       "      <th>imdb_score</th>\n",
       "      <th>aspect_ratio</th>\n",
       "      <th>movie_facebook_likes</th>\n",
       "    </tr>\n",
       "  </thead>\n",
       "  <tbody>\n",
       "    <tr>\n",
       "      <td>0</td>\n",
       "      <td>Color</td>\n",
       "      <td>James Cameron</td>\n",
       "      <td>723.0</td>\n",
       "      <td>178.0</td>\n",
       "      <td>0.0</td>\n",
       "      <td>855.0</td>\n",
       "      <td>Joel David Moore</td>\n",
       "      <td>1000.0</td>\n",
       "      <td>760505847.0</td>\n",
       "      <td>Action|Adventure|Fantasy|Sci-Fi</td>\n",
       "      <td>...</td>\n",
       "      <td>3054.0</td>\n",
       "      <td>English</td>\n",
       "      <td>USA</td>\n",
       "      <td>PG-13</td>\n",
       "      <td>237000000.0</td>\n",
       "      <td>2009.0</td>\n",
       "      <td>936.0</td>\n",
       "      <td>7.9</td>\n",
       "      <td>1.78</td>\n",
       "      <td>33000</td>\n",
       "    </tr>\n",
       "    <tr>\n",
       "      <td>1</td>\n",
       "      <td>Color</td>\n",
       "      <td>Gore Verbinski</td>\n",
       "      <td>302.0</td>\n",
       "      <td>169.0</td>\n",
       "      <td>563.0</td>\n",
       "      <td>1000.0</td>\n",
       "      <td>Orlando Bloom</td>\n",
       "      <td>40000.0</td>\n",
       "      <td>309404152.0</td>\n",
       "      <td>Action|Adventure|Fantasy</td>\n",
       "      <td>...</td>\n",
       "      <td>1238.0</td>\n",
       "      <td>English</td>\n",
       "      <td>USA</td>\n",
       "      <td>PG-13</td>\n",
       "      <td>300000000.0</td>\n",
       "      <td>2007.0</td>\n",
       "      <td>5000.0</td>\n",
       "      <td>7.1</td>\n",
       "      <td>2.35</td>\n",
       "      <td>0</td>\n",
       "    </tr>\n",
       "    <tr>\n",
       "      <td>2</td>\n",
       "      <td>Color</td>\n",
       "      <td>Sam Mendes</td>\n",
       "      <td>602.0</td>\n",
       "      <td>148.0</td>\n",
       "      <td>0.0</td>\n",
       "      <td>161.0</td>\n",
       "      <td>Rory Kinnear</td>\n",
       "      <td>11000.0</td>\n",
       "      <td>200074175.0</td>\n",
       "      <td>Action|Adventure|Thriller</td>\n",
       "      <td>...</td>\n",
       "      <td>994.0</td>\n",
       "      <td>English</td>\n",
       "      <td>UK</td>\n",
       "      <td>PG-13</td>\n",
       "      <td>245000000.0</td>\n",
       "      <td>2015.0</td>\n",
       "      <td>393.0</td>\n",
       "      <td>6.8</td>\n",
       "      <td>2.35</td>\n",
       "      <td>85000</td>\n",
       "    </tr>\n",
       "    <tr>\n",
       "      <td>3</td>\n",
       "      <td>Color</td>\n",
       "      <td>Christopher Nolan</td>\n",
       "      <td>813.0</td>\n",
       "      <td>164.0</td>\n",
       "      <td>22000.0</td>\n",
       "      <td>23000.0</td>\n",
       "      <td>Christian Bale</td>\n",
       "      <td>27000.0</td>\n",
       "      <td>448130642.0</td>\n",
       "      <td>Action|Thriller</td>\n",
       "      <td>...</td>\n",
       "      <td>2701.0</td>\n",
       "      <td>English</td>\n",
       "      <td>USA</td>\n",
       "      <td>PG-13</td>\n",
       "      <td>250000000.0</td>\n",
       "      <td>2012.0</td>\n",
       "      <td>23000.0</td>\n",
       "      <td>8.5</td>\n",
       "      <td>2.35</td>\n",
       "      <td>164000</td>\n",
       "    </tr>\n",
       "    <tr>\n",
       "      <td>4</td>\n",
       "      <td>NaN</td>\n",
       "      <td>Doug Walker</td>\n",
       "      <td>NaN</td>\n",
       "      <td>NaN</td>\n",
       "      <td>131.0</td>\n",
       "      <td>NaN</td>\n",
       "      <td>Rob Walker</td>\n",
       "      <td>131.0</td>\n",
       "      <td>NaN</td>\n",
       "      <td>Documentary</td>\n",
       "      <td>...</td>\n",
       "      <td>NaN</td>\n",
       "      <td>NaN</td>\n",
       "      <td>NaN</td>\n",
       "      <td>NaN</td>\n",
       "      <td>NaN</td>\n",
       "      <td>NaN</td>\n",
       "      <td>12.0</td>\n",
       "      <td>7.1</td>\n",
       "      <td>NaN</td>\n",
       "      <td>0</td>\n",
       "    </tr>\n",
       "  </tbody>\n",
       "</table>\n",
       "<p>5 rows × 28 columns</p>\n",
       "</div>"
      ],
      "text/plain": [
       "   color      director_name  num_critic_for_reviews  duration  \\\n",
       "0  Color      James Cameron                   723.0     178.0   \n",
       "1  Color     Gore Verbinski                   302.0     169.0   \n",
       "2  Color         Sam Mendes                   602.0     148.0   \n",
       "3  Color  Christopher Nolan                   813.0     164.0   \n",
       "4    NaN        Doug Walker                     NaN       NaN   \n",
       "\n",
       "   director_facebook_likes  actor_3_facebook_likes      actor_2_name  \\\n",
       "0                      0.0                   855.0  Joel David Moore   \n",
       "1                    563.0                  1000.0     Orlando Bloom   \n",
       "2                      0.0                   161.0      Rory Kinnear   \n",
       "3                  22000.0                 23000.0    Christian Bale   \n",
       "4                    131.0                     NaN        Rob Walker   \n",
       "\n",
       "   actor_1_facebook_likes        gross                           genres  ...  \\\n",
       "0                  1000.0  760505847.0  Action|Adventure|Fantasy|Sci-Fi  ...   \n",
       "1                 40000.0  309404152.0         Action|Adventure|Fantasy  ...   \n",
       "2                 11000.0  200074175.0        Action|Adventure|Thriller  ...   \n",
       "3                 27000.0  448130642.0                  Action|Thriller  ...   \n",
       "4                   131.0          NaN                      Documentary  ...   \n",
       "\n",
       "  num_user_for_reviews language  country  content_rating       budget  \\\n",
       "0               3054.0  English      USA           PG-13  237000000.0   \n",
       "1               1238.0  English      USA           PG-13  300000000.0   \n",
       "2                994.0  English       UK           PG-13  245000000.0   \n",
       "3               2701.0  English      USA           PG-13  250000000.0   \n",
       "4                  NaN      NaN      NaN             NaN          NaN   \n",
       "\n",
       "   title_year actor_2_facebook_likes imdb_score  aspect_ratio  \\\n",
       "0      2009.0                  936.0        7.9          1.78   \n",
       "1      2007.0                 5000.0        7.1          2.35   \n",
       "2      2015.0                  393.0        6.8          2.35   \n",
       "3      2012.0                23000.0        8.5          2.35   \n",
       "4         NaN                   12.0        7.1           NaN   \n",
       "\n",
       "  movie_facebook_likes  \n",
       "0                33000  \n",
       "1                    0  \n",
       "2                85000  \n",
       "3               164000  \n",
       "4                    0  \n",
       "\n",
       "[5 rows x 28 columns]"
      ]
     },
     "execution_count": 2,
     "metadata": {},
     "output_type": "execute_result"
    }
   ],
   "source": [
    "Data = pd.read_csv('Data/movie_metadata.csv')\n",
    "Data.head()"
   ]
  },
  {
   "cell_type": "markdown",
   "metadata": {},
   "source": [
    "## Sorting the columns based on column names"
   ]
  },
  {
   "cell_type": "code",
   "execution_count": 3,
   "metadata": {},
   "outputs": [
    {
     "data": {
      "text/html": [
       "<div>\n",
       "<style scoped>\n",
       "    .dataframe tbody tr th:only-of-type {\n",
       "        vertical-align: middle;\n",
       "    }\n",
       "\n",
       "    .dataframe tbody tr th {\n",
       "        vertical-align: top;\n",
       "    }\n",
       "\n",
       "    .dataframe thead th {\n",
       "        text-align: right;\n",
       "    }\n",
       "</style>\n",
       "<table border=\"1\" class=\"dataframe\">\n",
       "  <thead>\n",
       "    <tr style=\"text-align: right;\">\n",
       "      <th></th>\n",
       "      <th>actor_1_facebook_likes</th>\n",
       "      <th>actor_1_name</th>\n",
       "      <th>actor_2_facebook_likes</th>\n",
       "      <th>actor_2_name</th>\n",
       "      <th>actor_3_facebook_likes</th>\n",
       "      <th>actor_3_name</th>\n",
       "      <th>aspect_ratio</th>\n",
       "      <th>budget</th>\n",
       "      <th>cast_total_facebook_likes</th>\n",
       "      <th>color</th>\n",
       "      <th>...</th>\n",
       "      <th>imdb_score</th>\n",
       "      <th>language</th>\n",
       "      <th>movie_facebook_likes</th>\n",
       "      <th>movie_imdb_link</th>\n",
       "      <th>movie_title</th>\n",
       "      <th>num_critic_for_reviews</th>\n",
       "      <th>num_user_for_reviews</th>\n",
       "      <th>num_voted_users</th>\n",
       "      <th>plot_keywords</th>\n",
       "      <th>title_year</th>\n",
       "    </tr>\n",
       "  </thead>\n",
       "  <tbody>\n",
       "    <tr>\n",
       "      <td>0</td>\n",
       "      <td>1000.0</td>\n",
       "      <td>CCH Pounder</td>\n",
       "      <td>936.0</td>\n",
       "      <td>Joel David Moore</td>\n",
       "      <td>855.0</td>\n",
       "      <td>Wes Studi</td>\n",
       "      <td>1.78</td>\n",
       "      <td>237000000.0</td>\n",
       "      <td>4834</td>\n",
       "      <td>Color</td>\n",
       "      <td>...</td>\n",
       "      <td>7.9</td>\n",
       "      <td>English</td>\n",
       "      <td>33000</td>\n",
       "      <td>http://www.imdb.com/title/tt0499549/?ref_=fn_t...</td>\n",
       "      <td>Avatar</td>\n",
       "      <td>723.0</td>\n",
       "      <td>3054.0</td>\n",
       "      <td>886204</td>\n",
       "      <td>avatar|future|marine|native|paraplegic</td>\n",
       "      <td>2009.0</td>\n",
       "    </tr>\n",
       "    <tr>\n",
       "      <td>1</td>\n",
       "      <td>40000.0</td>\n",
       "      <td>Johnny Depp</td>\n",
       "      <td>5000.0</td>\n",
       "      <td>Orlando Bloom</td>\n",
       "      <td>1000.0</td>\n",
       "      <td>Jack Davenport</td>\n",
       "      <td>2.35</td>\n",
       "      <td>300000000.0</td>\n",
       "      <td>48350</td>\n",
       "      <td>Color</td>\n",
       "      <td>...</td>\n",
       "      <td>7.1</td>\n",
       "      <td>English</td>\n",
       "      <td>0</td>\n",
       "      <td>http://www.imdb.com/title/tt0449088/?ref_=fn_t...</td>\n",
       "      <td>Pirates of the Caribbean: At World's End</td>\n",
       "      <td>302.0</td>\n",
       "      <td>1238.0</td>\n",
       "      <td>471220</td>\n",
       "      <td>goddess|marriage ceremony|marriage proposal|pi...</td>\n",
       "      <td>2007.0</td>\n",
       "    </tr>\n",
       "    <tr>\n",
       "      <td>2</td>\n",
       "      <td>11000.0</td>\n",
       "      <td>Christoph Waltz</td>\n",
       "      <td>393.0</td>\n",
       "      <td>Rory Kinnear</td>\n",
       "      <td>161.0</td>\n",
       "      <td>Stephanie Sigman</td>\n",
       "      <td>2.35</td>\n",
       "      <td>245000000.0</td>\n",
       "      <td>11700</td>\n",
       "      <td>Color</td>\n",
       "      <td>...</td>\n",
       "      <td>6.8</td>\n",
       "      <td>English</td>\n",
       "      <td>85000</td>\n",
       "      <td>http://www.imdb.com/title/tt2379713/?ref_=fn_t...</td>\n",
       "      <td>Spectre</td>\n",
       "      <td>602.0</td>\n",
       "      <td>994.0</td>\n",
       "      <td>275868</td>\n",
       "      <td>bomb|espionage|sequel|spy|terrorist</td>\n",
       "      <td>2015.0</td>\n",
       "    </tr>\n",
       "    <tr>\n",
       "      <td>3</td>\n",
       "      <td>27000.0</td>\n",
       "      <td>Tom Hardy</td>\n",
       "      <td>23000.0</td>\n",
       "      <td>Christian Bale</td>\n",
       "      <td>23000.0</td>\n",
       "      <td>Joseph Gordon-Levitt</td>\n",
       "      <td>2.35</td>\n",
       "      <td>250000000.0</td>\n",
       "      <td>106759</td>\n",
       "      <td>Color</td>\n",
       "      <td>...</td>\n",
       "      <td>8.5</td>\n",
       "      <td>English</td>\n",
       "      <td>164000</td>\n",
       "      <td>http://www.imdb.com/title/tt1345836/?ref_=fn_t...</td>\n",
       "      <td>The Dark Knight Rises</td>\n",
       "      <td>813.0</td>\n",
       "      <td>2701.0</td>\n",
       "      <td>1144337</td>\n",
       "      <td>deception|imprisonment|lawlessness|police offi...</td>\n",
       "      <td>2012.0</td>\n",
       "    </tr>\n",
       "    <tr>\n",
       "      <td>4</td>\n",
       "      <td>131.0</td>\n",
       "      <td>Doug Walker</td>\n",
       "      <td>12.0</td>\n",
       "      <td>Rob Walker</td>\n",
       "      <td>NaN</td>\n",
       "      <td>NaN</td>\n",
       "      <td>NaN</td>\n",
       "      <td>NaN</td>\n",
       "      <td>143</td>\n",
       "      <td>NaN</td>\n",
       "      <td>...</td>\n",
       "      <td>7.1</td>\n",
       "      <td>NaN</td>\n",
       "      <td>0</td>\n",
       "      <td>http://www.imdb.com/title/tt5289954/?ref_=fn_t...</td>\n",
       "      <td>Star Wars: Episode VII - The Force Awakens    ...</td>\n",
       "      <td>NaN</td>\n",
       "      <td>NaN</td>\n",
       "      <td>8</td>\n",
       "      <td>NaN</td>\n",
       "      <td>NaN</td>\n",
       "    </tr>\n",
       "  </tbody>\n",
       "</table>\n",
       "<p>5 rows × 28 columns</p>\n",
       "</div>"
      ],
      "text/plain": [
       "   actor_1_facebook_likes     actor_1_name  actor_2_facebook_likes  \\\n",
       "0                  1000.0      CCH Pounder                   936.0   \n",
       "1                 40000.0      Johnny Depp                  5000.0   \n",
       "2                 11000.0  Christoph Waltz                   393.0   \n",
       "3                 27000.0        Tom Hardy                 23000.0   \n",
       "4                   131.0      Doug Walker                    12.0   \n",
       "\n",
       "       actor_2_name  actor_3_facebook_likes          actor_3_name  \\\n",
       "0  Joel David Moore                   855.0             Wes Studi   \n",
       "1     Orlando Bloom                  1000.0        Jack Davenport   \n",
       "2      Rory Kinnear                   161.0      Stephanie Sigman   \n",
       "3    Christian Bale                 23000.0  Joseph Gordon-Levitt   \n",
       "4        Rob Walker                     NaN                   NaN   \n",
       "\n",
       "   aspect_ratio       budget  cast_total_facebook_likes  color  ...  \\\n",
       "0          1.78  237000000.0                       4834  Color  ...   \n",
       "1          2.35  300000000.0                      48350  Color  ...   \n",
       "2          2.35  245000000.0                      11700  Color  ...   \n",
       "3          2.35  250000000.0                     106759  Color  ...   \n",
       "4           NaN          NaN                        143    NaN  ...   \n",
       "\n",
       "  imdb_score language  movie_facebook_likes  \\\n",
       "0        7.9  English                 33000   \n",
       "1        7.1  English                     0   \n",
       "2        6.8  English                 85000   \n",
       "3        8.5  English                164000   \n",
       "4        7.1      NaN                     0   \n",
       "\n",
       "                                     movie_imdb_link  \\\n",
       "0  http://www.imdb.com/title/tt0499549/?ref_=fn_t...   \n",
       "1  http://www.imdb.com/title/tt0449088/?ref_=fn_t...   \n",
       "2  http://www.imdb.com/title/tt2379713/?ref_=fn_t...   \n",
       "3  http://www.imdb.com/title/tt1345836/?ref_=fn_t...   \n",
       "4  http://www.imdb.com/title/tt5289954/?ref_=fn_t...   \n",
       "\n",
       "                                         movie_title  num_critic_for_reviews  \\\n",
       "0                                            Avatar                    723.0   \n",
       "1          Pirates of the Caribbean: At World's End                    302.0   \n",
       "2                                           Spectre                    602.0   \n",
       "3                             The Dark Knight Rises                    813.0   \n",
       "4  Star Wars: Episode VII - The Force Awakens    ...                     NaN   \n",
       "\n",
       "  num_user_for_reviews  num_voted_users  \\\n",
       "0               3054.0           886204   \n",
       "1               1238.0           471220   \n",
       "2                994.0           275868   \n",
       "3               2701.0          1144337   \n",
       "4                  NaN                8   \n",
       "\n",
       "                                       plot_keywords title_year  \n",
       "0             avatar|future|marine|native|paraplegic     2009.0  \n",
       "1  goddess|marriage ceremony|marriage proposal|pi...     2007.0  \n",
       "2                bomb|espionage|sequel|spy|terrorist     2015.0  \n",
       "3  deception|imprisonment|lawlessness|police offi...     2012.0  \n",
       "4                                                NaN        NaN  \n",
       "\n",
       "[5 rows x 28 columns]"
      ]
     },
     "execution_count": 3,
     "metadata": {},
     "output_type": "execute_result"
    }
   ],
   "source": [
    "Data = Data.reindex(columns=sorted(Data.columns))\n",
    "Data.head()"
   ]
  },
  {
   "cell_type": "markdown",
   "metadata": {},
   "source": [
    "## Removing unnessary columns\n",
    "\n",
    "Note that"
   ]
  },
  {
   "cell_type": "code",
   "execution_count": 4,
   "metadata": {},
   "outputs": [
    {
     "data": {
      "text/html": [
       "<div>\n",
       "<style scoped>\n",
       "    .dataframe tbody tr th:only-of-type {\n",
       "        vertical-align: middle;\n",
       "    }\n",
       "\n",
       "    .dataframe tbody tr th {\n",
       "        vertical-align: top;\n",
       "    }\n",
       "\n",
       "    .dataframe thead th {\n",
       "        text-align: right;\n",
       "    }\n",
       "</style>\n",
       "<table border=\"1\" class=\"dataframe\">\n",
       "  <thead>\n",
       "    <tr style=\"text-align: right;\">\n",
       "      <th></th>\n",
       "      <th>facenumber_in_poster</th>\n",
       "      <th>movie_imdb_link</th>\n",
       "      <th>aspect_ratio</th>\n",
       "    </tr>\n",
       "  </thead>\n",
       "  <tbody>\n",
       "    <tr>\n",
       "      <td>0</td>\n",
       "      <td>0.0</td>\n",
       "      <td>http://www.imdb.com/title/tt0499549/?ref_=fn_t...</td>\n",
       "      <td>1.78</td>\n",
       "    </tr>\n",
       "    <tr>\n",
       "      <td>1</td>\n",
       "      <td>0.0</td>\n",
       "      <td>http://www.imdb.com/title/tt0449088/?ref_=fn_t...</td>\n",
       "      <td>2.35</td>\n",
       "    </tr>\n",
       "    <tr>\n",
       "      <td>2</td>\n",
       "      <td>1.0</td>\n",
       "      <td>http://www.imdb.com/title/tt2379713/?ref_=fn_t...</td>\n",
       "      <td>2.35</td>\n",
       "    </tr>\n",
       "    <tr>\n",
       "      <td>3</td>\n",
       "      <td>0.0</td>\n",
       "      <td>http://www.imdb.com/title/tt1345836/?ref_=fn_t...</td>\n",
       "      <td>2.35</td>\n",
       "    </tr>\n",
       "    <tr>\n",
       "      <td>4</td>\n",
       "      <td>0.0</td>\n",
       "      <td>http://www.imdb.com/title/tt5289954/?ref_=fn_t...</td>\n",
       "      <td>NaN</td>\n",
       "    </tr>\n",
       "  </tbody>\n",
       "</table>\n",
       "</div>"
      ],
      "text/plain": [
       "   facenumber_in_poster                                    movie_imdb_link  \\\n",
       "0                   0.0  http://www.imdb.com/title/tt0499549/?ref_=fn_t...   \n",
       "1                   0.0  http://www.imdb.com/title/tt0449088/?ref_=fn_t...   \n",
       "2                   1.0  http://www.imdb.com/title/tt2379713/?ref_=fn_t...   \n",
       "3                   0.0  http://www.imdb.com/title/tt1345836/?ref_=fn_t...   \n",
       "4                   0.0  http://www.imdb.com/title/tt5289954/?ref_=fn_t...   \n",
       "\n",
       "   aspect_ratio  \n",
       "0          1.78  \n",
       "1          2.35  \n",
       "2          2.35  \n",
       "3          2.35  \n",
       "4           NaN  "
      ]
     },
     "execution_count": 4,
     "metadata": {},
     "output_type": "execute_result"
    }
   ],
   "source": [
    "Drop_column_list = ['facenumber_in_poster', 'movie_imdb_link', 'aspect_ratio']\n",
    "Data[Drop_column_list].head()"
   ]
  },
  {
   "cell_type": "markdown",
   "metadata": {},
   "source": [
    "These three columns are unnecessary for our study. Thus, we are going to remove these columns.\n",
    "* `facenumber_in_poster`\n",
    "* `movie_imdb_link`\n",
    "* `aspect_ratio`\n",
    "\n",
    "Thus, these columns are dropped from our data"
   ]
  },
  {
   "cell_type": "code",
   "execution_count": 5,
   "metadata": {},
   "outputs": [],
   "source": [
    "Data.drop(Drop_column_list, axis=1, inplace=True)\n",
    "del Drop_column_list"
   ]
  },
  {
   "cell_type": "markdown",
   "metadata": {},
   "source": [
    "## Removing Duplicates"
   ]
  },
  {
   "cell_type": "markdown",
   "metadata": {},
   "source": [
    "First of all, note that"
   ]
  },
  {
   "cell_type": "code",
   "execution_count": 6,
   "metadata": {
    "scrolled": true
   },
   "outputs": [
    {
     "data": {
      "text/html": [
       "<div>\n",
       "<style scoped>\n",
       "    .dataframe tbody tr th:only-of-type {\n",
       "        vertical-align: middle;\n",
       "    }\n",
       "\n",
       "    .dataframe tbody tr th {\n",
       "        vertical-align: top;\n",
       "    }\n",
       "\n",
       "    .dataframe thead th {\n",
       "        text-align: right;\n",
       "    }\n",
       "</style>\n",
       "<table border=\"1\" class=\"dataframe\">\n",
       "  <thead>\n",
       "    <tr style=\"text-align: right;\">\n",
       "      <th></th>\n",
       "      <th>movie_title</th>\n",
       "    </tr>\n",
       "  </thead>\n",
       "  <tbody>\n",
       "    <tr>\n",
       "      <td>6</td>\n",
       "      <td>Spider-Man 3</td>\n",
       "    </tr>\n",
       "    <tr>\n",
       "      <td>17</td>\n",
       "      <td>The Avengers</td>\n",
       "    </tr>\n",
       "    <tr>\n",
       "      <td>25</td>\n",
       "      <td>King Kong</td>\n",
       "    </tr>\n",
       "    <tr>\n",
       "      <td>30</td>\n",
       "      <td>Skyfall</td>\n",
       "    </tr>\n",
       "    <tr>\n",
       "      <td>33</td>\n",
       "      <td>Alice in Wonderland</td>\n",
       "    </tr>\n",
       "    <tr>\n",
       "      <td>...</td>\n",
       "      <td>...</td>\n",
       "    </tr>\n",
       "    <tr>\n",
       "      <td>3800</td>\n",
       "      <td>Saving Grace</td>\n",
       "    </tr>\n",
       "    <tr>\n",
       "      <td>3887</td>\n",
       "      <td>Night of the Living Dead</td>\n",
       "    </tr>\n",
       "    <tr>\n",
       "      <td>3984</td>\n",
       "      <td>The Full Monty</td>\n",
       "    </tr>\n",
       "    <tr>\n",
       "      <td>4223</td>\n",
       "      <td>The Calling</td>\n",
       "    </tr>\n",
       "    <tr>\n",
       "      <td>4949</td>\n",
       "      <td>A Dog's Breakfast</td>\n",
       "    </tr>\n",
       "  </tbody>\n",
       "</table>\n",
       "<p>126 rows × 1 columns</p>\n",
       "</div>"
      ],
      "text/plain": [
       "                    movie_title\n",
       "6                 Spider-Man 3 \n",
       "17                The Avengers \n",
       "25                   King Kong \n",
       "30                     Skyfall \n",
       "33         Alice in Wonderland \n",
       "...                         ...\n",
       "3800  Saving Grace             \n",
       "3887  Night of the Living Dead \n",
       "3984            The Full Monty \n",
       "4223               The Calling \n",
       "4949         A Dog's Breakfast \n",
       "\n",
       "[126 rows x 1 columns]"
      ]
     },
     "execution_count": 6,
     "metadata": {},
     "output_type": "execute_result"
    }
   ],
   "source": [
    "Data_Duplicated = Data[Data.movie_title.duplicated(keep='last')]\n",
    "pd.DataFrame(Data_Duplicated.movie_title)"
   ]
  },
  {
   "cell_type": "markdown",
   "metadata": {},
   "source": [
    "These values are duplicated!"
   ]
  },
  {
   "cell_type": "code",
   "execution_count": 7,
   "metadata": {
    "scrolled": true
   },
   "outputs": [
    {
     "name": "stdout",
     "output_type": "stream",
     "text": [
      "There are 4917 unique rows from 5043.\n",
      "There are 126 duplicated rows.\n"
     ]
    }
   ],
   "source": [
    "print(\"There are %i unique rows from %i.\"% (len(Data.movie_title.unique()), len(Data.movie_title)))\n",
    "number_of_duplicated=len(Data.movie_title)-len(Data.movie_title.unique())\n",
    "print(\"There are %i duplicated rows.\"% number_of_duplicated)\n",
    "del number_of_duplicated, Data_Duplicated"
   ]
  },
  {
   "cell_type": "markdown",
   "metadata": {},
   "source": [
    "Removing the duplicated movies."
   ]
  },
  {
   "cell_type": "code",
   "execution_count": 8,
   "metadata": {},
   "outputs": [],
   "source": [
    "Data.drop_duplicates(subset=\"movie_title\", inplace=True)"
   ]
  },
  {
   "cell_type": "markdown",
   "metadata": {},
   "source": [
    "To get a better understanding of our data, we can use the following plot."
   ]
  },
  {
   "cell_type": "code",
   "execution_count": 9,
   "metadata": {},
   "outputs": [
    {
     "data": {
      "text/plain": [
       "<matplotlib.axes._subplots.AxesSubplot at 0x202f9e82be0>"
      ]
     },
     "execution_count": 9,
     "metadata": {},
     "output_type": "execute_result"
    },
    {
     "data": {
      "image/png": "[encoded data removed]",
      "text/plain": [
       "<Figure size 1152x432 with 3 Axes>"
      ]
     },
     "metadata": {
      "needs_background": "light"
     },
     "output_type": "display_data"
    }
   ],
   "source": [
    "msno.bar(Data,  figsize=(16,6), fontsize=14, log=False, color=\"purple\")"
   ]
  },
  {
   "cell_type": "markdown",
   "metadata": {},
   "source": [
    "## Missing values"
   ]
  },
  {
   "cell_type": "markdown",
   "metadata": {},
   "source": [
    "### Column 'director_name'\n",
    "\n",
    "We can just simply drop rows without `director_name`."
   ]
  },
  {
   "cell_type": "code",
   "execution_count": 10,
   "metadata": {},
   "outputs": [],
   "source": [
    "Data.drop(Data[Data.director_name.isna()].index, inplace=True)"
   ]
  },
  {
   "cell_type": "markdown",
   "metadata": {},
   "source": [
    "### Column 'budget'\n",
    "\n",
    "Replacing missing `budget` values with the mean value"
   ]
  },
  {
   "cell_type": "code",
   "execution_count": 11,
   "metadata": {},
   "outputs": [],
   "source": [
    "imp= SimpleImputer(missing_values=np.nan, strategy='mean')\n",
    "temp=imp.fit_transform(Data['budget'].values.reshape(-1, 1))\n",
    "Data['budget']=temp\n",
    "del temp"
   ]
  },
  {
   "cell_type": "markdown",
   "metadata": {},
   "source": [
    "Column 'color'\n",
    "\n",
    "For moviess `color`, we have"
   ]
  },
  {
   "cell_type": "code",
   "execution_count": 12,
   "metadata": {
    "scrolled": false
   },
   "outputs": [
    {
     "data": {
      "text/html": [
       "<div>\n",
       "<style scoped>\n",
       "    .dataframe tbody tr th:only-of-type {\n",
       "        vertical-align: middle;\n",
       "    }\n",
       "\n",
       "    .dataframe tbody tr th {\n",
       "        vertical-align: top;\n",
       "    }\n",
       "\n",
       "    .dataframe thead th {\n",
       "        text-align: right;\n",
       "    }\n",
       "</style>\n",
       "<table border=\"1\" class=\"dataframe\">\n",
       "  <thead>\n",
       "    <tr style=\"text-align: right;\">\n",
       "      <th></th>\n",
       "      <th>movie_title</th>\n",
       "      <th>title_year</th>\n",
       "      <th>color</th>\n",
       "    </tr>\n",
       "  </thead>\n",
       "  <tbody>\n",
       "    <tr>\n",
       "      <td>4846</td>\n",
       "      <td>Midnight Cabaret</td>\n",
       "      <td>1990.0</td>\n",
       "      <td>NaN</td>\n",
       "    </tr>\n",
       "    <tr>\n",
       "      <td>2753</td>\n",
       "      <td>Shinjuku Incident</td>\n",
       "      <td>2009.0</td>\n",
       "      <td>NaN</td>\n",
       "    </tr>\n",
       "    <tr>\n",
       "      <td>1948</td>\n",
       "      <td>Dear John</td>\n",
       "      <td>2010.0</td>\n",
       "      <td>NaN</td>\n",
       "    </tr>\n",
       "    <tr>\n",
       "      <td>3638</td>\n",
       "      <td>Snow Flower and the Secret Fan</td>\n",
       "      <td>2011.0</td>\n",
       "      <td>NaN</td>\n",
       "    </tr>\n",
       "    <tr>\n",
       "      <td>5020</td>\n",
       "      <td>The Ridges</td>\n",
       "      <td>2011.0</td>\n",
       "      <td>NaN</td>\n",
       "    </tr>\n",
       "  </tbody>\n",
       "</table>\n",
       "</div>"
      ],
      "text/plain": [
       "                          movie_title  title_year color\n",
       "4846                Midnight Cabaret       1990.0   NaN\n",
       "2753               Shinjuku Incident       2009.0   NaN\n",
       "1948                       Dear John       2010.0   NaN\n",
       "3638  Snow Flower and the Secret Fan       2011.0   NaN\n",
       "5020                      The Ridges       2011.0   NaN"
      ]
     },
     "execution_count": 12,
     "metadata": {},
     "output_type": "execute_result"
    }
   ],
   "source": [
    "Ind=Data.color.isna()\n",
    "Data.loc[Ind, ['movie_title','title_year',  'color']].sort_values(by='title_year', ascending=True).head()"
   ]
  },
  {
   "cell_type": "markdown",
   "metadata": {},
   "source": [
    "We can assume that these movies are all in color since the earliest movie on this list is 1990. Thus,"
   ]
  },
  {
   "cell_type": "code",
   "execution_count": 13,
   "metadata": {},
   "outputs": [],
   "source": [
    "Data.color.fillna('Color', inplace=True)"
   ]
  },
  {
   "cell_type": "code",
   "execution_count": 14,
   "metadata": {},
   "outputs": [
    {
     "data": {
      "text/html": [
       "<div>\n",
       "<style scoped>\n",
       "    .dataframe tbody tr th:only-of-type {\n",
       "        vertical-align: middle;\n",
       "    }\n",
       "\n",
       "    .dataframe tbody tr th {\n",
       "        vertical-align: top;\n",
       "    }\n",
       "\n",
       "    .dataframe thead th {\n",
       "        text-align: right;\n",
       "    }\n",
       "</style>\n",
       "<table border=\"1\" class=\"dataframe\">\n",
       "  <thead>\n",
       "    <tr style=\"text-align: right;\">\n",
       "      <th></th>\n",
       "      <th>title_year</th>\n",
       "      <th>movie_title</th>\n",
       "      <th>color</th>\n",
       "    </tr>\n",
       "  </thead>\n",
       "  <tbody>\n",
       "    <tr>\n",
       "      <td>4846</td>\n",
       "      <td>1990.0</td>\n",
       "      <td>Midnight Cabaret</td>\n",
       "      <td>Color</td>\n",
       "    </tr>\n",
       "    <tr>\n",
       "      <td>2753</td>\n",
       "      <td>2009.0</td>\n",
       "      <td>Shinjuku Incident</td>\n",
       "      <td>Color</td>\n",
       "    </tr>\n",
       "    <tr>\n",
       "      <td>1948</td>\n",
       "      <td>2010.0</td>\n",
       "      <td>Dear John</td>\n",
       "      <td>Color</td>\n",
       "    </tr>\n",
       "    <tr>\n",
       "      <td>3638</td>\n",
       "      <td>2011.0</td>\n",
       "      <td>Snow Flower and the Secret Fan</td>\n",
       "      <td>Color</td>\n",
       "    </tr>\n",
       "    <tr>\n",
       "      <td>5020</td>\n",
       "      <td>2011.0</td>\n",
       "      <td>The Ridges</td>\n",
       "      <td>Color</td>\n",
       "    </tr>\n",
       "  </tbody>\n",
       "</table>\n",
       "</div>"
      ],
      "text/plain": [
       "      title_year                      movie_title  color\n",
       "4846      1990.0                Midnight Cabaret   Color\n",
       "2753      2009.0               Shinjuku Incident   Color\n",
       "1948      2010.0                       Dear John   Color\n",
       "3638      2011.0  Snow Flower and the Secret Fan   Color\n",
       "5020      2011.0                      The Ridges   Color"
      ]
     },
     "execution_count": 14,
     "metadata": {},
     "output_type": "execute_result"
    }
   ],
   "source": [
    "Data.loc[Ind, ['title_year', 'movie_title', 'color']].sort_values(by='title_year', ascending=True).head()"
   ]
  },
  {
   "cell_type": "markdown",
   "metadata": {},
   "source": [
    "### Column 'language'\n",
    "\n",
    "As for the `language`, we have,"
   ]
  },
  {
   "cell_type": "code",
   "execution_count": 15,
   "metadata": {},
   "outputs": [
    {
     "data": {
      "text/plain": [
       "array(['English', nan, 'Japanese', 'French', 'Mandarin', 'Aboriginal',\n",
       "       'Spanish', 'Filipino', 'Hindi', 'Russian', 'Maya', 'Kazakh',\n",
       "       'Telugu', 'Cantonese', 'German', 'Aramaic', 'Italian', 'Dutch',\n",
       "       'Dari', 'Hebrew', 'Chinese', 'Mongolian', 'Swedish', 'Korean',\n",
       "       'Thai', 'Bosnian', 'None', 'Hungarian', 'Portuguese', 'Icelandic',\n",
       "       'Danish', 'Arabic', 'Norwegian', 'Czech', 'Kannada', 'Zulu',\n",
       "       'Panjabi', 'Polish', 'Tamil', 'Dzongkha', 'Vietnamese',\n",
       "       'Indonesian', 'Urdu', 'Romanian', 'Persian', 'Slovenian', 'Greek',\n",
       "       'Swahili'], dtype=object)"
      ]
     },
     "execution_count": 15,
     "metadata": {},
     "output_type": "execute_result"
    }
   ],
   "source": [
    "Data.language.unique()"
   ]
  },
  {
   "cell_type": "markdown",
   "metadata": {},
   "source": [
    "We can see undesired values usch as *NaN* and *None*. First, let's deal with *None*. We have"
   ]
  },
  {
   "cell_type": "code",
   "execution_count": 16,
   "metadata": {},
   "outputs": [
    {
     "data": {
      "text/plain": [
       "2895    Canada\n",
       "3931       USA\n",
       "Name: country, dtype: object"
      ]
     },
     "execution_count": 16,
     "metadata": {},
     "output_type": "execute_result"
    }
   ],
   "source": [
    "Data.loc[Data.language == 'None', 'country']"
   ]
  },
  {
   "cell_type": "markdown",
   "metadata": {},
   "source": [
    "We can assume that these movies have been produced in English."
   ]
  },
  {
   "cell_type": "code",
   "execution_count": 17,
   "metadata": {},
   "outputs": [
    {
     "data": {
      "text/plain": [
       "4       NaN\n",
       "279     NaN\n",
       "3086    USA\n",
       "3539    USA\n",
       "3869    USA\n",
       "4110    USA\n",
       "4409    USA\n",
       "4630    USA\n",
       "4810    USA\n",
       "4885    USA\n",
       "4958    USA\n",
       "Name: country, dtype: object"
      ]
     },
     "execution_count": 17,
     "metadata": {},
     "output_type": "execute_result"
    }
   ],
   "source": [
    "Data.loc[Data.language.isna(), 'country']"
   ]
  },
  {
   "cell_type": "markdown",
   "metadata": {},
   "source": [
    "Since most movies are from the USA, we can assume that these movies have been produced in English. Therefore,"
   ]
  },
  {
   "cell_type": "code",
   "execution_count": 18,
   "metadata": {},
   "outputs": [],
   "source": [
    "Data.language.fillna('English', inplace=True)\n",
    "Data.language.replace('None', 'English', inplace=True)"
   ]
  },
  {
   "cell_type": "markdown",
   "metadata": {},
   "source": [
    "### Column 'duration'\n",
    "\n",
    "We can see that `duration` of some movies are missing."
   ]
  },
  {
   "cell_type": "code",
   "execution_count": 19,
   "metadata": {
    "scrolled": false
   },
   "outputs": [
    {
     "data": {
      "text/html": [
       "<div>\n",
       "<style scoped>\n",
       "    .dataframe tbody tr th:only-of-type {\n",
       "        vertical-align: middle;\n",
       "    }\n",
       "\n",
       "    .dataframe tbody tr th {\n",
       "        vertical-align: top;\n",
       "    }\n",
       "\n",
       "    .dataframe thead th {\n",
       "        text-align: right;\n",
       "    }\n",
       "</style>\n",
       "<table border=\"1\" class=\"dataframe\">\n",
       "  <thead>\n",
       "    <tr style=\"text-align: right;\">\n",
       "      <th></th>\n",
       "      <th>movie_title</th>\n",
       "      <th>duration</th>\n",
       "    </tr>\n",
       "  </thead>\n",
       "  <tbody>\n",
       "    <tr>\n",
       "      <td>4</td>\n",
       "      <td>Star Wars: Episode VII - The Force Awakens    ...</td>\n",
       "      <td>NaN</td>\n",
       "    </tr>\n",
       "    <tr>\n",
       "      <td>199</td>\n",
       "      <td>Harry Potter and the Deathly Hallows: Part II</td>\n",
       "      <td>NaN</td>\n",
       "    </tr>\n",
       "    <tr>\n",
       "      <td>206</td>\n",
       "      <td>Harry Potter and the Deathly Hallows: Part I</td>\n",
       "      <td>NaN</td>\n",
       "    </tr>\n",
       "    <tr>\n",
       "      <td>1510</td>\n",
       "      <td>Black Water Transit</td>\n",
       "      <td>NaN</td>\n",
       "    </tr>\n",
       "    <tr>\n",
       "      <td>3815</td>\n",
       "      <td>Should've Been Romeo</td>\n",
       "      <td>NaN</td>\n",
       "    </tr>\n",
       "  </tbody>\n",
       "</table>\n",
       "</div>"
      ],
      "text/plain": [
       "                                            movie_title  duration\n",
       "4     Star Wars: Episode VII - The Force Awakens    ...       NaN\n",
       "199      Harry Potter and the Deathly Hallows: Part II        NaN\n",
       "206       Harry Potter and the Deathly Hallows: Part I        NaN\n",
       "1510                               Black Water Transit        NaN\n",
       "3815                              Should've Been Romeo        NaN"
      ]
     },
     "execution_count": 19,
     "metadata": {},
     "output_type": "execute_result"
    }
   ],
   "source": [
    "Data.loc[Data.duration.isna(), ['movie_title','duration']].head()"
   ]
  },
  {
   "cell_type": "markdown",
   "metadata": {},
   "source": [
    "There is nothing can be done regarding these movies and we are going to simply drop them."
   ]
  },
  {
   "cell_type": "code",
   "execution_count": 20,
   "metadata": {},
   "outputs": [],
   "source": [
    "Data.drop(Data.loc[Data.duration.isna()].index, inplace=True)"
   ]
  },
  {
   "cell_type": "code",
   "execution_count": 21,
   "metadata": {},
   "outputs": [
    {
     "data": {
      "text/html": [
       "<div>\n",
       "<style scoped>\n",
       "    .dataframe tbody tr th:only-of-type {\n",
       "        vertical-align: middle;\n",
       "    }\n",
       "\n",
       "    .dataframe tbody tr th {\n",
       "        vertical-align: top;\n",
       "    }\n",
       "\n",
       "    .dataframe thead th {\n",
       "        text-align: right;\n",
       "    }\n",
       "</style>\n",
       "<table border=\"1\" class=\"dataframe\">\n",
       "  <thead>\n",
       "    <tr style=\"text-align: right;\">\n",
       "      <th></th>\n",
       "      <th>movie_title</th>\n",
       "      <th>title_yea</th>\n",
       "    </tr>\n",
       "  </thead>\n",
       "  <tbody>\n",
       "    <tr>\n",
       "      <td>279</td>\n",
       "      <td>10,000 B.C.</td>\n",
       "      <td>NaN</td>\n",
       "    </tr>\n",
       "    <tr>\n",
       "      <td>2765</td>\n",
       "      <td>Towering Inferno</td>\n",
       "      <td>NaN</td>\n",
       "    </tr>\n",
       "    <tr>\n",
       "      <td>2870</td>\n",
       "      <td>Del 1 - Män som hatar kvinnor</td>\n",
       "      <td>NaN</td>\n",
       "    </tr>\n",
       "  </tbody>\n",
       "</table>\n",
       "</div>"
      ],
      "text/plain": [
       "                                     movie_title  title_yea\n",
       "279                     10,000 B.C.                     NaN\n",
       "2765               Towering Inferno                     NaN\n",
       "2870  Del 1 - Män som hatar kvinnor                     NaN"
      ]
     },
     "execution_count": 21,
     "metadata": {},
     "output_type": "execute_result"
    }
   ],
   "source": [
    "Data.loc[Data.title_year.isna(), ['movie_title','title_yea']]"
   ]
  },
  {
   "cell_type": "markdown",
   "metadata": {},
   "source": [
    "Drop these data as well."
   ]
  },
  {
   "cell_type": "code",
   "execution_count": 22,
   "metadata": {},
   "outputs": [],
   "source": [
    "Data.drop(Data.loc[Data.title_year.isna()].index, inplace=True)"
   ]
  },
  {
   "cell_type": "markdown",
   "metadata": {},
   "source": [
    "### Column 'country'\n",
    "\n",
    "As for `country`, there is only one movie with the country name."
   ]
  },
  {
   "cell_type": "code",
   "execution_count": 23,
   "metadata": {
    "scrolled": true
   },
   "outputs": [
    {
     "data": {
      "text/html": [
       "<div>\n",
       "<style scoped>\n",
       "    .dataframe tbody tr th:only-of-type {\n",
       "        vertical-align: middle;\n",
       "    }\n",
       "\n",
       "    .dataframe tbody tr th {\n",
       "        vertical-align: top;\n",
       "    }\n",
       "\n",
       "    .dataframe thead th {\n",
       "        text-align: right;\n",
       "    }\n",
       "</style>\n",
       "<table border=\"1\" class=\"dataframe\">\n",
       "  <thead>\n",
       "    <tr style=\"text-align: right;\">\n",
       "      <th></th>\n",
       "      <th>movie_title</th>\n",
       "      <th>actor_1_name</th>\n",
       "      <th>actor_2_name</th>\n",
       "      <th>actor_3_name</th>\n",
       "      <th>director_name</th>\n",
       "      <th>country</th>\n",
       "    </tr>\n",
       "  </thead>\n",
       "  <tbody>\n",
       "    <tr>\n",
       "      <td>4021</td>\n",
       "      <td>Dawn Patrol</td>\n",
       "      <td>Chris Brochu</td>\n",
       "      <td>Jeff Fahey</td>\n",
       "      <td>Rita Wilson</td>\n",
       "      <td>Daniel Petrie Jr.</td>\n",
       "      <td>NaN</td>\n",
       "    </tr>\n",
       "  </tbody>\n",
       "</table>\n",
       "</div>"
      ],
      "text/plain": [
       "       movie_title  actor_1_name actor_2_name actor_3_name      director_name  \\\n",
       "4021  Dawn Patrol   Chris Brochu   Jeff Fahey  Rita Wilson  Daniel Petrie Jr.   \n",
       "\n",
       "     country  \n",
       "4021     NaN  "
      ]
     },
     "execution_count": 23,
     "metadata": {},
     "output_type": "execute_result"
    }
   ],
   "source": [
    "temp=Data.loc[Data.country.isna(),('movie_title','actor_1_name','actor_2_name','actor_3_name','director_name','country')]\n",
    "temp"
   ]
  },
  {
   "cell_type": "markdown",
   "metadata": {},
   "source": [
    "We can search the data for the actor's names and their other movies."
   ]
  },
  {
   "cell_type": "code",
   "execution_count": 24,
   "metadata": {},
   "outputs": [],
   "source": [
    "Data.loc[(Data.actor_1_name == temp.actor_1_name.values[0])|\n",
    "         (Data.actor_2_name == temp.actor_2_name.values[0])|\n",
    "         (Data.actor_3_name == temp.actor_3_name.values[0]),'country']\n",
    "del temp"
   ]
  },
  {
   "cell_type": "markdown",
   "metadata": {},
   "source": [
    "This movie is made in the USA and we can replace *NaN* with the USA."
   ]
  },
  {
   "cell_type": "code",
   "execution_count": 25,
   "metadata": {},
   "outputs": [],
   "source": [
    "Data.country.fillna('USA', inplace=True)"
   ]
  },
  {
   "cell_type": "markdown",
   "metadata": {},
   "source": [
    "### Column 'content_rating'\n",
    "\n",
    "For movie `ratings`, note that the ratings used since 1996 are [source](https://en.wikipedia.org/wiki/Motion_Picture_Association_of_America_film_rating_system)\n",
    "\n",
    "| Rated | Description |\n",
    "|-------|----------------------------------------------------------------------------------------|\n",
    "| G | General audiences – All ages admitted. |\n",
    "| PG | Parental guidance suggested – Some material may not be suitable for children. |\n",
    "| PG-13 | Parents strongly cautioned – Some material may be inappropriate for children under 13. |\n",
    "| R | Restricted – Under 17 requires accompanying parent or adult guardian. |\n",
    "| NC-17 | No one 17 and under admitted. |\n",
    "\n",
    "Thus, an standard list of ratings can be found as"
   ]
  },
  {
   "cell_type": "code",
   "execution_count": 26,
   "metadata": {},
   "outputs": [
    {
     "data": {
      "text/plain": [
       "array(['G', 'PG', 'PG-13', 'R', 'NC-17'], dtype=object)"
      ]
     },
     "execution_count": 26,
     "metadata": {},
     "output_type": "execute_result"
    }
   ],
   "source": [
    "Ratings_Standard = np.array(['G', 'PG', 'PG-13', 'R', 'NC-17'], dtype=object)\n",
    "Ratings_Standard "
   ]
  },
  {
   "cell_type": "markdown",
   "metadata": {},
   "source": [
    "However,"
   ]
  },
  {
   "cell_type": "code",
   "execution_count": 27,
   "metadata": {},
   "outputs": [
    {
     "data": {
      "text/plain": [
       "array(['PG-13', 'PG', 'G', 'R', nan, 'TV-14', 'Not Rated', 'Unrated',\n",
       "       'Approved', 'NC-17', 'X', 'GP', 'Passed', 'M', 'TV-G', 'TV-PG'],\n",
       "      dtype=object)"
      ]
     },
     "execution_count": 27,
     "metadata": {},
     "output_type": "execute_result"
    }
   ],
   "source": [
    "Data.content_rating.unique()"
   ]
  },
  {
   "cell_type": "markdown",
   "metadata": {},
   "source": [
    "We need to convert"
   ]
  },
  {
   "cell_type": "code",
   "execution_count": 28,
   "metadata": {},
   "outputs": [
    {
     "data": {
      "text/plain": [
       "[nan,\n",
       " 'Approved',\n",
       " 'TV-PG',\n",
       " 'Not Rated',\n",
       " 'X',\n",
       " 'TV-14',\n",
       " 'TV-G',\n",
       " 'GP',\n",
       " 'M',\n",
       " 'Passed',\n",
       " 'Unrated']"
      ]
     },
     "execution_count": 28,
     "metadata": {},
     "output_type": "execute_result"
    }
   ],
   "source": [
    "list(set(Data.content_rating.unique().tolist())-set(Ratings_Standard))"
   ]
  },
  {
   "cell_type": "markdown",
   "metadata": {},
   "source": [
    "To the standard form. We can convert these values using the following table.\n",
    "\n",
    "| Standard Format | Data Format |\n",
    "|-----------------|--------------------|\n",
    "| PG | G, TV-G, TV-PG, GP |\n",
    "| R | M |\n",
    "| Unrated | NaN,Not Rated |\n",
    "| Approved | Passed |\n",
    "| PG-13 | TV-14 |\n",
    "| NC-17 | X |"
   ]
  },
  {
   "cell_type": "code",
   "execution_count": 29,
   "metadata": {},
   "outputs": [],
   "source": [
    "Conversation_Map = {'PG':'PG', 'TV-G':'PG', 'GP':'PG','TV-PG':'PG',\n",
    "                    'PG-13':'PG-13','TV-14':'PG-13',\n",
    "                    'G':'PG', 'R':'R', 'M':'R',\n",
    "                    np.nan:'Unrated', 'Unrated':'Unrated', 'Not Rated':'Unrated',\n",
    "                    'Approved':'Approved', 'Passed':'Approved',\n",
    "                    'NC-17':'NC-17', 'X':'NC-17'}"
   ]
  },
  {
   "cell_type": "code",
   "execution_count": 30,
   "metadata": {},
   "outputs": [],
   "source": [
    "Data.content_rating = Data.content_rating.map(Conversation_Map)"
   ]
  },
  {
   "cell_type": "code",
   "execution_count": 31,
   "metadata": {},
   "outputs": [
    {
     "data": {
      "text/plain": [
       "array(['PG-13', 'PG', 'R', 'Unrated', 'Approved', 'NC-17'], dtype=object)"
      ]
     },
     "execution_count": 31,
     "metadata": {},
     "output_type": "execute_result"
    }
   ],
   "source": [
    "Data.content_rating.unique()"
   ]
  },
  {
   "cell_type": "markdown",
   "metadata": {},
   "source": [
    "Af for actors,"
   ]
  },
  {
   "cell_type": "code",
   "execution_count": 32,
   "metadata": {},
   "outputs": [],
   "source": [
    "Columns=list(Data.columns)\n",
    "# Actors Column List\n",
    "Actors_Column_List=list()\n",
    "for i in range(len(Columns)):\n",
    "    if (Columns[i].find('actor') != -1 & Columns[i].find('likes') == -1):\n",
    "        Actors_Column_List.append(Columns[i])"
   ]
  },
  {
   "cell_type": "code",
   "execution_count": 33,
   "metadata": {
    "scrolled": false
   },
   "outputs": [
    {
     "data": {
      "text/html": [
       "<div>\n",
       "<style scoped>\n",
       "    .dataframe tbody tr th:only-of-type {\n",
       "        vertical-align: middle;\n",
       "    }\n",
       "\n",
       "    .dataframe tbody tr th {\n",
       "        vertical-align: top;\n",
       "    }\n",
       "\n",
       "    .dataframe thead th {\n",
       "        text-align: right;\n",
       "    }\n",
       "</style>\n",
       "<table border=\"1\" class=\"dataframe\">\n",
       "  <thead>\n",
       "    <tr style=\"text-align: right;\">\n",
       "      <th></th>\n",
       "      <th>actor_1_name</th>\n",
       "      <th>actor_2_name</th>\n",
       "      <th>actor_3_name</th>\n",
       "    </tr>\n",
       "  </thead>\n",
       "  <tbody>\n",
       "    <tr>\n",
       "      <td>4502</td>\n",
       "      <td>NaN</td>\n",
       "      <td>NaN</td>\n",
       "      <td>NaN</td>\n",
       "    </tr>\n",
       "    <tr>\n",
       "      <td>4519</td>\n",
       "      <td>NaN</td>\n",
       "      <td>NaN</td>\n",
       "      <td>NaN</td>\n",
       "    </tr>\n",
       "    <tr>\n",
       "      <td>4720</td>\n",
       "      <td>NaN</td>\n",
       "      <td>NaN</td>\n",
       "      <td>NaN</td>\n",
       "    </tr>\n",
       "    <tr>\n",
       "      <td>4837</td>\n",
       "      <td>NaN</td>\n",
       "      <td>NaN</td>\n",
       "      <td>NaN</td>\n",
       "    </tr>\n",
       "    <tr>\n",
       "      <td>4945</td>\n",
       "      <td>NaN</td>\n",
       "      <td>NaN</td>\n",
       "      <td>NaN</td>\n",
       "    </tr>\n",
       "    <tr>\n",
       "      <td>4946</td>\n",
       "      <td>NaN</td>\n",
       "      <td>NaN</td>\n",
       "      <td>NaN</td>\n",
       "    </tr>\n",
       "    <tr>\n",
       "      <td>4990</td>\n",
       "      <td>NaN</td>\n",
       "      <td>NaN</td>\n",
       "      <td>NaN</td>\n",
       "    </tr>\n",
       "  </tbody>\n",
       "</table>\n",
       "</div>"
      ],
      "text/plain": [
       "     actor_1_name actor_2_name actor_3_name\n",
       "4502          NaN          NaN          NaN\n",
       "4519          NaN          NaN          NaN\n",
       "4720          NaN          NaN          NaN\n",
       "4837          NaN          NaN          NaN\n",
       "4945          NaN          NaN          NaN\n",
       "4946          NaN          NaN          NaN\n",
       "4990          NaN          NaN          NaN"
      ]
     },
     "execution_count": 33,
     "metadata": {},
     "output_type": "execute_result"
    }
   ],
   "source": [
    "Data.loc[Data.actor_1_name.isna(), Actors_Column_List]"
   ]
  },
  {
   "cell_type": "markdown",
   "metadata": {},
   "source": [
    "Replacing these values with `'None'`."
   ]
  },
  {
   "cell_type": "code",
   "execution_count": 34,
   "metadata": {},
   "outputs": [],
   "source": [
    "Data.actor_1_name.fillna('None', inplace=True)\n",
    "Data.actor_2_name.fillna('None', inplace=True)\n",
    "Data.actor_3_name.fillna('None', inplace=True)"
   ]
  },
  {
   "cell_type": "markdown",
   "metadata": {},
   "source": [
    "### Columns contain 'likes'\n",
    "\n",
    "* Movie Facebook Likes,\n",
    "* Director Facebook Likes,\n",
    "* Actor 1 Facebook Likes, \n",
    "* Actor 2 Facebook Likes.\n",
    "* Actor 3 Facebook Likes,\n",
    "* Cast Total Facebook Likes,\n"
   ]
  },
  {
   "cell_type": "code",
   "execution_count": 35,
   "metadata": {},
   "outputs": [],
   "source": [
    "Columns=list(Data.columns)\n",
    "# Likes List\n",
    "Likes_List=list()\n",
    "# Reviews List\n",
    "Reviews_List=list()\n",
    "\n",
    "for i in range(len(Columns)):\n",
    "    if Columns[i].find('likes') != -1:\n",
    "        Likes_List.append(Columns[i])\n",
    "    if Columns[i].find('review') != -1:\n",
    "        Reviews_List.append(Columns[i])\n",
    "    if Columns[i].find('score') != -1:\n",
    "        Reviews_List.append(Columns[i])\n",
    "    if Columns[i].find('vote') != -1:\n",
    "        Reviews_List.append(Columns[i])"
   ]
  },
  {
   "cell_type": "code",
   "execution_count": 36,
   "metadata": {
    "scrolled": true
   },
   "outputs": [
    {
     "data": {
      "text/html": [
       "<div>\n",
       "<style scoped>\n",
       "    .dataframe tbody tr th:only-of-type {\n",
       "        vertical-align: middle;\n",
       "    }\n",
       "\n",
       "    .dataframe tbody tr th {\n",
       "        vertical-align: top;\n",
       "    }\n",
       "\n",
       "    .dataframe thead th {\n",
       "        text-align: right;\n",
       "    }\n",
       "</style>\n",
       "<table border=\"1\" class=\"dataframe\">\n",
       "  <thead>\n",
       "    <tr style=\"text-align: right;\">\n",
       "      <th></th>\n",
       "      <th>Number of NaN</th>\n",
       "    </tr>\n",
       "  </thead>\n",
       "  <tbody>\n",
       "    <tr>\n",
       "      <td>actor_1_facebook_likes</td>\n",
       "      <td>7</td>\n",
       "    </tr>\n",
       "    <tr>\n",
       "      <td>actor_2_facebook_likes</td>\n",
       "      <td>10</td>\n",
       "    </tr>\n",
       "    <tr>\n",
       "      <td>actor_3_facebook_likes</td>\n",
       "      <td>17</td>\n",
       "    </tr>\n",
       "    <tr>\n",
       "      <td>cast_total_facebook_likes</td>\n",
       "      <td>0</td>\n",
       "    </tr>\n",
       "    <tr>\n",
       "      <td>director_facebook_likes</td>\n",
       "      <td>0</td>\n",
       "    </tr>\n",
       "    <tr>\n",
       "      <td>movie_facebook_likes</td>\n",
       "      <td>0</td>\n",
       "    </tr>\n",
       "  </tbody>\n",
       "</table>\n",
       "</div>"
      ],
      "text/plain": [
       "                           Number of NaN\n",
       "actor_1_facebook_likes                 7\n",
       "actor_2_facebook_likes                10\n",
       "actor_3_facebook_likes                17\n",
       "cast_total_facebook_likes              0\n",
       "director_facebook_likes                0\n",
       "movie_facebook_likes                   0"
      ]
     },
     "execution_count": 36,
     "metadata": {},
     "output_type": "execute_result"
    }
   ],
   "source": [
    "pd.DataFrame(Data[Likes_List].isna().sum(), columns=['Number of NaN'])"
   ]
  },
  {
   "cell_type": "markdown",
   "metadata": {},
   "source": [
    "We can replace them with zero."
   ]
  },
  {
   "cell_type": "code",
   "execution_count": 37,
   "metadata": {},
   "outputs": [],
   "source": [
    "for i in Likes_List:\n",
    "    Data.loc[:, i].fillna(0, inplace=True)\n",
    "    \n",
    "for i in Reviews_List:\n",
    "    Data.loc[:, i].fillna(0, inplace=True)\n",
    "\n",
    "del i"
   ]
  },
  {
   "cell_type": "code",
   "execution_count": 38,
   "metadata": {
    "scrolled": false
   },
   "outputs": [
    {
     "data": {
      "text/plain": [
       "<matplotlib.axes._subplots.AxesSubplot at 0x202fa297ba8>"
      ]
     },
     "execution_count": 38,
     "metadata": {},
     "output_type": "execute_result"
    },
    {
     "data": {
      "image/png": "[encoded data removed]",
      "text/plain": [
       "<Figure size 1152x432 with 3 Axes>"
      ]
     },
     "metadata": {
      "needs_background": "light"
     },
     "output_type": "display_data"
    }
   ],
   "source": [
    "msno.bar(Data,  figsize=(16,6), fontsize=14, log=False, color=\"purple\")"
   ]
  },
  {
   "cell_type": "markdown",
   "metadata": {},
   "source": [
    "### Column 'Gross'\n",
    "\n",
    "First, let's look at the correlation plot for our data."
   ]
  },
  {
   "cell_type": "code",
   "execution_count": 49,
   "metadata": {
    "scrolled": false
   },
   "outputs": [
    {
     "data": {
      "image/png": "[encoded data removed]",
      "text/plain": [
       "<Figure size 864x864 with 2 Axes>"
      ]
     },
     "metadata": {
      "needs_background": "light"
     },
     "output_type": "display_data"
    }
   ],
   "source": [
    "Correlation_Matrix = Data.corr()\n",
    "mask = np.zeros_like(Correlation_Matrix)\n",
    "mask[np.triu_indices_from(mask)] = True\n",
    "for i in range(len(mask)):\n",
    "    mask[i,i]=0\n",
    "plt.subplots(figsize=(12,12))\n",
    "sns.heatmap(Correlation_Matrix, mask=mask, annot=True, square=True, \n",
    "            cmap =\"RdYlGn\", linewidths = 0.2, vmin=0, vmax=1)\n",
    "del mask"
   ]
  },
  {
   "cell_type": "code",
   "execution_count": 40,
   "metadata": {
    "scrolled": true
   },
   "outputs": [
    {
     "data": {
      "text/plain": [
       "['num_user_for_reviews', 'num_voted_users']"
      ]
     },
     "execution_count": 40,
     "metadata": {},
     "output_type": "execute_result"
    }
   ],
   "source": [
    "gross_most_corr_list=list(Correlation_Matrix.gross[Correlation_Matrix.gross > 0.5].index)\n",
    "gross_most_corr_list.remove('gross')\n",
    "gross_most_corr_list"
   ]
  },
  {
   "cell_type": "markdown",
   "metadata": {},
   "source": [
    "It can be seen that `'num_user_for_reviews'` and `'num_voted_users'` are highly correlated with `'gross'`."
   ]
  },
  {
   "cell_type": "code",
   "execution_count": 41,
   "metadata": {
    "scrolled": true
   },
   "outputs": [
    {
     "data": {
      "text/html": [
       "<div>\n",
       "<style scoped>\n",
       "    .dataframe tbody tr th:only-of-type {\n",
       "        vertical-align: middle;\n",
       "    }\n",
       "\n",
       "    .dataframe tbody tr th {\n",
       "        vertical-align: top;\n",
       "    }\n",
       "\n",
       "    .dataframe thead th {\n",
       "        text-align: right;\n",
       "    }\n",
       "</style>\n",
       "<table border=\"1\" class=\"dataframe\">\n",
       "  <thead>\n",
       "    <tr style=\"text-align: right;\">\n",
       "      <th></th>\n",
       "      <th>movie_title</th>\n",
       "      <th>gross</th>\n",
       "    </tr>\n",
       "  </thead>\n",
       "  <tbody>\n",
       "    <tr>\n",
       "      <td>84</td>\n",
       "      <td>The Lovers</td>\n",
       "      <td>NaN</td>\n",
       "    </tr>\n",
       "    <tr>\n",
       "      <td>98</td>\n",
       "      <td>Godzilla Resurgence</td>\n",
       "      <td>NaN</td>\n",
       "    </tr>\n",
       "    <tr>\n",
       "      <td>242</td>\n",
       "      <td>Asterix at the Olympic Games</td>\n",
       "      <td>NaN</td>\n",
       "    </tr>\n",
       "    <tr>\n",
       "      <td>367</td>\n",
       "      <td>Ben-Hur</td>\n",
       "      <td>NaN</td>\n",
       "    </tr>\n",
       "    <tr>\n",
       "      <td>422</td>\n",
       "      <td>All That Jazz</td>\n",
       "      <td>NaN</td>\n",
       "    </tr>\n",
       "    <tr>\n",
       "      <td>...</td>\n",
       "      <td>...</td>\n",
       "      <td>...</td>\n",
       "    </tr>\n",
       "    <tr>\n",
       "      <td>5031</td>\n",
       "      <td>Sanctuary; Quite a Conundrum</td>\n",
       "      <td>NaN</td>\n",
       "    </tr>\n",
       "    <tr>\n",
       "      <td>5032</td>\n",
       "      <td>Bang</td>\n",
       "      <td>NaN</td>\n",
       "    </tr>\n",
       "    <tr>\n",
       "      <td>5036</td>\n",
       "      <td>The Mongol King</td>\n",
       "      <td>NaN</td>\n",
       "    </tr>\n",
       "    <tr>\n",
       "      <td>5038</td>\n",
       "      <td>Signed Sealed Delivered</td>\n",
       "      <td>NaN</td>\n",
       "    </tr>\n",
       "    <tr>\n",
       "      <td>5040</td>\n",
       "      <td>A Plague So Pleasant</td>\n",
       "      <td>NaN</td>\n",
       "    </tr>\n",
       "  </tbody>\n",
       "</table>\n",
       "<p>749 rows × 2 columns</p>\n",
       "</div>"
      ],
      "text/plain": [
       "                        movie_title  gross\n",
       "84                      The Lovers     NaN\n",
       "98             Godzilla Resurgence     NaN\n",
       "242   Asterix at the Olympic Games     NaN\n",
       "367                        Ben-Hur     NaN\n",
       "422                  All That Jazz     NaN\n",
       "...                             ...    ...\n",
       "5031  Sanctuary; Quite a Conundrum     NaN\n",
       "5032                          Bang     NaN\n",
       "5036               The Mongol King     NaN\n",
       "5038       Signed Sealed Delivered     NaN\n",
       "5040          A Plague So Pleasant     NaN\n",
       "\n",
       "[749 rows x 2 columns]"
      ]
     },
     "execution_count": 41,
     "metadata": {},
     "output_type": "execute_result"
    }
   ],
   "source": [
    "gross_null = Data[Data['gross' ].isnull()]\n",
    "gross_null[['movie_title', 'gross']]"
   ]
  },
  {
   "cell_type": "markdown",
   "metadata": {},
   "source": [
    "and"
   ]
  },
  {
   "cell_type": "code",
   "execution_count": 42,
   "metadata": {},
   "outputs": [
    {
     "data": {
      "text/html": [
       "<div>\n",
       "<style scoped>\n",
       "    .dataframe tbody tr th:only-of-type {\n",
       "        vertical-align: middle;\n",
       "    }\n",
       "\n",
       "    .dataframe tbody tr th {\n",
       "        vertical-align: top;\n",
       "    }\n",
       "\n",
       "    .dataframe thead th {\n",
       "        text-align: right;\n",
       "    }\n",
       "</style>\n",
       "<table border=\"1\" class=\"dataframe\">\n",
       "  <thead>\n",
       "    <tr style=\"text-align: right;\">\n",
       "      <th></th>\n",
       "      <th>movie_title</th>\n",
       "      <th>gross</th>\n",
       "    </tr>\n",
       "  </thead>\n",
       "  <tbody>\n",
       "    <tr>\n",
       "      <td>0</td>\n",
       "      <td>Avatar</td>\n",
       "      <td>760505847.0</td>\n",
       "    </tr>\n",
       "    <tr>\n",
       "      <td>1</td>\n",
       "      <td>Pirates of the Caribbean: At World's End</td>\n",
       "      <td>309404152.0</td>\n",
       "    </tr>\n",
       "    <tr>\n",
       "      <td>2</td>\n",
       "      <td>Spectre</td>\n",
       "      <td>200074175.0</td>\n",
       "    </tr>\n",
       "    <tr>\n",
       "      <td>3</td>\n",
       "      <td>The Dark Knight Rises</td>\n",
       "      <td>448130642.0</td>\n",
       "    </tr>\n",
       "    <tr>\n",
       "      <td>5</td>\n",
       "      <td>John Carter</td>\n",
       "      <td>73058679.0</td>\n",
       "    </tr>\n",
       "    <tr>\n",
       "      <td>...</td>\n",
       "      <td>...</td>\n",
       "      <td>...</td>\n",
       "    </tr>\n",
       "    <tr>\n",
       "      <td>5034</td>\n",
       "      <td>Cavite</td>\n",
       "      <td>70071.0</td>\n",
       "    </tr>\n",
       "    <tr>\n",
       "      <td>5035</td>\n",
       "      <td>El Mariachi</td>\n",
       "      <td>2040920.0</td>\n",
       "    </tr>\n",
       "    <tr>\n",
       "      <td>5037</td>\n",
       "      <td>Newlyweds</td>\n",
       "      <td>4584.0</td>\n",
       "    </tr>\n",
       "    <tr>\n",
       "      <td>5041</td>\n",
       "      <td>Shanghai Calling</td>\n",
       "      <td>10443.0</td>\n",
       "    </tr>\n",
       "    <tr>\n",
       "      <td>5042</td>\n",
       "      <td>My Date with Drew</td>\n",
       "      <td>85222.0</td>\n",
       "    </tr>\n",
       "  </tbody>\n",
       "</table>\n",
       "<p>4050 rows × 2 columns</p>\n",
       "</div>"
      ],
      "text/plain": [
       "                                    movie_title        gross\n",
       "0                                       Avatar   760505847.0\n",
       "1     Pirates of the Caribbean: At World's End   309404152.0\n",
       "2                                      Spectre   200074175.0\n",
       "3                        The Dark Knight Rises   448130642.0\n",
       "5                                  John Carter    73058679.0\n",
       "...                                         ...          ...\n",
       "5034                                    Cavite       70071.0\n",
       "5035                               El Mariachi     2040920.0\n",
       "5037                                 Newlyweds        4584.0\n",
       "5041                          Shanghai Calling       10443.0\n",
       "5042                         My Date with Drew       85222.0\n",
       "\n",
       "[4050 rows x 2 columns]"
      ]
     },
     "execution_count": 42,
     "metadata": {},
     "output_type": "execute_result"
    }
   ],
   "source": [
    "gross_no_null = Data[~Data['gross' ].isnull()]\n",
    "gross_no_null[['movie_title', 'gross']]"
   ]
  },
  {
   "cell_type": "code",
   "execution_count": 43,
   "metadata": {},
   "outputs": [
    {
     "name": "stdout",
     "output_type": "stream",
     "text": [
      "It can be seen that 749 entries of the gross column has NaN value.\n"
     ]
    }
   ],
   "source": [
    "print('It can be seen that %i entries of the gross column has NaN value.' % len(gross_null))"
   ]
  },
  {
   "cell_type": "markdown",
   "metadata": {},
   "source": [
    "Let's do a further test."
   ]
  },
  {
   "cell_type": "code",
   "execution_count": 44,
   "metadata": {},
   "outputs": [],
   "source": [
    "X = gross_no_null.loc[:, gross_most_corr_list]\n",
    "Y = gross_no_null.gross"
   ]
  },
  {
   "cell_type": "code",
   "execution_count": 45,
   "metadata": {
    "scrolled": true
   },
   "outputs": [
    {
     "name": "stdout",
     "output_type": "stream",
     "text": [
      "Variance : 0.429\n"
     ]
    }
   ],
   "source": [
    "# Resampling Methods\n",
    "X_train, X_test, Y_train, Y_test = train_test_split(X, Y, test_size=0.4)\n",
    "# Linear Regression\n",
    "reg = LinearRegression()\n",
    "reg.fit(X_train, Y_train)\n",
    "# prediction\n",
    "Y_pred = reg.predict(X_test)\n",
    "error = mean_absolute_error(Y_test, Y_pred)\n",
    "print(\"Variance : \" + str(round(r2_score(Y_test, Y_pred), 3)))"
   ]
  },
  {
   "cell_type": "markdown",
   "metadata": {},
   "source": [
    "Using the predicated values for gross instead of *Nan* values."
   ]
  },
  {
   "cell_type": "code",
   "execution_count": 46,
   "metadata": {},
   "outputs": [],
   "source": [
    "Data.loc[Data.gross.isna(), 'gross'] = reg.predict(Data.loc[Data.gross.isna(), gross_most_corr_list])"
   ]
  },
  {
   "cell_type": "code",
   "execution_count": 47,
   "metadata": {},
   "outputs": [
    {
     "data": {
      "text/plain": [
       "<matplotlib.axes._subplots.AxesSubplot at 0x202fa837d68>"
      ]
     },
     "execution_count": 47,
     "metadata": {},
     "output_type": "execute_result"
    },
    {
     "data": {
      "image/png": "[encoded data removed]",
      "text/plain": [
       "<Figure size 1152x432 with 3 Axes>"
      ]
     },
     "metadata": {
      "needs_background": "light"
     },
     "output_type": "display_data"
    }
   ],
   "source": [
    "msno.bar(Data,  figsize=(16,6), fontsize=14, log=False, color=\"purple\")"
   ]
  },
  {
   "cell_type": "markdown",
   "metadata": {},
   "source": [
    "### 4. Saving CSV file"
   ]
  },
  {
   "cell_type": "code",
   "execution_count": 48,
   "metadata": {},
   "outputs": [],
   "source": [
    "# Save as CSV\n",
    "Data.to_csv('Data/clean_movie_metadata.csv', index=False)\n",
    "# Save as MS Excel\n",
    "Data.to_excel('Data/clean_movie_metadata.xlsx', index=False)"
   ]
  }
 ],
 "metadata": {
  "kernelspec": {
   "display_name": "Python 3",
   "language": "python",
   "name": "python3"
  },
  "language_info": {
   "codemirror_mode": {
    "name": "ipython",
    "version": 3
   },
   "file_extension": ".py",
   "mimetype": "text/x-python",
   "name": "python",
   "nbconvert_exporter": "python",
   "pygments_lexer": "ipython3",
   "version": "3.7.1"
  }
 },
 "nbformat": 4,
 "nbformat_minor": 2
}
