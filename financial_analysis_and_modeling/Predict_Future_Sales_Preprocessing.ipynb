{
 "cells": [
  {
   "cell_type": "code",
   "execution_count": 1,
   "metadata": {},
   "outputs": [],
   "source": [
    "# Computations\n",
    "import numpy as np\n",
    "import pandas as pd\n",
    "\n",
    "# Tools\n",
    "import os\n",
    "import datetime\n",
    "import itertools\n",
    "from googletrans import Translator\n",
    "from langdetect import detect\n",
    "\n",
    "# Sklearn\n",
    "from sklearn.impute import SimpleImputer\n",
    "\n",
    "# Visualisation libraries\n",
    "\n",
    "## progressbar\n",
    "import progressbar\n",
    "\n",
    "## Text\n",
    "from colorama import Fore, Back, Style\n",
    "from IPython.display import Image, display, Markdown, Latex, clear_output\n",
    "\n",
    "## seaborn\n",
    "import seaborn as sns\n",
    "sns.set_style(\"whitegrid\")\n",
    "sns.set_context(\"paper\", rc={\"font.size\":12,\"axes.titlesize\":14,\"axes.labelsize\":12})\n",
    "\n",
    "## matplotlib\n",
    "import matplotlib.pyplot as plt\n",
    "from matplotlib.font_manager import FontProperties\n",
    "import matplotlib.colors as mcolors\n",
    "from matplotlib.patches import Ellipse, Polygon\n",
    "import matplotlib.gridspec as gridspec\n",
    "from pylab import rcParams\n",
    "plt.style.use('seaborn-whitegrid')\n",
    "import matplotlib as mpl\n",
    "mpl.rcParams['figure.figsize'] = (17, 6)\n",
    "mpl.rcParams['axes.labelsize'] = 14\n",
    "mpl.rcParams['xtick.labelsize'] = 12\n",
    "mpl.rcParams['ytick.labelsize'] = 12\n",
    "mpl.rcParams['text.color'] = 'k'\n",
    "%matplotlib inline\n",
    "\n",
    "import warnings\n",
    "warnings.filterwarnings(\"ignore\")"
   ]
  },
  {
   "cell_type": "markdown",
   "metadata": {},
   "source": [
    "<div class=\"alert alert-block alert-success\">\n",
    "<a href=\"https://hatefdastour.github.io/\">Home</a> / \n",
    "<a href=\"https://hatefdastour.github.io/portfolio/financial_analysis_and_modeling/\">Financial Analysis and Modeling</a>\n",
    "</div>\n",
    "\n",
    "## Predict Future Sales\n",
    "\n",
    "* [<font color='Green'><b>Preprocessing</b></font>](https://hatefdastour.github.io/portfolio/financial_analysis_and_modeling/Predict_Future_Sales_Preprocessing.html)\n",
    "* [**Exploratory Data Analysis**](https://hatefdastour.github.io/portfolio/financial_analysis_and_modeling/Predict_Future_Sales_EDA.html)\n",
    "* [**Modeling: CatBoost Regressor**](https://hatefdastour.github.io/portfolio/financial_analysis_and_modeling/Predict_Future_Sales_Modeling_CatBoostReg.html)\n",
    "\n",
    "<div class=\"alert alert-block alert-info\">\n",
    "<font size=\"+2.5\"><b>\n",
    "Predict Future Sales\n",
    "</b></font>\n",
    "</div>\n",
    "\n",
    "In this article, we work with the [Predict Future Sales](https://www.kaggle.com/c/competitive-data-science-predict-future-sales/overview) provided by one of the largest Russian software firms - [1C Company](http://1c.ru/eng/title.htm). \n",
    "\n",
    "\n",
    "## Data Description\n",
    "\n",
    "You are provided with daily historical sales data. The task is to forecast the total amount of products sold in every shop for the test set. Note that the list of shops and products slightly changes every month. Creating a robust model that can handle such situations is part of the challenge.\n",
    "\n",
    "## File descriptions\n",
    "sales_train.csv - the training set. Daily historical data from January 2013 to October 2015.\n",
    "test.csv - the test set. You need to forecast the sales for these shops and products for November 2015.\n",
    "sample_submission.csv - a sample submission file in the correct format.\n",
    "items.csv - supplemental information about the items/products.\n",
    "item_categories.csv  - supplemental information about the items categories.\n",
    "shops.csv- supplemental information about the shops.\n",
    "\n",
    "## Data fields\n",
    "\n",
    "| Feature            | Description                                                                                                     |\n",
    "|--------------------|-----------------------------------------------------------------------------------------------------------------|\n",
    "| ID                 | An Id that represents a (Shop, Item) tuple within the test set                                                  |\n",
    "| shop_id            | Unique identifier of a shop                                                                                     |\n",
    "| item_id            | Unique identifier of a product                                                                                  |\n",
    "| item_category_id   | Unique identifier of item category                                                                              |\n",
    "| item_cnt_day       | The number of products sold. You are predicting a monthly amount of this measure                                |\n",
    "| item_price         | Current price of an item                                                                                        |\n",
    "| date               | Date in format dd/mm/yyyy                                                                                       |\n",
    "| date_block_num     | A consecutive month number, used for convenience. January 2013 is 0, february 2013 is 1,..., October 2015 is 33 |\n",
    "| item_name          | The name of item                                                                                                |\n",
    "| shop_name          | The name of shop                                                                                                |\n",
    "| item_category_name | The name of item category                                                                                       |"
   ]
  },
  {
   "cell_type": "code",
   "execution_count": 2,
   "metadata": {
    "scrolled": false
   },
   "outputs": [
    {
     "name": "stdout",
     "output_type": "stream",
     "text": [
      "\u001b[44m\u001b[37m\u001b[22mitem_categories.csv\u001b[0m \u001b[34m\u001b[22m================================================================================\u001b[0m\n"
     ]
    },
    {
     "data": {
      "text/html": [
       "<div>\n",
       "<style scoped>\n",
       "    .dataframe tbody tr th:only-of-type {\n",
       "        vertical-align: middle;\n",
       "    }\n",
       "\n",
       "    .dataframe tbody tr th {\n",
       "        vertical-align: top;\n",
       "    }\n",
       "\n",
       "    .dataframe thead th {\n",
       "        text-align: right;\n",
       "    }\n",
       "</style>\n",
       "<table border=\"1\" class=\"dataframe\">\n",
       "  <thead>\n",
       "    <tr style=\"text-align: right;\">\n",
       "      <th></th>\n",
       "      <th>item_category_name</th>\n",
       "      <th>item_category_id</th>\n",
       "    </tr>\n",
       "  </thead>\n",
       "  <tbody>\n",
       "    <tr>\n",
       "      <th>0</th>\n",
       "      <td>PC - Гарнитуры/Наушники</td>\n",
       "      <td>0</td>\n",
       "    </tr>\n",
       "    <tr>\n",
       "      <th>1</th>\n",
       "      <td>Аксессуары - PS2</td>\n",
       "      <td>1</td>\n",
       "    </tr>\n",
       "    <tr>\n",
       "      <th>2</th>\n",
       "      <td>Аксессуары - PS3</td>\n",
       "      <td>2</td>\n",
       "    </tr>\n",
       "    <tr>\n",
       "      <th>3</th>\n",
       "      <td>Аксессуары - PS4</td>\n",
       "      <td>3</td>\n",
       "    </tr>\n",
       "    <tr>\n",
       "      <th>4</th>\n",
       "      <td>Аксессуары - PSP</td>\n",
       "      <td>4</td>\n",
       "    </tr>\n",
       "  </tbody>\n",
       "</table>\n",
       "</div>"
      ],
      "text/plain": [
       "        item_category_name  item_category_id\n",
       "0  PC - Гарнитуры/Наушники                 0\n",
       "1         Аксессуары - PS2                 1\n",
       "2         Аксессуары - PS3                 2\n",
       "3         Аксессуары - PS4                 3\n",
       "4         Аксессуары - PSP                 4"
      ]
     },
     "metadata": {},
     "output_type": "display_data"
    },
    {
     "name": "stdout",
     "output_type": "stream",
     "text": [
      "\u001b[44m\u001b[37m\u001b[22mitem_categories_mod.csv\u001b[0m \u001b[34m\u001b[22m============================================================================\u001b[0m\n"
     ]
    },
    {
     "data": {
      "text/html": [
       "<div>\n",
       "<style scoped>\n",
       "    .dataframe tbody tr th:only-of-type {\n",
       "        vertical-align: middle;\n",
       "    }\n",
       "\n",
       "    .dataframe tbody tr th {\n",
       "        vertical-align: top;\n",
       "    }\n",
       "\n",
       "    .dataframe thead th {\n",
       "        text-align: right;\n",
       "    }\n",
       "</style>\n",
       "<table border=\"1\" class=\"dataframe\">\n",
       "  <thead>\n",
       "    <tr style=\"text-align: right;\">\n",
       "      <th></th>\n",
       "      <th>Item Category Full</th>\n",
       "      <th>Item Category Full ID</th>\n",
       "      <th>Item Category</th>\n",
       "      <th>Item Category ID</th>\n",
       "      <th>Item Subcategory</th>\n",
       "      <th>Item Subcategory ID</th>\n",
       "    </tr>\n",
       "  </thead>\n",
       "  <tbody>\n",
       "    <tr>\n",
       "      <th>0</th>\n",
       "      <td>PC - Headsets / Headphones</td>\n",
       "      <td>0</td>\n",
       "      <td>PC</td>\n",
       "      <td>0</td>\n",
       "      <td>Headsets / Headphones</td>\n",
       "      <td>0</td>\n",
       "    </tr>\n",
       "    <tr>\n",
       "      <th>1</th>\n",
       "      <td>Accessories - PS2</td>\n",
       "      <td>1</td>\n",
       "      <td>Accessories</td>\n",
       "      <td>1</td>\n",
       "      <td>PS2</td>\n",
       "      <td>1</td>\n",
       "    </tr>\n",
       "    <tr>\n",
       "      <th>2</th>\n",
       "      <td>Accessories - PS3</td>\n",
       "      <td>2</td>\n",
       "      <td>Accessories</td>\n",
       "      <td>1</td>\n",
       "      <td>PS3</td>\n",
       "      <td>2</td>\n",
       "    </tr>\n",
       "    <tr>\n",
       "      <th>3</th>\n",
       "      <td>Accessories - PS4</td>\n",
       "      <td>3</td>\n",
       "      <td>Accessories</td>\n",
       "      <td>1</td>\n",
       "      <td>PS4</td>\n",
       "      <td>3</td>\n",
       "    </tr>\n",
       "    <tr>\n",
       "      <th>4</th>\n",
       "      <td>Accessories - PSP</td>\n",
       "      <td>4</td>\n",
       "      <td>Accessories</td>\n",
       "      <td>1</td>\n",
       "      <td>PSP</td>\n",
       "      <td>4</td>\n",
       "    </tr>\n",
       "  </tbody>\n",
       "</table>\n",
       "</div>"
      ],
      "text/plain": [
       "           Item Category Full  Item Category Full ID Item Category  \\\n",
       "0  PC - Headsets / Headphones                      0            PC   \n",
       "1           Accessories - PS2                      1   Accessories   \n",
       "2           Accessories - PS3                      2   Accessories   \n",
       "3           Accessories - PS4                      3   Accessories   \n",
       "4           Accessories - PSP                      4   Accessories   \n",
       "\n",
       "   Item Category ID       Item Subcategory  Item Subcategory ID  \n",
       "0                 0  Headsets / Headphones                    0  \n",
       "1                 1                    PS2                    1  \n",
       "2                 1                    PS3                    2  \n",
       "3                 1                    PS4                    3  \n",
       "4                 1                    PSP                    4  "
      ]
     },
     "metadata": {},
     "output_type": "display_data"
    },
    {
     "name": "stdout",
     "output_type": "stream",
     "text": [
      "\u001b[44m\u001b[37m\u001b[22mitems.csv\u001b[0m \u001b[34m\u001b[22m==========================================================================================\u001b[0m\n"
     ]
    },
    {
     "data": {
      "text/html": [
       "<div>\n",
       "<style scoped>\n",
       "    .dataframe tbody tr th:only-of-type {\n",
       "        vertical-align: middle;\n",
       "    }\n",
       "\n",
       "    .dataframe tbody tr th {\n",
       "        vertical-align: top;\n",
       "    }\n",
       "\n",
       "    .dataframe thead th {\n",
       "        text-align: right;\n",
       "    }\n",
       "</style>\n",
       "<table border=\"1\" class=\"dataframe\">\n",
       "  <thead>\n",
       "    <tr style=\"text-align: right;\">\n",
       "      <th></th>\n",
       "      <th>item_name</th>\n",
       "      <th>item_id</th>\n",
       "      <th>item_category_id</th>\n",
       "    </tr>\n",
       "  </thead>\n",
       "  <tbody>\n",
       "    <tr>\n",
       "      <th>0</th>\n",
       "      <td>! ВО ВЛАСТИ НАВАЖДЕНИЯ (ПЛАСТ.)         D</td>\n",
       "      <td>0</td>\n",
       "      <td>40</td>\n",
       "    </tr>\n",
       "    <tr>\n",
       "      <th>1</th>\n",
       "      <td>!ABBYY FineReader 12 Professional Edition Full...</td>\n",
       "      <td>1</td>\n",
       "      <td>76</td>\n",
       "    </tr>\n",
       "    <tr>\n",
       "      <th>2</th>\n",
       "      <td>***В ЛУЧАХ СЛАВЫ   (UNV)                    D</td>\n",
       "      <td>2</td>\n",
       "      <td>40</td>\n",
       "    </tr>\n",
       "    <tr>\n",
       "      <th>3</th>\n",
       "      <td>***ГОЛУБАЯ ВОЛНА  (Univ)                      D</td>\n",
       "      <td>3</td>\n",
       "      <td>40</td>\n",
       "    </tr>\n",
       "    <tr>\n",
       "      <th>4</th>\n",
       "      <td>***КОРОБКА (СТЕКЛО)                       D</td>\n",
       "      <td>4</td>\n",
       "      <td>40</td>\n",
       "    </tr>\n",
       "  </tbody>\n",
       "</table>\n",
       "</div>"
      ],
      "text/plain": [
       "                                           item_name  item_id  \\\n",
       "0          ! ВО ВЛАСТИ НАВАЖДЕНИЯ (ПЛАСТ.)         D        0   \n",
       "1  !ABBYY FineReader 12 Professional Edition Full...        1   \n",
       "2      ***В ЛУЧАХ СЛАВЫ   (UNV)                    D        2   \n",
       "3    ***ГОЛУБАЯ ВОЛНА  (Univ)                      D        3   \n",
       "4        ***КОРОБКА (СТЕКЛО)                       D        4   \n",
       "\n",
       "   item_category_id  \n",
       "0                40  \n",
       "1                76  \n",
       "2                40  \n",
       "3                40  \n",
       "4                40  "
      ]
     },
     "metadata": {},
     "output_type": "display_data"
    },
    {
     "name": "stdout",
     "output_type": "stream",
     "text": [
      "\u001b[44m\u001b[37m\u001b[22mitems_mod.csv\u001b[0m \u001b[34m\u001b[22m======================================================================================\u001b[0m\n"
     ]
    },
    {
     "data": {
      "text/html": [
       "<div>\n",
       "<style scoped>\n",
       "    .dataframe tbody tr th:only-of-type {\n",
       "        vertical-align: middle;\n",
       "    }\n",
       "\n",
       "    .dataframe tbody tr th {\n",
       "        vertical-align: top;\n",
       "    }\n",
       "\n",
       "    .dataframe thead th {\n",
       "        text-align: right;\n",
       "    }\n",
       "</style>\n",
       "<table border=\"1\" class=\"dataframe\">\n",
       "  <thead>\n",
       "    <tr style=\"text-align: right;\">\n",
       "      <th></th>\n",
       "      <th>Item Name</th>\n",
       "      <th>Item ID</th>\n",
       "      <th>Item Category Full ID</th>\n",
       "    </tr>\n",
       "  </thead>\n",
       "  <tbody>\n",
       "    <tr>\n",
       "      <th>0</th>\n",
       "      <td>ВО ВЛАСТИ НАВАЖДЕНИЯ (ПЛАСТ.)</td>\n",
       "      <td>0</td>\n",
       "      <td>40</td>\n",
       "    </tr>\n",
       "    <tr>\n",
       "      <th>1</th>\n",
       "      <td>ABBYY FineReader 12 Professional Edition Full ...</td>\n",
       "      <td>1</td>\n",
       "      <td>76</td>\n",
       "    </tr>\n",
       "    <tr>\n",
       "      <th>2</th>\n",
       "      <td>В ЛУЧАХ СЛАВЫ   (UNV)</td>\n",
       "      <td>2</td>\n",
       "      <td>40</td>\n",
       "    </tr>\n",
       "    <tr>\n",
       "      <th>3</th>\n",
       "      <td>ГОЛУБАЯ ВОЛНА  (Univ)</td>\n",
       "      <td>3</td>\n",
       "      <td>40</td>\n",
       "    </tr>\n",
       "    <tr>\n",
       "      <th>4</th>\n",
       "      <td>КОРОБКА (СТЕКЛО)</td>\n",
       "      <td>4</td>\n",
       "      <td>40</td>\n",
       "    </tr>\n",
       "  </tbody>\n",
       "</table>\n",
       "</div>"
      ],
      "text/plain": [
       "                                           Item Name  Item ID  \\\n",
       "0                      ВО ВЛАСТИ НАВАЖДЕНИЯ (ПЛАСТ.)        0   \n",
       "1  ABBYY FineReader 12 Professional Edition Full ...        1   \n",
       "2                              В ЛУЧАХ СЛАВЫ   (UNV)        2   \n",
       "3                              ГОЛУБАЯ ВОЛНА  (Univ)        3   \n",
       "4                                   КОРОБКА (СТЕКЛО)        4   \n",
       "\n",
       "   Item Category Full ID  \n",
       "0                     40  \n",
       "1                     76  \n",
       "2                     40  \n",
       "3                     40  \n",
       "4                     40  "
      ]
     },
     "metadata": {},
     "output_type": "display_data"
    },
    {
     "name": "stdout",
     "output_type": "stream",
     "text": [
      "\u001b[44m\u001b[37m\u001b[22msales_train.csv\u001b[0m \u001b[34m\u001b[22m====================================================================================\u001b[0m\n"
     ]
    },
    {
     "data": {
      "text/html": [
       "<div>\n",
       "<style scoped>\n",
       "    .dataframe tbody tr th:only-of-type {\n",
       "        vertical-align: middle;\n",
       "    }\n",
       "\n",
       "    .dataframe tbody tr th {\n",
       "        vertical-align: top;\n",
       "    }\n",
       "\n",
       "    .dataframe thead th {\n",
       "        text-align: right;\n",
       "    }\n",
       "</style>\n",
       "<table border=\"1\" class=\"dataframe\">\n",
       "  <thead>\n",
       "    <tr style=\"text-align: right;\">\n",
       "      <th></th>\n",
       "      <th>date</th>\n",
       "      <th>date_block_num</th>\n",
       "      <th>shop_id</th>\n",
       "      <th>item_id</th>\n",
       "      <th>item_price</th>\n",
       "      <th>item_cnt_day</th>\n",
       "    </tr>\n",
       "  </thead>\n",
       "  <tbody>\n",
       "    <tr>\n",
       "      <th>0</th>\n",
       "      <td>2013-02-01</td>\n",
       "      <td>0</td>\n",
       "      <td>59</td>\n",
       "      <td>22154</td>\n",
       "      <td>999.00</td>\n",
       "      <td>1.0</td>\n",
       "    </tr>\n",
       "    <tr>\n",
       "      <th>1</th>\n",
       "      <td>2013-03-01</td>\n",
       "      <td>0</td>\n",
       "      <td>25</td>\n",
       "      <td>2552</td>\n",
       "      <td>899.00</td>\n",
       "      <td>1.0</td>\n",
       "    </tr>\n",
       "    <tr>\n",
       "      <th>2</th>\n",
       "      <td>2013-05-01</td>\n",
       "      <td>0</td>\n",
       "      <td>25</td>\n",
       "      <td>2552</td>\n",
       "      <td>899.00</td>\n",
       "      <td>-1.0</td>\n",
       "    </tr>\n",
       "    <tr>\n",
       "      <th>3</th>\n",
       "      <td>2013-06-01</td>\n",
       "      <td>0</td>\n",
       "      <td>25</td>\n",
       "      <td>2554</td>\n",
       "      <td>1709.05</td>\n",
       "      <td>1.0</td>\n",
       "    </tr>\n",
       "    <tr>\n",
       "      <th>4</th>\n",
       "      <td>2013-01-15</td>\n",
       "      <td>0</td>\n",
       "      <td>25</td>\n",
       "      <td>2555</td>\n",
       "      <td>1099.00</td>\n",
       "      <td>1.0</td>\n",
       "    </tr>\n",
       "  </tbody>\n",
       "</table>\n",
       "</div>"
      ],
      "text/plain": [
       "        date  date_block_num  shop_id  item_id  item_price  item_cnt_day\n",
       "0 2013-02-01               0       59    22154      999.00           1.0\n",
       "1 2013-03-01               0       25     2552      899.00           1.0\n",
       "2 2013-05-01               0       25     2552      899.00          -1.0\n",
       "3 2013-06-01               0       25     2554     1709.05           1.0\n",
       "4 2013-01-15               0       25     2555     1099.00           1.0"
      ]
     },
     "metadata": {},
     "output_type": "display_data"
    },
    {
     "name": "stdout",
     "output_type": "stream",
     "text": [
      "\u001b[44m\u001b[37m\u001b[22msales_train_mod.csv\u001b[0m \u001b[34m\u001b[22m================================================================================\u001b[0m\n"
     ]
    },
    {
     "data": {
      "text/html": [
       "<div>\n",
       "<style scoped>\n",
       "    .dataframe tbody tr th:only-of-type {\n",
       "        vertical-align: middle;\n",
       "    }\n",
       "\n",
       "    .dataframe tbody tr th {\n",
       "        vertical-align: top;\n",
       "    }\n",
       "\n",
       "    .dataframe thead th {\n",
       "        text-align: right;\n",
       "    }\n",
       "</style>\n",
       "<table border=\"1\" class=\"dataframe\">\n",
       "  <thead>\n",
       "    <tr style=\"text-align: right;\">\n",
       "      <th></th>\n",
       "      <th>Date</th>\n",
       "      <th>Date Block Number</th>\n",
       "      <th>Shop ID</th>\n",
       "      <th>Item ID</th>\n",
       "      <th>Item Price</th>\n",
       "      <th>Item Count Day</th>\n",
       "      <th>Revenue</th>\n",
       "    </tr>\n",
       "  </thead>\n",
       "  <tbody>\n",
       "    <tr>\n",
       "      <th>0</th>\n",
       "      <td>2013-02-01</td>\n",
       "      <td>0</td>\n",
       "      <td>59</td>\n",
       "      <td>22154</td>\n",
       "      <td>999.00</td>\n",
       "      <td>1.0</td>\n",
       "      <td>999.00</td>\n",
       "    </tr>\n",
       "    <tr>\n",
       "      <th>1</th>\n",
       "      <td>2013-03-01</td>\n",
       "      <td>0</td>\n",
       "      <td>25</td>\n",
       "      <td>2552</td>\n",
       "      <td>899.00</td>\n",
       "      <td>1.0</td>\n",
       "      <td>899.00</td>\n",
       "    </tr>\n",
       "    <tr>\n",
       "      <th>2</th>\n",
       "      <td>2013-05-01</td>\n",
       "      <td>0</td>\n",
       "      <td>25</td>\n",
       "      <td>2552</td>\n",
       "      <td>899.00</td>\n",
       "      <td>-1.0</td>\n",
       "      <td>-899.00</td>\n",
       "    </tr>\n",
       "    <tr>\n",
       "      <th>3</th>\n",
       "      <td>2013-06-01</td>\n",
       "      <td>0</td>\n",
       "      <td>25</td>\n",
       "      <td>2554</td>\n",
       "      <td>1709.05</td>\n",
       "      <td>1.0</td>\n",
       "      <td>1709.05</td>\n",
       "    </tr>\n",
       "    <tr>\n",
       "      <th>4</th>\n",
       "      <td>2013-01-15</td>\n",
       "      <td>0</td>\n",
       "      <td>25</td>\n",
       "      <td>2555</td>\n",
       "      <td>1099.00</td>\n",
       "      <td>1.0</td>\n",
       "      <td>1099.00</td>\n",
       "    </tr>\n",
       "  </tbody>\n",
       "</table>\n",
       "</div>"
      ],
      "text/plain": [
       "         Date  Date Block Number  Shop ID  Item ID  Item Price  \\\n",
       "0  2013-02-01                  0       59    22154      999.00   \n",
       "1  2013-03-01                  0       25     2552      899.00   \n",
       "2  2013-05-01                  0       25     2552      899.00   \n",
       "3  2013-06-01                  0       25     2554     1709.05   \n",
       "4  2013-01-15                  0       25     2555     1099.00   \n",
       "\n",
       "   Item Count Day  Revenue  \n",
       "0             1.0   999.00  \n",
       "1             1.0   899.00  \n",
       "2            -1.0  -899.00  \n",
       "3             1.0  1709.05  \n",
       "4             1.0  1099.00  "
      ]
     },
     "metadata": {},
     "output_type": "display_data"
    },
    {
     "name": "stdout",
     "output_type": "stream",
     "text": [
      "\u001b[44m\u001b[37m\u001b[22mshops.csv\u001b[0m \u001b[34m\u001b[22m==========================================================================================\u001b[0m\n"
     ]
    },
    {
     "data": {
      "text/html": [
       "<div>\n",
       "<style scoped>\n",
       "    .dataframe tbody tr th:only-of-type {\n",
       "        vertical-align: middle;\n",
       "    }\n",
       "\n",
       "    .dataframe tbody tr th {\n",
       "        vertical-align: top;\n",
       "    }\n",
       "\n",
       "    .dataframe thead th {\n",
       "        text-align: right;\n",
       "    }\n",
       "</style>\n",
       "<table border=\"1\" class=\"dataframe\">\n",
       "  <thead>\n",
       "    <tr style=\"text-align: right;\">\n",
       "      <th></th>\n",
       "      <th>shop_name</th>\n",
       "      <th>shop_id</th>\n",
       "    </tr>\n",
       "  </thead>\n",
       "  <tbody>\n",
       "    <tr>\n",
       "      <th>0</th>\n",
       "      <td>!Якутск Орджоникидзе, 56 фран</td>\n",
       "      <td>0</td>\n",
       "    </tr>\n",
       "    <tr>\n",
       "      <th>1</th>\n",
       "      <td>!Якутск ТЦ \"Центральный\" фран</td>\n",
       "      <td>1</td>\n",
       "    </tr>\n",
       "    <tr>\n",
       "      <th>2</th>\n",
       "      <td>Адыгея ТЦ \"Мега\"</td>\n",
       "      <td>2</td>\n",
       "    </tr>\n",
       "    <tr>\n",
       "      <th>3</th>\n",
       "      <td>Балашиха ТРК \"Октябрь-Киномир\"</td>\n",
       "      <td>3</td>\n",
       "    </tr>\n",
       "    <tr>\n",
       "      <th>4</th>\n",
       "      <td>Волжский ТЦ \"Волга Молл\"</td>\n",
       "      <td>4</td>\n",
       "    </tr>\n",
       "  </tbody>\n",
       "</table>\n",
       "</div>"
      ],
      "text/plain": [
       "                        shop_name  shop_id\n",
       "0   !Якутск Орджоникидзе, 56 фран        0\n",
       "1   !Якутск ТЦ \"Центральный\" фран        1\n",
       "2                Адыгея ТЦ \"Мега\"        2\n",
       "3  Балашиха ТРК \"Октябрь-Киномир\"        3\n",
       "4        Волжский ТЦ \"Волга Молл\"        4"
      ]
     },
     "metadata": {},
     "output_type": "display_data"
    },
    {
     "name": "stdout",
     "output_type": "stream",
     "text": [
      "\u001b[44m\u001b[37m\u001b[22mshops_mod.csv\u001b[0m \u001b[34m\u001b[22m======================================================================================\u001b[0m\n"
     ]
    },
    {
     "data": {
      "text/html": [
       "<div>\n",
       "<style scoped>\n",
       "    .dataframe tbody tr th:only-of-type {\n",
       "        vertical-align: middle;\n",
       "    }\n",
       "\n",
       "    .dataframe tbody tr th {\n",
       "        vertical-align: top;\n",
       "    }\n",
       "\n",
       "    .dataframe thead th {\n",
       "        text-align: right;\n",
       "    }\n",
       "</style>\n",
       "<table border=\"1\" class=\"dataframe\">\n",
       "  <thead>\n",
       "    <tr style=\"text-align: right;\">\n",
       "      <th></th>\n",
       "      <th>Shop Name</th>\n",
       "      <th>Shop ID</th>\n",
       "      <th>City</th>\n",
       "      <th>City ID</th>\n",
       "    </tr>\n",
       "  </thead>\n",
       "  <tbody>\n",
       "    <tr>\n",
       "      <th>0</th>\n",
       "      <td>Yakutsk Ordzhonikidze, 56 fran</td>\n",
       "      <td>0</td>\n",
       "      <td>Yakutsk</td>\n",
       "      <td>0</td>\n",
       "    </tr>\n",
       "    <tr>\n",
       "      <th>1</th>\n",
       "      <td>Yakutsk shopping center \"Central\" fran</td>\n",
       "      <td>1</td>\n",
       "      <td>Yakutsk</td>\n",
       "      <td>0</td>\n",
       "    </tr>\n",
       "    <tr>\n",
       "      <th>2</th>\n",
       "      <td>Adygea TC \"Mega\"</td>\n",
       "      <td>2</td>\n",
       "      <td>Adygea</td>\n",
       "      <td>1</td>\n",
       "    </tr>\n",
       "    <tr>\n",
       "      <th>3</th>\n",
       "      <td>Balashikha shopping and entertainment complex ...</td>\n",
       "      <td>3</td>\n",
       "      <td>Balashikha</td>\n",
       "      <td>2</td>\n",
       "    </tr>\n",
       "    <tr>\n",
       "      <th>4</th>\n",
       "      <td>Volga shopping center \"Volga Mall\"</td>\n",
       "      <td>4</td>\n",
       "      <td>Volga</td>\n",
       "      <td>3</td>\n",
       "    </tr>\n",
       "  </tbody>\n",
       "</table>\n",
       "</div>"
      ],
      "text/plain": [
       "                                           Shop Name  Shop ID        City  \\\n",
       "0                     Yakutsk Ordzhonikidze, 56 fran        0     Yakutsk   \n",
       "1             Yakutsk shopping center \"Central\" fran        1     Yakutsk   \n",
       "2                                   Adygea TC \"Mega\"        2      Adygea   \n",
       "3  Balashikha shopping and entertainment complex ...        3  Balashikha   \n",
       "4                 Volga shopping center \"Volga Mall\"        4       Volga   \n",
       "\n",
       "   City ID  \n",
       "0        0  \n",
       "1        0  \n",
       "2        1  \n",
       "3        2  \n",
       "4        3  "
      ]
     },
     "metadata": {},
     "output_type": "display_data"
    },
    {
     "name": "stdout",
     "output_type": "stream",
     "text": [
      "\u001b[44m\u001b[37m\u001b[22mtest.csv\u001b[0m \u001b[34m\u001b[22m===========================================================================================\u001b[0m\n"
     ]
    },
    {
     "data": {
      "text/html": [
       "<div>\n",
       "<style scoped>\n",
       "    .dataframe tbody tr th:only-of-type {\n",
       "        vertical-align: middle;\n",
       "    }\n",
       "\n",
       "    .dataframe tbody tr th {\n",
       "        vertical-align: top;\n",
       "    }\n",
       "\n",
       "    .dataframe thead th {\n",
       "        text-align: right;\n",
       "    }\n",
       "</style>\n",
       "<table border=\"1\" class=\"dataframe\">\n",
       "  <thead>\n",
       "    <tr style=\"text-align: right;\">\n",
       "      <th></th>\n",
       "      <th>ID</th>\n",
       "      <th>shop_id</th>\n",
       "      <th>item_id</th>\n",
       "    </tr>\n",
       "  </thead>\n",
       "  <tbody>\n",
       "    <tr>\n",
       "      <th>0</th>\n",
       "      <td>0</td>\n",
       "      <td>5</td>\n",
       "      <td>5037</td>\n",
       "    </tr>\n",
       "    <tr>\n",
       "      <th>1</th>\n",
       "      <td>1</td>\n",
       "      <td>5</td>\n",
       "      <td>5320</td>\n",
       "    </tr>\n",
       "    <tr>\n",
       "      <th>2</th>\n",
       "      <td>2</td>\n",
       "      <td>5</td>\n",
       "      <td>5233</td>\n",
       "    </tr>\n",
       "    <tr>\n",
       "      <th>3</th>\n",
       "      <td>3</td>\n",
       "      <td>5</td>\n",
       "      <td>5232</td>\n",
       "    </tr>\n",
       "    <tr>\n",
       "      <th>4</th>\n",
       "      <td>4</td>\n",
       "      <td>5</td>\n",
       "      <td>5268</td>\n",
       "    </tr>\n",
       "  </tbody>\n",
       "</table>\n",
       "</div>"
      ],
      "text/plain": [
       "   ID  shop_id  item_id\n",
       "0   0        5     5037\n",
       "1   1        5     5320\n",
       "2   2        5     5233\n",
       "3   3        5     5232\n",
       "4   4        5     5268"
      ]
     },
     "metadata": {},
     "output_type": "display_data"
    },
    {
     "name": "stdout",
     "output_type": "stream",
     "text": [
      "\u001b[44m\u001b[37m\u001b[22mtest_mod.csv\u001b[0m \u001b[34m\u001b[22m=======================================================================================\u001b[0m\n"
     ]
    },
    {
     "data": {
      "text/html": [
       "<div>\n",
       "<style scoped>\n",
       "    .dataframe tbody tr th:only-of-type {\n",
       "        vertical-align: middle;\n",
       "    }\n",
       "\n",
       "    .dataframe tbody tr th {\n",
       "        vertical-align: top;\n",
       "    }\n",
       "\n",
       "    .dataframe thead th {\n",
       "        text-align: right;\n",
       "    }\n",
       "</style>\n",
       "<table border=\"1\" class=\"dataframe\">\n",
       "  <thead>\n",
       "    <tr style=\"text-align: right;\">\n",
       "      <th></th>\n",
       "      <th>ID</th>\n",
       "      <th>Shop ID</th>\n",
       "      <th>Item ID</th>\n",
       "    </tr>\n",
       "  </thead>\n",
       "  <tbody>\n",
       "    <tr>\n",
       "      <th>0</th>\n",
       "      <td>0</td>\n",
       "      <td>5</td>\n",
       "      <td>5037</td>\n",
       "    </tr>\n",
       "    <tr>\n",
       "      <th>1</th>\n",
       "      <td>1</td>\n",
       "      <td>5</td>\n",
       "      <td>5320</td>\n",
       "    </tr>\n",
       "    <tr>\n",
       "      <th>2</th>\n",
       "      <td>2</td>\n",
       "      <td>5</td>\n",
       "      <td>5233</td>\n",
       "    </tr>\n",
       "    <tr>\n",
       "      <th>3</th>\n",
       "      <td>3</td>\n",
       "      <td>5</td>\n",
       "      <td>5232</td>\n",
       "    </tr>\n",
       "    <tr>\n",
       "      <th>4</th>\n",
       "      <td>4</td>\n",
       "      <td>5</td>\n",
       "      <td>5268</td>\n",
       "    </tr>\n",
       "  </tbody>\n",
       "</table>\n",
       "</div>"
      ],
      "text/plain": [
       "   ID  Shop ID  Item ID\n",
       "0   0        5     5037\n",
       "1   1        5     5320\n",
       "2   2        5     5233\n",
       "3   3        5     5232\n",
       "4   4        5     5268"
      ]
     },
     "metadata": {},
     "output_type": "display_data"
    },
    {
     "name": "stdout",
     "output_type": "stream",
     "text": [
      "\u001b[34m\u001b[22m====================================================================================================\u001b[0m\n"
     ]
    },
    {
     "data": {
      "text/html": [
       "<style  type=\"text/css\" >\n",
       "</style><table id=\"T_6e9f3c08_b968_11ea_8284_50e08586bf81\" ><thead>    <tr>        <th class=\"col_heading level0 col0\" >File</th>        <th class=\"col_heading level0 col1\" >Number of Instances</th>        <th class=\"col_heading level0 col2\" >Number of Attributes</th>    </tr></thead><tbody>\n",
       "                <tr>\n",
       "                                <td id=\"T_6e9f3c08_b968_11ea_8284_50e08586bf81row0_col0\" class=\"data row0 col0\" >item_categories.csv</td>\n",
       "                        <td id=\"T_6e9f3c08_b968_11ea_8284_50e08586bf81row0_col1\" class=\"data row0 col1\" >84</td>\n",
       "                        <td id=\"T_6e9f3c08_b968_11ea_8284_50e08586bf81row0_col2\" class=\"data row0 col2\" >2</td>\n",
       "            </tr>\n",
       "            <tr>\n",
       "                                <td id=\"T_6e9f3c08_b968_11ea_8284_50e08586bf81row1_col0\" class=\"data row1 col0\" >item_categories_mod.csv</td>\n",
       "                        <td id=\"T_6e9f3c08_b968_11ea_8284_50e08586bf81row1_col1\" class=\"data row1 col1\" >84</td>\n",
       "                        <td id=\"T_6e9f3c08_b968_11ea_8284_50e08586bf81row1_col2\" class=\"data row1 col2\" >6</td>\n",
       "            </tr>\n",
       "            <tr>\n",
       "                                <td id=\"T_6e9f3c08_b968_11ea_8284_50e08586bf81row2_col0\" class=\"data row2 col0\" >items.csv</td>\n",
       "                        <td id=\"T_6e9f3c08_b968_11ea_8284_50e08586bf81row2_col1\" class=\"data row2 col1\" >22170</td>\n",
       "                        <td id=\"T_6e9f3c08_b968_11ea_8284_50e08586bf81row2_col2\" class=\"data row2 col2\" >3</td>\n",
       "            </tr>\n",
       "            <tr>\n",
       "                                <td id=\"T_6e9f3c08_b968_11ea_8284_50e08586bf81row3_col0\" class=\"data row3 col0\" >items_mod.csv</td>\n",
       "                        <td id=\"T_6e9f3c08_b968_11ea_8284_50e08586bf81row3_col1\" class=\"data row3 col1\" >22170</td>\n",
       "                        <td id=\"T_6e9f3c08_b968_11ea_8284_50e08586bf81row3_col2\" class=\"data row3 col2\" >3</td>\n",
       "            </tr>\n",
       "            <tr>\n",
       "                                <td id=\"T_6e9f3c08_b968_11ea_8284_50e08586bf81row4_col0\" class=\"data row4 col0\" >sales_train.csv</td>\n",
       "                        <td id=\"T_6e9f3c08_b968_11ea_8284_50e08586bf81row4_col1\" class=\"data row4 col1\" >2935849</td>\n",
       "                        <td id=\"T_6e9f3c08_b968_11ea_8284_50e08586bf81row4_col2\" class=\"data row4 col2\" >6</td>\n",
       "            </tr>\n",
       "            <tr>\n",
       "                                <td id=\"T_6e9f3c08_b968_11ea_8284_50e08586bf81row5_col0\" class=\"data row5 col0\" >sales_train_mod.csv</td>\n",
       "                        <td id=\"T_6e9f3c08_b968_11ea_8284_50e08586bf81row5_col1\" class=\"data row5 col1\" >2935849</td>\n",
       "                        <td id=\"T_6e9f3c08_b968_11ea_8284_50e08586bf81row5_col2\" class=\"data row5 col2\" >7</td>\n",
       "            </tr>\n",
       "            <tr>\n",
       "                                <td id=\"T_6e9f3c08_b968_11ea_8284_50e08586bf81row6_col0\" class=\"data row6 col0\" >shops.csv</td>\n",
       "                        <td id=\"T_6e9f3c08_b968_11ea_8284_50e08586bf81row6_col1\" class=\"data row6 col1\" >60</td>\n",
       "                        <td id=\"T_6e9f3c08_b968_11ea_8284_50e08586bf81row6_col2\" class=\"data row6 col2\" >2</td>\n",
       "            </tr>\n",
       "            <tr>\n",
       "                                <td id=\"T_6e9f3c08_b968_11ea_8284_50e08586bf81row7_col0\" class=\"data row7 col0\" >shops_mod.csv</td>\n",
       "                        <td id=\"T_6e9f3c08_b968_11ea_8284_50e08586bf81row7_col1\" class=\"data row7 col1\" >57</td>\n",
       "                        <td id=\"T_6e9f3c08_b968_11ea_8284_50e08586bf81row7_col2\" class=\"data row7 col2\" >4</td>\n",
       "            </tr>\n",
       "            <tr>\n",
       "                                <td id=\"T_6e9f3c08_b968_11ea_8284_50e08586bf81row8_col0\" class=\"data row8 col0\" >test.csv</td>\n",
       "                        <td id=\"T_6e9f3c08_b968_11ea_8284_50e08586bf81row8_col1\" class=\"data row8 col1\" >214200</td>\n",
       "                        <td id=\"T_6e9f3c08_b968_11ea_8284_50e08586bf81row8_col2\" class=\"data row8 col2\" >3</td>\n",
       "            </tr>\n",
       "            <tr>\n",
       "                                <td id=\"T_6e9f3c08_b968_11ea_8284_50e08586bf81row9_col0\" class=\"data row9 col0\" >test_mod.csv</td>\n",
       "                        <td id=\"T_6e9f3c08_b968_11ea_8284_50e08586bf81row9_col1\" class=\"data row9 col1\" >214200</td>\n",
       "                        <td id=\"T_6e9f3c08_b968_11ea_8284_50e08586bf81row9_col2\" class=\"data row9 col2\" >3</td>\n",
       "            </tr>\n",
       "    </tbody></table>"
      ],
      "text/plain": [
       "<pandas.io.formats.style.Styler at 0x1de03b4c248>"
      ]
     },
     "metadata": {},
     "output_type": "display_data"
    },
    {
     "name": "stdout",
     "output_type": "stream",
     "text": [
      "\u001b[34m\u001b[22m====================================================================================================\u001b[0m\n"
     ]
    }
   ],
   "source": [
    "def Header(Text, L = 100, C = 'Blue', T = 'White'):\n",
    "    BACK = {'Black': Back.BLACK, 'Red':Back.RED, 'Green':Back.GREEN, 'Yellow': Back.YELLOW, 'Blue': Back.BLUE,\n",
    "         'Magenta':Back.MAGENTA, 'Cyan': Back.CYAN}\n",
    "    FORE = {'Black': Fore.BLACK, 'Red':Fore.RED, 'Green':Fore.GREEN, 'Yellow':Fore.YELLOW, 'Blue':Fore.BLUE,\n",
    "         'Magenta':Fore.MAGENTA, 'Cyan':Fore.CYAN, 'White': Fore.WHITE}\n",
    "    print(BACK[C] + FORE[T] + Style.NORMAL + Text + Style.RESET_ALL + ' ' + FORE[C] +\n",
    "          Style.NORMAL +  (L- len(Text) - 1)*'=' + Style.RESET_ALL)\n",
    "    \n",
    "def Line(L=100, C = 'Blue'):\n",
    "    FORE = {'Black': Fore.BLACK, 'Red':Fore.RED, 'Green':Fore.GREEN, 'Yellow':Fore.YELLOW, 'Blue':Fore.BLUE,\n",
    "         'Magenta':Fore.MAGENTA, 'Cyan':Fore.CYAN, 'White': Fore.WHITE}\n",
    "    print(FORE[C] + Style.NORMAL + L*'=' + Style.RESET_ALL)\n",
    "\n",
    "def Search_List(Key, List): return [s for s in List if Key in s]\n",
    "\n",
    "PATH = '1c_software_dataset'\n",
    "Files = os.listdir(PATH)\n",
    "Files.remove('sample_submission.csv')\n",
    "Files = np.sort(Files)\n",
    "#\n",
    "Files_Info = pd.DataFrame()\n",
    "for i in range(len(Files)):\n",
    "    # Read files\n",
    "    Header(Files[i])\n",
    "    filename = Files[i].split('.')[0]\n",
    "    globals() [filename] = pd.read_csv(os.path.join(PATH, Files[i]))\n",
    "    Temp = globals() [filename].shape\n",
    "    Files_Info = Files_Info.append(pd.DataFrame({'File':[Files[i]], 'Number of Instances': [Temp[0]],\n",
    "                                                 'Number of Attributes': [Temp[1]]}), ignore_index = True)\n",
    "    # Datetime\n",
    "    Cols = globals() [filename].columns\n",
    "    DateTime = Search_List('date', Cols)\n",
    "    if len(DateTime)>0:\n",
    "        try: DateTime.remove('date_block_num')\n",
    "        except: pass\n",
    "        for c in DateTime:\n",
    "            globals() [filename][c] = pd.to_datetime(globals() [filename][c]) \n",
    "            del c\n",
    "    # Display\n",
    "    display(globals() [filename].head(5))\n",
    "Line()\n",
    "display(Files_Info.style.hide_index())\n",
    "Line()\n",
    "del Files, i, Temp, filename, Cols, DateTime "
   ]
  },
  {
   "cell_type": "markdown",
   "metadata": {},
   "source": [
    "# Preprocessing\n",
    "## Translations"
   ]
  },
  {
   "cell_type": "code",
   "execution_count": 3,
   "metadata": {},
   "outputs": [],
   "source": [
    "translator = Translator(service_urls=['translate.google.ca'])\n",
    "# items -------------------------------------------------------------------------------\n",
    "Orig_Names = items['item_name'].tolist()\n",
    "Batch = 100\n",
    "Intervals = list(np.arange(start = 0, stop = items.shape[0], step = Batch, dtype = int))\n",
    "Intervals.append(items.shape[0])\n",
    "Names = []\n",
    "\n",
    "items['item_name'] = items['item_name'].map(lambda x: x.replace('!','').replace('*','').replace('/','').replace(' D','').strip())\n",
    "# Counter = 0\n",
    "# Progress_Bar = progressbar.ProgressBar(maxval = len(Intervals),\n",
    "#                                        widgets=[progressbar.Bar('=', '|', '|'), progressbar.Percentage()])\n",
    "# Progress_Bar.start()\n",
    "# for L, R in zip(Intervals[:-1], Intervals[1:]):\n",
    "#     Temp = translator.translate(Orig_Names[L:R], src='ru', dest='en')\n",
    "#     Names.extend([x.text for x in Temp])\n",
    "#     del Temp\n",
    "#     Progress_Bar.update(Counter)\n",
    "#     Counter+=1\n",
    "# Progress_Bar.finish()\n",
    "\n",
    "# items['item_name'] = Names\n",
    "# del Orig_Names, Names\n",
    "\n",
    "## item_categories -------------------------------------------------------------------------------\n",
    "Temp = item_categories['item_category_name'].tolist()\n",
    "Temp = translator.translate(Temp, src='ru', dest='en')\n",
    "\n",
    "item_categories_dict = {}\n",
    "for t in Temp:\n",
    "    item_categories_dict[t.origin] = t.text\n",
    "del t, Temp\n",
    "\n",
    "item_categories['item_category_name'] = item_categories['item_category_name'].replace(item_categories_dict)\n",
    "\n",
    "## shops -------------------------------------------------------------------------------\n",
    "Temp = shops['shop_name'].tolist()\n",
    "Temp = translator.translate(Temp, src='ru', dest='en')\n",
    "\n",
    "shops_dict = {}\n",
    "for t in Temp:\n",
    "    shops_dict[t.origin] = t.text\n",
    "del t, Temp\n",
    "\n",
    "shops['shop_name'] = shops['shop_name'].replace(shops_dict)\n",
    "\n",
    "items_mod = items.copy()\n",
    "item_categories_mod = item_categories.copy()\n",
    "shops_mod = shops.copy()\n",
    "del items, item_categories, shops"
   ]
  },
  {
   "cell_type": "markdown",
   "metadata": {},
   "source": [
    "## Modifications"
   ]
  },
  {
   "cell_type": "code",
   "execution_count": 4,
   "metadata": {},
   "outputs": [],
   "source": [
    "def Cols_rename(Cols):\n",
    "    return [x.replace('_',' ').title().replace('Id','ID').replace('Cnt','Count').replace('Num','Number') for x in Cols]"
   ]
  },
  {
   "cell_type": "markdown",
   "metadata": {},
   "source": [
    "### Items"
   ]
  },
  {
   "cell_type": "code",
   "execution_count": 5,
   "metadata": {},
   "outputs": [],
   "source": [
    "items_mod.columns = Cols_rename(items_mod.columns)\n",
    "items_mod = items_mod.rename(columns= {'Item Category ID':'Item Category Full ID'})"
   ]
  },
  {
   "cell_type": "markdown",
   "metadata": {},
   "source": [
    "### Item Categories"
   ]
  },
  {
   "cell_type": "code",
   "execution_count": 6,
   "metadata": {},
   "outputs": [],
   "source": [
    "item_categories_mod.columns = ['Item Category Full', 'Item Category Full ID']\n",
    "item_categories_mod['Item Category'] = item_categories_mod['Item Category Full'].str.split(' - ').map(lambda x: x[0].strip())\n",
    "item_categories_mod['Item Category ID'], _ = pd.factorize(item_categories_mod['Item Category'])\n",
    "item_categories_mod['Item Subcategory'] = item_categories_mod['Item Category Full'].str.split(' - ').map(lambda x: ', '.join(x[1:]))\n",
    "item_categories_mod['Item Category'] = item_categories_mod['Item Category'].map(lambda x: x.title().replace('Pc', 'PC'))\n",
    "Temp = item_categories_mod.loc[item_categories_mod['Item Subcategory'] == '', 'Item Category'].tolist()\n",
    "item_categories_mod.loc[item_categories_mod['Item Subcategory'] == '', 'Item Subcategory'] = Temp\n",
    "del Temp\n",
    "item_categories_mod['Item Subcategory ID'], _ = pd.factorize(item_categories_mod['Item Subcategory'])"
   ]
  },
  {
   "cell_type": "markdown",
   "metadata": {},
   "source": [
    "### Shops"
   ]
  },
  {
   "cell_type": "code",
   "execution_count": 7,
   "metadata": {},
   "outputs": [],
   "source": [
    "shops_mod.columns = Cols_rename(shops_mod.columns)\n",
    "Shops = shops_mod['Shop Name'].unique().tolist()\n",
    "New_List = []\n",
    "Replace_dict={'! ':'', '²':'', '?':''}\n",
    "for S in Shops:\n",
    "    for x, y in zip(Replace_dict.keys(),Replace_dict.values()):\n",
    "        S = S.replace(x, y)\n",
    "    New_List.append(S)\n",
    "    \n",
    "Replace_dict={}\n",
    "for x, y in zip(Shops, New_List):\n",
    "    Replace_dict[x] = y\n",
    "    \n",
    "shops_mod['Shop Name'] = shops_mod['Shop Name'].map(Replace_dict)\n",
    "del Shops, New_List, Replace_dict, x, y, S"
   ]
  },
  {
   "cell_type": "markdown",
   "metadata": {},
   "source": [
    "Moreover, looking into the shops_mod dataset, we can identify the following duplicated rows."
   ]
  },
  {
   "cell_type": "code",
   "execution_count": 8,
   "metadata": {},
   "outputs": [],
   "source": [
    "Shops_Replace_dict = {'''Rostov On Don shopping and entertainment complex \"Megacenter Horizon\" Island''' :\n",
    "                      '''Rostov On Don shopping and entertainment complex \"Megacenter Horizon\"''', 40:39, 11:10,\n",
    "                      '''Yakutsk shopping center \"Central\"''':'''Yakutsk shopping center \"Central\" fran''', 58:1}\n",
    "shops_mod = shops_mod.replace(Shops_Replace_dict).drop_duplicates().sort_values(by = ['Shop ID'])"
   ]
  },
  {
   "cell_type": "markdown",
   "metadata": {},
   "source": [
    "City"
   ]
  },
  {
   "cell_type": "code",
   "execution_count": 9,
   "metadata": {},
   "outputs": [],
   "source": [
    "shops_mod['City'] = shops_mod['Shop Name'].str.split(' ').map(lambda x: x[0])\n",
    "Temp = {'N.':'Nizhny Novgorod', 'N.Novgorod':'Nizhny Novgorod', 'SPb':'Other', 'Emergency':'Other',\n",
    "        'Ufa':'Other', 'Digital':'Other', 'Outbound':'Other', 'RostovNaDon':'Rostov'}\n",
    "shops_mod['City'] = shops_mod['City'].replace(Temp)\n",
    "del Temp\n",
    "shops_mod['City ID'], _ = pd.factorize(shops_mod['City'])"
   ]
  },
  {
   "cell_type": "markdown",
   "metadata": {},
   "source": [
    "### Sales Train"
   ]
  },
  {
   "cell_type": "code",
   "execution_count": 10,
   "metadata": {},
   "outputs": [],
   "source": [
    "sales_train.columns = Cols_rename(sales_train.columns)\n",
    "sales_train_mod = sales_train.copy()\n",
    "del sales_train"
   ]
  },
  {
   "cell_type": "markdown",
   "metadata": {},
   "source": [
    "Let's take a look at **Item Count Day** and **Item Price**."
   ]
  },
  {
   "cell_type": "code",
   "execution_count": 11,
   "metadata": {},
   "outputs": [
    {
     "data": {
      "image/png": "[encoded data removed]",
      "text/plain": [
       "<Figure size 1152x288 with 2 Axes>"
      ]
     },
     "metadata": {
      "needs_background": "light"
     },
     "output_type": "display_data"
    }
   ],
   "source": [
    "Columns = ['Item Count Day', 'Item Price']\n",
    "Lims = [25e-3, 18e-5]\n",
    "\n",
    "fig, ax = plt.subplots(nrows=1, ncols=2, figsize = (16, 4))\n",
    "ax = ax.ravel()\n",
    "for i in range(len(Columns)):\n",
    "    _ = sns.distplot(sales_train_mod[Columns[i]], rug=True, rug_kws={\"color\": \"OrangeRed\"},\n",
    "                     hist_kws={\"linewidth\": 2, \"alpha\": .4, \"color\": \"Navy\"}, ax= ax[i])\n",
    "    _ = ax[i].set_ylim([0, Lims[i]])"
   ]
  },
  {
   "cell_type": "markdown",
   "metadata": {},
   "source": [
    "As can be seen, there are a few instances that need to be adjusted. Moreover, there the items with a negative number as price.\n",
    "For these instances, we have,"
   ]
  },
  {
   "cell_type": "code",
   "execution_count": 12,
   "metadata": {},
   "outputs": [],
   "source": [
    "sales_train_mod.loc[sales_train_mod['Item Price'] <0, 'Item Price'] = np.nan\n",
    "for i in range(len(Columns)):\n",
    "    m = sales_train_mod[Columns[i]].max()\n",
    "    sales_train_mod.loc[sales_train_mod[Columns[i]] == m, Columns[i]]  = np.nan\n",
    "    imp = SimpleImputer(missing_values=np.nan, strategy='median')\n",
    "    sales_train_mod[Columns[i]] = imp.fit_transform(sales_train_mod[Columns[i]].values.reshape(-1,1))"
   ]
  },
  {
   "cell_type": "markdown",
   "metadata": {},
   "source": [
    "Now,"
   ]
  },
  {
   "cell_type": "code",
   "execution_count": 13,
   "metadata": {},
   "outputs": [
    {
     "data": {
      "image/png": "[encoded data removed]",
      "text/plain": [
       "<Figure size 1152x288 with 2 Axes>"
      ]
     },
     "metadata": {
      "needs_background": "light"
     },
     "output_type": "display_data"
    }
   ],
   "source": [
    "Lims = [5e-2, 7e-4]\n",
    "\n",
    "fig, ax = plt.subplots(nrows=1, ncols=2, figsize = (16, 4))\n",
    "ax = ax.ravel()\n",
    "for i in range(len(Columns)):\n",
    "    _ = sns.distplot(sales_train_mod[Columns[i]], rug=True, rug_kws={\"color\": \"OrangeRed\"},\n",
    "                     hist_kws={\"linewidth\": 2, \"alpha\": .4, \"color\": \"Navy\"}, ax= ax[i])\n",
    "    _ = ax[i].set_ylim([0, Lims[i]])\n",
    "del ax, fig, Lims, Columns"
   ]
  },
  {
   "cell_type": "markdown",
   "metadata": {},
   "source": [
    "Moreover, the **Shop ID** needes to be adjusted here as well."
   ]
  },
  {
   "cell_type": "code",
   "execution_count": 14,
   "metadata": {},
   "outputs": [],
   "source": [
    "Shops_Replace_dict = {40:39, 11:10, 58:1}\n",
    "sales_train_mod['Shop ID'] = sales_train_mod['Shop ID'].replace(Shops_Replace_dict)"
   ]
  },
  {
   "cell_type": "markdown",
   "metadata": {},
   "source": [
    "Revenue,"
   ]
  },
  {
   "cell_type": "code",
   "execution_count": 15,
   "metadata": {},
   "outputs": [],
   "source": [
    "sales_train_mod['Revenue'] = sales_train_mod['Item Count Day'] * sales_train_mod['Item Price']"
   ]
  },
  {
   "cell_type": "markdown",
   "metadata": {},
   "source": [
    "Finally, the datetime."
   ]
  },
  {
   "cell_type": "code",
   "execution_count": 16,
   "metadata": {},
   "outputs": [],
   "source": [
    "sales_train_mod['Date'] = pd.to_datetime(sales_train_mod['Date'])"
   ]
  },
  {
   "cell_type": "markdown",
   "metadata": {},
   "source": [
    "# Test"
   ]
  },
  {
   "cell_type": "code",
   "execution_count": 17,
   "metadata": {},
   "outputs": [],
   "source": [
    "test_mod = test.copy()\n",
    "test_mod.columns = Cols_rename(test_mod.columns)\n",
    "test_mod['Shop ID'] = test_mod['Shop ID'].replace(Shops_Replace_dict)"
   ]
  },
  {
   "cell_type": "markdown",
   "metadata": {},
   "source": [
    "## Saving to CSV files"
   ]
  },
  {
   "cell_type": "code",
   "execution_count": 18,
   "metadata": {},
   "outputs": [],
   "source": [
    "items_mod.to_csv (PATH + '/items_mod.csv', index = None, header=True)\n",
    "item_categories_mod.to_csv (PATH + '/item_categories_mod.csv', index = None, header=True)\n",
    "shops_mod.to_csv (PATH + '/shops_mod.csv', index = None, header=True)\n",
    "sales_train_mod.to_csv (PATH + '/sales_train_mod.csv', index = None, header=True)\n",
    "test_mod.to_csv (PATH + '/test_mod.csv', index = None, header=True)"
   ]
  },
  {
   "cell_type": "markdown",
   "metadata": {},
   "source": [
    "***\n",
    "# References\n",
    "\n",
    "1. [Kaggle Dataset: Predict Future Sales](https://www.kaggle.com/c/competitive-data-science-predict-future-sales/overview)\n",
    "\n",
    "***"
   ]
  }
 ],
 "metadata": {
  "kernelspec": {
   "display_name": "Python 3",
   "language": "python",
   "name": "python3"
  },
  "language_info": {
   "codemirror_mode": {
    "name": "ipython",
    "version": 3
   },
   "file_extension": ".py",
   "mimetype": "text/x-python",
   "name": "python",
   "nbconvert_exporter": "python",
   "pygments_lexer": "ipython3",
   "version": "3.8.8"
  },
  "toc": {
   "base_numbering": 1,
   "nav_menu": {
    "height": "120px",
    "width": "182px"
   },
   "number_sections": false,
   "sideBar": true,
   "skip_h1_title": false,
   "title_cell": "Table of Contents",
   "title_sidebar": "Table of Contents",
   "toc_cell": false,
   "toc_position": {
    "height": "calc(100% - 180px)",
    "left": "10px",
    "top": "150px",
    "width": "186.594px"
   },
   "toc_section_display": true,
   "toc_window_display": false
  }
 },
 "nbformat": 4,
 "nbformat_minor": 1
}
