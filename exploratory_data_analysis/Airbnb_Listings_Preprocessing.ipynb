{
 "cells": [
  {
   "cell_type": "code",
   "execution_count": 1,
   "metadata": {},
   "outputs": [],
   "source": [
    "# Required Packages\n",
    "import pandas as pd\n",
    "import numpy as np\n",
    "import pickle\n",
    "\n",
    "# Imputing\n",
    "from sklearn.impute import SimpleImputer\n",
    "\n",
    "# Displaying\n",
    "from colorama import Fore, Back, Style"
   ]
  },
  {
   "cell_type": "markdown",
   "metadata": {},
   "source": [
    "<img src='https://upload.wikimedia.org/wikipedia/commons/thumb/6/69/Airbnb_Logo_B%C3%A9lo.svg/1280px-Airbnb_Logo_B%C3%A9lo.svg.png' width='350' align=\"center\"/>"
   ]
  },
  {
   "cell_type": "markdown",
   "metadata": {},
   "source": [
    "# Airbnb Listings (Preprocessing)\n",
    "\n",
    "#### Table of contents\n",
    "* [Removing the dollar sign](#Removing-the-dollar-sign)\n",
    "* [Dealing with Missing Data](#Dealing-with-Missing-Data)\n",
    "    * [Imputation of missing the values](#Imputation-of-the-missing-values)\n",
    "        * [Numeric Data](#Numeric-Data)\n",
    "        * [Text Data](#Text-Data)\n",
    "* [Sorting the DataFrame columns](#Sorting-the-DataFrame-columns)\n",
    "* [Dealing with Categorical Variables](#Dealing-with-Categorical-Variables)\n",
    "    * [Properties](#Properties)\n",
    "    * [Rooms](#Rooms)\n",
    "    * [Beds](#Beds)\n",
    "* [Exporting the Clean Data](#Exporting-the-Clean-Data)"
   ]
  },
  {
   "cell_type": "code",
   "execution_count": 2,
   "metadata": {
    "scrolled": false
   },
   "outputs": [
    {
     "data": {
      "text/html": [
       "<div>\n",
       "<style scoped>\n",
       "    .dataframe tbody tr th:only-of-type {\n",
       "        vertical-align: middle;\n",
       "    }\n",
       "\n",
       "    .dataframe tbody tr th {\n",
       "        vertical-align: top;\n",
       "    }\n",
       "\n",
       "    .dataframe thead th {\n",
       "        text-align: right;\n",
       "    }\n",
       "</style>\n",
       "<table border=\"1\" class=\"dataframe\">\n",
       "  <thead>\n",
       "    <tr style=\"text-align: right;\">\n",
       "      <th></th>\n",
       "      <th>id</th>\n",
       "      <th>scrape_id</th>\n",
       "      <th>last_scraped</th>\n",
       "      <th>name</th>\n",
       "      <th>picture_url</th>\n",
       "      <th>host_id</th>\n",
       "      <th>host_name</th>\n",
       "      <th>host_since</th>\n",
       "      <th>host_picture_url</th>\n",
       "      <th>street</th>\n",
       "      <th>...</th>\n",
       "      <th>first_review</th>\n",
       "      <th>last_review</th>\n",
       "      <th>review_scores_rating</th>\n",
       "      <th>review_scores_accuracy</th>\n",
       "      <th>review_scores_cleanliness</th>\n",
       "      <th>review_scores_checkin</th>\n",
       "      <th>review_scores_communication</th>\n",
       "      <th>review_scores_location</th>\n",
       "      <th>review_scores_value</th>\n",
       "      <th>host_listing_count</th>\n",
       "    </tr>\n",
       "  </thead>\n",
       "  <tbody>\n",
       "    <tr>\n",
       "      <th>0</th>\n",
       "      <td>1069266</td>\n",
       "      <td>2.020000e+13</td>\n",
       "      <td>2015-01-02</td>\n",
       "      <td>Stay like a real New Yorker!</td>\n",
       "      <td>https://a0.muscache.com/pictures/50276484/larg...</td>\n",
       "      <td>5867023</td>\n",
       "      <td>Michael</td>\n",
       "      <td>4/10/13</td>\n",
       "      <td>https://a2.muscache.com/ic/users/5867023/profi...</td>\n",
       "      <td>East 53rd Street, New York, NY 10022, United S...</td>\n",
       "      <td>...</td>\n",
       "      <td>4/28/13</td>\n",
       "      <td>12/17/14</td>\n",
       "      <td>86.0</td>\n",
       "      <td>9.0</td>\n",
       "      <td>7.0</td>\n",
       "      <td>9.0</td>\n",
       "      <td>9.0</td>\n",
       "      <td>10.0</td>\n",
       "      <td>9.0</td>\n",
       "      <td>1</td>\n",
       "    </tr>\n",
       "    <tr>\n",
       "      <th>1</th>\n",
       "      <td>1846722</td>\n",
       "      <td>2.020000e+13</td>\n",
       "      <td>2015-01-02</td>\n",
       "      <td>Apartment 20 Minutes Times Square</td>\n",
       "      <td>https://a1.muscache.com/pictures/35865039/larg...</td>\n",
       "      <td>2631556</td>\n",
       "      <td>Denise</td>\n",
       "      <td>6/13/12</td>\n",
       "      <td>https://a2.muscache.com/ic/users/2631556/profi...</td>\n",
       "      <td>West 155th Street, New York, NY, United States</td>\n",
       "      <td>...</td>\n",
       "      <td>1/5/14</td>\n",
       "      <td>12/29/14</td>\n",
       "      <td>85.0</td>\n",
       "      <td>8.0</td>\n",
       "      <td>8.0</td>\n",
       "      <td>9.0</td>\n",
       "      <td>8.0</td>\n",
       "      <td>7.0</td>\n",
       "      <td>8.0</td>\n",
       "      <td>2</td>\n",
       "    </tr>\n",
       "    <tr>\n",
       "      <th>2</th>\n",
       "      <td>2061725</td>\n",
       "      <td>2.020000e+13</td>\n",
       "      <td>2015-01-02</td>\n",
       "      <td>Option of 2 Beds w Private Bathroom</td>\n",
       "      <td>https://a2.muscache.com/pictures/50650147/larg...</td>\n",
       "      <td>4601412</td>\n",
       "      <td>Miao</td>\n",
       "      <td>1/5/13</td>\n",
       "      <td>https://a0.muscache.com/ic/users/4601412/profi...</td>\n",
       "      <td>Van Buren Street, Brooklyn, NY 11221, United S...</td>\n",
       "      <td>...</td>\n",
       "      <td>2/4/14</td>\n",
       "      <td>12/29/14</td>\n",
       "      <td>98.0</td>\n",
       "      <td>10.0</td>\n",
       "      <td>10.0</td>\n",
       "      <td>10.0</td>\n",
       "      <td>10.0</td>\n",
       "      <td>9.0</td>\n",
       "      <td>10.0</td>\n",
       "      <td>4</td>\n",
       "    </tr>\n",
       "  </tbody>\n",
       "</table>\n",
       "<p>3 rows × 52 columns</p>\n",
       "</div>"
      ],
      "text/plain": [
       "        id     scrape_id last_scraped                                 name  \\\n",
       "0  1069266  2.020000e+13   2015-01-02        Stay like a real New Yorker!    \n",
       "1  1846722  2.020000e+13   2015-01-02    Apartment 20 Minutes Times Square   \n",
       "2  2061725  2.020000e+13   2015-01-02  Option of 2 Beds w Private Bathroom   \n",
       "\n",
       "                                         picture_url  host_id host_name  \\\n",
       "0  https://a0.muscache.com/pictures/50276484/larg...  5867023   Michael   \n",
       "1  https://a1.muscache.com/pictures/35865039/larg...  2631556    Denise   \n",
       "2  https://a2.muscache.com/pictures/50650147/larg...  4601412      Miao   \n",
       "\n",
       "  host_since                                   host_picture_url  \\\n",
       "0    4/10/13  https://a2.muscache.com/ic/users/5867023/profi...   \n",
       "1    6/13/12  https://a2.muscache.com/ic/users/2631556/profi...   \n",
       "2     1/5/13  https://a0.muscache.com/ic/users/4601412/profi...   \n",
       "\n",
       "                                              street  ... first_review  \\\n",
       "0  East 53rd Street, New York, NY 10022, United S...  ...      4/28/13   \n",
       "1     West 155th Street, New York, NY, United States  ...       1/5/14   \n",
       "2  Van Buren Street, Brooklyn, NY 11221, United S...  ...       2/4/14   \n",
       "\n",
       "  last_review review_scores_rating review_scores_accuracy  \\\n",
       "0    12/17/14                 86.0                    9.0   \n",
       "1    12/29/14                 85.0                    8.0   \n",
       "2    12/29/14                 98.0                   10.0   \n",
       "\n",
       "  review_scores_cleanliness review_scores_checkin review_scores_communication  \\\n",
       "0                       7.0                   9.0                         9.0   \n",
       "1                       8.0                   9.0                         8.0   \n",
       "2                      10.0                  10.0                        10.0   \n",
       "\n",
       "   review_scores_location  review_scores_value host_listing_count  \n",
       "0                    10.0                  9.0                  1  \n",
       "1                     7.0                  8.0                  2  \n",
       "2                     9.0                 10.0                  4  \n",
       "\n",
       "[3 rows x 52 columns]"
      ]
     },
     "execution_count": 2,
     "metadata": {},
     "output_type": "execute_result"
    }
   ],
   "source": [
    "Data = pd.read_csv('Data/Airbnb_Listings.csv', parse_dates=[2],encoding = \"ISO-8859-1\")\n",
    "Data.head(3)"
   ]
  },
  {
   "cell_type": "code",
   "execution_count": 3,
   "metadata": {
    "scrolled": false
   },
   "outputs": [
    {
     "name": "stdout",
     "output_type": "stream",
     "text": [
      "['id', 'scrape_id', 'last_scraped', 'name', 'picture_url', 'host_id', 'host_name', 'host_since', 'host_picture_url', 'street', 'neighbourhood', 'neighbourhood_cleansed', 'city', 'state', 'zipcode', 'market', 'country', 'latitude', 'longitude', 'is_location_exact', 'property_type', 'room_type', 'accommodates', 'bathrooms', 'bedrooms', 'beds', 'bed_type', 'square_feet', 'price', 'weekly_price', 'monthly_price', 'guests_included', 'extra_people', 'minimum_nights', 'maximum_nights', 'calendar_updated', 'availability_30', 'availability_60', 'availability_90', 'availability_365', 'calendar_last_scraped', 'number_of_reviews', 'first_review', 'last_review', 'review_scores_rating', 'review_scores_accuracy', 'review_scores_cleanliness', 'review_scores_checkin', 'review_scores_communication', 'review_scores_location', 'review_scores_value', 'host_listing_count']\n"
     ]
    }
   ],
   "source": [
    "print(Data.columns.tolist())"
   ]
  },
  {
   "cell_type": "markdown",
   "metadata": {},
   "source": [
    "It seems that we don not need the following columns:"
   ]
  },
  {
   "cell_type": "code",
   "execution_count": 4,
   "metadata": {},
   "outputs": [],
   "source": [
    "Drop_list=['scrape_id', 'last_scraped', 'name', 'picture_url','host_name','host_picture_url',\\\n",
    "           'street','neighbourhood','neighbourhood_cleansed','latitude', 'longitude', 'is_location_exact',\\\n",
    "           'square_feet','guests_included', 'extra_people','calendar_updated', 'calendar_last_scraped',\\\n",
    "          'host_listing_count', 'first_review', 'last_review','city','state','country','market']"
   ]
  },
  {
   "cell_type": "code",
   "execution_count": 5,
   "metadata": {},
   "outputs": [],
   "source": [
    "Data.drop(columns=Drop_list, inplace = True)"
   ]
  },
  {
   "cell_type": "markdown",
   "metadata": {},
   "source": [
    "Therefore,"
   ]
  },
  {
   "cell_type": "code",
   "execution_count": 6,
   "metadata": {
    "scrolled": false
   },
   "outputs": [
    {
     "data": {
      "text/html": [
       "<style  type=\"text/css\" >\n",
       "</style><table id=\"T_11cd47c2_714d_11ea_b58f_50e08586bf81\" ><thead>    <tr>        <th class=\"col_heading level0 col0\" >id</th>        <th class=\"col_heading level0 col1\" >host_id</th>        <th class=\"col_heading level0 col2\" >host_since</th>        <th class=\"col_heading level0 col3\" >zipcode</th>        <th class=\"col_heading level0 col4\" >property_type</th>        <th class=\"col_heading level0 col5\" >room_type</th>        <th class=\"col_heading level0 col6\" >accommodates</th>        <th class=\"col_heading level0 col7\" >bathrooms</th>        <th class=\"col_heading level0 col8\" >bedrooms</th>        <th class=\"col_heading level0 col9\" >beds</th>        <th class=\"col_heading level0 col10\" >bed_type</th>        <th class=\"col_heading level0 col11\" >price</th>        <th class=\"col_heading level0 col12\" >weekly_price</th>        <th class=\"col_heading level0 col13\" >monthly_price</th>        <th class=\"col_heading level0 col14\" >minimum_nights</th>        <th class=\"col_heading level0 col15\" >maximum_nights</th>        <th class=\"col_heading level0 col16\" >availability_30</th>        <th class=\"col_heading level0 col17\" >availability_60</th>        <th class=\"col_heading level0 col18\" >availability_90</th>        <th class=\"col_heading level0 col19\" >availability_365</th>        <th class=\"col_heading level0 col20\" >number_of_reviews</th>        <th class=\"col_heading level0 col21\" >review_scores_rating</th>        <th class=\"col_heading level0 col22\" >review_scores_accuracy</th>        <th class=\"col_heading level0 col23\" >review_scores_cleanliness</th>        <th class=\"col_heading level0 col24\" >review_scores_checkin</th>        <th class=\"col_heading level0 col25\" >review_scores_communication</th>        <th class=\"col_heading level0 col26\" >review_scores_location</th>        <th class=\"col_heading level0 col27\" >review_scores_value</th>    </tr></thead><tbody>\n",
       "                <tr>\n",
       "                                <td id=\"T_11cd47c2_714d_11ea_b58f_50e08586bf81row0_col0\" class=\"data row0 col0\" >1069266</td>\n",
       "                        <td id=\"T_11cd47c2_714d_11ea_b58f_50e08586bf81row0_col1\" class=\"data row0 col1\" >5867023</td>\n",
       "                        <td id=\"T_11cd47c2_714d_11ea_b58f_50e08586bf81row0_col2\" class=\"data row0 col2\" >4/10/13</td>\n",
       "                        <td id=\"T_11cd47c2_714d_11ea_b58f_50e08586bf81row0_col3\" class=\"data row0 col3\" >10022-4175</td>\n",
       "                        <td id=\"T_11cd47c2_714d_11ea_b58f_50e08586bf81row0_col4\" class=\"data row0 col4\" >Apartment</td>\n",
       "                        <td id=\"T_11cd47c2_714d_11ea_b58f_50e08586bf81row0_col5\" class=\"data row0 col5\" >Entire home/apt</td>\n",
       "                        <td id=\"T_11cd47c2_714d_11ea_b58f_50e08586bf81row0_col6\" class=\"data row0 col6\" >2</td>\n",
       "                        <td id=\"T_11cd47c2_714d_11ea_b58f_50e08586bf81row0_col7\" class=\"data row0 col7\" >1.000000</td>\n",
       "                        <td id=\"T_11cd47c2_714d_11ea_b58f_50e08586bf81row0_col8\" class=\"data row0 col8\" >1.000000</td>\n",
       "                        <td id=\"T_11cd47c2_714d_11ea_b58f_50e08586bf81row0_col9\" class=\"data row0 col9\" >1.000000</td>\n",
       "                        <td id=\"T_11cd47c2_714d_11ea_b58f_50e08586bf81row0_col10\" class=\"data row0 col10\" >Real Bed</td>\n",
       "                        <td id=\"T_11cd47c2_714d_11ea_b58f_50e08586bf81row0_col11\" class=\"data row0 col11\" >$160.00 </td>\n",
       "                        <td id=\"T_11cd47c2_714d_11ea_b58f_50e08586bf81row0_col12\" class=\"data row0 col12\" >$1,000.00 </td>\n",
       "                        <td id=\"T_11cd47c2_714d_11ea_b58f_50e08586bf81row0_col13\" class=\"data row0 col13\" >nan</td>\n",
       "                        <td id=\"T_11cd47c2_714d_11ea_b58f_50e08586bf81row0_col14\" class=\"data row0 col14\" >3</td>\n",
       "                        <td id=\"T_11cd47c2_714d_11ea_b58f_50e08586bf81row0_col15\" class=\"data row0 col15\" >14</td>\n",
       "                        <td id=\"T_11cd47c2_714d_11ea_b58f_50e08586bf81row0_col16\" class=\"data row0 col16\" >21</td>\n",
       "                        <td id=\"T_11cd47c2_714d_11ea_b58f_50e08586bf81row0_col17\" class=\"data row0 col17\" >51</td>\n",
       "                        <td id=\"T_11cd47c2_714d_11ea_b58f_50e08586bf81row0_col18\" class=\"data row0 col18\" >72</td>\n",
       "                        <td id=\"T_11cd47c2_714d_11ea_b58f_50e08586bf81row0_col19\" class=\"data row0 col19\" >322</td>\n",
       "                        <td id=\"T_11cd47c2_714d_11ea_b58f_50e08586bf81row0_col20\" class=\"data row0 col20\" >62</td>\n",
       "                        <td id=\"T_11cd47c2_714d_11ea_b58f_50e08586bf81row0_col21\" class=\"data row0 col21\" >86.000000</td>\n",
       "                        <td id=\"T_11cd47c2_714d_11ea_b58f_50e08586bf81row0_col22\" class=\"data row0 col22\" >9.000000</td>\n",
       "                        <td id=\"T_11cd47c2_714d_11ea_b58f_50e08586bf81row0_col23\" class=\"data row0 col23\" >7.000000</td>\n",
       "                        <td id=\"T_11cd47c2_714d_11ea_b58f_50e08586bf81row0_col24\" class=\"data row0 col24\" >9.000000</td>\n",
       "                        <td id=\"T_11cd47c2_714d_11ea_b58f_50e08586bf81row0_col25\" class=\"data row0 col25\" >9.000000</td>\n",
       "                        <td id=\"T_11cd47c2_714d_11ea_b58f_50e08586bf81row0_col26\" class=\"data row0 col26\" >10.000000</td>\n",
       "                        <td id=\"T_11cd47c2_714d_11ea_b58f_50e08586bf81row0_col27\" class=\"data row0 col27\" >9.000000</td>\n",
       "            </tr>\n",
       "            <tr>\n",
       "                                <td id=\"T_11cd47c2_714d_11ea_b58f_50e08586bf81row1_col0\" class=\"data row1 col0\" >1846722</td>\n",
       "                        <td id=\"T_11cd47c2_714d_11ea_b58f_50e08586bf81row1_col1\" class=\"data row1 col1\" >2631556</td>\n",
       "                        <td id=\"T_11cd47c2_714d_11ea_b58f_50e08586bf81row1_col2\" class=\"data row1 col2\" >6/13/12</td>\n",
       "                        <td id=\"T_11cd47c2_714d_11ea_b58f_50e08586bf81row1_col3\" class=\"data row1 col3\" >nan</td>\n",
       "                        <td id=\"T_11cd47c2_714d_11ea_b58f_50e08586bf81row1_col4\" class=\"data row1 col4\" >Apartment</td>\n",
       "                        <td id=\"T_11cd47c2_714d_11ea_b58f_50e08586bf81row1_col5\" class=\"data row1 col5\" >Entire home/apt</td>\n",
       "                        <td id=\"T_11cd47c2_714d_11ea_b58f_50e08586bf81row1_col6\" class=\"data row1 col6\" >10</td>\n",
       "                        <td id=\"T_11cd47c2_714d_11ea_b58f_50e08586bf81row1_col7\" class=\"data row1 col7\" >1.000000</td>\n",
       "                        <td id=\"T_11cd47c2_714d_11ea_b58f_50e08586bf81row1_col8\" class=\"data row1 col8\" >3.000000</td>\n",
       "                        <td id=\"T_11cd47c2_714d_11ea_b58f_50e08586bf81row1_col9\" class=\"data row1 col9\" >3.000000</td>\n",
       "                        <td id=\"T_11cd47c2_714d_11ea_b58f_50e08586bf81row1_col10\" class=\"data row1 col10\" >Real Bed</td>\n",
       "                        <td id=\"T_11cd47c2_714d_11ea_b58f_50e08586bf81row1_col11\" class=\"data row1 col11\" >$105.00 </td>\n",
       "                        <td id=\"T_11cd47c2_714d_11ea_b58f_50e08586bf81row1_col12\" class=\"data row1 col12\" >nan</td>\n",
       "                        <td id=\"T_11cd47c2_714d_11ea_b58f_50e08586bf81row1_col13\" class=\"data row1 col13\" >nan</td>\n",
       "                        <td id=\"T_11cd47c2_714d_11ea_b58f_50e08586bf81row1_col14\" class=\"data row1 col14\" >1</td>\n",
       "                        <td id=\"T_11cd47c2_714d_11ea_b58f_50e08586bf81row1_col15\" class=\"data row1 col15\" >180</td>\n",
       "                        <td id=\"T_11cd47c2_714d_11ea_b58f_50e08586bf81row1_col16\" class=\"data row1 col16\" >28</td>\n",
       "                        <td id=\"T_11cd47c2_714d_11ea_b58f_50e08586bf81row1_col17\" class=\"data row1 col17\" >58</td>\n",
       "                        <td id=\"T_11cd47c2_714d_11ea_b58f_50e08586bf81row1_col18\" class=\"data row1 col18\" >88</td>\n",
       "                        <td id=\"T_11cd47c2_714d_11ea_b58f_50e08586bf81row1_col19\" class=\"data row1 col19\" >348</td>\n",
       "                        <td id=\"T_11cd47c2_714d_11ea_b58f_50e08586bf81row1_col20\" class=\"data row1 col20\" >22</td>\n",
       "                        <td id=\"T_11cd47c2_714d_11ea_b58f_50e08586bf81row1_col21\" class=\"data row1 col21\" >85.000000</td>\n",
       "                        <td id=\"T_11cd47c2_714d_11ea_b58f_50e08586bf81row1_col22\" class=\"data row1 col22\" >8.000000</td>\n",
       "                        <td id=\"T_11cd47c2_714d_11ea_b58f_50e08586bf81row1_col23\" class=\"data row1 col23\" >8.000000</td>\n",
       "                        <td id=\"T_11cd47c2_714d_11ea_b58f_50e08586bf81row1_col24\" class=\"data row1 col24\" >9.000000</td>\n",
       "                        <td id=\"T_11cd47c2_714d_11ea_b58f_50e08586bf81row1_col25\" class=\"data row1 col25\" >8.000000</td>\n",
       "                        <td id=\"T_11cd47c2_714d_11ea_b58f_50e08586bf81row1_col26\" class=\"data row1 col26\" >7.000000</td>\n",
       "                        <td id=\"T_11cd47c2_714d_11ea_b58f_50e08586bf81row1_col27\" class=\"data row1 col27\" >8.000000</td>\n",
       "            </tr>\n",
       "            <tr>\n",
       "                                <td id=\"T_11cd47c2_714d_11ea_b58f_50e08586bf81row2_col0\" class=\"data row2 col0\" >2061725</td>\n",
       "                        <td id=\"T_11cd47c2_714d_11ea_b58f_50e08586bf81row2_col1\" class=\"data row2 col1\" >4601412</td>\n",
       "                        <td id=\"T_11cd47c2_714d_11ea_b58f_50e08586bf81row2_col2\" class=\"data row2 col2\" >1/5/13</td>\n",
       "                        <td id=\"T_11cd47c2_714d_11ea_b58f_50e08586bf81row2_col3\" class=\"data row2 col3\" >11221</td>\n",
       "                        <td id=\"T_11cd47c2_714d_11ea_b58f_50e08586bf81row2_col4\" class=\"data row2 col4\" >Apartment</td>\n",
       "                        <td id=\"T_11cd47c2_714d_11ea_b58f_50e08586bf81row2_col5\" class=\"data row2 col5\" >Private room</td>\n",
       "                        <td id=\"T_11cd47c2_714d_11ea_b58f_50e08586bf81row2_col6\" class=\"data row2 col6\" >2</td>\n",
       "                        <td id=\"T_11cd47c2_714d_11ea_b58f_50e08586bf81row2_col7\" class=\"data row2 col7\" >1.000000</td>\n",
       "                        <td id=\"T_11cd47c2_714d_11ea_b58f_50e08586bf81row2_col8\" class=\"data row2 col8\" >1.000000</td>\n",
       "                        <td id=\"T_11cd47c2_714d_11ea_b58f_50e08586bf81row2_col9\" class=\"data row2 col9\" >2.000000</td>\n",
       "                        <td id=\"T_11cd47c2_714d_11ea_b58f_50e08586bf81row2_col10\" class=\"data row2 col10\" >Real Bed</td>\n",
       "                        <td id=\"T_11cd47c2_714d_11ea_b58f_50e08586bf81row2_col11\" class=\"data row2 col11\" >$58.00 </td>\n",
       "                        <td id=\"T_11cd47c2_714d_11ea_b58f_50e08586bf81row2_col12\" class=\"data row2 col12\" >nan</td>\n",
       "                        <td id=\"T_11cd47c2_714d_11ea_b58f_50e08586bf81row2_col13\" class=\"data row2 col13\" >nan</td>\n",
       "                        <td id=\"T_11cd47c2_714d_11ea_b58f_50e08586bf81row2_col14\" class=\"data row2 col14\" >3</td>\n",
       "                        <td id=\"T_11cd47c2_714d_11ea_b58f_50e08586bf81row2_col15\" class=\"data row2 col15\" >30</td>\n",
       "                        <td id=\"T_11cd47c2_714d_11ea_b58f_50e08586bf81row2_col16\" class=\"data row2 col16\" >4</td>\n",
       "                        <td id=\"T_11cd47c2_714d_11ea_b58f_50e08586bf81row2_col17\" class=\"data row2 col17\" >13</td>\n",
       "                        <td id=\"T_11cd47c2_714d_11ea_b58f_50e08586bf81row2_col18\" class=\"data row2 col18\" >26</td>\n",
       "                        <td id=\"T_11cd47c2_714d_11ea_b58f_50e08586bf81row2_col19\" class=\"data row2 col19\" >227</td>\n",
       "                        <td id=\"T_11cd47c2_714d_11ea_b58f_50e08586bf81row2_col20\" class=\"data row2 col20\" >35</td>\n",
       "                        <td id=\"T_11cd47c2_714d_11ea_b58f_50e08586bf81row2_col21\" class=\"data row2 col21\" >98.000000</td>\n",
       "                        <td id=\"T_11cd47c2_714d_11ea_b58f_50e08586bf81row2_col22\" class=\"data row2 col22\" >10.000000</td>\n",
       "                        <td id=\"T_11cd47c2_714d_11ea_b58f_50e08586bf81row2_col23\" class=\"data row2 col23\" >10.000000</td>\n",
       "                        <td id=\"T_11cd47c2_714d_11ea_b58f_50e08586bf81row2_col24\" class=\"data row2 col24\" >10.000000</td>\n",
       "                        <td id=\"T_11cd47c2_714d_11ea_b58f_50e08586bf81row2_col25\" class=\"data row2 col25\" >10.000000</td>\n",
       "                        <td id=\"T_11cd47c2_714d_11ea_b58f_50e08586bf81row2_col26\" class=\"data row2 col26\" >9.000000</td>\n",
       "                        <td id=\"T_11cd47c2_714d_11ea_b58f_50e08586bf81row2_col27\" class=\"data row2 col27\" >10.000000</td>\n",
       "            </tr>\n",
       "            <tr>\n",
       "                                <td id=\"T_11cd47c2_714d_11ea_b58f_50e08586bf81row3_col0\" class=\"data row3 col0\" >44974</td>\n",
       "                        <td id=\"T_11cd47c2_714d_11ea_b58f_50e08586bf81row3_col1\" class=\"data row3 col1\" >198425</td>\n",
       "                        <td id=\"T_11cd47c2_714d_11ea_b58f_50e08586bf81row3_col2\" class=\"data row3 col2\" >8/11/10</td>\n",
       "                        <td id=\"T_11cd47c2_714d_11ea_b58f_50e08586bf81row3_col3\" class=\"data row3 col3\" >10011</td>\n",
       "                        <td id=\"T_11cd47c2_714d_11ea_b58f_50e08586bf81row3_col4\" class=\"data row3 col4\" >Apartment</td>\n",
       "                        <td id=\"T_11cd47c2_714d_11ea_b58f_50e08586bf81row3_col5\" class=\"data row3 col5\" >Entire home/apt</td>\n",
       "                        <td id=\"T_11cd47c2_714d_11ea_b58f_50e08586bf81row3_col6\" class=\"data row3 col6\" >2</td>\n",
       "                        <td id=\"T_11cd47c2_714d_11ea_b58f_50e08586bf81row3_col7\" class=\"data row3 col7\" >1.000000</td>\n",
       "                        <td id=\"T_11cd47c2_714d_11ea_b58f_50e08586bf81row3_col8\" class=\"data row3 col8\" >1.000000</td>\n",
       "                        <td id=\"T_11cd47c2_714d_11ea_b58f_50e08586bf81row3_col9\" class=\"data row3 col9\" >1.000000</td>\n",
       "                        <td id=\"T_11cd47c2_714d_11ea_b58f_50e08586bf81row3_col10\" class=\"data row3 col10\" >Real Bed</td>\n",
       "                        <td id=\"T_11cd47c2_714d_11ea_b58f_50e08586bf81row3_col11\" class=\"data row3 col11\" >$185.00 </td>\n",
       "                        <td id=\"T_11cd47c2_714d_11ea_b58f_50e08586bf81row3_col12\" class=\"data row3 col12\" >nan</td>\n",
       "                        <td id=\"T_11cd47c2_714d_11ea_b58f_50e08586bf81row3_col13\" class=\"data row3 col13\" >$3,400.00 </td>\n",
       "                        <td id=\"T_11cd47c2_714d_11ea_b58f_50e08586bf81row3_col14\" class=\"data row3 col14\" >10</td>\n",
       "                        <td id=\"T_11cd47c2_714d_11ea_b58f_50e08586bf81row3_col15\" class=\"data row3 col15\" >30</td>\n",
       "                        <td id=\"T_11cd47c2_714d_11ea_b58f_50e08586bf81row3_col16\" class=\"data row3 col16\" >1</td>\n",
       "                        <td id=\"T_11cd47c2_714d_11ea_b58f_50e08586bf81row3_col17\" class=\"data row3 col17\" >1</td>\n",
       "                        <td id=\"T_11cd47c2_714d_11ea_b58f_50e08586bf81row3_col18\" class=\"data row3 col18\" >1</td>\n",
       "                        <td id=\"T_11cd47c2_714d_11ea_b58f_50e08586bf81row3_col19\" class=\"data row3 col19\" >274</td>\n",
       "                        <td id=\"T_11cd47c2_714d_11ea_b58f_50e08586bf81row3_col20\" class=\"data row3 col20\" >26</td>\n",
       "                        <td id=\"T_11cd47c2_714d_11ea_b58f_50e08586bf81row3_col21\" class=\"data row3 col21\" >96.000000</td>\n",
       "                        <td id=\"T_11cd47c2_714d_11ea_b58f_50e08586bf81row3_col22\" class=\"data row3 col22\" >10.000000</td>\n",
       "                        <td id=\"T_11cd47c2_714d_11ea_b58f_50e08586bf81row3_col23\" class=\"data row3 col23\" >9.000000</td>\n",
       "                        <td id=\"T_11cd47c2_714d_11ea_b58f_50e08586bf81row3_col24\" class=\"data row3 col24\" >10.000000</td>\n",
       "                        <td id=\"T_11cd47c2_714d_11ea_b58f_50e08586bf81row3_col25\" class=\"data row3 col25\" >10.000000</td>\n",
       "                        <td id=\"T_11cd47c2_714d_11ea_b58f_50e08586bf81row3_col26\" class=\"data row3 col26\" >10.000000</td>\n",
       "                        <td id=\"T_11cd47c2_714d_11ea_b58f_50e08586bf81row3_col27\" class=\"data row3 col27\" >9.000000</td>\n",
       "            </tr>\n",
       "            <tr>\n",
       "                                <td id=\"T_11cd47c2_714d_11ea_b58f_50e08586bf81row4_col0\" class=\"data row4 col0\" >4701675</td>\n",
       "                        <td id=\"T_11cd47c2_714d_11ea_b58f_50e08586bf81row4_col1\" class=\"data row4 col1\" >22590025</td>\n",
       "                        <td id=\"T_11cd47c2_714d_11ea_b58f_50e08586bf81row4_col2\" class=\"data row4 col2\" >10/15/14</td>\n",
       "                        <td id=\"T_11cd47c2_714d_11ea_b58f_50e08586bf81row4_col3\" class=\"data row4 col3\" >10011</td>\n",
       "                        <td id=\"T_11cd47c2_714d_11ea_b58f_50e08586bf81row4_col4\" class=\"data row4 col4\" >Apartment</td>\n",
       "                        <td id=\"T_11cd47c2_714d_11ea_b58f_50e08586bf81row4_col5\" class=\"data row4 col5\" >Entire home/apt</td>\n",
       "                        <td id=\"T_11cd47c2_714d_11ea_b58f_50e08586bf81row4_col6\" class=\"data row4 col6\" >2</td>\n",
       "                        <td id=\"T_11cd47c2_714d_11ea_b58f_50e08586bf81row4_col7\" class=\"data row4 col7\" >1.000000</td>\n",
       "                        <td id=\"T_11cd47c2_714d_11ea_b58f_50e08586bf81row4_col8\" class=\"data row4 col8\" >1.000000</td>\n",
       "                        <td id=\"T_11cd47c2_714d_11ea_b58f_50e08586bf81row4_col9\" class=\"data row4 col9\" >2.000000</td>\n",
       "                        <td id=\"T_11cd47c2_714d_11ea_b58f_50e08586bf81row4_col10\" class=\"data row4 col10\" >Real Bed</td>\n",
       "                        <td id=\"T_11cd47c2_714d_11ea_b58f_50e08586bf81row4_col11\" class=\"data row4 col11\" >$195.00 </td>\n",
       "                        <td id=\"T_11cd47c2_714d_11ea_b58f_50e08586bf81row4_col12\" class=\"data row4 col12\" >nan</td>\n",
       "                        <td id=\"T_11cd47c2_714d_11ea_b58f_50e08586bf81row4_col13\" class=\"data row4 col13\" >nan</td>\n",
       "                        <td id=\"T_11cd47c2_714d_11ea_b58f_50e08586bf81row4_col14\" class=\"data row4 col14\" >1</td>\n",
       "                        <td id=\"T_11cd47c2_714d_11ea_b58f_50e08586bf81row4_col15\" class=\"data row4 col15\" >1125</td>\n",
       "                        <td id=\"T_11cd47c2_714d_11ea_b58f_50e08586bf81row4_col16\" class=\"data row4 col16\" >30</td>\n",
       "                        <td id=\"T_11cd47c2_714d_11ea_b58f_50e08586bf81row4_col17\" class=\"data row4 col17\" >60</td>\n",
       "                        <td id=\"T_11cd47c2_714d_11ea_b58f_50e08586bf81row4_col18\" class=\"data row4 col18\" >90</td>\n",
       "                        <td id=\"T_11cd47c2_714d_11ea_b58f_50e08586bf81row4_col19\" class=\"data row4 col19\" >365</td>\n",
       "                        <td id=\"T_11cd47c2_714d_11ea_b58f_50e08586bf81row4_col20\" class=\"data row4 col20\" >1</td>\n",
       "                        <td id=\"T_11cd47c2_714d_11ea_b58f_50e08586bf81row4_col21\" class=\"data row4 col21\" >100.000000</td>\n",
       "                        <td id=\"T_11cd47c2_714d_11ea_b58f_50e08586bf81row4_col22\" class=\"data row4 col22\" >10.000000</td>\n",
       "                        <td id=\"T_11cd47c2_714d_11ea_b58f_50e08586bf81row4_col23\" class=\"data row4 col23\" >10.000000</td>\n",
       "                        <td id=\"T_11cd47c2_714d_11ea_b58f_50e08586bf81row4_col24\" class=\"data row4 col24\" >10.000000</td>\n",
       "                        <td id=\"T_11cd47c2_714d_11ea_b58f_50e08586bf81row4_col25\" class=\"data row4 col25\" >10.000000</td>\n",
       "                        <td id=\"T_11cd47c2_714d_11ea_b58f_50e08586bf81row4_col26\" class=\"data row4 col26\" >10.000000</td>\n",
       "                        <td id=\"T_11cd47c2_714d_11ea_b58f_50e08586bf81row4_col27\" class=\"data row4 col27\" >10.000000</td>\n",
       "            </tr>\n",
       "    </tbody></table>"
      ],
      "text/plain": [
       "<pandas.io.formats.style.Styler at 0x212522bd788>"
      ]
     },
     "execution_count": 6,
     "metadata": {},
     "output_type": "execute_result"
    }
   ],
   "source": [
    "Data.head().style.hide_index()"
   ]
  },
  {
   "cell_type": "markdown",
   "metadata": {},
   "source": [
    "## Removing the dollar sign"
   ]
  },
  {
   "cell_type": "code",
   "execution_count": 7,
   "metadata": {},
   "outputs": [
    {
     "data": {
      "text/html": [
       "<div>\n",
       "<style scoped>\n",
       "    .dataframe tbody tr th:only-of-type {\n",
       "        vertical-align: middle;\n",
       "    }\n",
       "\n",
       "    .dataframe tbody tr th {\n",
       "        vertical-align: top;\n",
       "    }\n",
       "\n",
       "    .dataframe thead th {\n",
       "        text-align: right;\n",
       "    }\n",
       "</style>\n",
       "<table border=\"1\" class=\"dataframe\">\n",
       "  <thead>\n",
       "    <tr style=\"text-align: right;\">\n",
       "      <th></th>\n",
       "      <th>price</th>\n",
       "      <th>weekly_price</th>\n",
       "      <th>monthly_price</th>\n",
       "    </tr>\n",
       "  </thead>\n",
       "  <tbody>\n",
       "    <tr>\n",
       "      <th>0</th>\n",
       "      <td>$160.00</td>\n",
       "      <td>$1,000.00</td>\n",
       "      <td>NaN</td>\n",
       "    </tr>\n",
       "    <tr>\n",
       "      <th>1</th>\n",
       "      <td>$105.00</td>\n",
       "      <td>NaN</td>\n",
       "      <td>NaN</td>\n",
       "    </tr>\n",
       "    <tr>\n",
       "      <th>2</th>\n",
       "      <td>$58.00</td>\n",
       "      <td>NaN</td>\n",
       "      <td>NaN</td>\n",
       "    </tr>\n",
       "    <tr>\n",
       "      <th>3</th>\n",
       "      <td>$185.00</td>\n",
       "      <td>NaN</td>\n",
       "      <td>$3,400.00</td>\n",
       "    </tr>\n",
       "    <tr>\n",
       "      <th>4</th>\n",
       "      <td>$195.00</td>\n",
       "      <td>NaN</td>\n",
       "      <td>NaN</td>\n",
       "    </tr>\n",
       "  </tbody>\n",
       "</table>\n",
       "</div>"
      ],
      "text/plain": [
       "      price weekly_price monthly_price\n",
       "0  $160.00    $1,000.00            NaN\n",
       "1  $105.00           NaN           NaN\n",
       "2   $58.00           NaN           NaN\n",
       "3  $185.00           NaN    $3,400.00 \n",
       "4  $195.00           NaN           NaN"
      ]
     },
     "execution_count": 7,
     "metadata": {},
     "output_type": "execute_result"
    }
   ],
   "source": [
    "Columns_list=Data.columns\n",
    "Price_List=list()\n",
    "for i in range(len(Columns_list)):\n",
    "    if Columns_list[i].find('price') != -1:\n",
    "        Price_List.append(Columns_list[i])\n",
    "Data[Price_List].head()"
   ]
  },
  {
   "cell_type": "code",
   "execution_count": 8,
   "metadata": {
    "scrolled": true
   },
   "outputs": [
    {
     "data": {
      "text/html": [
       "<div>\n",
       "<style scoped>\n",
       "    .dataframe tbody tr th:only-of-type {\n",
       "        vertical-align: middle;\n",
       "    }\n",
       "\n",
       "    .dataframe tbody tr th {\n",
       "        vertical-align: top;\n",
       "    }\n",
       "\n",
       "    .dataframe thead th {\n",
       "        text-align: right;\n",
       "    }\n",
       "</style>\n",
       "<table border=\"1\" class=\"dataframe\">\n",
       "  <thead>\n",
       "    <tr style=\"text-align: right;\">\n",
       "      <th></th>\n",
       "      <th>price</th>\n",
       "      <th>weekly_price</th>\n",
       "      <th>monthly_price</th>\n",
       "    </tr>\n",
       "  </thead>\n",
       "  <tbody>\n",
       "    <tr>\n",
       "      <th>0</th>\n",
       "      <td>160.0</td>\n",
       "      <td>1000.0</td>\n",
       "      <td>NaN</td>\n",
       "    </tr>\n",
       "    <tr>\n",
       "      <th>1</th>\n",
       "      <td>105.0</td>\n",
       "      <td>NaN</td>\n",
       "      <td>NaN</td>\n",
       "    </tr>\n",
       "    <tr>\n",
       "      <th>2</th>\n",
       "      <td>58.0</td>\n",
       "      <td>NaN</td>\n",
       "      <td>NaN</td>\n",
       "    </tr>\n",
       "    <tr>\n",
       "      <th>3</th>\n",
       "      <td>185.0</td>\n",
       "      <td>NaN</td>\n",
       "      <td>3400.0</td>\n",
       "    </tr>\n",
       "    <tr>\n",
       "      <th>4</th>\n",
       "      <td>195.0</td>\n",
       "      <td>NaN</td>\n",
       "      <td>NaN</td>\n",
       "    </tr>\n",
       "  </tbody>\n",
       "</table>\n",
       "</div>"
      ],
      "text/plain": [
       "   price  weekly_price  monthly_price\n",
       "0  160.0        1000.0            NaN\n",
       "1  105.0           NaN            NaN\n",
       "2   58.0           NaN            NaN\n",
       "3  185.0           NaN         3400.0\n",
       "4  195.0           NaN            NaN"
      ]
     },
     "execution_count": 8,
     "metadata": {},
     "output_type": "execute_result"
    }
   ],
   "source": [
    "for i in Price_List:\n",
    "    Data[i] = (Data[i].str.replace(r'[^-+\\d.]', '').astype(float))\n",
    "del i\n",
    "Data[Price_List].head()"
   ]
  },
  {
   "cell_type": "markdown",
   "metadata": {},
   "source": [
    "## Dealing with Missing Data"
   ]
  },
  {
   "cell_type": "markdown",
   "metadata": {},
   "source": [
    "Let's check the number of missing values"
   ]
  },
  {
   "cell_type": "code",
   "execution_count": 9,
   "metadata": {},
   "outputs": [],
   "source": [
    "def Data_info(Inp, Only_NaN = False):\n",
    "    Out = pd.DataFrame(Inp.dtypes,columns=['Data Type']).sort_values(by=['Data Type'])\n",
    "    Out = Out.join(pd.DataFrame(Inp.isnull().sum(), columns=['Number of NaN Values']), how='outer')\n",
    "    Out['Percentage'] = np.round(100*(Out['Number of NaN Values']/Inp.shape[0]),2)\n",
    "    if Only_NaN:\n",
    "        Out = Out.loc[Out['Number of NaN Values']>0]\n",
    "    return Out"
   ]
  },
  {
   "cell_type": "code",
   "execution_count": 10,
   "metadata": {},
   "outputs": [
    {
     "data": {
      "text/html": [
       "<div>\n",
       "<style scoped>\n",
       "    .dataframe tbody tr th:only-of-type {\n",
       "        vertical-align: middle;\n",
       "    }\n",
       "\n",
       "    .dataframe tbody tr th {\n",
       "        vertical-align: top;\n",
       "    }\n",
       "\n",
       "    .dataframe thead th {\n",
       "        text-align: right;\n",
       "    }\n",
       "</style>\n",
       "<table border=\"1\" class=\"dataframe\">\n",
       "  <thead>\n",
       "    <tr style=\"text-align: right;\">\n",
       "      <th></th>\n",
       "      <th>Data Type</th>\n",
       "      <th>Number of NaN Values</th>\n",
       "      <th>Percentage</th>\n",
       "    </tr>\n",
       "  </thead>\n",
       "  <tbody>\n",
       "    <tr>\n",
       "      <th>bathrooms</th>\n",
       "      <td>float64</td>\n",
       "      <td>463</td>\n",
       "      <td>1.69</td>\n",
       "    </tr>\n",
       "    <tr>\n",
       "      <th>bedrooms</th>\n",
       "      <td>float64</td>\n",
       "      <td>140</td>\n",
       "      <td>0.51</td>\n",
       "    </tr>\n",
       "    <tr>\n",
       "      <th>beds</th>\n",
       "      <td>float64</td>\n",
       "      <td>98</td>\n",
       "      <td>0.36</td>\n",
       "    </tr>\n",
       "    <tr>\n",
       "      <th>monthly_price</th>\n",
       "      <td>float64</td>\n",
       "      <td>17558</td>\n",
       "      <td>64.10</td>\n",
       "    </tr>\n",
       "    <tr>\n",
       "      <th>property_type</th>\n",
       "      <td>object</td>\n",
       "      <td>6</td>\n",
       "      <td>0.02</td>\n",
       "    </tr>\n",
       "    <tr>\n",
       "      <th>review_scores_accuracy</th>\n",
       "      <td>float64</td>\n",
       "      <td>8727</td>\n",
       "      <td>31.86</td>\n",
       "    </tr>\n",
       "    <tr>\n",
       "      <th>review_scores_checkin</th>\n",
       "      <td>float64</td>\n",
       "      <td>8729</td>\n",
       "      <td>31.87</td>\n",
       "    </tr>\n",
       "    <tr>\n",
       "      <th>review_scores_cleanliness</th>\n",
       "      <td>float64</td>\n",
       "      <td>8731</td>\n",
       "      <td>31.87</td>\n",
       "    </tr>\n",
       "    <tr>\n",
       "      <th>review_scores_communication</th>\n",
       "      <td>float64</td>\n",
       "      <td>8731</td>\n",
       "      <td>31.87</td>\n",
       "    </tr>\n",
       "    <tr>\n",
       "      <th>review_scores_location</th>\n",
       "      <td>float64</td>\n",
       "      <td>8732</td>\n",
       "      <td>31.88</td>\n",
       "    </tr>\n",
       "    <tr>\n",
       "      <th>review_scores_rating</th>\n",
       "      <td>float64</td>\n",
       "      <td>8657</td>\n",
       "      <td>31.60</td>\n",
       "    </tr>\n",
       "    <tr>\n",
       "      <th>review_scores_value</th>\n",
       "      <td>float64</td>\n",
       "      <td>8734</td>\n",
       "      <td>31.89</td>\n",
       "    </tr>\n",
       "    <tr>\n",
       "      <th>weekly_price</th>\n",
       "      <td>float64</td>\n",
       "      <td>15374</td>\n",
       "      <td>56.13</td>\n",
       "    </tr>\n",
       "    <tr>\n",
       "      <th>zipcode</th>\n",
       "      <td>object</td>\n",
       "      <td>162</td>\n",
       "      <td>0.59</td>\n",
       "    </tr>\n",
       "  </tbody>\n",
       "</table>\n",
       "</div>"
      ],
      "text/plain": [
       "                            Data Type  Number of NaN Values  Percentage\n",
       "bathrooms                     float64                   463        1.69\n",
       "bedrooms                      float64                   140        0.51\n",
       "beds                          float64                    98        0.36\n",
       "monthly_price                 float64                 17558       64.10\n",
       "property_type                  object                     6        0.02\n",
       "review_scores_accuracy        float64                  8727       31.86\n",
       "review_scores_checkin         float64                  8729       31.87\n",
       "review_scores_cleanliness     float64                  8731       31.87\n",
       "review_scores_communication   float64                  8731       31.87\n",
       "review_scores_location        float64                  8732       31.88\n",
       "review_scores_rating          float64                  8657       31.60\n",
       "review_scores_value           float64                  8734       31.89\n",
       "weekly_price                  float64                 15374       56.13\n",
       "zipcode                        object                   162        0.59"
      ]
     },
     "execution_count": 10,
     "metadata": {},
     "output_type": "execute_result"
    }
   ],
   "source": [
    "Missing_Values = Data_info(Data, True)\n",
    "Missing_Values"
   ]
  },
  {
   "cell_type": "markdown",
   "metadata": {},
   "source": [
    "### Imputation of the missing values"
   ]
  },
  {
   "cell_type": "code",
   "execution_count": 11,
   "metadata": {},
   "outputs": [],
   "source": [
    "def hlg(inp):\n",
    "    print(Back.CYAN +'\"%s\":' % inp)\n",
    "    print(Style.RESET_ALL)"
   ]
  },
  {
   "cell_type": "code",
   "execution_count": 12,
   "metadata": {},
   "outputs": [
    {
     "name": "stdout",
     "output_type": "stream",
     "text": [
      "\u001b[46m\"float64 List:\":\n",
      "\u001b[0m\n",
      "['bathrooms', 'bedrooms', 'beds', 'monthly_price', 'review_scores_accuracy', 'review_scores_checkin', 'review_scores_cleanliness', 'review_scores_communication', 'review_scores_location', 'review_scores_rating', 'review_scores_value', 'weekly_price']\n",
      "\u001b[46m\"Object List:\":\n",
      "\u001b[0m\n",
      "['property_type', 'zipcode']\n"
     ]
    }
   ],
   "source": [
    "Num_list= Missing_Values.loc[(Missing_Values['Data Type'] == 'float64')].index.tolist()\n",
    "Str_list= Missing_Values.loc[(Missing_Values['Data Type'] == 'object')].index.tolist()\n",
    "hlg('float64 List:')\n",
    "print(Num_list)\n",
    "hlg('Object List:')\n",
    "print(Str_list)"
   ]
  },
  {
   "cell_type": "markdown",
   "metadata": {},
   "source": [
    "#### Numeric Data"
   ]
  },
  {
   "cell_type": "code",
   "execution_count": 13,
   "metadata": {},
   "outputs": [],
   "source": [
    "imp= SimpleImputer(missing_values=np.nan, strategy='mean')\n",
    "for i in Num_list:\n",
    "    temp=imp.fit_transform(Data[i].values.reshape(-1, 1))\n",
    "    Data[i]=temp\n",
    "    del temp"
   ]
  },
  {
   "cell_type": "markdown",
   "metadata": {},
   "source": [
    "Note that now,"
   ]
  },
  {
   "cell_type": "code",
   "execution_count": 14,
   "metadata": {},
   "outputs": [
    {
     "name": "stdout",
     "output_type": "stream",
     "text": [
      "Number of zero availabe bedrooms: 2338\n"
     ]
    }
   ],
   "source": [
    "Temp=['accommodates','bedrooms','beds','price']\n",
    "Drop_list=list()\n",
    "for i in Temp:\n",
    "    if len(Data[Data[i] == 0])>0:\n",
    "        print('Number of zero availabe %s: %i' % (i,len(Data[Data[i] == 0])))\n",
    "        Drop_list.append(i)"
   ]
  },
  {
   "cell_type": "markdown",
   "metadata": {},
   "source": [
    "Droping these rows,"
   ]
  },
  {
   "cell_type": "code",
   "execution_count": 15,
   "metadata": {},
   "outputs": [],
   "source": [
    "for i in Drop_list:\n",
    "    Data = Data[Data[i] != 0.00]"
   ]
  },
  {
   "cell_type": "markdown",
   "metadata": {},
   "source": [
    "Moreover, some columns only take integers as values. For these columns, we have,"
   ]
  },
  {
   "cell_type": "code",
   "execution_count": 16,
   "metadata": {},
   "outputs": [],
   "source": [
    "Temp=['accommodates','bedrooms','beds']\n",
    "Data[Temp]=Data[Temp].round(0).astype(int)"
   ]
  },
  {
   "cell_type": "markdown",
   "metadata": {},
   "source": [
    "#### Text Data"
   ]
  },
  {
   "cell_type": "code",
   "execution_count": 17,
   "metadata": {},
   "outputs": [
    {
     "data": {
      "text/html": [
       "<div>\n",
       "<style scoped>\n",
       "    .dataframe tbody tr th:only-of-type {\n",
       "        vertical-align: middle;\n",
       "    }\n",
       "\n",
       "    .dataframe tbody tr th {\n",
       "        vertical-align: top;\n",
       "    }\n",
       "\n",
       "    .dataframe thead th {\n",
       "        text-align: right;\n",
       "    }\n",
       "</style>\n",
       "<table border=\"1\" class=\"dataframe\">\n",
       "  <thead>\n",
       "    <tr style=\"text-align: right;\">\n",
       "      <th></th>\n",
       "      <th>Data Type</th>\n",
       "      <th>Number of NaN Values</th>\n",
       "      <th>Percentage</th>\n",
       "    </tr>\n",
       "  </thead>\n",
       "  <tbody>\n",
       "    <tr>\n",
       "      <th>property_type</th>\n",
       "      <td>object</td>\n",
       "      <td>6</td>\n",
       "      <td>0.02</td>\n",
       "    </tr>\n",
       "    <tr>\n",
       "      <th>zipcode</th>\n",
       "      <td>object</td>\n",
       "      <td>148</td>\n",
       "      <td>0.59</td>\n",
       "    </tr>\n",
       "  </tbody>\n",
       "</table>\n",
       "</div>"
      ],
      "text/plain": [
       "              Data Type  Number of NaN Values  Percentage\n",
       "property_type    object                     6        0.02\n",
       "zipcode          object                   148        0.59"
      ]
     },
     "execution_count": 17,
     "metadata": {},
     "output_type": "execute_result"
    }
   ],
   "source": [
    "Data_info(Data, True)"
   ]
  },
  {
   "cell_type": "markdown",
   "metadata": {},
   "source": [
    "Dropping the rows with NaN as zipcode"
   ]
  },
  {
   "cell_type": "code",
   "execution_count": 18,
   "metadata": {},
   "outputs": [],
   "source": [
    "Data=Data.drop(list(Data[Data.zipcode.isna()==True].index))"
   ]
  },
  {
   "cell_type": "markdown",
   "metadata": {},
   "source": [
    "Converting the zipcode to five digits"
   ]
  },
  {
   "cell_type": "code",
   "execution_count": 19,
   "metadata": {},
   "outputs": [],
   "source": [
    "Data['zipcode'] = Data['zipcode'].str.replace(r'-\\d+', '')"
   ]
  },
  {
   "cell_type": "markdown",
   "metadata": {},
   "source": [
    "Note that"
   ]
  },
  {
   "cell_type": "code",
   "execution_count": 20,
   "metadata": {},
   "outputs": [
    {
     "data": {
      "text/plain": [
       "array(['10001', '10001', '10001', ..., '11694', '14072',\n",
       "       '8456422473 call for more details'], dtype=object)"
      ]
     },
     "execution_count": 20,
     "metadata": {},
     "output_type": "execute_result"
    }
   ],
   "source": [
    "np.sort(Data.zipcode)"
   ]
  },
  {
   "cell_type": "markdown",
   "metadata": {},
   "source": [
    "Thus,"
   ]
  },
  {
   "cell_type": "code",
   "execution_count": 21,
   "metadata": {},
   "outputs": [],
   "source": [
    "Data=Data[Data.zipcode!='8456422473 call for more details']"
   ]
  },
  {
   "cell_type": "markdown",
   "metadata": {},
   "source": [
    "Now,"
   ]
  },
  {
   "cell_type": "code",
   "execution_count": 22,
   "metadata": {},
   "outputs": [
    {
     "data": {
      "text/plain": [
       "array(['10001', '10001', '10001', ..., '11694', '11694', '14072'],\n",
       "      dtype=object)"
      ]
     },
     "execution_count": 22,
     "metadata": {},
     "output_type": "execute_result"
    }
   ],
   "source": [
    "np.sort(Data.zipcode)"
   ]
  },
  {
   "cell_type": "markdown",
   "metadata": {},
   "source": [
    "Now, we only have the following missing data"
   ]
  },
  {
   "cell_type": "code",
   "execution_count": 23,
   "metadata": {
    "scrolled": true
   },
   "outputs": [
    {
     "data": {
      "text/html": [
       "<div>\n",
       "<style scoped>\n",
       "    .dataframe tbody tr th:only-of-type {\n",
       "        vertical-align: middle;\n",
       "    }\n",
       "\n",
       "    .dataframe tbody tr th {\n",
       "        vertical-align: top;\n",
       "    }\n",
       "\n",
       "    .dataframe thead th {\n",
       "        text-align: right;\n",
       "    }\n",
       "</style>\n",
       "<table border=\"1\" class=\"dataframe\">\n",
       "  <thead>\n",
       "    <tr style=\"text-align: right;\">\n",
       "      <th></th>\n",
       "      <th>Data Type</th>\n",
       "      <th>Number of NaN Values</th>\n",
       "      <th>Percentage</th>\n",
       "    </tr>\n",
       "  </thead>\n",
       "  <tbody>\n",
       "    <tr>\n",
       "      <th>property_type</th>\n",
       "      <td>object</td>\n",
       "      <td>6</td>\n",
       "      <td>0.02</td>\n",
       "    </tr>\n",
       "  </tbody>\n",
       "</table>\n",
       "</div>"
      ],
      "text/plain": [
       "              Data Type  Number of NaN Values  Percentage\n",
       "property_type    object                     6        0.02"
      ]
     },
     "execution_count": 23,
     "metadata": {},
     "output_type": "execute_result"
    }
   ],
   "source": [
    "Data_info(Data, True)"
   ]
  },
  {
   "cell_type": "markdown",
   "metadata": {},
   "source": [
    "Thus, we set this column to **NY**"
   ]
  },
  {
   "cell_type": "markdown",
   "metadata": {},
   "source": [
    "As for **property type**, we have,"
   ]
  },
  {
   "cell_type": "code",
   "execution_count": 24,
   "metadata": {},
   "outputs": [],
   "source": [
    "imp = SimpleImputer(strategy=\"most_frequent\")\n",
    "temp=imp.fit_transform(Data.property_type.values.reshape(-1, 1))\n",
    "Data.property_type=temp\n",
    "del temp"
   ]
  },
  {
   "cell_type": "markdown",
   "metadata": {},
   "source": [
    "## Sorting the DataFrame columns"
   ]
  },
  {
   "cell_type": "code",
   "execution_count": 25,
   "metadata": {},
   "outputs": [],
   "source": [
    "temp=list(set(Data.columns.tolist())-set(['id']))\n",
    "temp.insert(0, 'id')\n",
    "#Data = Data.reindex(columns=sorted(Data.columns))\n",
    "Data = Data.reindex(columns=temp)\n",
    "del temp"
   ]
  },
  {
   "cell_type": "markdown",
   "metadata": {},
   "source": [
    "## Dealing with Categorical Variables\n",
    "\n",
    "### Properties "
   ]
  },
  {
   "cell_type": "code",
   "execution_count": 26,
   "metadata": {},
   "outputs": [
    {
     "data": {
      "text/html": [
       "<style  type=\"text/css\" >\n",
       "</style><table id=\"T_1204c36e_714d_11ea_9269_50e08586bf81\" ><thead>    <tr>        <th class=\"col_heading level0 col0\" >Apartment</th>        <th class=\"col_heading level0 col1\" >Bed & Breakfast</th>        <th class=\"col_heading level0 col2\" >Boat</th>        <th class=\"col_heading level0 col3\" >Cabin</th>        <th class=\"col_heading level0 col4\" >Camper/RV</th>        <th class=\"col_heading level0 col5\" >Castle</th>        <th class=\"col_heading level0 col6\" >Cave</th>        <th class=\"col_heading level0 col7\" >Chalet</th>        <th class=\"col_heading level0 col8\" >Dorm</th>        <th class=\"col_heading level0 col9\" >Earth House</th>        <th class=\"col_heading level0 col10\" >House</th>        <th class=\"col_heading level0 col11\" >Hut</th>        <th class=\"col_heading level0 col12\" >Lighthouse</th>        <th class=\"col_heading level0 col13\" >Loft</th>        <th class=\"col_heading level0 col14\" >Other</th>        <th class=\"col_heading level0 col15\" >Tent</th>        <th class=\"col_heading level0 col16\" >Treehouse</th>        <th class=\"col_heading level0 col17\" >Villa</th>    </tr></thead><tbody>\n",
       "                <tr>\n",
       "                                <td id=\"T_1204c36e_714d_11ea_9269_50e08586bf81row0_col0\" class=\"data row0 col0\" >1</td>\n",
       "                        <td id=\"T_1204c36e_714d_11ea_9269_50e08586bf81row0_col1\" class=\"data row0 col1\" >0</td>\n",
       "                        <td id=\"T_1204c36e_714d_11ea_9269_50e08586bf81row0_col2\" class=\"data row0 col2\" >0</td>\n",
       "                        <td id=\"T_1204c36e_714d_11ea_9269_50e08586bf81row0_col3\" class=\"data row0 col3\" >0</td>\n",
       "                        <td id=\"T_1204c36e_714d_11ea_9269_50e08586bf81row0_col4\" class=\"data row0 col4\" >0</td>\n",
       "                        <td id=\"T_1204c36e_714d_11ea_9269_50e08586bf81row0_col5\" class=\"data row0 col5\" >0</td>\n",
       "                        <td id=\"T_1204c36e_714d_11ea_9269_50e08586bf81row0_col6\" class=\"data row0 col6\" >0</td>\n",
       "                        <td id=\"T_1204c36e_714d_11ea_9269_50e08586bf81row0_col7\" class=\"data row0 col7\" >0</td>\n",
       "                        <td id=\"T_1204c36e_714d_11ea_9269_50e08586bf81row0_col8\" class=\"data row0 col8\" >0</td>\n",
       "                        <td id=\"T_1204c36e_714d_11ea_9269_50e08586bf81row0_col9\" class=\"data row0 col9\" >0</td>\n",
       "                        <td id=\"T_1204c36e_714d_11ea_9269_50e08586bf81row0_col10\" class=\"data row0 col10\" >0</td>\n",
       "                        <td id=\"T_1204c36e_714d_11ea_9269_50e08586bf81row0_col11\" class=\"data row0 col11\" >0</td>\n",
       "                        <td id=\"T_1204c36e_714d_11ea_9269_50e08586bf81row0_col12\" class=\"data row0 col12\" >0</td>\n",
       "                        <td id=\"T_1204c36e_714d_11ea_9269_50e08586bf81row0_col13\" class=\"data row0 col13\" >0</td>\n",
       "                        <td id=\"T_1204c36e_714d_11ea_9269_50e08586bf81row0_col14\" class=\"data row0 col14\" >0</td>\n",
       "                        <td id=\"T_1204c36e_714d_11ea_9269_50e08586bf81row0_col15\" class=\"data row0 col15\" >0</td>\n",
       "                        <td id=\"T_1204c36e_714d_11ea_9269_50e08586bf81row0_col16\" class=\"data row0 col16\" >0</td>\n",
       "                        <td id=\"T_1204c36e_714d_11ea_9269_50e08586bf81row0_col17\" class=\"data row0 col17\" >0</td>\n",
       "            </tr>\n",
       "            <tr>\n",
       "                                <td id=\"T_1204c36e_714d_11ea_9269_50e08586bf81row1_col0\" class=\"data row1 col0\" >1</td>\n",
       "                        <td id=\"T_1204c36e_714d_11ea_9269_50e08586bf81row1_col1\" class=\"data row1 col1\" >0</td>\n",
       "                        <td id=\"T_1204c36e_714d_11ea_9269_50e08586bf81row1_col2\" class=\"data row1 col2\" >0</td>\n",
       "                        <td id=\"T_1204c36e_714d_11ea_9269_50e08586bf81row1_col3\" class=\"data row1 col3\" >0</td>\n",
       "                        <td id=\"T_1204c36e_714d_11ea_9269_50e08586bf81row1_col4\" class=\"data row1 col4\" >0</td>\n",
       "                        <td id=\"T_1204c36e_714d_11ea_9269_50e08586bf81row1_col5\" class=\"data row1 col5\" >0</td>\n",
       "                        <td id=\"T_1204c36e_714d_11ea_9269_50e08586bf81row1_col6\" class=\"data row1 col6\" >0</td>\n",
       "                        <td id=\"T_1204c36e_714d_11ea_9269_50e08586bf81row1_col7\" class=\"data row1 col7\" >0</td>\n",
       "                        <td id=\"T_1204c36e_714d_11ea_9269_50e08586bf81row1_col8\" class=\"data row1 col8\" >0</td>\n",
       "                        <td id=\"T_1204c36e_714d_11ea_9269_50e08586bf81row1_col9\" class=\"data row1 col9\" >0</td>\n",
       "                        <td id=\"T_1204c36e_714d_11ea_9269_50e08586bf81row1_col10\" class=\"data row1 col10\" >0</td>\n",
       "                        <td id=\"T_1204c36e_714d_11ea_9269_50e08586bf81row1_col11\" class=\"data row1 col11\" >0</td>\n",
       "                        <td id=\"T_1204c36e_714d_11ea_9269_50e08586bf81row1_col12\" class=\"data row1 col12\" >0</td>\n",
       "                        <td id=\"T_1204c36e_714d_11ea_9269_50e08586bf81row1_col13\" class=\"data row1 col13\" >0</td>\n",
       "                        <td id=\"T_1204c36e_714d_11ea_9269_50e08586bf81row1_col14\" class=\"data row1 col14\" >0</td>\n",
       "                        <td id=\"T_1204c36e_714d_11ea_9269_50e08586bf81row1_col15\" class=\"data row1 col15\" >0</td>\n",
       "                        <td id=\"T_1204c36e_714d_11ea_9269_50e08586bf81row1_col16\" class=\"data row1 col16\" >0</td>\n",
       "                        <td id=\"T_1204c36e_714d_11ea_9269_50e08586bf81row1_col17\" class=\"data row1 col17\" >0</td>\n",
       "            </tr>\n",
       "            <tr>\n",
       "                                <td id=\"T_1204c36e_714d_11ea_9269_50e08586bf81row2_col0\" class=\"data row2 col0\" >1</td>\n",
       "                        <td id=\"T_1204c36e_714d_11ea_9269_50e08586bf81row2_col1\" class=\"data row2 col1\" >0</td>\n",
       "                        <td id=\"T_1204c36e_714d_11ea_9269_50e08586bf81row2_col2\" class=\"data row2 col2\" >0</td>\n",
       "                        <td id=\"T_1204c36e_714d_11ea_9269_50e08586bf81row2_col3\" class=\"data row2 col3\" >0</td>\n",
       "                        <td id=\"T_1204c36e_714d_11ea_9269_50e08586bf81row2_col4\" class=\"data row2 col4\" >0</td>\n",
       "                        <td id=\"T_1204c36e_714d_11ea_9269_50e08586bf81row2_col5\" class=\"data row2 col5\" >0</td>\n",
       "                        <td id=\"T_1204c36e_714d_11ea_9269_50e08586bf81row2_col6\" class=\"data row2 col6\" >0</td>\n",
       "                        <td id=\"T_1204c36e_714d_11ea_9269_50e08586bf81row2_col7\" class=\"data row2 col7\" >0</td>\n",
       "                        <td id=\"T_1204c36e_714d_11ea_9269_50e08586bf81row2_col8\" class=\"data row2 col8\" >0</td>\n",
       "                        <td id=\"T_1204c36e_714d_11ea_9269_50e08586bf81row2_col9\" class=\"data row2 col9\" >0</td>\n",
       "                        <td id=\"T_1204c36e_714d_11ea_9269_50e08586bf81row2_col10\" class=\"data row2 col10\" >0</td>\n",
       "                        <td id=\"T_1204c36e_714d_11ea_9269_50e08586bf81row2_col11\" class=\"data row2 col11\" >0</td>\n",
       "                        <td id=\"T_1204c36e_714d_11ea_9269_50e08586bf81row2_col12\" class=\"data row2 col12\" >0</td>\n",
       "                        <td id=\"T_1204c36e_714d_11ea_9269_50e08586bf81row2_col13\" class=\"data row2 col13\" >0</td>\n",
       "                        <td id=\"T_1204c36e_714d_11ea_9269_50e08586bf81row2_col14\" class=\"data row2 col14\" >0</td>\n",
       "                        <td id=\"T_1204c36e_714d_11ea_9269_50e08586bf81row2_col15\" class=\"data row2 col15\" >0</td>\n",
       "                        <td id=\"T_1204c36e_714d_11ea_9269_50e08586bf81row2_col16\" class=\"data row2 col16\" >0</td>\n",
       "                        <td id=\"T_1204c36e_714d_11ea_9269_50e08586bf81row2_col17\" class=\"data row2 col17\" >0</td>\n",
       "            </tr>\n",
       "            <tr>\n",
       "                                <td id=\"T_1204c36e_714d_11ea_9269_50e08586bf81row3_col0\" class=\"data row3 col0\" >1</td>\n",
       "                        <td id=\"T_1204c36e_714d_11ea_9269_50e08586bf81row3_col1\" class=\"data row3 col1\" >0</td>\n",
       "                        <td id=\"T_1204c36e_714d_11ea_9269_50e08586bf81row3_col2\" class=\"data row3 col2\" >0</td>\n",
       "                        <td id=\"T_1204c36e_714d_11ea_9269_50e08586bf81row3_col3\" class=\"data row3 col3\" >0</td>\n",
       "                        <td id=\"T_1204c36e_714d_11ea_9269_50e08586bf81row3_col4\" class=\"data row3 col4\" >0</td>\n",
       "                        <td id=\"T_1204c36e_714d_11ea_9269_50e08586bf81row3_col5\" class=\"data row3 col5\" >0</td>\n",
       "                        <td id=\"T_1204c36e_714d_11ea_9269_50e08586bf81row3_col6\" class=\"data row3 col6\" >0</td>\n",
       "                        <td id=\"T_1204c36e_714d_11ea_9269_50e08586bf81row3_col7\" class=\"data row3 col7\" >0</td>\n",
       "                        <td id=\"T_1204c36e_714d_11ea_9269_50e08586bf81row3_col8\" class=\"data row3 col8\" >0</td>\n",
       "                        <td id=\"T_1204c36e_714d_11ea_9269_50e08586bf81row3_col9\" class=\"data row3 col9\" >0</td>\n",
       "                        <td id=\"T_1204c36e_714d_11ea_9269_50e08586bf81row3_col10\" class=\"data row3 col10\" >0</td>\n",
       "                        <td id=\"T_1204c36e_714d_11ea_9269_50e08586bf81row3_col11\" class=\"data row3 col11\" >0</td>\n",
       "                        <td id=\"T_1204c36e_714d_11ea_9269_50e08586bf81row3_col12\" class=\"data row3 col12\" >0</td>\n",
       "                        <td id=\"T_1204c36e_714d_11ea_9269_50e08586bf81row3_col13\" class=\"data row3 col13\" >0</td>\n",
       "                        <td id=\"T_1204c36e_714d_11ea_9269_50e08586bf81row3_col14\" class=\"data row3 col14\" >0</td>\n",
       "                        <td id=\"T_1204c36e_714d_11ea_9269_50e08586bf81row3_col15\" class=\"data row3 col15\" >0</td>\n",
       "                        <td id=\"T_1204c36e_714d_11ea_9269_50e08586bf81row3_col16\" class=\"data row3 col16\" >0</td>\n",
       "                        <td id=\"T_1204c36e_714d_11ea_9269_50e08586bf81row3_col17\" class=\"data row3 col17\" >0</td>\n",
       "            </tr>\n",
       "            <tr>\n",
       "                                <td id=\"T_1204c36e_714d_11ea_9269_50e08586bf81row4_col0\" class=\"data row4 col0\" >1</td>\n",
       "                        <td id=\"T_1204c36e_714d_11ea_9269_50e08586bf81row4_col1\" class=\"data row4 col1\" >0</td>\n",
       "                        <td id=\"T_1204c36e_714d_11ea_9269_50e08586bf81row4_col2\" class=\"data row4 col2\" >0</td>\n",
       "                        <td id=\"T_1204c36e_714d_11ea_9269_50e08586bf81row4_col3\" class=\"data row4 col3\" >0</td>\n",
       "                        <td id=\"T_1204c36e_714d_11ea_9269_50e08586bf81row4_col4\" class=\"data row4 col4\" >0</td>\n",
       "                        <td id=\"T_1204c36e_714d_11ea_9269_50e08586bf81row4_col5\" class=\"data row4 col5\" >0</td>\n",
       "                        <td id=\"T_1204c36e_714d_11ea_9269_50e08586bf81row4_col6\" class=\"data row4 col6\" >0</td>\n",
       "                        <td id=\"T_1204c36e_714d_11ea_9269_50e08586bf81row4_col7\" class=\"data row4 col7\" >0</td>\n",
       "                        <td id=\"T_1204c36e_714d_11ea_9269_50e08586bf81row4_col8\" class=\"data row4 col8\" >0</td>\n",
       "                        <td id=\"T_1204c36e_714d_11ea_9269_50e08586bf81row4_col9\" class=\"data row4 col9\" >0</td>\n",
       "                        <td id=\"T_1204c36e_714d_11ea_9269_50e08586bf81row4_col10\" class=\"data row4 col10\" >0</td>\n",
       "                        <td id=\"T_1204c36e_714d_11ea_9269_50e08586bf81row4_col11\" class=\"data row4 col11\" >0</td>\n",
       "                        <td id=\"T_1204c36e_714d_11ea_9269_50e08586bf81row4_col12\" class=\"data row4 col12\" >0</td>\n",
       "                        <td id=\"T_1204c36e_714d_11ea_9269_50e08586bf81row4_col13\" class=\"data row4 col13\" >0</td>\n",
       "                        <td id=\"T_1204c36e_714d_11ea_9269_50e08586bf81row4_col14\" class=\"data row4 col14\" >0</td>\n",
       "                        <td id=\"T_1204c36e_714d_11ea_9269_50e08586bf81row4_col15\" class=\"data row4 col15\" >0</td>\n",
       "                        <td id=\"T_1204c36e_714d_11ea_9269_50e08586bf81row4_col16\" class=\"data row4 col16\" >0</td>\n",
       "                        <td id=\"T_1204c36e_714d_11ea_9269_50e08586bf81row4_col17\" class=\"data row4 col17\" >0</td>\n",
       "            </tr>\n",
       "    </tbody></table>"
      ],
      "text/plain": [
       "<pandas.io.formats.style.Styler at 0x21255699548>"
      ]
     },
     "execution_count": 26,
     "metadata": {},
     "output_type": "execute_result"
    }
   ],
   "source": [
    "Properties_Dummies = pd.get_dummies(Data['property_type'])\n",
    "Properties_Dummies.head().style.hide_index()"
   ]
  },
  {
   "cell_type": "code",
   "execution_count": 27,
   "metadata": {},
   "outputs": [],
   "source": [
    "Properties_List=Properties_Dummies.columns\n",
    "temp = Data.join(Properties_Dummies)\n",
    "Data=temp\n",
    "del temp, Properties_Dummies\n",
    "Data=Data.drop(columns=['property_type'])"
   ]
  },
  {
   "cell_type": "markdown",
   "metadata": {},
   "source": [
    "### Rooms"
   ]
  },
  {
   "cell_type": "code",
   "execution_count": 28,
   "metadata": {},
   "outputs": [
    {
     "data": {
      "text/html": [
       "<style  type=\"text/css\" >\n",
       "</style><table id=\"T_12096fde_714d_11ea_bbeb_50e08586bf81\" ><thead>    <tr>        <th class=\"col_heading level0 col0\" >Entire home/apt</th>        <th class=\"col_heading level0 col1\" >Private room</th>        <th class=\"col_heading level0 col2\" >Shared room</th>    </tr></thead><tbody>\n",
       "                <tr>\n",
       "                                <td id=\"T_12096fde_714d_11ea_bbeb_50e08586bf81row0_col0\" class=\"data row0 col0\" >1</td>\n",
       "                        <td id=\"T_12096fde_714d_11ea_bbeb_50e08586bf81row0_col1\" class=\"data row0 col1\" >0</td>\n",
       "                        <td id=\"T_12096fde_714d_11ea_bbeb_50e08586bf81row0_col2\" class=\"data row0 col2\" >0</td>\n",
       "            </tr>\n",
       "            <tr>\n",
       "                                <td id=\"T_12096fde_714d_11ea_bbeb_50e08586bf81row1_col0\" class=\"data row1 col0\" >0</td>\n",
       "                        <td id=\"T_12096fde_714d_11ea_bbeb_50e08586bf81row1_col1\" class=\"data row1 col1\" >1</td>\n",
       "                        <td id=\"T_12096fde_714d_11ea_bbeb_50e08586bf81row1_col2\" class=\"data row1 col2\" >0</td>\n",
       "            </tr>\n",
       "            <tr>\n",
       "                                <td id=\"T_12096fde_714d_11ea_bbeb_50e08586bf81row2_col0\" class=\"data row2 col0\" >1</td>\n",
       "                        <td id=\"T_12096fde_714d_11ea_bbeb_50e08586bf81row2_col1\" class=\"data row2 col1\" >0</td>\n",
       "                        <td id=\"T_12096fde_714d_11ea_bbeb_50e08586bf81row2_col2\" class=\"data row2 col2\" >0</td>\n",
       "            </tr>\n",
       "            <tr>\n",
       "                                <td id=\"T_12096fde_714d_11ea_bbeb_50e08586bf81row3_col0\" class=\"data row3 col0\" >1</td>\n",
       "                        <td id=\"T_12096fde_714d_11ea_bbeb_50e08586bf81row3_col1\" class=\"data row3 col1\" >0</td>\n",
       "                        <td id=\"T_12096fde_714d_11ea_bbeb_50e08586bf81row3_col2\" class=\"data row3 col2\" >0</td>\n",
       "            </tr>\n",
       "            <tr>\n",
       "                                <td id=\"T_12096fde_714d_11ea_bbeb_50e08586bf81row4_col0\" class=\"data row4 col0\" >1</td>\n",
       "                        <td id=\"T_12096fde_714d_11ea_bbeb_50e08586bf81row4_col1\" class=\"data row4 col1\" >0</td>\n",
       "                        <td id=\"T_12096fde_714d_11ea_bbeb_50e08586bf81row4_col2\" class=\"data row4 col2\" >0</td>\n",
       "            </tr>\n",
       "    </tbody></table>"
      ],
      "text/plain": [
       "<pandas.io.formats.style.Styler at 0x21255517648>"
      ]
     },
     "execution_count": 28,
     "metadata": {},
     "output_type": "execute_result"
    }
   ],
   "source": [
    "Rooms_Dummies = pd.get_dummies(Data['room_type'])\n",
    "Rooms_Dummies.head().style.hide_index()"
   ]
  },
  {
   "cell_type": "code",
   "execution_count": 29,
   "metadata": {},
   "outputs": [],
   "source": [
    "Rooms_List=Rooms_Dummies.columns\n",
    "temp = Data.join(Rooms_Dummies)\n",
    "Data=temp\n",
    "del temp, Rooms_Dummies\n",
    "Data=Data.drop(columns=['room_type'])"
   ]
  },
  {
   "cell_type": "markdown",
   "metadata": {},
   "source": [
    "### Beds"
   ]
  },
  {
   "cell_type": "code",
   "execution_count": 30,
   "metadata": {},
   "outputs": [
    {
     "data": {
      "text/html": [
       "<style  type=\"text/css\" >\n",
       "</style><table id=\"T_120d67c6_714d_11ea_ae14_50e08586bf81\" ><thead>    <tr>        <th class=\"col_heading level0 col0\" >Airbed</th>        <th class=\"col_heading level0 col1\" >Couch</th>        <th class=\"col_heading level0 col2\" >Futon</th>        <th class=\"col_heading level0 col3\" >Pull-out Sofa</th>        <th class=\"col_heading level0 col4\" >Real Bed</th>    </tr></thead><tbody>\n",
       "                <tr>\n",
       "                                <td id=\"T_120d67c6_714d_11ea_ae14_50e08586bf81row0_col0\" class=\"data row0 col0\" >0</td>\n",
       "                        <td id=\"T_120d67c6_714d_11ea_ae14_50e08586bf81row0_col1\" class=\"data row0 col1\" >0</td>\n",
       "                        <td id=\"T_120d67c6_714d_11ea_ae14_50e08586bf81row0_col2\" class=\"data row0 col2\" >0</td>\n",
       "                        <td id=\"T_120d67c6_714d_11ea_ae14_50e08586bf81row0_col3\" class=\"data row0 col3\" >0</td>\n",
       "                        <td id=\"T_120d67c6_714d_11ea_ae14_50e08586bf81row0_col4\" class=\"data row0 col4\" >1</td>\n",
       "            </tr>\n",
       "            <tr>\n",
       "                                <td id=\"T_120d67c6_714d_11ea_ae14_50e08586bf81row1_col0\" class=\"data row1 col0\" >0</td>\n",
       "                        <td id=\"T_120d67c6_714d_11ea_ae14_50e08586bf81row1_col1\" class=\"data row1 col1\" >0</td>\n",
       "                        <td id=\"T_120d67c6_714d_11ea_ae14_50e08586bf81row1_col2\" class=\"data row1 col2\" >0</td>\n",
       "                        <td id=\"T_120d67c6_714d_11ea_ae14_50e08586bf81row1_col3\" class=\"data row1 col3\" >0</td>\n",
       "                        <td id=\"T_120d67c6_714d_11ea_ae14_50e08586bf81row1_col4\" class=\"data row1 col4\" >1</td>\n",
       "            </tr>\n",
       "            <tr>\n",
       "                                <td id=\"T_120d67c6_714d_11ea_ae14_50e08586bf81row2_col0\" class=\"data row2 col0\" >0</td>\n",
       "                        <td id=\"T_120d67c6_714d_11ea_ae14_50e08586bf81row2_col1\" class=\"data row2 col1\" >0</td>\n",
       "                        <td id=\"T_120d67c6_714d_11ea_ae14_50e08586bf81row2_col2\" class=\"data row2 col2\" >0</td>\n",
       "                        <td id=\"T_120d67c6_714d_11ea_ae14_50e08586bf81row2_col3\" class=\"data row2 col3\" >0</td>\n",
       "                        <td id=\"T_120d67c6_714d_11ea_ae14_50e08586bf81row2_col4\" class=\"data row2 col4\" >1</td>\n",
       "            </tr>\n",
       "            <tr>\n",
       "                                <td id=\"T_120d67c6_714d_11ea_ae14_50e08586bf81row3_col0\" class=\"data row3 col0\" >0</td>\n",
       "                        <td id=\"T_120d67c6_714d_11ea_ae14_50e08586bf81row3_col1\" class=\"data row3 col1\" >0</td>\n",
       "                        <td id=\"T_120d67c6_714d_11ea_ae14_50e08586bf81row3_col2\" class=\"data row3 col2\" >0</td>\n",
       "                        <td id=\"T_120d67c6_714d_11ea_ae14_50e08586bf81row3_col3\" class=\"data row3 col3\" >0</td>\n",
       "                        <td id=\"T_120d67c6_714d_11ea_ae14_50e08586bf81row3_col4\" class=\"data row3 col4\" >1</td>\n",
       "            </tr>\n",
       "            <tr>\n",
       "                                <td id=\"T_120d67c6_714d_11ea_ae14_50e08586bf81row4_col0\" class=\"data row4 col0\" >0</td>\n",
       "                        <td id=\"T_120d67c6_714d_11ea_ae14_50e08586bf81row4_col1\" class=\"data row4 col1\" >0</td>\n",
       "                        <td id=\"T_120d67c6_714d_11ea_ae14_50e08586bf81row4_col2\" class=\"data row4 col2\" >0</td>\n",
       "                        <td id=\"T_120d67c6_714d_11ea_ae14_50e08586bf81row4_col3\" class=\"data row4 col3\" >0</td>\n",
       "                        <td id=\"T_120d67c6_714d_11ea_ae14_50e08586bf81row4_col4\" class=\"data row4 col4\" >1</td>\n",
       "            </tr>\n",
       "    </tbody></table>"
      ],
      "text/plain": [
       "<pandas.io.formats.style.Styler at 0x212554f50c8>"
      ]
     },
     "execution_count": 30,
     "metadata": {},
     "output_type": "execute_result"
    }
   ],
   "source": [
    "Beds_Dummies = pd.get_dummies(Data['bed_type'])\n",
    "Beds_Dummies.head().style.hide_index()"
   ]
  },
  {
   "cell_type": "code",
   "execution_count": 31,
   "metadata": {},
   "outputs": [],
   "source": [
    "Beds_List=Beds_Dummies.columns\n",
    "temp = Data.join(Beds_Dummies)\n",
    "Data=temp\n",
    "del temp, Beds_Dummies\n",
    "Data=Data.drop(columns=['bed_type'])"
   ]
  },
  {
   "cell_type": "markdown",
   "metadata": {},
   "source": [
    "Creating a list Dictionary!"
   ]
  },
  {
   "cell_type": "code",
   "execution_count": 32,
   "metadata": {},
   "outputs": [],
   "source": [
    "Lists_df = {'Properties_List': Properties_List, \"Rooms_List\":Rooms_List , \"Beds_List\": Beds_List}"
   ]
  },
  {
   "cell_type": "markdown",
   "metadata": {},
   "source": [
    "## Exporting the Clean Data"
   ]
  },
  {
   "cell_type": "markdown",
   "metadata": {},
   "source": [
    "Now, we have"
   ]
  },
  {
   "cell_type": "code",
   "execution_count": 33,
   "metadata": {
    "scrolled": true
   },
   "outputs": [
    {
     "data": {
      "text/html": [
       "<style  type=\"text/css\" >\n",
       "</style><table id=\"T_121220ee_714d_11ea_bdf5_50e08586bf81\" ><thead>    <tr>        <th class=\"col_heading level0 col0\" >id</th>        <th class=\"col_heading level0 col1\" >number_of_reviews</th>        <th class=\"col_heading level0 col2\" >availability_90</th>        <th class=\"col_heading level0 col3\" >review_scores_rating</th>        <th class=\"col_heading level0 col4\" >accommodates</th>        <th class=\"col_heading level0 col5\" >bedrooms</th>        <th class=\"col_heading level0 col6\" >zipcode</th>        <th class=\"col_heading level0 col7\" >review_scores_location</th>        <th class=\"col_heading level0 col8\" >bathrooms</th>        <th class=\"col_heading level0 col9\" >availability_30</th>        <th class=\"col_heading level0 col10\" >availability_365</th>        <th class=\"col_heading level0 col11\" >review_scores_checkin</th>        <th class=\"col_heading level0 col12\" >minimum_nights</th>        <th class=\"col_heading level0 col13\" >price</th>        <th class=\"col_heading level0 col14\" >maximum_nights</th>        <th class=\"col_heading level0 col15\" >availability_60</th>        <th class=\"col_heading level0 col16\" >review_scores_communication</th>        <th class=\"col_heading level0 col17\" >review_scores_value</th>        <th class=\"col_heading level0 col18\" >host_id</th>        <th class=\"col_heading level0 col19\" >monthly_price</th>        <th class=\"col_heading level0 col20\" >host_since</th>        <th class=\"col_heading level0 col21\" >review_scores_cleanliness</th>        <th class=\"col_heading level0 col22\" >weekly_price</th>        <th class=\"col_heading level0 col23\" >beds</th>        <th class=\"col_heading level0 col24\" >review_scores_accuracy</th>        <th class=\"col_heading level0 col25\" >Apartment</th>        <th class=\"col_heading level0 col26\" >Bed & Breakfast</th>        <th class=\"col_heading level0 col27\" >Boat</th>        <th class=\"col_heading level0 col28\" >Cabin</th>        <th class=\"col_heading level0 col29\" >Camper/RV</th>        <th class=\"col_heading level0 col30\" >Castle</th>        <th class=\"col_heading level0 col31\" >Cave</th>        <th class=\"col_heading level0 col32\" >Chalet</th>        <th class=\"col_heading level0 col33\" >Dorm</th>        <th class=\"col_heading level0 col34\" >Earth House</th>        <th class=\"col_heading level0 col35\" >House</th>        <th class=\"col_heading level0 col36\" >Hut</th>        <th class=\"col_heading level0 col37\" >Lighthouse</th>        <th class=\"col_heading level0 col38\" >Loft</th>        <th class=\"col_heading level0 col39\" >Other</th>        <th class=\"col_heading level0 col40\" >Tent</th>        <th class=\"col_heading level0 col41\" >Treehouse</th>        <th class=\"col_heading level0 col42\" >Villa</th>        <th class=\"col_heading level0 col43\" >Entire home/apt</th>        <th class=\"col_heading level0 col44\" >Private room</th>        <th class=\"col_heading level0 col45\" >Shared room</th>        <th class=\"col_heading level0 col46\" >Airbed</th>        <th class=\"col_heading level0 col47\" >Couch</th>        <th class=\"col_heading level0 col48\" >Futon</th>        <th class=\"col_heading level0 col49\" >Pull-out Sofa</th>        <th class=\"col_heading level0 col50\" >Real Bed</th>    </tr></thead><tbody>\n",
       "                <tr>\n",
       "                                <td id=\"T_121220ee_714d_11ea_bdf5_50e08586bf81row0_col0\" class=\"data row0 col0\" >1069266</td>\n",
       "                        <td id=\"T_121220ee_714d_11ea_bdf5_50e08586bf81row0_col1\" class=\"data row0 col1\" >62</td>\n",
       "                        <td id=\"T_121220ee_714d_11ea_bdf5_50e08586bf81row0_col2\" class=\"data row0 col2\" >72</td>\n",
       "                        <td id=\"T_121220ee_714d_11ea_bdf5_50e08586bf81row0_col3\" class=\"data row0 col3\" >86.000000</td>\n",
       "                        <td id=\"T_121220ee_714d_11ea_bdf5_50e08586bf81row0_col4\" class=\"data row0 col4\" >2</td>\n",
       "                        <td id=\"T_121220ee_714d_11ea_bdf5_50e08586bf81row0_col5\" class=\"data row0 col5\" >1</td>\n",
       "                        <td id=\"T_121220ee_714d_11ea_bdf5_50e08586bf81row0_col6\" class=\"data row0 col6\" >10022</td>\n",
       "                        <td id=\"T_121220ee_714d_11ea_bdf5_50e08586bf81row0_col7\" class=\"data row0 col7\" >10.000000</td>\n",
       "                        <td id=\"T_121220ee_714d_11ea_bdf5_50e08586bf81row0_col8\" class=\"data row0 col8\" >1.000000</td>\n",
       "                        <td id=\"T_121220ee_714d_11ea_bdf5_50e08586bf81row0_col9\" class=\"data row0 col9\" >21</td>\n",
       "                        <td id=\"T_121220ee_714d_11ea_bdf5_50e08586bf81row0_col10\" class=\"data row0 col10\" >322</td>\n",
       "                        <td id=\"T_121220ee_714d_11ea_bdf5_50e08586bf81row0_col11\" class=\"data row0 col11\" >9.000000</td>\n",
       "                        <td id=\"T_121220ee_714d_11ea_bdf5_50e08586bf81row0_col12\" class=\"data row0 col12\" >3</td>\n",
       "                        <td id=\"T_121220ee_714d_11ea_bdf5_50e08586bf81row0_col13\" class=\"data row0 col13\" >160.000000</td>\n",
       "                        <td id=\"T_121220ee_714d_11ea_bdf5_50e08586bf81row0_col14\" class=\"data row0 col14\" >14</td>\n",
       "                        <td id=\"T_121220ee_714d_11ea_bdf5_50e08586bf81row0_col15\" class=\"data row0 col15\" >51</td>\n",
       "                        <td id=\"T_121220ee_714d_11ea_bdf5_50e08586bf81row0_col16\" class=\"data row0 col16\" >9.000000</td>\n",
       "                        <td id=\"T_121220ee_714d_11ea_bdf5_50e08586bf81row0_col17\" class=\"data row0 col17\" >9.000000</td>\n",
       "                        <td id=\"T_121220ee_714d_11ea_bdf5_50e08586bf81row0_col18\" class=\"data row0 col18\" >5867023</td>\n",
       "                        <td id=\"T_121220ee_714d_11ea_bdf5_50e08586bf81row0_col19\" class=\"data row0 col19\" >3054.316555</td>\n",
       "                        <td id=\"T_121220ee_714d_11ea_bdf5_50e08586bf81row0_col20\" class=\"data row0 col20\" >4/10/13</td>\n",
       "                        <td id=\"T_121220ee_714d_11ea_bdf5_50e08586bf81row0_col21\" class=\"data row0 col21\" >7.000000</td>\n",
       "                        <td id=\"T_121220ee_714d_11ea_bdf5_50e08586bf81row0_col22\" class=\"data row0 col22\" >1000.000000</td>\n",
       "                        <td id=\"T_121220ee_714d_11ea_bdf5_50e08586bf81row0_col23\" class=\"data row0 col23\" >1</td>\n",
       "                        <td id=\"T_121220ee_714d_11ea_bdf5_50e08586bf81row0_col24\" class=\"data row0 col24\" >9.000000</td>\n",
       "                        <td id=\"T_121220ee_714d_11ea_bdf5_50e08586bf81row0_col25\" class=\"data row0 col25\" >1</td>\n",
       "                        <td id=\"T_121220ee_714d_11ea_bdf5_50e08586bf81row0_col26\" class=\"data row0 col26\" >0</td>\n",
       "                        <td id=\"T_121220ee_714d_11ea_bdf5_50e08586bf81row0_col27\" class=\"data row0 col27\" >0</td>\n",
       "                        <td id=\"T_121220ee_714d_11ea_bdf5_50e08586bf81row0_col28\" class=\"data row0 col28\" >0</td>\n",
       "                        <td id=\"T_121220ee_714d_11ea_bdf5_50e08586bf81row0_col29\" class=\"data row0 col29\" >0</td>\n",
       "                        <td id=\"T_121220ee_714d_11ea_bdf5_50e08586bf81row0_col30\" class=\"data row0 col30\" >0</td>\n",
       "                        <td id=\"T_121220ee_714d_11ea_bdf5_50e08586bf81row0_col31\" class=\"data row0 col31\" >0</td>\n",
       "                        <td id=\"T_121220ee_714d_11ea_bdf5_50e08586bf81row0_col32\" class=\"data row0 col32\" >0</td>\n",
       "                        <td id=\"T_121220ee_714d_11ea_bdf5_50e08586bf81row0_col33\" class=\"data row0 col33\" >0</td>\n",
       "                        <td id=\"T_121220ee_714d_11ea_bdf5_50e08586bf81row0_col34\" class=\"data row0 col34\" >0</td>\n",
       "                        <td id=\"T_121220ee_714d_11ea_bdf5_50e08586bf81row0_col35\" class=\"data row0 col35\" >0</td>\n",
       "                        <td id=\"T_121220ee_714d_11ea_bdf5_50e08586bf81row0_col36\" class=\"data row0 col36\" >0</td>\n",
       "                        <td id=\"T_121220ee_714d_11ea_bdf5_50e08586bf81row0_col37\" class=\"data row0 col37\" >0</td>\n",
       "                        <td id=\"T_121220ee_714d_11ea_bdf5_50e08586bf81row0_col38\" class=\"data row0 col38\" >0</td>\n",
       "                        <td id=\"T_121220ee_714d_11ea_bdf5_50e08586bf81row0_col39\" class=\"data row0 col39\" >0</td>\n",
       "                        <td id=\"T_121220ee_714d_11ea_bdf5_50e08586bf81row0_col40\" class=\"data row0 col40\" >0</td>\n",
       "                        <td id=\"T_121220ee_714d_11ea_bdf5_50e08586bf81row0_col41\" class=\"data row0 col41\" >0</td>\n",
       "                        <td id=\"T_121220ee_714d_11ea_bdf5_50e08586bf81row0_col42\" class=\"data row0 col42\" >0</td>\n",
       "                        <td id=\"T_121220ee_714d_11ea_bdf5_50e08586bf81row0_col43\" class=\"data row0 col43\" >1</td>\n",
       "                        <td id=\"T_121220ee_714d_11ea_bdf5_50e08586bf81row0_col44\" class=\"data row0 col44\" >0</td>\n",
       "                        <td id=\"T_121220ee_714d_11ea_bdf5_50e08586bf81row0_col45\" class=\"data row0 col45\" >0</td>\n",
       "                        <td id=\"T_121220ee_714d_11ea_bdf5_50e08586bf81row0_col46\" class=\"data row0 col46\" >0</td>\n",
       "                        <td id=\"T_121220ee_714d_11ea_bdf5_50e08586bf81row0_col47\" class=\"data row0 col47\" >0</td>\n",
       "                        <td id=\"T_121220ee_714d_11ea_bdf5_50e08586bf81row0_col48\" class=\"data row0 col48\" >0</td>\n",
       "                        <td id=\"T_121220ee_714d_11ea_bdf5_50e08586bf81row0_col49\" class=\"data row0 col49\" >0</td>\n",
       "                        <td id=\"T_121220ee_714d_11ea_bdf5_50e08586bf81row0_col50\" class=\"data row0 col50\" >1</td>\n",
       "            </tr>\n",
       "            <tr>\n",
       "                                <td id=\"T_121220ee_714d_11ea_bdf5_50e08586bf81row1_col0\" class=\"data row1 col0\" >2061725</td>\n",
       "                        <td id=\"T_121220ee_714d_11ea_bdf5_50e08586bf81row1_col1\" class=\"data row1 col1\" >35</td>\n",
       "                        <td id=\"T_121220ee_714d_11ea_bdf5_50e08586bf81row1_col2\" class=\"data row1 col2\" >26</td>\n",
       "                        <td id=\"T_121220ee_714d_11ea_bdf5_50e08586bf81row1_col3\" class=\"data row1 col3\" >98.000000</td>\n",
       "                        <td id=\"T_121220ee_714d_11ea_bdf5_50e08586bf81row1_col4\" class=\"data row1 col4\" >2</td>\n",
       "                        <td id=\"T_121220ee_714d_11ea_bdf5_50e08586bf81row1_col5\" class=\"data row1 col5\" >1</td>\n",
       "                        <td id=\"T_121220ee_714d_11ea_bdf5_50e08586bf81row1_col6\" class=\"data row1 col6\" >11221</td>\n",
       "                        <td id=\"T_121220ee_714d_11ea_bdf5_50e08586bf81row1_col7\" class=\"data row1 col7\" >9.000000</td>\n",
       "                        <td id=\"T_121220ee_714d_11ea_bdf5_50e08586bf81row1_col8\" class=\"data row1 col8\" >1.000000</td>\n",
       "                        <td id=\"T_121220ee_714d_11ea_bdf5_50e08586bf81row1_col9\" class=\"data row1 col9\" >4</td>\n",
       "                        <td id=\"T_121220ee_714d_11ea_bdf5_50e08586bf81row1_col10\" class=\"data row1 col10\" >227</td>\n",
       "                        <td id=\"T_121220ee_714d_11ea_bdf5_50e08586bf81row1_col11\" class=\"data row1 col11\" >10.000000</td>\n",
       "                        <td id=\"T_121220ee_714d_11ea_bdf5_50e08586bf81row1_col12\" class=\"data row1 col12\" >3</td>\n",
       "                        <td id=\"T_121220ee_714d_11ea_bdf5_50e08586bf81row1_col13\" class=\"data row1 col13\" >58.000000</td>\n",
       "                        <td id=\"T_121220ee_714d_11ea_bdf5_50e08586bf81row1_col14\" class=\"data row1 col14\" >30</td>\n",
       "                        <td id=\"T_121220ee_714d_11ea_bdf5_50e08586bf81row1_col15\" class=\"data row1 col15\" >13</td>\n",
       "                        <td id=\"T_121220ee_714d_11ea_bdf5_50e08586bf81row1_col16\" class=\"data row1 col16\" >10.000000</td>\n",
       "                        <td id=\"T_121220ee_714d_11ea_bdf5_50e08586bf81row1_col17\" class=\"data row1 col17\" >10.000000</td>\n",
       "                        <td id=\"T_121220ee_714d_11ea_bdf5_50e08586bf81row1_col18\" class=\"data row1 col18\" >4601412</td>\n",
       "                        <td id=\"T_121220ee_714d_11ea_bdf5_50e08586bf81row1_col19\" class=\"data row1 col19\" >3054.316555</td>\n",
       "                        <td id=\"T_121220ee_714d_11ea_bdf5_50e08586bf81row1_col20\" class=\"data row1 col20\" >1/5/13</td>\n",
       "                        <td id=\"T_121220ee_714d_11ea_bdf5_50e08586bf81row1_col21\" class=\"data row1 col21\" >10.000000</td>\n",
       "                        <td id=\"T_121220ee_714d_11ea_bdf5_50e08586bf81row1_col22\" class=\"data row1 col22\" >953.795473</td>\n",
       "                        <td id=\"T_121220ee_714d_11ea_bdf5_50e08586bf81row1_col23\" class=\"data row1 col23\" >2</td>\n",
       "                        <td id=\"T_121220ee_714d_11ea_bdf5_50e08586bf81row1_col24\" class=\"data row1 col24\" >10.000000</td>\n",
       "                        <td id=\"T_121220ee_714d_11ea_bdf5_50e08586bf81row1_col25\" class=\"data row1 col25\" >1</td>\n",
       "                        <td id=\"T_121220ee_714d_11ea_bdf5_50e08586bf81row1_col26\" class=\"data row1 col26\" >0</td>\n",
       "                        <td id=\"T_121220ee_714d_11ea_bdf5_50e08586bf81row1_col27\" class=\"data row1 col27\" >0</td>\n",
       "                        <td id=\"T_121220ee_714d_11ea_bdf5_50e08586bf81row1_col28\" class=\"data row1 col28\" >0</td>\n",
       "                        <td id=\"T_121220ee_714d_11ea_bdf5_50e08586bf81row1_col29\" class=\"data row1 col29\" >0</td>\n",
       "                        <td id=\"T_121220ee_714d_11ea_bdf5_50e08586bf81row1_col30\" class=\"data row1 col30\" >0</td>\n",
       "                        <td id=\"T_121220ee_714d_11ea_bdf5_50e08586bf81row1_col31\" class=\"data row1 col31\" >0</td>\n",
       "                        <td id=\"T_121220ee_714d_11ea_bdf5_50e08586bf81row1_col32\" class=\"data row1 col32\" >0</td>\n",
       "                        <td id=\"T_121220ee_714d_11ea_bdf5_50e08586bf81row1_col33\" class=\"data row1 col33\" >0</td>\n",
       "                        <td id=\"T_121220ee_714d_11ea_bdf5_50e08586bf81row1_col34\" class=\"data row1 col34\" >0</td>\n",
       "                        <td id=\"T_121220ee_714d_11ea_bdf5_50e08586bf81row1_col35\" class=\"data row1 col35\" >0</td>\n",
       "                        <td id=\"T_121220ee_714d_11ea_bdf5_50e08586bf81row1_col36\" class=\"data row1 col36\" >0</td>\n",
       "                        <td id=\"T_121220ee_714d_11ea_bdf5_50e08586bf81row1_col37\" class=\"data row1 col37\" >0</td>\n",
       "                        <td id=\"T_121220ee_714d_11ea_bdf5_50e08586bf81row1_col38\" class=\"data row1 col38\" >0</td>\n",
       "                        <td id=\"T_121220ee_714d_11ea_bdf5_50e08586bf81row1_col39\" class=\"data row1 col39\" >0</td>\n",
       "                        <td id=\"T_121220ee_714d_11ea_bdf5_50e08586bf81row1_col40\" class=\"data row1 col40\" >0</td>\n",
       "                        <td id=\"T_121220ee_714d_11ea_bdf5_50e08586bf81row1_col41\" class=\"data row1 col41\" >0</td>\n",
       "                        <td id=\"T_121220ee_714d_11ea_bdf5_50e08586bf81row1_col42\" class=\"data row1 col42\" >0</td>\n",
       "                        <td id=\"T_121220ee_714d_11ea_bdf5_50e08586bf81row1_col43\" class=\"data row1 col43\" >0</td>\n",
       "                        <td id=\"T_121220ee_714d_11ea_bdf5_50e08586bf81row1_col44\" class=\"data row1 col44\" >1</td>\n",
       "                        <td id=\"T_121220ee_714d_11ea_bdf5_50e08586bf81row1_col45\" class=\"data row1 col45\" >0</td>\n",
       "                        <td id=\"T_121220ee_714d_11ea_bdf5_50e08586bf81row1_col46\" class=\"data row1 col46\" >0</td>\n",
       "                        <td id=\"T_121220ee_714d_11ea_bdf5_50e08586bf81row1_col47\" class=\"data row1 col47\" >0</td>\n",
       "                        <td id=\"T_121220ee_714d_11ea_bdf5_50e08586bf81row1_col48\" class=\"data row1 col48\" >0</td>\n",
       "                        <td id=\"T_121220ee_714d_11ea_bdf5_50e08586bf81row1_col49\" class=\"data row1 col49\" >0</td>\n",
       "                        <td id=\"T_121220ee_714d_11ea_bdf5_50e08586bf81row1_col50\" class=\"data row1 col50\" >1</td>\n",
       "            </tr>\n",
       "            <tr>\n",
       "                                <td id=\"T_121220ee_714d_11ea_bdf5_50e08586bf81row2_col0\" class=\"data row2 col0\" >44974</td>\n",
       "                        <td id=\"T_121220ee_714d_11ea_bdf5_50e08586bf81row2_col1\" class=\"data row2 col1\" >26</td>\n",
       "                        <td id=\"T_121220ee_714d_11ea_bdf5_50e08586bf81row2_col2\" class=\"data row2 col2\" >1</td>\n",
       "                        <td id=\"T_121220ee_714d_11ea_bdf5_50e08586bf81row2_col3\" class=\"data row2 col3\" >96.000000</td>\n",
       "                        <td id=\"T_121220ee_714d_11ea_bdf5_50e08586bf81row2_col4\" class=\"data row2 col4\" >2</td>\n",
       "                        <td id=\"T_121220ee_714d_11ea_bdf5_50e08586bf81row2_col5\" class=\"data row2 col5\" >1</td>\n",
       "                        <td id=\"T_121220ee_714d_11ea_bdf5_50e08586bf81row2_col6\" class=\"data row2 col6\" >10011</td>\n",
       "                        <td id=\"T_121220ee_714d_11ea_bdf5_50e08586bf81row2_col7\" class=\"data row2 col7\" >10.000000</td>\n",
       "                        <td id=\"T_121220ee_714d_11ea_bdf5_50e08586bf81row2_col8\" class=\"data row2 col8\" >1.000000</td>\n",
       "                        <td id=\"T_121220ee_714d_11ea_bdf5_50e08586bf81row2_col9\" class=\"data row2 col9\" >1</td>\n",
       "                        <td id=\"T_121220ee_714d_11ea_bdf5_50e08586bf81row2_col10\" class=\"data row2 col10\" >274</td>\n",
       "                        <td id=\"T_121220ee_714d_11ea_bdf5_50e08586bf81row2_col11\" class=\"data row2 col11\" >10.000000</td>\n",
       "                        <td id=\"T_121220ee_714d_11ea_bdf5_50e08586bf81row2_col12\" class=\"data row2 col12\" >10</td>\n",
       "                        <td id=\"T_121220ee_714d_11ea_bdf5_50e08586bf81row2_col13\" class=\"data row2 col13\" >185.000000</td>\n",
       "                        <td id=\"T_121220ee_714d_11ea_bdf5_50e08586bf81row2_col14\" class=\"data row2 col14\" >30</td>\n",
       "                        <td id=\"T_121220ee_714d_11ea_bdf5_50e08586bf81row2_col15\" class=\"data row2 col15\" >1</td>\n",
       "                        <td id=\"T_121220ee_714d_11ea_bdf5_50e08586bf81row2_col16\" class=\"data row2 col16\" >10.000000</td>\n",
       "                        <td id=\"T_121220ee_714d_11ea_bdf5_50e08586bf81row2_col17\" class=\"data row2 col17\" >9.000000</td>\n",
       "                        <td id=\"T_121220ee_714d_11ea_bdf5_50e08586bf81row2_col18\" class=\"data row2 col18\" >198425</td>\n",
       "                        <td id=\"T_121220ee_714d_11ea_bdf5_50e08586bf81row2_col19\" class=\"data row2 col19\" >3400.000000</td>\n",
       "                        <td id=\"T_121220ee_714d_11ea_bdf5_50e08586bf81row2_col20\" class=\"data row2 col20\" >8/11/10</td>\n",
       "                        <td id=\"T_121220ee_714d_11ea_bdf5_50e08586bf81row2_col21\" class=\"data row2 col21\" >9.000000</td>\n",
       "                        <td id=\"T_121220ee_714d_11ea_bdf5_50e08586bf81row2_col22\" class=\"data row2 col22\" >953.795473</td>\n",
       "                        <td id=\"T_121220ee_714d_11ea_bdf5_50e08586bf81row2_col23\" class=\"data row2 col23\" >1</td>\n",
       "                        <td id=\"T_121220ee_714d_11ea_bdf5_50e08586bf81row2_col24\" class=\"data row2 col24\" >10.000000</td>\n",
       "                        <td id=\"T_121220ee_714d_11ea_bdf5_50e08586bf81row2_col25\" class=\"data row2 col25\" >1</td>\n",
       "                        <td id=\"T_121220ee_714d_11ea_bdf5_50e08586bf81row2_col26\" class=\"data row2 col26\" >0</td>\n",
       "                        <td id=\"T_121220ee_714d_11ea_bdf5_50e08586bf81row2_col27\" class=\"data row2 col27\" >0</td>\n",
       "                        <td id=\"T_121220ee_714d_11ea_bdf5_50e08586bf81row2_col28\" class=\"data row2 col28\" >0</td>\n",
       "                        <td id=\"T_121220ee_714d_11ea_bdf5_50e08586bf81row2_col29\" class=\"data row2 col29\" >0</td>\n",
       "                        <td id=\"T_121220ee_714d_11ea_bdf5_50e08586bf81row2_col30\" class=\"data row2 col30\" >0</td>\n",
       "                        <td id=\"T_121220ee_714d_11ea_bdf5_50e08586bf81row2_col31\" class=\"data row2 col31\" >0</td>\n",
       "                        <td id=\"T_121220ee_714d_11ea_bdf5_50e08586bf81row2_col32\" class=\"data row2 col32\" >0</td>\n",
       "                        <td id=\"T_121220ee_714d_11ea_bdf5_50e08586bf81row2_col33\" class=\"data row2 col33\" >0</td>\n",
       "                        <td id=\"T_121220ee_714d_11ea_bdf5_50e08586bf81row2_col34\" class=\"data row2 col34\" >0</td>\n",
       "                        <td id=\"T_121220ee_714d_11ea_bdf5_50e08586bf81row2_col35\" class=\"data row2 col35\" >0</td>\n",
       "                        <td id=\"T_121220ee_714d_11ea_bdf5_50e08586bf81row2_col36\" class=\"data row2 col36\" >0</td>\n",
       "                        <td id=\"T_121220ee_714d_11ea_bdf5_50e08586bf81row2_col37\" class=\"data row2 col37\" >0</td>\n",
       "                        <td id=\"T_121220ee_714d_11ea_bdf5_50e08586bf81row2_col38\" class=\"data row2 col38\" >0</td>\n",
       "                        <td id=\"T_121220ee_714d_11ea_bdf5_50e08586bf81row2_col39\" class=\"data row2 col39\" >0</td>\n",
       "                        <td id=\"T_121220ee_714d_11ea_bdf5_50e08586bf81row2_col40\" class=\"data row2 col40\" >0</td>\n",
       "                        <td id=\"T_121220ee_714d_11ea_bdf5_50e08586bf81row2_col41\" class=\"data row2 col41\" >0</td>\n",
       "                        <td id=\"T_121220ee_714d_11ea_bdf5_50e08586bf81row2_col42\" class=\"data row2 col42\" >0</td>\n",
       "                        <td id=\"T_121220ee_714d_11ea_bdf5_50e08586bf81row2_col43\" class=\"data row2 col43\" >1</td>\n",
       "                        <td id=\"T_121220ee_714d_11ea_bdf5_50e08586bf81row2_col44\" class=\"data row2 col44\" >0</td>\n",
       "                        <td id=\"T_121220ee_714d_11ea_bdf5_50e08586bf81row2_col45\" class=\"data row2 col45\" >0</td>\n",
       "                        <td id=\"T_121220ee_714d_11ea_bdf5_50e08586bf81row2_col46\" class=\"data row2 col46\" >0</td>\n",
       "                        <td id=\"T_121220ee_714d_11ea_bdf5_50e08586bf81row2_col47\" class=\"data row2 col47\" >0</td>\n",
       "                        <td id=\"T_121220ee_714d_11ea_bdf5_50e08586bf81row2_col48\" class=\"data row2 col48\" >0</td>\n",
       "                        <td id=\"T_121220ee_714d_11ea_bdf5_50e08586bf81row2_col49\" class=\"data row2 col49\" >0</td>\n",
       "                        <td id=\"T_121220ee_714d_11ea_bdf5_50e08586bf81row2_col50\" class=\"data row2 col50\" >1</td>\n",
       "            </tr>\n",
       "            <tr>\n",
       "                                <td id=\"T_121220ee_714d_11ea_bdf5_50e08586bf81row3_col0\" class=\"data row3 col0\" >4701675</td>\n",
       "                        <td id=\"T_121220ee_714d_11ea_bdf5_50e08586bf81row3_col1\" class=\"data row3 col1\" >1</td>\n",
       "                        <td id=\"T_121220ee_714d_11ea_bdf5_50e08586bf81row3_col2\" class=\"data row3 col2\" >90</td>\n",
       "                        <td id=\"T_121220ee_714d_11ea_bdf5_50e08586bf81row3_col3\" class=\"data row3 col3\" >100.000000</td>\n",
       "                        <td id=\"T_121220ee_714d_11ea_bdf5_50e08586bf81row3_col4\" class=\"data row3 col4\" >2</td>\n",
       "                        <td id=\"T_121220ee_714d_11ea_bdf5_50e08586bf81row3_col5\" class=\"data row3 col5\" >1</td>\n",
       "                        <td id=\"T_121220ee_714d_11ea_bdf5_50e08586bf81row3_col6\" class=\"data row3 col6\" >10011</td>\n",
       "                        <td id=\"T_121220ee_714d_11ea_bdf5_50e08586bf81row3_col7\" class=\"data row3 col7\" >10.000000</td>\n",
       "                        <td id=\"T_121220ee_714d_11ea_bdf5_50e08586bf81row3_col8\" class=\"data row3 col8\" >1.000000</td>\n",
       "                        <td id=\"T_121220ee_714d_11ea_bdf5_50e08586bf81row3_col9\" class=\"data row3 col9\" >30</td>\n",
       "                        <td id=\"T_121220ee_714d_11ea_bdf5_50e08586bf81row3_col10\" class=\"data row3 col10\" >365</td>\n",
       "                        <td id=\"T_121220ee_714d_11ea_bdf5_50e08586bf81row3_col11\" class=\"data row3 col11\" >10.000000</td>\n",
       "                        <td id=\"T_121220ee_714d_11ea_bdf5_50e08586bf81row3_col12\" class=\"data row3 col12\" >1</td>\n",
       "                        <td id=\"T_121220ee_714d_11ea_bdf5_50e08586bf81row3_col13\" class=\"data row3 col13\" >195.000000</td>\n",
       "                        <td id=\"T_121220ee_714d_11ea_bdf5_50e08586bf81row3_col14\" class=\"data row3 col14\" >1125</td>\n",
       "                        <td id=\"T_121220ee_714d_11ea_bdf5_50e08586bf81row3_col15\" class=\"data row3 col15\" >60</td>\n",
       "                        <td id=\"T_121220ee_714d_11ea_bdf5_50e08586bf81row3_col16\" class=\"data row3 col16\" >10.000000</td>\n",
       "                        <td id=\"T_121220ee_714d_11ea_bdf5_50e08586bf81row3_col17\" class=\"data row3 col17\" >10.000000</td>\n",
       "                        <td id=\"T_121220ee_714d_11ea_bdf5_50e08586bf81row3_col18\" class=\"data row3 col18\" >22590025</td>\n",
       "                        <td id=\"T_121220ee_714d_11ea_bdf5_50e08586bf81row3_col19\" class=\"data row3 col19\" >3054.316555</td>\n",
       "                        <td id=\"T_121220ee_714d_11ea_bdf5_50e08586bf81row3_col20\" class=\"data row3 col20\" >10/15/14</td>\n",
       "                        <td id=\"T_121220ee_714d_11ea_bdf5_50e08586bf81row3_col21\" class=\"data row3 col21\" >10.000000</td>\n",
       "                        <td id=\"T_121220ee_714d_11ea_bdf5_50e08586bf81row3_col22\" class=\"data row3 col22\" >953.795473</td>\n",
       "                        <td id=\"T_121220ee_714d_11ea_bdf5_50e08586bf81row3_col23\" class=\"data row3 col23\" >2</td>\n",
       "                        <td id=\"T_121220ee_714d_11ea_bdf5_50e08586bf81row3_col24\" class=\"data row3 col24\" >10.000000</td>\n",
       "                        <td id=\"T_121220ee_714d_11ea_bdf5_50e08586bf81row3_col25\" class=\"data row3 col25\" >1</td>\n",
       "                        <td id=\"T_121220ee_714d_11ea_bdf5_50e08586bf81row3_col26\" class=\"data row3 col26\" >0</td>\n",
       "                        <td id=\"T_121220ee_714d_11ea_bdf5_50e08586bf81row3_col27\" class=\"data row3 col27\" >0</td>\n",
       "                        <td id=\"T_121220ee_714d_11ea_bdf5_50e08586bf81row3_col28\" class=\"data row3 col28\" >0</td>\n",
       "                        <td id=\"T_121220ee_714d_11ea_bdf5_50e08586bf81row3_col29\" class=\"data row3 col29\" >0</td>\n",
       "                        <td id=\"T_121220ee_714d_11ea_bdf5_50e08586bf81row3_col30\" class=\"data row3 col30\" >0</td>\n",
       "                        <td id=\"T_121220ee_714d_11ea_bdf5_50e08586bf81row3_col31\" class=\"data row3 col31\" >0</td>\n",
       "                        <td id=\"T_121220ee_714d_11ea_bdf5_50e08586bf81row3_col32\" class=\"data row3 col32\" >0</td>\n",
       "                        <td id=\"T_121220ee_714d_11ea_bdf5_50e08586bf81row3_col33\" class=\"data row3 col33\" >0</td>\n",
       "                        <td id=\"T_121220ee_714d_11ea_bdf5_50e08586bf81row3_col34\" class=\"data row3 col34\" >0</td>\n",
       "                        <td id=\"T_121220ee_714d_11ea_bdf5_50e08586bf81row3_col35\" class=\"data row3 col35\" >0</td>\n",
       "                        <td id=\"T_121220ee_714d_11ea_bdf5_50e08586bf81row3_col36\" class=\"data row3 col36\" >0</td>\n",
       "                        <td id=\"T_121220ee_714d_11ea_bdf5_50e08586bf81row3_col37\" class=\"data row3 col37\" >0</td>\n",
       "                        <td id=\"T_121220ee_714d_11ea_bdf5_50e08586bf81row3_col38\" class=\"data row3 col38\" >0</td>\n",
       "                        <td id=\"T_121220ee_714d_11ea_bdf5_50e08586bf81row3_col39\" class=\"data row3 col39\" >0</td>\n",
       "                        <td id=\"T_121220ee_714d_11ea_bdf5_50e08586bf81row3_col40\" class=\"data row3 col40\" >0</td>\n",
       "                        <td id=\"T_121220ee_714d_11ea_bdf5_50e08586bf81row3_col41\" class=\"data row3 col41\" >0</td>\n",
       "                        <td id=\"T_121220ee_714d_11ea_bdf5_50e08586bf81row3_col42\" class=\"data row3 col42\" >0</td>\n",
       "                        <td id=\"T_121220ee_714d_11ea_bdf5_50e08586bf81row3_col43\" class=\"data row3 col43\" >1</td>\n",
       "                        <td id=\"T_121220ee_714d_11ea_bdf5_50e08586bf81row3_col44\" class=\"data row3 col44\" >0</td>\n",
       "                        <td id=\"T_121220ee_714d_11ea_bdf5_50e08586bf81row3_col45\" class=\"data row3 col45\" >0</td>\n",
       "                        <td id=\"T_121220ee_714d_11ea_bdf5_50e08586bf81row3_col46\" class=\"data row3 col46\" >0</td>\n",
       "                        <td id=\"T_121220ee_714d_11ea_bdf5_50e08586bf81row3_col47\" class=\"data row3 col47\" >0</td>\n",
       "                        <td id=\"T_121220ee_714d_11ea_bdf5_50e08586bf81row3_col48\" class=\"data row3 col48\" >0</td>\n",
       "                        <td id=\"T_121220ee_714d_11ea_bdf5_50e08586bf81row3_col49\" class=\"data row3 col49\" >0</td>\n",
       "                        <td id=\"T_121220ee_714d_11ea_bdf5_50e08586bf81row3_col50\" class=\"data row3 col50\" >1</td>\n",
       "            </tr>\n",
       "            <tr>\n",
       "                                <td id=\"T_121220ee_714d_11ea_bdf5_50e08586bf81row4_col0\" class=\"data row4 col0\" >68914</td>\n",
       "                        <td id=\"T_121220ee_714d_11ea_bdf5_50e08586bf81row4_col1\" class=\"data row4 col1\" >16</td>\n",
       "                        <td id=\"T_121220ee_714d_11ea_bdf5_50e08586bf81row4_col2\" class=\"data row4 col2\" >57</td>\n",
       "                        <td id=\"T_121220ee_714d_11ea_bdf5_50e08586bf81row4_col3\" class=\"data row4 col3\" >96.000000</td>\n",
       "                        <td id=\"T_121220ee_714d_11ea_bdf5_50e08586bf81row4_col4\" class=\"data row4 col4\" >6</td>\n",
       "                        <td id=\"T_121220ee_714d_11ea_bdf5_50e08586bf81row4_col5\" class=\"data row4 col5\" >2</td>\n",
       "                        <td id=\"T_121220ee_714d_11ea_bdf5_50e08586bf81row4_col6\" class=\"data row4 col6\" >11231</td>\n",
       "                        <td id=\"T_121220ee_714d_11ea_bdf5_50e08586bf81row4_col7\" class=\"data row4 col7\" >10.000000</td>\n",
       "                        <td id=\"T_121220ee_714d_11ea_bdf5_50e08586bf81row4_col8\" class=\"data row4 col8\" >1.000000</td>\n",
       "                        <td id=\"T_121220ee_714d_11ea_bdf5_50e08586bf81row4_col9\" class=\"data row4 col9\" >11</td>\n",
       "                        <td id=\"T_121220ee_714d_11ea_bdf5_50e08586bf81row4_col10\" class=\"data row4 col10\" >287</td>\n",
       "                        <td id=\"T_121220ee_714d_11ea_bdf5_50e08586bf81row4_col11\" class=\"data row4 col11\" >10.000000</td>\n",
       "                        <td id=\"T_121220ee_714d_11ea_bdf5_50e08586bf81row4_col12\" class=\"data row4 col12\" >2</td>\n",
       "                        <td id=\"T_121220ee_714d_11ea_bdf5_50e08586bf81row4_col13\" class=\"data row4 col13\" >165.000000</td>\n",
       "                        <td id=\"T_121220ee_714d_11ea_bdf5_50e08586bf81row4_col14\" class=\"data row4 col14\" >365</td>\n",
       "                        <td id=\"T_121220ee_714d_11ea_bdf5_50e08586bf81row4_col15\" class=\"data row4 col15\" >33</td>\n",
       "                        <td id=\"T_121220ee_714d_11ea_bdf5_50e08586bf81row4_col16\" class=\"data row4 col16\" >9.000000</td>\n",
       "                        <td id=\"T_121220ee_714d_11ea_bdf5_50e08586bf81row4_col17\" class=\"data row4 col17\" >9.000000</td>\n",
       "                        <td id=\"T_121220ee_714d_11ea_bdf5_50e08586bf81row4_col18\" class=\"data row4 col18\" >343302</td>\n",
       "                        <td id=\"T_121220ee_714d_11ea_bdf5_50e08586bf81row4_col19\" class=\"data row4 col19\" >3054.316555</td>\n",
       "                        <td id=\"T_121220ee_714d_11ea_bdf5_50e08586bf81row4_col20\" class=\"data row4 col20\" >1/11/11</td>\n",
       "                        <td id=\"T_121220ee_714d_11ea_bdf5_50e08586bf81row4_col21\" class=\"data row4 col21\" >9.000000</td>\n",
       "                        <td id=\"T_121220ee_714d_11ea_bdf5_50e08586bf81row4_col22\" class=\"data row4 col22\" >953.795473</td>\n",
       "                        <td id=\"T_121220ee_714d_11ea_bdf5_50e08586bf81row4_col23\" class=\"data row4 col23\" >3</td>\n",
       "                        <td id=\"T_121220ee_714d_11ea_bdf5_50e08586bf81row4_col24\" class=\"data row4 col24\" >10.000000</td>\n",
       "                        <td id=\"T_121220ee_714d_11ea_bdf5_50e08586bf81row4_col25\" class=\"data row4 col25\" >1</td>\n",
       "                        <td id=\"T_121220ee_714d_11ea_bdf5_50e08586bf81row4_col26\" class=\"data row4 col26\" >0</td>\n",
       "                        <td id=\"T_121220ee_714d_11ea_bdf5_50e08586bf81row4_col27\" class=\"data row4 col27\" >0</td>\n",
       "                        <td id=\"T_121220ee_714d_11ea_bdf5_50e08586bf81row4_col28\" class=\"data row4 col28\" >0</td>\n",
       "                        <td id=\"T_121220ee_714d_11ea_bdf5_50e08586bf81row4_col29\" class=\"data row4 col29\" >0</td>\n",
       "                        <td id=\"T_121220ee_714d_11ea_bdf5_50e08586bf81row4_col30\" class=\"data row4 col30\" >0</td>\n",
       "                        <td id=\"T_121220ee_714d_11ea_bdf5_50e08586bf81row4_col31\" class=\"data row4 col31\" >0</td>\n",
       "                        <td id=\"T_121220ee_714d_11ea_bdf5_50e08586bf81row4_col32\" class=\"data row4 col32\" >0</td>\n",
       "                        <td id=\"T_121220ee_714d_11ea_bdf5_50e08586bf81row4_col33\" class=\"data row4 col33\" >0</td>\n",
       "                        <td id=\"T_121220ee_714d_11ea_bdf5_50e08586bf81row4_col34\" class=\"data row4 col34\" >0</td>\n",
       "                        <td id=\"T_121220ee_714d_11ea_bdf5_50e08586bf81row4_col35\" class=\"data row4 col35\" >0</td>\n",
       "                        <td id=\"T_121220ee_714d_11ea_bdf5_50e08586bf81row4_col36\" class=\"data row4 col36\" >0</td>\n",
       "                        <td id=\"T_121220ee_714d_11ea_bdf5_50e08586bf81row4_col37\" class=\"data row4 col37\" >0</td>\n",
       "                        <td id=\"T_121220ee_714d_11ea_bdf5_50e08586bf81row4_col38\" class=\"data row4 col38\" >0</td>\n",
       "                        <td id=\"T_121220ee_714d_11ea_bdf5_50e08586bf81row4_col39\" class=\"data row4 col39\" >0</td>\n",
       "                        <td id=\"T_121220ee_714d_11ea_bdf5_50e08586bf81row4_col40\" class=\"data row4 col40\" >0</td>\n",
       "                        <td id=\"T_121220ee_714d_11ea_bdf5_50e08586bf81row4_col41\" class=\"data row4 col41\" >0</td>\n",
       "                        <td id=\"T_121220ee_714d_11ea_bdf5_50e08586bf81row4_col42\" class=\"data row4 col42\" >0</td>\n",
       "                        <td id=\"T_121220ee_714d_11ea_bdf5_50e08586bf81row4_col43\" class=\"data row4 col43\" >1</td>\n",
       "                        <td id=\"T_121220ee_714d_11ea_bdf5_50e08586bf81row4_col44\" class=\"data row4 col44\" >0</td>\n",
       "                        <td id=\"T_121220ee_714d_11ea_bdf5_50e08586bf81row4_col45\" class=\"data row4 col45\" >0</td>\n",
       "                        <td id=\"T_121220ee_714d_11ea_bdf5_50e08586bf81row4_col46\" class=\"data row4 col46\" >0</td>\n",
       "                        <td id=\"T_121220ee_714d_11ea_bdf5_50e08586bf81row4_col47\" class=\"data row4 col47\" >0</td>\n",
       "                        <td id=\"T_121220ee_714d_11ea_bdf5_50e08586bf81row4_col48\" class=\"data row4 col48\" >0</td>\n",
       "                        <td id=\"T_121220ee_714d_11ea_bdf5_50e08586bf81row4_col49\" class=\"data row4 col49\" >0</td>\n",
       "                        <td id=\"T_121220ee_714d_11ea_bdf5_50e08586bf81row4_col50\" class=\"data row4 col50\" >1</td>\n",
       "            </tr>\n",
       "    </tbody></table>"
      ],
      "text/plain": [
       "<pandas.io.formats.style.Styler at 0x212556c4808>"
      ]
     },
     "execution_count": 33,
     "metadata": {},
     "output_type": "execute_result"
    }
   ],
   "source": [
    "Data.head().style.hide_index()"
   ]
  },
  {
   "cell_type": "code",
   "execution_count": 34,
   "metadata": {},
   "outputs": [],
   "source": [
    "Data.to_csv('Data/Clean_Airbnb_Listings.csv',index=False)\n",
    "\n",
    "output = open('Data/Airbnb_Listings_Extra.pkl', 'wb')\n",
    "pickle.dump(Lists_df, output)\n",
    "output.close()"
   ]
  },
  {
   "cell_type": "markdown",
   "metadata": {},
   "source": [
    "***"
   ]
  }
 ],
 "metadata": {
  "kernelspec": {
   "display_name": "Python 3",
   "language": "python",
   "name": "python3"
  },
  "language_info": {
   "codemirror_mode": {
    "name": "ipython",
    "version": 3
   },
   "file_extension": ".py",
   "mimetype": "text/x-python",
   "name": "python",
   "nbconvert_exporter": "python",
   "pygments_lexer": "ipython3",
   "version": "3.7.7"
  }
 },
 "nbformat": 4,
 "nbformat_minor": 2
}
