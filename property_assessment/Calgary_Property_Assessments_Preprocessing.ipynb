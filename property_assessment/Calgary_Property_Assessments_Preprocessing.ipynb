{
 "cells": [
  {
   "cell_type": "code",
   "execution_count": 1,
   "metadata": {},
   "outputs": [],
   "source": [
    "# Required packages\n",
    "import pandas as pd\n",
    "import numpy as np\n",
    "import geopandas as gpd\n",
    "\n",
    "# Imputing Data\n",
    "from sklearn.impute import SimpleImputer\n",
    "\n",
    "# Display\n",
    "import progressbar"
   ]
  },
  {
   "cell_type": "markdown",
   "metadata": {},
   "source": [
    "# Calgary Property Assessments\n",
    "\n",
    "\n",
    "The assessed values of residential, non-residential and farm land properties in Calgary. The properties in this dataset consist of Calgary lands that have a registered parcel at Alberta’s Land Titles Office. Properties that are on The City of Calgary’s annual property assessment rolls, but excluded from this dataset, are titled parking stalls, titled storage units, machinery & equipment property, and linear property (as defined in the Municipal Government Act). This dataset can be downloaded from [here](https://data.calgary.ca/dataset/Property-Assessments/6zp6-pxei).\n",
    "\n",
    "For detailed property assessment information, visit https://assessmentsearch.calgary.ca"
   ]
  },
  {
   "cell_type": "code",
   "execution_count": 2,
   "metadata": {},
   "outputs": [],
   "source": [
    "Data = pd.read_csv('Calgary/Property_Assessments.csv')"
   ]
  },
  {
   "cell_type": "markdown",
   "metadata": {},
   "source": [
    "#### Table of contents\n",
    "\n",
    "* [Preprocessing](#Preprocessing)\n",
    "    * [Assessed Value Column](#Assessed-Value-Column)\n",
    "    * [Community Code and Community Name Columns](#Community-Code-and-Community-Name-Columns)\n",
    "    * [Latitude, Longitude and Location Columns](#Latitude,-Longitude-and-Location-Columns)\n",
    "    * [Changing the Dataframe Column Names to Title Case](#Changing-the-Dataframe-Column-Names-to-Title-Case)\n",
    "    * [Adding More Details](#Adding-More-Details)\n",
    "        * [Loading a geojson file](#Loading-a-geojson-file)\n",
    "        * [Processing the geojson file](#Processing-the-geojson-file)\n",
    "* [Processed Data](#Processed-Data)"
   ]
  },
  {
   "cell_type": "markdown",
   "metadata": {},
   "source": [
    "# Preprocessing"
   ]
  },
  {
   "cell_type": "markdown",
   "metadata": {},
   "source": [
    "The list of columns:"
   ]
  },
  {
   "cell_type": "code",
   "execution_count": 3,
   "metadata": {},
   "outputs": [
    {
     "name": "stdout",
     "output_type": "stream",
     "text": [
      "['ROLL_YEAR', 'ROLL_NUMBER', 'ADDRESS', 'ASSESSED_VALUE', 'ASSESSMENT_CLASS', 'ASSESSMENT_CLASS_DESCRIPTION', 'RE_ASSESSED_VALUE', 'NR_ASSESSED_VALUE', 'FL_ASSESSED_VALUE', 'COMM_CODE', 'COMM_NAME', 'LATITUDE', 'LONGITUDE', 'location', 'UNIQUE_KEY', 'YEAR_OF_CONSTRUCTION']\n"
     ]
    }
   ],
   "source": [
    "Columns_list = Data.columns.tolist()\n",
    "print(Columns_list)"
   ]
  },
  {
   "cell_type": "code",
   "execution_count": 4,
   "metadata": {},
   "outputs": [],
   "source": [
    "def Data_info(Inp, Only_NaN = False):\n",
    "    Out = pd.DataFrame(Inp.dtypes,columns=['Data Type']).sort_values(by=['Data Type'])\n",
    "    Out = Out.join(pd.DataFrame(Inp.isnull().sum(), columns=['Number of NaN Values']), how='outer')\n",
    "    Out['Percentage'] = np.round(100*(Out['Number of NaN Values']/Inp.shape[0]),2)\n",
    "    if Only_NaN:\n",
    "        Out = Out.loc[Out['Number of NaN Values']>0]\n",
    "    return Out"
   ]
  },
  {
   "cell_type": "code",
   "execution_count": 5,
   "metadata": {},
   "outputs": [
    {
     "data": {
      "text/html": [
       "<div>\n",
       "<style scoped>\n",
       "    .dataframe tbody tr th:only-of-type {\n",
       "        vertical-align: middle;\n",
       "    }\n",
       "\n",
       "    .dataframe tbody tr th {\n",
       "        vertical-align: top;\n",
       "    }\n",
       "\n",
       "    .dataframe thead th {\n",
       "        text-align: right;\n",
       "    }\n",
       "</style>\n",
       "<table border=\"1\" class=\"dataframe\">\n",
       "  <thead>\n",
       "    <tr style=\"text-align: right;\">\n",
       "      <th></th>\n",
       "      <th>Data Type</th>\n",
       "      <th>Number of NaN Values</th>\n",
       "      <th>Percentage</th>\n",
       "    </tr>\n",
       "  </thead>\n",
       "  <tbody>\n",
       "    <tr>\n",
       "      <th>ADDRESS</th>\n",
       "      <td>object</td>\n",
       "      <td>186</td>\n",
       "      <td>0.00</td>\n",
       "    </tr>\n",
       "    <tr>\n",
       "      <th>ASSESSED_VALUE</th>\n",
       "      <td>float64</td>\n",
       "      <td>1860</td>\n",
       "      <td>0.03</td>\n",
       "    </tr>\n",
       "    <tr>\n",
       "      <th>COMM_CODE</th>\n",
       "      <td>object</td>\n",
       "      <td>2</td>\n",
       "      <td>0.00</td>\n",
       "    </tr>\n",
       "    <tr>\n",
       "      <th>COMM_NAME</th>\n",
       "      <td>object</td>\n",
       "      <td>71</td>\n",
       "      <td>0.00</td>\n",
       "    </tr>\n",
       "    <tr>\n",
       "      <th>FL_ASSESSED_VALUE</th>\n",
       "      <td>float64</td>\n",
       "      <td>7302699</td>\n",
       "      <td>99.86</td>\n",
       "    </tr>\n",
       "    <tr>\n",
       "      <th>LATITUDE</th>\n",
       "      <td>float64</td>\n",
       "      <td>31464</td>\n",
       "      <td>0.43</td>\n",
       "    </tr>\n",
       "    <tr>\n",
       "      <th>LONGITUDE</th>\n",
       "      <td>float64</td>\n",
       "      <td>31464</td>\n",
       "      <td>0.43</td>\n",
       "    </tr>\n",
       "    <tr>\n",
       "      <th>NR_ASSESSED_VALUE</th>\n",
       "      <td>float64</td>\n",
       "      <td>6969645</td>\n",
       "      <td>95.31</td>\n",
       "    </tr>\n",
       "    <tr>\n",
       "      <th>RE_ASSESSED_VALUE</th>\n",
       "      <td>float64</td>\n",
       "      <td>344734</td>\n",
       "      <td>4.71</td>\n",
       "    </tr>\n",
       "    <tr>\n",
       "      <th>YEAR_OF_CONSTRUCTION</th>\n",
       "      <td>float64</td>\n",
       "      <td>6792235</td>\n",
       "      <td>92.88</td>\n",
       "    </tr>\n",
       "    <tr>\n",
       "      <th>location</th>\n",
       "      <td>object</td>\n",
       "      <td>31464</td>\n",
       "      <td>0.43</td>\n",
       "    </tr>\n",
       "  </tbody>\n",
       "</table>\n",
       "</div>"
      ],
      "text/plain": [
       "                     Data Type  Number of NaN Values  Percentage\n",
       "ADDRESS                 object                   186        0.00\n",
       "ASSESSED_VALUE         float64                  1860        0.03\n",
       "COMM_CODE               object                     2        0.00\n",
       "COMM_NAME               object                    71        0.00\n",
       "FL_ASSESSED_VALUE      float64               7302699       99.86\n",
       "LATITUDE               float64                 31464        0.43\n",
       "LONGITUDE              float64                 31464        0.43\n",
       "NR_ASSESSED_VALUE      float64               6969645       95.31\n",
       "RE_ASSESSED_VALUE      float64                344734        4.71\n",
       "YEAR_OF_CONSTRUCTION   float64               6792235       92.88\n",
       "location                object                 31464        0.43"
      ]
     },
     "execution_count": 5,
     "metadata": {},
     "output_type": "execute_result"
    }
   ],
   "source": [
    "Data_info(Data, True)"
   ]
  },
  {
   "cell_type": "markdown",
   "metadata": {},
   "source": [
    "As can be see, there are a consider number of **NaN** values that we need to deal with them before starting this study."
   ]
  },
  {
   "cell_type": "markdown",
   "metadata": {},
   "source": [
    "## Assessed Value Column"
   ]
  },
  {
   "cell_type": "code",
   "execution_count": 6,
   "metadata": {},
   "outputs": [],
   "source": [
    "def Search_Columns(Inp, Columns = Columns_list):\n",
    "    ''' Search for specific value (Inp) in the column list '''\n",
    "    mylist=list()\n",
    "    for i in range(len(Columns)):\n",
    "        if Columns[i].find(Inp) != -1:\n",
    "            mylist.append(Columns[i])\n",
    "    return mylist"
   ]
  },
  {
   "cell_type": "markdown",
   "metadata": {},
   "source": [
    "First off, let's create a DataFrame from rows that **Assessed Value**s are **NaN**."
   ]
  },
  {
   "cell_type": "code",
   "execution_count": 7,
   "metadata": {},
   "outputs": [
    {
     "data": {
      "text/html": [
       "<div>\n",
       "<style scoped>\n",
       "    .dataframe tbody tr th:only-of-type {\n",
       "        vertical-align: middle;\n",
       "    }\n",
       "\n",
       "    .dataframe tbody tr th {\n",
       "        vertical-align: top;\n",
       "    }\n",
       "\n",
       "    .dataframe thead th {\n",
       "        text-align: right;\n",
       "    }\n",
       "</style>\n",
       "<table border=\"1\" class=\"dataframe\">\n",
       "  <thead>\n",
       "    <tr style=\"text-align: right;\">\n",
       "      <th></th>\n",
       "      <th>ASSESSED_VALUE</th>\n",
       "      <th>RE_ASSESSED_VALUE</th>\n",
       "      <th>NR_ASSESSED_VALUE</th>\n",
       "      <th>FL_ASSESSED_VALUE</th>\n",
       "    </tr>\n",
       "  </thead>\n",
       "  <tbody>\n",
       "    <tr>\n",
       "      <th>578475</th>\n",
       "      <td>NaN</td>\n",
       "      <td>NaN</td>\n",
       "      <td>NaN</td>\n",
       "      <td>NaN</td>\n",
       "    </tr>\n",
       "    <tr>\n",
       "      <th>578476</th>\n",
       "      <td>NaN</td>\n",
       "      <td>NaN</td>\n",
       "      <td>NaN</td>\n",
       "      <td>NaN</td>\n",
       "    </tr>\n",
       "    <tr>\n",
       "      <th>651608</th>\n",
       "      <td>NaN</td>\n",
       "      <td>NaN</td>\n",
       "      <td>NaN</td>\n",
       "      <td>NaN</td>\n",
       "    </tr>\n",
       "    <tr>\n",
       "      <th>752796</th>\n",
       "      <td>NaN</td>\n",
       "      <td>NaN</td>\n",
       "      <td>NaN</td>\n",
       "      <td>NaN</td>\n",
       "    </tr>\n",
       "    <tr>\n",
       "      <th>752797</th>\n",
       "      <td>NaN</td>\n",
       "      <td>NaN</td>\n",
       "      <td>NaN</td>\n",
       "      <td>NaN</td>\n",
       "    </tr>\n",
       "  </tbody>\n",
       "</table>\n",
       "</div>"
      ],
      "text/plain": [
       "        ASSESSED_VALUE  RE_ASSESSED_VALUE  NR_ASSESSED_VALUE  \\\n",
       "578475             NaN                NaN                NaN   \n",
       "578476             NaN                NaN                NaN   \n",
       "651608             NaN                NaN                NaN   \n",
       "752796             NaN                NaN                NaN   \n",
       "752797             NaN                NaN                NaN   \n",
       "\n",
       "        FL_ASSESSED_VALUE  \n",
       "578475                NaN  \n",
       "578476                NaN  \n",
       "651608                NaN  \n",
       "752796                NaN  \n",
       "752797                NaN  "
      ]
     },
     "execution_count": 7,
     "metadata": {},
     "output_type": "execute_result"
    }
   ],
   "source": [
    "mylist = Search_Columns('VALUE')\n",
    "Null = Data[Data.ASSESSED_VALUE.isna()][mylist]\n",
    "Null.head()"
   ]
  },
  {
   "cell_type": "markdown",
   "metadata": {},
   "source": [
    "We would like to check whether there is a row that one of the last three columns has a non-NaN value."
   ]
  },
  {
   "cell_type": "code",
   "execution_count": 8,
   "metadata": {},
   "outputs": [
    {
     "data": {
      "text/html": [
       "<div>\n",
       "<style scoped>\n",
       "    .dataframe tbody tr th:only-of-type {\n",
       "        vertical-align: middle;\n",
       "    }\n",
       "\n",
       "    .dataframe tbody tr th {\n",
       "        vertical-align: top;\n",
       "    }\n",
       "\n",
       "    .dataframe thead th {\n",
       "        text-align: right;\n",
       "    }\n",
       "</style>\n",
       "<table border=\"1\" class=\"dataframe\">\n",
       "  <thead>\n",
       "    <tr style=\"text-align: right;\">\n",
       "      <th></th>\n",
       "      <th>ASSESSED_VALUE</th>\n",
       "      <th>RE_ASSESSED_VALUE</th>\n",
       "      <th>NR_ASSESSED_VALUE</th>\n",
       "      <th>FL_ASSESSED_VALUE</th>\n",
       "    </tr>\n",
       "  </thead>\n",
       "  <tbody>\n",
       "  </tbody>\n",
       "</table>\n",
       "</div>"
      ],
      "text/plain": [
       "Empty DataFrame\n",
       "Columns: [ASSESSED_VALUE, RE_ASSESSED_VALUE, NR_ASSESSED_VALUE, FL_ASSESSED_VALUE]\n",
       "Index: []"
      ]
     },
     "execution_count": 8,
     "metadata": {},
     "output_type": "execute_result"
    }
   ],
   "source": [
    "Null[Null.iloc[:, 1:].notnull().all(axis=1)]"
   ]
  },
  {
   "cell_type": "markdown",
   "metadata": {},
   "source": [
    "There is no such row, and we drop all of these rows."
   ]
  },
  {
   "cell_type": "code",
   "execution_count": 9,
   "metadata": {},
   "outputs": [],
   "source": [
    "Data.dropna(subset=['ASSESSED_VALUE'], how='all', inplace=True)"
   ]
  },
  {
   "cell_type": "markdown",
   "metadata": {},
   "source": [
    "## Community Code and Community Name Columns"
   ]
  },
  {
   "cell_type": "markdown",
   "metadata": {},
   "source": [
    "First off,"
   ]
  },
  {
   "cell_type": "code",
   "execution_count": 10,
   "metadata": {
    "scrolled": false
   },
   "outputs": [
    {
     "data": {
      "text/html": [
       "<div>\n",
       "<style scoped>\n",
       "    .dataframe tbody tr th:only-of-type {\n",
       "        vertical-align: middle;\n",
       "    }\n",
       "\n",
       "    .dataframe tbody tr th {\n",
       "        vertical-align: top;\n",
       "    }\n",
       "\n",
       "    .dataframe thead th {\n",
       "        text-align: right;\n",
       "    }\n",
       "</style>\n",
       "<table border=\"1\" class=\"dataframe\">\n",
       "  <thead>\n",
       "    <tr style=\"text-align: right;\">\n",
       "      <th></th>\n",
       "      <th>COMM_CODE</th>\n",
       "      <th>COMM_NAME</th>\n",
       "    </tr>\n",
       "  </thead>\n",
       "  <tbody>\n",
       "    <tr>\n",
       "      <th>1759602</th>\n",
       "      <td>12E</td>\n",
       "      <td>NaN</td>\n",
       "    </tr>\n",
       "    <tr>\n",
       "      <th>1774800</th>\n",
       "      <td>12E</td>\n",
       "      <td>NaN</td>\n",
       "    </tr>\n",
       "    <tr>\n",
       "      <th>1775521</th>\n",
       "      <td>12E</td>\n",
       "      <td>NaN</td>\n",
       "    </tr>\n",
       "    <tr>\n",
       "      <th>1776273</th>\n",
       "      <td>12E</td>\n",
       "      <td>NaN</td>\n",
       "    </tr>\n",
       "    <tr>\n",
       "      <th>1779952</th>\n",
       "      <td>12E</td>\n",
       "      <td>NaN</td>\n",
       "    </tr>\n",
       "    <tr>\n",
       "      <th>...</th>\n",
       "      <td>...</td>\n",
       "      <td>...</td>\n",
       "    </tr>\n",
       "    <tr>\n",
       "      <th>6038643</th>\n",
       "      <td>06B</td>\n",
       "      <td>NaN</td>\n",
       "    </tr>\n",
       "    <tr>\n",
       "      <th>6359859</th>\n",
       "      <td>14U</td>\n",
       "      <td>NaN</td>\n",
       "    </tr>\n",
       "    <tr>\n",
       "      <th>6365728</th>\n",
       "      <td>14U</td>\n",
       "      <td>NaN</td>\n",
       "    </tr>\n",
       "    <tr>\n",
       "      <th>6368191</th>\n",
       "      <td>06B</td>\n",
       "      <td>NaN</td>\n",
       "    </tr>\n",
       "    <tr>\n",
       "      <th>6382838</th>\n",
       "      <td>14U</td>\n",
       "      <td>NaN</td>\n",
       "    </tr>\n",
       "  </tbody>\n",
       "</table>\n",
       "<p>71 rows × 2 columns</p>\n",
       "</div>"
      ],
      "text/plain": [
       "        COMM_CODE COMM_NAME\n",
       "1759602       12E       NaN\n",
       "1774800       12E       NaN\n",
       "1775521       12E       NaN\n",
       "1776273       12E       NaN\n",
       "1779952       12E       NaN\n",
       "...           ...       ...\n",
       "6038643       06B       NaN\n",
       "6359859       14U       NaN\n",
       "6365728       14U       NaN\n",
       "6368191       06B       NaN\n",
       "6382838       14U       NaN\n",
       "\n",
       "[71 rows x 2 columns]"
      ]
     },
     "execution_count": 10,
     "metadata": {},
     "output_type": "execute_result"
    }
   ],
   "source": [
    "mylist = Search_Columns('COMM')\n",
    "mylist1 = np.where(Data['COMM_NAME'].isna())[0].tolist()\n",
    "Data.iloc[mylist1,:][mylist]"
   ]
  },
  {
   "cell_type": "markdown",
   "metadata": {},
   "source": [
    "We can use the information on Community Name Column and fill Community Code column."
   ]
  },
  {
   "cell_type": "code",
   "execution_count": 11,
   "metadata": {
    "scrolled": true
   },
   "outputs": [
    {
     "data": {
      "text/html": [
       "<div>\n",
       "<style scoped>\n",
       "    .dataframe tbody tr th:only-of-type {\n",
       "        vertical-align: middle;\n",
       "    }\n",
       "\n",
       "    .dataframe tbody tr th {\n",
       "        vertical-align: top;\n",
       "    }\n",
       "\n",
       "    .dataframe thead th {\n",
       "        text-align: right;\n",
       "    }\n",
       "</style>\n",
       "<table border=\"1\" class=\"dataframe\">\n",
       "  <thead>\n",
       "    <tr style=\"text-align: right;\">\n",
       "      <th></th>\n",
       "      <th>COMM_CODE</th>\n",
       "      <th>COMM_NAME</th>\n",
       "    </tr>\n",
       "  </thead>\n",
       "  <tbody>\n",
       "    <tr>\n",
       "      <th>0</th>\n",
       "      <td>DIS</td>\n",
       "      <td>DISCOVERY RIDGE</td>\n",
       "    </tr>\n",
       "    <tr>\n",
       "      <th>1</th>\n",
       "      <td>BRI</td>\n",
       "      <td>BRIDLEWOOD</td>\n",
       "    </tr>\n",
       "    <tr>\n",
       "      <th>2</th>\n",
       "      <td>BOW</td>\n",
       "      <td>BOWNESS</td>\n",
       "    </tr>\n",
       "    <tr>\n",
       "      <th>3</th>\n",
       "      <td>CPF</td>\n",
       "      <td>COPPERFIELD</td>\n",
       "    </tr>\n",
       "    <tr>\n",
       "      <th>4</th>\n",
       "      <td>CRA</td>\n",
       "      <td>CRANSTON</td>\n",
       "    </tr>\n",
       "  </tbody>\n",
       "</table>\n",
       "</div>"
      ],
      "text/plain": [
       "  COMM_CODE        COMM_NAME\n",
       "0       DIS  DISCOVERY RIDGE\n",
       "1       BRI       BRIDLEWOOD\n",
       "2       BOW          BOWNESS\n",
       "3       CPF      COPPERFIELD\n",
       "4       CRA         CRANSTON"
      ]
     },
     "execution_count": 11,
     "metadata": {},
     "output_type": "execute_result"
    }
   ],
   "source": [
    "Temp = Data.copy()\n",
    "Temp = Temp[Temp.COMM_CODE.notna()]\n",
    "Temp = Temp.drop_duplicates('COMM_CODE')\n",
    "Temp = Temp[mylist].reset_index(drop=True)\n",
    "Temp.head()"
   ]
  },
  {
   "cell_type": "markdown",
   "metadata": {},
   "source": [
    "Now, we can this for completing **COMM_NAME** column"
   ]
  },
  {
   "cell_type": "code",
   "execution_count": 12,
   "metadata": {},
   "outputs": [
    {
     "name": "stderr",
     "output_type": "stream",
     "text": [
      "|=========================================================================|100%\n"
     ]
    }
   ],
   "source": [
    "Counter = 0\n",
    "Progress_Bar = progressbar.ProgressBar(maxval=len(mylist1), widgets=[progressbar.Bar('=', '|', '|'),\n",
    "                                                                    progressbar.Percentage()])\n",
    "Progress_Bar.start()\n",
    "for i in mylist1:\n",
    "    Counter+=1\n",
    "    Progress_Bar.update(Counter)\n",
    "    for j in range(len(Temp)):\n",
    "        if Data.iloc[i,9]==Temp.iloc[j,0]:\n",
    "            Data.iloc[i,10]=Temp.iloc[j,1]\n",
    "# End of the seraching process\n",
    "Progress_Bar.finish()"
   ]
  },
  {
   "cell_type": "markdown",
   "metadata": {},
   "source": [
    "Now"
   ]
  },
  {
   "cell_type": "code",
   "execution_count": 13,
   "metadata": {},
   "outputs": [
    {
     "data": {
      "text/html": [
       "<div>\n",
       "<style scoped>\n",
       "    .dataframe tbody tr th:only-of-type {\n",
       "        vertical-align: middle;\n",
       "    }\n",
       "\n",
       "    .dataframe tbody tr th {\n",
       "        vertical-align: top;\n",
       "    }\n",
       "\n",
       "    .dataframe thead th {\n",
       "        text-align: right;\n",
       "    }\n",
       "</style>\n",
       "<table border=\"1\" class=\"dataframe\">\n",
       "  <thead>\n",
       "    <tr style=\"text-align: right;\">\n",
       "      <th></th>\n",
       "      <th>COMM_CODE</th>\n",
       "      <th>COMM_NAME</th>\n",
       "    </tr>\n",
       "  </thead>\n",
       "  <tbody>\n",
       "    <tr>\n",
       "      <th>1759602</th>\n",
       "      <td>12E</td>\n",
       "      <td>12E</td>\n",
       "    </tr>\n",
       "    <tr>\n",
       "      <th>1774800</th>\n",
       "      <td>12E</td>\n",
       "      <td>12E</td>\n",
       "    </tr>\n",
       "    <tr>\n",
       "      <th>1775521</th>\n",
       "      <td>12E</td>\n",
       "      <td>12E</td>\n",
       "    </tr>\n",
       "    <tr>\n",
       "      <th>1776273</th>\n",
       "      <td>12E</td>\n",
       "      <td>12E</td>\n",
       "    </tr>\n",
       "    <tr>\n",
       "      <th>1779952</th>\n",
       "      <td>12E</td>\n",
       "      <td>12E</td>\n",
       "    </tr>\n",
       "  </tbody>\n",
       "</table>\n",
       "</div>"
      ],
      "text/plain": [
       "        COMM_CODE COMM_NAME\n",
       "1759602       12E       12E\n",
       "1774800       12E       12E\n",
       "1775521       12E       12E\n",
       "1776273       12E       12E\n",
       "1779952       12E       12E"
      ]
     },
     "execution_count": 13,
     "metadata": {},
     "output_type": "execute_result"
    }
   ],
   "source": [
    "Data.iloc[mylist1,:][mylist].head()"
   ]
  },
  {
   "cell_type": "markdown",
   "metadata": {},
   "source": [
    "However,"
   ]
  },
  {
   "cell_type": "code",
   "execution_count": 14,
   "metadata": {},
   "outputs": [
    {
     "data": {
      "text/html": [
       "<div>\n",
       "<style scoped>\n",
       "    .dataframe tbody tr th:only-of-type {\n",
       "        vertical-align: middle;\n",
       "    }\n",
       "\n",
       "    .dataframe tbody tr th {\n",
       "        vertical-align: top;\n",
       "    }\n",
       "\n",
       "    .dataframe thead th {\n",
       "        text-align: right;\n",
       "    }\n",
       "</style>\n",
       "<table border=\"1\" class=\"dataframe\">\n",
       "  <thead>\n",
       "    <tr style=\"text-align: right;\">\n",
       "      <th></th>\n",
       "      <th>COMM_CODE</th>\n",
       "      <th>COMM_NAME</th>\n",
       "    </tr>\n",
       "  </thead>\n",
       "  <tbody>\n",
       "    <tr>\n",
       "      <th>4553192</th>\n",
       "      <td>NaN</td>\n",
       "      <td>NaN</td>\n",
       "    </tr>\n",
       "    <tr>\n",
       "      <th>4972776</th>\n",
       "      <td>NaN</td>\n",
       "      <td>NaN</td>\n",
       "    </tr>\n",
       "  </tbody>\n",
       "</table>\n",
       "</div>"
      ],
      "text/plain": [
       "        COMM_CODE COMM_NAME\n",
       "4553192       NaN       NaN\n",
       "4972776       NaN       NaN"
      ]
     },
     "execution_count": 14,
     "metadata": {},
     "output_type": "execute_result"
    }
   ],
   "source": [
    "mylist = Search_Columns('COMM')\n",
    "mylist1 = np.where(Data['COMM_NAME'].isna())[0].tolist()\n",
    "Temp = Data.iloc[mylist1,:]['LATITUDE'].tolist()\n",
    "Data.iloc[mylist1,:][mylist]"
   ]
  },
  {
   "cell_type": "markdown",
   "metadata": {},
   "source": [
    "and we label these rows as Others"
   ]
  },
  {
   "cell_type": "code",
   "execution_count": 15,
   "metadata": {},
   "outputs": [
    {
     "data": {
      "text/html": [
       "<div>\n",
       "<style scoped>\n",
       "    .dataframe tbody tr th:only-of-type {\n",
       "        vertical-align: middle;\n",
       "    }\n",
       "\n",
       "    .dataframe tbody tr th {\n",
       "        vertical-align: top;\n",
       "    }\n",
       "\n",
       "    .dataframe thead th {\n",
       "        text-align: right;\n",
       "    }\n",
       "</style>\n",
       "<table border=\"1\" class=\"dataframe\">\n",
       "  <thead>\n",
       "    <tr style=\"text-align: right;\">\n",
       "      <th></th>\n",
       "      <th>COMM_CODE</th>\n",
       "      <th>COMM_NAME</th>\n",
       "    </tr>\n",
       "  </thead>\n",
       "  <tbody>\n",
       "    <tr>\n",
       "      <th>4553192</th>\n",
       "      <td>Other</td>\n",
       "      <td>Other</td>\n",
       "    </tr>\n",
       "    <tr>\n",
       "      <th>4972776</th>\n",
       "      <td>Other</td>\n",
       "      <td>Other</td>\n",
       "    </tr>\n",
       "  </tbody>\n",
       "</table>\n",
       "</div>"
      ],
      "text/plain": [
       "        COMM_CODE COMM_NAME\n",
       "4553192     Other     Other\n",
       "4972776     Other     Other"
      ]
     },
     "execution_count": 15,
     "metadata": {},
     "output_type": "execute_result"
    }
   ],
   "source": [
    "Data.iloc[mylist1,9]='Other'\n",
    "Data.iloc[mylist1,10]='Other'\n",
    "Data.iloc[mylist1,:][mylist]"
   ]
  },
  {
   "cell_type": "markdown",
   "metadata": {},
   "source": [
    "Moreover, modifying **COMM_NAME** column entries."
   ]
  },
  {
   "cell_type": "code",
   "execution_count": 16,
   "metadata": {},
   "outputs": [],
   "source": [
    "Data['COMM_NAME'] = Data['COMM_NAME'].apply(lambda x: x.title())"
   ]
  },
  {
   "cell_type": "markdown",
   "metadata": {},
   "source": [
    "## Latitude, Longitude and Location Columns "
   ]
  },
  {
   "cell_type": "markdown",
   "metadata": {},
   "source": [
    "For these columns, note that"
   ]
  },
  {
   "cell_type": "code",
   "execution_count": 17,
   "metadata": {},
   "outputs": [
    {
     "name": "stdout",
     "output_type": "stream",
     "text": [
      "The number of missing values: 31457\n"
     ]
    },
    {
     "data": {
      "text/html": [
       "<div>\n",
       "<style scoped>\n",
       "    .dataframe tbody tr th:only-of-type {\n",
       "        vertical-align: middle;\n",
       "    }\n",
       "\n",
       "    .dataframe tbody tr th {\n",
       "        vertical-align: top;\n",
       "    }\n",
       "\n",
       "    .dataframe thead th {\n",
       "        text-align: right;\n",
       "    }\n",
       "</style>\n",
       "<table border=\"1\" class=\"dataframe\">\n",
       "  <thead>\n",
       "    <tr style=\"text-align: right;\">\n",
       "      <th></th>\n",
       "      <th>ROLL_NUMBER</th>\n",
       "      <th>ADDRESS</th>\n",
       "      <th>LATITUDE</th>\n",
       "      <th>LONGITUDE</th>\n",
       "      <th>location</th>\n",
       "    </tr>\n",
       "  </thead>\n",
       "  <tbody>\n",
       "    <tr>\n",
       "      <th>65</th>\n",
       "      <td>54009493</td>\n",
       "      <td>3030 3 AV NE</td>\n",
       "      <td>NaN</td>\n",
       "      <td>NaN</td>\n",
       "      <td>NaN</td>\n",
       "    </tr>\n",
       "    <tr>\n",
       "      <th>461</th>\n",
       "      <td>202745584</td>\n",
       "      <td>202 CENTRE ST SE</td>\n",
       "      <td>NaN</td>\n",
       "      <td>NaN</td>\n",
       "      <td>NaN</td>\n",
       "    </tr>\n",
       "    <tr>\n",
       "      <th>1746</th>\n",
       "      <td>202651097</td>\n",
       "      <td>1217 CENTRE ST NW</td>\n",
       "      <td>NaN</td>\n",
       "      <td>NaN</td>\n",
       "      <td>NaN</td>\n",
       "    </tr>\n",
       "    <tr>\n",
       "      <th>1812</th>\n",
       "      <td>202735593</td>\n",
       "      <td>363 SAGE HILL CI NW</td>\n",
       "      <td>NaN</td>\n",
       "      <td>NaN</td>\n",
       "      <td>NaN</td>\n",
       "    </tr>\n",
       "    <tr>\n",
       "      <th>16662</th>\n",
       "      <td>16109613</td>\n",
       "      <td>1705 RANCHLANDS WY NW</td>\n",
       "      <td>NaN</td>\n",
       "      <td>NaN</td>\n",
       "      <td>NaN</td>\n",
       "    </tr>\n",
       "  </tbody>\n",
       "</table>\n",
       "</div>"
      ],
      "text/plain": [
       "       ROLL_NUMBER                ADDRESS  LATITUDE  LONGITUDE location\n",
       "65        54009493           3030 3 AV NE       NaN        NaN      NaN\n",
       "461      202745584       202 CENTRE ST SE       NaN        NaN      NaN\n",
       "1746     202651097      1217 CENTRE ST NW       NaN        NaN      NaN\n",
       "1812     202735593    363 SAGE HILL CI NW       NaN        NaN      NaN\n",
       "16662     16109613  1705 RANCHLANDS WY NW       NaN        NaN      NaN"
      ]
     },
     "execution_count": 17,
     "metadata": {},
     "output_type": "execute_result"
    }
   ],
   "source": [
    "mylist = np.where(Data['location'].isna())[0].tolist()\n",
    "Null = Data[Data.location.isna()][['ROLL_NUMBER','ADDRESS','LATITUDE','LONGITUDE','location']]\n",
    "print('The number of missing values: %i' % len(Null))\n",
    "Null.head()"
   ]
  },
  {
   "cell_type": "markdown",
   "metadata": {},
   "source": [
    "We can use imputing with the mean strategy to recover these missing data in each community. Therefore,"
   ]
  },
  {
   "cell_type": "code",
   "execution_count": 18,
   "metadata": {
    "scrolled": true
   },
   "outputs": [
    {
     "name": "stderr",
     "output_type": "stream",
     "text": [
      "|#########################################################################|100%\n"
     ]
    }
   ],
   "source": [
    "imp = SimpleImputer(missing_values=np.nan, strategy='most_frequent')\n",
    "mylist = Data.COMM_CODE.unique().tolist()\n",
    "# Progressbar\n",
    "Counter = 0\n",
    "Progress_Bar = progressbar.ProgressBar(maxval=len(mylist),\n",
    "                                       widgets=[progressbar.Bar('#', '|', '|'), progressbar.Percentage()])\n",
    "Progress_Bar.start()\n",
    "\n",
    "for i in mylist:\n",
    "    # updating the progress bar\n",
    "    Counter+=1\n",
    "    Progress_Bar.update(Counter)\n",
    "    # searching for the index of values in the community code column\n",
    "    indx = np.where(Data['COMM_CODE']==i)[0].tolist()\n",
    "    # LATITUDE\n",
    "    Temp = Data.iloc[indx,:].LATITUDE\n",
    "    if Temp.isnull().sum() < len(Temp):\n",
    "        Temp = imp.fit_transform(Temp.values.reshape(-1, 1))\n",
    "        Data.iloc[indx,11] = Temp\n",
    "    del Temp\n",
    "    # LONGITUDE\n",
    "    Temp = Data.iloc[indx,:].LONGITUDE\n",
    "    if Temp.isnull().sum() < len(Temp):\n",
    "        Temp = imp.fit_transform(Temp.values.reshape(-1, 1))\n",
    "        Data.iloc[indx,12] = Temp\n",
    "    del Temp\n",
    "# End of the seraching process\n",
    "Progress_Bar.finish()\n",
    "del mylist, imp, Null"
   ]
  },
  {
   "cell_type": "markdown",
   "metadata": {},
   "source": [
    "## Changing the Dataframe Column Names to Title Case"
   ]
  },
  {
   "cell_type": "code",
   "execution_count": 19,
   "metadata": {},
   "outputs": [],
   "source": [
    "mylist = Data.columns.tolist()\n",
    "mylist = [x.title() for x in mylist]\n",
    "Data.columns = mylist\n",
    "del mylist"
   ]
  },
  {
   "cell_type": "markdown",
   "metadata": {},
   "source": [
    "## Adding More Details"
   ]
  },
  {
   "cell_type": "markdown",
   "metadata": {},
   "source": [
    "### Loading a geojson file"
   ]
  },
  {
   "cell_type": "code",
   "execution_count": 20,
   "metadata": {},
   "outputs": [],
   "source": [
    "Community_Boundaries = gpd.read_file('Calgary/Community_Boundaries.geojson')\n",
    "# Chaning the headers to title\n",
    "mylist = Community_Boundaries.columns.tolist()\n",
    "mylist = [x.title() for x in mylist]\n",
    "mylist = [x.replace('Geometry','geometry') for x in mylist]\n",
    "Community_Boundaries.columns = mylist\n",
    "del mylist"
   ]
  },
  {
   "cell_type": "code",
   "execution_count": 21,
   "metadata": {},
   "outputs": [
    {
     "data": {
      "text/html": [
       "<div>\n",
       "<style scoped>\n",
       "    .dataframe tbody tr th:only-of-type {\n",
       "        vertical-align: middle;\n",
       "    }\n",
       "\n",
       "    .dataframe tbody tr th {\n",
       "        vertical-align: top;\n",
       "    }\n",
       "\n",
       "    .dataframe thead th {\n",
       "        text-align: right;\n",
       "    }\n",
       "</style>\n",
       "<table border=\"1\" class=\"dataframe\">\n",
       "  <thead>\n",
       "    <tr style=\"text-align: right;\">\n",
       "      <th></th>\n",
       "      <th>Comm_Structure</th>\n",
       "      <th>Name</th>\n",
       "      <th>Sector</th>\n",
       "      <th>Class_Code</th>\n",
       "      <th>Srg</th>\n",
       "      <th>Class</th>\n",
       "      <th>Comm_Code</th>\n",
       "      <th>geometry</th>\n",
       "    </tr>\n",
       "  </thead>\n",
       "  <tbody>\n",
       "    <tr>\n",
       "      <th>0</th>\n",
       "      <td>INNER CITY</td>\n",
       "      <td>SUNALTA</td>\n",
       "      <td>CENTRE</td>\n",
       "      <td>1</td>\n",
       "      <td>BUILT-OUT</td>\n",
       "      <td>Residential</td>\n",
       "      <td>SNA</td>\n",
       "      <td>POLYGON ((-114.10061 51.04799, -114.10056 51.0...</td>\n",
       "    </tr>\n",
       "    <tr>\n",
       "      <th>1</th>\n",
       "      <td>BUILDING OUT</td>\n",
       "      <td>WEST SPRINGS</td>\n",
       "      <td>WEST</td>\n",
       "      <td>1</td>\n",
       "      <td>DEVELOPING</td>\n",
       "      <td>Residential</td>\n",
       "      <td>WSP</td>\n",
       "      <td>POLYGON ((-114.18781 51.06151, -114.18781 51.0...</td>\n",
       "    </tr>\n",
       "    <tr>\n",
       "      <th>2</th>\n",
       "      <td>OTHER</td>\n",
       "      <td>12A</td>\n",
       "      <td>SOUTHEAST</td>\n",
       "      <td>4</td>\n",
       "      <td>N/A</td>\n",
       "      <td>Residual Sub Area</td>\n",
       "      <td>12A</td>\n",
       "      <td>POLYGON ((-113.86945 50.97957, -113.86945 50.9...</td>\n",
       "    </tr>\n",
       "    <tr>\n",
       "      <th>3</th>\n",
       "      <td>1950s</td>\n",
       "      <td>WINDSOR PARK</td>\n",
       "      <td>CENTRE</td>\n",
       "      <td>1</td>\n",
       "      <td>BUILT-OUT</td>\n",
       "      <td>Residential</td>\n",
       "      <td>WND</td>\n",
       "      <td>POLYGON ((-114.08152 51.00872, -114.08137 51.0...</td>\n",
       "    </tr>\n",
       "  </tbody>\n",
       "</table>\n",
       "</div>"
      ],
      "text/plain": [
       "  Comm_Structure          Name     Sector Class_Code         Srg  \\\n",
       "0     INNER CITY       SUNALTA     CENTRE          1   BUILT-OUT   \n",
       "1   BUILDING OUT  WEST SPRINGS       WEST          1  DEVELOPING   \n",
       "2          OTHER           12A  SOUTHEAST          4         N/A   \n",
       "3          1950s  WINDSOR PARK     CENTRE          1   BUILT-OUT   \n",
       "\n",
       "               Class Comm_Code  \\\n",
       "0        Residential       SNA   \n",
       "1        Residential       WSP   \n",
       "2  Residual Sub Area       12A   \n",
       "3        Residential       WND   \n",
       "\n",
       "                                            geometry  \n",
       "0  POLYGON ((-114.10061 51.04799, -114.10056 51.0...  \n",
       "1  POLYGON ((-114.18781 51.06151, -114.18781 51.0...  \n",
       "2  POLYGON ((-113.86945 50.97957, -113.86945 50.9...  \n",
       "3  POLYGON ((-114.08152 51.00872, -114.08137 51.0...  "
      ]
     },
     "execution_count": 21,
     "metadata": {},
     "output_type": "execute_result"
    }
   ],
   "source": [
    "Community_Boundaries.head(4)"
   ]
  },
  {
   "cell_type": "markdown",
   "metadata": {},
   "source": [
    "### Processing the geojson file"
   ]
  },
  {
   "cell_type": "code",
   "execution_count": 22,
   "metadata": {},
   "outputs": [
    {
     "name": "stderr",
     "output_type": "stream",
     "text": [
      "|=========================================================================|100%\n"
     ]
    }
   ],
   "source": [
    "Temp = Community_Boundaries.drop(columns=['Name','geometry'])\n",
    "N = len(Temp.iloc[:,:-1].columns.tolist())\n",
    "Counter = 0\n",
    "Progress_Bar = progressbar.ProgressBar(maxval=N, widgets=[progressbar.Bar('=', '|', '|'), progressbar.Percentage()])\n",
    "Progress_Bar.start()\n",
    "for i in range(N):\n",
    "    Counter+=1\n",
    "    Progress_Bar.update(Counter)\n",
    "    Temp.iloc[:,i] = Temp.iloc[:,i].str.title()\n",
    "# End of the seraching process\n",
    "Progress_Bar.finish()"
   ]
  },
  {
   "cell_type": "code",
   "execution_count": 23,
   "metadata": {},
   "outputs": [],
   "source": [
    "mylist = Data.Comm_Code.unique().tolist()\n",
    "Temp = Temp[Temp.Comm_Code.isin(mylist)]\n",
    "Temp1 = pd.merge(Data, Temp, how ='inner', on ='Comm_Code')\n",
    "Data = Temp1.copy()\n",
    "del Temp, Temp1"
   ]
  },
  {
   "cell_type": "markdown",
   "metadata": {},
   "source": [
    "# Processed Data"
   ]
  },
  {
   "cell_type": "code",
   "execution_count": 24,
   "metadata": {},
   "outputs": [
    {
     "data": {
      "text/html": [
       "<div>\n",
       "<style scoped>\n",
       "    .dataframe tbody tr th:only-of-type {\n",
       "        vertical-align: middle;\n",
       "    }\n",
       "\n",
       "    .dataframe tbody tr th {\n",
       "        vertical-align: top;\n",
       "    }\n",
       "\n",
       "    .dataframe thead th {\n",
       "        text-align: right;\n",
       "    }\n",
       "</style>\n",
       "<table border=\"1\" class=\"dataframe\">\n",
       "  <thead>\n",
       "    <tr style=\"text-align: right;\">\n",
       "      <th></th>\n",
       "      <th>Roll_Year</th>\n",
       "      <th>Roll_Number</th>\n",
       "      <th>Address</th>\n",
       "      <th>Assessed_Value</th>\n",
       "      <th>Assessment_Class</th>\n",
       "      <th>Assessment_Class_Description</th>\n",
       "      <th>Re_Assessed_Value</th>\n",
       "      <th>Nr_Assessed_Value</th>\n",
       "      <th>Fl_Assessed_Value</th>\n",
       "      <th>Comm_Code</th>\n",
       "      <th>...</th>\n",
       "      <th>Latitude</th>\n",
       "      <th>Longitude</th>\n",
       "      <th>Location</th>\n",
       "      <th>Unique_Key</th>\n",
       "      <th>Year_Of_Construction</th>\n",
       "      <th>Comm_Structure</th>\n",
       "      <th>Sector</th>\n",
       "      <th>Class_Code</th>\n",
       "      <th>Srg</th>\n",
       "      <th>Class</th>\n",
       "    </tr>\n",
       "  </thead>\n",
       "  <tbody>\n",
       "    <tr>\n",
       "      <th>0</th>\n",
       "      <td>2019</td>\n",
       "      <td>200483568</td>\n",
       "      <td>326 DISCOVERY RIDGE WY SW</td>\n",
       "      <td>695000.0</td>\n",
       "      <td>RE</td>\n",
       "      <td>Residential</td>\n",
       "      <td>695000.0</td>\n",
       "      <td>NaN</td>\n",
       "      <td>NaN</td>\n",
       "      <td>DIS</td>\n",
       "      <td>...</td>\n",
       "      <td>51.020122</td>\n",
       "      <td>-114.221170</td>\n",
       "      <td>(51.0201223055886, -114.221169735847)</td>\n",
       "      <td>2019200483568</td>\n",
       "      <td>NaN</td>\n",
       "      <td>2000S</td>\n",
       "      <td>West</td>\n",
       "      <td>1</td>\n",
       "      <td>Built-Out</td>\n",
       "      <td>Residential</td>\n",
       "    </tr>\n",
       "    <tr>\n",
       "      <th>1</th>\n",
       "      <td>2019</td>\n",
       "      <td>200799187</td>\n",
       "      <td>524 10 DISCOVERY RIDGE CL SW</td>\n",
       "      <td>307500.0</td>\n",
       "      <td>RE</td>\n",
       "      <td>Residential</td>\n",
       "      <td>307500.0</td>\n",
       "      <td>NaN</td>\n",
       "      <td>NaN</td>\n",
       "      <td>DIS</td>\n",
       "      <td>...</td>\n",
       "      <td>51.012840</td>\n",
       "      <td>-114.214120</td>\n",
       "      <td>(51.0128402382281, -114.214119532073)</td>\n",
       "      <td>2019200799187</td>\n",
       "      <td>NaN</td>\n",
       "      <td>2000S</td>\n",
       "      <td>West</td>\n",
       "      <td>1</td>\n",
       "      <td>Built-Out</td>\n",
       "      <td>Residential</td>\n",
       "    </tr>\n",
       "    <tr>\n",
       "      <th>2</th>\n",
       "      <td>2019</td>\n",
       "      <td>200932663</td>\n",
       "      <td>707V 20 DISCOVERY RIDGE CL SW</td>\n",
       "      <td>22000.0</td>\n",
       "      <td>RE</td>\n",
       "      <td>Residential</td>\n",
       "      <td>22000.0</td>\n",
       "      <td>NaN</td>\n",
       "      <td>NaN</td>\n",
       "      <td>DIS</td>\n",
       "      <td>...</td>\n",
       "      <td>51.012063</td>\n",
       "      <td>-114.212059</td>\n",
       "      <td>(51.0120633983531, -114.212059076585)</td>\n",
       "      <td>2019200932663</td>\n",
       "      <td>NaN</td>\n",
       "      <td>2000S</td>\n",
       "      <td>West</td>\n",
       "      <td>1</td>\n",
       "      <td>Built-Out</td>\n",
       "      <td>Residential</td>\n",
       "    </tr>\n",
       "    <tr>\n",
       "      <th>3</th>\n",
       "      <td>2019</td>\n",
       "      <td>200483857</td>\n",
       "      <td>283 DISCOVERY RIDGE WY SW</td>\n",
       "      <td>825500.0</td>\n",
       "      <td>RE</td>\n",
       "      <td>Residential</td>\n",
       "      <td>825500.0</td>\n",
       "      <td>NaN</td>\n",
       "      <td>NaN</td>\n",
       "      <td>DIS</td>\n",
       "      <td>...</td>\n",
       "      <td>51.019459</td>\n",
       "      <td>-114.219202</td>\n",
       "      <td>(51.0194594801033, -114.219201892146)</td>\n",
       "      <td>2019200483857</td>\n",
       "      <td>NaN</td>\n",
       "      <td>2000S</td>\n",
       "      <td>West</td>\n",
       "      <td>1</td>\n",
       "      <td>Built-Out</td>\n",
       "      <td>Residential</td>\n",
       "    </tr>\n",
       "    <tr>\n",
       "      <th>4</th>\n",
       "      <td>2019</td>\n",
       "      <td>201017654</td>\n",
       "      <td>883V 30 DISCOVERY RIDGE CL SW</td>\n",
       "      <td>22000.0</td>\n",
       "      <td>RE</td>\n",
       "      <td>Residential</td>\n",
       "      <td>22000.0</td>\n",
       "      <td>NaN</td>\n",
       "      <td>NaN</td>\n",
       "      <td>DIS</td>\n",
       "      <td>...</td>\n",
       "      <td>51.012957</td>\n",
       "      <td>-114.213223</td>\n",
       "      <td>(51.0129565521349, -114.213223227739)</td>\n",
       "      <td>2019201017654</td>\n",
       "      <td>NaN</td>\n",
       "      <td>2000S</td>\n",
       "      <td>West</td>\n",
       "      <td>1</td>\n",
       "      <td>Built-Out</td>\n",
       "      <td>Residential</td>\n",
       "    </tr>\n",
       "  </tbody>\n",
       "</table>\n",
       "<p>5 rows × 21 columns</p>\n",
       "</div>"
      ],
      "text/plain": [
       "   Roll_Year  Roll_Number                        Address  Assessed_Value  \\\n",
       "0       2019    200483568      326 DISCOVERY RIDGE WY SW        695000.0   \n",
       "1       2019    200799187   524 10 DISCOVERY RIDGE CL SW        307500.0   \n",
       "2       2019    200932663  707V 20 DISCOVERY RIDGE CL SW         22000.0   \n",
       "3       2019    200483857      283 DISCOVERY RIDGE WY SW        825500.0   \n",
       "4       2019    201017654  883V 30 DISCOVERY RIDGE CL SW         22000.0   \n",
       "\n",
       "  Assessment_Class Assessment_Class_Description  Re_Assessed_Value  \\\n",
       "0               RE                  Residential           695000.0   \n",
       "1               RE                  Residential           307500.0   \n",
       "2               RE                  Residential            22000.0   \n",
       "3               RE                  Residential           825500.0   \n",
       "4               RE                  Residential            22000.0   \n",
       "\n",
       "   Nr_Assessed_Value  Fl_Assessed_Value Comm_Code  ...   Latitude   Longitude  \\\n",
       "0                NaN                NaN       DIS  ...  51.020122 -114.221170   \n",
       "1                NaN                NaN       DIS  ...  51.012840 -114.214120   \n",
       "2                NaN                NaN       DIS  ...  51.012063 -114.212059   \n",
       "3                NaN                NaN       DIS  ...  51.019459 -114.219202   \n",
       "4                NaN                NaN       DIS  ...  51.012957 -114.213223   \n",
       "\n",
       "                                Location     Unique_Key  Year_Of_Construction  \\\n",
       "0  (51.0201223055886, -114.221169735847)  2019200483568                   NaN   \n",
       "1  (51.0128402382281, -114.214119532073)  2019200799187                   NaN   \n",
       "2  (51.0120633983531, -114.212059076585)  2019200932663                   NaN   \n",
       "3  (51.0194594801033, -114.219201892146)  2019200483857                   NaN   \n",
       "4  (51.0129565521349, -114.213223227739)  2019201017654                   NaN   \n",
       "\n",
       "   Comm_Structure Sector Class_Code        Srg        Class  \n",
       "0           2000S   West          1  Built-Out  Residential  \n",
       "1           2000S   West          1  Built-Out  Residential  \n",
       "2           2000S   West          1  Built-Out  Residential  \n",
       "3           2000S   West          1  Built-Out  Residential  \n",
       "4           2000S   West          1  Built-Out  Residential  \n",
       "\n",
       "[5 rows x 21 columns]"
      ]
     },
     "execution_count": 24,
     "metadata": {},
     "output_type": "execute_result"
    }
   ],
   "source": [
    "Data.head()"
   ]
  },
  {
   "cell_type": "code",
   "execution_count": 26,
   "metadata": {},
   "outputs": [
    {
     "data": {
      "text/html": [
       "<div>\n",
       "<style scoped>\n",
       "    .dataframe tbody tr th:only-of-type {\n",
       "        vertical-align: middle;\n",
       "    }\n",
       "\n",
       "    .dataframe tbody tr th {\n",
       "        vertical-align: top;\n",
       "    }\n",
       "\n",
       "    .dataframe thead th {\n",
       "        text-align: right;\n",
       "    }\n",
       "</style>\n",
       "<table border=\"1\" class=\"dataframe\">\n",
       "  <thead>\n",
       "    <tr style=\"text-align: right;\">\n",
       "      <th></th>\n",
       "      <th>Data Type</th>\n",
       "      <th>Number of NaN Values</th>\n",
       "      <th>Percentage</th>\n",
       "    </tr>\n",
       "  </thead>\n",
       "  <tbody>\n",
       "    <tr>\n",
       "      <th>Address</th>\n",
       "      <td>object</td>\n",
       "      <td>186</td>\n",
       "      <td>0.00</td>\n",
       "    </tr>\n",
       "    <tr>\n",
       "      <th>Comm_Structure</th>\n",
       "      <td>object</td>\n",
       "      <td>115945</td>\n",
       "      <td>1.59</td>\n",
       "    </tr>\n",
       "    <tr>\n",
       "      <th>Fl_Assessed_Value</th>\n",
       "      <td>float64</td>\n",
       "      <td>7285658</td>\n",
       "      <td>99.89</td>\n",
       "    </tr>\n",
       "    <tr>\n",
       "      <th>Location</th>\n",
       "      <td>object</td>\n",
       "      <td>31367</td>\n",
       "      <td>0.43</td>\n",
       "    </tr>\n",
       "    <tr>\n",
       "      <th>Nr_Assessed_Value</th>\n",
       "      <td>float64</td>\n",
       "      <td>6953543</td>\n",
       "      <td>95.34</td>\n",
       "    </tr>\n",
       "    <tr>\n",
       "      <th>Re_Assessed_Value</th>\n",
       "      <td>float64</td>\n",
       "      <td>338018</td>\n",
       "      <td>4.63</td>\n",
       "    </tr>\n",
       "    <tr>\n",
       "      <th>Year_Of_Construction</th>\n",
       "      <td>float64</td>\n",
       "      <td>6772800</td>\n",
       "      <td>92.86</td>\n",
       "    </tr>\n",
       "  </tbody>\n",
       "</table>\n",
       "</div>"
      ],
      "text/plain": [
       "                     Data Type  Number of NaN Values  Percentage\n",
       "Address                 object                   186        0.00\n",
       "Comm_Structure          object                115945        1.59\n",
       "Fl_Assessed_Value      float64               7285658       99.89\n",
       "Location                object                 31367        0.43\n",
       "Nr_Assessed_Value      float64               6953543       95.34\n",
       "Re_Assessed_Value      float64                338018        4.63\n",
       "Year_Of_Construction   float64               6772800       92.86"
      ]
     },
     "execution_count": 26,
     "metadata": {},
     "output_type": "execute_result"
    }
   ],
   "source": [
    "Data_info(Data, True)"
   ]
  },
  {
   "cell_type": "markdown",
   "metadata": {},
   "source": [
    "### Saving"
   ]
  },
  {
   "cell_type": "code",
   "execution_count": 27,
   "metadata": {},
   "outputs": [],
   "source": [
    "Data.to_csv('Calgary/Property_Assessments_Clean.csv',index=False)"
   ]
  },
  {
   "cell_type": "markdown",
   "metadata": {},
   "source": [
    "***"
   ]
  }
 ],
 "metadata": {
  "kernelspec": {
   "display_name": "Python 3",
   "language": "python",
   "name": "python3"
  },
  "language_info": {
   "codemirror_mode": {
    "name": "ipython",
    "version": 3
   },
   "file_extension": ".py",
   "mimetype": "text/x-python",
   "name": "python",
   "nbconvert_exporter": "python",
   "pygments_lexer": "ipython3",
   "version": "3.7.7"
  }
 },
 "nbformat": 4,
 "nbformat_minor": 2
}
