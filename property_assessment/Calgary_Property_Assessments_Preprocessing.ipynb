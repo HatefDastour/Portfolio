{
 "cells": [
  {
   "cell_type": "code",
   "execution_count": 1,
   "metadata": {},
   "outputs": [],
   "source": [
    "# Required packages\n",
    "import pandas as pd\n",
    "import numpy as np\n",
    "import geopandas as gpd\n",
    "\n",
    "# Copy\n",
    "import copy \n",
    "\n",
    "# Imputing Data\n",
    "from sklearn.impute import SimpleImputer\n",
    "\n",
    "# Progress Bar\n",
    "from IPython.core.display import Image, display\n",
    "import progressbar\n",
    "\n",
    "# Plots\n",
    "import seaborn as sns\n",
    "import matplotlib.pyplot as plt\n",
    "\n",
    "plt.style.use('ggplot')\n",
    "plt.rcParams['axes.labelsize'] = 14\n",
    "plt.rcParams['xtick.labelsize'] = 12\n",
    "plt.rcParams['ytick.labelsize'] = 12\n",
    "plt.rcParams['text.color'] = 'k'\n",
    "%matplotlib inline\n",
    "import warnings\n",
    "warnings.filterwarnings(\"ignore\")"
   ]
  },
  {
   "cell_type": "markdown",
   "metadata": {},
   "source": [
    "# Calgary Property Assessments\n",
    "\n",
    "\n",
    "The assessed values of residential, non-residential and farm land properties in Calgary. The properties in this dataset consist of Calgary lands that have a registered parcel at Alberta’s Land Titles Office. Properties that are on The City of Calgary’s annual property assessment rolls, but excluded from this dataset, are titled parking stalls, titled storage units, machinery & equipment property, and linear property (as defined in the Municipal Government Act). This dataset can be downloaded from [here](https://data.calgary.ca/dataset/Property-Assessments/6zp6-pxei).\n",
    "\n",
    "For detailed property assessment information, visit https://assessmentsearch.calgary.ca"
   ]
  },
  {
   "cell_type": "code",
   "execution_count": 2,
   "metadata": {},
   "outputs": [],
   "source": [
    "Data = pd.read_csv('Calgary/Property_Assessments.csv')"
   ]
  },
  {
   "cell_type": "markdown",
   "metadata": {},
   "source": [
    "#### Table of contents\n",
    "\n",
    "* [Preprocessing](#Preprocessing)\n",
    "    * [Assessed Value Column](#Assessed-Value-Column)\n",
    "    * [Community Code and Community Name Columns](#Community-Code-and-Community-Name-Columns)\n",
    "    * [Latitude, Longitude and Location Columns](#Latitude,-Longitude-and-Location-Columns)\n",
    "    * [Changing the Dataframe Column Names to Title Case](#Changing-the-Dataframe-Column-Names-to-Title-Case)\n",
    "    * [Adding More Details](#Adding-More-Details)\n",
    "        * [Loading a geojson file](#Loading-a-geojson-file)\n",
    "        * [Processing the geojson file](#Processing-the-geojson-file)\n",
    "* [Processed Data](#Processed-Data)"
   ]
  },
  {
   "cell_type": "markdown",
   "metadata": {},
   "source": [
    "# Preprocessing"
   ]
  },
  {
   "cell_type": "markdown",
   "metadata": {},
   "source": [
    "The list of columns:"
   ]
  },
  {
   "cell_type": "code",
   "execution_count": 3,
   "metadata": {},
   "outputs": [
    {
     "name": "stdout",
     "output_type": "stream",
     "text": [
      "['ROLL_YEAR', 'ROLL_NUMBER', 'ADDRESS', 'ASSESSED_VALUE', 'ASSESSMENT_CLASS', 'ASSESSMENT_CLASS_DESCRIPTION', 'RE_ASSESSED_VALUE', 'NR_ASSESSED_VALUE', 'FL_ASSESSED_VALUE', 'COMM_CODE', 'COMM_NAME', 'LATITUDE', 'LONGITUDE', 'location', 'UNIQUE_KEY']\n"
     ]
    }
   ],
   "source": [
    "Columns_list = Data.columns.tolist()\n",
    "print(Columns_list)"
   ]
  },
  {
   "cell_type": "code",
   "execution_count": 4,
   "metadata": {},
   "outputs": [
    {
     "data": {
      "text/html": [
       "<div>\n",
       "<style scoped>\n",
       "    .dataframe tbody tr th:only-of-type {\n",
       "        vertical-align: middle;\n",
       "    }\n",
       "\n",
       "    .dataframe tbody tr th {\n",
       "        vertical-align: top;\n",
       "    }\n",
       "\n",
       "    .dataframe thead th {\n",
       "        text-align: right;\n",
       "    }\n",
       "</style>\n",
       "<table border=\"1\" class=\"dataframe\">\n",
       "  <thead>\n",
       "    <tr style=\"text-align: right;\">\n",
       "      <th></th>\n",
       "      <th>Number of NaN Values</th>\n",
       "    </tr>\n",
       "  </thead>\n",
       "  <tbody>\n",
       "    <tr>\n",
       "      <th>ROLL_YEAR</th>\n",
       "      <td>0</td>\n",
       "    </tr>\n",
       "    <tr>\n",
       "      <th>ROLL_NUMBER</th>\n",
       "      <td>0</td>\n",
       "    </tr>\n",
       "    <tr>\n",
       "      <th>ADDRESS</th>\n",
       "      <td>186</td>\n",
       "    </tr>\n",
       "    <tr>\n",
       "      <th>ASSESSED_VALUE</th>\n",
       "      <td>1855</td>\n",
       "    </tr>\n",
       "    <tr>\n",
       "      <th>ASSESSMENT_CLASS</th>\n",
       "      <td>0</td>\n",
       "    </tr>\n",
       "    <tr>\n",
       "      <th>ASSESSMENT_CLASS_DESCRIPTION</th>\n",
       "      <td>0</td>\n",
       "    </tr>\n",
       "    <tr>\n",
       "      <th>RE_ASSESSED_VALUE</th>\n",
       "      <td>320420</td>\n",
       "    </tr>\n",
       "    <tr>\n",
       "      <th>NR_ASSESSED_VALUE</th>\n",
       "      <td>6448017</td>\n",
       "    </tr>\n",
       "    <tr>\n",
       "      <th>FL_ASSESSED_VALUE</th>\n",
       "      <td>6756853</td>\n",
       "    </tr>\n",
       "    <tr>\n",
       "      <th>COMM_CODE</th>\n",
       "      <td>2</td>\n",
       "    </tr>\n",
       "    <tr>\n",
       "      <th>COMM_NAME</th>\n",
       "      <td>71</td>\n",
       "    </tr>\n",
       "    <tr>\n",
       "      <th>LATITUDE</th>\n",
       "      <td>22279</td>\n",
       "    </tr>\n",
       "    <tr>\n",
       "      <th>LONGITUDE</th>\n",
       "      <td>22279</td>\n",
       "    </tr>\n",
       "    <tr>\n",
       "      <th>location</th>\n",
       "      <td>22279</td>\n",
       "    </tr>\n",
       "    <tr>\n",
       "      <th>UNIQUE_KEY</th>\n",
       "      <td>0</td>\n",
       "    </tr>\n",
       "  </tbody>\n",
       "</table>\n",
       "</div>"
      ],
      "text/plain": [
       "                              Number of NaN Values\n",
       "ROLL_YEAR                                        0\n",
       "ROLL_NUMBER                                      0\n",
       "ADDRESS                                        186\n",
       "ASSESSED_VALUE                                1855\n",
       "ASSESSMENT_CLASS                                 0\n",
       "ASSESSMENT_CLASS_DESCRIPTION                     0\n",
       "RE_ASSESSED_VALUE                           320420\n",
       "NR_ASSESSED_VALUE                          6448017\n",
       "FL_ASSESSED_VALUE                          6756853\n",
       "COMM_CODE                                        2\n",
       "COMM_NAME                                       71\n",
       "LATITUDE                                     22279\n",
       "LONGITUDE                                    22279\n",
       "location                                     22279\n",
       "UNIQUE_KEY                                       0"
      ]
     },
     "execution_count": 4,
     "metadata": {},
     "output_type": "execute_result"
    }
   ],
   "source": [
    "pd.DataFrame(Data.isnull().sum(),columns=['Number of NaN Values'])"
   ]
  },
  {
   "cell_type": "markdown",
   "metadata": {},
   "source": [
    "As can be see, there are a consider number of **NaN** values that we need to deal with them before starting this study."
   ]
  },
  {
   "cell_type": "markdown",
   "metadata": {},
   "source": [
    "## Assessed Value Column"
   ]
  },
  {
   "cell_type": "code",
   "execution_count": 5,
   "metadata": {},
   "outputs": [],
   "source": [
    "def Search_Columns(Inp):\n",
    "    ''' Search for specific value (Inp) in the column list '''\n",
    "    mylist=list()\n",
    "    for i in range(len(Columns_list)):\n",
    "        if Columns_list[i].find(Inp) != -1:\n",
    "            mylist.append(Columns_list[i])\n",
    "    return mylist"
   ]
  },
  {
   "cell_type": "markdown",
   "metadata": {},
   "source": [
    "First off, let's create a DataFrame from rows that **Assessed Value** is **NaN**."
   ]
  },
  {
   "cell_type": "code",
   "execution_count": 6,
   "metadata": {},
   "outputs": [
    {
     "data": {
      "text/html": [
       "<div>\n",
       "<style scoped>\n",
       "    .dataframe tbody tr th:only-of-type {\n",
       "        vertical-align: middle;\n",
       "    }\n",
       "\n",
       "    .dataframe tbody tr th {\n",
       "        vertical-align: top;\n",
       "    }\n",
       "\n",
       "    .dataframe thead th {\n",
       "        text-align: right;\n",
       "    }\n",
       "</style>\n",
       "<table border=\"1\" class=\"dataframe\">\n",
       "  <thead>\n",
       "    <tr style=\"text-align: right;\">\n",
       "      <th></th>\n",
       "      <th>ASSESSED_VALUE</th>\n",
       "      <th>RE_ASSESSED_VALUE</th>\n",
       "      <th>NR_ASSESSED_VALUE</th>\n",
       "      <th>FL_ASSESSED_VALUE</th>\n",
       "    </tr>\n",
       "  </thead>\n",
       "  <tbody>\n",
       "    <tr>\n",
       "      <th>517671</th>\n",
       "      <td>NaN</td>\n",
       "      <td>NaN</td>\n",
       "      <td>NaN</td>\n",
       "      <td>NaN</td>\n",
       "    </tr>\n",
       "    <tr>\n",
       "      <th>528056</th>\n",
       "      <td>NaN</td>\n",
       "      <td>NaN</td>\n",
       "      <td>NaN</td>\n",
       "      <td>NaN</td>\n",
       "    </tr>\n",
       "    <tr>\n",
       "      <th>528060</th>\n",
       "      <td>NaN</td>\n",
       "      <td>NaN</td>\n",
       "      <td>NaN</td>\n",
       "      <td>NaN</td>\n",
       "    </tr>\n",
       "    <tr>\n",
       "      <th>528061</th>\n",
       "      <td>NaN</td>\n",
       "      <td>NaN</td>\n",
       "      <td>NaN</td>\n",
       "      <td>NaN</td>\n",
       "    </tr>\n",
       "    <tr>\n",
       "      <th>528062</th>\n",
       "      <td>NaN</td>\n",
       "      <td>NaN</td>\n",
       "      <td>NaN</td>\n",
       "      <td>NaN</td>\n",
       "    </tr>\n",
       "  </tbody>\n",
       "</table>\n",
       "</div>"
      ],
      "text/plain": [
       "        ASSESSED_VALUE  RE_ASSESSED_VALUE  NR_ASSESSED_VALUE  \\\n",
       "517671             NaN                NaN                NaN   \n",
       "528056             NaN                NaN                NaN   \n",
       "528060             NaN                NaN                NaN   \n",
       "528061             NaN                NaN                NaN   \n",
       "528062             NaN                NaN                NaN   \n",
       "\n",
       "        FL_ASSESSED_VALUE  \n",
       "517671                NaN  \n",
       "528056                NaN  \n",
       "528060                NaN  \n",
       "528061                NaN  \n",
       "528062                NaN  "
      ]
     },
     "execution_count": 6,
     "metadata": {},
     "output_type": "execute_result"
    }
   ],
   "source": [
    "mylist = Search_Columns('VALUE')\n",
    "Null = Data[Data.ASSESSED_VALUE.isna()][mylist]\n",
    "Null.head()"
   ]
  },
  {
   "cell_type": "markdown",
   "metadata": {},
   "source": [
    "We would like to check whether there is a row that one of the last three columns has a non-NaN value."
   ]
  },
  {
   "cell_type": "code",
   "execution_count": 7,
   "metadata": {},
   "outputs": [
    {
     "data": {
      "text/html": [
       "<div>\n",
       "<style scoped>\n",
       "    .dataframe tbody tr th:only-of-type {\n",
       "        vertical-align: middle;\n",
       "    }\n",
       "\n",
       "    .dataframe tbody tr th {\n",
       "        vertical-align: top;\n",
       "    }\n",
       "\n",
       "    .dataframe thead th {\n",
       "        text-align: right;\n",
       "    }\n",
       "</style>\n",
       "<table border=\"1\" class=\"dataframe\">\n",
       "  <thead>\n",
       "    <tr style=\"text-align: right;\">\n",
       "      <th></th>\n",
       "      <th>ASSESSED_VALUE</th>\n",
       "      <th>RE_ASSESSED_VALUE</th>\n",
       "      <th>NR_ASSESSED_VALUE</th>\n",
       "      <th>FL_ASSESSED_VALUE</th>\n",
       "    </tr>\n",
       "  </thead>\n",
       "  <tbody>\n",
       "  </tbody>\n",
       "</table>\n",
       "</div>"
      ],
      "text/plain": [
       "Empty DataFrame\n",
       "Columns: [ASSESSED_VALUE, RE_ASSESSED_VALUE, NR_ASSESSED_VALUE, FL_ASSESSED_VALUE]\n",
       "Index: []"
      ]
     },
     "execution_count": 7,
     "metadata": {},
     "output_type": "execute_result"
    }
   ],
   "source": [
    "Null[Null.iloc[:, 1:].notnull().all(axis=1)]"
   ]
  },
  {
   "cell_type": "markdown",
   "metadata": {},
   "source": [
    "There is no such row, and we drop all of these rows."
   ]
  },
  {
   "cell_type": "code",
   "execution_count": 8,
   "metadata": {},
   "outputs": [],
   "source": [
    "Data.dropna(subset=['ASSESSED_VALUE'], how='all', inplace=True)"
   ]
  },
  {
   "cell_type": "markdown",
   "metadata": {},
   "source": [
    "## Community Code and Community Name Columns"
   ]
  },
  {
   "cell_type": "markdown",
   "metadata": {},
   "source": [
    "First off,"
   ]
  },
  {
   "cell_type": "code",
   "execution_count": 9,
   "metadata": {
    "scrolled": true
   },
   "outputs": [
    {
     "data": {
      "text/html": [
       "<div>\n",
       "<style scoped>\n",
       "    .dataframe tbody tr th:only-of-type {\n",
       "        vertical-align: middle;\n",
       "    }\n",
       "\n",
       "    .dataframe tbody tr th {\n",
       "        vertical-align: top;\n",
       "    }\n",
       "\n",
       "    .dataframe thead th {\n",
       "        text-align: right;\n",
       "    }\n",
       "</style>\n",
       "<table border=\"1\" class=\"dataframe\">\n",
       "  <thead>\n",
       "    <tr style=\"text-align: right;\">\n",
       "      <th></th>\n",
       "      <th>COMM_CODE</th>\n",
       "      <th>COMM_NAME</th>\n",
       "    </tr>\n",
       "  </thead>\n",
       "  <tbody>\n",
       "    <tr>\n",
       "      <th>1537788</th>\n",
       "      <td>12E</td>\n",
       "      <td>NaN</td>\n",
       "    </tr>\n",
       "    <tr>\n",
       "      <th>1538036</th>\n",
       "      <td>12E</td>\n",
       "      <td>NaN</td>\n",
       "    </tr>\n",
       "    <tr>\n",
       "      <th>1538125</th>\n",
       "      <td>12E</td>\n",
       "      <td>NaN</td>\n",
       "    </tr>\n",
       "    <tr>\n",
       "      <th>1538263</th>\n",
       "      <td>12E</td>\n",
       "      <td>NaN</td>\n",
       "    </tr>\n",
       "    <tr>\n",
       "      <th>1538386</th>\n",
       "      <td>12E</td>\n",
       "      <td>NaN</td>\n",
       "    </tr>\n",
       "    <tr>\n",
       "      <th>...</th>\n",
       "      <td>...</td>\n",
       "      <td>...</td>\n",
       "    </tr>\n",
       "    <tr>\n",
       "      <th>5785191</th>\n",
       "      <td>06B</td>\n",
       "      <td>NaN</td>\n",
       "    </tr>\n",
       "    <tr>\n",
       "      <th>6113118</th>\n",
       "      <td>14U</td>\n",
       "      <td>NaN</td>\n",
       "    </tr>\n",
       "    <tr>\n",
       "      <th>6114267</th>\n",
       "      <td>14U</td>\n",
       "      <td>NaN</td>\n",
       "    </tr>\n",
       "    <tr>\n",
       "      <th>6121987</th>\n",
       "      <td>06B</td>\n",
       "      <td>NaN</td>\n",
       "    </tr>\n",
       "    <tr>\n",
       "      <th>6131851</th>\n",
       "      <td>14U</td>\n",
       "      <td>NaN</td>\n",
       "    </tr>\n",
       "  </tbody>\n",
       "</table>\n",
       "<p>71 rows × 2 columns</p>\n",
       "</div>"
      ],
      "text/plain": [
       "        COMM_CODE COMM_NAME\n",
       "1537788       12E       NaN\n",
       "1538036       12E       NaN\n",
       "1538125       12E       NaN\n",
       "1538263       12E       NaN\n",
       "1538386       12E       NaN\n",
       "...           ...       ...\n",
       "5785191       06B       NaN\n",
       "6113118       14U       NaN\n",
       "6114267       14U       NaN\n",
       "6121987       06B       NaN\n",
       "6131851       14U       NaN\n",
       "\n",
       "[71 rows x 2 columns]"
      ]
     },
     "execution_count": 9,
     "metadata": {},
     "output_type": "execute_result"
    }
   ],
   "source": [
    "mylist = Search_Columns('COMM')\n",
    "mylist1 = np.where(Data['COMM_NAME'].isna())[0].tolist()\n",
    "Data.iloc[mylist1,:][mylist]"
   ]
  },
  {
   "cell_type": "markdown",
   "metadata": {},
   "source": [
    "We can use the information on Community Name Column and fill Community Code column."
   ]
  },
  {
   "cell_type": "code",
   "execution_count": 10,
   "metadata": {
    "scrolled": true
   },
   "outputs": [
    {
     "data": {
      "text/html": [
       "<div>\n",
       "<style scoped>\n",
       "    .dataframe tbody tr th:only-of-type {\n",
       "        vertical-align: middle;\n",
       "    }\n",
       "\n",
       "    .dataframe tbody tr th {\n",
       "        vertical-align: top;\n",
       "    }\n",
       "\n",
       "    .dataframe thead th {\n",
       "        text-align: right;\n",
       "    }\n",
       "</style>\n",
       "<table border=\"1\" class=\"dataframe\">\n",
       "  <thead>\n",
       "    <tr style=\"text-align: right;\">\n",
       "      <th></th>\n",
       "      <th>COMM_CODE</th>\n",
       "      <th>COMM_NAME</th>\n",
       "    </tr>\n",
       "  </thead>\n",
       "  <tbody>\n",
       "    <tr>\n",
       "      <th>0</th>\n",
       "      <td>CIA</td>\n",
       "      <td>CALGARY INTERNATIONAL AIRPORT</td>\n",
       "    </tr>\n",
       "    <tr>\n",
       "      <th>1</th>\n",
       "      <td>SRI</td>\n",
       "      <td>SADDLE RIDGE INDUSTRIAL</td>\n",
       "    </tr>\n",
       "    <tr>\n",
       "      <th>2</th>\n",
       "      <td>SAD</td>\n",
       "      <td>SADDLE RIDGE</td>\n",
       "    </tr>\n",
       "    <tr>\n",
       "      <th>3</th>\n",
       "      <td>WSP</td>\n",
       "      <td>WEST SPRINGS</td>\n",
       "    </tr>\n",
       "    <tr>\n",
       "      <th>4</th>\n",
       "      <td>MRT</td>\n",
       "      <td>MARTINDALE</td>\n",
       "    </tr>\n",
       "  </tbody>\n",
       "</table>\n",
       "</div>"
      ],
      "text/plain": [
       "  COMM_CODE                      COMM_NAME\n",
       "0       CIA  CALGARY INTERNATIONAL AIRPORT\n",
       "1       SRI        SADDLE RIDGE INDUSTRIAL\n",
       "2       SAD                   SADDLE RIDGE\n",
       "3       WSP                   WEST SPRINGS\n",
       "4       MRT                     MARTINDALE"
      ]
     },
     "execution_count": 10,
     "metadata": {},
     "output_type": "execute_result"
    }
   ],
   "source": [
    "Temp = Data.copy()\n",
    "Temp = Temp[Temp.COMM_CODE.notna()]\n",
    "Temp = Temp.drop_duplicates('COMM_CODE')\n",
    "Temp = Temp[mylist].reset_index(drop=True)\n",
    "Temp.head()"
   ]
  },
  {
   "cell_type": "markdown",
   "metadata": {},
   "source": [
    "Now, we can this for completing **COMM_NAME** column"
   ]
  },
  {
   "cell_type": "code",
   "execution_count": 11,
   "metadata": {},
   "outputs": [
    {
     "name": "stderr",
     "output_type": "stream",
     "text": [
      "|=========================================================================|100%"
     ]
    }
   ],
   "source": [
    "Counter = 0\n",
    "Progress_Bar = progressbar.ProgressBar(maxval=len(mylist1), widgets=[progressbar.Bar('=', '|', '|'),\n",
    "                                                                    progressbar.Percentage()])\n",
    "Progress_Bar.start()\n",
    "for i in mylist1:\n",
    "    Counter+=1\n",
    "    Progress_Bar.update(Counter)\n",
    "    for j in range(len(Temp)):\n",
    "        if Data.iloc[i,9]==Temp.iloc[j,0]:\n",
    "            Data.iloc[i,10]=Temp.iloc[j,1]"
   ]
  },
  {
   "cell_type": "markdown",
   "metadata": {},
   "source": [
    "Now"
   ]
  },
  {
   "cell_type": "code",
   "execution_count": 12,
   "metadata": {},
   "outputs": [
    {
     "data": {
      "text/html": [
       "<div>\n",
       "<style scoped>\n",
       "    .dataframe tbody tr th:only-of-type {\n",
       "        vertical-align: middle;\n",
       "    }\n",
       "\n",
       "    .dataframe tbody tr th {\n",
       "        vertical-align: top;\n",
       "    }\n",
       "\n",
       "    .dataframe thead th {\n",
       "        text-align: right;\n",
       "    }\n",
       "</style>\n",
       "<table border=\"1\" class=\"dataframe\">\n",
       "  <thead>\n",
       "    <tr style=\"text-align: right;\">\n",
       "      <th></th>\n",
       "      <th>COMM_CODE</th>\n",
       "      <th>COMM_NAME</th>\n",
       "    </tr>\n",
       "  </thead>\n",
       "  <tbody>\n",
       "    <tr>\n",
       "      <th>1537788</th>\n",
       "      <td>12E</td>\n",
       "      <td>12E</td>\n",
       "    </tr>\n",
       "    <tr>\n",
       "      <th>1538036</th>\n",
       "      <td>12E</td>\n",
       "      <td>12E</td>\n",
       "    </tr>\n",
       "    <tr>\n",
       "      <th>1538125</th>\n",
       "      <td>12E</td>\n",
       "      <td>12E</td>\n",
       "    </tr>\n",
       "    <tr>\n",
       "      <th>1538263</th>\n",
       "      <td>12E</td>\n",
       "      <td>12E</td>\n",
       "    </tr>\n",
       "    <tr>\n",
       "      <th>1538386</th>\n",
       "      <td>12E</td>\n",
       "      <td>12E</td>\n",
       "    </tr>\n",
       "  </tbody>\n",
       "</table>\n",
       "</div>"
      ],
      "text/plain": [
       "        COMM_CODE COMM_NAME\n",
       "1537788       12E       12E\n",
       "1538036       12E       12E\n",
       "1538125       12E       12E\n",
       "1538263       12E       12E\n",
       "1538386       12E       12E"
      ]
     },
     "execution_count": 12,
     "metadata": {},
     "output_type": "execute_result"
    }
   ],
   "source": [
    "Data.iloc[mylist1,:][mylist].head()"
   ]
  },
  {
   "cell_type": "markdown",
   "metadata": {},
   "source": [
    "However,"
   ]
  },
  {
   "cell_type": "code",
   "execution_count": 13,
   "metadata": {},
   "outputs": [
    {
     "data": {
      "text/html": [
       "<div>\n",
       "<style scoped>\n",
       "    .dataframe tbody tr th:only-of-type {\n",
       "        vertical-align: middle;\n",
       "    }\n",
       "\n",
       "    .dataframe tbody tr th {\n",
       "        vertical-align: top;\n",
       "    }\n",
       "\n",
       "    .dataframe thead th {\n",
       "        text-align: right;\n",
       "    }\n",
       "</style>\n",
       "<table border=\"1\" class=\"dataframe\">\n",
       "  <thead>\n",
       "    <tr style=\"text-align: right;\">\n",
       "      <th></th>\n",
       "      <th>COMM_CODE</th>\n",
       "      <th>COMM_NAME</th>\n",
       "    </tr>\n",
       "  </thead>\n",
       "  <tbody>\n",
       "    <tr>\n",
       "      <th>4327764</th>\n",
       "      <td>NaN</td>\n",
       "      <td>NaN</td>\n",
       "    </tr>\n",
       "    <tr>\n",
       "      <th>4724088</th>\n",
       "      <td>NaN</td>\n",
       "      <td>NaN</td>\n",
       "    </tr>\n",
       "  </tbody>\n",
       "</table>\n",
       "</div>"
      ],
      "text/plain": [
       "        COMM_CODE COMM_NAME\n",
       "4327764       NaN       NaN\n",
       "4724088       NaN       NaN"
      ]
     },
     "execution_count": 13,
     "metadata": {},
     "output_type": "execute_result"
    }
   ],
   "source": [
    "mylist = Search_Columns('COMM')\n",
    "mylist1 = np.where(Data['COMM_NAME'].isna())[0].tolist()\n",
    "Temp = Data.iloc[mylist1,:]['LATITUDE'].tolist()\n",
    "Data.iloc[mylist1,:][mylist]"
   ]
  },
  {
   "cell_type": "markdown",
   "metadata": {},
   "source": [
    "and we label these rows as Others"
   ]
  },
  {
   "cell_type": "code",
   "execution_count": 14,
   "metadata": {},
   "outputs": [
    {
     "data": {
      "text/html": [
       "<div>\n",
       "<style scoped>\n",
       "    .dataframe tbody tr th:only-of-type {\n",
       "        vertical-align: middle;\n",
       "    }\n",
       "\n",
       "    .dataframe tbody tr th {\n",
       "        vertical-align: top;\n",
       "    }\n",
       "\n",
       "    .dataframe thead th {\n",
       "        text-align: right;\n",
       "    }\n",
       "</style>\n",
       "<table border=\"1\" class=\"dataframe\">\n",
       "  <thead>\n",
       "    <tr style=\"text-align: right;\">\n",
       "      <th></th>\n",
       "      <th>COMM_CODE</th>\n",
       "      <th>COMM_NAME</th>\n",
       "    </tr>\n",
       "  </thead>\n",
       "  <tbody>\n",
       "    <tr>\n",
       "      <th>4327764</th>\n",
       "      <td>Other</td>\n",
       "      <td>Other</td>\n",
       "    </tr>\n",
       "    <tr>\n",
       "      <th>4724088</th>\n",
       "      <td>Other</td>\n",
       "      <td>Other</td>\n",
       "    </tr>\n",
       "  </tbody>\n",
       "</table>\n",
       "</div>"
      ],
      "text/plain": [
       "        COMM_CODE COMM_NAME\n",
       "4327764     Other     Other\n",
       "4724088     Other     Other"
      ]
     },
     "execution_count": 14,
     "metadata": {},
     "output_type": "execute_result"
    }
   ],
   "source": [
    "Data.iloc[mylist1,9]='Other'\n",
    "Data.iloc[mylist1,10]='Other'\n",
    "Data.iloc[mylist1,:][mylist]"
   ]
  },
  {
   "cell_type": "markdown",
   "metadata": {},
   "source": [
    "Moreover, modifying **COMM_NAME** column entries."
   ]
  },
  {
   "cell_type": "code",
   "execution_count": 15,
   "metadata": {},
   "outputs": [],
   "source": [
    "Data['COMM_NAME'] = Data['COMM_NAME'].apply(lambda x: x.title())"
   ]
  },
  {
   "cell_type": "markdown",
   "metadata": {},
   "source": [
    "## Latitude, Longitude and Location Columns "
   ]
  },
  {
   "cell_type": "markdown",
   "metadata": {},
   "source": [
    "For these columns, note that"
   ]
  },
  {
   "cell_type": "code",
   "execution_count": 16,
   "metadata": {},
   "outputs": [
    {
     "name": "stdout",
     "output_type": "stream",
     "text": [
      "The number of missing values: 22277\n"
     ]
    },
    {
     "data": {
      "text/html": [
       "<div>\n",
       "<style scoped>\n",
       "    .dataframe tbody tr th:only-of-type {\n",
       "        vertical-align: middle;\n",
       "    }\n",
       "\n",
       "    .dataframe tbody tr th {\n",
       "        vertical-align: top;\n",
       "    }\n",
       "\n",
       "    .dataframe thead th {\n",
       "        text-align: right;\n",
       "    }\n",
       "</style>\n",
       "<table border=\"1\" class=\"dataframe\">\n",
       "  <thead>\n",
       "    <tr style=\"text-align: right;\">\n",
       "      <th></th>\n",
       "      <th>ROLL_NUMBER</th>\n",
       "      <th>ADDRESS</th>\n",
       "      <th>LATITUDE</th>\n",
       "      <th>LONGITUDE</th>\n",
       "      <th>location</th>\n",
       "    </tr>\n",
       "  </thead>\n",
       "  <tbody>\n",
       "    <tr>\n",
       "      <th>131</th>\n",
       "      <td>202016192</td>\n",
       "      <td>47V 142 89 ST SW</td>\n",
       "      <td>NaN</td>\n",
       "      <td>NaN</td>\n",
       "      <td>NaN</td>\n",
       "    </tr>\n",
       "    <tr>\n",
       "      <th>856</th>\n",
       "      <td>202500559</td>\n",
       "      <td>171V 214 SHERWOOD SQ NW</td>\n",
       "      <td>NaN</td>\n",
       "      <td>NaN</td>\n",
       "      <td>NaN</td>\n",
       "    </tr>\n",
       "    <tr>\n",
       "      <th>889</th>\n",
       "      <td>202506515</td>\n",
       "      <td>65 30 AV SW</td>\n",
       "      <td>NaN</td>\n",
       "      <td>NaN</td>\n",
       "      <td>NaN</td>\n",
       "    </tr>\n",
       "    <tr>\n",
       "      <th>1693</th>\n",
       "      <td>202540308</td>\n",
       "      <td>417 20 WALGROVE WK SE</td>\n",
       "      <td>NaN</td>\n",
       "      <td>NaN</td>\n",
       "      <td>NaN</td>\n",
       "    </tr>\n",
       "    <tr>\n",
       "      <th>2250</th>\n",
       "      <td>202571543</td>\n",
       "      <td>2204 310 12 AV SW</td>\n",
       "      <td>NaN</td>\n",
       "      <td>NaN</td>\n",
       "      <td>NaN</td>\n",
       "    </tr>\n",
       "  </tbody>\n",
       "</table>\n",
       "</div>"
      ],
      "text/plain": [
       "      ROLL_NUMBER                  ADDRESS  LATITUDE  LONGITUDE location\n",
       "131     202016192         47V 142 89 ST SW       NaN        NaN      NaN\n",
       "856     202500559  171V 214 SHERWOOD SQ NW       NaN        NaN      NaN\n",
       "889     202506515              65 30 AV SW       NaN        NaN      NaN\n",
       "1693    202540308    417 20 WALGROVE WK SE       NaN        NaN      NaN\n",
       "2250    202571543        2204 310 12 AV SW       NaN        NaN      NaN"
      ]
     },
     "execution_count": 16,
     "metadata": {},
     "output_type": "execute_result"
    }
   ],
   "source": [
    "mylist = np.where(Data['location'].isna())[0].tolist()\n",
    "Null = Data[Data.location.isna()][['ROLL_NUMBER','ADDRESS','LATITUDE','LONGITUDE','location']]\n",
    "print('The number of missing values: %i' % len(Null))\n",
    "Null.head()"
   ]
  },
  {
   "cell_type": "markdown",
   "metadata": {},
   "source": [
    "We can use imputing with the mean strategy to recover these missing data in each community. Therefore,"
   ]
  },
  {
   "cell_type": "code",
   "execution_count": 17,
   "metadata": {
    "scrolled": true
   },
   "outputs": [
    {
     "name": "stderr",
     "output_type": "stream",
     "text": [
      "|######################################################################## | 98%"
     ]
    }
   ],
   "source": [
    "imp = SimpleImputer(missing_values=np.nan, strategy='most_frequent')\n",
    "mylist = Data.COMM_CODE.unique().tolist()\n",
    "# Progressbar\n",
    "Counter = 0\n",
    "Progress_Bar = progressbar.ProgressBar(maxval=len(mylist),\n",
    "                                       widgets=[progressbar.Bar('#', '|', '|'), progressbar.Percentage()])\n",
    "Progress_Bar.start()\n",
    "\n",
    "for i in mylist:\n",
    "    # updating the progress bar\n",
    "    Counter+=1\n",
    "    Progress_Bar.update(Counter)\n",
    "    # searching for the index of values in the community code column\n",
    "    indx = np.where(Data['COMM_CODE']==i)[0].tolist()\n",
    "    # LATITUDE\n",
    "    Temp = Data.iloc[indx,:].LATITUDE\n",
    "    if Temp.isnull().sum() < len(Temp):\n",
    "        Temp = imp.fit_transform(Temp.values.reshape(-1, 1))\n",
    "        Data.iloc[indx,11] = Temp\n",
    "    del Temp\n",
    "    # LONGITUDE\n",
    "    Temp = Data.iloc[indx,:].LONGITUDE\n",
    "    if Temp.isnull().sum() < len(Temp):\n",
    "        Temp = imp.fit_transform(Temp.values.reshape(-1, 1))\n",
    "        Data.iloc[indx,12] = Temp\n",
    "    del Temp\n",
    "\n",
    "del mylist, imp, Null"
   ]
  },
  {
   "cell_type": "markdown",
   "metadata": {},
   "source": [
    "## Changing the Dataframe Column Names to Title Case"
   ]
  },
  {
   "cell_type": "code",
   "execution_count": 18,
   "metadata": {},
   "outputs": [],
   "source": [
    "mylist = Data.columns.tolist()\n",
    "mylist = [x.title() for x in mylist]\n",
    "Data.columns = mylist\n",
    "del mylist"
   ]
  },
  {
   "cell_type": "markdown",
   "metadata": {},
   "source": [
    "## Adding More Details"
   ]
  },
  {
   "cell_type": "markdown",
   "metadata": {},
   "source": [
    "### Loading a geojson file"
   ]
  },
  {
   "cell_type": "code",
   "execution_count": 19,
   "metadata": {},
   "outputs": [],
   "source": [
    "Community_Boundaries = gpd.read_file('Calgary/Community_Boundaries.geojson')\n",
    "# Chaning the headers to title\n",
    "mylist = Community_Boundaries.columns.tolist()\n",
    "mylist = [x.title() for x in mylist]\n",
    "mylist = [x.replace('Geometry','geometry') for x in mylist]\n",
    "Community_Boundaries.columns = mylist\n",
    "del mylist"
   ]
  },
  {
   "cell_type": "code",
   "execution_count": 20,
   "metadata": {},
   "outputs": [
    {
     "data": {
      "text/html": [
       "<div>\n",
       "<style scoped>\n",
       "    .dataframe tbody tr th:only-of-type {\n",
       "        vertical-align: middle;\n",
       "    }\n",
       "\n",
       "    .dataframe tbody tr th {\n",
       "        vertical-align: top;\n",
       "    }\n",
       "\n",
       "    .dataframe thead th {\n",
       "        text-align: right;\n",
       "    }\n",
       "</style>\n",
       "<table border=\"1\" class=\"dataframe\">\n",
       "  <thead>\n",
       "    <tr style=\"text-align: right;\">\n",
       "      <th></th>\n",
       "      <th>Comm_Structure</th>\n",
       "      <th>Name</th>\n",
       "      <th>Sector</th>\n",
       "      <th>Class_Code</th>\n",
       "      <th>Srg</th>\n",
       "      <th>Class</th>\n",
       "      <th>Comm_Code</th>\n",
       "      <th>geometry</th>\n",
       "    </tr>\n",
       "  </thead>\n",
       "  <tbody>\n",
       "    <tr>\n",
       "      <th>0</th>\n",
       "      <td>INNER CITY</td>\n",
       "      <td>SUNALTA</td>\n",
       "      <td>CENTRE</td>\n",
       "      <td>1</td>\n",
       "      <td>BUILT-OUT</td>\n",
       "      <td>Residential</td>\n",
       "      <td>SNA</td>\n",
       "      <td>POLYGON ((-114.10061493005 51.047994301993, -1...</td>\n",
       "    </tr>\n",
       "    <tr>\n",
       "      <th>1</th>\n",
       "      <td>BUILDING OUT</td>\n",
       "      <td>WEST SPRINGS</td>\n",
       "      <td>WEST</td>\n",
       "      <td>1</td>\n",
       "      <td>DEVELOPING</td>\n",
       "      <td>Residential</td>\n",
       "      <td>WSP</td>\n",
       "      <td>POLYGON ((-114.187805990867 51.061506344418, -...</td>\n",
       "    </tr>\n",
       "    <tr>\n",
       "      <th>2</th>\n",
       "      <td>OTHER</td>\n",
       "      <td>12A</td>\n",
       "      <td>SOUTHEAST</td>\n",
       "      <td>4</td>\n",
       "      <td>N/A</td>\n",
       "      <td>Residual Sub Area</td>\n",
       "      <td>12A</td>\n",
       "      <td>POLYGON ((-113.869446537594 50.979572332142, -...</td>\n",
       "    </tr>\n",
       "    <tr>\n",
       "      <th>3</th>\n",
       "      <td>1950s</td>\n",
       "      <td>WINDSOR PARK</td>\n",
       "      <td>CENTRE</td>\n",
       "      <td>1</td>\n",
       "      <td>BUILT-OUT</td>\n",
       "      <td>Residential</td>\n",
       "      <td>WND</td>\n",
       "      <td>POLYGON ((-114.081517547811 51.008716296692, -...</td>\n",
       "    </tr>\n",
       "  </tbody>\n",
       "</table>\n",
       "</div>"
      ],
      "text/plain": [
       "  Comm_Structure          Name     Sector Class_Code         Srg  \\\n",
       "0     INNER CITY       SUNALTA     CENTRE          1   BUILT-OUT   \n",
       "1   BUILDING OUT  WEST SPRINGS       WEST          1  DEVELOPING   \n",
       "2          OTHER           12A  SOUTHEAST          4         N/A   \n",
       "3          1950s  WINDSOR PARK     CENTRE          1   BUILT-OUT   \n",
       "\n",
       "               Class Comm_Code  \\\n",
       "0        Residential       SNA   \n",
       "1        Residential       WSP   \n",
       "2  Residual Sub Area       12A   \n",
       "3        Residential       WND   \n",
       "\n",
       "                                            geometry  \n",
       "0  POLYGON ((-114.10061493005 51.047994301993, -1...  \n",
       "1  POLYGON ((-114.187805990867 51.061506344418, -...  \n",
       "2  POLYGON ((-113.869446537594 50.979572332142, -...  \n",
       "3  POLYGON ((-114.081517547811 51.008716296692, -...  "
      ]
     },
     "execution_count": 20,
     "metadata": {},
     "output_type": "execute_result"
    }
   ],
   "source": [
    "Community_Boundaries.head(4)"
   ]
  },
  {
   "cell_type": "markdown",
   "metadata": {},
   "source": [
    "### Processing the geojson file"
   ]
  },
  {
   "cell_type": "code",
   "execution_count": 21,
   "metadata": {},
   "outputs": [
    {
     "name": "stderr",
     "output_type": "stream",
     "text": [
      "|=========================================================================|100%\n"
     ]
    }
   ],
   "source": [
    "Temp = Community_Boundaries.drop(columns=['Name','geometry'])\n",
    "N = len(Temp.iloc[:,:-1].columns.tolist())\n",
    "Counter = 0\n",
    "Progress_Bar = progressbar.ProgressBar(maxval=N, widgets=[progressbar.Bar('=', '|', '|'), progressbar.Percentage()])\n",
    "Progress_Bar.start()\n",
    "for i in range(N):\n",
    "    Counter+=1\n",
    "    Progress_Bar.update(Counter)\n",
    "    Temp.iloc[:,i] = Temp.iloc[:,i].str.title()\n",
    "Progress_Bar.finish()"
   ]
  },
  {
   "cell_type": "code",
   "execution_count": 22,
   "metadata": {},
   "outputs": [],
   "source": [
    "mylist = Data.Comm_Code.unique().tolist()\n",
    "Temp = Temp[Temp.Comm_Code.isin(mylist)]\n",
    "Temp1 = pd.merge(Data, Temp, how ='inner', on ='Comm_Code')\n",
    "Data = copy.deepcopy(Temp1)  \n",
    "del Temp, Temp1"
   ]
  },
  {
   "cell_type": "markdown",
   "metadata": {},
   "source": [
    "# Processed Data"
   ]
  },
  {
   "cell_type": "code",
   "execution_count": 23,
   "metadata": {},
   "outputs": [
    {
     "data": {
      "text/html": [
       "<div>\n",
       "<style scoped>\n",
       "    .dataframe tbody tr th:only-of-type {\n",
       "        vertical-align: middle;\n",
       "    }\n",
       "\n",
       "    .dataframe tbody tr th {\n",
       "        vertical-align: top;\n",
       "    }\n",
       "\n",
       "    .dataframe thead th {\n",
       "        text-align: right;\n",
       "    }\n",
       "</style>\n",
       "<table border=\"1\" class=\"dataframe\">\n",
       "  <thead>\n",
       "    <tr style=\"text-align: right;\">\n",
       "      <th></th>\n",
       "      <th>Roll_Year</th>\n",
       "      <th>Roll_Number</th>\n",
       "      <th>Address</th>\n",
       "      <th>Assessed_Value</th>\n",
       "      <th>Assessment_Class</th>\n",
       "      <th>Assessment_Class_Description</th>\n",
       "      <th>Re_Assessed_Value</th>\n",
       "      <th>Nr_Assessed_Value</th>\n",
       "      <th>Fl_Assessed_Value</th>\n",
       "      <th>Comm_Code</th>\n",
       "      <th>Comm_Name</th>\n",
       "      <th>Latitude</th>\n",
       "      <th>Longitude</th>\n",
       "      <th>Location</th>\n",
       "      <th>Unique_Key</th>\n",
       "      <th>Comm_Structure</th>\n",
       "      <th>Sector</th>\n",
       "      <th>Class_Code</th>\n",
       "      <th>Srg</th>\n",
       "      <th>Class</th>\n",
       "    </tr>\n",
       "  </thead>\n",
       "  <tbody>\n",
       "    <tr>\n",
       "      <th>0</th>\n",
       "      <td>2019</td>\n",
       "      <td>2004505</td>\n",
       "      <td>3420 80 AV NE</td>\n",
       "      <td>963500.0</td>\n",
       "      <td>NR</td>\n",
       "      <td>Non-residential</td>\n",
       "      <td>NaN</td>\n",
       "      <td>963500.0</td>\n",
       "      <td>NaN</td>\n",
       "      <td>CIA</td>\n",
       "      <td>Calgary International Airport</td>\n",
       "      <td>51.125707</td>\n",
       "      <td>-113.985934</td>\n",
       "      <td>(51.1257068226041, -113.985933504339)</td>\n",
       "      <td>2019002004505</td>\n",
       "      <td>Other</td>\n",
       "      <td>Northeast</td>\n",
       "      <td>2</td>\n",
       "      <td>N/A</td>\n",
       "      <td>Industrial</td>\n",
       "    </tr>\n",
       "    <tr>\n",
       "      <th>1</th>\n",
       "      <td>2019</td>\n",
       "      <td>200613560</td>\n",
       "      <td>8063 22  ST NE</td>\n",
       "      <td>3160000.0</td>\n",
       "      <td>NR</td>\n",
       "      <td>Non-residential</td>\n",
       "      <td>NaN</td>\n",
       "      <td>3160000.0</td>\n",
       "      <td>NaN</td>\n",
       "      <td>CIA</td>\n",
       "      <td>Calgary International Airport</td>\n",
       "      <td>51.123612</td>\n",
       "      <td>-114.011797</td>\n",
       "      <td>(51.1236116266249, -114.011796685429)</td>\n",
       "      <td>2019200613560</td>\n",
       "      <td>Other</td>\n",
       "      <td>Northeast</td>\n",
       "      <td>2</td>\n",
       "      <td>N/A</td>\n",
       "      <td>Industrial</td>\n",
       "    </tr>\n",
       "    <tr>\n",
       "      <th>2</th>\n",
       "      <td>2019</td>\n",
       "      <td>200613578</td>\n",
       "      <td>24 AERO DR NE</td>\n",
       "      <td>11690000.0</td>\n",
       "      <td>NR</td>\n",
       "      <td>Non-residential</td>\n",
       "      <td>NaN</td>\n",
       "      <td>11690000.0</td>\n",
       "      <td>NaN</td>\n",
       "      <td>CIA</td>\n",
       "      <td>Calgary International Airport</td>\n",
       "      <td>51.123612</td>\n",
       "      <td>-114.011797</td>\n",
       "      <td>(51.1236116266249, -114.011796685429)</td>\n",
       "      <td>2019200613578</td>\n",
       "      <td>Other</td>\n",
       "      <td>Northeast</td>\n",
       "      <td>2</td>\n",
       "      <td>N/A</td>\n",
       "      <td>Industrial</td>\n",
       "    </tr>\n",
       "    <tr>\n",
       "      <th>3</th>\n",
       "      <td>2019</td>\n",
       "      <td>200693448</td>\n",
       "      <td>37 AERO DR NE</td>\n",
       "      <td>11450000.0</td>\n",
       "      <td>NR</td>\n",
       "      <td>Non-residential</td>\n",
       "      <td>NaN</td>\n",
       "      <td>11450000.0</td>\n",
       "      <td>NaN</td>\n",
       "      <td>CIA</td>\n",
       "      <td>Calgary International Airport</td>\n",
       "      <td>51.123612</td>\n",
       "      <td>-114.011797</td>\n",
       "      <td>(51.1236116266249, -114.011796685429)</td>\n",
       "      <td>2019200693448</td>\n",
       "      <td>Other</td>\n",
       "      <td>Northeast</td>\n",
       "      <td>2</td>\n",
       "      <td>N/A</td>\n",
       "      <td>Industrial</td>\n",
       "    </tr>\n",
       "    <tr>\n",
       "      <th>4</th>\n",
       "      <td>2019</td>\n",
       "      <td>200929172</td>\n",
       "      <td>1902 MCCALL LD NE</td>\n",
       "      <td>3010000.0</td>\n",
       "      <td>NR</td>\n",
       "      <td>Non-residential</td>\n",
       "      <td>NaN</td>\n",
       "      <td>3010000.0</td>\n",
       "      <td>NaN</td>\n",
       "      <td>CIA</td>\n",
       "      <td>Calgary International Airport</td>\n",
       "      <td>51.123612</td>\n",
       "      <td>-114.011797</td>\n",
       "      <td>(51.1236116266249, -114.011796685429)</td>\n",
       "      <td>2019200929172</td>\n",
       "      <td>Other</td>\n",
       "      <td>Northeast</td>\n",
       "      <td>2</td>\n",
       "      <td>N/A</td>\n",
       "      <td>Industrial</td>\n",
       "    </tr>\n",
       "  </tbody>\n",
       "</table>\n",
       "</div>"
      ],
      "text/plain": [
       "   Roll_Year  Roll_Number            Address  Assessed_Value Assessment_Class  \\\n",
       "0       2019      2004505      3420 80 AV NE        963500.0               NR   \n",
       "1       2019    200613560     8063 22  ST NE       3160000.0               NR   \n",
       "2       2019    200613578      24 AERO DR NE      11690000.0               NR   \n",
       "3       2019    200693448      37 AERO DR NE      11450000.0               NR   \n",
       "4       2019    200929172  1902 MCCALL LD NE       3010000.0               NR   \n",
       "\n",
       "  Assessment_Class_Description  Re_Assessed_Value  Nr_Assessed_Value  \\\n",
       "0              Non-residential                NaN           963500.0   \n",
       "1              Non-residential                NaN          3160000.0   \n",
       "2              Non-residential                NaN         11690000.0   \n",
       "3              Non-residential                NaN         11450000.0   \n",
       "4              Non-residential                NaN          3010000.0   \n",
       "\n",
       "   Fl_Assessed_Value Comm_Code                      Comm_Name   Latitude  \\\n",
       "0                NaN       CIA  Calgary International Airport  51.125707   \n",
       "1                NaN       CIA  Calgary International Airport  51.123612   \n",
       "2                NaN       CIA  Calgary International Airport  51.123612   \n",
       "3                NaN       CIA  Calgary International Airport  51.123612   \n",
       "4                NaN       CIA  Calgary International Airport  51.123612   \n",
       "\n",
       "    Longitude                               Location     Unique_Key  \\\n",
       "0 -113.985934  (51.1257068226041, -113.985933504339)  2019002004505   \n",
       "1 -114.011797  (51.1236116266249, -114.011796685429)  2019200613560   \n",
       "2 -114.011797  (51.1236116266249, -114.011796685429)  2019200613578   \n",
       "3 -114.011797  (51.1236116266249, -114.011796685429)  2019200693448   \n",
       "4 -114.011797  (51.1236116266249, -114.011796685429)  2019200929172   \n",
       "\n",
       "  Comm_Structure     Sector Class_Code  Srg       Class  \n",
       "0          Other  Northeast          2  N/A  Industrial  \n",
       "1          Other  Northeast          2  N/A  Industrial  \n",
       "2          Other  Northeast          2  N/A  Industrial  \n",
       "3          Other  Northeast          2  N/A  Industrial  \n",
       "4          Other  Northeast          2  N/A  Industrial  "
      ]
     },
     "execution_count": 23,
     "metadata": {},
     "output_type": "execute_result"
    }
   ],
   "source": [
    "Data.head()"
   ]
  },
  {
   "cell_type": "code",
   "execution_count": 24,
   "metadata": {},
   "outputs": [
    {
     "data": {
      "text/html": [
       "<div>\n",
       "<style scoped>\n",
       "    .dataframe tbody tr th:only-of-type {\n",
       "        vertical-align: middle;\n",
       "    }\n",
       "\n",
       "    .dataframe tbody tr th {\n",
       "        vertical-align: top;\n",
       "    }\n",
       "\n",
       "    .dataframe thead th {\n",
       "        text-align: right;\n",
       "    }\n",
       "</style>\n",
       "<table border=\"1\" class=\"dataframe\">\n",
       "  <thead>\n",
       "    <tr style=\"text-align: right;\">\n",
       "      <th></th>\n",
       "      <th>Number of NaN Values</th>\n",
       "    </tr>\n",
       "  </thead>\n",
       "  <tbody>\n",
       "    <tr>\n",
       "      <th>Roll_Year</th>\n",
       "      <td>0</td>\n",
       "    </tr>\n",
       "    <tr>\n",
       "      <th>Roll_Number</th>\n",
       "      <td>0</td>\n",
       "    </tr>\n",
       "    <tr>\n",
       "      <th>Address</th>\n",
       "      <td>186</td>\n",
       "    </tr>\n",
       "    <tr>\n",
       "      <th>Assessed_Value</th>\n",
       "      <td>0</td>\n",
       "    </tr>\n",
       "    <tr>\n",
       "      <th>Assessment_Class</th>\n",
       "      <td>0</td>\n",
       "    </tr>\n",
       "    <tr>\n",
       "      <th>Assessment_Class_Description</th>\n",
       "      <td>0</td>\n",
       "    </tr>\n",
       "    <tr>\n",
       "      <th>Re_Assessed_Value</th>\n",
       "      <td>313753</td>\n",
       "    </tr>\n",
       "    <tr>\n",
       "      <th>Nr_Assessed_Value</th>\n",
       "      <td>6431949</td>\n",
       "    </tr>\n",
       "    <tr>\n",
       "      <th>Fl_Assessed_Value</th>\n",
       "      <td>6739847</td>\n",
       "    </tr>\n",
       "    <tr>\n",
       "      <th>Comm_Code</th>\n",
       "      <td>0</td>\n",
       "    </tr>\n",
       "    <tr>\n",
       "      <th>Comm_Name</th>\n",
       "      <td>0</td>\n",
       "    </tr>\n",
       "    <tr>\n",
       "      <th>Latitude</th>\n",
       "      <td>0</td>\n",
       "    </tr>\n",
       "    <tr>\n",
       "      <th>Longitude</th>\n",
       "      <td>0</td>\n",
       "    </tr>\n",
       "    <tr>\n",
       "      <th>Location</th>\n",
       "      <td>22194</td>\n",
       "    </tr>\n",
       "    <tr>\n",
       "      <th>Unique_Key</th>\n",
       "      <td>0</td>\n",
       "    </tr>\n",
       "    <tr>\n",
       "      <th>Comm_Structure</th>\n",
       "      <td>108412</td>\n",
       "    </tr>\n",
       "    <tr>\n",
       "      <th>Sector</th>\n",
       "      <td>0</td>\n",
       "    </tr>\n",
       "    <tr>\n",
       "      <th>Class_Code</th>\n",
       "      <td>0</td>\n",
       "    </tr>\n",
       "    <tr>\n",
       "      <th>Srg</th>\n",
       "      <td>0</td>\n",
       "    </tr>\n",
       "    <tr>\n",
       "      <th>Class</th>\n",
       "      <td>0</td>\n",
       "    </tr>\n",
       "  </tbody>\n",
       "</table>\n",
       "</div>"
      ],
      "text/plain": [
       "                              Number of NaN Values\n",
       "Roll_Year                                        0\n",
       "Roll_Number                                      0\n",
       "Address                                        186\n",
       "Assessed_Value                                   0\n",
       "Assessment_Class                                 0\n",
       "Assessment_Class_Description                     0\n",
       "Re_Assessed_Value                           313753\n",
       "Nr_Assessed_Value                          6431949\n",
       "Fl_Assessed_Value                          6739847\n",
       "Comm_Code                                        0\n",
       "Comm_Name                                        0\n",
       "Latitude                                         0\n",
       "Longitude                                        0\n",
       "Location                                     22194\n",
       "Unique_Key                                       0\n",
       "Comm_Structure                              108412\n",
       "Sector                                           0\n",
       "Class_Code                                       0\n",
       "Srg                                              0\n",
       "Class                                            0"
      ]
     },
     "execution_count": 24,
     "metadata": {},
     "output_type": "execute_result"
    }
   ],
   "source": [
    "pd.DataFrame(Data.isnull().sum(),columns=['Number of NaN Values'])"
   ]
  },
  {
   "cell_type": "markdown",
   "metadata": {},
   "source": [
    "### Saving"
   ]
  },
  {
   "cell_type": "code",
   "execution_count": 25,
   "metadata": {},
   "outputs": [],
   "source": [
    "Data.to_csv('Calgary/Property_Assessments_Clean.csv',index=False)"
   ]
  },
  {
   "cell_type": "markdown",
   "metadata": {},
   "source": [
    "***"
   ]
  }
 ],
 "metadata": {
  "kernelspec": {
   "display_name": "Python 3",
   "language": "python",
   "name": "python3"
  },
  "language_info": {
   "codemirror_mode": {
    "name": "ipython",
    "version": 3
   },
   "file_extension": ".py",
   "mimetype": "text/x-python",
   "name": "python",
   "nbconvert_exporter": "python",
   "pygments_lexer": "ipython3",
   "version": "3.7.5"
  }
 },
 "nbformat": 4,
 "nbformat_minor": 2
}
