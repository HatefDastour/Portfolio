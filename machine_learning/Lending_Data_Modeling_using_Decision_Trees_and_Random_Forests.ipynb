{
 "cells": [
  {
   "cell_type": "code",
   "execution_count": 1,
   "metadata": {},
   "outputs": [],
   "source": [
    "# Required Packages\n",
    "import pandas as pd\n",
    "import numpy as np\n",
    "\n",
    "from sklearn.model_selection import train_test_split\n",
    "from sklearn.tree import DecisionTreeClassifier\n",
    "from sklearn.metrics import classification_report,confusion_matrix\n",
    "from sklearn.ensemble import RandomForestClassifier\n",
    "\n",
    "import seaborn as sns\n",
    "import matplotlib.pyplot as plt\n",
    "\n",
    "%matplotlib inline\n",
    "plt.style.use('seaborn-white')\n",
    "import warnings\n",
    "warnings.filterwarnings(\"ignore\")"
   ]
  },
  {
   "cell_type": "markdown",
   "metadata": {},
   "source": [
    "# Decision Trees and Random Forests\n",
    "\n",
    "In this article, we analyze lending data that is publicly available data from [LendingClub.com](https://www.lendingclub.com/info/download-data.action). Borrowers and investors are connected using Lending Club. Learn more about them [here](https://www.lendingclub.com/company/about-us).\n",
    "\n",
    "As for data analysis, here, we develop a model that will help predict whether a person has a high probability of paying the loan back or not."
   ]
  },
  {
   "cell_type": "markdown",
   "metadata": {},
   "source": [
    "### Table of contents\n",
    " * [Data](#Data)\n",
    " * [Initial Analysis](#Initial-Analysis)\n",
    " * [Modeling](#Modeling)\n",
    "     * [Train and Test Sets](#Train-and-Test-Sets)\n",
    "     * [Decision Tree Model](#Decision-Tree-Model)\n",
    "         * [Decision Tree Model's Predictions and Evaluations](#Decision-Tree-Model's-Predictions-and-Evaluations)\n",
    "     * [Random Forest Model](#Random-Forest-Model)\n",
    "         * [Random-Forest-Model's-Predictions-and-Evaluations](#Random-Forest-Model's-Predictions-and-Evaluations)\n",
    " * [Conclusions](#Conclusions)"
   ]
  },
  {
   "cell_type": "markdown",
   "metadata": {
    "collapsed": true
   },
   "source": [
    "## Data\n",
    "\n",
    "The data is coming from loan data over a four-year period from 2007 till 2010. The object of the exercise is predicting whether or not the borrower paid back their loan in full. First, let's take a closer look at the data."
   ]
  },
  {
   "cell_type": "code",
   "execution_count": 2,
   "metadata": {},
   "outputs": [
    {
     "data": {
      "text/html": [
       "<div>\n",
       "<style scoped>\n",
       "    .dataframe tbody tr th:only-of-type {\n",
       "        vertical-align: middle;\n",
       "    }\n",
       "\n",
       "    .dataframe tbody tr th {\n",
       "        vertical-align: top;\n",
       "    }\n",
       "\n",
       "    .dataframe thead th {\n",
       "        text-align: right;\n",
       "    }\n",
       "</style>\n",
       "<table border=\"1\" class=\"dataframe\">\n",
       "  <thead>\n",
       "    <tr style=\"text-align: right;\">\n",
       "      <th></th>\n",
       "      <th>credit.policy</th>\n",
       "      <th>purpose</th>\n",
       "      <th>int.rate</th>\n",
       "      <th>installment</th>\n",
       "      <th>log.annual.inc</th>\n",
       "      <th>dti</th>\n",
       "      <th>fico</th>\n",
       "      <th>days.with.cr.line</th>\n",
       "      <th>revol.bal</th>\n",
       "      <th>revol.util</th>\n",
       "      <th>inq.last.6mths</th>\n",
       "      <th>delinq.2yrs</th>\n",
       "      <th>pub.rec</th>\n",
       "      <th>not.fully.paid</th>\n",
       "    </tr>\n",
       "  </thead>\n",
       "  <tbody>\n",
       "    <tr>\n",
       "      <td>0</td>\n",
       "      <td>1</td>\n",
       "      <td>debt_consolidation</td>\n",
       "      <td>0.1189</td>\n",
       "      <td>829.10</td>\n",
       "      <td>11.350407</td>\n",
       "      <td>19.48</td>\n",
       "      <td>737</td>\n",
       "      <td>5639.958333</td>\n",
       "      <td>28854</td>\n",
       "      <td>52.1</td>\n",
       "      <td>0</td>\n",
       "      <td>0</td>\n",
       "      <td>0</td>\n",
       "      <td>0</td>\n",
       "    </tr>\n",
       "    <tr>\n",
       "      <td>1</td>\n",
       "      <td>1</td>\n",
       "      <td>credit_card</td>\n",
       "      <td>0.1071</td>\n",
       "      <td>228.22</td>\n",
       "      <td>11.082143</td>\n",
       "      <td>14.29</td>\n",
       "      <td>707</td>\n",
       "      <td>2760.000000</td>\n",
       "      <td>33623</td>\n",
       "      <td>76.7</td>\n",
       "      <td>0</td>\n",
       "      <td>0</td>\n",
       "      <td>0</td>\n",
       "      <td>0</td>\n",
       "    </tr>\n",
       "    <tr>\n",
       "      <td>2</td>\n",
       "      <td>1</td>\n",
       "      <td>debt_consolidation</td>\n",
       "      <td>0.1357</td>\n",
       "      <td>366.86</td>\n",
       "      <td>10.373491</td>\n",
       "      <td>11.63</td>\n",
       "      <td>682</td>\n",
       "      <td>4710.000000</td>\n",
       "      <td>3511</td>\n",
       "      <td>25.6</td>\n",
       "      <td>1</td>\n",
       "      <td>0</td>\n",
       "      <td>0</td>\n",
       "      <td>0</td>\n",
       "    </tr>\n",
       "    <tr>\n",
       "      <td>3</td>\n",
       "      <td>1</td>\n",
       "      <td>debt_consolidation</td>\n",
       "      <td>0.1008</td>\n",
       "      <td>162.34</td>\n",
       "      <td>11.350407</td>\n",
       "      <td>8.10</td>\n",
       "      <td>712</td>\n",
       "      <td>2699.958333</td>\n",
       "      <td>33667</td>\n",
       "      <td>73.2</td>\n",
       "      <td>1</td>\n",
       "      <td>0</td>\n",
       "      <td>0</td>\n",
       "      <td>0</td>\n",
       "    </tr>\n",
       "    <tr>\n",
       "      <td>4</td>\n",
       "      <td>1</td>\n",
       "      <td>credit_card</td>\n",
       "      <td>0.1426</td>\n",
       "      <td>102.92</td>\n",
       "      <td>11.299732</td>\n",
       "      <td>14.97</td>\n",
       "      <td>667</td>\n",
       "      <td>4066.000000</td>\n",
       "      <td>4740</td>\n",
       "      <td>39.5</td>\n",
       "      <td>0</td>\n",
       "      <td>1</td>\n",
       "      <td>0</td>\n",
       "      <td>0</td>\n",
       "    </tr>\n",
       "  </tbody>\n",
       "</table>\n",
       "</div>"
      ],
      "text/plain": [
       "   credit.policy             purpose  int.rate  installment  log.annual.inc  \\\n",
       "0              1  debt_consolidation    0.1189       829.10       11.350407   \n",
       "1              1         credit_card    0.1071       228.22       11.082143   \n",
       "2              1  debt_consolidation    0.1357       366.86       10.373491   \n",
       "3              1  debt_consolidation    0.1008       162.34       11.350407   \n",
       "4              1         credit_card    0.1426       102.92       11.299732   \n",
       "\n",
       "     dti  fico  days.with.cr.line  revol.bal  revol.util  inq.last.6mths  \\\n",
       "0  19.48   737        5639.958333      28854        52.1               0   \n",
       "1  14.29   707        2760.000000      33623        76.7               0   \n",
       "2  11.63   682        4710.000000       3511        25.6               1   \n",
       "3   8.10   712        2699.958333      33667        73.2               1   \n",
       "4  14.97   667        4066.000000       4740        39.5               0   \n",
       "\n",
       "   delinq.2yrs  pub.rec  not.fully.paid  \n",
       "0            0        0               0  \n",
       "1            0        0               0  \n",
       "2            0        0               0  \n",
       "3            0        0               0  \n",
       "4            1        0               0  "
      ]
     },
     "execution_count": 2,
     "metadata": {},
     "output_type": "execute_result"
    }
   ],
   "source": [
    "Loans = pd.read_csv('Data/loan_data.csv')\n",
    "Loans.head()"
   ]
  },
  {
   "cell_type": "code",
   "execution_count": 3,
   "metadata": {},
   "outputs": [
    {
     "data": {
      "text/html": [
       "<div>\n",
       "<style scoped>\n",
       "    .dataframe tbody tr th:only-of-type {\n",
       "        vertical-align: middle;\n",
       "    }\n",
       "\n",
       "    .dataframe tbody tr th {\n",
       "        vertical-align: top;\n",
       "    }\n",
       "\n",
       "    .dataframe thead th {\n",
       "        text-align: right;\n",
       "    }\n",
       "</style>\n",
       "<table border=\"1\" class=\"dataframe\">\n",
       "  <thead>\n",
       "    <tr style=\"text-align: right;\">\n",
       "      <th></th>\n",
       "      <th>credit.policy</th>\n",
       "      <th>int.rate</th>\n",
       "      <th>installment</th>\n",
       "      <th>log.annual.inc</th>\n",
       "      <th>dti</th>\n",
       "      <th>fico</th>\n",
       "      <th>days.with.cr.line</th>\n",
       "      <th>revol.bal</th>\n",
       "      <th>revol.util</th>\n",
       "      <th>inq.last.6mths</th>\n",
       "      <th>delinq.2yrs</th>\n",
       "      <th>pub.rec</th>\n",
       "      <th>not.fully.paid</th>\n",
       "    </tr>\n",
       "  </thead>\n",
       "  <tbody>\n",
       "    <tr>\n",
       "      <td>count</td>\n",
       "      <td>9578.000000</td>\n",
       "      <td>9578.000000</td>\n",
       "      <td>9578.000000</td>\n",
       "      <td>9578.000000</td>\n",
       "      <td>9578.000000</td>\n",
       "      <td>9578.000000</td>\n",
       "      <td>9578.000000</td>\n",
       "      <td>9.578000e+03</td>\n",
       "      <td>9578.000000</td>\n",
       "      <td>9578.000000</td>\n",
       "      <td>9578.000000</td>\n",
       "      <td>9578.000000</td>\n",
       "      <td>9578.000000</td>\n",
       "    </tr>\n",
       "    <tr>\n",
       "      <td>mean</td>\n",
       "      <td>0.804970</td>\n",
       "      <td>0.122640</td>\n",
       "      <td>319.089413</td>\n",
       "      <td>10.932117</td>\n",
       "      <td>12.606679</td>\n",
       "      <td>710.846314</td>\n",
       "      <td>4560.767197</td>\n",
       "      <td>1.691396e+04</td>\n",
       "      <td>46.799236</td>\n",
       "      <td>1.577469</td>\n",
       "      <td>0.163708</td>\n",
       "      <td>0.062122</td>\n",
       "      <td>0.160054</td>\n",
       "    </tr>\n",
       "    <tr>\n",
       "      <td>std</td>\n",
       "      <td>0.396245</td>\n",
       "      <td>0.026847</td>\n",
       "      <td>207.071301</td>\n",
       "      <td>0.614813</td>\n",
       "      <td>6.883970</td>\n",
       "      <td>37.970537</td>\n",
       "      <td>2496.930377</td>\n",
       "      <td>3.375619e+04</td>\n",
       "      <td>29.014417</td>\n",
       "      <td>2.200245</td>\n",
       "      <td>0.546215</td>\n",
       "      <td>0.262126</td>\n",
       "      <td>0.366676</td>\n",
       "    </tr>\n",
       "    <tr>\n",
       "      <td>min</td>\n",
       "      <td>0.000000</td>\n",
       "      <td>0.060000</td>\n",
       "      <td>15.670000</td>\n",
       "      <td>7.547502</td>\n",
       "      <td>0.000000</td>\n",
       "      <td>612.000000</td>\n",
       "      <td>178.958333</td>\n",
       "      <td>0.000000e+00</td>\n",
       "      <td>0.000000</td>\n",
       "      <td>0.000000</td>\n",
       "      <td>0.000000</td>\n",
       "      <td>0.000000</td>\n",
       "      <td>0.000000</td>\n",
       "    </tr>\n",
       "    <tr>\n",
       "      <td>25%</td>\n",
       "      <td>1.000000</td>\n",
       "      <td>0.103900</td>\n",
       "      <td>163.770000</td>\n",
       "      <td>10.558414</td>\n",
       "      <td>7.212500</td>\n",
       "      <td>682.000000</td>\n",
       "      <td>2820.000000</td>\n",
       "      <td>3.187000e+03</td>\n",
       "      <td>22.600000</td>\n",
       "      <td>0.000000</td>\n",
       "      <td>0.000000</td>\n",
       "      <td>0.000000</td>\n",
       "      <td>0.000000</td>\n",
       "    </tr>\n",
       "    <tr>\n",
       "      <td>50%</td>\n",
       "      <td>1.000000</td>\n",
       "      <td>0.122100</td>\n",
       "      <td>268.950000</td>\n",
       "      <td>10.928884</td>\n",
       "      <td>12.665000</td>\n",
       "      <td>707.000000</td>\n",
       "      <td>4139.958333</td>\n",
       "      <td>8.596000e+03</td>\n",
       "      <td>46.300000</td>\n",
       "      <td>1.000000</td>\n",
       "      <td>0.000000</td>\n",
       "      <td>0.000000</td>\n",
       "      <td>0.000000</td>\n",
       "    </tr>\n",
       "    <tr>\n",
       "      <td>75%</td>\n",
       "      <td>1.000000</td>\n",
       "      <td>0.140700</td>\n",
       "      <td>432.762500</td>\n",
       "      <td>11.291293</td>\n",
       "      <td>17.950000</td>\n",
       "      <td>737.000000</td>\n",
       "      <td>5730.000000</td>\n",
       "      <td>1.824950e+04</td>\n",
       "      <td>70.900000</td>\n",
       "      <td>2.000000</td>\n",
       "      <td>0.000000</td>\n",
       "      <td>0.000000</td>\n",
       "      <td>0.000000</td>\n",
       "    </tr>\n",
       "    <tr>\n",
       "      <td>max</td>\n",
       "      <td>1.000000</td>\n",
       "      <td>0.216400</td>\n",
       "      <td>940.140000</td>\n",
       "      <td>14.528354</td>\n",
       "      <td>29.960000</td>\n",
       "      <td>827.000000</td>\n",
       "      <td>17639.958330</td>\n",
       "      <td>1.207359e+06</td>\n",
       "      <td>119.000000</td>\n",
       "      <td>33.000000</td>\n",
       "      <td>13.000000</td>\n",
       "      <td>5.000000</td>\n",
       "      <td>1.000000</td>\n",
       "    </tr>\n",
       "  </tbody>\n",
       "</table>\n",
       "</div>"
      ],
      "text/plain": [
       "       credit.policy     int.rate  installment  log.annual.inc          dti  \\\n",
       "count    9578.000000  9578.000000  9578.000000     9578.000000  9578.000000   \n",
       "mean        0.804970     0.122640   319.089413       10.932117    12.606679   \n",
       "std         0.396245     0.026847   207.071301        0.614813     6.883970   \n",
       "min         0.000000     0.060000    15.670000        7.547502     0.000000   \n",
       "25%         1.000000     0.103900   163.770000       10.558414     7.212500   \n",
       "50%         1.000000     0.122100   268.950000       10.928884    12.665000   \n",
       "75%         1.000000     0.140700   432.762500       11.291293    17.950000   \n",
       "max         1.000000     0.216400   940.140000       14.528354    29.960000   \n",
       "\n",
       "              fico  days.with.cr.line     revol.bal   revol.util  \\\n",
       "count  9578.000000        9578.000000  9.578000e+03  9578.000000   \n",
       "mean    710.846314        4560.767197  1.691396e+04    46.799236   \n",
       "std      37.970537        2496.930377  3.375619e+04    29.014417   \n",
       "min     612.000000         178.958333  0.000000e+00     0.000000   \n",
       "25%     682.000000        2820.000000  3.187000e+03    22.600000   \n",
       "50%     707.000000        4139.958333  8.596000e+03    46.300000   \n",
       "75%     737.000000        5730.000000  1.824950e+04    70.900000   \n",
       "max     827.000000       17639.958330  1.207359e+06   119.000000   \n",
       "\n",
       "       inq.last.6mths  delinq.2yrs      pub.rec  not.fully.paid  \n",
       "count     9578.000000  9578.000000  9578.000000     9578.000000  \n",
       "mean         1.577469     0.163708     0.062122        0.160054  \n",
       "std          2.200245     0.546215     0.262126        0.366676  \n",
       "min          0.000000     0.000000     0.000000        0.000000  \n",
       "25%          0.000000     0.000000     0.000000        0.000000  \n",
       "50%          1.000000     0.000000     0.000000        0.000000  \n",
       "75%          2.000000     0.000000     0.000000        0.000000  \n",
       "max         33.000000    13.000000     5.000000        1.000000  "
      ]
     },
     "execution_count": 3,
     "metadata": {},
     "output_type": "execute_result"
    }
   ],
   "source": [
    "Loans.describe()"
   ]
  },
  {
   "cell_type": "code",
   "execution_count": 4,
   "metadata": {},
   "outputs": [
    {
     "data": {
      "text/html": [
       "<div>\n",
       "<style scoped>\n",
       "    .dataframe tbody tr th:only-of-type {\n",
       "        vertical-align: middle;\n",
       "    }\n",
       "\n",
       "    .dataframe tbody tr th {\n",
       "        vertical-align: top;\n",
       "    }\n",
       "\n",
       "    .dataframe thead th {\n",
       "        text-align: right;\n",
       "    }\n",
       "</style>\n",
       "<table border=\"1\" class=\"dataframe\">\n",
       "  <thead>\n",
       "    <tr style=\"text-align: right;\">\n",
       "      <th></th>\n",
       "      <th>int.rate</th>\n",
       "      <th>installment</th>\n",
       "      <th>log.annual.inc</th>\n",
       "      <th>dti</th>\n",
       "      <th>fico</th>\n",
       "      <th>days.with.cr.line</th>\n",
       "      <th>revol.bal</th>\n",
       "      <th>revol.util</th>\n",
       "      <th>inq.last.6mths</th>\n",
       "      <th>delinq.2yrs</th>\n",
       "      <th>pub.rec</th>\n",
       "      <th>not.fully.paid</th>\n",
       "    </tr>\n",
       "    <tr>\n",
       "      <th>credit.policy</th>\n",
       "      <th></th>\n",
       "      <th></th>\n",
       "      <th></th>\n",
       "      <th></th>\n",
       "      <th></th>\n",
       "      <th></th>\n",
       "      <th></th>\n",
       "      <th></th>\n",
       "      <th></th>\n",
       "      <th></th>\n",
       "      <th></th>\n",
       "      <th></th>\n",
       "    </tr>\n",
       "  </thead>\n",
       "  <tbody>\n",
       "    <tr>\n",
       "      <td>0</td>\n",
       "      <td>0.138680</td>\n",
       "      <td>294.367115</td>\n",
       "      <td>10.88852</td>\n",
       "      <td>13.877901</td>\n",
       "      <td>683.978051</td>\n",
       "      <td>4058.456304</td>\n",
       "      <td>29773.15257</td>\n",
       "      <td>52.934872</td>\n",
       "      <td>3.971092</td>\n",
       "      <td>0.248394</td>\n",
       "      <td>0.091006</td>\n",
       "      <td>0.277837</td>\n",
       "    </tr>\n",
       "    <tr>\n",
       "      <td>1</td>\n",
       "      <td>0.118754</td>\n",
       "      <td>325.079200</td>\n",
       "      <td>10.94268</td>\n",
       "      <td>12.298684</td>\n",
       "      <td>717.356031</td>\n",
       "      <td>4682.468461</td>\n",
       "      <td>13798.40428</td>\n",
       "      <td>45.312677</td>\n",
       "      <td>0.997536</td>\n",
       "      <td>0.143191</td>\n",
       "      <td>0.055123</td>\n",
       "      <td>0.131518</td>\n",
       "    </tr>\n",
       "  </tbody>\n",
       "</table>\n",
       "</div>"
      ],
      "text/plain": [
       "               int.rate  installment  log.annual.inc        dti        fico  \\\n",
       "credit.policy                                                                 \n",
       "0              0.138680   294.367115        10.88852  13.877901  683.978051   \n",
       "1              0.118754   325.079200        10.94268  12.298684  717.356031   \n",
       "\n",
       "               days.with.cr.line    revol.bal  revol.util  inq.last.6mths  \\\n",
       "credit.policy                                                               \n",
       "0                    4058.456304  29773.15257   52.934872        3.971092   \n",
       "1                    4682.468461  13798.40428   45.312677        0.997536   \n",
       "\n",
       "               delinq.2yrs   pub.rec  not.fully.paid  \n",
       "credit.policy                                         \n",
       "0                 0.248394  0.091006        0.277837  \n",
       "1                 0.143191  0.055123        0.131518  "
      ]
     },
     "execution_count": 4,
     "metadata": {},
     "output_type": "execute_result"
    }
   ],
   "source": [
    "Loans.groupby(['credit.policy']).mean()"
   ]
  },
  {
   "cell_type": "markdown",
   "metadata": {},
   "source": [
    "## Initial Analysis\n",
    "\n",
    "It is important to visualize the data to identify trends and relationships between its parameters. First, we plot [**FISCO**](http://www.financialdictionary.net/define/FICO/) for the two policies."
   ]
  },
  {
   "cell_type": "code",
   "execution_count": 5,
   "metadata": {},
   "outputs": [
    {
     "data": {
      "text/plain": [
       "Text(0.5,1,'FICO Plot for various loan payments')"
      ]
     },
     "execution_count": 5,
     "metadata": {},
     "output_type": "execute_result"
    },
    {
     "data": {
      "image/png": "[encoded data removed]",
      "text/plain": [
       "<Figure size 1152x576 with 2 Axes>"
      ]
     },
     "metadata": {
      "needs_background": "light"
     },
     "output_type": "display_data"
    }
   ],
   "source": [
    "fig, ax = plt.subplots(nrows=1, ncols=2, figsize=(16, 8))\n",
    "# Left Plot\n",
    "ax[0].hist(Loans[Loans['credit.policy']==1]['fico'],bins=30,alpha=0.6,label='Credit Policy=1',color='Blue')\n",
    "ax[0].hist(Loans[Loans['credit.policy']==0]['fico'],bins=30,alpha=0.6,label='Credit Policy=0',color='Red')\n",
    "ax[0].legend(loc='upper left')\n",
    "ax[0].set_xlabel('FICO')\n",
    "ax[0].set_ylim([0, 900])\n",
    "plt.xlabel('FICO')\n",
    "ax[0].set_title('FICO Plot for various credit policies')\n",
    "# Right Plot\n",
    "ax[1].hist(Loans[Loans['not.fully.paid']==0]['fico'],bins=30,alpha=0.6,label='Not Fully Paid=0',color='Red')\n",
    "ax[1].hist(Loans[Loans['not.fully.paid']==1]['fico'],bins=30,alpha=0.6,label='Not Fully Paid=1',color='Green')\n",
    "ax[1].legend(loc='upper left')\n",
    "ax[1].set_xlabel('FICO')\n",
    "ax[1].set_ylim([0, 900])\n",
    "plt.xlabel('FICO')\n",
    "ax[1].set_title('FICO Plot for various loan payments')"
   ]
  },
  {
   "cell_type": "markdown",
   "metadata": {},
   "source": [
    "Visualizing the counts of loan purposes based on whether a borrower fully paid the loan back or not. "
   ]
  },
  {
   "cell_type": "code",
   "execution_count": 6,
   "metadata": {},
   "outputs": [
    {
     "data": {
      "image/png": "[encoded data removed]",
      "text/plain": [
       "<Figure size 720x360 with 1 Axes>"
      ]
     },
     "metadata": {
      "needs_background": "light"
     },
     "output_type": "display_data"
    }
   ],
   "source": [
    "plt.figure(figsize=(10,5))\n",
    "sns.countplot(Loans['purpose'],hue=Loans['not.fully.paid'])\n",
    "plt.tight_layout()"
   ]
  },
  {
   "cell_type": "markdown",
   "metadata": {},
   "source": [
    "Displaying a relationship between **FICO** and **Interest Rate**:"
   ]
  },
  {
   "cell_type": "code",
   "execution_count": 7,
   "metadata": {},
   "outputs": [
    {
     "data": {
      "text/plain": [
       "<seaborn.axisgrid.JointGrid at 0x222f8fbd400>"
      ]
     },
     "execution_count": 7,
     "metadata": {},
     "output_type": "execute_result"
    },
    {
     "data": {
      "image/png": "[encoded data removed]",
      "text/plain": [
       "<Figure size 432x432 with 3 Axes>"
      ]
     },
     "metadata": {
      "needs_background": "light"
     },
     "output_type": "display_data"
    }
   ],
   "source": [
    "sns.jointplot(x='fico',y='int.rate',data=Loans,\n",
    "              marginal_kws=dict(bins=15, rug=True),\n",
    "              annot_kws=dict(stat=\"r\"),\n",
    "              s=40, edgecolor=\"w\", linewidth=1)"
   ]
  },
  {
   "cell_type": "markdown",
   "metadata": {},
   "source": [
    "## Modeling"
   ]
  },
  {
   "cell_type": "markdown",
   "metadata": {},
   "source": [
    "First off, **purpose** column is categorical and we need to introduce dummy variables. This can be done as follows,"
   ]
  },
  {
   "cell_type": "code",
   "execution_count": 8,
   "metadata": {
    "scrolled": true
   },
   "outputs": [
    {
     "data": {
      "text/html": [
       "<div>\n",
       "<style scoped>\n",
       "    .dataframe tbody tr th:only-of-type {\n",
       "        vertical-align: middle;\n",
       "    }\n",
       "\n",
       "    .dataframe tbody tr th {\n",
       "        vertical-align: top;\n",
       "    }\n",
       "\n",
       "    .dataframe thead th {\n",
       "        text-align: right;\n",
       "    }\n",
       "</style>\n",
       "<table border=\"1\" class=\"dataframe\">\n",
       "  <thead>\n",
       "    <tr style=\"text-align: right;\">\n",
       "      <th></th>\n",
       "      <th>credit.policy</th>\n",
       "      <th>int.rate</th>\n",
       "      <th>installment</th>\n",
       "      <th>log.annual.inc</th>\n",
       "      <th>dti</th>\n",
       "      <th>fico</th>\n",
       "      <th>days.with.cr.line</th>\n",
       "      <th>revol.bal</th>\n",
       "      <th>revol.util</th>\n",
       "      <th>inq.last.6mths</th>\n",
       "      <th>delinq.2yrs</th>\n",
       "      <th>pub.rec</th>\n",
       "      <th>not.fully.paid</th>\n",
       "      <th>purpose_credit_card</th>\n",
       "      <th>purpose_debt_consolidation</th>\n",
       "      <th>purpose_educational</th>\n",
       "      <th>purpose_home_improvement</th>\n",
       "      <th>purpose_major_purchase</th>\n",
       "      <th>purpose_small_business</th>\n",
       "    </tr>\n",
       "  </thead>\n",
       "  <tbody>\n",
       "    <tr>\n",
       "      <td>0</td>\n",
       "      <td>1</td>\n",
       "      <td>0.1189</td>\n",
       "      <td>829.10</td>\n",
       "      <td>11.350407</td>\n",
       "      <td>19.48</td>\n",
       "      <td>737</td>\n",
       "      <td>5639.958333</td>\n",
       "      <td>28854</td>\n",
       "      <td>52.1</td>\n",
       "      <td>0</td>\n",
       "      <td>0</td>\n",
       "      <td>0</td>\n",
       "      <td>0</td>\n",
       "      <td>0</td>\n",
       "      <td>1</td>\n",
       "      <td>0</td>\n",
       "      <td>0</td>\n",
       "      <td>0</td>\n",
       "      <td>0</td>\n",
       "    </tr>\n",
       "    <tr>\n",
       "      <td>1</td>\n",
       "      <td>1</td>\n",
       "      <td>0.1071</td>\n",
       "      <td>228.22</td>\n",
       "      <td>11.082143</td>\n",
       "      <td>14.29</td>\n",
       "      <td>707</td>\n",
       "      <td>2760.000000</td>\n",
       "      <td>33623</td>\n",
       "      <td>76.7</td>\n",
       "      <td>0</td>\n",
       "      <td>0</td>\n",
       "      <td>0</td>\n",
       "      <td>0</td>\n",
       "      <td>1</td>\n",
       "      <td>0</td>\n",
       "      <td>0</td>\n",
       "      <td>0</td>\n",
       "      <td>0</td>\n",
       "      <td>0</td>\n",
       "    </tr>\n",
       "    <tr>\n",
       "      <td>2</td>\n",
       "      <td>1</td>\n",
       "      <td>0.1357</td>\n",
       "      <td>366.86</td>\n",
       "      <td>10.373491</td>\n",
       "      <td>11.63</td>\n",
       "      <td>682</td>\n",
       "      <td>4710.000000</td>\n",
       "      <td>3511</td>\n",
       "      <td>25.6</td>\n",
       "      <td>1</td>\n",
       "      <td>0</td>\n",
       "      <td>0</td>\n",
       "      <td>0</td>\n",
       "      <td>0</td>\n",
       "      <td>1</td>\n",
       "      <td>0</td>\n",
       "      <td>0</td>\n",
       "      <td>0</td>\n",
       "      <td>0</td>\n",
       "    </tr>\n",
       "    <tr>\n",
       "      <td>3</td>\n",
       "      <td>1</td>\n",
       "      <td>0.1008</td>\n",
       "      <td>162.34</td>\n",
       "      <td>11.350407</td>\n",
       "      <td>8.10</td>\n",
       "      <td>712</td>\n",
       "      <td>2699.958333</td>\n",
       "      <td>33667</td>\n",
       "      <td>73.2</td>\n",
       "      <td>1</td>\n",
       "      <td>0</td>\n",
       "      <td>0</td>\n",
       "      <td>0</td>\n",
       "      <td>0</td>\n",
       "      <td>1</td>\n",
       "      <td>0</td>\n",
       "      <td>0</td>\n",
       "      <td>0</td>\n",
       "      <td>0</td>\n",
       "    </tr>\n",
       "    <tr>\n",
       "      <td>4</td>\n",
       "      <td>1</td>\n",
       "      <td>0.1426</td>\n",
       "      <td>102.92</td>\n",
       "      <td>11.299732</td>\n",
       "      <td>14.97</td>\n",
       "      <td>667</td>\n",
       "      <td>4066.000000</td>\n",
       "      <td>4740</td>\n",
       "      <td>39.5</td>\n",
       "      <td>0</td>\n",
       "      <td>1</td>\n",
       "      <td>0</td>\n",
       "      <td>0</td>\n",
       "      <td>1</td>\n",
       "      <td>0</td>\n",
       "      <td>0</td>\n",
       "      <td>0</td>\n",
       "      <td>0</td>\n",
       "      <td>0</td>\n",
       "    </tr>\n",
       "  </tbody>\n",
       "</table>\n",
       "</div>"
      ],
      "text/plain": [
       "   credit.policy  int.rate  installment  log.annual.inc    dti  fico  \\\n",
       "0              1    0.1189       829.10       11.350407  19.48   737   \n",
       "1              1    0.1071       228.22       11.082143  14.29   707   \n",
       "2              1    0.1357       366.86       10.373491  11.63   682   \n",
       "3              1    0.1008       162.34       11.350407   8.10   712   \n",
       "4              1    0.1426       102.92       11.299732  14.97   667   \n",
       "\n",
       "   days.with.cr.line  revol.bal  revol.util  inq.last.6mths  delinq.2yrs  \\\n",
       "0        5639.958333      28854        52.1               0            0   \n",
       "1        2760.000000      33623        76.7               0            0   \n",
       "2        4710.000000       3511        25.6               1            0   \n",
       "3        2699.958333      33667        73.2               1            0   \n",
       "4        4066.000000       4740        39.5               0            1   \n",
       "\n",
       "   pub.rec  not.fully.paid  purpose_credit_card  purpose_debt_consolidation  \\\n",
       "0        0               0                    0                           1   \n",
       "1        0               0                    1                           0   \n",
       "2        0               0                    0                           1   \n",
       "3        0               0                    0                           1   \n",
       "4        0               0                    1                           0   \n",
       "\n",
       "   purpose_educational  purpose_home_improvement  purpose_major_purchase  \\\n",
       "0                    0                         0                       0   \n",
       "1                    0                         0                       0   \n",
       "2                    0                         0                       0   \n",
       "3                    0                         0                       0   \n",
       "4                    0                         0                       0   \n",
       "\n",
       "   purpose_small_business  \n",
       "0                       0  \n",
       "1                       0  \n",
       "2                       0  \n",
       "3                       0  \n",
       "4                       0  "
      ]
     },
     "execution_count": 8,
     "metadata": {},
     "output_type": "execute_result"
    }
   ],
   "source": [
    "Data = pd.get_dummies(Loans,columns=['purpose'], drop_first=True)\n",
    "Data.head()"
   ]
  },
  {
   "cell_type": "markdown",
   "metadata": {},
   "source": [
    "### Train and Test Sets\n",
    "\n",
    "Defining *train* and *test* sets:"
   ]
  },
  {
   "cell_type": "code",
   "execution_count": 9,
   "metadata": {},
   "outputs": [],
   "source": [
    "X = Data.drop('not.fully.paid',axis=1)\n",
    "y = Data['not.fully.paid']\n",
    "X_train,X_test,y_train,y_test = train_test_split(X,y,test_size=0.3)"
   ]
  },
  {
   "cell_type": "markdown",
   "metadata": {},
   "source": [
    "### Decision Tree Model"
   ]
  },
  {
   "cell_type": "code",
   "execution_count": 10,
   "metadata": {},
   "outputs": [
    {
     "data": {
      "text/plain": [
       "DecisionTreeClassifier(class_weight=None, criterion='gini', max_depth=None,\n",
       "                       max_features=None, max_leaf_nodes=None,\n",
       "                       min_impurity_decrease=0.0, min_impurity_split=None,\n",
       "                       min_samples_leaf=1, min_samples_split=2,\n",
       "                       min_weight_fraction_leaf=0.0, presort=False,\n",
       "                       random_state=None, splitter='best')"
      ]
     },
     "execution_count": 10,
     "metadata": {},
     "output_type": "execute_result"
    }
   ],
   "source": [
    "Decision_Tree= DecisionTreeClassifier()\n",
    "Decision_Tree.fit(X_train,y_train)"
   ]
  },
  {
   "cell_type": "markdown",
   "metadata": {},
   "source": [
    "#### Decision Tree Model's Predictions and Evaluations"
   ]
  },
  {
   "cell_type": "code",
   "execution_count": 11,
   "metadata": {
    "scrolled": false
   },
   "outputs": [
    {
     "name": "stdout",
     "output_type": "stream",
     "text": [
      "              precision    recall  f1-score   support\n",
      "\n",
      "           0       0.85      0.83      0.84      2419\n",
      "           1       0.22      0.25      0.23       455\n",
      "\n",
      "    accuracy                           0.74      2874\n",
      "   macro avg       0.53      0.54      0.54      2874\n",
      "weighted avg       0.75      0.74      0.74      2874\n",
      "\n"
     ]
    }
   ],
   "source": [
    "Predict = Decision_Tree.predict(X_test)\n",
    "print(classification_report(y_test,Predict))"
   ]
  },
  {
   "cell_type": "markdown",
   "metadata": {},
   "source": [
    "It can be seen that the accuracy is about $\\%74$."
   ]
  },
  {
   "cell_type": "code",
   "execution_count": 12,
   "metadata": {},
   "outputs": [
    {
     "data": {
      "text/plain": [
       "array([[2003,  416],\n",
       "       [ 341,  114]], dtype=int64)"
      ]
     },
     "execution_count": 12,
     "metadata": {},
     "output_type": "execute_result"
    }
   ],
   "source": [
    "confusion_matrix(y_test,Predict)"
   ]
  },
  {
   "cell_type": "markdown",
   "metadata": {},
   "source": [
    "Off-diagonal elements represent individuals that were misclassified!"
   ]
  },
  {
   "cell_type": "markdown",
   "metadata": {},
   "source": [
    "### Random Forest Model"
   ]
  },
  {
   "cell_type": "code",
   "execution_count": 13,
   "metadata": {},
   "outputs": [
    {
     "data": {
      "text/plain": [
       "RandomForestClassifier(bootstrap=True, class_weight=None, criterion='gini',\n",
       "                       max_depth=None, max_features='auto', max_leaf_nodes=None,\n",
       "                       min_impurity_decrease=0.0, min_impurity_split=None,\n",
       "                       min_samples_leaf=1, min_samples_split=2,\n",
       "                       min_weight_fraction_leaf=0.0, n_estimators=10,\n",
       "                       n_jobs=None, oob_score=False, random_state=None,\n",
       "                       verbose=0, warm_start=False)"
      ]
     },
     "execution_count": 13,
     "metadata": {},
     "output_type": "execute_result"
    }
   ],
   "source": [
    "Random_Forest = RandomForestClassifier()\n",
    "Random_Forest.fit(X_train,y_train)"
   ]
  },
  {
   "cell_type": "markdown",
   "metadata": {},
   "source": [
    "#### Random Forest Model's Predictions and Evaluations"
   ]
  },
  {
   "cell_type": "code",
   "execution_count": 14,
   "metadata": {},
   "outputs": [],
   "source": [
    "Predict = Random_Forest.predict(X_test)"
   ]
  },
  {
   "cell_type": "code",
   "execution_count": 15,
   "metadata": {},
   "outputs": [
    {
     "name": "stdout",
     "output_type": "stream",
     "text": [
      "              precision    recall  f1-score   support\n",
      "\n",
      "           0       0.85      0.98      0.91      2419\n",
      "           1       0.39      0.06      0.10       455\n",
      "\n",
      "    accuracy                           0.84      2874\n",
      "   macro avg       0.62      0.52      0.51      2874\n",
      "weighted avg       0.78      0.84      0.78      2874\n",
      "\n"
     ]
    }
   ],
   "source": [
    "print(classification_report(y_test,Predict))"
   ]
  },
  {
   "cell_type": "markdown",
   "metadata": {},
   "source": [
    "It can be seen that the accuracy is about $\\%84$."
   ]
  },
  {
   "cell_type": "code",
   "execution_count": 16,
   "metadata": {},
   "outputs": [
    {
     "name": "stdout",
     "output_type": "stream",
     "text": [
      "[[2377   42]\n",
      " [ 428   27]]\n"
     ]
    }
   ],
   "source": [
    "print(confusion_matrix(y_test,Predict))"
   ]
  },
  {
   "cell_type": "markdown",
   "metadata": {},
   "source": [
    "Off-diagonal elements represent individuals that were misclassified!"
   ]
  },
  {
   "cell_type": "markdown",
   "metadata": {},
   "source": [
    "## Conclusions\n",
    "\n",
    "In this article, we visualized and analyzed loan data that is publicly available data from LendingClub.com. We also created two models, the random forest and the decision tree models, that can be used for predictions.  For this data, the random forest performed outperformed the decision tree model in terms of accuracy."
   ]
  },
  {
   "cell_type": "markdown",
   "metadata": {},
   "source": [
    "Moreover, for a new list of customers, we have"
   ]
  },
  {
   "cell_type": "code",
   "execution_count": 23,
   "metadata": {
    "scrolled": false
   },
   "outputs": [
    {
     "data": {
      "text/html": [
       "<style  type=\"text/css\" >\n",
       "</style><table id=\"T_32bae6b0_f4d8_11e9_9a1d_780cb82c7ea4\" ><thead>    <tr>        <th class=\"col_heading level0 col0\" >credit.policy</th>        <th class=\"col_heading level0 col1\" >int.rate</th>        <th class=\"col_heading level0 col2\" >installment</th>        <th class=\"col_heading level0 col3\" >log.annual.inc</th>        <th class=\"col_heading level0 col4\" >dti</th>        <th class=\"col_heading level0 col5\" >fico</th>        <th class=\"col_heading level0 col6\" >days.with.cr.line</th>        <th class=\"col_heading level0 col7\" >revol.bal</th>        <th class=\"col_heading level0 col8\" >revol.util</th>        <th class=\"col_heading level0 col9\" >inq.last.6mths</th>        <th class=\"col_heading level0 col10\" >delinq.2yrs</th>        <th class=\"col_heading level0 col11\" >pub.rec</th>        <th class=\"col_heading level0 col12\" >purpose_credit_card</th>        <th class=\"col_heading level0 col13\" >purpose_debt_consolidation</th>        <th class=\"col_heading level0 col14\" >purpose_educational</th>        <th class=\"col_heading level0 col15\" >purpose_home_improvement</th>        <th class=\"col_heading level0 col16\" >purpose_major_purchase</th>        <th class=\"col_heading level0 col17\" >purpose_small_business</th>    </tr></thead><tbody>\n",
       "                <tr>\n",
       "                                <td id=\"T_32bae6b0_f4d8_11e9_9a1d_780cb82c7ea4row0_col0\" class=\"data row0 col0\" >1</td>\n",
       "                        <td id=\"T_32bae6b0_f4d8_11e9_9a1d_780cb82c7ea4row0_col1\" class=\"data row0 col1\" >0.08</td>\n",
       "                        <td id=\"T_32bae6b0_f4d8_11e9_9a1d_780cb82c7ea4row0_col2\" class=\"data row0 col2\" >826.99</td>\n",
       "                        <td id=\"T_32bae6b0_f4d8_11e9_9a1d_780cb82c7ea4row0_col3\" class=\"data row0 col3\" >11.1135</td>\n",
       "                        <td id=\"T_32bae6b0_f4d8_11e9_9a1d_780cb82c7ea4row0_col4\" class=\"data row0 col4\" >13.24</td>\n",
       "                        <td id=\"T_32bae6b0_f4d8_11e9_9a1d_780cb82c7ea4row0_col5\" class=\"data row0 col5\" >756</td>\n",
       "                        <td id=\"T_32bae6b0_f4d8_11e9_9a1d_780cb82c7ea4row0_col6\" class=\"data row0 col6\" >8340.67</td>\n",
       "                        <td id=\"T_32bae6b0_f4d8_11e9_9a1d_780cb82c7ea4row0_col7\" class=\"data row0 col7\" >6607</td>\n",
       "                        <td id=\"T_32bae6b0_f4d8_11e9_9a1d_780cb82c7ea4row0_col8\" class=\"data row0 col8\" >37</td>\n",
       "                        <td id=\"T_32bae6b0_f4d8_11e9_9a1d_780cb82c7ea4row0_col9\" class=\"data row0 col9\" >0</td>\n",
       "                        <td id=\"T_32bae6b0_f4d8_11e9_9a1d_780cb82c7ea4row0_col10\" class=\"data row0 col10\" >0</td>\n",
       "                        <td id=\"T_32bae6b0_f4d8_11e9_9a1d_780cb82c7ea4row0_col11\" class=\"data row0 col11\" >0</td>\n",
       "                        <td id=\"T_32bae6b0_f4d8_11e9_9a1d_780cb82c7ea4row0_col12\" class=\"data row0 col12\" >0</td>\n",
       "                        <td id=\"T_32bae6b0_f4d8_11e9_9a1d_780cb82c7ea4row0_col13\" class=\"data row0 col13\" >0</td>\n",
       "                        <td id=\"T_32bae6b0_f4d8_11e9_9a1d_780cb82c7ea4row0_col14\" class=\"data row0 col14\" >0</td>\n",
       "                        <td id=\"T_32bae6b0_f4d8_11e9_9a1d_780cb82c7ea4row0_col15\" class=\"data row0 col15\" >0</td>\n",
       "                        <td id=\"T_32bae6b0_f4d8_11e9_9a1d_780cb82c7ea4row0_col16\" class=\"data row0 col16\" >0</td>\n",
       "                        <td id=\"T_32bae6b0_f4d8_11e9_9a1d_780cb82c7ea4row0_col17\" class=\"data row0 col17\" >0</td>\n",
       "            </tr>\n",
       "            <tr>\n",
       "                                <td id=\"T_32bae6b0_f4d8_11e9_9a1d_780cb82c7ea4row1_col0\" class=\"data row1 col0\" >0</td>\n",
       "                        <td id=\"T_32bae6b0_f4d8_11e9_9a1d_780cb82c7ea4row1_col1\" class=\"data row1 col1\" >0.049</td>\n",
       "                        <td id=\"T_32bae6b0_f4d8_11e9_9a1d_780cb82c7ea4row1_col2\" class=\"data row1 col2\" >340.41</td>\n",
       "                        <td id=\"T_32bae6b0_f4d8_11e9_9a1d_780cb82c7ea4row1_col3\" class=\"data row1 col3\" >10.8082</td>\n",
       "                        <td id=\"T_32bae6b0_f4d8_11e9_9a1d_780cb82c7ea4row1_col4\" class=\"data row1 col4\" >25.53</td>\n",
       "                        <td id=\"T_32bae6b0_f4d8_11e9_9a1d_780cb82c7ea4row1_col5\" class=\"data row1 col5\" >694</td>\n",
       "                        <td id=\"T_32bae6b0_f4d8_11e9_9a1d_780cb82c7ea4row1_col6\" class=\"data row1 col6\" >3843.88</td>\n",
       "                        <td id=\"T_32bae6b0_f4d8_11e9_9a1d_780cb82c7ea4row1_col7\" class=\"data row1 col7\" >14554</td>\n",
       "                        <td id=\"T_32bae6b0_f4d8_11e9_9a1d_780cb82c7ea4row1_col8\" class=\"data row1 col8\" >52</td>\n",
       "                        <td id=\"T_32bae6b0_f4d8_11e9_9a1d_780cb82c7ea4row1_col9\" class=\"data row1 col9\" >3</td>\n",
       "                        <td id=\"T_32bae6b0_f4d8_11e9_9a1d_780cb82c7ea4row1_col10\" class=\"data row1 col10\" >0</td>\n",
       "                        <td id=\"T_32bae6b0_f4d8_11e9_9a1d_780cb82c7ea4row1_col11\" class=\"data row1 col11\" >0</td>\n",
       "                        <td id=\"T_32bae6b0_f4d8_11e9_9a1d_780cb82c7ea4row1_col12\" class=\"data row1 col12\" >0</td>\n",
       "                        <td id=\"T_32bae6b0_f4d8_11e9_9a1d_780cb82c7ea4row1_col13\" class=\"data row1 col13\" >0</td>\n",
       "                        <td id=\"T_32bae6b0_f4d8_11e9_9a1d_780cb82c7ea4row1_col14\" class=\"data row1 col14\" >0</td>\n",
       "                        <td id=\"T_32bae6b0_f4d8_11e9_9a1d_780cb82c7ea4row1_col15\" class=\"data row1 col15\" >0</td>\n",
       "                        <td id=\"T_32bae6b0_f4d8_11e9_9a1d_780cb82c7ea4row1_col16\" class=\"data row1 col16\" >0</td>\n",
       "                        <td id=\"T_32bae6b0_f4d8_11e9_9a1d_780cb82c7ea4row1_col17\" class=\"data row1 col17\" >0</td>\n",
       "            </tr>\n",
       "            <tr>\n",
       "                                <td id=\"T_32bae6b0_f4d8_11e9_9a1d_780cb82c7ea4row2_col0\" class=\"data row2 col0\" >1</td>\n",
       "                        <td id=\"T_32bae6b0_f4d8_11e9_9a1d_780cb82c7ea4row2_col1\" class=\"data row2 col1\" >0.035</td>\n",
       "                        <td id=\"T_32bae6b0_f4d8_11e9_9a1d_780cb82c7ea4row2_col2\" class=\"data row2 col2\" >92.85</td>\n",
       "                        <td id=\"T_32bae6b0_f4d8_11e9_9a1d_780cb82c7ea4row2_col3\" class=\"data row2 col3\" >11.7141</td>\n",
       "                        <td id=\"T_32bae6b0_f4d8_11e9_9a1d_780cb82c7ea4row2_col4\" class=\"data row2 col4\" >7.94</td>\n",
       "                        <td id=\"T_32bae6b0_f4d8_11e9_9a1d_780cb82c7ea4row2_col5\" class=\"data row2 col5\" >722</td>\n",
       "                        <td id=\"T_32bae6b0_f4d8_11e9_9a1d_780cb82c7ea4row2_col6\" class=\"data row2 col6\" >6920.66</td>\n",
       "                        <td id=\"T_32bae6b0_f4d8_11e9_9a1d_780cb82c7ea4row2_col7\" class=\"data row2 col7\" >14161</td>\n",
       "                        <td id=\"T_32bae6b0_f4d8_11e9_9a1d_780cb82c7ea4row2_col8\" class=\"data row2 col8\" >47</td>\n",
       "                        <td id=\"T_32bae6b0_f4d8_11e9_9a1d_780cb82c7ea4row2_col9\" class=\"data row2 col9\" >0</td>\n",
       "                        <td id=\"T_32bae6b0_f4d8_11e9_9a1d_780cb82c7ea4row2_col10\" class=\"data row2 col10\" >0</td>\n",
       "                        <td id=\"T_32bae6b0_f4d8_11e9_9a1d_780cb82c7ea4row2_col11\" class=\"data row2 col11\" >0</td>\n",
       "                        <td id=\"T_32bae6b0_f4d8_11e9_9a1d_780cb82c7ea4row2_col12\" class=\"data row2 col12\" >0</td>\n",
       "                        <td id=\"T_32bae6b0_f4d8_11e9_9a1d_780cb82c7ea4row2_col13\" class=\"data row2 col13\" >0</td>\n",
       "                        <td id=\"T_32bae6b0_f4d8_11e9_9a1d_780cb82c7ea4row2_col14\" class=\"data row2 col14\" >0</td>\n",
       "                        <td id=\"T_32bae6b0_f4d8_11e9_9a1d_780cb82c7ea4row2_col15\" class=\"data row2 col15\" >0</td>\n",
       "                        <td id=\"T_32bae6b0_f4d8_11e9_9a1d_780cb82c7ea4row2_col16\" class=\"data row2 col16\" >0</td>\n",
       "                        <td id=\"T_32bae6b0_f4d8_11e9_9a1d_780cb82c7ea4row2_col17\" class=\"data row2 col17\" >0</td>\n",
       "            </tr>\n",
       "            <tr>\n",
       "                                <td id=\"T_32bae6b0_f4d8_11e9_9a1d_780cb82c7ea4row3_col0\" class=\"data row3 col0\" >1</td>\n",
       "                        <td id=\"T_32bae6b0_f4d8_11e9_9a1d_780cb82c7ea4row3_col1\" class=\"data row3 col1\" >0.074</td>\n",
       "                        <td id=\"T_32bae6b0_f4d8_11e9_9a1d_780cb82c7ea4row3_col2\" class=\"data row3 col2\" >313.47</td>\n",
       "                        <td id=\"T_32bae6b0_f4d8_11e9_9a1d_780cb82c7ea4row3_col3\" class=\"data row3 col3\" >11.4111</td>\n",
       "                        <td id=\"T_32bae6b0_f4d8_11e9_9a1d_780cb82c7ea4row3_col4\" class=\"data row3 col4\" >0.67</td>\n",
       "                        <td id=\"T_32bae6b0_f4d8_11e9_9a1d_780cb82c7ea4row3_col5\" class=\"data row3 col5\" >777</td>\n",
       "                        <td id=\"T_32bae6b0_f4d8_11e9_9a1d_780cb82c7ea4row3_col6\" class=\"data row3 col6\" >6570.41</td>\n",
       "                        <td id=\"T_32bae6b0_f4d8_11e9_9a1d_780cb82c7ea4row3_col7\" class=\"data row3 col7\" >2994</td>\n",
       "                        <td id=\"T_32bae6b0_f4d8_11e9_9a1d_780cb82c7ea4row3_col8\" class=\"data row3 col8\" >10</td>\n",
       "                        <td id=\"T_32bae6b0_f4d8_11e9_9a1d_780cb82c7ea4row3_col9\" class=\"data row3 col9\" >0</td>\n",
       "                        <td id=\"T_32bae6b0_f4d8_11e9_9a1d_780cb82c7ea4row3_col10\" class=\"data row3 col10\" >0</td>\n",
       "                        <td id=\"T_32bae6b0_f4d8_11e9_9a1d_780cb82c7ea4row3_col11\" class=\"data row3 col11\" >0</td>\n",
       "                        <td id=\"T_32bae6b0_f4d8_11e9_9a1d_780cb82c7ea4row3_col12\" class=\"data row3 col12\" >0</td>\n",
       "                        <td id=\"T_32bae6b0_f4d8_11e9_9a1d_780cb82c7ea4row3_col13\" class=\"data row3 col13\" >1</td>\n",
       "                        <td id=\"T_32bae6b0_f4d8_11e9_9a1d_780cb82c7ea4row3_col14\" class=\"data row3 col14\" >0</td>\n",
       "                        <td id=\"T_32bae6b0_f4d8_11e9_9a1d_780cb82c7ea4row3_col15\" class=\"data row3 col15\" >0</td>\n",
       "                        <td id=\"T_32bae6b0_f4d8_11e9_9a1d_780cb82c7ea4row3_col16\" class=\"data row3 col16\" >0</td>\n",
       "                        <td id=\"T_32bae6b0_f4d8_11e9_9a1d_780cb82c7ea4row3_col17\" class=\"data row3 col17\" >0</td>\n",
       "            </tr>\n",
       "            <tr>\n",
       "                                <td id=\"T_32bae6b0_f4d8_11e9_9a1d_780cb82c7ea4row4_col0\" class=\"data row4 col0\" >1</td>\n",
       "                        <td id=\"T_32bae6b0_f4d8_11e9_9a1d_780cb82c7ea4row4_col1\" class=\"data row4 col1\" >0.05</td>\n",
       "                        <td id=\"T_32bae6b0_f4d8_11e9_9a1d_780cb82c7ea4row4_col2\" class=\"data row4 col2\" >255.15</td>\n",
       "                        <td id=\"T_32bae6b0_f4d8_11e9_9a1d_780cb82c7ea4row4_col3\" class=\"data row4 col3\" >10.5676</td>\n",
       "                        <td id=\"T_32bae6b0_f4d8_11e9_9a1d_780cb82c7ea4row4_col4\" class=\"data row4 col4\" >14.39</td>\n",
       "                        <td id=\"T_32bae6b0_f4d8_11e9_9a1d_780cb82c7ea4row4_col5\" class=\"data row4 col5\" >767</td>\n",
       "                        <td id=\"T_32bae6b0_f4d8_11e9_9a1d_780cb82c7ea4row4_col6\" class=\"data row4 col6\" >9300.13</td>\n",
       "                        <td id=\"T_32bae6b0_f4d8_11e9_9a1d_780cb82c7ea4row4_col7\" class=\"data row4 col7\" >24141</td>\n",
       "                        <td id=\"T_32bae6b0_f4d8_11e9_9a1d_780cb82c7ea4row4_col8\" class=\"data row4 col8\" >50</td>\n",
       "                        <td id=\"T_32bae6b0_f4d8_11e9_9a1d_780cb82c7ea4row4_col9\" class=\"data row4 col9\" >0</td>\n",
       "                        <td id=\"T_32bae6b0_f4d8_11e9_9a1d_780cb82c7ea4row4_col10\" class=\"data row4 col10\" >0</td>\n",
       "                        <td id=\"T_32bae6b0_f4d8_11e9_9a1d_780cb82c7ea4row4_col11\" class=\"data row4 col11\" >0</td>\n",
       "                        <td id=\"T_32bae6b0_f4d8_11e9_9a1d_780cb82c7ea4row4_col12\" class=\"data row4 col12\" >0</td>\n",
       "                        <td id=\"T_32bae6b0_f4d8_11e9_9a1d_780cb82c7ea4row4_col13\" class=\"data row4 col13\" >1</td>\n",
       "                        <td id=\"T_32bae6b0_f4d8_11e9_9a1d_780cb82c7ea4row4_col14\" class=\"data row4 col14\" >0</td>\n",
       "                        <td id=\"T_32bae6b0_f4d8_11e9_9a1d_780cb82c7ea4row4_col15\" class=\"data row4 col15\" >0</td>\n",
       "                        <td id=\"T_32bae6b0_f4d8_11e9_9a1d_780cb82c7ea4row4_col16\" class=\"data row4 col16\" >0</td>\n",
       "                        <td id=\"T_32bae6b0_f4d8_11e9_9a1d_780cb82c7ea4row4_col17\" class=\"data row4 col17\" >0</td>\n",
       "            </tr>\n",
       "    </tbody></table>"
      ],
      "text/plain": [
       "<pandas.io.formats.style.Styler at 0x222fafc3a20>"
      ]
     },
     "execution_count": 23,
     "metadata": {},
     "output_type": "execute_result"
    }
   ],
   "source": [
    "temp=X_train[0:100].values\n",
    "temp[:,1]=np.abs(np.round(temp[:,1]+np.random.normal(0, 0.1, len(temp[:,1])), decimals=3))\n",
    "temp[:,2]=np.round(temp[:,2]+np.random.normal(0, 2, len(temp[:,2])), decimals=2)\n",
    "temp[:,3]=temp[:,3]+np.random.normal(0, 0.5, len(temp[:,3]))\n",
    "temp[:,4]=np.round(temp[:,4]+np.random.normal(0, 0.4, len(temp[:,4])), decimals=2)\n",
    "temp[:,5]=np.round(temp[:,5]+np.random.normal(0, 5, len(temp[:,5])), decimals=0)\n",
    "temp[:,6]=temp[:,6]+np.random.normal(0, 4, len(temp[:,6]))\n",
    "temp[:,7]=np.round(temp[:,7]+np.random.normal(0, 1, len(temp[:,7])), decimals=0)\n",
    "temp[:,8]=np.round(temp[:,8]+np.random.normal(0, 1, len(temp[:,8])), decimals=0)\n",
    "new_df=pd.DataFrame(temp,columns=list(X_train.columns))\n",
    "del temp\n",
    "new_df.head().style.hide_index()"
   ]
  },
  {
   "cell_type": "code",
   "execution_count": 19,
   "metadata": {},
   "outputs": [],
   "source": [
    "Predict = Random_Forest.predict(new_df)"
   ]
  },
  {
   "cell_type": "markdown",
   "metadata": {},
   "source": [
    "Thus, the following table can be generated based on predictions using the random forest model."
   ]
  },
  {
   "cell_type": "code",
   "execution_count": 22,
   "metadata": {},
   "outputs": [
    {
     "data": {
      "text/html": [
       "<style  type=\"text/css\" >\n",
       "</style><table id=\"T_30fa79f6_f4d8_11e9_bfba_780cb82c7ea4\" ><thead>    <tr>        <th class=\"col_heading level0 col0\" >credit.policy</th>        <th class=\"col_heading level0 col1\" >int.rate</th>        <th class=\"col_heading level0 col2\" >installment</th>        <th class=\"col_heading level0 col3\" >log.annual.inc</th>        <th class=\"col_heading level0 col4\" >dti</th>        <th class=\"col_heading level0 col5\" >fico</th>        <th class=\"col_heading level0 col6\" >days.with.cr.line</th>        <th class=\"col_heading level0 col7\" >revol.bal</th>        <th class=\"col_heading level0 col8\" >revol.util</th>        <th class=\"col_heading level0 col9\" >inq.last.6mths</th>        <th class=\"col_heading level0 col10\" >delinq.2yrs</th>        <th class=\"col_heading level0 col11\" >pub.rec</th>        <th class=\"col_heading level0 col12\" >purpose_credit_card</th>        <th class=\"col_heading level0 col13\" >purpose_debt_consolidation</th>        <th class=\"col_heading level0 col14\" >purpose_educational</th>        <th class=\"col_heading level0 col15\" >purpose_home_improvement</th>        <th class=\"col_heading level0 col16\" >purpose_major_purchase</th>        <th class=\"col_heading level0 col17\" >purpose_small_business</th>        <th class=\"col_heading level0 col18\" >not.fully.paid</th>    </tr></thead><tbody>\n",
       "                <tr>\n",
       "                                <td id=\"T_30fa79f6_f4d8_11e9_bfba_780cb82c7ea4row0_col0\" class=\"data row0 col0\" >1</td>\n",
       "                        <td id=\"T_30fa79f6_f4d8_11e9_bfba_780cb82c7ea4row0_col1\" class=\"data row0 col1\" >0.315</td>\n",
       "                        <td id=\"T_30fa79f6_f4d8_11e9_bfba_780cb82c7ea4row0_col2\" class=\"data row0 col2\" >827.78</td>\n",
       "                        <td id=\"T_30fa79f6_f4d8_11e9_bfba_780cb82c7ea4row0_col3\" class=\"data row0 col3\" >10.7101</td>\n",
       "                        <td id=\"T_30fa79f6_f4d8_11e9_bfba_780cb82c7ea4row0_col4\" class=\"data row0 col4\" >12.78</td>\n",
       "                        <td id=\"T_30fa79f6_f4d8_11e9_bfba_780cb82c7ea4row0_col5\" class=\"data row0 col5\" >755</td>\n",
       "                        <td id=\"T_30fa79f6_f4d8_11e9_bfba_780cb82c7ea4row0_col6\" class=\"data row0 col6\" >8345.12</td>\n",
       "                        <td id=\"T_30fa79f6_f4d8_11e9_bfba_780cb82c7ea4row0_col7\" class=\"data row0 col7\" >6606</td>\n",
       "                        <td id=\"T_30fa79f6_f4d8_11e9_bfba_780cb82c7ea4row0_col8\" class=\"data row0 col8\" >36</td>\n",
       "                        <td id=\"T_30fa79f6_f4d8_11e9_bfba_780cb82c7ea4row0_col9\" class=\"data row0 col9\" >0</td>\n",
       "                        <td id=\"T_30fa79f6_f4d8_11e9_bfba_780cb82c7ea4row0_col10\" class=\"data row0 col10\" >0</td>\n",
       "                        <td id=\"T_30fa79f6_f4d8_11e9_bfba_780cb82c7ea4row0_col11\" class=\"data row0 col11\" >0</td>\n",
       "                        <td id=\"T_30fa79f6_f4d8_11e9_bfba_780cb82c7ea4row0_col12\" class=\"data row0 col12\" >0</td>\n",
       "                        <td id=\"T_30fa79f6_f4d8_11e9_bfba_780cb82c7ea4row0_col13\" class=\"data row0 col13\" >0</td>\n",
       "                        <td id=\"T_30fa79f6_f4d8_11e9_bfba_780cb82c7ea4row0_col14\" class=\"data row0 col14\" >0</td>\n",
       "                        <td id=\"T_30fa79f6_f4d8_11e9_bfba_780cb82c7ea4row0_col15\" class=\"data row0 col15\" >0</td>\n",
       "                        <td id=\"T_30fa79f6_f4d8_11e9_bfba_780cb82c7ea4row0_col16\" class=\"data row0 col16\" >0</td>\n",
       "                        <td id=\"T_30fa79f6_f4d8_11e9_bfba_780cb82c7ea4row0_col17\" class=\"data row0 col17\" >0</td>\n",
       "                        <td id=\"T_30fa79f6_f4d8_11e9_bfba_780cb82c7ea4row0_col18\" class=\"data row0 col18\" >0</td>\n",
       "            </tr>\n",
       "            <tr>\n",
       "                                <td id=\"T_30fa79f6_f4d8_11e9_bfba_780cb82c7ea4row1_col0\" class=\"data row1 col0\" >0</td>\n",
       "                        <td id=\"T_30fa79f6_f4d8_11e9_bfba_780cb82c7ea4row1_col1\" class=\"data row1 col1\" >0.088</td>\n",
       "                        <td id=\"T_30fa79f6_f4d8_11e9_bfba_780cb82c7ea4row1_col2\" class=\"data row1 col2\" >340.12</td>\n",
       "                        <td id=\"T_30fa79f6_f4d8_11e9_bfba_780cb82c7ea4row1_col3\" class=\"data row1 col3\" >10.7514</td>\n",
       "                        <td id=\"T_30fa79f6_f4d8_11e9_bfba_780cb82c7ea4row1_col4\" class=\"data row1 col4\" >26.4</td>\n",
       "                        <td id=\"T_30fa79f6_f4d8_11e9_bfba_780cb82c7ea4row1_col5\" class=\"data row1 col5\" >693</td>\n",
       "                        <td id=\"T_30fa79f6_f4d8_11e9_bfba_780cb82c7ea4row1_col6\" class=\"data row1 col6\" >3837.19</td>\n",
       "                        <td id=\"T_30fa79f6_f4d8_11e9_bfba_780cb82c7ea4row1_col7\" class=\"data row1 col7\" >14553</td>\n",
       "                        <td id=\"T_30fa79f6_f4d8_11e9_bfba_780cb82c7ea4row1_col8\" class=\"data row1 col8\" >51</td>\n",
       "                        <td id=\"T_30fa79f6_f4d8_11e9_bfba_780cb82c7ea4row1_col9\" class=\"data row1 col9\" >3</td>\n",
       "                        <td id=\"T_30fa79f6_f4d8_11e9_bfba_780cb82c7ea4row1_col10\" class=\"data row1 col10\" >0</td>\n",
       "                        <td id=\"T_30fa79f6_f4d8_11e9_bfba_780cb82c7ea4row1_col11\" class=\"data row1 col11\" >0</td>\n",
       "                        <td id=\"T_30fa79f6_f4d8_11e9_bfba_780cb82c7ea4row1_col12\" class=\"data row1 col12\" >0</td>\n",
       "                        <td id=\"T_30fa79f6_f4d8_11e9_bfba_780cb82c7ea4row1_col13\" class=\"data row1 col13\" >0</td>\n",
       "                        <td id=\"T_30fa79f6_f4d8_11e9_bfba_780cb82c7ea4row1_col14\" class=\"data row1 col14\" >0</td>\n",
       "                        <td id=\"T_30fa79f6_f4d8_11e9_bfba_780cb82c7ea4row1_col15\" class=\"data row1 col15\" >0</td>\n",
       "                        <td id=\"T_30fa79f6_f4d8_11e9_bfba_780cb82c7ea4row1_col16\" class=\"data row1 col16\" >0</td>\n",
       "                        <td id=\"T_30fa79f6_f4d8_11e9_bfba_780cb82c7ea4row1_col17\" class=\"data row1 col17\" >0</td>\n",
       "                        <td id=\"T_30fa79f6_f4d8_11e9_bfba_780cb82c7ea4row1_col18\" class=\"data row1 col18\" >0</td>\n",
       "            </tr>\n",
       "            <tr>\n",
       "                                <td id=\"T_30fa79f6_f4d8_11e9_bfba_780cb82c7ea4row2_col0\" class=\"data row2 col0\" >1</td>\n",
       "                        <td id=\"T_30fa79f6_f4d8_11e9_bfba_780cb82c7ea4row2_col1\" class=\"data row2 col1\" >0.147</td>\n",
       "                        <td id=\"T_30fa79f6_f4d8_11e9_bfba_780cb82c7ea4row2_col2\" class=\"data row2 col2\" >93.97</td>\n",
       "                        <td id=\"T_30fa79f6_f4d8_11e9_bfba_780cb82c7ea4row2_col3\" class=\"data row2 col3\" >10.2674</td>\n",
       "                        <td id=\"T_30fa79f6_f4d8_11e9_bfba_780cb82c7ea4row2_col4\" class=\"data row2 col4\" >8.66</td>\n",
       "                        <td id=\"T_30fa79f6_f4d8_11e9_bfba_780cb82c7ea4row2_col5\" class=\"data row2 col5\" >736</td>\n",
       "                        <td id=\"T_30fa79f6_f4d8_11e9_bfba_780cb82c7ea4row2_col6\" class=\"data row2 col6\" >6928.96</td>\n",
       "                        <td id=\"T_30fa79f6_f4d8_11e9_bfba_780cb82c7ea4row2_col7\" class=\"data row2 col7\" >14162</td>\n",
       "                        <td id=\"T_30fa79f6_f4d8_11e9_bfba_780cb82c7ea4row2_col8\" class=\"data row2 col8\" >47</td>\n",
       "                        <td id=\"T_30fa79f6_f4d8_11e9_bfba_780cb82c7ea4row2_col9\" class=\"data row2 col9\" >0</td>\n",
       "                        <td id=\"T_30fa79f6_f4d8_11e9_bfba_780cb82c7ea4row2_col10\" class=\"data row2 col10\" >0</td>\n",
       "                        <td id=\"T_30fa79f6_f4d8_11e9_bfba_780cb82c7ea4row2_col11\" class=\"data row2 col11\" >0</td>\n",
       "                        <td id=\"T_30fa79f6_f4d8_11e9_bfba_780cb82c7ea4row2_col12\" class=\"data row2 col12\" >0</td>\n",
       "                        <td id=\"T_30fa79f6_f4d8_11e9_bfba_780cb82c7ea4row2_col13\" class=\"data row2 col13\" >0</td>\n",
       "                        <td id=\"T_30fa79f6_f4d8_11e9_bfba_780cb82c7ea4row2_col14\" class=\"data row2 col14\" >0</td>\n",
       "                        <td id=\"T_30fa79f6_f4d8_11e9_bfba_780cb82c7ea4row2_col15\" class=\"data row2 col15\" >0</td>\n",
       "                        <td id=\"T_30fa79f6_f4d8_11e9_bfba_780cb82c7ea4row2_col16\" class=\"data row2 col16\" >0</td>\n",
       "                        <td id=\"T_30fa79f6_f4d8_11e9_bfba_780cb82c7ea4row2_col17\" class=\"data row2 col17\" >0</td>\n",
       "                        <td id=\"T_30fa79f6_f4d8_11e9_bfba_780cb82c7ea4row2_col18\" class=\"data row2 col18\" >0</td>\n",
       "            </tr>\n",
       "            <tr>\n",
       "                                <td id=\"T_30fa79f6_f4d8_11e9_bfba_780cb82c7ea4row3_col0\" class=\"data row3 col0\" >1</td>\n",
       "                        <td id=\"T_30fa79f6_f4d8_11e9_bfba_780cb82c7ea4row3_col1\" class=\"data row3 col1\" >0.179</td>\n",
       "                        <td id=\"T_30fa79f6_f4d8_11e9_bfba_780cb82c7ea4row3_col2\" class=\"data row3 col2\" >312.77</td>\n",
       "                        <td id=\"T_30fa79f6_f4d8_11e9_bfba_780cb82c7ea4row3_col3\" class=\"data row3 col3\" >10.7652</td>\n",
       "                        <td id=\"T_30fa79f6_f4d8_11e9_bfba_780cb82c7ea4row3_col4\" class=\"data row3 col4\" >-0.11</td>\n",
       "                        <td id=\"T_30fa79f6_f4d8_11e9_bfba_780cb82c7ea4row3_col5\" class=\"data row3 col5\" >780</td>\n",
       "                        <td id=\"T_30fa79f6_f4d8_11e9_bfba_780cb82c7ea4row3_col6\" class=\"data row3 col6\" >6571.36</td>\n",
       "                        <td id=\"T_30fa79f6_f4d8_11e9_bfba_780cb82c7ea4row3_col7\" class=\"data row3 col7\" >2995</td>\n",
       "                        <td id=\"T_30fa79f6_f4d8_11e9_bfba_780cb82c7ea4row3_col8\" class=\"data row3 col8\" >10</td>\n",
       "                        <td id=\"T_30fa79f6_f4d8_11e9_bfba_780cb82c7ea4row3_col9\" class=\"data row3 col9\" >0</td>\n",
       "                        <td id=\"T_30fa79f6_f4d8_11e9_bfba_780cb82c7ea4row3_col10\" class=\"data row3 col10\" >0</td>\n",
       "                        <td id=\"T_30fa79f6_f4d8_11e9_bfba_780cb82c7ea4row3_col11\" class=\"data row3 col11\" >0</td>\n",
       "                        <td id=\"T_30fa79f6_f4d8_11e9_bfba_780cb82c7ea4row3_col12\" class=\"data row3 col12\" >0</td>\n",
       "                        <td id=\"T_30fa79f6_f4d8_11e9_bfba_780cb82c7ea4row3_col13\" class=\"data row3 col13\" >1</td>\n",
       "                        <td id=\"T_30fa79f6_f4d8_11e9_bfba_780cb82c7ea4row3_col14\" class=\"data row3 col14\" >0</td>\n",
       "                        <td id=\"T_30fa79f6_f4d8_11e9_bfba_780cb82c7ea4row3_col15\" class=\"data row3 col15\" >0</td>\n",
       "                        <td id=\"T_30fa79f6_f4d8_11e9_bfba_780cb82c7ea4row3_col16\" class=\"data row3 col16\" >0</td>\n",
       "                        <td id=\"T_30fa79f6_f4d8_11e9_bfba_780cb82c7ea4row3_col17\" class=\"data row3 col17\" >0</td>\n",
       "                        <td id=\"T_30fa79f6_f4d8_11e9_bfba_780cb82c7ea4row3_col18\" class=\"data row3 col18\" >0</td>\n",
       "            </tr>\n",
       "            <tr>\n",
       "                                <td id=\"T_30fa79f6_f4d8_11e9_bfba_780cb82c7ea4row4_col0\" class=\"data row4 col0\" >1</td>\n",
       "                        <td id=\"T_30fa79f6_f4d8_11e9_bfba_780cb82c7ea4row4_col1\" class=\"data row4 col1\" >0.087</td>\n",
       "                        <td id=\"T_30fa79f6_f4d8_11e9_bfba_780cb82c7ea4row4_col2\" class=\"data row4 col2\" >256.34</td>\n",
       "                        <td id=\"T_30fa79f6_f4d8_11e9_bfba_780cb82c7ea4row4_col3\" class=\"data row4 col3\" >10.0662</td>\n",
       "                        <td id=\"T_30fa79f6_f4d8_11e9_bfba_780cb82c7ea4row4_col4\" class=\"data row4 col4\" >14.27</td>\n",
       "                        <td id=\"T_30fa79f6_f4d8_11e9_bfba_780cb82c7ea4row4_col5\" class=\"data row4 col5\" >757</td>\n",
       "                        <td id=\"T_30fa79f6_f4d8_11e9_bfba_780cb82c7ea4row4_col6\" class=\"data row4 col6\" >9301.01</td>\n",
       "                        <td id=\"T_30fa79f6_f4d8_11e9_bfba_780cb82c7ea4row4_col7\" class=\"data row4 col7\" >24141</td>\n",
       "                        <td id=\"T_30fa79f6_f4d8_11e9_bfba_780cb82c7ea4row4_col8\" class=\"data row4 col8\" >49</td>\n",
       "                        <td id=\"T_30fa79f6_f4d8_11e9_bfba_780cb82c7ea4row4_col9\" class=\"data row4 col9\" >0</td>\n",
       "                        <td id=\"T_30fa79f6_f4d8_11e9_bfba_780cb82c7ea4row4_col10\" class=\"data row4 col10\" >0</td>\n",
       "                        <td id=\"T_30fa79f6_f4d8_11e9_bfba_780cb82c7ea4row4_col11\" class=\"data row4 col11\" >0</td>\n",
       "                        <td id=\"T_30fa79f6_f4d8_11e9_bfba_780cb82c7ea4row4_col12\" class=\"data row4 col12\" >0</td>\n",
       "                        <td id=\"T_30fa79f6_f4d8_11e9_bfba_780cb82c7ea4row4_col13\" class=\"data row4 col13\" >1</td>\n",
       "                        <td id=\"T_30fa79f6_f4d8_11e9_bfba_780cb82c7ea4row4_col14\" class=\"data row4 col14\" >0</td>\n",
       "                        <td id=\"T_30fa79f6_f4d8_11e9_bfba_780cb82c7ea4row4_col15\" class=\"data row4 col15\" >0</td>\n",
       "                        <td id=\"T_30fa79f6_f4d8_11e9_bfba_780cb82c7ea4row4_col16\" class=\"data row4 col16\" >0</td>\n",
       "                        <td id=\"T_30fa79f6_f4d8_11e9_bfba_780cb82c7ea4row4_col17\" class=\"data row4 col17\" >0</td>\n",
       "                        <td id=\"T_30fa79f6_f4d8_11e9_bfba_780cb82c7ea4row4_col18\" class=\"data row4 col18\" >0</td>\n",
       "            </tr>\n",
       "    </tbody></table>"
      ],
      "text/plain": [
       "<pandas.io.formats.style.Styler at 0x222fae37fd0>"
      ]
     },
     "execution_count": 22,
     "metadata": {},
     "output_type": "execute_result"
    }
   ],
   "source": [
    "new_df['not.fully.paid']=Predict\n",
    "new_df.head().style.hide_index()"
   ]
  },
  {
   "cell_type": "code",
   "execution_count": 21,
   "metadata": {},
   "outputs": [
    {
     "data": {
      "text/plain": [
       "Text(0.5,1,'FICO Plot for various loan payments')"
      ]
     },
     "execution_count": 21,
     "metadata": {},
     "output_type": "execute_result"
    },
    {
     "data": {
      "image/png": "[encoded data removed]",
      "text/plain": [
       "<Figure size 864x432 with 1 Axes>"
      ]
     },
     "metadata": {
      "needs_background": "light"
     },
     "output_type": "display_data"
    }
   ],
   "source": [
    "fig, ax = plt.subplots(nrows=1, ncols=1, figsize=(12, 6), sharex=False)\n",
    "ax.hist(new_df[new_df['not.fully.paid']==0]['fico'],bins=30,alpha=0.6,label='Not Fully Paid=0',color='Red')\n",
    "ax.hist(new_df[new_df['not.fully.paid']==1]['fico'],bins=30,alpha=0.6,label='Not Fully Paid=1',color='Green')\n",
    "ax.legend(loc='upper left')\n",
    "ax.set_xlabel('FICO')\n",
    "#ax.set_ylim([0, 900])\n",
    "plt.xlabel('FICO')\n",
    "ax.set_title('FICO Plot for various loan payments')"
   ]
  }
 ],
 "metadata": {
  "anaconda-cloud": {},
  "kernelspec": {
   "display_name": "Python 3",
   "language": "python",
   "name": "python3"
  },
  "language_info": {
   "codemirror_mode": {
    "name": "ipython",
    "version": 3
   },
   "file_extension": ".py",
   "mimetype": "text/x-python",
   "name": "python",
   "nbconvert_exporter": "python",
   "pygments_lexer": "ipython3",
   "version": "3.7.1"
  }
 },
 "nbformat": 4,
 "nbformat_minor": 1
}
