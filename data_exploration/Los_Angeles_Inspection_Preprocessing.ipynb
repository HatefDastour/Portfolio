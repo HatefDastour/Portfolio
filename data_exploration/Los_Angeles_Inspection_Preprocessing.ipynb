{
 "cells": [
  {
   "cell_type": "code",
   "execution_count": 2,
   "metadata": {},
   "outputs": [],
   "source": [
    "# Required Packages\n",
    "import pandas as pd\n",
    "from datetime import datetime\n",
    "import numpy as np\n",
    "\n",
    "import warnings\n",
    "warnings.filterwarnings(\"ignore\")"
   ]
  },
  {
   "cell_type": "markdown",
   "metadata": {},
   "source": [
    "#### Table of Contents\n",
    "\n",
    "* [Los Angeles County Restaurant and Market Violations and Inspections](#Los-Angeles-County-Restaurant-and-Market-Violations-and-Inspections)\n",
    "    * [Violations Dataset](#Violations-Dataset)\n",
    "    * [Inspection Result Dataset](#Inspection-Result-Dataset)\n",
    "* [Preprocessing](#Preprocessing)\n",
    "    * [Inspection Dataset](#Inspection-Dataset)\n",
    "    * [Creating a new Dataset](#Creating-a-new-Dataset)\n",
    "        * [Reindexing](#Reindexing)\n",
    "    * [Creating a Dictionary](#Creating-a-Dictionary)"
   ]
  },
  {
   "cell_type": "markdown",
   "metadata": {},
   "source": [
    "# Los Angeles County Restaurant and Market Violations and Inspections\n",
    "\n",
    "\n",
    "In this article, we use a dataset contains Environmental Health Violations for Restaurants and Markets in Los Angeles County. This dataset can be found [here](https://data.lacounty.gov/Health/LOS-ANGELES-COUNTY-RESTAURANT-AND-MARKET-VIOLATION/8jyd-4pv9) and [here](https://data.lacounty.gov/Health/LOS-ANGELES-COUNTY-RESTAURANT-AND-MARKET-INSPECTIO/6ni6-h5kp).\n",
    "\n",
    "Los Angeles County Environmental Health is responsible for checking food violations for all unincorporated areas and 85 of the 88 cities in the County. This dataset does not include Pasadena, Long Beach or Vernon (each has its own city health department)."
   ]
  },
  {
   "cell_type": "markdown",
   "metadata": {},
   "source": [
    "## Violations Dataset\n",
    "\n",
    "Each row represents one health code violation. All rows with the same Serial Number are part of the same inspection. The Serial Number is the primary key to review the inspection grade (Inspection Result dataset)"
   ]
  },
  {
   "cell_type": "code",
   "execution_count": 3,
   "metadata": {},
   "outputs": [
    {
     "data": {
      "text/html": [
       "<style  type=\"text/css\" >\n",
       "</style><table id=\"T_a6b1da48_fbe3_11e9_83f3_780cb82c7ea4\" ><thead>    <tr>        <th class=\"col_heading level0 col0\" >SERIAL NUMBER</th>        <th class=\"col_heading level0 col1\" >VIOLATION  STATUS</th>        <th class=\"col_heading level0 col2\" >VIOLATION CODE</th>        <th class=\"col_heading level0 col3\" >VIOLATION DESCRIPTION</th>        <th class=\"col_heading level0 col4\" >POINTS</th>    </tr></thead><tbody>\n",
       "                <tr>\n",
       "                                <td id=\"T_a6b1da48_fbe3_11e9_83f3_780cb82c7ea4row0_col0\" class=\"data row0 col0\" >DAN0UK2OK</td>\n",
       "                        <td id=\"T_a6b1da48_fbe3_11e9_83f3_780cb82c7ea4row0_col1\" class=\"data row0 col1\" >OUT OF COMPLIANCE</td>\n",
       "                        <td id=\"T_a6b1da48_fbe3_11e9_83f3_780cb82c7ea4row0_col2\" class=\"data row0 col2\" >F043</td>\n",
       "                        <td id=\"T_a6b1da48_fbe3_11e9_83f3_780cb82c7ea4row0_col3\" class=\"data row0 col3\" ># 43. Premises; personal/cleaning items; vermin-proofing</td>\n",
       "                        <td id=\"T_a6b1da48_fbe3_11e9_83f3_780cb82c7ea4row0_col4\" class=\"data row0 col4\" >1</td>\n",
       "            </tr>\n",
       "            <tr>\n",
       "                                <td id=\"T_a6b1da48_fbe3_11e9_83f3_780cb82c7ea4row1_col0\" class=\"data row1 col0\" >DAN0UK2OK</td>\n",
       "                        <td id=\"T_a6b1da48_fbe3_11e9_83f3_780cb82c7ea4row1_col1\" class=\"data row1 col1\" >OUT OF COMPLIANCE</td>\n",
       "                        <td id=\"T_a6b1da48_fbe3_11e9_83f3_780cb82c7ea4row1_col2\" class=\"data row1 col2\" >F053</td>\n",
       "                        <td id=\"T_a6b1da48_fbe3_11e9_83f3_780cb82c7ea4row1_col3\" class=\"data row1 col3\" ># 21a. Hot Water Available</td>\n",
       "                        <td id=\"T_a6b1da48_fbe3_11e9_83f3_780cb82c7ea4row1_col4\" class=\"data row1 col4\" >2</td>\n",
       "            </tr>\n",
       "            <tr>\n",
       "                                <td id=\"T_a6b1da48_fbe3_11e9_83f3_780cb82c7ea4row2_col0\" class=\"data row2 col0\" >DAN0UK2OK</td>\n",
       "                        <td id=\"T_a6b1da48_fbe3_11e9_83f3_780cb82c7ea4row2_col1\" class=\"data row2 col1\" >OUT OF COMPLIANCE</td>\n",
       "                        <td id=\"T_a6b1da48_fbe3_11e9_83f3_780cb82c7ea4row2_col2\" class=\"data row2 col2\" >F044</td>\n",
       "                        <td id=\"T_a6b1da48_fbe3_11e9_83f3_780cb82c7ea4row2_col3\" class=\"data row2 col3\" ># 44. Floors, walls and ceilings: properly built, maintained in good repair and clean</td>\n",
       "                        <td id=\"T_a6b1da48_fbe3_11e9_83f3_780cb82c7ea4row2_col4\" class=\"data row2 col4\" >1</td>\n",
       "            </tr>\n",
       "            <tr>\n",
       "                                <td id=\"T_a6b1da48_fbe3_11e9_83f3_780cb82c7ea4row3_col0\" class=\"data row3 col0\" >DAN0UK2OK</td>\n",
       "                        <td id=\"T_a6b1da48_fbe3_11e9_83f3_780cb82c7ea4row3_col1\" class=\"data row3 col1\" >OUT OF COMPLIANCE</td>\n",
       "                        <td id=\"T_a6b1da48_fbe3_11e9_83f3_780cb82c7ea4row3_col2\" class=\"data row3 col2\" >F038</td>\n",
       "                        <td id=\"T_a6b1da48_fbe3_11e9_83f3_780cb82c7ea4row3_col3\" class=\"data row3 col3\" ># 38. Thermometers provided and accurate</td>\n",
       "                        <td id=\"T_a6b1da48_fbe3_11e9_83f3_780cb82c7ea4row3_col4\" class=\"data row3 col4\" >1</td>\n",
       "            </tr>\n",
       "            <tr>\n",
       "                                <td id=\"T_a6b1da48_fbe3_11e9_83f3_780cb82c7ea4row4_col0\" class=\"data row4 col0\" >DA0817361</td>\n",
       "                        <td id=\"T_a6b1da48_fbe3_11e9_83f3_780cb82c7ea4row4_col1\" class=\"data row4 col1\" >OUT OF COMPLIANCE</td>\n",
       "                        <td id=\"T_a6b1da48_fbe3_11e9_83f3_780cb82c7ea4row4_col2\" class=\"data row4 col2\" >F038</td>\n",
       "                        <td id=\"T_a6b1da48_fbe3_11e9_83f3_780cb82c7ea4row4_col3\" class=\"data row4 col3\" ># 38. Thermometers provided and accurate</td>\n",
       "                        <td id=\"T_a6b1da48_fbe3_11e9_83f3_780cb82c7ea4row4_col4\" class=\"data row4 col4\" >1</td>\n",
       "            </tr>\n",
       "    </tbody></table>"
      ],
      "text/plain": [
       "<pandas.io.formats.style.Styler at 0x149860619c8>"
      ]
     },
     "execution_count": 3,
     "metadata": {},
     "output_type": "execute_result"
    }
   ],
   "source": [
    "Violations_df = pd.read_csv('Data/LOS_ANGELES_COUNTY_RESTAURANT_AND_MARKET_VIOLATIONS.csv')\n",
    "Violations_df.head().style.hide_index()"
   ]
  },
  {
   "cell_type": "markdown",
   "metadata": {},
   "source": [
    "## Inspection Result Dataset\n",
    "\n",
    "Each row represents one inspection result. The Serial Number is the primary key to access/review the violations (Violations Dataset) associated with a particular inspection."
   ]
  },
  {
   "cell_type": "code",
   "execution_count": 4,
   "metadata": {},
   "outputs": [
    {
     "data": {
      "text/html": [
       "<style  type=\"text/css\" >\n",
       "</style><table id=\"T_a7d4599e_fbe3_11e9_b563_780cb82c7ea4\" ><thead>    <tr>        <th class=\"col_heading level0 col0\" >ACTIVITY DATE</th>        <th class=\"col_heading level0 col1\" >OWNER ID</th>        <th class=\"col_heading level0 col2\" >OWNER NAME</th>        <th class=\"col_heading level0 col3\" >FACILITY ID</th>        <th class=\"col_heading level0 col4\" >FACILITY NAME</th>        <th class=\"col_heading level0 col5\" >RECORD ID</th>        <th class=\"col_heading level0 col6\" >PROGRAM NAME</th>        <th class=\"col_heading level0 col7\" >PROGRAM STATUS</th>        <th class=\"col_heading level0 col8\" >PROGRAM ELEMENT (PE)</th>        <th class=\"col_heading level0 col9\" >PE DESCRIPTION</th>        <th class=\"col_heading level0 col10\" >FACILITY ADDRESS</th>        <th class=\"col_heading level0 col11\" >FACILITY CITY</th>        <th class=\"col_heading level0 col12\" >FACILITY STATE</th>        <th class=\"col_heading level0 col13\" >FACILITY ZIP</th>        <th class=\"col_heading level0 col14\" >SERVICE CODE</th>        <th class=\"col_heading level0 col15\" >SERVICE DESCRIPTION</th>        <th class=\"col_heading level0 col16\" >SCORE</th>        <th class=\"col_heading level0 col17\" >GRADE</th>        <th class=\"col_heading level0 col18\" >SERIAL NUMBER</th>        <th class=\"col_heading level0 col19\" >EMPLOYEE ID</th>        <th class=\"col_heading level0 col20\" >Location</th>    </tr></thead><tbody>\n",
       "                <tr>\n",
       "                                <td id=\"T_a7d4599e_fbe3_11e9_b563_780cb82c7ea4row0_col0\" class=\"data row0 col0\" >04/12/2017</td>\n",
       "                        <td id=\"T_a7d4599e_fbe3_11e9_b563_780cb82c7ea4row0_col1\" class=\"data row0 col1\" >OW0003351</td>\n",
       "                        <td id=\"T_a7d4599e_fbe3_11e9_b563_780cb82c7ea4row0_col2\" class=\"data row0 col2\" >AUDREY KIM BRIDAL COLLECTION</td>\n",
       "                        <td id=\"T_a7d4599e_fbe3_11e9_b563_780cb82c7ea4row0_col3\" class=\"data row0 col3\" >FA0010275</td>\n",
       "                        <td id=\"T_a7d4599e_fbe3_11e9_b563_780cb82c7ea4row0_col4\" class=\"data row0 col4\" >BOBA YA</td>\n",
       "                        <td id=\"T_a7d4599e_fbe3_11e9_b563_780cb82c7ea4row0_col5\" class=\"data row0 col5\" >PR0029878</td>\n",
       "                        <td id=\"T_a7d4599e_fbe3_11e9_b563_780cb82c7ea4row0_col6\" class=\"data row0 col6\" >BOBA YA</td>\n",
       "                        <td id=\"T_a7d4599e_fbe3_11e9_b563_780cb82c7ea4row0_col7\" class=\"data row0 col7\" >ACTIVE</td>\n",
       "                        <td id=\"T_a7d4599e_fbe3_11e9_b563_780cb82c7ea4row0_col8\" class=\"data row0 col8\" >1631</td>\n",
       "                        <td id=\"T_a7d4599e_fbe3_11e9_b563_780cb82c7ea4row0_col9\" class=\"data row0 col9\" >RESTAURANT (0-30) SEATS MODERATE RISK</td>\n",
       "                        <td id=\"T_a7d4599e_fbe3_11e9_b563_780cb82c7ea4row0_col10\" class=\"data row0 col10\" >14748 S BEACH BLVD</td>\n",
       "                        <td id=\"T_a7d4599e_fbe3_11e9_b563_780cb82c7ea4row0_col11\" class=\"data row0 col11\" >LA MIRADA</td>\n",
       "                        <td id=\"T_a7d4599e_fbe3_11e9_b563_780cb82c7ea4row0_col12\" class=\"data row0 col12\" >CA</td>\n",
       "                        <td id=\"T_a7d4599e_fbe3_11e9_b563_780cb82c7ea4row0_col13\" class=\"data row0 col13\" >90638</td>\n",
       "                        <td id=\"T_a7d4599e_fbe3_11e9_b563_780cb82c7ea4row0_col14\" class=\"data row0 col14\" >1</td>\n",
       "                        <td id=\"T_a7d4599e_fbe3_11e9_b563_780cb82c7ea4row0_col15\" class=\"data row0 col15\" >ROUTINE INSPECTION</td>\n",
       "                        <td id=\"T_a7d4599e_fbe3_11e9_b563_780cb82c7ea4row0_col16\" class=\"data row0 col16\" >95</td>\n",
       "                        <td id=\"T_a7d4599e_fbe3_11e9_b563_780cb82c7ea4row0_col17\" class=\"data row0 col17\" >A</td>\n",
       "                        <td id=\"T_a7d4599e_fbe3_11e9_b563_780cb82c7ea4row0_col18\" class=\"data row0 col18\" >DAH2Z9080</td>\n",
       "                        <td id=\"T_a7d4599e_fbe3_11e9_b563_780cb82c7ea4row0_col19\" class=\"data row0 col19\" >EE0000744</td>\n",
       "                        <td id=\"T_a7d4599e_fbe3_11e9_b563_780cb82c7ea4row0_col20\" class=\"data row0 col20\" >nan</td>\n",
       "            </tr>\n",
       "            <tr>\n",
       "                                <td id=\"T_a7d4599e_fbe3_11e9_b563_780cb82c7ea4row1_col0\" class=\"data row1 col0\" >04/12/2017</td>\n",
       "                        <td id=\"T_a7d4599e_fbe3_11e9_b563_780cb82c7ea4row1_col1\" class=\"data row1 col1\" >OW0181132</td>\n",
       "                        <td id=\"T_a7d4599e_fbe3_11e9_b563_780cb82c7ea4row1_col2\" class=\"data row1 col2\" >THAI CITY DUARTE INC.</td>\n",
       "                        <td id=\"T_a7d4599e_fbe3_11e9_b563_780cb82c7ea4row1_col3\" class=\"data row1 col3\" >FA0174471</td>\n",
       "                        <td id=\"T_a7d4599e_fbe3_11e9_b563_780cb82c7ea4row1_col4\" class=\"data row1 col4\" >THAI CITY RESTAURANT</td>\n",
       "                        <td id=\"T_a7d4599e_fbe3_11e9_b563_780cb82c7ea4row1_col5\" class=\"data row1 col5\" >PR0167479</td>\n",
       "                        <td id=\"T_a7d4599e_fbe3_11e9_b563_780cb82c7ea4row1_col6\" class=\"data row1 col6\" >THAI CITY RESTAURANT</td>\n",
       "                        <td id=\"T_a7d4599e_fbe3_11e9_b563_780cb82c7ea4row1_col7\" class=\"data row1 col7\" >ACTIVE</td>\n",
       "                        <td id=\"T_a7d4599e_fbe3_11e9_b563_780cb82c7ea4row1_col8\" class=\"data row1 col8\" >1635</td>\n",
       "                        <td id=\"T_a7d4599e_fbe3_11e9_b563_780cb82c7ea4row1_col9\" class=\"data row1 col9\" >RESTAURANT (31-60) SEATS HIGH RISK</td>\n",
       "                        <td id=\"T_a7d4599e_fbe3_11e9_b563_780cb82c7ea4row1_col10\" class=\"data row1 col10\" >2414 E HUNTINGTON DR</td>\n",
       "                        <td id=\"T_a7d4599e_fbe3_11e9_b563_780cb82c7ea4row1_col11\" class=\"data row1 col11\" >DUARTE</td>\n",
       "                        <td id=\"T_a7d4599e_fbe3_11e9_b563_780cb82c7ea4row1_col12\" class=\"data row1 col12\" >CA</td>\n",
       "                        <td id=\"T_a7d4599e_fbe3_11e9_b563_780cb82c7ea4row1_col13\" class=\"data row1 col13\" >91010</td>\n",
       "                        <td id=\"T_a7d4599e_fbe3_11e9_b563_780cb82c7ea4row1_col14\" class=\"data row1 col14\" >1</td>\n",
       "                        <td id=\"T_a7d4599e_fbe3_11e9_b563_780cb82c7ea4row1_col15\" class=\"data row1 col15\" >ROUTINE INSPECTION</td>\n",
       "                        <td id=\"T_a7d4599e_fbe3_11e9_b563_780cb82c7ea4row1_col16\" class=\"data row1 col16\" >90</td>\n",
       "                        <td id=\"T_a7d4599e_fbe3_11e9_b563_780cb82c7ea4row1_col17\" class=\"data row1 col17\" >A</td>\n",
       "                        <td id=\"T_a7d4599e_fbe3_11e9_b563_780cb82c7ea4row1_col18\" class=\"data row1 col18\" >DACH7Y18F</td>\n",
       "                        <td id=\"T_a7d4599e_fbe3_11e9_b563_780cb82c7ea4row1_col19\" class=\"data row1 col19\" >EE0000120</td>\n",
       "                        <td id=\"T_a7d4599e_fbe3_11e9_b563_780cb82c7ea4row1_col20\" class=\"data row1 col20\" >nan</td>\n",
       "            </tr>\n",
       "            <tr>\n",
       "                                <td id=\"T_a7d4599e_fbe3_11e9_b563_780cb82c7ea4row2_col0\" class=\"data row2 col0\" >04/13/2017</td>\n",
       "                        <td id=\"T_a7d4599e_fbe3_11e9_b563_780cb82c7ea4row2_col1\" class=\"data row2 col1\" >OW0125502</td>\n",
       "                        <td id=\"T_a7d4599e_fbe3_11e9_b563_780cb82c7ea4row2_col2\" class=\"data row2 col2\" >SWEE KOK CHER</td>\n",
       "                        <td id=\"T_a7d4599e_fbe3_11e9_b563_780cb82c7ea4row2_col3\" class=\"data row2 col3\" >FA0160544</td>\n",
       "                        <td id=\"T_a7d4599e_fbe3_11e9_b563_780cb82c7ea4row2_col4\" class=\"data row2 col4\" >SUSHI FIRE</td>\n",
       "                        <td id=\"T_a7d4599e_fbe3_11e9_b563_780cb82c7ea4row2_col5\" class=\"data row2 col5\" >PR0148634</td>\n",
       "                        <td id=\"T_a7d4599e_fbe3_11e9_b563_780cb82c7ea4row2_col6\" class=\"data row2 col6\" >SUSHI FIRE</td>\n",
       "                        <td id=\"T_a7d4599e_fbe3_11e9_b563_780cb82c7ea4row2_col7\" class=\"data row2 col7\" >ACTIVE</td>\n",
       "                        <td id=\"T_a7d4599e_fbe3_11e9_b563_780cb82c7ea4row2_col8\" class=\"data row2 col8\" >1635</td>\n",
       "                        <td id=\"T_a7d4599e_fbe3_11e9_b563_780cb82c7ea4row2_col9\" class=\"data row2 col9\" >RESTAURANT (31-60) SEATS HIGH RISK</td>\n",
       "                        <td id=\"T_a7d4599e_fbe3_11e9_b563_780cb82c7ea4row2_col10\" class=\"data row2 col10\" >1723 E HUNTINGTON DR</td>\n",
       "                        <td id=\"T_a7d4599e_fbe3_11e9_b563_780cb82c7ea4row2_col11\" class=\"data row2 col11\" >DUARTE</td>\n",
       "                        <td id=\"T_a7d4599e_fbe3_11e9_b563_780cb82c7ea4row2_col12\" class=\"data row2 col12\" >CA</td>\n",
       "                        <td id=\"T_a7d4599e_fbe3_11e9_b563_780cb82c7ea4row2_col13\" class=\"data row2 col13\" >91010</td>\n",
       "                        <td id=\"T_a7d4599e_fbe3_11e9_b563_780cb82c7ea4row2_col14\" class=\"data row2 col14\" >1</td>\n",
       "                        <td id=\"T_a7d4599e_fbe3_11e9_b563_780cb82c7ea4row2_col15\" class=\"data row2 col15\" >ROUTINE INSPECTION</td>\n",
       "                        <td id=\"T_a7d4599e_fbe3_11e9_b563_780cb82c7ea4row2_col16\" class=\"data row2 col16\" >90</td>\n",
       "                        <td id=\"T_a7d4599e_fbe3_11e9_b563_780cb82c7ea4row2_col17\" class=\"data row2 col17\" >A</td>\n",
       "                        <td id=\"T_a7d4599e_fbe3_11e9_b563_780cb82c7ea4row2_col18\" class=\"data row2 col18\" >DAEOLNF0Z</td>\n",
       "                        <td id=\"T_a7d4599e_fbe3_11e9_b563_780cb82c7ea4row2_col19\" class=\"data row2 col19\" >EE0000120</td>\n",
       "                        <td id=\"T_a7d4599e_fbe3_11e9_b563_780cb82c7ea4row2_col20\" class=\"data row2 col20\" >nan</td>\n",
       "            </tr>\n",
       "            <tr>\n",
       "                                <td id=\"T_a7d4599e_fbe3_11e9_b563_780cb82c7ea4row3_col0\" class=\"data row3 col0\" >04/13/2017</td>\n",
       "                        <td id=\"T_a7d4599e_fbe3_11e9_b563_780cb82c7ea4row3_col1\" class=\"data row3 col1\" >OW0010326</td>\n",
       "                        <td id=\"T_a7d4599e_fbe3_11e9_b563_780cb82c7ea4row3_col2\" class=\"data row3 col2\" >DOS MONTANAS LLC</td>\n",
       "                        <td id=\"T_a7d4599e_fbe3_11e9_b563_780cb82c7ea4row3_col3\" class=\"data row3 col3\" >FA0012454</td>\n",
       "                        <td id=\"T_a7d4599e_fbe3_11e9_b563_780cb82c7ea4row3_col4\" class=\"data row3 col4\" >TIPSY WINGS</td>\n",
       "                        <td id=\"T_a7d4599e_fbe3_11e9_b563_780cb82c7ea4row3_col5\" class=\"data row3 col5\" >PR0018288</td>\n",
       "                        <td id=\"T_a7d4599e_fbe3_11e9_b563_780cb82c7ea4row3_col6\" class=\"data row3 col6\" >TIPSY WINGS</td>\n",
       "                        <td id=\"T_a7d4599e_fbe3_11e9_b563_780cb82c7ea4row3_col7\" class=\"data row3 col7\" >INACTIVE</td>\n",
       "                        <td id=\"T_a7d4599e_fbe3_11e9_b563_780cb82c7ea4row3_col8\" class=\"data row3 col8\" >1638</td>\n",
       "                        <td id=\"T_a7d4599e_fbe3_11e9_b563_780cb82c7ea4row3_col9\" class=\"data row3 col9\" >RESTAURANT (61-150) SEATS HIGH RISK</td>\n",
       "                        <td id=\"T_a7d4599e_fbe3_11e9_b563_780cb82c7ea4row3_col10\" class=\"data row3 col10\" >11672 RAMONA BLVD</td>\n",
       "                        <td id=\"T_a7d4599e_fbe3_11e9_b563_780cb82c7ea4row3_col11\" class=\"data row3 col11\" >EL MONTE</td>\n",
       "                        <td id=\"T_a7d4599e_fbe3_11e9_b563_780cb82c7ea4row3_col12\" class=\"data row3 col12\" >CA</td>\n",
       "                        <td id=\"T_a7d4599e_fbe3_11e9_b563_780cb82c7ea4row3_col13\" class=\"data row3 col13\" >91732</td>\n",
       "                        <td id=\"T_a7d4599e_fbe3_11e9_b563_780cb82c7ea4row3_col14\" class=\"data row3 col14\" >1</td>\n",
       "                        <td id=\"T_a7d4599e_fbe3_11e9_b563_780cb82c7ea4row3_col15\" class=\"data row3 col15\" >ROUTINE INSPECTION</td>\n",
       "                        <td id=\"T_a7d4599e_fbe3_11e9_b563_780cb82c7ea4row3_col16\" class=\"data row3 col16\" >95</td>\n",
       "                        <td id=\"T_a7d4599e_fbe3_11e9_b563_780cb82c7ea4row3_col17\" class=\"data row3 col17\" >A</td>\n",
       "                        <td id=\"T_a7d4599e_fbe3_11e9_b563_780cb82c7ea4row3_col18\" class=\"data row3 col18\" >DABTUPVHJ</td>\n",
       "                        <td id=\"T_a7d4599e_fbe3_11e9_b563_780cb82c7ea4row3_col19\" class=\"data row3 col19\" >EE0000188</td>\n",
       "                        <td id=\"T_a7d4599e_fbe3_11e9_b563_780cb82c7ea4row3_col20\" class=\"data row3 col20\" >POINT (-118.020082 34.07441)</td>\n",
       "            </tr>\n",
       "            <tr>\n",
       "                                <td id=\"T_a7d4599e_fbe3_11e9_b563_780cb82c7ea4row4_col0\" class=\"data row4 col0\" >04/19/2017</td>\n",
       "                        <td id=\"T_a7d4599e_fbe3_11e9_b563_780cb82c7ea4row4_col1\" class=\"data row4 col1\" >OW0107342</td>\n",
       "                        <td id=\"T_a7d4599e_fbe3_11e9_b563_780cb82c7ea4row4_col2\" class=\"data row4 col2\" >MARIELENA RODRIGUEZ</td>\n",
       "                        <td id=\"T_a7d4599e_fbe3_11e9_b563_780cb82c7ea4row4_col3\" class=\"data row4 col3\" >FA0144532</td>\n",
       "                        <td id=\"T_a7d4599e_fbe3_11e9_b563_780cb82c7ea4row4_col4\" class=\"data row4 col4\" >ARI'S SHOP</td>\n",
       "                        <td id=\"T_a7d4599e_fbe3_11e9_b563_780cb82c7ea4row4_col5\" class=\"data row4 col5\" >PR0130618</td>\n",
       "                        <td id=\"T_a7d4599e_fbe3_11e9_b563_780cb82c7ea4row4_col6\" class=\"data row4 col6\" >ARI'S SHOP</td>\n",
       "                        <td id=\"T_a7d4599e_fbe3_11e9_b563_780cb82c7ea4row4_col7\" class=\"data row4 col7\" >ACTIVE</td>\n",
       "                        <td id=\"T_a7d4599e_fbe3_11e9_b563_780cb82c7ea4row4_col8\" class=\"data row4 col8\" >1610</td>\n",
       "                        <td id=\"T_a7d4599e_fbe3_11e9_b563_780cb82c7ea4row4_col9\" class=\"data row4 col9\" >FOOD MKT RETAIL (1-1,999 SF) LOW RISK</td>\n",
       "                        <td id=\"T_a7d4599e_fbe3_11e9_b563_780cb82c7ea4row4_col10\" class=\"data row4 col10\" >OLVERA ST E3</td>\n",
       "                        <td id=\"T_a7d4599e_fbe3_11e9_b563_780cb82c7ea4row4_col11\" class=\"data row4 col11\" >LOS ANGELES</td>\n",
       "                        <td id=\"T_a7d4599e_fbe3_11e9_b563_780cb82c7ea4row4_col12\" class=\"data row4 col12\" >CA</td>\n",
       "                        <td id=\"T_a7d4599e_fbe3_11e9_b563_780cb82c7ea4row4_col13\" class=\"data row4 col13\" >90012</td>\n",
       "                        <td id=\"T_a7d4599e_fbe3_11e9_b563_780cb82c7ea4row4_col14\" class=\"data row4 col14\" >1</td>\n",
       "                        <td id=\"T_a7d4599e_fbe3_11e9_b563_780cb82c7ea4row4_col15\" class=\"data row4 col15\" >ROUTINE INSPECTION</td>\n",
       "                        <td id=\"T_a7d4599e_fbe3_11e9_b563_780cb82c7ea4row4_col16\" class=\"data row4 col16\" >100</td>\n",
       "                        <td id=\"T_a7d4599e_fbe3_11e9_b563_780cb82c7ea4row4_col17\" class=\"data row4 col17\" >A</td>\n",
       "                        <td id=\"T_a7d4599e_fbe3_11e9_b563_780cb82c7ea4row4_col18\" class=\"data row4 col18\" >DAL4G6OJH</td>\n",
       "                        <td id=\"T_a7d4599e_fbe3_11e9_b563_780cb82c7ea4row4_col19\" class=\"data row4 col19\" >EE0001058</td>\n",
       "                        <td id=\"T_a7d4599e_fbe3_11e9_b563_780cb82c7ea4row4_col20\" class=\"data row4 col20\" >nan</td>\n",
       "            </tr>\n",
       "    </tbody></table>"
      ],
      "text/plain": [
       "<pandas.io.formats.style.Styler at 0x14987251ec8>"
      ]
     },
     "execution_count": 4,
     "metadata": {},
     "output_type": "execute_result"
    }
   ],
   "source": [
    "Inspections_df = pd.read_csv('Data/LOS_ANGELES_COUNTY_RESTAURANT_AND_MARKET_INSPECTIONS.csv')\n",
    "Inspections_df.head().style.hide_index()"
   ]
  },
  {
   "cell_type": "markdown",
   "metadata": {},
   "source": [
    "# Preprocessing\n",
    "\n",
    "## Inspection Dataset"
   ]
  },
  {
   "cell_type": "markdown",
   "metadata": {},
   "source": [
    "Converting the activty date into datetime format."
   ]
  },
  {
   "cell_type": "code",
   "execution_count": 5,
   "metadata": {},
   "outputs": [
    {
     "data": {
      "text/html": [
       "<div>\n",
       "<style scoped>\n",
       "    .dataframe tbody tr th:only-of-type {\n",
       "        vertical-align: middle;\n",
       "    }\n",
       "\n",
       "    .dataframe tbody tr th {\n",
       "        vertical-align: top;\n",
       "    }\n",
       "\n",
       "    .dataframe thead th {\n",
       "        text-align: right;\n",
       "    }\n",
       "</style>\n",
       "<table border=\"1\" class=\"dataframe\">\n",
       "  <thead>\n",
       "    <tr style=\"text-align: right;\">\n",
       "      <th></th>\n",
       "      <th>ACTIVITY DATE</th>\n",
       "      <th>OWNER ID</th>\n",
       "      <th>OWNER NAME</th>\n",
       "      <th>FACILITY ID</th>\n",
       "      <th>FACILITY NAME</th>\n",
       "      <th>RECORD ID</th>\n",
       "      <th>PROGRAM NAME</th>\n",
       "      <th>PROGRAM STATUS</th>\n",
       "      <th>PROGRAM ELEMENT (PE)</th>\n",
       "      <th>PE DESCRIPTION</th>\n",
       "      <th>...</th>\n",
       "      <th>FACILITY CITY</th>\n",
       "      <th>FACILITY STATE</th>\n",
       "      <th>FACILITY ZIP</th>\n",
       "      <th>SERVICE CODE</th>\n",
       "      <th>SERVICE DESCRIPTION</th>\n",
       "      <th>SCORE</th>\n",
       "      <th>GRADE</th>\n",
       "      <th>SERIAL NUMBER</th>\n",
       "      <th>EMPLOYEE ID</th>\n",
       "      <th>Location</th>\n",
       "    </tr>\n",
       "  </thead>\n",
       "  <tbody>\n",
       "    <tr>\n",
       "      <td>4</td>\n",
       "      <td>2017-04-19</td>\n",
       "      <td>OW0107342</td>\n",
       "      <td>MARIELENA RODRIGUEZ</td>\n",
       "      <td>FA0144532</td>\n",
       "      <td>ARI'S SHOP</td>\n",
       "      <td>PR0130618</td>\n",
       "      <td>ARI'S SHOP</td>\n",
       "      <td>ACTIVE</td>\n",
       "      <td>1610</td>\n",
       "      <td>FOOD MKT RETAIL (1-1,999 SF) LOW RISK</td>\n",
       "      <td>...</td>\n",
       "      <td>LOS ANGELES</td>\n",
       "      <td>CA</td>\n",
       "      <td>90012</td>\n",
       "      <td>1</td>\n",
       "      <td>ROUTINE INSPECTION</td>\n",
       "      <td>100</td>\n",
       "      <td>A</td>\n",
       "      <td>DAL4G6OJH</td>\n",
       "      <td>EE0001058</td>\n",
       "      <td>NaN</td>\n",
       "    </tr>\n",
       "    <tr>\n",
       "      <td>2</td>\n",
       "      <td>2017-04-13</td>\n",
       "      <td>OW0125502</td>\n",
       "      <td>SWEE KOK CHER</td>\n",
       "      <td>FA0160544</td>\n",
       "      <td>SUSHI FIRE</td>\n",
       "      <td>PR0148634</td>\n",
       "      <td>SUSHI FIRE</td>\n",
       "      <td>ACTIVE</td>\n",
       "      <td>1635</td>\n",
       "      <td>RESTAURANT (31-60) SEATS HIGH RISK</td>\n",
       "      <td>...</td>\n",
       "      <td>DUARTE</td>\n",
       "      <td>CA</td>\n",
       "      <td>91010</td>\n",
       "      <td>1</td>\n",
       "      <td>ROUTINE INSPECTION</td>\n",
       "      <td>90</td>\n",
       "      <td>A</td>\n",
       "      <td>DAEOLNF0Z</td>\n",
       "      <td>EE0000120</td>\n",
       "      <td>NaN</td>\n",
       "    </tr>\n",
       "    <tr>\n",
       "      <td>3</td>\n",
       "      <td>2017-04-13</td>\n",
       "      <td>OW0010326</td>\n",
       "      <td>DOS MONTANAS LLC</td>\n",
       "      <td>FA0012454</td>\n",
       "      <td>TIPSY WINGS</td>\n",
       "      <td>PR0018288</td>\n",
       "      <td>TIPSY WINGS</td>\n",
       "      <td>INACTIVE</td>\n",
       "      <td>1638</td>\n",
       "      <td>RESTAURANT (61-150) SEATS HIGH RISK</td>\n",
       "      <td>...</td>\n",
       "      <td>EL MONTE</td>\n",
       "      <td>CA</td>\n",
       "      <td>91732</td>\n",
       "      <td>1</td>\n",
       "      <td>ROUTINE INSPECTION</td>\n",
       "      <td>95</td>\n",
       "      <td>A</td>\n",
       "      <td>DABTUPVHJ</td>\n",
       "      <td>EE0000188</td>\n",
       "      <td>POINT (-118.020082 34.07441)</td>\n",
       "    </tr>\n",
       "    <tr>\n",
       "      <td>0</td>\n",
       "      <td>2017-04-12</td>\n",
       "      <td>OW0003351</td>\n",
       "      <td>AUDREY KIM BRIDAL COLLECTION</td>\n",
       "      <td>FA0010275</td>\n",
       "      <td>BOBA YA</td>\n",
       "      <td>PR0029878</td>\n",
       "      <td>BOBA YA</td>\n",
       "      <td>ACTIVE</td>\n",
       "      <td>1631</td>\n",
       "      <td>RESTAURANT (0-30) SEATS MODERATE RISK</td>\n",
       "      <td>...</td>\n",
       "      <td>LA MIRADA</td>\n",
       "      <td>CA</td>\n",
       "      <td>90638</td>\n",
       "      <td>1</td>\n",
       "      <td>ROUTINE INSPECTION</td>\n",
       "      <td>95</td>\n",
       "      <td>A</td>\n",
       "      <td>DAH2Z9080</td>\n",
       "      <td>EE0000744</td>\n",
       "      <td>NaN</td>\n",
       "    </tr>\n",
       "    <tr>\n",
       "      <td>1</td>\n",
       "      <td>2017-04-12</td>\n",
       "      <td>OW0181132</td>\n",
       "      <td>THAI CITY DUARTE INC.</td>\n",
       "      <td>FA0174471</td>\n",
       "      <td>THAI CITY RESTAURANT</td>\n",
       "      <td>PR0167479</td>\n",
       "      <td>THAI CITY RESTAURANT</td>\n",
       "      <td>ACTIVE</td>\n",
       "      <td>1635</td>\n",
       "      <td>RESTAURANT (31-60) SEATS HIGH RISK</td>\n",
       "      <td>...</td>\n",
       "      <td>DUARTE</td>\n",
       "      <td>CA</td>\n",
       "      <td>91010</td>\n",
       "      <td>1</td>\n",
       "      <td>ROUTINE INSPECTION</td>\n",
       "      <td>90</td>\n",
       "      <td>A</td>\n",
       "      <td>DACH7Y18F</td>\n",
       "      <td>EE0000120</td>\n",
       "      <td>NaN</td>\n",
       "    </tr>\n",
       "  </tbody>\n",
       "</table>\n",
       "<p>5 rows × 21 columns</p>\n",
       "</div>"
      ],
      "text/plain": [
       "  ACTIVITY DATE   OWNER ID                    OWNER NAME FACILITY ID  \\\n",
       "4    2017-04-19  OW0107342           MARIELENA RODRIGUEZ   FA0144532   \n",
       "2    2017-04-13  OW0125502                 SWEE KOK CHER   FA0160544   \n",
       "3    2017-04-13  OW0010326              DOS MONTANAS LLC   FA0012454   \n",
       "0    2017-04-12  OW0003351  AUDREY KIM BRIDAL COLLECTION   FA0010275   \n",
       "1    2017-04-12  OW0181132         THAI CITY DUARTE INC.   FA0174471   \n",
       "\n",
       "          FACILITY NAME  RECORD ID          PROGRAM NAME PROGRAM STATUS  \\\n",
       "4            ARI'S SHOP  PR0130618            ARI'S SHOP         ACTIVE   \n",
       "2            SUSHI FIRE  PR0148634            SUSHI FIRE         ACTIVE   \n",
       "3           TIPSY WINGS  PR0018288           TIPSY WINGS       INACTIVE   \n",
       "0               BOBA YA  PR0029878               BOBA YA         ACTIVE   \n",
       "1  THAI CITY RESTAURANT  PR0167479  THAI CITY RESTAURANT         ACTIVE   \n",
       "\n",
       "   PROGRAM ELEMENT (PE)                         PE DESCRIPTION  ...  \\\n",
       "4                  1610  FOOD MKT RETAIL (1-1,999 SF) LOW RISK  ...   \n",
       "2                  1635     RESTAURANT (31-60) SEATS HIGH RISK  ...   \n",
       "3                  1638    RESTAURANT (61-150) SEATS HIGH RISK  ...   \n",
       "0                  1631  RESTAURANT (0-30) SEATS MODERATE RISK  ...   \n",
       "1                  1635     RESTAURANT (31-60) SEATS HIGH RISK  ...   \n",
       "\n",
       "  FACILITY CITY FACILITY STATE FACILITY ZIP SERVICE CODE  SERVICE DESCRIPTION  \\\n",
       "4   LOS ANGELES             CA        90012            1   ROUTINE INSPECTION   \n",
       "2        DUARTE             CA        91010            1   ROUTINE INSPECTION   \n",
       "3      EL MONTE             CA        91732            1   ROUTINE INSPECTION   \n",
       "0     LA MIRADA             CA        90638            1   ROUTINE INSPECTION   \n",
       "1        DUARTE             CA        91010            1   ROUTINE INSPECTION   \n",
       "\n",
       "  SCORE  GRADE SERIAL NUMBER EMPLOYEE ID                      Location  \n",
       "4   100      A     DAL4G6OJH   EE0001058                           NaN  \n",
       "2    90      A     DAEOLNF0Z   EE0000120                           NaN  \n",
       "3    95      A     DABTUPVHJ   EE0000188  POINT (-118.020082 34.07441)  \n",
       "0    95      A     DAH2Z9080   EE0000744                           NaN  \n",
       "1    90      A     DACH7Y18F   EE0000120                           NaN  \n",
       "\n",
       "[5 rows x 21 columns]"
      ]
     },
     "execution_count": 5,
     "metadata": {},
     "output_type": "execute_result"
    }
   ],
   "source": [
    "Inspections_df['ACTIVITY DATE'] = pd.to_datetime(Inspections_df['ACTIVITY DATE'], format='%m/%d/%Y')\n",
    "Inspections_df.head().sort_values('ACTIVITY DATE', ascending=False)"
   ]
  },
  {
   "cell_type": "markdown",
   "metadata": {},
   "source": [
    "Moreover, note that"
   ]
  },
  {
   "cell_type": "code",
   "execution_count": 6,
   "metadata": {},
   "outputs": [
    {
     "data": {
      "text/plain": [
       "array(['90638', '91010', '91732', ..., '91601-2437', '90012-2314',\n",
       "       '90650-3506'], dtype=object)"
      ]
     },
     "execution_count": 6,
     "metadata": {},
     "output_type": "execute_result"
    }
   ],
   "source": [
    "Inspections_df['FACILITY ZIP'].unique()"
   ]
  },
  {
   "cell_type": "markdown",
   "metadata": {},
   "source": [
    "We would like to keep only the first five digits of each zip code (right before the dashed line). Thus,"
   ]
  },
  {
   "cell_type": "code",
   "execution_count": 7,
   "metadata": {},
   "outputs": [],
   "source": [
    "Inspections_df['FACILITY ZIP'] = Inspections_df['FACILITY ZIP'].apply(lambda x: x[:5])"
   ]
  },
  {
   "cell_type": "markdown",
   "metadata": {},
   "source": [
    "## Creating a new Dataset\n",
    "\n",
    "Moreover, note that the two databases only have a mutual column"
   ]
  },
  {
   "cell_type": "code",
   "execution_count": 8,
   "metadata": {},
   "outputs": [
    {
     "data": {
      "text/plain": [
       "['SERIAL NUMBER']"
      ]
     },
     "execution_count": 8,
     "metadata": {},
     "output_type": "execute_result"
    }
   ],
   "source": [
    "list(Inspections_df.columns & Violations_df.columns)"
   ]
  },
  {
   "cell_type": "code",
   "execution_count": 9,
   "metadata": {
    "scrolled": false
   },
   "outputs": [
    {
     "data": {
      "text/html": [
       "<style  type=\"text/css\" >\n",
       "</style><table id=\"T_a95a4b10_fbe3_11e9_9e14_780cb82c7ea4\" ><thead>    <tr>        <th class=\"col_heading level0 col0\" >ACTIVITY DATE</th>        <th class=\"col_heading level0 col1\" >OWNER ID</th>        <th class=\"col_heading level0 col2\" >OWNER NAME</th>        <th class=\"col_heading level0 col3\" >FACILITY ID</th>        <th class=\"col_heading level0 col4\" >FACILITY NAME</th>        <th class=\"col_heading level0 col5\" >RECORD ID</th>        <th class=\"col_heading level0 col6\" >PROGRAM NAME</th>        <th class=\"col_heading level0 col7\" >PROGRAM STATUS</th>        <th class=\"col_heading level0 col8\" >PROGRAM ELEMENT (PE)</th>        <th class=\"col_heading level0 col9\" >PE DESCRIPTION</th>        <th class=\"col_heading level0 col10\" >FACILITY ADDRESS</th>        <th class=\"col_heading level0 col11\" >FACILITY CITY</th>        <th class=\"col_heading level0 col12\" >FACILITY STATE</th>        <th class=\"col_heading level0 col13\" >FACILITY ZIP</th>        <th class=\"col_heading level0 col14\" >SERVICE CODE</th>        <th class=\"col_heading level0 col15\" >SERVICE DESCRIPTION</th>        <th class=\"col_heading level0 col16\" >SCORE</th>        <th class=\"col_heading level0 col17\" >GRADE</th>        <th class=\"col_heading level0 col18\" >SERIAL NUMBER</th>        <th class=\"col_heading level0 col19\" >EMPLOYEE ID</th>        <th class=\"col_heading level0 col20\" >Location</th>        <th class=\"col_heading level0 col21\" >VIOLATION  STATUS</th>        <th class=\"col_heading level0 col22\" >VIOLATION CODE</th>        <th class=\"col_heading level0 col23\" >VIOLATION DESCRIPTION</th>        <th class=\"col_heading level0 col24\" >POINTS</th>    </tr></thead><tbody>\n",
       "                <tr>\n",
       "                                <td id=\"T_a95a4b10_fbe3_11e9_9e14_780cb82c7ea4row0_col0\" class=\"data row0 col0\" >2017-04-12 00:00:00</td>\n",
       "                        <td id=\"T_a95a4b10_fbe3_11e9_9e14_780cb82c7ea4row0_col1\" class=\"data row0 col1\" >OW0003351</td>\n",
       "                        <td id=\"T_a95a4b10_fbe3_11e9_9e14_780cb82c7ea4row0_col2\" class=\"data row0 col2\" >AUDREY KIM BRIDAL COLLECTION</td>\n",
       "                        <td id=\"T_a95a4b10_fbe3_11e9_9e14_780cb82c7ea4row0_col3\" class=\"data row0 col3\" >FA0010275</td>\n",
       "                        <td id=\"T_a95a4b10_fbe3_11e9_9e14_780cb82c7ea4row0_col4\" class=\"data row0 col4\" >BOBA YA</td>\n",
       "                        <td id=\"T_a95a4b10_fbe3_11e9_9e14_780cb82c7ea4row0_col5\" class=\"data row0 col5\" >PR0029878</td>\n",
       "                        <td id=\"T_a95a4b10_fbe3_11e9_9e14_780cb82c7ea4row0_col6\" class=\"data row0 col6\" >BOBA YA</td>\n",
       "                        <td id=\"T_a95a4b10_fbe3_11e9_9e14_780cb82c7ea4row0_col7\" class=\"data row0 col7\" >ACTIVE</td>\n",
       "                        <td id=\"T_a95a4b10_fbe3_11e9_9e14_780cb82c7ea4row0_col8\" class=\"data row0 col8\" >1631</td>\n",
       "                        <td id=\"T_a95a4b10_fbe3_11e9_9e14_780cb82c7ea4row0_col9\" class=\"data row0 col9\" >RESTAURANT (0-30) SEATS MODERATE RISK</td>\n",
       "                        <td id=\"T_a95a4b10_fbe3_11e9_9e14_780cb82c7ea4row0_col10\" class=\"data row0 col10\" >14748 S BEACH BLVD</td>\n",
       "                        <td id=\"T_a95a4b10_fbe3_11e9_9e14_780cb82c7ea4row0_col11\" class=\"data row0 col11\" >LA MIRADA</td>\n",
       "                        <td id=\"T_a95a4b10_fbe3_11e9_9e14_780cb82c7ea4row0_col12\" class=\"data row0 col12\" >CA</td>\n",
       "                        <td id=\"T_a95a4b10_fbe3_11e9_9e14_780cb82c7ea4row0_col13\" class=\"data row0 col13\" >90638</td>\n",
       "                        <td id=\"T_a95a4b10_fbe3_11e9_9e14_780cb82c7ea4row0_col14\" class=\"data row0 col14\" >1</td>\n",
       "                        <td id=\"T_a95a4b10_fbe3_11e9_9e14_780cb82c7ea4row0_col15\" class=\"data row0 col15\" >ROUTINE INSPECTION</td>\n",
       "                        <td id=\"T_a95a4b10_fbe3_11e9_9e14_780cb82c7ea4row0_col16\" class=\"data row0 col16\" >95</td>\n",
       "                        <td id=\"T_a95a4b10_fbe3_11e9_9e14_780cb82c7ea4row0_col17\" class=\"data row0 col17\" >A</td>\n",
       "                        <td id=\"T_a95a4b10_fbe3_11e9_9e14_780cb82c7ea4row0_col18\" class=\"data row0 col18\" >DAH2Z9080</td>\n",
       "                        <td id=\"T_a95a4b10_fbe3_11e9_9e14_780cb82c7ea4row0_col19\" class=\"data row0 col19\" >EE0000744</td>\n",
       "                        <td id=\"T_a95a4b10_fbe3_11e9_9e14_780cb82c7ea4row0_col20\" class=\"data row0 col20\" >nan</td>\n",
       "                        <td id=\"T_a95a4b10_fbe3_11e9_9e14_780cb82c7ea4row0_col21\" class=\"data row0 col21\" >OUT OF COMPLIANCE</td>\n",
       "                        <td id=\"T_a95a4b10_fbe3_11e9_9e14_780cb82c7ea4row0_col22\" class=\"data row0 col22\" >F033</td>\n",
       "                        <td id=\"T_a95a4b10_fbe3_11e9_9e14_780cb82c7ea4row0_col23\" class=\"data row0 col23\" ># 33. Nonfood-contact surfaces clean and in good repair</td>\n",
       "                        <td id=\"T_a95a4b10_fbe3_11e9_9e14_780cb82c7ea4row0_col24\" class=\"data row0 col24\" >1</td>\n",
       "            </tr>\n",
       "            <tr>\n",
       "                                <td id=\"T_a95a4b10_fbe3_11e9_9e14_780cb82c7ea4row1_col0\" class=\"data row1 col0\" >2017-04-12 00:00:00</td>\n",
       "                        <td id=\"T_a95a4b10_fbe3_11e9_9e14_780cb82c7ea4row1_col1\" class=\"data row1 col1\" >OW0003351</td>\n",
       "                        <td id=\"T_a95a4b10_fbe3_11e9_9e14_780cb82c7ea4row1_col2\" class=\"data row1 col2\" >AUDREY KIM BRIDAL COLLECTION</td>\n",
       "                        <td id=\"T_a95a4b10_fbe3_11e9_9e14_780cb82c7ea4row1_col3\" class=\"data row1 col3\" >FA0010275</td>\n",
       "                        <td id=\"T_a95a4b10_fbe3_11e9_9e14_780cb82c7ea4row1_col4\" class=\"data row1 col4\" >BOBA YA</td>\n",
       "                        <td id=\"T_a95a4b10_fbe3_11e9_9e14_780cb82c7ea4row1_col5\" class=\"data row1 col5\" >PR0029878</td>\n",
       "                        <td id=\"T_a95a4b10_fbe3_11e9_9e14_780cb82c7ea4row1_col6\" class=\"data row1 col6\" >BOBA YA</td>\n",
       "                        <td id=\"T_a95a4b10_fbe3_11e9_9e14_780cb82c7ea4row1_col7\" class=\"data row1 col7\" >ACTIVE</td>\n",
       "                        <td id=\"T_a95a4b10_fbe3_11e9_9e14_780cb82c7ea4row1_col8\" class=\"data row1 col8\" >1631</td>\n",
       "                        <td id=\"T_a95a4b10_fbe3_11e9_9e14_780cb82c7ea4row1_col9\" class=\"data row1 col9\" >RESTAURANT (0-30) SEATS MODERATE RISK</td>\n",
       "                        <td id=\"T_a95a4b10_fbe3_11e9_9e14_780cb82c7ea4row1_col10\" class=\"data row1 col10\" >14748 S BEACH BLVD</td>\n",
       "                        <td id=\"T_a95a4b10_fbe3_11e9_9e14_780cb82c7ea4row1_col11\" class=\"data row1 col11\" >LA MIRADA</td>\n",
       "                        <td id=\"T_a95a4b10_fbe3_11e9_9e14_780cb82c7ea4row1_col12\" class=\"data row1 col12\" >CA</td>\n",
       "                        <td id=\"T_a95a4b10_fbe3_11e9_9e14_780cb82c7ea4row1_col13\" class=\"data row1 col13\" >90638</td>\n",
       "                        <td id=\"T_a95a4b10_fbe3_11e9_9e14_780cb82c7ea4row1_col14\" class=\"data row1 col14\" >1</td>\n",
       "                        <td id=\"T_a95a4b10_fbe3_11e9_9e14_780cb82c7ea4row1_col15\" class=\"data row1 col15\" >ROUTINE INSPECTION</td>\n",
       "                        <td id=\"T_a95a4b10_fbe3_11e9_9e14_780cb82c7ea4row1_col16\" class=\"data row1 col16\" >95</td>\n",
       "                        <td id=\"T_a95a4b10_fbe3_11e9_9e14_780cb82c7ea4row1_col17\" class=\"data row1 col17\" >A</td>\n",
       "                        <td id=\"T_a95a4b10_fbe3_11e9_9e14_780cb82c7ea4row1_col18\" class=\"data row1 col18\" >DAH2Z9080</td>\n",
       "                        <td id=\"T_a95a4b10_fbe3_11e9_9e14_780cb82c7ea4row1_col19\" class=\"data row1 col19\" >EE0000744</td>\n",
       "                        <td id=\"T_a95a4b10_fbe3_11e9_9e14_780cb82c7ea4row1_col20\" class=\"data row1 col20\" >nan</td>\n",
       "                        <td id=\"T_a95a4b10_fbe3_11e9_9e14_780cb82c7ea4row1_col21\" class=\"data row1 col21\" >OUT OF COMPLIANCE</td>\n",
       "                        <td id=\"T_a95a4b10_fbe3_11e9_9e14_780cb82c7ea4row1_col22\" class=\"data row1 col22\" >F044</td>\n",
       "                        <td id=\"T_a95a4b10_fbe3_11e9_9e14_780cb82c7ea4row1_col23\" class=\"data row1 col23\" ># 44. Floors, walls and ceilings: properly built, maintained in good repair and clean</td>\n",
       "                        <td id=\"T_a95a4b10_fbe3_11e9_9e14_780cb82c7ea4row1_col24\" class=\"data row1 col24\" >1</td>\n",
       "            </tr>\n",
       "            <tr>\n",
       "                                <td id=\"T_a95a4b10_fbe3_11e9_9e14_780cb82c7ea4row2_col0\" class=\"data row2 col0\" >2017-04-12 00:00:00</td>\n",
       "                        <td id=\"T_a95a4b10_fbe3_11e9_9e14_780cb82c7ea4row2_col1\" class=\"data row2 col1\" >OW0003351</td>\n",
       "                        <td id=\"T_a95a4b10_fbe3_11e9_9e14_780cb82c7ea4row2_col2\" class=\"data row2 col2\" >AUDREY KIM BRIDAL COLLECTION</td>\n",
       "                        <td id=\"T_a95a4b10_fbe3_11e9_9e14_780cb82c7ea4row2_col3\" class=\"data row2 col3\" >FA0010275</td>\n",
       "                        <td id=\"T_a95a4b10_fbe3_11e9_9e14_780cb82c7ea4row2_col4\" class=\"data row2 col4\" >BOBA YA</td>\n",
       "                        <td id=\"T_a95a4b10_fbe3_11e9_9e14_780cb82c7ea4row2_col5\" class=\"data row2 col5\" >PR0029878</td>\n",
       "                        <td id=\"T_a95a4b10_fbe3_11e9_9e14_780cb82c7ea4row2_col6\" class=\"data row2 col6\" >BOBA YA</td>\n",
       "                        <td id=\"T_a95a4b10_fbe3_11e9_9e14_780cb82c7ea4row2_col7\" class=\"data row2 col7\" >ACTIVE</td>\n",
       "                        <td id=\"T_a95a4b10_fbe3_11e9_9e14_780cb82c7ea4row2_col8\" class=\"data row2 col8\" >1631</td>\n",
       "                        <td id=\"T_a95a4b10_fbe3_11e9_9e14_780cb82c7ea4row2_col9\" class=\"data row2 col9\" >RESTAURANT (0-30) SEATS MODERATE RISK</td>\n",
       "                        <td id=\"T_a95a4b10_fbe3_11e9_9e14_780cb82c7ea4row2_col10\" class=\"data row2 col10\" >14748 S BEACH BLVD</td>\n",
       "                        <td id=\"T_a95a4b10_fbe3_11e9_9e14_780cb82c7ea4row2_col11\" class=\"data row2 col11\" >LA MIRADA</td>\n",
       "                        <td id=\"T_a95a4b10_fbe3_11e9_9e14_780cb82c7ea4row2_col12\" class=\"data row2 col12\" >CA</td>\n",
       "                        <td id=\"T_a95a4b10_fbe3_11e9_9e14_780cb82c7ea4row2_col13\" class=\"data row2 col13\" >90638</td>\n",
       "                        <td id=\"T_a95a4b10_fbe3_11e9_9e14_780cb82c7ea4row2_col14\" class=\"data row2 col14\" >1</td>\n",
       "                        <td id=\"T_a95a4b10_fbe3_11e9_9e14_780cb82c7ea4row2_col15\" class=\"data row2 col15\" >ROUTINE INSPECTION</td>\n",
       "                        <td id=\"T_a95a4b10_fbe3_11e9_9e14_780cb82c7ea4row2_col16\" class=\"data row2 col16\" >95</td>\n",
       "                        <td id=\"T_a95a4b10_fbe3_11e9_9e14_780cb82c7ea4row2_col17\" class=\"data row2 col17\" >A</td>\n",
       "                        <td id=\"T_a95a4b10_fbe3_11e9_9e14_780cb82c7ea4row2_col18\" class=\"data row2 col18\" >DAH2Z9080</td>\n",
       "                        <td id=\"T_a95a4b10_fbe3_11e9_9e14_780cb82c7ea4row2_col19\" class=\"data row2 col19\" >EE0000744</td>\n",
       "                        <td id=\"T_a95a4b10_fbe3_11e9_9e14_780cb82c7ea4row2_col20\" class=\"data row2 col20\" >nan</td>\n",
       "                        <td id=\"T_a95a4b10_fbe3_11e9_9e14_780cb82c7ea4row2_col21\" class=\"data row2 col21\" >OUT OF COMPLIANCE</td>\n",
       "                        <td id=\"T_a95a4b10_fbe3_11e9_9e14_780cb82c7ea4row2_col22\" class=\"data row2 col22\" >F036</td>\n",
       "                        <td id=\"T_a95a4b10_fbe3_11e9_9e14_780cb82c7ea4row2_col23\" class=\"data row2 col23\" ># 36. Equipment, utensils and linens: storage and use</td>\n",
       "                        <td id=\"T_a95a4b10_fbe3_11e9_9e14_780cb82c7ea4row2_col24\" class=\"data row2 col24\" >1</td>\n",
       "            </tr>\n",
       "            <tr>\n",
       "                                <td id=\"T_a95a4b10_fbe3_11e9_9e14_780cb82c7ea4row3_col0\" class=\"data row3 col0\" >2017-04-12 00:00:00</td>\n",
       "                        <td id=\"T_a95a4b10_fbe3_11e9_9e14_780cb82c7ea4row3_col1\" class=\"data row3 col1\" >OW0003351</td>\n",
       "                        <td id=\"T_a95a4b10_fbe3_11e9_9e14_780cb82c7ea4row3_col2\" class=\"data row3 col2\" >AUDREY KIM BRIDAL COLLECTION</td>\n",
       "                        <td id=\"T_a95a4b10_fbe3_11e9_9e14_780cb82c7ea4row3_col3\" class=\"data row3 col3\" >FA0010275</td>\n",
       "                        <td id=\"T_a95a4b10_fbe3_11e9_9e14_780cb82c7ea4row3_col4\" class=\"data row3 col4\" >BOBA YA</td>\n",
       "                        <td id=\"T_a95a4b10_fbe3_11e9_9e14_780cb82c7ea4row3_col5\" class=\"data row3 col5\" >PR0029878</td>\n",
       "                        <td id=\"T_a95a4b10_fbe3_11e9_9e14_780cb82c7ea4row3_col6\" class=\"data row3 col6\" >BOBA YA</td>\n",
       "                        <td id=\"T_a95a4b10_fbe3_11e9_9e14_780cb82c7ea4row3_col7\" class=\"data row3 col7\" >ACTIVE</td>\n",
       "                        <td id=\"T_a95a4b10_fbe3_11e9_9e14_780cb82c7ea4row3_col8\" class=\"data row3 col8\" >1631</td>\n",
       "                        <td id=\"T_a95a4b10_fbe3_11e9_9e14_780cb82c7ea4row3_col9\" class=\"data row3 col9\" >RESTAURANT (0-30) SEATS MODERATE RISK</td>\n",
       "                        <td id=\"T_a95a4b10_fbe3_11e9_9e14_780cb82c7ea4row3_col10\" class=\"data row3 col10\" >14748 S BEACH BLVD</td>\n",
       "                        <td id=\"T_a95a4b10_fbe3_11e9_9e14_780cb82c7ea4row3_col11\" class=\"data row3 col11\" >LA MIRADA</td>\n",
       "                        <td id=\"T_a95a4b10_fbe3_11e9_9e14_780cb82c7ea4row3_col12\" class=\"data row3 col12\" >CA</td>\n",
       "                        <td id=\"T_a95a4b10_fbe3_11e9_9e14_780cb82c7ea4row3_col13\" class=\"data row3 col13\" >90638</td>\n",
       "                        <td id=\"T_a95a4b10_fbe3_11e9_9e14_780cb82c7ea4row3_col14\" class=\"data row3 col14\" >1</td>\n",
       "                        <td id=\"T_a95a4b10_fbe3_11e9_9e14_780cb82c7ea4row3_col15\" class=\"data row3 col15\" >ROUTINE INSPECTION</td>\n",
       "                        <td id=\"T_a95a4b10_fbe3_11e9_9e14_780cb82c7ea4row3_col16\" class=\"data row3 col16\" >95</td>\n",
       "                        <td id=\"T_a95a4b10_fbe3_11e9_9e14_780cb82c7ea4row3_col17\" class=\"data row3 col17\" >A</td>\n",
       "                        <td id=\"T_a95a4b10_fbe3_11e9_9e14_780cb82c7ea4row3_col18\" class=\"data row3 col18\" >DAH2Z9080</td>\n",
       "                        <td id=\"T_a95a4b10_fbe3_11e9_9e14_780cb82c7ea4row3_col19\" class=\"data row3 col19\" >EE0000744</td>\n",
       "                        <td id=\"T_a95a4b10_fbe3_11e9_9e14_780cb82c7ea4row3_col20\" class=\"data row3 col20\" >nan</td>\n",
       "                        <td id=\"T_a95a4b10_fbe3_11e9_9e14_780cb82c7ea4row3_col21\" class=\"data row3 col21\" >OUT OF COMPLIANCE</td>\n",
       "                        <td id=\"T_a95a4b10_fbe3_11e9_9e14_780cb82c7ea4row3_col22\" class=\"data row3 col22\" >F040</td>\n",
       "                        <td id=\"T_a95a4b10_fbe3_11e9_9e14_780cb82c7ea4row3_col23\" class=\"data row3 col23\" ># 40. Plumbing: Plumbing in good repair, proper backflow devices</td>\n",
       "                        <td id=\"T_a95a4b10_fbe3_11e9_9e14_780cb82c7ea4row3_col24\" class=\"data row3 col24\" >1</td>\n",
       "            </tr>\n",
       "            <tr>\n",
       "                                <td id=\"T_a95a4b10_fbe3_11e9_9e14_780cb82c7ea4row4_col0\" class=\"data row4 col0\" >2017-04-12 00:00:00</td>\n",
       "                        <td id=\"T_a95a4b10_fbe3_11e9_9e14_780cb82c7ea4row4_col1\" class=\"data row4 col1\" >OW0003351</td>\n",
       "                        <td id=\"T_a95a4b10_fbe3_11e9_9e14_780cb82c7ea4row4_col2\" class=\"data row4 col2\" >AUDREY KIM BRIDAL COLLECTION</td>\n",
       "                        <td id=\"T_a95a4b10_fbe3_11e9_9e14_780cb82c7ea4row4_col3\" class=\"data row4 col3\" >FA0010275</td>\n",
       "                        <td id=\"T_a95a4b10_fbe3_11e9_9e14_780cb82c7ea4row4_col4\" class=\"data row4 col4\" >BOBA YA</td>\n",
       "                        <td id=\"T_a95a4b10_fbe3_11e9_9e14_780cb82c7ea4row4_col5\" class=\"data row4 col5\" >PR0029878</td>\n",
       "                        <td id=\"T_a95a4b10_fbe3_11e9_9e14_780cb82c7ea4row4_col6\" class=\"data row4 col6\" >BOBA YA</td>\n",
       "                        <td id=\"T_a95a4b10_fbe3_11e9_9e14_780cb82c7ea4row4_col7\" class=\"data row4 col7\" >ACTIVE</td>\n",
       "                        <td id=\"T_a95a4b10_fbe3_11e9_9e14_780cb82c7ea4row4_col8\" class=\"data row4 col8\" >1631</td>\n",
       "                        <td id=\"T_a95a4b10_fbe3_11e9_9e14_780cb82c7ea4row4_col9\" class=\"data row4 col9\" >RESTAURANT (0-30) SEATS MODERATE RISK</td>\n",
       "                        <td id=\"T_a95a4b10_fbe3_11e9_9e14_780cb82c7ea4row4_col10\" class=\"data row4 col10\" >14748 S BEACH BLVD</td>\n",
       "                        <td id=\"T_a95a4b10_fbe3_11e9_9e14_780cb82c7ea4row4_col11\" class=\"data row4 col11\" >LA MIRADA</td>\n",
       "                        <td id=\"T_a95a4b10_fbe3_11e9_9e14_780cb82c7ea4row4_col12\" class=\"data row4 col12\" >CA</td>\n",
       "                        <td id=\"T_a95a4b10_fbe3_11e9_9e14_780cb82c7ea4row4_col13\" class=\"data row4 col13\" >90638</td>\n",
       "                        <td id=\"T_a95a4b10_fbe3_11e9_9e14_780cb82c7ea4row4_col14\" class=\"data row4 col14\" >1</td>\n",
       "                        <td id=\"T_a95a4b10_fbe3_11e9_9e14_780cb82c7ea4row4_col15\" class=\"data row4 col15\" >ROUTINE INSPECTION</td>\n",
       "                        <td id=\"T_a95a4b10_fbe3_11e9_9e14_780cb82c7ea4row4_col16\" class=\"data row4 col16\" >95</td>\n",
       "                        <td id=\"T_a95a4b10_fbe3_11e9_9e14_780cb82c7ea4row4_col17\" class=\"data row4 col17\" >A</td>\n",
       "                        <td id=\"T_a95a4b10_fbe3_11e9_9e14_780cb82c7ea4row4_col18\" class=\"data row4 col18\" >DAH2Z9080</td>\n",
       "                        <td id=\"T_a95a4b10_fbe3_11e9_9e14_780cb82c7ea4row4_col19\" class=\"data row4 col19\" >EE0000744</td>\n",
       "                        <td id=\"T_a95a4b10_fbe3_11e9_9e14_780cb82c7ea4row4_col20\" class=\"data row4 col20\" >nan</td>\n",
       "                        <td id=\"T_a95a4b10_fbe3_11e9_9e14_780cb82c7ea4row4_col21\" class=\"data row4 col21\" >OUT OF COMPLIANCE</td>\n",
       "                        <td id=\"T_a95a4b10_fbe3_11e9_9e14_780cb82c7ea4row4_col22\" class=\"data row4 col22\" >F043</td>\n",
       "                        <td id=\"T_a95a4b10_fbe3_11e9_9e14_780cb82c7ea4row4_col23\" class=\"data row4 col23\" ># 43. Premises; personal/cleaning items; vermin-proofing</td>\n",
       "                        <td id=\"T_a95a4b10_fbe3_11e9_9e14_780cb82c7ea4row4_col24\" class=\"data row4 col24\" >1</td>\n",
       "            </tr>\n",
       "    </tbody></table>"
      ],
      "text/plain": [
       "<pandas.io.formats.style.Styler at 0x1498863ec08>"
      ]
     },
     "execution_count": 9,
     "metadata": {},
     "output_type": "execute_result"
    }
   ],
   "source": [
    "Data=pd.merge(Inspections_df, Violations_df, on='SERIAL NUMBER', how='right')\n",
    "Data.head().style.hide_index()"
   ]
  },
  {
   "cell_type": "markdown",
   "metadata": {},
   "source": [
    "Moreover, note that"
   ]
  },
  {
   "cell_type": "code",
   "execution_count": 10,
   "metadata": {},
   "outputs": [
    {
     "data": {
      "text/plain": [
       "array(['RESTAURANT (0-30) SEATS MODERATE RISK',\n",
       "       'RESTAURANT (31-60) SEATS HIGH RISK',\n",
       "       'RESTAURANT (61-150) SEATS HIGH RISK',\n",
       "       'RESTAURANT (151 + ) SEATS HIGH RISK',\n",
       "       'FOOD MKT RETAIL (1-1,999 SF) LOW RISK',\n",
       "       'FOOD MKT RETAIL (2,000+ SF) LOW RISK',\n",
       "       'RESTAURANT (61-150) SEATS MODERATE RISK',\n",
       "       'RESTAURANT (0-30) SEATS LOW RISK',\n",
       "       'RESTAURANT (0-30) SEATS HIGH RISK',\n",
       "       'RESTAURANT (151 + ) SEATS MODERATE RISK',\n",
       "       'RESTAURANT (31-60) SEATS MODERATE RISK',\n",
       "       'FOOD MKT RETAIL (2,000+ SF) HIGH RISK',\n",
       "       'FOOD MKT RETAIL (1-1,999 SF) HIGH RISK',\n",
       "       'FOOD MKT RETAIL (2,000+ SF) MODERATE RISK',\n",
       "       'FOOD MKT RETAIL (1-1,999 SF) MODERATE RISK',\n",
       "       'RESTAURANT (31-60) SEATS LOW RISK',\n",
       "       'INTERIM HOUSING FF (2,000-4,999) SQ. FT.',\n",
       "       'LIC HTH CARE FOOD FAC (10,000+ SF) HIGH RISK',\n",
       "       'RESTAURANT (151 + ) SEATS LOW RISK',\n",
       "       'RESTAURANT (61-150) SEATS LOW RISK',\n",
       "       'INTERIM HOUSING FF (1-1,999) SQ. FT.',\n",
       "       'LIC HTH CARE FOOD FAC (4000-9999 SF)HIGH RISK',\n",
       "       'CATERER (1,000-1,999 SQ. FT.)',\n",
       "       'SWAP MEET PREPACKAGED FOOD STAND', 'PRIVATE SCHOOL CAFETERIA',\n",
       "       'FOOD PROCESSING WHOLESALE (2,000-5,999 SF)',\n",
       "       'CATERER (0-999 SQ. FT.)',\n",
       "       'FOOD PROCESSING WHOLESALE (1-1,999 SQ. FT.)',\n",
       "       'LIC HTH CARE FOOD FAC (2000-3999 SF)HIGH RISK',\n",
       "       'LIC HTH CARE FOOD FAC (0-1999 SF) HIGH RISK',\n",
       "       'FOOD VEHICLE COMMISSARY (0-10)',\n",
       "       'FOOD PROCESSING WHOLESALE (6,000 + SQ. FT.)',\n",
       "       'FOOD WAREHOUSE (1-4,999) SQ. FT.', 'FOOD MARKET WHOLESALE',\n",
       "       'LIC HTH CARE FOOD FAC (0-1999 SF) MOD RISK', nan], dtype=object)"
      ]
     },
     "execution_count": 10,
     "metadata": {},
     "output_type": "execute_result"
    }
   ],
   "source": [
    "Data['PE DESCRIPTION'].unique()"
   ]
  },
  {
   "cell_type": "markdown",
   "metadata": {},
   "source": [
    "This column can be split into three columns."
   ]
  },
  {
   "cell_type": "code",
   "execution_count": 11,
   "metadata": {
    "scrolled": true
   },
   "outputs": [],
   "source": [
    "temp = Data['PE DESCRIPTION'].str.split(\"(\", n = 2, expand = True)\n",
    "temp1 = temp.loc[:,1].str.split(\")\", n = 2, expand = True)"
   ]
  },
  {
   "cell_type": "code",
   "execution_count": 12,
   "metadata": {},
   "outputs": [],
   "source": [
    "Data['PE_Type']=temp.loc[:,0]\n",
    "del temp"
   ]
  },
  {
   "cell_type": "markdown",
   "metadata": {},
   "source": [
    "As for types, we have the following types:"
   ]
  },
  {
   "cell_type": "code",
   "execution_count": 13,
   "metadata": {},
   "outputs": [
    {
     "data": {
      "text/plain": [
       "array(['RESTAURANT ', 'FOOD MKT RETAIL ', 'INTERIM HOUSING FF ',\n",
       "       'LIC HTH CARE FOOD FAC ', 'CATERER ',\n",
       "       'SWAP MEET PREPACKAGED FOOD STAND', 'PRIVATE SCHOOL CAFETERIA',\n",
       "       'FOOD PROCESSING WHOLESALE ', 'FOOD VEHICLE COMMISSARY ',\n",
       "       'FOOD WAREHOUSE ', 'FOOD MARKET WHOLESALE', nan], dtype=object)"
      ]
     },
     "execution_count": 13,
     "metadata": {},
     "output_type": "execute_result"
    }
   ],
   "source": [
    "Data['PE_Type'].unique()"
   ]
  },
  {
   "cell_type": "code",
   "execution_count": 14,
   "metadata": {},
   "outputs": [],
   "source": [
    "Map = {'RESTAURANT ':'Restaurant',\n",
    "       'FOOD MKT RETAIL ':'Food Market Retail',\n",
    "       'INTERIM HOUSING FF ':'Interim Housing FF',\n",
    "       'LIC HTH CARE FOOD FAC ':'LIC HTH Care Food FAC',\n",
    "       'CATERER ':'Caterer',\n",
    "       'SWAP MEET PREPACKAGED FOOD STAND':'Swap Meet Prepackaged Food Stand',\n",
    "       'PRIVATE SCHOOL CAFETERIA':'Private School Cafeteria',\n",
    "       'FOOD PROCESSING WHOLESALE ':'Food Processing Wholesale',\n",
    "       'FOOD VEHICLE COMMISSARY ':'Food Vehicle Commissary',\n",
    "       'FOOD WAREHOUSE ':'Food Warehouse',\n",
    "       'FOOD MARKET WHOLESALE':'Food Market Wholesale'} \n",
    "Data['PE_Type'] = Data['PE_Type'].map(Map)"
   ]
  },
  {
   "cell_type": "code",
   "execution_count": 15,
   "metadata": {},
   "outputs": [],
   "source": [
    "Data['PE_Seats']=temp1.loc[:,0]\n",
    "Data['PE_Risk']=temp1.loc[:,1]\n",
    "del temp1"
   ]
  },
  {
   "cell_type": "markdown",
   "metadata": {},
   "source": [
    "Risk level:"
   ]
  },
  {
   "cell_type": "code",
   "execution_count": 16,
   "metadata": {},
   "outputs": [
    {
     "data": {
      "text/plain": [
       "array([' SEATS MODERATE RISK', ' SEATS HIGH RISK', ' LOW RISK',\n",
       "       ' SEATS LOW RISK', ' HIGH RISK', ' MODERATE RISK', ' SQ. FT.',\n",
       "       'HIGH RISK', '', None, ' MOD RISK', nan], dtype=object)"
      ]
     },
     "execution_count": 16,
     "metadata": {},
     "output_type": "execute_result"
    }
   ],
   "source": [
    "Data['PE_Risk'].unique()"
   ]
  },
  {
   "cell_type": "code",
   "execution_count": 17,
   "metadata": {},
   "outputs": [],
   "source": [
    "Map = {' SEATS MODERATE RISK':'Moderate Risk',\n",
    "       ' SEATS HIGH RISK':'High Risk',\n",
    "       ' LOW RISK':'Low Risk',\n",
    "       ' SEATS LOW RISK':'Low Risk',\n",
    "       ' HIGH RISK':'High Risk',\n",
    "       ' MODERATE RISK':'Moderate Risk', \n",
    "       ' SQ. FT.':None,\n",
    "       'HIGH RISK':'High Risk',\n",
    "       '':None,\n",
    "       None:None,\n",
    "       ' MOD RISK':'Moderate Risk'}\n",
    "Data['PE_Risk'] = Data['PE_Risk'].map(Map)"
   ]
  },
  {
   "cell_type": "code",
   "execution_count": 18,
   "metadata": {},
   "outputs": [
    {
     "data": {
      "text/plain": [
       "array(['0-30', '31-60', '61-150', '151 + ', '1-1,999 SF', '2,000+ SF',\n",
       "       '2,000-4,999', '10,000+ SF', '1-1,999', '4000-9999 SF',\n",
       "       '1,000-1,999 SQ. FT.', None, '2,000-5,999 SF', '0-999 SQ. FT.',\n",
       "       '1-1,999 SQ. FT.', '2000-3999 SF', '0-1999 SF', '0-10',\n",
       "       '6,000 + SQ. FT.', '1-4,999', nan], dtype=object)"
      ]
     },
     "execution_count": 18,
     "metadata": {},
     "output_type": "execute_result"
    }
   ],
   "source": [
    "Data['PE_Seats'].unique()"
   ]
  },
  {
   "cell_type": "code",
   "execution_count": 19,
   "metadata": {},
   "outputs": [],
   "source": [
    "Map = {'0-30':'0-30 SQ. FT.', '31-60':'31-60 SQ. FT.', '61-150 SQ. FT.':'61-150 SQ. FT.',\n",
    "       '151 + ':'151+ SQ. FT.', '1-1,999 SF':'1-1999 SQ. FT.', '2,000+ SF':'2000+ SQ. FT.',\n",
    "       '2,000-4,999':'2000-4999 SQ. FT.', '10,000+ SF':'10000+ SQ. FT.', '1-1,999':'1-1999 SQ. FT.',\n",
    "       '4000-9999 SF':'4000-9999 SQ. FT.','1,000-1,999 SQ. FT.':'1000-1999 SQ. FT.',np.nan:'Other',\n",
    "       None:'Other', '2,000-5,999 SF':'2000-5999 SQ. FT.', '0-999 SQ. FT.':'0-999 SQ. FT.',\n",
    "       '1-1,999 SQ. FT.':'1-1999 SQ. FT.','2000-3999 SF':'2000-3999 SQ. FT.', '0-1999 SF':'0-1999 SQ. FT.',\n",
    "       '0-10':'0-10 SQ. FT.','6,000 + SQ. FT.':'6000+ SQ. FT.', '1-4,999':'1-4999 SQ. FT.'}\n",
    "Data['PE_Seats'] = Data['PE_Seats'].map(Map)"
   ]
  },
  {
   "cell_type": "markdown",
   "metadata": {},
   "source": [
    "Droping **PE DESCRIPTION** column."
   ]
  },
  {
   "cell_type": "code",
   "execution_count": 20,
   "metadata": {},
   "outputs": [],
   "source": [
    "Data = Data.drop(columns='PE DESCRIPTION')"
   ]
  },
  {
   "cell_type": "code",
   "execution_count": 21,
   "metadata": {
    "scrolled": true
   },
   "outputs": [
    {
     "data": {
      "text/html": [
       "<style  type=\"text/css\" >\n",
       "</style><table id=\"T_aeb80edc_fbe3_11e9_a1fe_780cb82c7ea4\" ><thead>    <tr>        <th class=\"col_heading level0 col0\" >PE_Type</th>        <th class=\"col_heading level0 col1\" >PE_Seats</th>        <th class=\"col_heading level0 col2\" >PE_Risk</th>    </tr></thead><tbody>\n",
       "                <tr>\n",
       "                                <td id=\"T_aeb80edc_fbe3_11e9_a1fe_780cb82c7ea4row0_col0\" class=\"data row0 col0\" >Restaurant</td>\n",
       "                        <td id=\"T_aeb80edc_fbe3_11e9_a1fe_780cb82c7ea4row0_col1\" class=\"data row0 col1\" >0-30 SQ. FT.</td>\n",
       "                        <td id=\"T_aeb80edc_fbe3_11e9_a1fe_780cb82c7ea4row0_col2\" class=\"data row0 col2\" >Moderate Risk</td>\n",
       "            </tr>\n",
       "            <tr>\n",
       "                                <td id=\"T_aeb80edc_fbe3_11e9_a1fe_780cb82c7ea4row1_col0\" class=\"data row1 col0\" >Restaurant</td>\n",
       "                        <td id=\"T_aeb80edc_fbe3_11e9_a1fe_780cb82c7ea4row1_col1\" class=\"data row1 col1\" >0-30 SQ. FT.</td>\n",
       "                        <td id=\"T_aeb80edc_fbe3_11e9_a1fe_780cb82c7ea4row1_col2\" class=\"data row1 col2\" >Moderate Risk</td>\n",
       "            </tr>\n",
       "            <tr>\n",
       "                                <td id=\"T_aeb80edc_fbe3_11e9_a1fe_780cb82c7ea4row2_col0\" class=\"data row2 col0\" >Restaurant</td>\n",
       "                        <td id=\"T_aeb80edc_fbe3_11e9_a1fe_780cb82c7ea4row2_col1\" class=\"data row2 col1\" >0-30 SQ. FT.</td>\n",
       "                        <td id=\"T_aeb80edc_fbe3_11e9_a1fe_780cb82c7ea4row2_col2\" class=\"data row2 col2\" >Moderate Risk</td>\n",
       "            </tr>\n",
       "            <tr>\n",
       "                                <td id=\"T_aeb80edc_fbe3_11e9_a1fe_780cb82c7ea4row3_col0\" class=\"data row3 col0\" >Restaurant</td>\n",
       "                        <td id=\"T_aeb80edc_fbe3_11e9_a1fe_780cb82c7ea4row3_col1\" class=\"data row3 col1\" >0-30 SQ. FT.</td>\n",
       "                        <td id=\"T_aeb80edc_fbe3_11e9_a1fe_780cb82c7ea4row3_col2\" class=\"data row3 col2\" >Moderate Risk</td>\n",
       "            </tr>\n",
       "            <tr>\n",
       "                                <td id=\"T_aeb80edc_fbe3_11e9_a1fe_780cb82c7ea4row4_col0\" class=\"data row4 col0\" >Restaurant</td>\n",
       "                        <td id=\"T_aeb80edc_fbe3_11e9_a1fe_780cb82c7ea4row4_col1\" class=\"data row4 col1\" >0-30 SQ. FT.</td>\n",
       "                        <td id=\"T_aeb80edc_fbe3_11e9_a1fe_780cb82c7ea4row4_col2\" class=\"data row4 col2\" >Moderate Risk</td>\n",
       "            </tr>\n",
       "    </tbody></table>"
      ],
      "text/plain": [
       "<pandas.io.formats.style.Styler at 0x149b97f9788>"
      ]
     },
     "execution_count": 21,
     "metadata": {},
     "output_type": "execute_result"
    }
   ],
   "source": [
    "Data.head()[['PE_Type','PE_Seats','PE_Risk']].style.hide_index()"
   ]
  },
  {
   "cell_type": "markdown",
   "metadata": {},
   "source": [
    "### Reindexing"
   ]
  },
  {
   "cell_type": "code",
   "execution_count": 22,
   "metadata": {},
   "outputs": [],
   "source": [
    "mylist = Data.columns.tolist()\n",
    "mylist = [x.title() for x in mylist]\n",
    "mylist = [x.replace('Id','ID') for x in mylist]\n",
    "mylist = [x.replace('Pe','PE') for x in mylist]\n",
    "mylist = [x.replace('  ',' ') for x in mylist]\n",
    "temp = pd.DataFrame(Data.values, columns=mylist)\n",
    "Data=temp.copy()\n",
    "del temp, mylist"
   ]
  },
  {
   "cell_type": "code",
   "execution_count": 23,
   "metadata": {
    "scrolled": false
   },
   "outputs": [
    {
     "data": {
      "text/html": [
       "<style  type=\"text/css\" >\n",
       "</style><table id=\"T_b2a6121c_fbe3_11e9_a980_780cb82c7ea4\" ><thead>    <tr>        <th class=\"col_heading level0 col0\" >Activity Date</th>        <th class=\"col_heading level0 col1\" >Owner ID</th>        <th class=\"col_heading level0 col2\" >Owner Name</th>        <th class=\"col_heading level0 col3\" >Facility ID</th>        <th class=\"col_heading level0 col4\" >Facility Name</th>        <th class=\"col_heading level0 col5\" >Record ID</th>        <th class=\"col_heading level0 col6\" >Program Name</th>        <th class=\"col_heading level0 col7\" >Program Status</th>        <th class=\"col_heading level0 col8\" >Program Element (PE)</th>        <th class=\"col_heading level0 col9\" >Facility Address</th>        <th class=\"col_heading level0 col10\" >Facility City</th>        <th class=\"col_heading level0 col11\" >Facility State</th>        <th class=\"col_heading level0 col12\" >Facility Zip</th>        <th class=\"col_heading level0 col13\" >Service Code</th>        <th class=\"col_heading level0 col14\" >Service Description</th>        <th class=\"col_heading level0 col15\" >Score</th>        <th class=\"col_heading level0 col16\" >Grade</th>        <th class=\"col_heading level0 col17\" >Serial Number</th>        <th class=\"col_heading level0 col18\" >Employee ID</th>        <th class=\"col_heading level0 col19\" >Location</th>        <th class=\"col_heading level0 col20\" >Violation Status</th>        <th class=\"col_heading level0 col21\" >Violation Code</th>        <th class=\"col_heading level0 col22\" >Violation Description</th>        <th class=\"col_heading level0 col23\" >Points</th>        <th class=\"col_heading level0 col24\" >PE_Type</th>        <th class=\"col_heading level0 col25\" >PE_Seats</th>        <th class=\"col_heading level0 col26\" >PE_Risk</th>    </tr></thead><tbody>\n",
       "                <tr>\n",
       "                                <td id=\"T_b2a6121c_fbe3_11e9_a980_780cb82c7ea4row0_col0\" class=\"data row0 col0\" >2017-04-12 00:00:00</td>\n",
       "                        <td id=\"T_b2a6121c_fbe3_11e9_a980_780cb82c7ea4row0_col1\" class=\"data row0 col1\" >OW0003351</td>\n",
       "                        <td id=\"T_b2a6121c_fbe3_11e9_a980_780cb82c7ea4row0_col2\" class=\"data row0 col2\" >AUDREY KIM BRIDAL COLLECTION</td>\n",
       "                        <td id=\"T_b2a6121c_fbe3_11e9_a980_780cb82c7ea4row0_col3\" class=\"data row0 col3\" >FA0010275</td>\n",
       "                        <td id=\"T_b2a6121c_fbe3_11e9_a980_780cb82c7ea4row0_col4\" class=\"data row0 col4\" >BOBA YA</td>\n",
       "                        <td id=\"T_b2a6121c_fbe3_11e9_a980_780cb82c7ea4row0_col5\" class=\"data row0 col5\" >PR0029878</td>\n",
       "                        <td id=\"T_b2a6121c_fbe3_11e9_a980_780cb82c7ea4row0_col6\" class=\"data row0 col6\" >BOBA YA</td>\n",
       "                        <td id=\"T_b2a6121c_fbe3_11e9_a980_780cb82c7ea4row0_col7\" class=\"data row0 col7\" >ACTIVE</td>\n",
       "                        <td id=\"T_b2a6121c_fbe3_11e9_a980_780cb82c7ea4row0_col8\" class=\"data row0 col8\" >1631</td>\n",
       "                        <td id=\"T_b2a6121c_fbe3_11e9_a980_780cb82c7ea4row0_col9\" class=\"data row0 col9\" >14748 S BEACH BLVD</td>\n",
       "                        <td id=\"T_b2a6121c_fbe3_11e9_a980_780cb82c7ea4row0_col10\" class=\"data row0 col10\" >LA MIRADA</td>\n",
       "                        <td id=\"T_b2a6121c_fbe3_11e9_a980_780cb82c7ea4row0_col11\" class=\"data row0 col11\" >CA</td>\n",
       "                        <td id=\"T_b2a6121c_fbe3_11e9_a980_780cb82c7ea4row0_col12\" class=\"data row0 col12\" >90638</td>\n",
       "                        <td id=\"T_b2a6121c_fbe3_11e9_a980_780cb82c7ea4row0_col13\" class=\"data row0 col13\" >1</td>\n",
       "                        <td id=\"T_b2a6121c_fbe3_11e9_a980_780cb82c7ea4row0_col14\" class=\"data row0 col14\" >ROUTINE INSPECTION</td>\n",
       "                        <td id=\"T_b2a6121c_fbe3_11e9_a980_780cb82c7ea4row0_col15\" class=\"data row0 col15\" >95</td>\n",
       "                        <td id=\"T_b2a6121c_fbe3_11e9_a980_780cb82c7ea4row0_col16\" class=\"data row0 col16\" >A</td>\n",
       "                        <td id=\"T_b2a6121c_fbe3_11e9_a980_780cb82c7ea4row0_col17\" class=\"data row0 col17\" >DAH2Z9080</td>\n",
       "                        <td id=\"T_b2a6121c_fbe3_11e9_a980_780cb82c7ea4row0_col18\" class=\"data row0 col18\" >EE0000744</td>\n",
       "                        <td id=\"T_b2a6121c_fbe3_11e9_a980_780cb82c7ea4row0_col19\" class=\"data row0 col19\" >nan</td>\n",
       "                        <td id=\"T_b2a6121c_fbe3_11e9_a980_780cb82c7ea4row0_col20\" class=\"data row0 col20\" >OUT OF COMPLIANCE</td>\n",
       "                        <td id=\"T_b2a6121c_fbe3_11e9_a980_780cb82c7ea4row0_col21\" class=\"data row0 col21\" >F033</td>\n",
       "                        <td id=\"T_b2a6121c_fbe3_11e9_a980_780cb82c7ea4row0_col22\" class=\"data row0 col22\" ># 33. Nonfood-contact surfaces clean and in good repair</td>\n",
       "                        <td id=\"T_b2a6121c_fbe3_11e9_a980_780cb82c7ea4row0_col23\" class=\"data row0 col23\" >1</td>\n",
       "                        <td id=\"T_b2a6121c_fbe3_11e9_a980_780cb82c7ea4row0_col24\" class=\"data row0 col24\" >Restaurant</td>\n",
       "                        <td id=\"T_b2a6121c_fbe3_11e9_a980_780cb82c7ea4row0_col25\" class=\"data row0 col25\" >0-30 SQ. FT.</td>\n",
       "                        <td id=\"T_b2a6121c_fbe3_11e9_a980_780cb82c7ea4row0_col26\" class=\"data row0 col26\" >Moderate Risk</td>\n",
       "            </tr>\n",
       "            <tr>\n",
       "                                <td id=\"T_b2a6121c_fbe3_11e9_a980_780cb82c7ea4row1_col0\" class=\"data row1 col0\" >2017-04-12 00:00:00</td>\n",
       "                        <td id=\"T_b2a6121c_fbe3_11e9_a980_780cb82c7ea4row1_col1\" class=\"data row1 col1\" >OW0003351</td>\n",
       "                        <td id=\"T_b2a6121c_fbe3_11e9_a980_780cb82c7ea4row1_col2\" class=\"data row1 col2\" >AUDREY KIM BRIDAL COLLECTION</td>\n",
       "                        <td id=\"T_b2a6121c_fbe3_11e9_a980_780cb82c7ea4row1_col3\" class=\"data row1 col3\" >FA0010275</td>\n",
       "                        <td id=\"T_b2a6121c_fbe3_11e9_a980_780cb82c7ea4row1_col4\" class=\"data row1 col4\" >BOBA YA</td>\n",
       "                        <td id=\"T_b2a6121c_fbe3_11e9_a980_780cb82c7ea4row1_col5\" class=\"data row1 col5\" >PR0029878</td>\n",
       "                        <td id=\"T_b2a6121c_fbe3_11e9_a980_780cb82c7ea4row1_col6\" class=\"data row1 col6\" >BOBA YA</td>\n",
       "                        <td id=\"T_b2a6121c_fbe3_11e9_a980_780cb82c7ea4row1_col7\" class=\"data row1 col7\" >ACTIVE</td>\n",
       "                        <td id=\"T_b2a6121c_fbe3_11e9_a980_780cb82c7ea4row1_col8\" class=\"data row1 col8\" >1631</td>\n",
       "                        <td id=\"T_b2a6121c_fbe3_11e9_a980_780cb82c7ea4row1_col9\" class=\"data row1 col9\" >14748 S BEACH BLVD</td>\n",
       "                        <td id=\"T_b2a6121c_fbe3_11e9_a980_780cb82c7ea4row1_col10\" class=\"data row1 col10\" >LA MIRADA</td>\n",
       "                        <td id=\"T_b2a6121c_fbe3_11e9_a980_780cb82c7ea4row1_col11\" class=\"data row1 col11\" >CA</td>\n",
       "                        <td id=\"T_b2a6121c_fbe3_11e9_a980_780cb82c7ea4row1_col12\" class=\"data row1 col12\" >90638</td>\n",
       "                        <td id=\"T_b2a6121c_fbe3_11e9_a980_780cb82c7ea4row1_col13\" class=\"data row1 col13\" >1</td>\n",
       "                        <td id=\"T_b2a6121c_fbe3_11e9_a980_780cb82c7ea4row1_col14\" class=\"data row1 col14\" >ROUTINE INSPECTION</td>\n",
       "                        <td id=\"T_b2a6121c_fbe3_11e9_a980_780cb82c7ea4row1_col15\" class=\"data row1 col15\" >95</td>\n",
       "                        <td id=\"T_b2a6121c_fbe3_11e9_a980_780cb82c7ea4row1_col16\" class=\"data row1 col16\" >A</td>\n",
       "                        <td id=\"T_b2a6121c_fbe3_11e9_a980_780cb82c7ea4row1_col17\" class=\"data row1 col17\" >DAH2Z9080</td>\n",
       "                        <td id=\"T_b2a6121c_fbe3_11e9_a980_780cb82c7ea4row1_col18\" class=\"data row1 col18\" >EE0000744</td>\n",
       "                        <td id=\"T_b2a6121c_fbe3_11e9_a980_780cb82c7ea4row1_col19\" class=\"data row1 col19\" >nan</td>\n",
       "                        <td id=\"T_b2a6121c_fbe3_11e9_a980_780cb82c7ea4row1_col20\" class=\"data row1 col20\" >OUT OF COMPLIANCE</td>\n",
       "                        <td id=\"T_b2a6121c_fbe3_11e9_a980_780cb82c7ea4row1_col21\" class=\"data row1 col21\" >F044</td>\n",
       "                        <td id=\"T_b2a6121c_fbe3_11e9_a980_780cb82c7ea4row1_col22\" class=\"data row1 col22\" ># 44. Floors, walls and ceilings: properly built, maintained in good repair and clean</td>\n",
       "                        <td id=\"T_b2a6121c_fbe3_11e9_a980_780cb82c7ea4row1_col23\" class=\"data row1 col23\" >1</td>\n",
       "                        <td id=\"T_b2a6121c_fbe3_11e9_a980_780cb82c7ea4row1_col24\" class=\"data row1 col24\" >Restaurant</td>\n",
       "                        <td id=\"T_b2a6121c_fbe3_11e9_a980_780cb82c7ea4row1_col25\" class=\"data row1 col25\" >0-30 SQ. FT.</td>\n",
       "                        <td id=\"T_b2a6121c_fbe3_11e9_a980_780cb82c7ea4row1_col26\" class=\"data row1 col26\" >Moderate Risk</td>\n",
       "            </tr>\n",
       "            <tr>\n",
       "                                <td id=\"T_b2a6121c_fbe3_11e9_a980_780cb82c7ea4row2_col0\" class=\"data row2 col0\" >2017-04-12 00:00:00</td>\n",
       "                        <td id=\"T_b2a6121c_fbe3_11e9_a980_780cb82c7ea4row2_col1\" class=\"data row2 col1\" >OW0003351</td>\n",
       "                        <td id=\"T_b2a6121c_fbe3_11e9_a980_780cb82c7ea4row2_col2\" class=\"data row2 col2\" >AUDREY KIM BRIDAL COLLECTION</td>\n",
       "                        <td id=\"T_b2a6121c_fbe3_11e9_a980_780cb82c7ea4row2_col3\" class=\"data row2 col3\" >FA0010275</td>\n",
       "                        <td id=\"T_b2a6121c_fbe3_11e9_a980_780cb82c7ea4row2_col4\" class=\"data row2 col4\" >BOBA YA</td>\n",
       "                        <td id=\"T_b2a6121c_fbe3_11e9_a980_780cb82c7ea4row2_col5\" class=\"data row2 col5\" >PR0029878</td>\n",
       "                        <td id=\"T_b2a6121c_fbe3_11e9_a980_780cb82c7ea4row2_col6\" class=\"data row2 col6\" >BOBA YA</td>\n",
       "                        <td id=\"T_b2a6121c_fbe3_11e9_a980_780cb82c7ea4row2_col7\" class=\"data row2 col7\" >ACTIVE</td>\n",
       "                        <td id=\"T_b2a6121c_fbe3_11e9_a980_780cb82c7ea4row2_col8\" class=\"data row2 col8\" >1631</td>\n",
       "                        <td id=\"T_b2a6121c_fbe3_11e9_a980_780cb82c7ea4row2_col9\" class=\"data row2 col9\" >14748 S BEACH BLVD</td>\n",
       "                        <td id=\"T_b2a6121c_fbe3_11e9_a980_780cb82c7ea4row2_col10\" class=\"data row2 col10\" >LA MIRADA</td>\n",
       "                        <td id=\"T_b2a6121c_fbe3_11e9_a980_780cb82c7ea4row2_col11\" class=\"data row2 col11\" >CA</td>\n",
       "                        <td id=\"T_b2a6121c_fbe3_11e9_a980_780cb82c7ea4row2_col12\" class=\"data row2 col12\" >90638</td>\n",
       "                        <td id=\"T_b2a6121c_fbe3_11e9_a980_780cb82c7ea4row2_col13\" class=\"data row2 col13\" >1</td>\n",
       "                        <td id=\"T_b2a6121c_fbe3_11e9_a980_780cb82c7ea4row2_col14\" class=\"data row2 col14\" >ROUTINE INSPECTION</td>\n",
       "                        <td id=\"T_b2a6121c_fbe3_11e9_a980_780cb82c7ea4row2_col15\" class=\"data row2 col15\" >95</td>\n",
       "                        <td id=\"T_b2a6121c_fbe3_11e9_a980_780cb82c7ea4row2_col16\" class=\"data row2 col16\" >A</td>\n",
       "                        <td id=\"T_b2a6121c_fbe3_11e9_a980_780cb82c7ea4row2_col17\" class=\"data row2 col17\" >DAH2Z9080</td>\n",
       "                        <td id=\"T_b2a6121c_fbe3_11e9_a980_780cb82c7ea4row2_col18\" class=\"data row2 col18\" >EE0000744</td>\n",
       "                        <td id=\"T_b2a6121c_fbe3_11e9_a980_780cb82c7ea4row2_col19\" class=\"data row2 col19\" >nan</td>\n",
       "                        <td id=\"T_b2a6121c_fbe3_11e9_a980_780cb82c7ea4row2_col20\" class=\"data row2 col20\" >OUT OF COMPLIANCE</td>\n",
       "                        <td id=\"T_b2a6121c_fbe3_11e9_a980_780cb82c7ea4row2_col21\" class=\"data row2 col21\" >F036</td>\n",
       "                        <td id=\"T_b2a6121c_fbe3_11e9_a980_780cb82c7ea4row2_col22\" class=\"data row2 col22\" ># 36. Equipment, utensils and linens: storage and use</td>\n",
       "                        <td id=\"T_b2a6121c_fbe3_11e9_a980_780cb82c7ea4row2_col23\" class=\"data row2 col23\" >1</td>\n",
       "                        <td id=\"T_b2a6121c_fbe3_11e9_a980_780cb82c7ea4row2_col24\" class=\"data row2 col24\" >Restaurant</td>\n",
       "                        <td id=\"T_b2a6121c_fbe3_11e9_a980_780cb82c7ea4row2_col25\" class=\"data row2 col25\" >0-30 SQ. FT.</td>\n",
       "                        <td id=\"T_b2a6121c_fbe3_11e9_a980_780cb82c7ea4row2_col26\" class=\"data row2 col26\" >Moderate Risk</td>\n",
       "            </tr>\n",
       "            <tr>\n",
       "                                <td id=\"T_b2a6121c_fbe3_11e9_a980_780cb82c7ea4row3_col0\" class=\"data row3 col0\" >2017-04-12 00:00:00</td>\n",
       "                        <td id=\"T_b2a6121c_fbe3_11e9_a980_780cb82c7ea4row3_col1\" class=\"data row3 col1\" >OW0003351</td>\n",
       "                        <td id=\"T_b2a6121c_fbe3_11e9_a980_780cb82c7ea4row3_col2\" class=\"data row3 col2\" >AUDREY KIM BRIDAL COLLECTION</td>\n",
       "                        <td id=\"T_b2a6121c_fbe3_11e9_a980_780cb82c7ea4row3_col3\" class=\"data row3 col3\" >FA0010275</td>\n",
       "                        <td id=\"T_b2a6121c_fbe3_11e9_a980_780cb82c7ea4row3_col4\" class=\"data row3 col4\" >BOBA YA</td>\n",
       "                        <td id=\"T_b2a6121c_fbe3_11e9_a980_780cb82c7ea4row3_col5\" class=\"data row3 col5\" >PR0029878</td>\n",
       "                        <td id=\"T_b2a6121c_fbe3_11e9_a980_780cb82c7ea4row3_col6\" class=\"data row3 col6\" >BOBA YA</td>\n",
       "                        <td id=\"T_b2a6121c_fbe3_11e9_a980_780cb82c7ea4row3_col7\" class=\"data row3 col7\" >ACTIVE</td>\n",
       "                        <td id=\"T_b2a6121c_fbe3_11e9_a980_780cb82c7ea4row3_col8\" class=\"data row3 col8\" >1631</td>\n",
       "                        <td id=\"T_b2a6121c_fbe3_11e9_a980_780cb82c7ea4row3_col9\" class=\"data row3 col9\" >14748 S BEACH BLVD</td>\n",
       "                        <td id=\"T_b2a6121c_fbe3_11e9_a980_780cb82c7ea4row3_col10\" class=\"data row3 col10\" >LA MIRADA</td>\n",
       "                        <td id=\"T_b2a6121c_fbe3_11e9_a980_780cb82c7ea4row3_col11\" class=\"data row3 col11\" >CA</td>\n",
       "                        <td id=\"T_b2a6121c_fbe3_11e9_a980_780cb82c7ea4row3_col12\" class=\"data row3 col12\" >90638</td>\n",
       "                        <td id=\"T_b2a6121c_fbe3_11e9_a980_780cb82c7ea4row3_col13\" class=\"data row3 col13\" >1</td>\n",
       "                        <td id=\"T_b2a6121c_fbe3_11e9_a980_780cb82c7ea4row3_col14\" class=\"data row3 col14\" >ROUTINE INSPECTION</td>\n",
       "                        <td id=\"T_b2a6121c_fbe3_11e9_a980_780cb82c7ea4row3_col15\" class=\"data row3 col15\" >95</td>\n",
       "                        <td id=\"T_b2a6121c_fbe3_11e9_a980_780cb82c7ea4row3_col16\" class=\"data row3 col16\" >A</td>\n",
       "                        <td id=\"T_b2a6121c_fbe3_11e9_a980_780cb82c7ea4row3_col17\" class=\"data row3 col17\" >DAH2Z9080</td>\n",
       "                        <td id=\"T_b2a6121c_fbe3_11e9_a980_780cb82c7ea4row3_col18\" class=\"data row3 col18\" >EE0000744</td>\n",
       "                        <td id=\"T_b2a6121c_fbe3_11e9_a980_780cb82c7ea4row3_col19\" class=\"data row3 col19\" >nan</td>\n",
       "                        <td id=\"T_b2a6121c_fbe3_11e9_a980_780cb82c7ea4row3_col20\" class=\"data row3 col20\" >OUT OF COMPLIANCE</td>\n",
       "                        <td id=\"T_b2a6121c_fbe3_11e9_a980_780cb82c7ea4row3_col21\" class=\"data row3 col21\" >F040</td>\n",
       "                        <td id=\"T_b2a6121c_fbe3_11e9_a980_780cb82c7ea4row3_col22\" class=\"data row3 col22\" ># 40. Plumbing: Plumbing in good repair, proper backflow devices</td>\n",
       "                        <td id=\"T_b2a6121c_fbe3_11e9_a980_780cb82c7ea4row3_col23\" class=\"data row3 col23\" >1</td>\n",
       "                        <td id=\"T_b2a6121c_fbe3_11e9_a980_780cb82c7ea4row3_col24\" class=\"data row3 col24\" >Restaurant</td>\n",
       "                        <td id=\"T_b2a6121c_fbe3_11e9_a980_780cb82c7ea4row3_col25\" class=\"data row3 col25\" >0-30 SQ. FT.</td>\n",
       "                        <td id=\"T_b2a6121c_fbe3_11e9_a980_780cb82c7ea4row3_col26\" class=\"data row3 col26\" >Moderate Risk</td>\n",
       "            </tr>\n",
       "            <tr>\n",
       "                                <td id=\"T_b2a6121c_fbe3_11e9_a980_780cb82c7ea4row4_col0\" class=\"data row4 col0\" >2017-04-12 00:00:00</td>\n",
       "                        <td id=\"T_b2a6121c_fbe3_11e9_a980_780cb82c7ea4row4_col1\" class=\"data row4 col1\" >OW0003351</td>\n",
       "                        <td id=\"T_b2a6121c_fbe3_11e9_a980_780cb82c7ea4row4_col2\" class=\"data row4 col2\" >AUDREY KIM BRIDAL COLLECTION</td>\n",
       "                        <td id=\"T_b2a6121c_fbe3_11e9_a980_780cb82c7ea4row4_col3\" class=\"data row4 col3\" >FA0010275</td>\n",
       "                        <td id=\"T_b2a6121c_fbe3_11e9_a980_780cb82c7ea4row4_col4\" class=\"data row4 col4\" >BOBA YA</td>\n",
       "                        <td id=\"T_b2a6121c_fbe3_11e9_a980_780cb82c7ea4row4_col5\" class=\"data row4 col5\" >PR0029878</td>\n",
       "                        <td id=\"T_b2a6121c_fbe3_11e9_a980_780cb82c7ea4row4_col6\" class=\"data row4 col6\" >BOBA YA</td>\n",
       "                        <td id=\"T_b2a6121c_fbe3_11e9_a980_780cb82c7ea4row4_col7\" class=\"data row4 col7\" >ACTIVE</td>\n",
       "                        <td id=\"T_b2a6121c_fbe3_11e9_a980_780cb82c7ea4row4_col8\" class=\"data row4 col8\" >1631</td>\n",
       "                        <td id=\"T_b2a6121c_fbe3_11e9_a980_780cb82c7ea4row4_col9\" class=\"data row4 col9\" >14748 S BEACH BLVD</td>\n",
       "                        <td id=\"T_b2a6121c_fbe3_11e9_a980_780cb82c7ea4row4_col10\" class=\"data row4 col10\" >LA MIRADA</td>\n",
       "                        <td id=\"T_b2a6121c_fbe3_11e9_a980_780cb82c7ea4row4_col11\" class=\"data row4 col11\" >CA</td>\n",
       "                        <td id=\"T_b2a6121c_fbe3_11e9_a980_780cb82c7ea4row4_col12\" class=\"data row4 col12\" >90638</td>\n",
       "                        <td id=\"T_b2a6121c_fbe3_11e9_a980_780cb82c7ea4row4_col13\" class=\"data row4 col13\" >1</td>\n",
       "                        <td id=\"T_b2a6121c_fbe3_11e9_a980_780cb82c7ea4row4_col14\" class=\"data row4 col14\" >ROUTINE INSPECTION</td>\n",
       "                        <td id=\"T_b2a6121c_fbe3_11e9_a980_780cb82c7ea4row4_col15\" class=\"data row4 col15\" >95</td>\n",
       "                        <td id=\"T_b2a6121c_fbe3_11e9_a980_780cb82c7ea4row4_col16\" class=\"data row4 col16\" >A</td>\n",
       "                        <td id=\"T_b2a6121c_fbe3_11e9_a980_780cb82c7ea4row4_col17\" class=\"data row4 col17\" >DAH2Z9080</td>\n",
       "                        <td id=\"T_b2a6121c_fbe3_11e9_a980_780cb82c7ea4row4_col18\" class=\"data row4 col18\" >EE0000744</td>\n",
       "                        <td id=\"T_b2a6121c_fbe3_11e9_a980_780cb82c7ea4row4_col19\" class=\"data row4 col19\" >nan</td>\n",
       "                        <td id=\"T_b2a6121c_fbe3_11e9_a980_780cb82c7ea4row4_col20\" class=\"data row4 col20\" >OUT OF COMPLIANCE</td>\n",
       "                        <td id=\"T_b2a6121c_fbe3_11e9_a980_780cb82c7ea4row4_col21\" class=\"data row4 col21\" >F043</td>\n",
       "                        <td id=\"T_b2a6121c_fbe3_11e9_a980_780cb82c7ea4row4_col22\" class=\"data row4 col22\" ># 43. Premises; personal/cleaning items; vermin-proofing</td>\n",
       "                        <td id=\"T_b2a6121c_fbe3_11e9_a980_780cb82c7ea4row4_col23\" class=\"data row4 col23\" >1</td>\n",
       "                        <td id=\"T_b2a6121c_fbe3_11e9_a980_780cb82c7ea4row4_col24\" class=\"data row4 col24\" >Restaurant</td>\n",
       "                        <td id=\"T_b2a6121c_fbe3_11e9_a980_780cb82c7ea4row4_col25\" class=\"data row4 col25\" >0-30 SQ. FT.</td>\n",
       "                        <td id=\"T_b2a6121c_fbe3_11e9_a980_780cb82c7ea4row4_col26\" class=\"data row4 col26\" >Moderate Risk</td>\n",
       "            </tr>\n",
       "    </tbody></table>"
      ],
      "text/plain": [
       "<pandas.io.formats.style.Styler at 0x149b97f2048>"
      ]
     },
     "execution_count": 23,
     "metadata": {},
     "output_type": "execute_result"
    }
   ],
   "source": [
    "Data.head().style.hide_index()"
   ]
  },
  {
   "cell_type": "code",
   "execution_count": 24,
   "metadata": {},
   "outputs": [
    {
     "data": {
      "text/plain": [
       "Activity Date            datetime64[ns]\n",
       "Owner ID                         object\n",
       "Owner Name                       object\n",
       "Facility ID                      object\n",
       "Facility Name                    object\n",
       "Record ID                        object\n",
       "Program Name                     object\n",
       "Program Status                   object\n",
       "Program Element (PE)             object\n",
       "Facility Address                 object\n",
       "Facility City                    object\n",
       "Facility State                   object\n",
       "Facility Zip                     object\n",
       "Service Code                     object\n",
       "Service Description              object\n",
       "Score                            object\n",
       "Grade                            object\n",
       "Serial Number                    object\n",
       "Employee ID                      object\n",
       "Location                         object\n",
       "Violation Status                 object\n",
       "Violation Code                   object\n",
       "Violation Description            object\n",
       "Points                           object\n",
       "PE_Type                          object\n",
       "PE_Seats                         object\n",
       "PE_Risk                          object\n",
       "dtype: object"
      ]
     },
     "execution_count": 24,
     "metadata": {},
     "output_type": "execute_result"
    }
   ],
   "source": [
    "Data.dtypes"
   ]
  },
  {
   "cell_type": "markdown",
   "metadata": {},
   "source": [
    "### Saving"
   ]
  },
  {
   "cell_type": "code",
   "execution_count": 25,
   "metadata": {},
   "outputs": [],
   "source": [
    "Violations_df.to_csv('Data/Clean_Violations_df.csv',index=False)\n",
    "Inspections_df.to_csv('Data/Clean_Inspections_df.csv',index=False)\n",
    "Data.to_csv('Data/Data_Inspections_Violations_df.csv',index=False)"
   ]
  },
  {
   "cell_type": "markdown",
   "metadata": {},
   "source": [
    "## Creating a Dictionary"
   ]
  },
  {
   "cell_type": "code",
   "execution_count": 40,
   "metadata": {},
   "outputs": [],
   "source": [
    "Violation_Dictionary = dict.fromkeys(Data['Violation Code'].unique().tolist()) \n",
    "temp = Data['Violation Description'].unique().tolist()\n",
    "for i in Violation_Dictionary:\n",
    "    for j in temp:\n",
    "        # Comparing the two lists\n",
    "        if i[-2:] == j[2:4]:\n",
    "            Violation_Dictionary[i] = j\n",
    "del temp"
   ]
  },
  {
   "cell_type": "markdown",
   "metadata": {},
   "source": [
    "Adding a few more codes:"
   ]
  },
  {
   "cell_type": "code",
   "execution_count": 41,
   "metadata": {},
   "outputs": [],
   "source": [
    "Violation_Dictionary['F001'] = '# 01a. Demonstration of knowledge'\n",
    "Violation_Dictionary['F052'] = '# 01b. Food safety certification'\n",
    "Violation_Dictionary['F053'] = '# 21a. Hot Water Available'\n",
    "Violation_Dictionary['F054'] = '# 52. Multiple Major Critical Violations / Increased Risk to Public Health'\n",
    "Violation_Dictionary['F055'] = '# 01a. Demonstration of knowledge'\n",
    "Violation_Dictionary['F057'] = '# 18. Compliance with variance, specialized process, & HACCP Plan'\n",
    "Violation_Dictionary['F058'] = '# 19. Consumer advisory provided for raw or undercooked foods'"
   ]
  },
  {
   "cell_type": "code",
   "execution_count": 42,
   "metadata": {},
   "outputs": [
    {
     "data": {
      "text/html": [
       "<div>\n",
       "<style scoped>\n",
       "    .dataframe tbody tr th:only-of-type {\n",
       "        vertical-align: middle;\n",
       "    }\n",
       "\n",
       "    .dataframe tbody tr th {\n",
       "        vertical-align: top;\n",
       "    }\n",
       "\n",
       "    .dataframe thead th {\n",
       "        text-align: right;\n",
       "    }\n",
       "</style>\n",
       "<table border=\"1\" class=\"dataframe\">\n",
       "  <thead>\n",
       "    <tr style=\"text-align: right;\">\n",
       "      <th></th>\n",
       "      <th>Violation Code</th>\n",
       "      <th>Violation Description</th>\n",
       "    </tr>\n",
       "  </thead>\n",
       "  <tbody>\n",
       "    <tr>\n",
       "      <td>0</td>\n",
       "      <td>F054</td>\n",
       "      <td># 52. Multiple Major Critical Violations / Inc...</td>\n",
       "    </tr>\n",
       "    <tr>\n",
       "      <td>1</td>\n",
       "      <td>W052</td>\n",
       "      <td># 52. Multiple Major Critical Violations / Inc...</td>\n",
       "    </tr>\n",
       "    <tr>\n",
       "      <td>2</td>\n",
       "      <td>W051</td>\n",
       "      <td># 51. Permit Suspension</td>\n",
       "    </tr>\n",
       "    <tr>\n",
       "      <td>3</td>\n",
       "      <td>F051</td>\n",
       "      <td># 51. Permit Suspension</td>\n",
       "    </tr>\n",
       "    <tr>\n",
       "      <td>4</td>\n",
       "      <td>W050</td>\n",
       "      <td># 50. Impoundment of unsanitary equipment or food</td>\n",
       "    </tr>\n",
       "    <tr>\n",
       "      <td>5</td>\n",
       "      <td>F050</td>\n",
       "      <td># 50. Impoundment of unsanitary equipment or food</td>\n",
       "    </tr>\n",
       "    <tr>\n",
       "      <td>6</td>\n",
       "      <td>F049</td>\n",
       "      <td># 49. Samples Collected</td>\n",
       "    </tr>\n",
       "    <tr>\n",
       "      <td>7</td>\n",
       "      <td>F048</td>\n",
       "      <td># 48. Plan Review required for new or remodel ...</td>\n",
       "    </tr>\n",
       "    <tr>\n",
       "      <td>8</td>\n",
       "      <td>W048</td>\n",
       "      <td># 48. Plan Review required for new or remodel ...</td>\n",
       "    </tr>\n",
       "    <tr>\n",
       "      <td>9</td>\n",
       "      <td>F047</td>\n",
       "      <td># 47. Permits Available</td>\n",
       "    </tr>\n",
       "  </tbody>\n",
       "</table>\n",
       "</div>"
      ],
      "text/plain": [
       "  Violation Code                              Violation Description\n",
       "0           F054  # 52. Multiple Major Critical Violations / Inc...\n",
       "1           W052  # 52. Multiple Major Critical Violations / Inc...\n",
       "2           W051                            # 51. Permit Suspension\n",
       "3           F051                            # 51. Permit Suspension\n",
       "4           W050  # 50. Impoundment of unsanitary equipment or food\n",
       "5           F050  # 50. Impoundment of unsanitary equipment or food\n",
       "6           F049                            # 49. Samples Collected\n",
       "7           F048  # 48. Plan Review required for new or remodel ...\n",
       "8           W048  # 48. Plan Review required for new or remodel ...\n",
       "9           F047                            # 47. Permits Available"
      ]
     },
     "execution_count": 42,
     "metadata": {},
     "output_type": "execute_result"
    }
   ],
   "source": [
    "Violation_Dictionary_df = pd.DataFrame.from_dict(Violation_Dictionary, orient='index', columns=['Violation Description'])\n",
    "Violation_Dictionary_df = Violation_Dictionary_df.sort_values('Violation Description', ascending=False)\n",
    "Violation_Dictionary_df = Violation_Dictionary_df.reset_index().rename(columns={'index':'Violation Code'})\n",
    "Violation_Dictionary_df.head(10)"
   ]
  },
  {
   "cell_type": "markdown",
   "metadata": {},
   "source": [
    "### Saving"
   ]
  },
  {
   "cell_type": "code",
   "execution_count": 43,
   "metadata": {},
   "outputs": [],
   "source": [
    "Violation_Dictionary_df.to_csv('Data/Violation_Dictionary_df.csv',index=False)"
   ]
  },
  {
   "cell_type": "markdown",
   "metadata": {},
   "source": [
    "***"
   ]
  }
 ],
 "metadata": {
  "kernelspec": {
   "display_name": "Python 3",
   "language": "python",
   "name": "python3"
  },
  "language_info": {
   "codemirror_mode": {
    "name": "ipython",
    "version": 3
   },
   "file_extension": ".py",
   "mimetype": "text/x-python",
   "name": "python",
   "nbconvert_exporter": "python",
   "pygments_lexer": "ipython3",
   "version": "3.7.4"
  }
 },
 "nbformat": 4,
 "nbformat_minor": 2
}
