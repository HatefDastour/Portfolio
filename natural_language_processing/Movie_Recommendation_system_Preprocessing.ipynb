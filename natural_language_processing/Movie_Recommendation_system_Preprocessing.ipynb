{
 "cells": [
  {
   "cell_type": "code",
   "execution_count": 1,
   "metadata": {},
   "outputs": [],
   "source": [
    "# Computations\n",
    "import numpy as np\n",
    "import pandas as pd\n",
    "\n",
    "# sklearn\n",
    "from sklearn.impute import SimpleImputer\n",
    "from sklearn.model_selection import train_test_split\n",
    "from sklearn.linear_model import LinearRegression\n",
    "from sklearn.metrics import mean_absolute_error, r2_score\n",
    "\n",
    "# Visualisation libraries\n",
    "\n",
    "## Text\n",
    "from colorama import Fore, Back, Style\n",
    "from IPython.display import Image, display, Markdown, Latex\n",
    "\n",
    "## seaborn\n",
    "import seaborn as sns\n",
    "sns.set_context(\"paper\", rc={\"font.size\":12,\"axes.titlesize\":14,\"axes.labelsize\":12})\n",
    "sns.set_style(\"white\")\n",
    "\n",
    "## matplotlib\n",
    "import matplotlib.pyplot as plt\n",
    "%matplotlib inline\n",
    "\n",
    "## missingno\n",
    "import missingno as msno\n",
    "\n",
    "import warnings\n",
    "warnings.filterwarnings(\"ignore\")"
   ]
  },
  {
   "cell_type": "markdown",
   "metadata": {},
   "source": [
    "<img src='https://upload.wikimedia.org/wikipedia/commons/thumb/6/69/IMDB_Logo_2016.svg/1280px-IMDB_Logo_2016.svg.png' width ='300' align=\"center\"/>\n",
    "\n",
    "<div class=\"alert alert-block alert-success\">\n",
    "<font size=\"+2\"><b>IMDB Movie Dataset</b></font>\n",
    "</div>\n",
    "\n",
    "# Preprocessing\n",
    "\n",
    "In this article, we use an IMDB movie dataset from Kaggle.com. The object of the exercise is to recommend similar movies to a given movie.\n",
    "\n",
    "#### Loading the Data"
   ]
  },
  {
   "cell_type": "code",
   "execution_count": 2,
   "metadata": {
    "scrolled": false
   },
   "outputs": [
    {
     "data": {
      "text/html": [
       "<style  type=\"text/css\" >\n",
       "</style><table id=\"T_af7fb798_9bca_11ea_bde2_50e08586bf81\" ><thead>    <tr>        <th class=\"col_heading level0 col0\" >Color</th>        <th class=\"col_heading level0 col1\" >Director_Name</th>        <th class=\"col_heading level0 col2\" >Num_Critic_For_Reviews</th>        <th class=\"col_heading level0 col3\" >Duration</th>        <th class=\"col_heading level0 col4\" >Director_Facebook_Likes</th>        <th class=\"col_heading level0 col5\" >Actor_3_Facebook_Likes</th>        <th class=\"col_heading level0 col6\" >Actor_2_Name</th>        <th class=\"col_heading level0 col7\" >Actor_1_Facebook_Likes</th>        <th class=\"col_heading level0 col8\" >Gross</th>        <th class=\"col_heading level0 col9\" >Genres</th>        <th class=\"col_heading level0 col10\" >Actor_1_Name</th>        <th class=\"col_heading level0 col11\" >Movie_Title</th>        <th class=\"col_heading level0 col12\" >Num_Voted_Users</th>        <th class=\"col_heading level0 col13\" >Cast_Total_Facebook_Likes</th>        <th class=\"col_heading level0 col14\" >Actor_3_Name</th>        <th class=\"col_heading level0 col15\" >Facenumber_In_Poster</th>        <th class=\"col_heading level0 col16\" >Plot_Keywords</th>        <th class=\"col_heading level0 col17\" >Movie_IMDB_Link</th>        <th class=\"col_heading level0 col18\" >Num_User_For_Reviews</th>        <th class=\"col_heading level0 col19\" >Language</th>        <th class=\"col_heading level0 col20\" >Country</th>        <th class=\"col_heading level0 col21\" >Content_Rating</th>        <th class=\"col_heading level0 col22\" >Budget</th>        <th class=\"col_heading level0 col23\" >Title_Year</th>        <th class=\"col_heading level0 col24\" >Actor_2_Facebook_Likes</th>        <th class=\"col_heading level0 col25\" >IMDB_Score</th>        <th class=\"col_heading level0 col26\" >Aspect_Ratio</th>        <th class=\"col_heading level0 col27\" >Movie_Facebook_Likes</th>    </tr></thead><tbody>\n",
       "                <tr>\n",
       "                                <td id=\"T_af7fb798_9bca_11ea_bde2_50e08586bf81row0_col0\" class=\"data row0 col0\" >Color</td>\n",
       "                        <td id=\"T_af7fb798_9bca_11ea_bde2_50e08586bf81row0_col1\" class=\"data row0 col1\" >James Cameron</td>\n",
       "                        <td id=\"T_af7fb798_9bca_11ea_bde2_50e08586bf81row0_col2\" class=\"data row0 col2\" >723.000000</td>\n",
       "                        <td id=\"T_af7fb798_9bca_11ea_bde2_50e08586bf81row0_col3\" class=\"data row0 col3\" >178.000000</td>\n",
       "                        <td id=\"T_af7fb798_9bca_11ea_bde2_50e08586bf81row0_col4\" class=\"data row0 col4\" >0.000000</td>\n",
       "                        <td id=\"T_af7fb798_9bca_11ea_bde2_50e08586bf81row0_col5\" class=\"data row0 col5\" >855.000000</td>\n",
       "                        <td id=\"T_af7fb798_9bca_11ea_bde2_50e08586bf81row0_col6\" class=\"data row0 col6\" >Joel David Moore</td>\n",
       "                        <td id=\"T_af7fb798_9bca_11ea_bde2_50e08586bf81row0_col7\" class=\"data row0 col7\" >1000.000000</td>\n",
       "                        <td id=\"T_af7fb798_9bca_11ea_bde2_50e08586bf81row0_col8\" class=\"data row0 col8\" >760505847.000000</td>\n",
       "                        <td id=\"T_af7fb798_9bca_11ea_bde2_50e08586bf81row0_col9\" class=\"data row0 col9\" >Action|Adventure|Fantasy|Sci-Fi</td>\n",
       "                        <td id=\"T_af7fb798_9bca_11ea_bde2_50e08586bf81row0_col10\" class=\"data row0 col10\" >CCH Pounder</td>\n",
       "                        <td id=\"T_af7fb798_9bca_11ea_bde2_50e08586bf81row0_col11\" class=\"data row0 col11\" >Avatar </td>\n",
       "                        <td id=\"T_af7fb798_9bca_11ea_bde2_50e08586bf81row0_col12\" class=\"data row0 col12\" >886204</td>\n",
       "                        <td id=\"T_af7fb798_9bca_11ea_bde2_50e08586bf81row0_col13\" class=\"data row0 col13\" >4834</td>\n",
       "                        <td id=\"T_af7fb798_9bca_11ea_bde2_50e08586bf81row0_col14\" class=\"data row0 col14\" >Wes Studi</td>\n",
       "                        <td id=\"T_af7fb798_9bca_11ea_bde2_50e08586bf81row0_col15\" class=\"data row0 col15\" >0.000000</td>\n",
       "                        <td id=\"T_af7fb798_9bca_11ea_bde2_50e08586bf81row0_col16\" class=\"data row0 col16\" >avatar|future|marine|native|paraplegic</td>\n",
       "                        <td id=\"T_af7fb798_9bca_11ea_bde2_50e08586bf81row0_col17\" class=\"data row0 col17\" >http://www.imdb.com/title/tt0499549/?ref_=fn_tt_tt_1</td>\n",
       "                        <td id=\"T_af7fb798_9bca_11ea_bde2_50e08586bf81row0_col18\" class=\"data row0 col18\" >3054.000000</td>\n",
       "                        <td id=\"T_af7fb798_9bca_11ea_bde2_50e08586bf81row0_col19\" class=\"data row0 col19\" >English</td>\n",
       "                        <td id=\"T_af7fb798_9bca_11ea_bde2_50e08586bf81row0_col20\" class=\"data row0 col20\" >USA</td>\n",
       "                        <td id=\"T_af7fb798_9bca_11ea_bde2_50e08586bf81row0_col21\" class=\"data row0 col21\" >PG-13</td>\n",
       "                        <td id=\"T_af7fb798_9bca_11ea_bde2_50e08586bf81row0_col22\" class=\"data row0 col22\" >237000000.000000</td>\n",
       "                        <td id=\"T_af7fb798_9bca_11ea_bde2_50e08586bf81row0_col23\" class=\"data row0 col23\" >2009.000000</td>\n",
       "                        <td id=\"T_af7fb798_9bca_11ea_bde2_50e08586bf81row0_col24\" class=\"data row0 col24\" >936.000000</td>\n",
       "                        <td id=\"T_af7fb798_9bca_11ea_bde2_50e08586bf81row0_col25\" class=\"data row0 col25\" >7.900000</td>\n",
       "                        <td id=\"T_af7fb798_9bca_11ea_bde2_50e08586bf81row0_col26\" class=\"data row0 col26\" >1.780000</td>\n",
       "                        <td id=\"T_af7fb798_9bca_11ea_bde2_50e08586bf81row0_col27\" class=\"data row0 col27\" >33000</td>\n",
       "            </tr>\n",
       "            <tr>\n",
       "                                <td id=\"T_af7fb798_9bca_11ea_bde2_50e08586bf81row1_col0\" class=\"data row1 col0\" >Color</td>\n",
       "                        <td id=\"T_af7fb798_9bca_11ea_bde2_50e08586bf81row1_col1\" class=\"data row1 col1\" >Gore Verbinski</td>\n",
       "                        <td id=\"T_af7fb798_9bca_11ea_bde2_50e08586bf81row1_col2\" class=\"data row1 col2\" >302.000000</td>\n",
       "                        <td id=\"T_af7fb798_9bca_11ea_bde2_50e08586bf81row1_col3\" class=\"data row1 col3\" >169.000000</td>\n",
       "                        <td id=\"T_af7fb798_9bca_11ea_bde2_50e08586bf81row1_col4\" class=\"data row1 col4\" >563.000000</td>\n",
       "                        <td id=\"T_af7fb798_9bca_11ea_bde2_50e08586bf81row1_col5\" class=\"data row1 col5\" >1000.000000</td>\n",
       "                        <td id=\"T_af7fb798_9bca_11ea_bde2_50e08586bf81row1_col6\" class=\"data row1 col6\" >Orlando Bloom</td>\n",
       "                        <td id=\"T_af7fb798_9bca_11ea_bde2_50e08586bf81row1_col7\" class=\"data row1 col7\" >40000.000000</td>\n",
       "                        <td id=\"T_af7fb798_9bca_11ea_bde2_50e08586bf81row1_col8\" class=\"data row1 col8\" >309404152.000000</td>\n",
       "                        <td id=\"T_af7fb798_9bca_11ea_bde2_50e08586bf81row1_col9\" class=\"data row1 col9\" >Action|Adventure|Fantasy</td>\n",
       "                        <td id=\"T_af7fb798_9bca_11ea_bde2_50e08586bf81row1_col10\" class=\"data row1 col10\" >Johnny Depp</td>\n",
       "                        <td id=\"T_af7fb798_9bca_11ea_bde2_50e08586bf81row1_col11\" class=\"data row1 col11\" >Pirates of the Caribbean: At World's End </td>\n",
       "                        <td id=\"T_af7fb798_9bca_11ea_bde2_50e08586bf81row1_col12\" class=\"data row1 col12\" >471220</td>\n",
       "                        <td id=\"T_af7fb798_9bca_11ea_bde2_50e08586bf81row1_col13\" class=\"data row1 col13\" >48350</td>\n",
       "                        <td id=\"T_af7fb798_9bca_11ea_bde2_50e08586bf81row1_col14\" class=\"data row1 col14\" >Jack Davenport</td>\n",
       "                        <td id=\"T_af7fb798_9bca_11ea_bde2_50e08586bf81row1_col15\" class=\"data row1 col15\" >0.000000</td>\n",
       "                        <td id=\"T_af7fb798_9bca_11ea_bde2_50e08586bf81row1_col16\" class=\"data row1 col16\" >goddess|marriage ceremony|marriage proposal|pirate|singapore</td>\n",
       "                        <td id=\"T_af7fb798_9bca_11ea_bde2_50e08586bf81row1_col17\" class=\"data row1 col17\" >http://www.imdb.com/title/tt0449088/?ref_=fn_tt_tt_1</td>\n",
       "                        <td id=\"T_af7fb798_9bca_11ea_bde2_50e08586bf81row1_col18\" class=\"data row1 col18\" >1238.000000</td>\n",
       "                        <td id=\"T_af7fb798_9bca_11ea_bde2_50e08586bf81row1_col19\" class=\"data row1 col19\" >English</td>\n",
       "                        <td id=\"T_af7fb798_9bca_11ea_bde2_50e08586bf81row1_col20\" class=\"data row1 col20\" >USA</td>\n",
       "                        <td id=\"T_af7fb798_9bca_11ea_bde2_50e08586bf81row1_col21\" class=\"data row1 col21\" >PG-13</td>\n",
       "                        <td id=\"T_af7fb798_9bca_11ea_bde2_50e08586bf81row1_col22\" class=\"data row1 col22\" >300000000.000000</td>\n",
       "                        <td id=\"T_af7fb798_9bca_11ea_bde2_50e08586bf81row1_col23\" class=\"data row1 col23\" >2007.000000</td>\n",
       "                        <td id=\"T_af7fb798_9bca_11ea_bde2_50e08586bf81row1_col24\" class=\"data row1 col24\" >5000.000000</td>\n",
       "                        <td id=\"T_af7fb798_9bca_11ea_bde2_50e08586bf81row1_col25\" class=\"data row1 col25\" >7.100000</td>\n",
       "                        <td id=\"T_af7fb798_9bca_11ea_bde2_50e08586bf81row1_col26\" class=\"data row1 col26\" >2.350000</td>\n",
       "                        <td id=\"T_af7fb798_9bca_11ea_bde2_50e08586bf81row1_col27\" class=\"data row1 col27\" >0</td>\n",
       "            </tr>\n",
       "            <tr>\n",
       "                                <td id=\"T_af7fb798_9bca_11ea_bde2_50e08586bf81row2_col0\" class=\"data row2 col0\" >Color</td>\n",
       "                        <td id=\"T_af7fb798_9bca_11ea_bde2_50e08586bf81row2_col1\" class=\"data row2 col1\" >Sam Mendes</td>\n",
       "                        <td id=\"T_af7fb798_9bca_11ea_bde2_50e08586bf81row2_col2\" class=\"data row2 col2\" >602.000000</td>\n",
       "                        <td id=\"T_af7fb798_9bca_11ea_bde2_50e08586bf81row2_col3\" class=\"data row2 col3\" >148.000000</td>\n",
       "                        <td id=\"T_af7fb798_9bca_11ea_bde2_50e08586bf81row2_col4\" class=\"data row2 col4\" >0.000000</td>\n",
       "                        <td id=\"T_af7fb798_9bca_11ea_bde2_50e08586bf81row2_col5\" class=\"data row2 col5\" >161.000000</td>\n",
       "                        <td id=\"T_af7fb798_9bca_11ea_bde2_50e08586bf81row2_col6\" class=\"data row2 col6\" >Rory Kinnear</td>\n",
       "                        <td id=\"T_af7fb798_9bca_11ea_bde2_50e08586bf81row2_col7\" class=\"data row2 col7\" >11000.000000</td>\n",
       "                        <td id=\"T_af7fb798_9bca_11ea_bde2_50e08586bf81row2_col8\" class=\"data row2 col8\" >200074175.000000</td>\n",
       "                        <td id=\"T_af7fb798_9bca_11ea_bde2_50e08586bf81row2_col9\" class=\"data row2 col9\" >Action|Adventure|Thriller</td>\n",
       "                        <td id=\"T_af7fb798_9bca_11ea_bde2_50e08586bf81row2_col10\" class=\"data row2 col10\" >Christoph Waltz</td>\n",
       "                        <td id=\"T_af7fb798_9bca_11ea_bde2_50e08586bf81row2_col11\" class=\"data row2 col11\" >Spectre </td>\n",
       "                        <td id=\"T_af7fb798_9bca_11ea_bde2_50e08586bf81row2_col12\" class=\"data row2 col12\" >275868</td>\n",
       "                        <td id=\"T_af7fb798_9bca_11ea_bde2_50e08586bf81row2_col13\" class=\"data row2 col13\" >11700</td>\n",
       "                        <td id=\"T_af7fb798_9bca_11ea_bde2_50e08586bf81row2_col14\" class=\"data row2 col14\" >Stephanie Sigman</td>\n",
       "                        <td id=\"T_af7fb798_9bca_11ea_bde2_50e08586bf81row2_col15\" class=\"data row2 col15\" >1.000000</td>\n",
       "                        <td id=\"T_af7fb798_9bca_11ea_bde2_50e08586bf81row2_col16\" class=\"data row2 col16\" >bomb|espionage|sequel|spy|terrorist</td>\n",
       "                        <td id=\"T_af7fb798_9bca_11ea_bde2_50e08586bf81row2_col17\" class=\"data row2 col17\" >http://www.imdb.com/title/tt2379713/?ref_=fn_tt_tt_1</td>\n",
       "                        <td id=\"T_af7fb798_9bca_11ea_bde2_50e08586bf81row2_col18\" class=\"data row2 col18\" >994.000000</td>\n",
       "                        <td id=\"T_af7fb798_9bca_11ea_bde2_50e08586bf81row2_col19\" class=\"data row2 col19\" >English</td>\n",
       "                        <td id=\"T_af7fb798_9bca_11ea_bde2_50e08586bf81row2_col20\" class=\"data row2 col20\" >UK</td>\n",
       "                        <td id=\"T_af7fb798_9bca_11ea_bde2_50e08586bf81row2_col21\" class=\"data row2 col21\" >PG-13</td>\n",
       "                        <td id=\"T_af7fb798_9bca_11ea_bde2_50e08586bf81row2_col22\" class=\"data row2 col22\" >245000000.000000</td>\n",
       "                        <td id=\"T_af7fb798_9bca_11ea_bde2_50e08586bf81row2_col23\" class=\"data row2 col23\" >2015.000000</td>\n",
       "                        <td id=\"T_af7fb798_9bca_11ea_bde2_50e08586bf81row2_col24\" class=\"data row2 col24\" >393.000000</td>\n",
       "                        <td id=\"T_af7fb798_9bca_11ea_bde2_50e08586bf81row2_col25\" class=\"data row2 col25\" >6.800000</td>\n",
       "                        <td id=\"T_af7fb798_9bca_11ea_bde2_50e08586bf81row2_col26\" class=\"data row2 col26\" >2.350000</td>\n",
       "                        <td id=\"T_af7fb798_9bca_11ea_bde2_50e08586bf81row2_col27\" class=\"data row2 col27\" >85000</td>\n",
       "            </tr>\n",
       "            <tr>\n",
       "                                <td id=\"T_af7fb798_9bca_11ea_bde2_50e08586bf81row3_col0\" class=\"data row3 col0\" >Color</td>\n",
       "                        <td id=\"T_af7fb798_9bca_11ea_bde2_50e08586bf81row3_col1\" class=\"data row3 col1\" >Christopher Nolan</td>\n",
       "                        <td id=\"T_af7fb798_9bca_11ea_bde2_50e08586bf81row3_col2\" class=\"data row3 col2\" >813.000000</td>\n",
       "                        <td id=\"T_af7fb798_9bca_11ea_bde2_50e08586bf81row3_col3\" class=\"data row3 col3\" >164.000000</td>\n",
       "                        <td id=\"T_af7fb798_9bca_11ea_bde2_50e08586bf81row3_col4\" class=\"data row3 col4\" >22000.000000</td>\n",
       "                        <td id=\"T_af7fb798_9bca_11ea_bde2_50e08586bf81row3_col5\" class=\"data row3 col5\" >23000.000000</td>\n",
       "                        <td id=\"T_af7fb798_9bca_11ea_bde2_50e08586bf81row3_col6\" class=\"data row3 col6\" >Christian Bale</td>\n",
       "                        <td id=\"T_af7fb798_9bca_11ea_bde2_50e08586bf81row3_col7\" class=\"data row3 col7\" >27000.000000</td>\n",
       "                        <td id=\"T_af7fb798_9bca_11ea_bde2_50e08586bf81row3_col8\" class=\"data row3 col8\" >448130642.000000</td>\n",
       "                        <td id=\"T_af7fb798_9bca_11ea_bde2_50e08586bf81row3_col9\" class=\"data row3 col9\" >Action|Thriller</td>\n",
       "                        <td id=\"T_af7fb798_9bca_11ea_bde2_50e08586bf81row3_col10\" class=\"data row3 col10\" >Tom Hardy</td>\n",
       "                        <td id=\"T_af7fb798_9bca_11ea_bde2_50e08586bf81row3_col11\" class=\"data row3 col11\" >The Dark Knight Rises </td>\n",
       "                        <td id=\"T_af7fb798_9bca_11ea_bde2_50e08586bf81row3_col12\" class=\"data row3 col12\" >1144337</td>\n",
       "                        <td id=\"T_af7fb798_9bca_11ea_bde2_50e08586bf81row3_col13\" class=\"data row3 col13\" >106759</td>\n",
       "                        <td id=\"T_af7fb798_9bca_11ea_bde2_50e08586bf81row3_col14\" class=\"data row3 col14\" >Joseph Gordon-Levitt</td>\n",
       "                        <td id=\"T_af7fb798_9bca_11ea_bde2_50e08586bf81row3_col15\" class=\"data row3 col15\" >0.000000</td>\n",
       "                        <td id=\"T_af7fb798_9bca_11ea_bde2_50e08586bf81row3_col16\" class=\"data row3 col16\" >deception|imprisonment|lawlessness|police officer|terrorist plot</td>\n",
       "                        <td id=\"T_af7fb798_9bca_11ea_bde2_50e08586bf81row3_col17\" class=\"data row3 col17\" >http://www.imdb.com/title/tt1345836/?ref_=fn_tt_tt_1</td>\n",
       "                        <td id=\"T_af7fb798_9bca_11ea_bde2_50e08586bf81row3_col18\" class=\"data row3 col18\" >2701.000000</td>\n",
       "                        <td id=\"T_af7fb798_9bca_11ea_bde2_50e08586bf81row3_col19\" class=\"data row3 col19\" >English</td>\n",
       "                        <td id=\"T_af7fb798_9bca_11ea_bde2_50e08586bf81row3_col20\" class=\"data row3 col20\" >USA</td>\n",
       "                        <td id=\"T_af7fb798_9bca_11ea_bde2_50e08586bf81row3_col21\" class=\"data row3 col21\" >PG-13</td>\n",
       "                        <td id=\"T_af7fb798_9bca_11ea_bde2_50e08586bf81row3_col22\" class=\"data row3 col22\" >250000000.000000</td>\n",
       "                        <td id=\"T_af7fb798_9bca_11ea_bde2_50e08586bf81row3_col23\" class=\"data row3 col23\" >2012.000000</td>\n",
       "                        <td id=\"T_af7fb798_9bca_11ea_bde2_50e08586bf81row3_col24\" class=\"data row3 col24\" >23000.000000</td>\n",
       "                        <td id=\"T_af7fb798_9bca_11ea_bde2_50e08586bf81row3_col25\" class=\"data row3 col25\" >8.500000</td>\n",
       "                        <td id=\"T_af7fb798_9bca_11ea_bde2_50e08586bf81row3_col26\" class=\"data row3 col26\" >2.350000</td>\n",
       "                        <td id=\"T_af7fb798_9bca_11ea_bde2_50e08586bf81row3_col27\" class=\"data row3 col27\" >164000</td>\n",
       "            </tr>\n",
       "            <tr>\n",
       "                                <td id=\"T_af7fb798_9bca_11ea_bde2_50e08586bf81row4_col0\" class=\"data row4 col0\" >nan</td>\n",
       "                        <td id=\"T_af7fb798_9bca_11ea_bde2_50e08586bf81row4_col1\" class=\"data row4 col1\" >Doug Walker</td>\n",
       "                        <td id=\"T_af7fb798_9bca_11ea_bde2_50e08586bf81row4_col2\" class=\"data row4 col2\" >nan</td>\n",
       "                        <td id=\"T_af7fb798_9bca_11ea_bde2_50e08586bf81row4_col3\" class=\"data row4 col3\" >nan</td>\n",
       "                        <td id=\"T_af7fb798_9bca_11ea_bde2_50e08586bf81row4_col4\" class=\"data row4 col4\" >131.000000</td>\n",
       "                        <td id=\"T_af7fb798_9bca_11ea_bde2_50e08586bf81row4_col5\" class=\"data row4 col5\" >nan</td>\n",
       "                        <td id=\"T_af7fb798_9bca_11ea_bde2_50e08586bf81row4_col6\" class=\"data row4 col6\" >Rob Walker</td>\n",
       "                        <td id=\"T_af7fb798_9bca_11ea_bde2_50e08586bf81row4_col7\" class=\"data row4 col7\" >131.000000</td>\n",
       "                        <td id=\"T_af7fb798_9bca_11ea_bde2_50e08586bf81row4_col8\" class=\"data row4 col8\" >nan</td>\n",
       "                        <td id=\"T_af7fb798_9bca_11ea_bde2_50e08586bf81row4_col9\" class=\"data row4 col9\" >Documentary</td>\n",
       "                        <td id=\"T_af7fb798_9bca_11ea_bde2_50e08586bf81row4_col10\" class=\"data row4 col10\" >Doug Walker</td>\n",
       "                        <td id=\"T_af7fb798_9bca_11ea_bde2_50e08586bf81row4_col11\" class=\"data row4 col11\" >Star Wars: Episode VII - The Force Awakens             </td>\n",
       "                        <td id=\"T_af7fb798_9bca_11ea_bde2_50e08586bf81row4_col12\" class=\"data row4 col12\" >8</td>\n",
       "                        <td id=\"T_af7fb798_9bca_11ea_bde2_50e08586bf81row4_col13\" class=\"data row4 col13\" >143</td>\n",
       "                        <td id=\"T_af7fb798_9bca_11ea_bde2_50e08586bf81row4_col14\" class=\"data row4 col14\" >nan</td>\n",
       "                        <td id=\"T_af7fb798_9bca_11ea_bde2_50e08586bf81row4_col15\" class=\"data row4 col15\" >0.000000</td>\n",
       "                        <td id=\"T_af7fb798_9bca_11ea_bde2_50e08586bf81row4_col16\" class=\"data row4 col16\" >nan</td>\n",
       "                        <td id=\"T_af7fb798_9bca_11ea_bde2_50e08586bf81row4_col17\" class=\"data row4 col17\" >http://www.imdb.com/title/tt5289954/?ref_=fn_tt_tt_1</td>\n",
       "                        <td id=\"T_af7fb798_9bca_11ea_bde2_50e08586bf81row4_col18\" class=\"data row4 col18\" >nan</td>\n",
       "                        <td id=\"T_af7fb798_9bca_11ea_bde2_50e08586bf81row4_col19\" class=\"data row4 col19\" >nan</td>\n",
       "                        <td id=\"T_af7fb798_9bca_11ea_bde2_50e08586bf81row4_col20\" class=\"data row4 col20\" >nan</td>\n",
       "                        <td id=\"T_af7fb798_9bca_11ea_bde2_50e08586bf81row4_col21\" class=\"data row4 col21\" >nan</td>\n",
       "                        <td id=\"T_af7fb798_9bca_11ea_bde2_50e08586bf81row4_col22\" class=\"data row4 col22\" >nan</td>\n",
       "                        <td id=\"T_af7fb798_9bca_11ea_bde2_50e08586bf81row4_col23\" class=\"data row4 col23\" >nan</td>\n",
       "                        <td id=\"T_af7fb798_9bca_11ea_bde2_50e08586bf81row4_col24\" class=\"data row4 col24\" >12.000000</td>\n",
       "                        <td id=\"T_af7fb798_9bca_11ea_bde2_50e08586bf81row4_col25\" class=\"data row4 col25\" >7.100000</td>\n",
       "                        <td id=\"T_af7fb798_9bca_11ea_bde2_50e08586bf81row4_col26\" class=\"data row4 col26\" >nan</td>\n",
       "                        <td id=\"T_af7fb798_9bca_11ea_bde2_50e08586bf81row4_col27\" class=\"data row4 col27\" >0</td>\n",
       "            </tr>\n",
       "    </tbody></table>"
      ],
      "text/plain": [
       "<pandas.io.formats.style.Styler at 0x278c4db3708>"
      ]
     },
     "execution_count": 2,
     "metadata": {},
     "output_type": "execute_result"
    }
   ],
   "source": [
    "Data = pd.read_csv('movie_metadata/movie_metadata.csv')\n",
    "# column names\n",
    "Data.columns = [x.title().replace('Imdb', 'IMDB') for x in Data.columns.tolist()]\n",
    "Data.head().style.hide_index()"
   ]
  },
  {
   "cell_type": "markdown",
   "metadata": {},
   "source": [
    "Sorting the dataset"
   ]
  },
  {
   "cell_type": "code",
   "execution_count": 3,
   "metadata": {},
   "outputs": [
    {
     "data": {
      "text/html": [
       "<style  type=\"text/css\" >\n",
       "</style><table id=\"T_af813b02_9bca_11ea_ac38_50e08586bf81\" ><thead>    <tr>        <th class=\"col_heading level0 col0\" >Movie_Title</th>        <th class=\"col_heading level0 col1\" >Actor_1_Facebook_Likes</th>        <th class=\"col_heading level0 col2\" >Actor_1_Name</th>        <th class=\"col_heading level0 col3\" >Actor_2_Facebook_Likes</th>        <th class=\"col_heading level0 col4\" >Actor_2_Name</th>        <th class=\"col_heading level0 col5\" >Actor_3_Facebook_Likes</th>        <th class=\"col_heading level0 col6\" >Actor_3_Name</th>        <th class=\"col_heading level0 col7\" >Aspect_Ratio</th>        <th class=\"col_heading level0 col8\" >Budget</th>        <th class=\"col_heading level0 col9\" >Cast_Total_Facebook_Likes</th>        <th class=\"col_heading level0 col10\" >Color</th>        <th class=\"col_heading level0 col11\" >Content_Rating</th>        <th class=\"col_heading level0 col12\" >Country</th>        <th class=\"col_heading level0 col13\" >Director_Facebook_Likes</th>        <th class=\"col_heading level0 col14\" >Director_Name</th>        <th class=\"col_heading level0 col15\" >Duration</th>        <th class=\"col_heading level0 col16\" >Facenumber_In_Poster</th>        <th class=\"col_heading level0 col17\" >Genres</th>        <th class=\"col_heading level0 col18\" >Gross</th>        <th class=\"col_heading level0 col19\" >IMDB_Score</th>        <th class=\"col_heading level0 col20\" >Language</th>        <th class=\"col_heading level0 col21\" >Movie_Facebook_Likes</th>        <th class=\"col_heading level0 col22\" >Movie_IMDB_Link</th>        <th class=\"col_heading level0 col23\" >Num_Critic_For_Reviews</th>        <th class=\"col_heading level0 col24\" >Num_User_For_Reviews</th>        <th class=\"col_heading level0 col25\" >Num_Voted_Users</th>        <th class=\"col_heading level0 col26\" >Plot_Keywords</th>        <th class=\"col_heading level0 col27\" >Title_Year</th>    </tr></thead><tbody>\n",
       "                <tr>\n",
       "                                <td id=\"T_af813b02_9bca_11ea_ac38_50e08586bf81row0_col0\" class=\"data row0 col0\" >Avatar </td>\n",
       "                        <td id=\"T_af813b02_9bca_11ea_ac38_50e08586bf81row0_col1\" class=\"data row0 col1\" >1000.000000</td>\n",
       "                        <td id=\"T_af813b02_9bca_11ea_ac38_50e08586bf81row0_col2\" class=\"data row0 col2\" >CCH Pounder</td>\n",
       "                        <td id=\"T_af813b02_9bca_11ea_ac38_50e08586bf81row0_col3\" class=\"data row0 col3\" >936.000000</td>\n",
       "                        <td id=\"T_af813b02_9bca_11ea_ac38_50e08586bf81row0_col4\" class=\"data row0 col4\" >Joel David Moore</td>\n",
       "                        <td id=\"T_af813b02_9bca_11ea_ac38_50e08586bf81row0_col5\" class=\"data row0 col5\" >855.000000</td>\n",
       "                        <td id=\"T_af813b02_9bca_11ea_ac38_50e08586bf81row0_col6\" class=\"data row0 col6\" >Wes Studi</td>\n",
       "                        <td id=\"T_af813b02_9bca_11ea_ac38_50e08586bf81row0_col7\" class=\"data row0 col7\" >1.780000</td>\n",
       "                        <td id=\"T_af813b02_9bca_11ea_ac38_50e08586bf81row0_col8\" class=\"data row0 col8\" >237000000.000000</td>\n",
       "                        <td id=\"T_af813b02_9bca_11ea_ac38_50e08586bf81row0_col9\" class=\"data row0 col9\" >4834</td>\n",
       "                        <td id=\"T_af813b02_9bca_11ea_ac38_50e08586bf81row0_col10\" class=\"data row0 col10\" >Color</td>\n",
       "                        <td id=\"T_af813b02_9bca_11ea_ac38_50e08586bf81row0_col11\" class=\"data row0 col11\" >PG-13</td>\n",
       "                        <td id=\"T_af813b02_9bca_11ea_ac38_50e08586bf81row0_col12\" class=\"data row0 col12\" >USA</td>\n",
       "                        <td id=\"T_af813b02_9bca_11ea_ac38_50e08586bf81row0_col13\" class=\"data row0 col13\" >0.000000</td>\n",
       "                        <td id=\"T_af813b02_9bca_11ea_ac38_50e08586bf81row0_col14\" class=\"data row0 col14\" >James Cameron</td>\n",
       "                        <td id=\"T_af813b02_9bca_11ea_ac38_50e08586bf81row0_col15\" class=\"data row0 col15\" >178.000000</td>\n",
       "                        <td id=\"T_af813b02_9bca_11ea_ac38_50e08586bf81row0_col16\" class=\"data row0 col16\" >0.000000</td>\n",
       "                        <td id=\"T_af813b02_9bca_11ea_ac38_50e08586bf81row0_col17\" class=\"data row0 col17\" >Action|Adventure|Fantasy|Sci-Fi</td>\n",
       "                        <td id=\"T_af813b02_9bca_11ea_ac38_50e08586bf81row0_col18\" class=\"data row0 col18\" >760505847.000000</td>\n",
       "                        <td id=\"T_af813b02_9bca_11ea_ac38_50e08586bf81row0_col19\" class=\"data row0 col19\" >7.900000</td>\n",
       "                        <td id=\"T_af813b02_9bca_11ea_ac38_50e08586bf81row0_col20\" class=\"data row0 col20\" >English</td>\n",
       "                        <td id=\"T_af813b02_9bca_11ea_ac38_50e08586bf81row0_col21\" class=\"data row0 col21\" >33000</td>\n",
       "                        <td id=\"T_af813b02_9bca_11ea_ac38_50e08586bf81row0_col22\" class=\"data row0 col22\" >http://www.imdb.com/title/tt0499549/?ref_=fn_tt_tt_1</td>\n",
       "                        <td id=\"T_af813b02_9bca_11ea_ac38_50e08586bf81row0_col23\" class=\"data row0 col23\" >723.000000</td>\n",
       "                        <td id=\"T_af813b02_9bca_11ea_ac38_50e08586bf81row0_col24\" class=\"data row0 col24\" >3054.000000</td>\n",
       "                        <td id=\"T_af813b02_9bca_11ea_ac38_50e08586bf81row0_col25\" class=\"data row0 col25\" >886204</td>\n",
       "                        <td id=\"T_af813b02_9bca_11ea_ac38_50e08586bf81row0_col26\" class=\"data row0 col26\" >avatar|future|marine|native|paraplegic</td>\n",
       "                        <td id=\"T_af813b02_9bca_11ea_ac38_50e08586bf81row0_col27\" class=\"data row0 col27\" >2009.000000</td>\n",
       "            </tr>\n",
       "            <tr>\n",
       "                                <td id=\"T_af813b02_9bca_11ea_ac38_50e08586bf81row1_col0\" class=\"data row1 col0\" >Pirates of the Caribbean: At World's End </td>\n",
       "                        <td id=\"T_af813b02_9bca_11ea_ac38_50e08586bf81row1_col1\" class=\"data row1 col1\" >40000.000000</td>\n",
       "                        <td id=\"T_af813b02_9bca_11ea_ac38_50e08586bf81row1_col2\" class=\"data row1 col2\" >Johnny Depp</td>\n",
       "                        <td id=\"T_af813b02_9bca_11ea_ac38_50e08586bf81row1_col3\" class=\"data row1 col3\" >5000.000000</td>\n",
       "                        <td id=\"T_af813b02_9bca_11ea_ac38_50e08586bf81row1_col4\" class=\"data row1 col4\" >Orlando Bloom</td>\n",
       "                        <td id=\"T_af813b02_9bca_11ea_ac38_50e08586bf81row1_col5\" class=\"data row1 col5\" >1000.000000</td>\n",
       "                        <td id=\"T_af813b02_9bca_11ea_ac38_50e08586bf81row1_col6\" class=\"data row1 col6\" >Jack Davenport</td>\n",
       "                        <td id=\"T_af813b02_9bca_11ea_ac38_50e08586bf81row1_col7\" class=\"data row1 col7\" >2.350000</td>\n",
       "                        <td id=\"T_af813b02_9bca_11ea_ac38_50e08586bf81row1_col8\" class=\"data row1 col8\" >300000000.000000</td>\n",
       "                        <td id=\"T_af813b02_9bca_11ea_ac38_50e08586bf81row1_col9\" class=\"data row1 col9\" >48350</td>\n",
       "                        <td id=\"T_af813b02_9bca_11ea_ac38_50e08586bf81row1_col10\" class=\"data row1 col10\" >Color</td>\n",
       "                        <td id=\"T_af813b02_9bca_11ea_ac38_50e08586bf81row1_col11\" class=\"data row1 col11\" >PG-13</td>\n",
       "                        <td id=\"T_af813b02_9bca_11ea_ac38_50e08586bf81row1_col12\" class=\"data row1 col12\" >USA</td>\n",
       "                        <td id=\"T_af813b02_9bca_11ea_ac38_50e08586bf81row1_col13\" class=\"data row1 col13\" >563.000000</td>\n",
       "                        <td id=\"T_af813b02_9bca_11ea_ac38_50e08586bf81row1_col14\" class=\"data row1 col14\" >Gore Verbinski</td>\n",
       "                        <td id=\"T_af813b02_9bca_11ea_ac38_50e08586bf81row1_col15\" class=\"data row1 col15\" >169.000000</td>\n",
       "                        <td id=\"T_af813b02_9bca_11ea_ac38_50e08586bf81row1_col16\" class=\"data row1 col16\" >0.000000</td>\n",
       "                        <td id=\"T_af813b02_9bca_11ea_ac38_50e08586bf81row1_col17\" class=\"data row1 col17\" >Action|Adventure|Fantasy</td>\n",
       "                        <td id=\"T_af813b02_9bca_11ea_ac38_50e08586bf81row1_col18\" class=\"data row1 col18\" >309404152.000000</td>\n",
       "                        <td id=\"T_af813b02_9bca_11ea_ac38_50e08586bf81row1_col19\" class=\"data row1 col19\" >7.100000</td>\n",
       "                        <td id=\"T_af813b02_9bca_11ea_ac38_50e08586bf81row1_col20\" class=\"data row1 col20\" >English</td>\n",
       "                        <td id=\"T_af813b02_9bca_11ea_ac38_50e08586bf81row1_col21\" class=\"data row1 col21\" >0</td>\n",
       "                        <td id=\"T_af813b02_9bca_11ea_ac38_50e08586bf81row1_col22\" class=\"data row1 col22\" >http://www.imdb.com/title/tt0449088/?ref_=fn_tt_tt_1</td>\n",
       "                        <td id=\"T_af813b02_9bca_11ea_ac38_50e08586bf81row1_col23\" class=\"data row1 col23\" >302.000000</td>\n",
       "                        <td id=\"T_af813b02_9bca_11ea_ac38_50e08586bf81row1_col24\" class=\"data row1 col24\" >1238.000000</td>\n",
       "                        <td id=\"T_af813b02_9bca_11ea_ac38_50e08586bf81row1_col25\" class=\"data row1 col25\" >471220</td>\n",
       "                        <td id=\"T_af813b02_9bca_11ea_ac38_50e08586bf81row1_col26\" class=\"data row1 col26\" >goddess|marriage ceremony|marriage proposal|pirate|singapore</td>\n",
       "                        <td id=\"T_af813b02_9bca_11ea_ac38_50e08586bf81row1_col27\" class=\"data row1 col27\" >2007.000000</td>\n",
       "            </tr>\n",
       "            <tr>\n",
       "                                <td id=\"T_af813b02_9bca_11ea_ac38_50e08586bf81row2_col0\" class=\"data row2 col0\" >Spectre </td>\n",
       "                        <td id=\"T_af813b02_9bca_11ea_ac38_50e08586bf81row2_col1\" class=\"data row2 col1\" >11000.000000</td>\n",
       "                        <td id=\"T_af813b02_9bca_11ea_ac38_50e08586bf81row2_col2\" class=\"data row2 col2\" >Christoph Waltz</td>\n",
       "                        <td id=\"T_af813b02_9bca_11ea_ac38_50e08586bf81row2_col3\" class=\"data row2 col3\" >393.000000</td>\n",
       "                        <td id=\"T_af813b02_9bca_11ea_ac38_50e08586bf81row2_col4\" class=\"data row2 col4\" >Rory Kinnear</td>\n",
       "                        <td id=\"T_af813b02_9bca_11ea_ac38_50e08586bf81row2_col5\" class=\"data row2 col5\" >161.000000</td>\n",
       "                        <td id=\"T_af813b02_9bca_11ea_ac38_50e08586bf81row2_col6\" class=\"data row2 col6\" >Stephanie Sigman</td>\n",
       "                        <td id=\"T_af813b02_9bca_11ea_ac38_50e08586bf81row2_col7\" class=\"data row2 col7\" >2.350000</td>\n",
       "                        <td id=\"T_af813b02_9bca_11ea_ac38_50e08586bf81row2_col8\" class=\"data row2 col8\" >245000000.000000</td>\n",
       "                        <td id=\"T_af813b02_9bca_11ea_ac38_50e08586bf81row2_col9\" class=\"data row2 col9\" >11700</td>\n",
       "                        <td id=\"T_af813b02_9bca_11ea_ac38_50e08586bf81row2_col10\" class=\"data row2 col10\" >Color</td>\n",
       "                        <td id=\"T_af813b02_9bca_11ea_ac38_50e08586bf81row2_col11\" class=\"data row2 col11\" >PG-13</td>\n",
       "                        <td id=\"T_af813b02_9bca_11ea_ac38_50e08586bf81row2_col12\" class=\"data row2 col12\" >UK</td>\n",
       "                        <td id=\"T_af813b02_9bca_11ea_ac38_50e08586bf81row2_col13\" class=\"data row2 col13\" >0.000000</td>\n",
       "                        <td id=\"T_af813b02_9bca_11ea_ac38_50e08586bf81row2_col14\" class=\"data row2 col14\" >Sam Mendes</td>\n",
       "                        <td id=\"T_af813b02_9bca_11ea_ac38_50e08586bf81row2_col15\" class=\"data row2 col15\" >148.000000</td>\n",
       "                        <td id=\"T_af813b02_9bca_11ea_ac38_50e08586bf81row2_col16\" class=\"data row2 col16\" >1.000000</td>\n",
       "                        <td id=\"T_af813b02_9bca_11ea_ac38_50e08586bf81row2_col17\" class=\"data row2 col17\" >Action|Adventure|Thriller</td>\n",
       "                        <td id=\"T_af813b02_9bca_11ea_ac38_50e08586bf81row2_col18\" class=\"data row2 col18\" >200074175.000000</td>\n",
       "                        <td id=\"T_af813b02_9bca_11ea_ac38_50e08586bf81row2_col19\" class=\"data row2 col19\" >6.800000</td>\n",
       "                        <td id=\"T_af813b02_9bca_11ea_ac38_50e08586bf81row2_col20\" class=\"data row2 col20\" >English</td>\n",
       "                        <td id=\"T_af813b02_9bca_11ea_ac38_50e08586bf81row2_col21\" class=\"data row2 col21\" >85000</td>\n",
       "                        <td id=\"T_af813b02_9bca_11ea_ac38_50e08586bf81row2_col22\" class=\"data row2 col22\" >http://www.imdb.com/title/tt2379713/?ref_=fn_tt_tt_1</td>\n",
       "                        <td id=\"T_af813b02_9bca_11ea_ac38_50e08586bf81row2_col23\" class=\"data row2 col23\" >602.000000</td>\n",
       "                        <td id=\"T_af813b02_9bca_11ea_ac38_50e08586bf81row2_col24\" class=\"data row2 col24\" >994.000000</td>\n",
       "                        <td id=\"T_af813b02_9bca_11ea_ac38_50e08586bf81row2_col25\" class=\"data row2 col25\" >275868</td>\n",
       "                        <td id=\"T_af813b02_9bca_11ea_ac38_50e08586bf81row2_col26\" class=\"data row2 col26\" >bomb|espionage|sequel|spy|terrorist</td>\n",
       "                        <td id=\"T_af813b02_9bca_11ea_ac38_50e08586bf81row2_col27\" class=\"data row2 col27\" >2015.000000</td>\n",
       "            </tr>\n",
       "            <tr>\n",
       "                                <td id=\"T_af813b02_9bca_11ea_ac38_50e08586bf81row3_col0\" class=\"data row3 col0\" >The Dark Knight Rises </td>\n",
       "                        <td id=\"T_af813b02_9bca_11ea_ac38_50e08586bf81row3_col1\" class=\"data row3 col1\" >27000.000000</td>\n",
       "                        <td id=\"T_af813b02_9bca_11ea_ac38_50e08586bf81row3_col2\" class=\"data row3 col2\" >Tom Hardy</td>\n",
       "                        <td id=\"T_af813b02_9bca_11ea_ac38_50e08586bf81row3_col3\" class=\"data row3 col3\" >23000.000000</td>\n",
       "                        <td id=\"T_af813b02_9bca_11ea_ac38_50e08586bf81row3_col4\" class=\"data row3 col4\" >Christian Bale</td>\n",
       "                        <td id=\"T_af813b02_9bca_11ea_ac38_50e08586bf81row3_col5\" class=\"data row3 col5\" >23000.000000</td>\n",
       "                        <td id=\"T_af813b02_9bca_11ea_ac38_50e08586bf81row3_col6\" class=\"data row3 col6\" >Joseph Gordon-Levitt</td>\n",
       "                        <td id=\"T_af813b02_9bca_11ea_ac38_50e08586bf81row3_col7\" class=\"data row3 col7\" >2.350000</td>\n",
       "                        <td id=\"T_af813b02_9bca_11ea_ac38_50e08586bf81row3_col8\" class=\"data row3 col8\" >250000000.000000</td>\n",
       "                        <td id=\"T_af813b02_9bca_11ea_ac38_50e08586bf81row3_col9\" class=\"data row3 col9\" >106759</td>\n",
       "                        <td id=\"T_af813b02_9bca_11ea_ac38_50e08586bf81row3_col10\" class=\"data row3 col10\" >Color</td>\n",
       "                        <td id=\"T_af813b02_9bca_11ea_ac38_50e08586bf81row3_col11\" class=\"data row3 col11\" >PG-13</td>\n",
       "                        <td id=\"T_af813b02_9bca_11ea_ac38_50e08586bf81row3_col12\" class=\"data row3 col12\" >USA</td>\n",
       "                        <td id=\"T_af813b02_9bca_11ea_ac38_50e08586bf81row3_col13\" class=\"data row3 col13\" >22000.000000</td>\n",
       "                        <td id=\"T_af813b02_9bca_11ea_ac38_50e08586bf81row3_col14\" class=\"data row3 col14\" >Christopher Nolan</td>\n",
       "                        <td id=\"T_af813b02_9bca_11ea_ac38_50e08586bf81row3_col15\" class=\"data row3 col15\" >164.000000</td>\n",
       "                        <td id=\"T_af813b02_9bca_11ea_ac38_50e08586bf81row3_col16\" class=\"data row3 col16\" >0.000000</td>\n",
       "                        <td id=\"T_af813b02_9bca_11ea_ac38_50e08586bf81row3_col17\" class=\"data row3 col17\" >Action|Thriller</td>\n",
       "                        <td id=\"T_af813b02_9bca_11ea_ac38_50e08586bf81row3_col18\" class=\"data row3 col18\" >448130642.000000</td>\n",
       "                        <td id=\"T_af813b02_9bca_11ea_ac38_50e08586bf81row3_col19\" class=\"data row3 col19\" >8.500000</td>\n",
       "                        <td id=\"T_af813b02_9bca_11ea_ac38_50e08586bf81row3_col20\" class=\"data row3 col20\" >English</td>\n",
       "                        <td id=\"T_af813b02_9bca_11ea_ac38_50e08586bf81row3_col21\" class=\"data row3 col21\" >164000</td>\n",
       "                        <td id=\"T_af813b02_9bca_11ea_ac38_50e08586bf81row3_col22\" class=\"data row3 col22\" >http://www.imdb.com/title/tt1345836/?ref_=fn_tt_tt_1</td>\n",
       "                        <td id=\"T_af813b02_9bca_11ea_ac38_50e08586bf81row3_col23\" class=\"data row3 col23\" >813.000000</td>\n",
       "                        <td id=\"T_af813b02_9bca_11ea_ac38_50e08586bf81row3_col24\" class=\"data row3 col24\" >2701.000000</td>\n",
       "                        <td id=\"T_af813b02_9bca_11ea_ac38_50e08586bf81row3_col25\" class=\"data row3 col25\" >1144337</td>\n",
       "                        <td id=\"T_af813b02_9bca_11ea_ac38_50e08586bf81row3_col26\" class=\"data row3 col26\" >deception|imprisonment|lawlessness|police officer|terrorist plot</td>\n",
       "                        <td id=\"T_af813b02_9bca_11ea_ac38_50e08586bf81row3_col27\" class=\"data row3 col27\" >2012.000000</td>\n",
       "            </tr>\n",
       "            <tr>\n",
       "                                <td id=\"T_af813b02_9bca_11ea_ac38_50e08586bf81row4_col0\" class=\"data row4 col0\" >Star Wars: Episode VII - The Force Awakens             </td>\n",
       "                        <td id=\"T_af813b02_9bca_11ea_ac38_50e08586bf81row4_col1\" class=\"data row4 col1\" >131.000000</td>\n",
       "                        <td id=\"T_af813b02_9bca_11ea_ac38_50e08586bf81row4_col2\" class=\"data row4 col2\" >Doug Walker</td>\n",
       "                        <td id=\"T_af813b02_9bca_11ea_ac38_50e08586bf81row4_col3\" class=\"data row4 col3\" >12.000000</td>\n",
       "                        <td id=\"T_af813b02_9bca_11ea_ac38_50e08586bf81row4_col4\" class=\"data row4 col4\" >Rob Walker</td>\n",
       "                        <td id=\"T_af813b02_9bca_11ea_ac38_50e08586bf81row4_col5\" class=\"data row4 col5\" >nan</td>\n",
       "                        <td id=\"T_af813b02_9bca_11ea_ac38_50e08586bf81row4_col6\" class=\"data row4 col6\" >nan</td>\n",
       "                        <td id=\"T_af813b02_9bca_11ea_ac38_50e08586bf81row4_col7\" class=\"data row4 col7\" >nan</td>\n",
       "                        <td id=\"T_af813b02_9bca_11ea_ac38_50e08586bf81row4_col8\" class=\"data row4 col8\" >nan</td>\n",
       "                        <td id=\"T_af813b02_9bca_11ea_ac38_50e08586bf81row4_col9\" class=\"data row4 col9\" >143</td>\n",
       "                        <td id=\"T_af813b02_9bca_11ea_ac38_50e08586bf81row4_col10\" class=\"data row4 col10\" >nan</td>\n",
       "                        <td id=\"T_af813b02_9bca_11ea_ac38_50e08586bf81row4_col11\" class=\"data row4 col11\" >nan</td>\n",
       "                        <td id=\"T_af813b02_9bca_11ea_ac38_50e08586bf81row4_col12\" class=\"data row4 col12\" >nan</td>\n",
       "                        <td id=\"T_af813b02_9bca_11ea_ac38_50e08586bf81row4_col13\" class=\"data row4 col13\" >131.000000</td>\n",
       "                        <td id=\"T_af813b02_9bca_11ea_ac38_50e08586bf81row4_col14\" class=\"data row4 col14\" >Doug Walker</td>\n",
       "                        <td id=\"T_af813b02_9bca_11ea_ac38_50e08586bf81row4_col15\" class=\"data row4 col15\" >nan</td>\n",
       "                        <td id=\"T_af813b02_9bca_11ea_ac38_50e08586bf81row4_col16\" class=\"data row4 col16\" >0.000000</td>\n",
       "                        <td id=\"T_af813b02_9bca_11ea_ac38_50e08586bf81row4_col17\" class=\"data row4 col17\" >Documentary</td>\n",
       "                        <td id=\"T_af813b02_9bca_11ea_ac38_50e08586bf81row4_col18\" class=\"data row4 col18\" >nan</td>\n",
       "                        <td id=\"T_af813b02_9bca_11ea_ac38_50e08586bf81row4_col19\" class=\"data row4 col19\" >7.100000</td>\n",
       "                        <td id=\"T_af813b02_9bca_11ea_ac38_50e08586bf81row4_col20\" class=\"data row4 col20\" >nan</td>\n",
       "                        <td id=\"T_af813b02_9bca_11ea_ac38_50e08586bf81row4_col21\" class=\"data row4 col21\" >0</td>\n",
       "                        <td id=\"T_af813b02_9bca_11ea_ac38_50e08586bf81row4_col22\" class=\"data row4 col22\" >http://www.imdb.com/title/tt5289954/?ref_=fn_tt_tt_1</td>\n",
       "                        <td id=\"T_af813b02_9bca_11ea_ac38_50e08586bf81row4_col23\" class=\"data row4 col23\" >nan</td>\n",
       "                        <td id=\"T_af813b02_9bca_11ea_ac38_50e08586bf81row4_col24\" class=\"data row4 col24\" >nan</td>\n",
       "                        <td id=\"T_af813b02_9bca_11ea_ac38_50e08586bf81row4_col25\" class=\"data row4 col25\" >8</td>\n",
       "                        <td id=\"T_af813b02_9bca_11ea_ac38_50e08586bf81row4_col26\" class=\"data row4 col26\" >nan</td>\n",
       "                        <td id=\"T_af813b02_9bca_11ea_ac38_50e08586bf81row4_col27\" class=\"data row4 col27\" >nan</td>\n",
       "            </tr>\n",
       "    </tbody></table>"
      ],
      "text/plain": [
       "<pandas.io.formats.style.Styler at 0x278c4b4a088>"
      ]
     },
     "execution_count": 3,
     "metadata": {},
     "output_type": "execute_result"
    }
   ],
   "source": [
    "Temp = sorted(Data.columns)\n",
    "Temp.remove('Movie_Title')\n",
    "Temp.insert(0, 'Movie_Title')\n",
    "Data = Data.reindex(columns= Temp)\n",
    "del Temp\n",
    "Data.head().style.hide_index()"
   ]
  },
  {
   "cell_type": "markdown",
   "metadata": {},
   "source": [
    "## Removing unnessary columns\n",
    "\n",
    "Note that"
   ]
  },
  {
   "cell_type": "code",
   "execution_count": 4,
   "metadata": {
    "scrolled": false
   },
   "outputs": [
    {
     "name": "stdout",
     "output_type": "stream",
     "text": [
      "\u001b[40m\u001b[36m\u001b[22mColumns:\u001b[0m Movie_Title, Actor_1_Facebook_Likes, Actor_1_Name, Actor_2_Facebook_Likes, Actor_2_Name, Actor_3_Facebook_Likes, Actor_3_Name, Aspect_Ratio, Budget, Cast_Total_Facebook_Likes, Color, Content_Rating, Country, Director_Facebook_Likes, Director_Name, Duration, Facenumber_In_Poster, Genres, Gross, IMDB_Score, Language, Movie_Facebook_Likes, Movie_IMDB_Link, Num_Critic_For_Reviews, Num_User_For_Reviews, Num_Voted_Users, Plot_Keywords, Title_Year\n"
     ]
    }
   ],
   "source": [
    "print(Back.BLACK + Fore.CYAN + Style.NORMAL + 'Columns:'+ Style.RESET_ALL + ' %s' % ', '.join(Data.columns))"
   ]
  },
  {
   "cell_type": "markdown",
   "metadata": {},
   "source": [
    "The following three columns are unnecessary for our study. Thus, we are going to remove these columns.\n",
    "* `Facenumber_In_Poster`\n",
    "* `Movie_IMDB_Link`\n",
    "* `Aspect_Ratioo`"
   ]
  },
  {
   "cell_type": "code",
   "execution_count": 5,
   "metadata": {},
   "outputs": [
    {
     "data": {
      "text/html": [
       "<div>\n",
       "<style scoped>\n",
       "    .dataframe tbody tr th:only-of-type {\n",
       "        vertical-align: middle;\n",
       "    }\n",
       "\n",
       "    .dataframe tbody tr th {\n",
       "        vertical-align: top;\n",
       "    }\n",
       "\n",
       "    .dataframe thead th {\n",
       "        text-align: right;\n",
       "    }\n",
       "</style>\n",
       "<table border=\"1\" class=\"dataframe\">\n",
       "  <thead>\n",
       "    <tr style=\"text-align: right;\">\n",
       "      <th></th>\n",
       "      <th>Facenumber_In_Poster</th>\n",
       "      <th>Movie_IMDB_Link</th>\n",
       "      <th>Aspect_Ratio</th>\n",
       "    </tr>\n",
       "  </thead>\n",
       "  <tbody>\n",
       "    <tr>\n",
       "      <th>0</th>\n",
       "      <td>0.0</td>\n",
       "      <td>http://www.imdb.com/title/tt0499549/?ref_=fn_t...</td>\n",
       "      <td>1.78</td>\n",
       "    </tr>\n",
       "    <tr>\n",
       "      <th>1</th>\n",
       "      <td>0.0</td>\n",
       "      <td>http://www.imdb.com/title/tt0449088/?ref_=fn_t...</td>\n",
       "      <td>2.35</td>\n",
       "    </tr>\n",
       "    <tr>\n",
       "      <th>2</th>\n",
       "      <td>1.0</td>\n",
       "      <td>http://www.imdb.com/title/tt2379713/?ref_=fn_t...</td>\n",
       "      <td>2.35</td>\n",
       "    </tr>\n",
       "    <tr>\n",
       "      <th>3</th>\n",
       "      <td>0.0</td>\n",
       "      <td>http://www.imdb.com/title/tt1345836/?ref_=fn_t...</td>\n",
       "      <td>2.35</td>\n",
       "    </tr>\n",
       "    <tr>\n",
       "      <th>4</th>\n",
       "      <td>0.0</td>\n",
       "      <td>http://www.imdb.com/title/tt5289954/?ref_=fn_t...</td>\n",
       "      <td>NaN</td>\n",
       "    </tr>\n",
       "  </tbody>\n",
       "</table>\n",
       "</div>"
      ],
      "text/plain": [
       "   Facenumber_In_Poster                                    Movie_IMDB_Link  \\\n",
       "0                   0.0  http://www.imdb.com/title/tt0499549/?ref_=fn_t...   \n",
       "1                   0.0  http://www.imdb.com/title/tt0449088/?ref_=fn_t...   \n",
       "2                   1.0  http://www.imdb.com/title/tt2379713/?ref_=fn_t...   \n",
       "3                   0.0  http://www.imdb.com/title/tt1345836/?ref_=fn_t...   \n",
       "4                   0.0  http://www.imdb.com/title/tt5289954/?ref_=fn_t...   \n",
       "\n",
       "   Aspect_Ratio  \n",
       "0          1.78  \n",
       "1          2.35  \n",
       "2          2.35  \n",
       "3          2.35  \n",
       "4           NaN  "
      ]
     },
     "metadata": {},
     "output_type": "display_data"
    }
   ],
   "source": [
    "Drop_column_list = ['Facenumber_In_Poster', 'Movie_IMDB_Link', 'Aspect_Ratio']\n",
    "display(Data[Drop_column_list].head())"
   ]
  },
  {
   "cell_type": "markdown",
   "metadata": {},
   "source": [
    "Thus, these columns are dropped from our data"
   ]
  },
  {
   "cell_type": "code",
   "execution_count": 6,
   "metadata": {},
   "outputs": [],
   "source": [
    "Data.drop(Drop_column_list, axis=1, inplace=True)\n",
    "del Drop_column_list"
   ]
  },
  {
   "cell_type": "markdown",
   "metadata": {},
   "source": [
    "## Duplicated Values"
   ]
  },
  {
   "cell_type": "markdown",
   "metadata": {},
   "source": [
    "First off, note that"
   ]
  },
  {
   "cell_type": "code",
   "execution_count": 7,
   "metadata": {
    "scrolled": false
   },
   "outputs": [
    {
     "data": {
      "text/html": [
       "<div>\n",
       "<style scoped>\n",
       "    .dataframe tbody tr th:only-of-type {\n",
       "        vertical-align: middle;\n",
       "    }\n",
       "\n",
       "    .dataframe tbody tr th {\n",
       "        vertical-align: top;\n",
       "    }\n",
       "\n",
       "    .dataframe thead th {\n",
       "        text-align: right;\n",
       "    }\n",
       "</style>\n",
       "<table border=\"1\" class=\"dataframe\">\n",
       "  <thead>\n",
       "    <tr style=\"text-align: right;\">\n",
       "      <th></th>\n",
       "      <th>Movie_Title</th>\n",
       "    </tr>\n",
       "  </thead>\n",
       "  <tbody>\n",
       "    <tr>\n",
       "      <th>6</th>\n",
       "      <td>Spider-Man 3</td>\n",
       "    </tr>\n",
       "    <tr>\n",
       "      <th>17</th>\n",
       "      <td>The Avengers</td>\n",
       "    </tr>\n",
       "    <tr>\n",
       "      <th>25</th>\n",
       "      <td>King Kong</td>\n",
       "    </tr>\n",
       "    <tr>\n",
       "      <th>30</th>\n",
       "      <td>Skyfall</td>\n",
       "    </tr>\n",
       "    <tr>\n",
       "      <th>33</th>\n",
       "      <td>Alice in Wonderland</td>\n",
       "    </tr>\n",
       "    <tr>\n",
       "      <th>...</th>\n",
       "      <td>...</td>\n",
       "    </tr>\n",
       "    <tr>\n",
       "      <th>3800</th>\n",
       "      <td>Saving Grace</td>\n",
       "    </tr>\n",
       "    <tr>\n",
       "      <th>3887</th>\n",
       "      <td>Night of the Living Dead</td>\n",
       "    </tr>\n",
       "    <tr>\n",
       "      <th>3984</th>\n",
       "      <td>The Full Monty</td>\n",
       "    </tr>\n",
       "    <tr>\n",
       "      <th>4223</th>\n",
       "      <td>The Calling</td>\n",
       "    </tr>\n",
       "    <tr>\n",
       "      <th>4949</th>\n",
       "      <td>A Dog's Breakfast</td>\n",
       "    </tr>\n",
       "  </tbody>\n",
       "</table>\n",
       "<p>126 rows × 1 columns</p>\n",
       "</div>"
      ],
      "text/plain": [
       "                    Movie_Title\n",
       "6                 Spider-Man 3 \n",
       "17                The Avengers \n",
       "25                   King Kong \n",
       "30                     Skyfall \n",
       "33         Alice in Wonderland \n",
       "...                         ...\n",
       "3800  Saving Grace             \n",
       "3887  Night of the Living Dead \n",
       "3984            The Full Monty \n",
       "4223               The Calling \n",
       "4949         A Dog's Breakfast \n",
       "\n",
       "[126 rows x 1 columns]"
      ]
     },
     "execution_count": 7,
     "metadata": {},
     "output_type": "execute_result"
    }
   ],
   "source": [
    "Data_Duplicated = Data[Data.Movie_Title.duplicated(keep='last')]\n",
    "pd.DataFrame(Data_Duplicated.Movie_Title)"
   ]
  },
  {
   "cell_type": "markdown",
   "metadata": {},
   "source": [
    "These values are duplicated!"
   ]
  },
  {
   "cell_type": "code",
   "execution_count": 8,
   "metadata": {
    "scrolled": true
   },
   "outputs": [
    {
     "name": "stdout",
     "output_type": "stream",
     "text": [
      "There are 4917 unique rows from 5043.\n",
      "There are 126 duplicated rows.\n"
     ]
    }
   ],
   "source": [
    "print(\"There are %i unique rows from %i.\"% (len(Data.Movie_Title.unique()), len(Data.Movie_Title)))\n",
    "number_of_duplicated=len(Data.Movie_Title)-len(Data.Movie_Title.unique())\n",
    "print(\"There are %i duplicated rows.\"% number_of_duplicated)\n",
    "del number_of_duplicated, Data_Duplicated"
   ]
  },
  {
   "cell_type": "markdown",
   "metadata": {},
   "source": [
    "Removing the duplicated movies."
   ]
  },
  {
   "cell_type": "code",
   "execution_count": 9,
   "metadata": {},
   "outputs": [],
   "source": [
    "Data.drop_duplicates(subset=\"Movie_Title\", inplace=True)"
   ]
  },
  {
   "cell_type": "markdown",
   "metadata": {},
   "source": [
    "## Missing values"
   ]
  },
  {
   "cell_type": "code",
   "execution_count": 10,
   "metadata": {},
   "outputs": [
    {
     "data": {
      "text/html": [
       "<div>\n",
       "<style scoped>\n",
       "    .dataframe tbody tr th:only-of-type {\n",
       "        vertical-align: middle;\n",
       "    }\n",
       "\n",
       "    .dataframe tbody tr th {\n",
       "        vertical-align: top;\n",
       "    }\n",
       "\n",
       "    .dataframe thead th {\n",
       "        text-align: right;\n",
       "    }\n",
       "</style>\n",
       "<table border=\"1\" class=\"dataframe\">\n",
       "  <thead>\n",
       "    <tr style=\"text-align: right;\">\n",
       "      <th></th>\n",
       "      <th>Data Type</th>\n",
       "      <th>Number of NaN Values</th>\n",
       "      <th>Size</th>\n",
       "      <th>Percentage</th>\n",
       "    </tr>\n",
       "  </thead>\n",
       "  <tbody>\n",
       "    <tr>\n",
       "      <th>Actor_1_Facebook_Likes</th>\n",
       "      <td>float64</td>\n",
       "      <td>7</td>\n",
       "      <td>4917</td>\n",
       "      <td>0.14</td>\n",
       "    </tr>\n",
       "    <tr>\n",
       "      <th>Actor_1_Name</th>\n",
       "      <td>object</td>\n",
       "      <td>7</td>\n",
       "      <td>4917</td>\n",
       "      <td>0.14</td>\n",
       "    </tr>\n",
       "    <tr>\n",
       "      <th>Actor_2_Facebook_Likes</th>\n",
       "      <td>float64</td>\n",
       "      <td>13</td>\n",
       "      <td>4917</td>\n",
       "      <td>0.26</td>\n",
       "    </tr>\n",
       "    <tr>\n",
       "      <th>Actor_2_Name</th>\n",
       "      <td>object</td>\n",
       "      <td>13</td>\n",
       "      <td>4917</td>\n",
       "      <td>0.26</td>\n",
       "    </tr>\n",
       "    <tr>\n",
       "      <th>Actor_3_Facebook_Likes</th>\n",
       "      <td>float64</td>\n",
       "      <td>23</td>\n",
       "      <td>4917</td>\n",
       "      <td>0.47</td>\n",
       "    </tr>\n",
       "    <tr>\n",
       "      <th>Actor_3_Name</th>\n",
       "      <td>object</td>\n",
       "      <td>23</td>\n",
       "      <td>4917</td>\n",
       "      <td>0.47</td>\n",
       "    </tr>\n",
       "    <tr>\n",
       "      <th>Budget</th>\n",
       "      <td>float64</td>\n",
       "      <td>484</td>\n",
       "      <td>4917</td>\n",
       "      <td>9.84</td>\n",
       "    </tr>\n",
       "    <tr>\n",
       "      <th>Cast_Total_Facebook_Likes</th>\n",
       "      <td>int64</td>\n",
       "      <td>0</td>\n",
       "      <td>4917</td>\n",
       "      <td>0.00</td>\n",
       "    </tr>\n",
       "    <tr>\n",
       "      <th>Color</th>\n",
       "      <td>object</td>\n",
       "      <td>19</td>\n",
       "      <td>4917</td>\n",
       "      <td>0.39</td>\n",
       "    </tr>\n",
       "    <tr>\n",
       "      <th>Content_Rating</th>\n",
       "      <td>object</td>\n",
       "      <td>300</td>\n",
       "      <td>4917</td>\n",
       "      <td>6.10</td>\n",
       "    </tr>\n",
       "    <tr>\n",
       "      <th>Country</th>\n",
       "      <td>object</td>\n",
       "      <td>5</td>\n",
       "      <td>4917</td>\n",
       "      <td>0.10</td>\n",
       "    </tr>\n",
       "    <tr>\n",
       "      <th>Director_Facebook_Likes</th>\n",
       "      <td>float64</td>\n",
       "      <td>102</td>\n",
       "      <td>4917</td>\n",
       "      <td>2.07</td>\n",
       "    </tr>\n",
       "    <tr>\n",
       "      <th>Director_Name</th>\n",
       "      <td>object</td>\n",
       "      <td>102</td>\n",
       "      <td>4917</td>\n",
       "      <td>2.07</td>\n",
       "    </tr>\n",
       "    <tr>\n",
       "      <th>Duration</th>\n",
       "      <td>float64</td>\n",
       "      <td>15</td>\n",
       "      <td>4917</td>\n",
       "      <td>0.31</td>\n",
       "    </tr>\n",
       "    <tr>\n",
       "      <th>Genres</th>\n",
       "      <td>object</td>\n",
       "      <td>0</td>\n",
       "      <td>4917</td>\n",
       "      <td>0.00</td>\n",
       "    </tr>\n",
       "    <tr>\n",
       "      <th>Gross</th>\n",
       "      <td>float64</td>\n",
       "      <td>863</td>\n",
       "      <td>4917</td>\n",
       "      <td>17.55</td>\n",
       "    </tr>\n",
       "    <tr>\n",
       "      <th>IMDB_Score</th>\n",
       "      <td>float64</td>\n",
       "      <td>0</td>\n",
       "      <td>4917</td>\n",
       "      <td>0.00</td>\n",
       "    </tr>\n",
       "    <tr>\n",
       "      <th>Language</th>\n",
       "      <td>object</td>\n",
       "      <td>12</td>\n",
       "      <td>4917</td>\n",
       "      <td>0.24</td>\n",
       "    </tr>\n",
       "    <tr>\n",
       "      <th>Movie_Facebook_Likes</th>\n",
       "      <td>int64</td>\n",
       "      <td>0</td>\n",
       "      <td>4917</td>\n",
       "      <td>0.00</td>\n",
       "    </tr>\n",
       "    <tr>\n",
       "      <th>Movie_Title</th>\n",
       "      <td>object</td>\n",
       "      <td>0</td>\n",
       "      <td>4917</td>\n",
       "      <td>0.00</td>\n",
       "    </tr>\n",
       "    <tr>\n",
       "      <th>Num_Critic_For_Reviews</th>\n",
       "      <td>float64</td>\n",
       "      <td>49</td>\n",
       "      <td>4917</td>\n",
       "      <td>1.00</td>\n",
       "    </tr>\n",
       "    <tr>\n",
       "      <th>Num_User_For_Reviews</th>\n",
       "      <td>float64</td>\n",
       "      <td>21</td>\n",
       "      <td>4917</td>\n",
       "      <td>0.43</td>\n",
       "    </tr>\n",
       "    <tr>\n",
       "      <th>Num_Voted_Users</th>\n",
       "      <td>int64</td>\n",
       "      <td>0</td>\n",
       "      <td>4917</td>\n",
       "      <td>0.00</td>\n",
       "    </tr>\n",
       "    <tr>\n",
       "      <th>Plot_Keywords</th>\n",
       "      <td>object</td>\n",
       "      <td>152</td>\n",
       "      <td>4917</td>\n",
       "      <td>3.09</td>\n",
       "    </tr>\n",
       "    <tr>\n",
       "      <th>Title_Year</th>\n",
       "      <td>float64</td>\n",
       "      <td>106</td>\n",
       "      <td>4917</td>\n",
       "      <td>2.16</td>\n",
       "    </tr>\n",
       "  </tbody>\n",
       "</table>\n",
       "</div>"
      ],
      "text/plain": [
       "                          Data Type  Number of NaN Values  Size  Percentage\n",
       "Actor_1_Facebook_Likes      float64                     7  4917        0.14\n",
       "Actor_1_Name                 object                     7  4917        0.14\n",
       "Actor_2_Facebook_Likes      float64                    13  4917        0.26\n",
       "Actor_2_Name                 object                    13  4917        0.26\n",
       "Actor_3_Facebook_Likes      float64                    23  4917        0.47\n",
       "Actor_3_Name                 object                    23  4917        0.47\n",
       "Budget                      float64                   484  4917        9.84\n",
       "Cast_Total_Facebook_Likes     int64                     0  4917        0.00\n",
       "Color                        object                    19  4917        0.39\n",
       "Content_Rating               object                   300  4917        6.10\n",
       "Country                      object                     5  4917        0.10\n",
       "Director_Facebook_Likes     float64                   102  4917        2.07\n",
       "Director_Name                object                   102  4917        2.07\n",
       "Duration                    float64                    15  4917        0.31\n",
       "Genres                       object                     0  4917        0.00\n",
       "Gross                       float64                   863  4917       17.55\n",
       "IMDB_Score                  float64                     0  4917        0.00\n",
       "Language                     object                    12  4917        0.24\n",
       "Movie_Facebook_Likes          int64                     0  4917        0.00\n",
       "Movie_Title                  object                     0  4917        0.00\n",
       "Num_Critic_For_Reviews      float64                    49  4917        1.00\n",
       "Num_User_For_Reviews        float64                    21  4917        0.43\n",
       "Num_Voted_Users               int64                     0  4917        0.00\n",
       "Plot_Keywords                object                   152  4917        3.09\n",
       "Title_Year                  float64                   106  4917        2.16"
      ]
     },
     "metadata": {},
     "output_type": "display_data"
    }
   ],
   "source": [
    "def Data_info(Inp, Only_NaN = False):\n",
    "    Out = Inp.dtypes.to_frame(name='Data Type').sort_values(by=['Data Type'])\n",
    "    Out = Out.join(Inp.isnull().sum().to_frame(name = 'Number of NaN Values'), how='outer')\n",
    "    Out ['Size'] = Inp.shape[0]\n",
    "    Out['Percentage'] = np.round(100*(Out['Number of NaN Values']/Inp.shape[0]),2)\n",
    "    if Only_NaN:\n",
    "        Out = Out.loc[Out['Number of NaN Values']>0]\n",
    "    return Out\n",
    "Temp = Data_info(Data)\n",
    "display(Temp)"
   ]
  },
  {
   "cell_type": "markdown",
   "metadata": {},
   "source": [
    "```msno.bar``` is a simple visualization of nullity by column (see [this link](https://github.com/ResidentMario/missingno) for more details):"
   ]
  },
  {
   "cell_type": "code",
   "execution_count": 11,
   "metadata": {},
   "outputs": [
    {
     "data": {
      "image/png": "[encoded data removed]",
      "text/plain": [
       "<Figure size 1152x432 with 3 Axes>"
      ]
     },
     "metadata": {
      "needs_background": "light"
     },
     "output_type": "display_data"
    }
   ],
   "source": [
    "_ = msno.bar(Data, figsize=(16,6), fontsize=14, log=False, color=\"#34495e\")"
   ]
  },
  {
   "cell_type": "code",
   "execution_count": 12,
   "metadata": {},
   "outputs": [
    {
     "name": "stdout",
     "output_type": "stream",
     "text": [
      "\u001b[40m\u001b[31m\u001b[22mColumns with NaN values:\u001b[0m Actor_1_Facebook_Likes, Actor_1_Name, Actor_2_Facebook_Likes, Actor_2_Name, Actor_3_Facebook_Likes, Actor_3_Name, Budget, Color, Content_Rating, Country, Director_Facebook_Likes, Director_Name, Duration, Gross, Language, Num_Critic_For_Reviews, Num_User_For_Reviews, Plot_Keywords, Title_Year:\n"
     ]
    }
   ],
   "source": [
    "Temp = Temp.loc[ Temp['Number of NaN Values']>0].index.tolist()\n",
    "print(Back.BLACK + Fore.RED + Style.NORMAL + 'Columns with NaN values:'+ Style.RESET_ALL + ' %s:' % ', '.join(Temp))"
   ]
  },
  {
   "cell_type": "markdown",
   "metadata": {},
   "source": [
    "<div class=\"alert alert-danger\" role=\"alert\">\n",
    "<font size=\"+1\"><b>Column: Director_Name</b></font>\n",
    "</div>\n",
    "\n",
    "We can just simply drop rows without `director_name`."
   ]
  },
  {
   "cell_type": "code",
   "execution_count": 13,
   "metadata": {},
   "outputs": [],
   "source": [
    "Data.drop(Data[Data.Director_Name.isna()].index, inplace=True)"
   ]
  },
  {
   "cell_type": "markdown",
   "metadata": {},
   "source": [
    "<div class=\"alert alert-danger\" role=\"alert\">\n",
    "<font size=\"+1\"><b>Column: Budget</b></font>\n",
    "</div>\n",
    "\n",
    "We can just simply drop rows without `director_name`.\n",
    "\n",
    "We can use [**sklearn.impute.SimpleImputer**](https://scikit-learn.org/stable/modules/generated/sklearn.impute.SimpleImputer.html) for imputation transformer for completing missing values."
   ]
  },
  {
   "cell_type": "code",
   "execution_count": 14,
   "metadata": {},
   "outputs": [],
   "source": [
    "imp= SimpleImputer(missing_values=np.nan, strategy='mean')\n",
    "temp=imp.fit_transform(Data['Budget'].values.reshape(-1, 1))\n",
    "Data['Budget']=temp\n",
    "del temp, imp"
   ]
  },
  {
   "cell_type": "markdown",
   "metadata": {},
   "source": [
    "<div class=\"alert alert-danger\" role=\"alert\">\n",
    "<font size=\"+1\"><b>Column: Color</b></font>\n",
    "</div>\n",
    "\n",
    "For moviess `color`, we have"
   ]
  },
  {
   "cell_type": "code",
   "execution_count": 15,
   "metadata": {
    "scrolled": false
   },
   "outputs": [
    {
     "data": {
      "text/html": [
       "<div>\n",
       "<style scoped>\n",
       "    .dataframe tbody tr th:only-of-type {\n",
       "        vertical-align: middle;\n",
       "    }\n",
       "\n",
       "    .dataframe tbody tr th {\n",
       "        vertical-align: top;\n",
       "    }\n",
       "\n",
       "    .dataframe thead th {\n",
       "        text-align: right;\n",
       "    }\n",
       "</style>\n",
       "<table border=\"1\" class=\"dataframe\">\n",
       "  <thead>\n",
       "    <tr style=\"text-align: right;\">\n",
       "      <th></th>\n",
       "      <th>Movie_Title</th>\n",
       "      <th>Title_Year</th>\n",
       "      <th>Color</th>\n",
       "    </tr>\n",
       "  </thead>\n",
       "  <tbody>\n",
       "    <tr>\n",
       "      <th>4846</th>\n",
       "      <td>Midnight Cabaret</td>\n",
       "      <td>1990.0</td>\n",
       "      <td>NaN</td>\n",
       "    </tr>\n",
       "    <tr>\n",
       "      <th>2753</th>\n",
       "      <td>Shinjuku Incident</td>\n",
       "      <td>2009.0</td>\n",
       "      <td>NaN</td>\n",
       "    </tr>\n",
       "    <tr>\n",
       "      <th>1948</th>\n",
       "      <td>Dear John</td>\n",
       "      <td>2010.0</td>\n",
       "      <td>NaN</td>\n",
       "    </tr>\n",
       "    <tr>\n",
       "      <th>3638</th>\n",
       "      <td>Snow Flower and the Secret Fan</td>\n",
       "      <td>2011.0</td>\n",
       "      <td>NaN</td>\n",
       "    </tr>\n",
       "    <tr>\n",
       "      <th>5020</th>\n",
       "      <td>The Ridges</td>\n",
       "      <td>2011.0</td>\n",
       "      <td>NaN</td>\n",
       "    </tr>\n",
       "  </tbody>\n",
       "</table>\n",
       "</div>"
      ],
      "text/plain": [
       "                          Movie_Title  Title_Year Color\n",
       "4846                Midnight Cabaret       1990.0   NaN\n",
       "2753               Shinjuku Incident       2009.0   NaN\n",
       "1948                       Dear John       2010.0   NaN\n",
       "3638  Snow Flower and the Secret Fan       2011.0   NaN\n",
       "5020                      The Ridges       2011.0   NaN"
      ]
     },
     "execution_count": 15,
     "metadata": {},
     "output_type": "execute_result"
    }
   ],
   "source": [
    "Ind = Data.Color.isna()\n",
    "Data.loc[Ind, ['Movie_Title','Title_Year','Color']].sort_values(by='Title_Year', ascending=True).head()"
   ]
  },
  {
   "cell_type": "markdown",
   "metadata": {},
   "source": [
    "We can assume that these movies are all in color since the earliest movie on this list is 1990. Thus,"
   ]
  },
  {
   "cell_type": "code",
   "execution_count": 16,
   "metadata": {},
   "outputs": [
    {
     "data": {
      "text/html": [
       "<div>\n",
       "<style scoped>\n",
       "    .dataframe tbody tr th:only-of-type {\n",
       "        vertical-align: middle;\n",
       "    }\n",
       "\n",
       "    .dataframe tbody tr th {\n",
       "        vertical-align: top;\n",
       "    }\n",
       "\n",
       "    .dataframe thead th {\n",
       "        text-align: right;\n",
       "    }\n",
       "</style>\n",
       "<table border=\"1\" class=\"dataframe\">\n",
       "  <thead>\n",
       "    <tr style=\"text-align: right;\">\n",
       "      <th></th>\n",
       "      <th>Movie_Title</th>\n",
       "      <th>Title_Year</th>\n",
       "      <th>Color</th>\n",
       "    </tr>\n",
       "  </thead>\n",
       "  <tbody>\n",
       "    <tr>\n",
       "      <th>4846</th>\n",
       "      <td>Midnight Cabaret</td>\n",
       "      <td>1990.0</td>\n",
       "      <td>Color</td>\n",
       "    </tr>\n",
       "    <tr>\n",
       "      <th>2753</th>\n",
       "      <td>Shinjuku Incident</td>\n",
       "      <td>2009.0</td>\n",
       "      <td>Color</td>\n",
       "    </tr>\n",
       "    <tr>\n",
       "      <th>1948</th>\n",
       "      <td>Dear John</td>\n",
       "      <td>2010.0</td>\n",
       "      <td>Color</td>\n",
       "    </tr>\n",
       "    <tr>\n",
       "      <th>3638</th>\n",
       "      <td>Snow Flower and the Secret Fan</td>\n",
       "      <td>2011.0</td>\n",
       "      <td>Color</td>\n",
       "    </tr>\n",
       "    <tr>\n",
       "      <th>5020</th>\n",
       "      <td>The Ridges</td>\n",
       "      <td>2011.0</td>\n",
       "      <td>Color</td>\n",
       "    </tr>\n",
       "  </tbody>\n",
       "</table>\n",
       "</div>"
      ],
      "text/plain": [
       "                          Movie_Title  Title_Year  Color\n",
       "4846                Midnight Cabaret       1990.0  Color\n",
       "2753               Shinjuku Incident       2009.0  Color\n",
       "1948                       Dear John       2010.0  Color\n",
       "3638  Snow Flower and the Secret Fan       2011.0  Color\n",
       "5020                      The Ridges       2011.0  Color"
      ]
     },
     "metadata": {},
     "output_type": "display_data"
    }
   ],
   "source": [
    "Data.Color.fillna('Color', inplace=True)\n",
    "display(Data.loc[Ind, ['Movie_Title','Title_Year','Color']].sort_values(by='Title_Year', ascending=True).head())"
   ]
  },
  {
   "cell_type": "markdown",
   "metadata": {},
   "source": [
    "<div class=\"alert alert-danger\" role=\"alert\">\n",
    "<font size=\"+1\"><b>Column: Language</b></font>\n",
    "</div>\n",
    "\n",
    "As for the `Language`, we have,"
   ]
  },
  {
   "cell_type": "code",
   "execution_count": 17,
   "metadata": {},
   "outputs": [
    {
     "name": "stdout",
     "output_type": "stream",
     "text": [
      "\u001b[43m\u001b[30m\u001b[22mLanguages:\u001b[0m English, nan, Japanese, French, Mandarin, Aboriginal, Spanish, Filipino, Hindi, Russian, Maya, Kazakh, Telugu, Cantonese, German, Aramaic, Italian, Dutch, Dari, Hebrew, Chinese, Mongolian, Swedish, Korean, Thai, Bosnian, None, Hungarian, Portuguese, Icelandic, Danish, Arabic, Norwegian, Czech, Kannada, Zulu, Panjabi, Polish, Tamil, Dzongkha, Vietnamese, Indonesian, Urdu, Romanian, Persian, Slovenian, Greek, Swahili:\n"
     ]
    }
   ],
   "source": [
    "Temp = [str(x) for x in Data.Language.unique()]\n",
    "print(Back.YELLOW + Fore.BLACK + Style.NORMAL + 'Languages:'+ Style.RESET_ALL + ' %s:' % ', '.join(Temp))"
   ]
  },
  {
   "cell_type": "markdown",
   "metadata": {},
   "source": [
    "We can see undesired values such as *NaN* and *None*. First, let's deal with *None*. We have"
   ]
  },
  {
   "cell_type": "code",
   "execution_count": 18,
   "metadata": {},
   "outputs": [
    {
     "data": {
      "text/plain": [
       "2895    Canada\n",
       "3931       USA\n",
       "Name: Country, dtype: object"
      ]
     },
     "execution_count": 18,
     "metadata": {},
     "output_type": "execute_result"
    }
   ],
   "source": [
    "Data.loc[Data.Language == 'None', 'Country']"
   ]
  },
  {
   "cell_type": "markdown",
   "metadata": {},
   "source": [
    "We can assume that these movies have been produced in English."
   ]
  },
  {
   "cell_type": "code",
   "execution_count": 19,
   "metadata": {},
   "outputs": [
    {
     "data": {
      "text/plain": [
       "4       NaN\n",
       "279     NaN\n",
       "3086    USA\n",
       "3539    USA\n",
       "3869    USA\n",
       "4110    USA\n",
       "4409    USA\n",
       "4630    USA\n",
       "4810    USA\n",
       "4885    USA\n",
       "4958    USA\n",
       "Name: Country, dtype: object"
      ]
     },
     "execution_count": 19,
     "metadata": {},
     "output_type": "execute_result"
    }
   ],
   "source": [
    "Data.loc[Data.Language.isna(), 'Country']"
   ]
  },
  {
   "cell_type": "markdown",
   "metadata": {},
   "source": [
    "Since most movies are from the USA, we can assume that these movies have been produced in English. Therefore,"
   ]
  },
  {
   "cell_type": "code",
   "execution_count": 20,
   "metadata": {},
   "outputs": [],
   "source": [
    "Data.Language.fillna('English', inplace=True)\n",
    "Data.Language.replace('None', 'English', inplace=True)"
   ]
  },
  {
   "cell_type": "markdown",
   "metadata": {},
   "source": [
    "<div class=\"alert alert-danger\" role=\"alert\">\n",
    "<font size=\"+1\"><b>Column: Duration</b></font>\n",
    "</div>\n",
    "\n",
    "We can see that `Duration` of some movies are missing."
   ]
  },
  {
   "cell_type": "code",
   "execution_count": 21,
   "metadata": {
    "scrolled": false
   },
   "outputs": [
    {
     "data": {
      "text/html": [
       "<div>\n",
       "<style scoped>\n",
       "    .dataframe tbody tr th:only-of-type {\n",
       "        vertical-align: middle;\n",
       "    }\n",
       "\n",
       "    .dataframe tbody tr th {\n",
       "        vertical-align: top;\n",
       "    }\n",
       "\n",
       "    .dataframe thead th {\n",
       "        text-align: right;\n",
       "    }\n",
       "</style>\n",
       "<table border=\"1\" class=\"dataframe\">\n",
       "  <thead>\n",
       "    <tr style=\"text-align: right;\">\n",
       "      <th></th>\n",
       "      <th>Movie_Title</th>\n",
       "      <th>Duration</th>\n",
       "    </tr>\n",
       "  </thead>\n",
       "  <tbody>\n",
       "    <tr>\n",
       "      <th>4</th>\n",
       "      <td>Star Wars: Episode VII - The Force Awakens    ...</td>\n",
       "      <td>NaN</td>\n",
       "    </tr>\n",
       "    <tr>\n",
       "      <th>199</th>\n",
       "      <td>Harry Potter and the Deathly Hallows: Part II</td>\n",
       "      <td>NaN</td>\n",
       "    </tr>\n",
       "    <tr>\n",
       "      <th>206</th>\n",
       "      <td>Harry Potter and the Deathly Hallows: Part I</td>\n",
       "      <td>NaN</td>\n",
       "    </tr>\n",
       "    <tr>\n",
       "      <th>1510</th>\n",
       "      <td>Black Water Transit</td>\n",
       "      <td>NaN</td>\n",
       "    </tr>\n",
       "    <tr>\n",
       "      <th>3815</th>\n",
       "      <td>Should've Been Romeo</td>\n",
       "      <td>NaN</td>\n",
       "    </tr>\n",
       "  </tbody>\n",
       "</table>\n",
       "</div>"
      ],
      "text/plain": [
       "                                            Movie_Title  Duration\n",
       "4     Star Wars: Episode VII - The Force Awakens    ...       NaN\n",
       "199      Harry Potter and the Deathly Hallows: Part II        NaN\n",
       "206       Harry Potter and the Deathly Hallows: Part I        NaN\n",
       "1510                               Black Water Transit        NaN\n",
       "3815                              Should've Been Romeo        NaN"
      ]
     },
     "execution_count": 21,
     "metadata": {},
     "output_type": "execute_result"
    }
   ],
   "source": [
    "Data.loc[Data.Duration.isna(), ['Movie_Title','Duration']].head()"
   ]
  },
  {
   "cell_type": "markdown",
   "metadata": {},
   "source": [
    "There is nothing that can be done regarding these movies and we are going to simply drop them."
   ]
  },
  {
   "cell_type": "code",
   "execution_count": 22,
   "metadata": {},
   "outputs": [
    {
     "data": {
      "text/html": [
       "<div>\n",
       "<style scoped>\n",
       "    .dataframe tbody tr th:only-of-type {\n",
       "        vertical-align: middle;\n",
       "    }\n",
       "\n",
       "    .dataframe tbody tr th {\n",
       "        vertical-align: top;\n",
       "    }\n",
       "\n",
       "    .dataframe thead th {\n",
       "        text-align: right;\n",
       "    }\n",
       "</style>\n",
       "<table border=\"1\" class=\"dataframe\">\n",
       "  <thead>\n",
       "    <tr style=\"text-align: right;\">\n",
       "      <th></th>\n",
       "      <th>Movie_Title</th>\n",
       "      <th>Title_Year</th>\n",
       "    </tr>\n",
       "  </thead>\n",
       "  <tbody>\n",
       "    <tr>\n",
       "      <th>279</th>\n",
       "      <td>10,000 B.C.</td>\n",
       "      <td>NaN</td>\n",
       "    </tr>\n",
       "    <tr>\n",
       "      <th>2765</th>\n",
       "      <td>Towering Inferno</td>\n",
       "      <td>NaN</td>\n",
       "    </tr>\n",
       "    <tr>\n",
       "      <th>2870</th>\n",
       "      <td>Del 1 - Män som hatar kvinnor</td>\n",
       "      <td>NaN</td>\n",
       "    </tr>\n",
       "  </tbody>\n",
       "</table>\n",
       "</div>"
      ],
      "text/plain": [
       "                                     Movie_Title  Title_Year\n",
       "279                     10,000 B.C.                      NaN\n",
       "2765               Towering Inferno                      NaN\n",
       "2870  Del 1 - Män som hatar kvinnor                      NaN"
      ]
     },
     "metadata": {},
     "output_type": "display_data"
    }
   ],
   "source": [
    "Data.drop(Data.loc[Data.Duration.isna()].index, inplace=True)\n",
    "display(Data.loc[Data.Title_Year.isna(), ['Movie_Title','Title_Year']])"
   ]
  },
  {
   "cell_type": "markdown",
   "metadata": {},
   "source": [
    "Drop these data as well."
   ]
  },
  {
   "cell_type": "code",
   "execution_count": 23,
   "metadata": {},
   "outputs": [],
   "source": [
    "Data.drop(Data.loc[Data.Title_Year.isna()].index, inplace=True)"
   ]
  },
  {
   "cell_type": "markdown",
   "metadata": {},
   "source": [
    "<div class=\"alert alert-danger\" role=\"alert\">\n",
    "<font size=\"+1\"><b>Column: Country</b></font>\n",
    "</div>\n",
    "\n",
    "As for `Country`, there is only one movie with the country name."
   ]
  },
  {
   "cell_type": "code",
   "execution_count": 24,
   "metadata": {
    "scrolled": true
   },
   "outputs": [
    {
     "data": {
      "text/html": [
       "<div>\n",
       "<style scoped>\n",
       "    .dataframe tbody tr th:only-of-type {\n",
       "        vertical-align: middle;\n",
       "    }\n",
       "\n",
       "    .dataframe tbody tr th {\n",
       "        vertical-align: top;\n",
       "    }\n",
       "\n",
       "    .dataframe thead th {\n",
       "        text-align: right;\n",
       "    }\n",
       "</style>\n",
       "<table border=\"1\" class=\"dataframe\">\n",
       "  <thead>\n",
       "    <tr style=\"text-align: right;\">\n",
       "      <th></th>\n",
       "      <th>Movie_Title</th>\n",
       "      <th>Actor_1_Name</th>\n",
       "      <th>Actor_2_Name</th>\n",
       "      <th>Actor_3_Name</th>\n",
       "      <th>Director_Name</th>\n",
       "      <th>Country</th>\n",
       "    </tr>\n",
       "  </thead>\n",
       "  <tbody>\n",
       "    <tr>\n",
       "      <th>4021</th>\n",
       "      <td>Dawn Patrol</td>\n",
       "      <td>Chris Brochu</td>\n",
       "      <td>Jeff Fahey</td>\n",
       "      <td>Rita Wilson</td>\n",
       "      <td>Daniel Petrie Jr.</td>\n",
       "      <td>NaN</td>\n",
       "    </tr>\n",
       "  </tbody>\n",
       "</table>\n",
       "</div>"
      ],
      "text/plain": [
       "       Movie_Title  Actor_1_Name Actor_2_Name Actor_3_Name      Director_Name  \\\n",
       "4021  Dawn Patrol   Chris Brochu   Jeff Fahey  Rita Wilson  Daniel Petrie Jr.   \n",
       "\n",
       "     Country  \n",
       "4021     NaN  "
      ]
     },
     "execution_count": 24,
     "metadata": {},
     "output_type": "execute_result"
    }
   ],
   "source": [
    "temp=Data.loc[Data.Country.isna(),('Movie_Title','Actor_1_Name','Actor_2_Name','Actor_3_Name','Director_Name','Country')]\n",
    "temp"
   ]
  },
  {
   "cell_type": "markdown",
   "metadata": {},
   "source": [
    "We can search the data for the actor's names and their other movies."
   ]
  },
  {
   "cell_type": "code",
   "execution_count": 25,
   "metadata": {},
   "outputs": [],
   "source": [
    "Data.loc[(Data.Actor_1_Name == temp.Actor_1_Name.values[0])|\n",
    "         (Data.Actor_2_Name == temp.Actor_2_Name.values[0])|\n",
    "         (Data.Actor_3_Name == temp.Actor_3_Name.values[0]),'Country']\n",
    "del temp"
   ]
  },
  {
   "cell_type": "markdown",
   "metadata": {},
   "source": [
    "This movie is made in the USA and we can replace *NaN* with the USA."
   ]
  },
  {
   "cell_type": "code",
   "execution_count": 26,
   "metadata": {},
   "outputs": [],
   "source": [
    "Data.Country.fillna('USA', inplace=True)"
   ]
  },
  {
   "cell_type": "markdown",
   "metadata": {},
   "source": [
    "<div class=\"alert alert-danger\" role=\"alert\">\n",
    "<font size=\"+1\"><b>Column: Content_Rating</b></font>\n",
    "</div>\n",
    "\n",
    "For movie `ratings`, note that the ratings used since 1996 are [source](https://en.wikipedia.org/wiki/Motion_Picture_Association_of_America_film_rating_system)\n",
    "\n",
    "| Rated | Description |\n",
    "|-------|----------------------------------------------------------------------------------------|\n",
    "| G | General audiences – All ages admitted. |\n",
    "| PG | Parental guidance suggested – Some material may not be suitable for children. |\n",
    "| PG-13 | Parents strongly cautioned – Some material may be inappropriate for children under 13. |\n",
    "| R | Restricted – Under 17 requires accompanying parent or adult guardian. |\n",
    "| NC-17 | No one 17 and under admitted. |\n",
    "\n",
    "Thus, an standard list of ratings can be found as"
   ]
  },
  {
   "cell_type": "code",
   "execution_count": 27,
   "metadata": {},
   "outputs": [
    {
     "data": {
      "text/plain": [
       "array(['G', 'PG', 'PG-13', 'R', 'NC-17'], dtype=object)"
      ]
     },
     "execution_count": 27,
     "metadata": {},
     "output_type": "execute_result"
    }
   ],
   "source": [
    "Ratings_Standard = np.array(['G', 'PG', 'PG-13', 'R', 'NC-17'], dtype=object)\n",
    "Ratings_Standard "
   ]
  },
  {
   "cell_type": "markdown",
   "metadata": {},
   "source": [
    "However,"
   ]
  },
  {
   "cell_type": "code",
   "execution_count": 28,
   "metadata": {},
   "outputs": [
    {
     "data": {
      "text/plain": [
       "array(['PG-13', 'PG', 'G', 'R', nan, 'TV-14', 'Not Rated', 'Unrated',\n",
       "       'Approved', 'NC-17', 'X', 'GP', 'Passed', 'M', 'TV-G', 'TV-PG'],\n",
       "      dtype=object)"
      ]
     },
     "execution_count": 28,
     "metadata": {},
     "output_type": "execute_result"
    }
   ],
   "source": [
    "Data.Content_Rating.unique()"
   ]
  },
  {
   "cell_type": "markdown",
   "metadata": {},
   "source": [
    "We need to convert"
   ]
  },
  {
   "cell_type": "code",
   "execution_count": 29,
   "metadata": {},
   "outputs": [
    {
     "data": {
      "text/plain": [
       "[nan,\n",
       " 'Unrated',\n",
       " 'Passed',\n",
       " 'GP',\n",
       " 'TV-PG',\n",
       " 'M',\n",
       " 'X',\n",
       " 'Approved',\n",
       " 'Not Rated',\n",
       " 'TV-G',\n",
       " 'TV-14']"
      ]
     },
     "execution_count": 29,
     "metadata": {},
     "output_type": "execute_result"
    }
   ],
   "source": [
    "list(set(Data.Content_Rating.unique().tolist())-set(Ratings_Standard))"
   ]
  },
  {
   "cell_type": "markdown",
   "metadata": {},
   "source": [
    "To the standard form. We can convert these values using the following table.\n",
    "\n",
    "| Standard Format | Data Format |\n",
    "|-----------------|--------------------|\n",
    "| PG | G, TV-G, TV-PG, GP |\n",
    "| R | M |\n",
    "| Unrated | NaN,Not Rated |\n",
    "| Approved | Passed |\n",
    "| PG-13 | TV-14 |\n",
    "| NC-17 | X |"
   ]
  },
  {
   "cell_type": "code",
   "execution_count": 30,
   "metadata": {},
   "outputs": [
    {
     "data": {
      "text/plain": [
       "array(['PG-13', 'PG', 'G', 'R', nan, 'TV-14', 'Not Rated', 'Unrated',\n",
       "       'Approved', 'NC-17', 'X', 'GP', 'Passed', 'M', 'TV-G', 'TV-PG'],\n",
       "      dtype=object)"
      ]
     },
     "metadata": {},
     "output_type": "display_data"
    }
   ],
   "source": [
    "Conversation_Map = {'PG':'PG', 'TV-G':'PG', 'GP':'PG','TV-PG':'PG',\n",
    "                    'PG-13':'PG-13','TV-14':'PG-13',\n",
    "                    'G':'PG', 'R':'R', 'M':'R',\n",
    "                    np.nan:'Unrated', 'Unrated':'Unrated', 'Not Rated':'Unrated',\n",
    "                    'Approved':'Approved', 'Passed':'Approved',\n",
    "                    'NC-17':'NC-17', 'X':'NC-17'}\n",
    "\n",
    "Data.content_rating = Data.Content_Rating.map(Conversation_Map)\n",
    "\n",
    "display(Data.Content_Rating.unique())"
   ]
  },
  {
   "cell_type": "markdown",
   "metadata": {},
   "source": [
    "<div class=\"alert alert-danger\" role=\"alert\">\n",
    "<font size=\"+1\"><b>Columns contain 'Actor'</b></font>\n",
    "</div>\n",
    "\n",
    "As for actors,"
   ]
  },
  {
   "cell_type": "code",
   "execution_count": 31,
   "metadata": {},
   "outputs": [
    {
     "data": {
      "text/html": [
       "<div>\n",
       "<style scoped>\n",
       "    .dataframe tbody tr th:only-of-type {\n",
       "        vertical-align: middle;\n",
       "    }\n",
       "\n",
       "    .dataframe tbody tr th {\n",
       "        vertical-align: top;\n",
       "    }\n",
       "\n",
       "    .dataframe thead th {\n",
       "        text-align: right;\n",
       "    }\n",
       "</style>\n",
       "<table border=\"1\" class=\"dataframe\">\n",
       "  <thead>\n",
       "    <tr style=\"text-align: right;\">\n",
       "      <th></th>\n",
       "      <th>Actor_1_Name</th>\n",
       "      <th>Actor_2_Name</th>\n",
       "      <th>Actor_3_Name</th>\n",
       "    </tr>\n",
       "  </thead>\n",
       "  <tbody>\n",
       "    <tr>\n",
       "      <th>4502</th>\n",
       "      <td>NaN</td>\n",
       "      <td>NaN</td>\n",
       "      <td>NaN</td>\n",
       "    </tr>\n",
       "    <tr>\n",
       "      <th>4519</th>\n",
       "      <td>NaN</td>\n",
       "      <td>NaN</td>\n",
       "      <td>NaN</td>\n",
       "    </tr>\n",
       "    <tr>\n",
       "      <th>4720</th>\n",
       "      <td>NaN</td>\n",
       "      <td>NaN</td>\n",
       "      <td>NaN</td>\n",
       "    </tr>\n",
       "    <tr>\n",
       "      <th>4837</th>\n",
       "      <td>NaN</td>\n",
       "      <td>NaN</td>\n",
       "      <td>NaN</td>\n",
       "    </tr>\n",
       "    <tr>\n",
       "      <th>4945</th>\n",
       "      <td>NaN</td>\n",
       "      <td>NaN</td>\n",
       "      <td>NaN</td>\n",
       "    </tr>\n",
       "    <tr>\n",
       "      <th>4946</th>\n",
       "      <td>NaN</td>\n",
       "      <td>NaN</td>\n",
       "      <td>NaN</td>\n",
       "    </tr>\n",
       "    <tr>\n",
       "      <th>4990</th>\n",
       "      <td>NaN</td>\n",
       "      <td>NaN</td>\n",
       "      <td>NaN</td>\n",
       "    </tr>\n",
       "  </tbody>\n",
       "</table>\n",
       "</div>"
      ],
      "text/plain": [
       "     Actor_1_Name Actor_2_Name Actor_3_Name\n",
       "4502          NaN          NaN          NaN\n",
       "4519          NaN          NaN          NaN\n",
       "4720          NaN          NaN          NaN\n",
       "4837          NaN          NaN          NaN\n",
       "4945          NaN          NaN          NaN\n",
       "4946          NaN          NaN          NaN\n",
       "4990          NaN          NaN          NaN"
      ]
     },
     "metadata": {},
     "output_type": "display_data"
    }
   ],
   "source": [
    "Columns=list(Data.columns)\n",
    "# Actors Column List\n",
    "Actors_Column_List=list()\n",
    "for i in range(len(Columns)):\n",
    "    if (Columns[i].find('Actor') != -1 & Columns[i].find('Likes') == -1):\n",
    "        Actors_Column_List.append(Columns[i])\n",
    "        \n",
    "display(Data.loc[Data.Actor_1_Name.isna(), Actors_Column_List])"
   ]
  },
  {
   "cell_type": "markdown",
   "metadata": {},
   "source": [
    "Replacing these values with `'None'`."
   ]
  },
  {
   "cell_type": "code",
   "execution_count": 32,
   "metadata": {},
   "outputs": [],
   "source": [
    "Data.Actor_1_Name.fillna('None', inplace=True)\n",
    "Data.Actor_2_Name.fillna('None', inplace=True)\n",
    "Data.Actor_3_Name.fillna('None', inplace=True)"
   ]
  },
  {
   "cell_type": "markdown",
   "metadata": {},
   "source": [
    "<div class=\"alert alert-danger\" role=\"alert\">\n",
    "<font size=\"+1\"><b>Columns contain 'Likes'</b></font>\n",
    "</div>\n",
    "\n",
    "\n",
    "* Movie Facebook Likes,\n",
    "* Director Facebook Likes,\n",
    "* Actor 1 Facebook Likes, \n",
    "* Actor 2 Facebook Likes.\n",
    "* Actor 3 Facebook Likes,\n",
    "* Cast Total Facebook Likes,\n"
   ]
  },
  {
   "cell_type": "code",
   "execution_count": 33,
   "metadata": {},
   "outputs": [
    {
     "name": "stdout",
     "output_type": "stream",
     "text": [
      "\u001b[34mColumns contain 'Likes':\u001b[0m Actor_1_Facebook_Likes, Actor_2_Facebook_Likes, Actor_3_Facebook_Likes, Cast_Total_Facebook_Likes, Director_Facebook_Likes, Movie_Facebook_Likes:\n"
     ]
    }
   ],
   "source": [
    "def Search_List(Key, List): return [s for s in List if Key in s]\n",
    "print(Fore.BLUE + \"\"\"Columns contain 'Likes':\"\"\"+ Style.RESET_ALL + ' %s:'\n",
    "      % ', '.join(Search_List('Likes', Data.columns)))"
   ]
  },
  {
   "cell_type": "code",
   "execution_count": 34,
   "metadata": {
    "scrolled": true
   },
   "outputs": [
    {
     "data": {
      "text/html": [
       "<div>\n",
       "<style scoped>\n",
       "    .dataframe tbody tr th:only-of-type {\n",
       "        vertical-align: middle;\n",
       "    }\n",
       "\n",
       "    .dataframe tbody tr th {\n",
       "        vertical-align: top;\n",
       "    }\n",
       "\n",
       "    .dataframe thead th {\n",
       "        text-align: right;\n",
       "    }\n",
       "</style>\n",
       "<table border=\"1\" class=\"dataframe\">\n",
       "  <thead>\n",
       "    <tr style=\"text-align: right;\">\n",
       "      <th></th>\n",
       "      <th>Number of NaN</th>\n",
       "    </tr>\n",
       "  </thead>\n",
       "  <tbody>\n",
       "    <tr>\n",
       "      <th>Actor_1_Facebook_Likes</th>\n",
       "      <td>7</td>\n",
       "    </tr>\n",
       "    <tr>\n",
       "      <th>Actor_2_Facebook_Likes</th>\n",
       "      <td>10</td>\n",
       "    </tr>\n",
       "    <tr>\n",
       "      <th>Actor_3_Facebook_Likes</th>\n",
       "      <td>17</td>\n",
       "    </tr>\n",
       "    <tr>\n",
       "      <th>Cast_Total_Facebook_Likes</th>\n",
       "      <td>0</td>\n",
       "    </tr>\n",
       "    <tr>\n",
       "      <th>Director_Facebook_Likes</th>\n",
       "      <td>0</td>\n",
       "    </tr>\n",
       "    <tr>\n",
       "      <th>Movie_Facebook_Likes</th>\n",
       "      <td>0</td>\n",
       "    </tr>\n",
       "  </tbody>\n",
       "</table>\n",
       "</div>"
      ],
      "text/plain": [
       "                           Number of NaN\n",
       "Actor_1_Facebook_Likes                 7\n",
       "Actor_2_Facebook_Likes                10\n",
       "Actor_3_Facebook_Likes                17\n",
       "Cast_Total_Facebook_Likes              0\n",
       "Director_Facebook_Likes                0\n",
       "Movie_Facebook_Likes                   0"
      ]
     },
     "metadata": {},
     "output_type": "display_data"
    }
   ],
   "source": [
    "Columns=list(Data.columns)\n",
    "# Likes List\n",
    "Likes_List=list()\n",
    "# Reviews List\n",
    "Reviews_List=list()\n",
    "\n",
    "for i in range(len(Columns)):\n",
    "    if Columns[i].find('Likes') != -1:\n",
    "        Likes_List.append(Columns[i])\n",
    "    if Columns[i].find('Review') != -1:\n",
    "        Reviews_List.append(Columns[i])\n",
    "    if Columns[i].find('Score') != -1:\n",
    "        Reviews_List.append(Columns[i])\n",
    "    if Columns[i].find('Vote') != -1:\n",
    "        Reviews_List.append(Columns[i])\n",
    "        \n",
    "display(pd.DataFrame(Data[Likes_List].isna().sum(), columns=['Number of NaN']))"
   ]
  },
  {
   "cell_type": "markdown",
   "metadata": {},
   "source": [
    "We can replace them with **zero**."
   ]
  },
  {
   "cell_type": "code",
   "execution_count": 35,
   "metadata": {},
   "outputs": [],
   "source": [
    "Data.loc[:,Likes_List].fillna(0, inplace=True)"
   ]
  },
  {
   "cell_type": "code",
   "execution_count": 36,
   "metadata": {},
   "outputs": [],
   "source": [
    "Data.loc[:, Likes_List] = Data.loc[:, Likes_List].fillna(0)\n",
    "Data.loc[:, Reviews_List] = Data.loc[:, Reviews_List].fillna(0)\n",
    "del Likes_List, Reviews_List"
   ]
  },
  {
   "cell_type": "markdown",
   "metadata": {},
   "source": [
    "Remaining NaN values"
   ]
  },
  {
   "cell_type": "code",
   "execution_count": 37,
   "metadata": {},
   "outputs": [
    {
     "data": {
      "text/html": [
       "<div>\n",
       "<style scoped>\n",
       "    .dataframe tbody tr th:only-of-type {\n",
       "        vertical-align: middle;\n",
       "    }\n",
       "\n",
       "    .dataframe tbody tr th {\n",
       "        vertical-align: top;\n",
       "    }\n",
       "\n",
       "    .dataframe thead th {\n",
       "        text-align: right;\n",
       "    }\n",
       "</style>\n",
       "<table border=\"1\" class=\"dataframe\">\n",
       "  <thead>\n",
       "    <tr style=\"text-align: right;\">\n",
       "      <th></th>\n",
       "      <th>Data Type</th>\n",
       "      <th>Number of NaN Values</th>\n",
       "      <th>Size</th>\n",
       "      <th>Percentage</th>\n",
       "    </tr>\n",
       "  </thead>\n",
       "  <tbody>\n",
       "    <tr>\n",
       "      <th>Content_Rating</th>\n",
       "      <td>object</td>\n",
       "      <td>248</td>\n",
       "      <td>4799</td>\n",
       "      <td>5.17</td>\n",
       "    </tr>\n",
       "    <tr>\n",
       "      <th>Gross</th>\n",
       "      <td>float64</td>\n",
       "      <td>749</td>\n",
       "      <td>4799</td>\n",
       "      <td>15.61</td>\n",
       "    </tr>\n",
       "    <tr>\n",
       "      <th>Plot_Keywords</th>\n",
       "      <td>object</td>\n",
       "      <td>133</td>\n",
       "      <td>4799</td>\n",
       "      <td>2.77</td>\n",
       "    </tr>\n",
       "  </tbody>\n",
       "</table>\n",
       "</div>"
      ],
      "text/plain": [
       "               Data Type  Number of NaN Values  Size  Percentage\n",
       "Content_Rating    object                   248  4799        5.17\n",
       "Gross            float64                   749  4799       15.61\n",
       "Plot_Keywords     object                   133  4799        2.77"
      ]
     },
     "execution_count": 37,
     "metadata": {},
     "output_type": "execute_result"
    }
   ],
   "source": [
    "Data_info(Data, Only_NaN = True)"
   ]
  },
  {
   "cell_type": "markdown",
   "metadata": {},
   "source": [
    "<div class=\"alert alert-danger\" role=\"alert\">\n",
    "<font size=\"+1\"><b>Column: Gross</b></font>\n",
    "</div>\n",
    "\n",
    "First, let's look at the correlation plot for our data."
   ]
  },
  {
   "cell_type": "code",
   "execution_count": 38,
   "metadata": {},
   "outputs": [
    {
     "data": {
      "image/png": "[encoded data removed]",
      "text/plain": [
       "<Figure size 720x720 with 2 Axes>"
      ]
     },
     "metadata": {
      "needs_background": "light"
     },
     "output_type": "display_data"
    }
   ],
   "source": [
    "def Correlation_Plot (Df,Fig_Size):\n",
    "    Correlation_Matrix = Df.corr().round(2)\n",
    "    mask = np.zeros_like(Correlation_Matrix)\n",
    "    mask[np.triu_indices_from(mask)] = True\n",
    "    for i in range(len(mask)):\n",
    "        mask[i,i]=0\n",
    "    Fig, ax = plt.subplots(figsize=(Fig_Size,Fig_Size))\n",
    "    sns.heatmap(Correlation_Matrix, ax=ax, mask=mask, annot=True, square=True, \n",
    "                cmap =sns.color_palette(\"RdYlGn\", n_colors=10), linewidths = 0.2, vmin=0, vmax=1, cbar_kws={\"shrink\": .75})\n",
    "    bottom, top = ax.get_ylim()\n",
    "    \n",
    "Correlation_Plot (Data, 10)"
   ]
  },
  {
   "cell_type": "code",
   "execution_count": 39,
   "metadata": {
    "scrolled": true
   },
   "outputs": [
    {
     "data": {
      "text/plain": [
       "['Num_User_For_Reviews', 'Num_Voted_Users']"
      ]
     },
     "execution_count": 39,
     "metadata": {},
     "output_type": "execute_result"
    }
   ],
   "source": [
    "Correlation_Matrix = Data.corr()\n",
    "gross_most_corr_list=list(Correlation_Matrix.Gross[Correlation_Matrix.Gross > 0.5].index)\n",
    "gross_most_corr_list.remove('Gross')\n",
    "gross_most_corr_list"
   ]
  },
  {
   "cell_type": "code",
   "execution_count": 40,
   "metadata": {
    "scrolled": false
   },
   "outputs": [
    {
     "data": {
      "text/html": [
       "<div>\n",
       "<style scoped>\n",
       "    .dataframe tbody tr th:only-of-type {\n",
       "        vertical-align: middle;\n",
       "    }\n",
       "\n",
       "    .dataframe tbody tr th {\n",
       "        vertical-align: top;\n",
       "    }\n",
       "\n",
       "    .dataframe thead th {\n",
       "        text-align: right;\n",
       "    }\n",
       "</style>\n",
       "<table border=\"1\" class=\"dataframe\">\n",
       "  <thead>\n",
       "    <tr style=\"text-align: right;\">\n",
       "      <th></th>\n",
       "      <th>Movie_Title</th>\n",
       "      <th>Gross</th>\n",
       "    </tr>\n",
       "  </thead>\n",
       "  <tbody>\n",
       "    <tr>\n",
       "      <th>84</th>\n",
       "      <td>The Lovers</td>\n",
       "      <td>NaN</td>\n",
       "    </tr>\n",
       "    <tr>\n",
       "      <th>98</th>\n",
       "      <td>Godzilla Resurgence</td>\n",
       "      <td>NaN</td>\n",
       "    </tr>\n",
       "    <tr>\n",
       "      <th>242</th>\n",
       "      <td>Asterix at the Olympic Games</td>\n",
       "      <td>NaN</td>\n",
       "    </tr>\n",
       "    <tr>\n",
       "      <th>367</th>\n",
       "      <td>Ben-Hur</td>\n",
       "      <td>NaN</td>\n",
       "    </tr>\n",
       "    <tr>\n",
       "      <th>422</th>\n",
       "      <td>All That Jazz</td>\n",
       "      <td>NaN</td>\n",
       "    </tr>\n",
       "    <tr>\n",
       "      <th>...</th>\n",
       "      <td>...</td>\n",
       "      <td>...</td>\n",
       "    </tr>\n",
       "    <tr>\n",
       "      <th>5031</th>\n",
       "      <td>Sanctuary; Quite a Conundrum</td>\n",
       "      <td>NaN</td>\n",
       "    </tr>\n",
       "    <tr>\n",
       "      <th>5032</th>\n",
       "      <td>Bang</td>\n",
       "      <td>NaN</td>\n",
       "    </tr>\n",
       "    <tr>\n",
       "      <th>5036</th>\n",
       "      <td>The Mongol King</td>\n",
       "      <td>NaN</td>\n",
       "    </tr>\n",
       "    <tr>\n",
       "      <th>5038</th>\n",
       "      <td>Signed Sealed Delivered</td>\n",
       "      <td>NaN</td>\n",
       "    </tr>\n",
       "    <tr>\n",
       "      <th>5040</th>\n",
       "      <td>A Plague So Pleasant</td>\n",
       "      <td>NaN</td>\n",
       "    </tr>\n",
       "  </tbody>\n",
       "</table>\n",
       "<p>749 rows × 2 columns</p>\n",
       "</div>"
      ],
      "text/plain": [
       "                        Movie_Title  Gross\n",
       "84                      The Lovers     NaN\n",
       "98             Godzilla Resurgence     NaN\n",
       "242   Asterix at the Olympic Games     NaN\n",
       "367                        Ben-Hur     NaN\n",
       "422                  All That Jazz     NaN\n",
       "...                             ...    ...\n",
       "5031  Sanctuary; Quite a Conundrum     NaN\n",
       "5032                          Bang     NaN\n",
       "5036               The Mongol King     NaN\n",
       "5038       Signed Sealed Delivered     NaN\n",
       "5040          A Plague So Pleasant     NaN\n",
       "\n",
       "[749 rows x 2 columns]"
      ]
     },
     "metadata": {},
     "output_type": "display_data"
    }
   ],
   "source": [
    "gross_null = Data[Data['Gross' ].isnull()]\n",
    "display(gross_null[['Movie_Title', 'Gross']])"
   ]
  },
  {
   "cell_type": "markdown",
   "metadata": {},
   "source": [
    "and"
   ]
  },
  {
   "cell_type": "code",
   "execution_count": 41,
   "metadata": {},
   "outputs": [
    {
     "data": {
      "text/html": [
       "<div>\n",
       "<style scoped>\n",
       "    .dataframe tbody tr th:only-of-type {\n",
       "        vertical-align: middle;\n",
       "    }\n",
       "\n",
       "    .dataframe tbody tr th {\n",
       "        vertical-align: top;\n",
       "    }\n",
       "\n",
       "    .dataframe thead th {\n",
       "        text-align: right;\n",
       "    }\n",
       "</style>\n",
       "<table border=\"1\" class=\"dataframe\">\n",
       "  <thead>\n",
       "    <tr style=\"text-align: right;\">\n",
       "      <th></th>\n",
       "      <th>Movie_Title</th>\n",
       "      <th>Gross</th>\n",
       "    </tr>\n",
       "  </thead>\n",
       "  <tbody>\n",
       "    <tr>\n",
       "      <th>0</th>\n",
       "      <td>Avatar</td>\n",
       "      <td>760505847.0</td>\n",
       "    </tr>\n",
       "    <tr>\n",
       "      <th>1</th>\n",
       "      <td>Pirates of the Caribbean: At World's End</td>\n",
       "      <td>309404152.0</td>\n",
       "    </tr>\n",
       "    <tr>\n",
       "      <th>2</th>\n",
       "      <td>Spectre</td>\n",
       "      <td>200074175.0</td>\n",
       "    </tr>\n",
       "    <tr>\n",
       "      <th>3</th>\n",
       "      <td>The Dark Knight Rises</td>\n",
       "      <td>448130642.0</td>\n",
       "    </tr>\n",
       "    <tr>\n",
       "      <th>5</th>\n",
       "      <td>John Carter</td>\n",
       "      <td>73058679.0</td>\n",
       "    </tr>\n",
       "    <tr>\n",
       "      <th>...</th>\n",
       "      <td>...</td>\n",
       "      <td>...</td>\n",
       "    </tr>\n",
       "    <tr>\n",
       "      <th>5034</th>\n",
       "      <td>Cavite</td>\n",
       "      <td>70071.0</td>\n",
       "    </tr>\n",
       "    <tr>\n",
       "      <th>5035</th>\n",
       "      <td>El Mariachi</td>\n",
       "      <td>2040920.0</td>\n",
       "    </tr>\n",
       "    <tr>\n",
       "      <th>5037</th>\n",
       "      <td>Newlyweds</td>\n",
       "      <td>4584.0</td>\n",
       "    </tr>\n",
       "    <tr>\n",
       "      <th>5041</th>\n",
       "      <td>Shanghai Calling</td>\n",
       "      <td>10443.0</td>\n",
       "    </tr>\n",
       "    <tr>\n",
       "      <th>5042</th>\n",
       "      <td>My Date with Drew</td>\n",
       "      <td>85222.0</td>\n",
       "    </tr>\n",
       "  </tbody>\n",
       "</table>\n",
       "<p>4050 rows × 2 columns</p>\n",
       "</div>"
      ],
      "text/plain": [
       "                                    Movie_Title        Gross\n",
       "0                                       Avatar   760505847.0\n",
       "1     Pirates of the Caribbean: At World's End   309404152.0\n",
       "2                                      Spectre   200074175.0\n",
       "3                        The Dark Knight Rises   448130642.0\n",
       "5                                  John Carter    73058679.0\n",
       "...                                         ...          ...\n",
       "5034                                    Cavite       70071.0\n",
       "5035                               El Mariachi     2040920.0\n",
       "5037                                 Newlyweds        4584.0\n",
       "5041                          Shanghai Calling       10443.0\n",
       "5042                         My Date with Drew       85222.0\n",
       "\n",
       "[4050 rows x 2 columns]"
      ]
     },
     "metadata": {},
     "output_type": "display_data"
    }
   ],
   "source": [
    "gross_no_null = Data[~Data['Gross' ].isnull()]\n",
    "display(gross_no_null[['Movie_Title', 'Gross']])"
   ]
  },
  {
   "cell_type": "code",
   "execution_count": 42,
   "metadata": {},
   "outputs": [
    {
     "name": "stdout",
     "output_type": "stream",
     "text": [
      "It can be seen that 749 entries of the gross column has NaN value.\n"
     ]
    }
   ],
   "source": [
    "print('It can be seen that %i entries of the gross column has NaN value.' % len(gross_null))"
   ]
  },
  {
   "cell_type": "markdown",
   "metadata": {},
   "source": [
    "Let's do a further test."
   ]
  },
  {
   "cell_type": "code",
   "execution_count": 43,
   "metadata": {},
   "outputs": [
    {
     "name": "stdout",
     "output_type": "stream",
     "text": [
      "Variance : 0.422\n"
     ]
    }
   ],
   "source": [
    "X = gross_no_null.loc[:, gross_most_corr_list]\n",
    "y = gross_no_null.Gross\n",
    "\n",
    "# Resampling Methods\n",
    "X_train, X_test, y_train, y_test = train_test_split(X, y, test_size=0.4)\n",
    "# Linear Regression\n",
    "reg = LinearRegression()\n",
    "reg.fit(X_train, y_train)\n",
    "# prediction\n",
    "y_pred = reg.predict(X_test)\n",
    "error = mean_absolute_error(y_test, y_pred)\n",
    "print(\"Variance : \" + str(round(r2_score(y_test, y_pred), 3)))"
   ]
  },
  {
   "cell_type": "markdown",
   "metadata": {},
   "source": [
    "Using the predicated values for gross instead of *Nan* values."
   ]
  },
  {
   "cell_type": "code",
   "execution_count": 44,
   "metadata": {},
   "outputs": [],
   "source": [
    "Data.loc[Data.Gross.isna(), 'Gross'] = reg.predict(Data.loc[Data.Gross.isna(), gross_most_corr_list])"
   ]
  },
  {
   "cell_type": "code",
   "execution_count": 45,
   "metadata": {},
   "outputs": [
    {
     "data": {
      "text/html": [
       "<div>\n",
       "<style scoped>\n",
       "    .dataframe tbody tr th:only-of-type {\n",
       "        vertical-align: middle;\n",
       "    }\n",
       "\n",
       "    .dataframe tbody tr th {\n",
       "        vertical-align: top;\n",
       "    }\n",
       "\n",
       "    .dataframe thead th {\n",
       "        text-align: right;\n",
       "    }\n",
       "</style>\n",
       "<table border=\"1\" class=\"dataframe\">\n",
       "  <thead>\n",
       "    <tr style=\"text-align: right;\">\n",
       "      <th></th>\n",
       "      <th>Data Type</th>\n",
       "      <th>Number of NaN Values</th>\n",
       "      <th>Size</th>\n",
       "      <th>Percentage</th>\n",
       "    </tr>\n",
       "  </thead>\n",
       "  <tbody>\n",
       "    <tr>\n",
       "      <th>Actor_1_Facebook_Likes</th>\n",
       "      <td>float64</td>\n",
       "      <td>0</td>\n",
       "      <td>4799</td>\n",
       "      <td>0.00</td>\n",
       "    </tr>\n",
       "    <tr>\n",
       "      <th>Actor_1_Name</th>\n",
       "      <td>object</td>\n",
       "      <td>0</td>\n",
       "      <td>4799</td>\n",
       "      <td>0.00</td>\n",
       "    </tr>\n",
       "    <tr>\n",
       "      <th>Actor_2_Facebook_Likes</th>\n",
       "      <td>float64</td>\n",
       "      <td>0</td>\n",
       "      <td>4799</td>\n",
       "      <td>0.00</td>\n",
       "    </tr>\n",
       "    <tr>\n",
       "      <th>Actor_2_Name</th>\n",
       "      <td>object</td>\n",
       "      <td>0</td>\n",
       "      <td>4799</td>\n",
       "      <td>0.00</td>\n",
       "    </tr>\n",
       "    <tr>\n",
       "      <th>Actor_3_Facebook_Likes</th>\n",
       "      <td>float64</td>\n",
       "      <td>0</td>\n",
       "      <td>4799</td>\n",
       "      <td>0.00</td>\n",
       "    </tr>\n",
       "    <tr>\n",
       "      <th>Actor_3_Name</th>\n",
       "      <td>object</td>\n",
       "      <td>0</td>\n",
       "      <td>4799</td>\n",
       "      <td>0.00</td>\n",
       "    </tr>\n",
       "    <tr>\n",
       "      <th>Budget</th>\n",
       "      <td>float64</td>\n",
       "      <td>0</td>\n",
       "      <td>4799</td>\n",
       "      <td>0.00</td>\n",
       "    </tr>\n",
       "    <tr>\n",
       "      <th>Cast_Total_Facebook_Likes</th>\n",
       "      <td>int64</td>\n",
       "      <td>0</td>\n",
       "      <td>4799</td>\n",
       "      <td>0.00</td>\n",
       "    </tr>\n",
       "    <tr>\n",
       "      <th>Color</th>\n",
       "      <td>object</td>\n",
       "      <td>0</td>\n",
       "      <td>4799</td>\n",
       "      <td>0.00</td>\n",
       "    </tr>\n",
       "    <tr>\n",
       "      <th>Content_Rating</th>\n",
       "      <td>object</td>\n",
       "      <td>248</td>\n",
       "      <td>4799</td>\n",
       "      <td>5.17</td>\n",
       "    </tr>\n",
       "    <tr>\n",
       "      <th>Country</th>\n",
       "      <td>object</td>\n",
       "      <td>0</td>\n",
       "      <td>4799</td>\n",
       "      <td>0.00</td>\n",
       "    </tr>\n",
       "    <tr>\n",
       "      <th>Director_Facebook_Likes</th>\n",
       "      <td>float64</td>\n",
       "      <td>0</td>\n",
       "      <td>4799</td>\n",
       "      <td>0.00</td>\n",
       "    </tr>\n",
       "    <tr>\n",
       "      <th>Director_Name</th>\n",
       "      <td>object</td>\n",
       "      <td>0</td>\n",
       "      <td>4799</td>\n",
       "      <td>0.00</td>\n",
       "    </tr>\n",
       "    <tr>\n",
       "      <th>Duration</th>\n",
       "      <td>float64</td>\n",
       "      <td>0</td>\n",
       "      <td>4799</td>\n",
       "      <td>0.00</td>\n",
       "    </tr>\n",
       "    <tr>\n",
       "      <th>Genres</th>\n",
       "      <td>object</td>\n",
       "      <td>0</td>\n",
       "      <td>4799</td>\n",
       "      <td>0.00</td>\n",
       "    </tr>\n",
       "    <tr>\n",
       "      <th>Gross</th>\n",
       "      <td>float64</td>\n",
       "      <td>0</td>\n",
       "      <td>4799</td>\n",
       "      <td>0.00</td>\n",
       "    </tr>\n",
       "    <tr>\n",
       "      <th>IMDB_Score</th>\n",
       "      <td>float64</td>\n",
       "      <td>0</td>\n",
       "      <td>4799</td>\n",
       "      <td>0.00</td>\n",
       "    </tr>\n",
       "    <tr>\n",
       "      <th>Language</th>\n",
       "      <td>object</td>\n",
       "      <td>0</td>\n",
       "      <td>4799</td>\n",
       "      <td>0.00</td>\n",
       "    </tr>\n",
       "    <tr>\n",
       "      <th>Movie_Facebook_Likes</th>\n",
       "      <td>int64</td>\n",
       "      <td>0</td>\n",
       "      <td>4799</td>\n",
       "      <td>0.00</td>\n",
       "    </tr>\n",
       "    <tr>\n",
       "      <th>Movie_Title</th>\n",
       "      <td>object</td>\n",
       "      <td>0</td>\n",
       "      <td>4799</td>\n",
       "      <td>0.00</td>\n",
       "    </tr>\n",
       "    <tr>\n",
       "      <th>Num_Critic_For_Reviews</th>\n",
       "      <td>float64</td>\n",
       "      <td>0</td>\n",
       "      <td>4799</td>\n",
       "      <td>0.00</td>\n",
       "    </tr>\n",
       "    <tr>\n",
       "      <th>Num_User_For_Reviews</th>\n",
       "      <td>float64</td>\n",
       "      <td>0</td>\n",
       "      <td>4799</td>\n",
       "      <td>0.00</td>\n",
       "    </tr>\n",
       "    <tr>\n",
       "      <th>Num_Voted_Users</th>\n",
       "      <td>int64</td>\n",
       "      <td>0</td>\n",
       "      <td>4799</td>\n",
       "      <td>0.00</td>\n",
       "    </tr>\n",
       "    <tr>\n",
       "      <th>Plot_Keywords</th>\n",
       "      <td>object</td>\n",
       "      <td>133</td>\n",
       "      <td>4799</td>\n",
       "      <td>2.77</td>\n",
       "    </tr>\n",
       "    <tr>\n",
       "      <th>Title_Year</th>\n",
       "      <td>float64</td>\n",
       "      <td>0</td>\n",
       "      <td>4799</td>\n",
       "      <td>0.00</td>\n",
       "    </tr>\n",
       "  </tbody>\n",
       "</table>\n",
       "</div>"
      ],
      "text/plain": [
       "                          Data Type  Number of NaN Values  Size  Percentage\n",
       "Actor_1_Facebook_Likes      float64                     0  4799        0.00\n",
       "Actor_1_Name                 object                     0  4799        0.00\n",
       "Actor_2_Facebook_Likes      float64                     0  4799        0.00\n",
       "Actor_2_Name                 object                     0  4799        0.00\n",
       "Actor_3_Facebook_Likes      float64                     0  4799        0.00\n",
       "Actor_3_Name                 object                     0  4799        0.00\n",
       "Budget                      float64                     0  4799        0.00\n",
       "Cast_Total_Facebook_Likes     int64                     0  4799        0.00\n",
       "Color                        object                     0  4799        0.00\n",
       "Content_Rating               object                   248  4799        5.17\n",
       "Country                      object                     0  4799        0.00\n",
       "Director_Facebook_Likes     float64                     0  4799        0.00\n",
       "Director_Name                object                     0  4799        0.00\n",
       "Duration                    float64                     0  4799        0.00\n",
       "Genres                       object                     0  4799        0.00\n",
       "Gross                       float64                     0  4799        0.00\n",
       "IMDB_Score                  float64                     0  4799        0.00\n",
       "Language                     object                     0  4799        0.00\n",
       "Movie_Facebook_Likes          int64                     0  4799        0.00\n",
       "Movie_Title                  object                     0  4799        0.00\n",
       "Num_Critic_For_Reviews      float64                     0  4799        0.00\n",
       "Num_User_For_Reviews        float64                     0  4799        0.00\n",
       "Num_Voted_Users               int64                     0  4799        0.00\n",
       "Plot_Keywords                object                   133  4799        2.77\n",
       "Title_Year                  float64                     0  4799        0.00"
      ]
     },
     "execution_count": 45,
     "metadata": {},
     "output_type": "execute_result"
    }
   ],
   "source": [
    "Data_info(Data)"
   ]
  },
  {
   "cell_type": "markdown",
   "metadata": {},
   "source": [
    "#### Saving CSV file"
   ]
  },
  {
   "cell_type": "code",
   "execution_count": 46,
   "metadata": {},
   "outputs": [],
   "source": [
    "# Save as CSV\n",
    "Data.to_csv('movie_metadata/clean_movie_metadata.csv', index=False)"
   ]
  }
 ],
 "metadata": {
  "kernelspec": {
   "display_name": "Python 3",
   "language": "python",
   "name": "python3"
  },
  "language_info": {
   "codemirror_mode": {
    "name": "ipython",
    "version": 3
   },
   "file_extension": ".py",
   "mimetype": "text/x-python",
   "name": "python",
   "nbconvert_exporter": "python",
   "pygments_lexer": "ipython3",
   "version": "3.7.7"
  }
 },
 "nbformat": 4,
 "nbformat_minor": 2
}
