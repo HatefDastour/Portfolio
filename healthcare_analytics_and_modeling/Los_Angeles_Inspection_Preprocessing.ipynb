{
 "cells": [
  {
   "cell_type": "code",
   "execution_count": 1,
   "metadata": {},
   "outputs": [],
   "source": [
    "# Required Packages\n",
    "import pandas as pd\n",
    "from datetime import datetime\n",
    "import numpy as np\n",
    "\n",
    "import warnings\n",
    "warnings.filterwarnings(\"ignore\")"
   ]
  },
  {
   "cell_type": "markdown",
   "metadata": {},
   "source": [
    "#### Table of Contents\n",
    "\n",
    "* [Los Angeles County Restaurant and Market Violations and Inspections](#Los-Angeles-County-Restaurant-and-Market-Violations-and-Inspections)\n",
    "    * [Violations Dataset](#Violations-Dataset)\n",
    "    * [Inspection Result Dataset](#Inspection-Result-Dataset)\n",
    "* [Preprocessing](#Preprocessing)\n",
    "    * [Inspection Dataset](#Inspection-Dataset)\n",
    "    * [Creating a new Dataset](#Creating-a-new-Dataset)\n",
    "        * [Reindexing](#Reindexing)\n",
    "    * [Creating a Dictionary](#Creating-a-Dictionary)"
   ]
  },
  {
   "cell_type": "markdown",
   "metadata": {},
   "source": [
    "# Los Angeles County Restaurant and Market Violations and Inspections\n",
    "\n",
    "\n",
    "In this article, we use a dataset contains Environmental Health Violations for Restaurants and Markets in Los Angeles County. This dataset can be found [here](https://data.lacounty.gov/Health/LOS-ANGELES-COUNTY-RESTAURANT-AND-MARKET-VIOLATION/8jyd-4pv9) and [here](https://data.lacounty.gov/Health/LOS-ANGELES-COUNTY-RESTAURANT-AND-MARKET-INSPECTIO/6ni6-h5kp).\n",
    "\n",
    "Los Angeles County Environmental Health is responsible for checking food violations for all unincorporated areas and 85 of the 88 cities in the County. This dataset does not include Pasadena, Long Beach or Vernon (each has its own city health department)."
   ]
  },
  {
   "cell_type": "markdown",
   "metadata": {},
   "source": [
    "## Violations Dataset\n",
    "\n",
    "Each row represents one health code violation. All rows with the same Serial Number are part of the same inspection. The Serial Number is the primary key to review the inspection grade (Inspection Result dataset)"
   ]
  },
  {
   "cell_type": "code",
   "execution_count": 2,
   "metadata": {},
   "outputs": [
    {
     "data": {
      "text/html": [
       "<style  type=\"text/css\" >\n",
       "</style><table id=\"T_d0904b1c_7158_11ea_a5ba_50e08586bf81\" ><thead>    <tr>        <th class=\"col_heading level0 col0\" >SERIAL NUMBER</th>        <th class=\"col_heading level0 col1\" >VIOLATION  STATUS</th>        <th class=\"col_heading level0 col2\" >VIOLATION CODE</th>        <th class=\"col_heading level0 col3\" >VIOLATION DESCRIPTION</th>        <th class=\"col_heading level0 col4\" >POINTS</th>    </tr></thead><tbody>\n",
       "                <tr>\n",
       "                                <td id=\"T_d0904b1c_7158_11ea_a5ba_50e08586bf81row0_col0\" class=\"data row0 col0\" >DA000211Z</td>\n",
       "                        <td id=\"T_d0904b1c_7158_11ea_a5ba_50e08586bf81row0_col1\" class=\"data row0 col1\" >OUT OF COMPLIANCE</td>\n",
       "                        <td id=\"T_d0904b1c_7158_11ea_a5ba_50e08586bf81row0_col2\" class=\"data row0 col2\" >F006</td>\n",
       "                        <td id=\"T_d0904b1c_7158_11ea_a5ba_50e08586bf81row0_col3\" class=\"data row0 col3\" ># 06. Adequate handwashing facilities supplied & accessible</td>\n",
       "                        <td id=\"T_d0904b1c_7158_11ea_a5ba_50e08586bf81row0_col4\" class=\"data row0 col4\" >2.000000</td>\n",
       "            </tr>\n",
       "            <tr>\n",
       "                                <td id=\"T_d0904b1c_7158_11ea_a5ba_50e08586bf81row1_col0\" class=\"data row1 col0\" >DA000211Z</td>\n",
       "                        <td id=\"T_d0904b1c_7158_11ea_a5ba_50e08586bf81row1_col1\" class=\"data row1 col1\" >OUT OF COMPLIANCE</td>\n",
       "                        <td id=\"T_d0904b1c_7158_11ea_a5ba_50e08586bf81row1_col2\" class=\"data row1 col2\" >F044</td>\n",
       "                        <td id=\"T_d0904b1c_7158_11ea_a5ba_50e08586bf81row1_col3\" class=\"data row1 col3\" ># 44. Floors, walls and ceilings: properly built, maintained in good repair and clean</td>\n",
       "                        <td id=\"T_d0904b1c_7158_11ea_a5ba_50e08586bf81row1_col4\" class=\"data row1 col4\" >1.000000</td>\n",
       "            </tr>\n",
       "            <tr>\n",
       "                                <td id=\"T_d0904b1c_7158_11ea_a5ba_50e08586bf81row2_col0\" class=\"data row2 col0\" >DA000211Z</td>\n",
       "                        <td id=\"T_d0904b1c_7158_11ea_a5ba_50e08586bf81row2_col1\" class=\"data row2 col1\" >OUT OF COMPLIANCE</td>\n",
       "                        <td id=\"T_d0904b1c_7158_11ea_a5ba_50e08586bf81row2_col2\" class=\"data row2 col2\" >F014</td>\n",
       "                        <td id=\"T_d0904b1c_7158_11ea_a5ba_50e08586bf81row2_col3\" class=\"data row2 col3\" ># 14. Food contact surfaces: clean and sanitized</td>\n",
       "                        <td id=\"T_d0904b1c_7158_11ea_a5ba_50e08586bf81row2_col4\" class=\"data row2 col4\" >2.000000</td>\n",
       "            </tr>\n",
       "            <tr>\n",
       "                                <td id=\"T_d0904b1c_7158_11ea_a5ba_50e08586bf81row3_col0\" class=\"data row3 col0\" >DA000211Z</td>\n",
       "                        <td id=\"T_d0904b1c_7158_11ea_a5ba_50e08586bf81row3_col1\" class=\"data row3 col1\" >OUT OF COMPLIANCE</td>\n",
       "                        <td id=\"T_d0904b1c_7158_11ea_a5ba_50e08586bf81row3_col2\" class=\"data row3 col2\" >F029</td>\n",
       "                        <td id=\"T_d0904b1c_7158_11ea_a5ba_50e08586bf81row3_col3\" class=\"data row3 col3\" ># 29. Toxic substances properly identified, stored, used</td>\n",
       "                        <td id=\"T_d0904b1c_7158_11ea_a5ba_50e08586bf81row3_col4\" class=\"data row3 col4\" >1.000000</td>\n",
       "            </tr>\n",
       "            <tr>\n",
       "                                <td id=\"T_d0904b1c_7158_11ea_a5ba_50e08586bf81row4_col0\" class=\"data row4 col0\" >DA000211Z</td>\n",
       "                        <td id=\"T_d0904b1c_7158_11ea_a5ba_50e08586bf81row4_col1\" class=\"data row4 col1\" >OUT OF COMPLIANCE</td>\n",
       "                        <td id=\"T_d0904b1c_7158_11ea_a5ba_50e08586bf81row4_col2\" class=\"data row4 col2\" >F035</td>\n",
       "                        <td id=\"T_d0904b1c_7158_11ea_a5ba_50e08586bf81row4_col3\" class=\"data row4 col3\" ># 35. Equipment/Utensils - approved; installed; clean; good repair, capacity</td>\n",
       "                        <td id=\"T_d0904b1c_7158_11ea_a5ba_50e08586bf81row4_col4\" class=\"data row4 col4\" >1.000000</td>\n",
       "            </tr>\n",
       "    </tbody></table>"
      ],
      "text/plain": [
       "<pandas.io.formats.style.Styler at 0x20fcfe27ec8>"
      ]
     },
     "execution_count": 2,
     "metadata": {},
     "output_type": "execute_result"
    }
   ],
   "source": [
    "Violations_df = pd.read_csv('Data/LA/LOS_ANGELES_COUNTY_RESTAURANT_AND_MARKET_VIOLATIONS.csv')\n",
    "Violations_df.head().style.hide_index()"
   ]
  },
  {
   "cell_type": "markdown",
   "metadata": {},
   "source": [
    "## Inspection Result Dataset\n",
    "\n",
    "Each row represents one inspection result. The Serial Number is the primary key to access/review the violations (Violations Dataset) associated with a particular inspection."
   ]
  },
  {
   "cell_type": "code",
   "execution_count": 3,
   "metadata": {},
   "outputs": [
    {
     "data": {
      "text/html": [
       "<style  type=\"text/css\" >\n",
       "</style><table id=\"T_d100e72e_7158_11ea_9e87_50e08586bf81\" ><thead>    <tr>        <th class=\"col_heading level0 col0\" >ACTIVITY DATE</th>        <th class=\"col_heading level0 col1\" >OWNER ID</th>        <th class=\"col_heading level0 col2\" >OWNER NAME</th>        <th class=\"col_heading level0 col3\" >FACILITY ID</th>        <th class=\"col_heading level0 col4\" >FACILITY NAME</th>        <th class=\"col_heading level0 col5\" >RECORD ID</th>        <th class=\"col_heading level0 col6\" >PROGRAM NAME</th>        <th class=\"col_heading level0 col7\" >PROGRAM STATUS</th>        <th class=\"col_heading level0 col8\" >PROGRAM ELEMENT (PE)</th>        <th class=\"col_heading level0 col9\" >PE DESCRIPTION</th>        <th class=\"col_heading level0 col10\" >FACILITY ADDRESS</th>        <th class=\"col_heading level0 col11\" >FACILITY CITY</th>        <th class=\"col_heading level0 col12\" >FACILITY STATE</th>        <th class=\"col_heading level0 col13\" >FACILITY ZIP</th>        <th class=\"col_heading level0 col14\" >SERVICE CODE</th>        <th class=\"col_heading level0 col15\" >SERVICE DESCRIPTION</th>        <th class=\"col_heading level0 col16\" >SCORE</th>        <th class=\"col_heading level0 col17\" >GRADE</th>        <th class=\"col_heading level0 col18\" >SERIAL NUMBER</th>        <th class=\"col_heading level0 col19\" >EMPLOYEE ID</th>        <th class=\"col_heading level0 col20\" >Location</th>    </tr></thead><tbody>\n",
       "                <tr>\n",
       "                                <td id=\"T_d100e72e_7158_11ea_9e87_50e08586bf81row0_col0\" class=\"data row0 col0\" >06/02/2017</td>\n",
       "                        <td id=\"T_d100e72e_7158_11ea_9e87_50e08586bf81row0_col1\" class=\"data row0 col1\" >OW0030652</td>\n",
       "                        <td id=\"T_d100e72e_7158_11ea_9e87_50e08586bf81row0_col2\" class=\"data row0 col2\" >ROMERO, JUAN</td>\n",
       "                        <td id=\"T_d100e72e_7158_11ea_9e87_50e08586bf81row0_col3\" class=\"data row0 col3\" >FA0021745</td>\n",
       "                        <td id=\"T_d100e72e_7158_11ea_9e87_50e08586bf81row0_col4\" class=\"data row0 col4\" >EL ZIPOTE PUPUSERIA</td>\n",
       "                        <td id=\"T_d100e72e_7158_11ea_9e87_50e08586bf81row0_col5\" class=\"data row0 col5\" >PR0047587</td>\n",
       "                        <td id=\"T_d100e72e_7158_11ea_9e87_50e08586bf81row0_col6\" class=\"data row0 col6\" >EL ZIPOTE PUPUSERIA</td>\n",
       "                        <td id=\"T_d100e72e_7158_11ea_9e87_50e08586bf81row0_col7\" class=\"data row0 col7\" >ACTIVE</td>\n",
       "                        <td id=\"T_d100e72e_7158_11ea_9e87_50e08586bf81row0_col8\" class=\"data row0 col8\" >1632</td>\n",
       "                        <td id=\"T_d100e72e_7158_11ea_9e87_50e08586bf81row0_col9\" class=\"data row0 col9\" >RESTAURANT (0-30) SEATS HIGH RISK</td>\n",
       "                        <td id=\"T_d100e72e_7158_11ea_9e87_50e08586bf81row0_col10\" class=\"data row0 col10\" >1111 W WASHINGTON BLVD STE H</td>\n",
       "                        <td id=\"T_d100e72e_7158_11ea_9e87_50e08586bf81row0_col11\" class=\"data row0 col11\" >MONTEBELLO</td>\n",
       "                        <td id=\"T_d100e72e_7158_11ea_9e87_50e08586bf81row0_col12\" class=\"data row0 col12\" >CA</td>\n",
       "                        <td id=\"T_d100e72e_7158_11ea_9e87_50e08586bf81row0_col13\" class=\"data row0 col13\" >90640</td>\n",
       "                        <td id=\"T_d100e72e_7158_11ea_9e87_50e08586bf81row0_col14\" class=\"data row0 col14\" >1</td>\n",
       "                        <td id=\"T_d100e72e_7158_11ea_9e87_50e08586bf81row0_col15\" class=\"data row0 col15\" >ROUTINE INSPECTION</td>\n",
       "                        <td id=\"T_d100e72e_7158_11ea_9e87_50e08586bf81row0_col16\" class=\"data row0 col16\" >91</td>\n",
       "                        <td id=\"T_d100e72e_7158_11ea_9e87_50e08586bf81row0_col17\" class=\"data row0 col17\" >A</td>\n",
       "                        <td id=\"T_d100e72e_7158_11ea_9e87_50e08586bf81row0_col18\" class=\"data row0 col18\" >DAXE7ACTS</td>\n",
       "                        <td id=\"T_d100e72e_7158_11ea_9e87_50e08586bf81row0_col19\" class=\"data row0 col19\" >EE0000773</td>\n",
       "                        <td id=\"T_d100e72e_7158_11ea_9e87_50e08586bf81row0_col20\" class=\"data row0 col20\" >nan</td>\n",
       "            </tr>\n",
       "            <tr>\n",
       "                                <td id=\"T_d100e72e_7158_11ea_9e87_50e08586bf81row1_col0\" class=\"data row1 col0\" >06/05/2017</td>\n",
       "                        <td id=\"T_d100e72e_7158_11ea_9e87_50e08586bf81row1_col1\" class=\"data row1 col1\" >OW0025119</td>\n",
       "                        <td id=\"T_d100e72e_7158_11ea_9e87_50e08586bf81row1_col2\" class=\"data row1 col2\" >MORNING SUN INC.</td>\n",
       "                        <td id=\"T_d100e72e_7158_11ea_9e87_50e08586bf81row1_col3\" class=\"data row1 col3\" >FA0008772</td>\n",
       "                        <td id=\"T_d100e72e_7158_11ea_9e87_50e08586bf81row1_col4\" class=\"data row1 col4\" >CHINA GATE</td>\n",
       "                        <td id=\"T_d100e72e_7158_11ea_9e87_50e08586bf81row1_col5\" class=\"data row1 col5\" >PR0029024</td>\n",
       "                        <td id=\"T_d100e72e_7158_11ea_9e87_50e08586bf81row1_col6\" class=\"data row1 col6\" >CHINA GATE</td>\n",
       "                        <td id=\"T_d100e72e_7158_11ea_9e87_50e08586bf81row1_col7\" class=\"data row1 col7\" >ACTIVE</td>\n",
       "                        <td id=\"T_d100e72e_7158_11ea_9e87_50e08586bf81row1_col8\" class=\"data row1 col8\" >1632</td>\n",
       "                        <td id=\"T_d100e72e_7158_11ea_9e87_50e08586bf81row1_col9\" class=\"data row1 col9\" >RESTAURANT (0-30) SEATS HIGH RISK</td>\n",
       "                        <td id=\"T_d100e72e_7158_11ea_9e87_50e08586bf81row1_col10\" class=\"data row1 col10\" >11814 S WILMINGTON AVE</td>\n",
       "                        <td id=\"T_d100e72e_7158_11ea_9e87_50e08586bf81row1_col11\" class=\"data row1 col11\" >LOS ANGELES</td>\n",
       "                        <td id=\"T_d100e72e_7158_11ea_9e87_50e08586bf81row1_col12\" class=\"data row1 col12\" >CA</td>\n",
       "                        <td id=\"T_d100e72e_7158_11ea_9e87_50e08586bf81row1_col13\" class=\"data row1 col13\" >90059</td>\n",
       "                        <td id=\"T_d100e72e_7158_11ea_9e87_50e08586bf81row1_col14\" class=\"data row1 col14\" >1</td>\n",
       "                        <td id=\"T_d100e72e_7158_11ea_9e87_50e08586bf81row1_col15\" class=\"data row1 col15\" >ROUTINE INSPECTION</td>\n",
       "                        <td id=\"T_d100e72e_7158_11ea_9e87_50e08586bf81row1_col16\" class=\"data row1 col16\" >94</td>\n",
       "                        <td id=\"T_d100e72e_7158_11ea_9e87_50e08586bf81row1_col17\" class=\"data row1 col17\" >A</td>\n",
       "                        <td id=\"T_d100e72e_7158_11ea_9e87_50e08586bf81row1_col18\" class=\"data row1 col18\" >DADMCPXSY</td>\n",
       "                        <td id=\"T_d100e72e_7158_11ea_9e87_50e08586bf81row1_col19\" class=\"data row1 col19\" >EE0000927</td>\n",
       "                        <td id=\"T_d100e72e_7158_11ea_9e87_50e08586bf81row1_col20\" class=\"data row1 col20\" >nan</td>\n",
       "            </tr>\n",
       "            <tr>\n",
       "                                <td id=\"T_d100e72e_7158_11ea_9e87_50e08586bf81row2_col0\" class=\"data row2 col0\" >06/07/2017</td>\n",
       "                        <td id=\"T_d100e72e_7158_11ea_9e87_50e08586bf81row2_col1\" class=\"data row2 col1\" >OW0007353</td>\n",
       "                        <td id=\"T_d100e72e_7158_11ea_9e87_50e08586bf81row2_col2\" class=\"data row2 col2\" >CHEN, CHAO SHU</td>\n",
       "                        <td id=\"T_d100e72e_7158_11ea_9e87_50e08586bf81row2_col3\" class=\"data row2 col3\" >FA0070050</td>\n",
       "                        <td id=\"T_d100e72e_7158_11ea_9e87_50e08586bf81row2_col4\" class=\"data row2 col4\" >SAN HING</td>\n",
       "                        <td id=\"T_d100e72e_7158_11ea_9e87_50e08586bf81row2_col5\" class=\"data row2 col5\" >PR0004325</td>\n",
       "                        <td id=\"T_d100e72e_7158_11ea_9e87_50e08586bf81row2_col6\" class=\"data row2 col6\" >SAN HING</td>\n",
       "                        <td id=\"T_d100e72e_7158_11ea_9e87_50e08586bf81row2_col7\" class=\"data row2 col7\" >INACTIVE</td>\n",
       "                        <td id=\"T_d100e72e_7158_11ea_9e87_50e08586bf81row2_col8\" class=\"data row2 col8\" >1632</td>\n",
       "                        <td id=\"T_d100e72e_7158_11ea_9e87_50e08586bf81row2_col9\" class=\"data row2 col9\" >RESTAURANT (0-30) SEATS HIGH RISK</td>\n",
       "                        <td id=\"T_d100e72e_7158_11ea_9e87_50e08586bf81row2_col10\" class=\"data row2 col10\" >11136 PALMS BLVD</td>\n",
       "                        <td id=\"T_d100e72e_7158_11ea_9e87_50e08586bf81row2_col11\" class=\"data row2 col11\" >LOS ANGELES</td>\n",
       "                        <td id=\"T_d100e72e_7158_11ea_9e87_50e08586bf81row2_col12\" class=\"data row2 col12\" >CA</td>\n",
       "                        <td id=\"T_d100e72e_7158_11ea_9e87_50e08586bf81row2_col13\" class=\"data row2 col13\" >90034</td>\n",
       "                        <td id=\"T_d100e72e_7158_11ea_9e87_50e08586bf81row2_col14\" class=\"data row2 col14\" >1</td>\n",
       "                        <td id=\"T_d100e72e_7158_11ea_9e87_50e08586bf81row2_col15\" class=\"data row2 col15\" >ROUTINE INSPECTION</td>\n",
       "                        <td id=\"T_d100e72e_7158_11ea_9e87_50e08586bf81row2_col16\" class=\"data row2 col16\" >96</td>\n",
       "                        <td id=\"T_d100e72e_7158_11ea_9e87_50e08586bf81row2_col17\" class=\"data row2 col17\" >A</td>\n",
       "                        <td id=\"T_d100e72e_7158_11ea_9e87_50e08586bf81row2_col18\" class=\"data row2 col18\" >DAJMZ6U86</td>\n",
       "                        <td id=\"T_d100e72e_7158_11ea_9e87_50e08586bf81row2_col19\" class=\"data row2 col19\" >EE0000911</td>\n",
       "                        <td id=\"T_d100e72e_7158_11ea_9e87_50e08586bf81row2_col20\" class=\"data row2 col20\" >POINT (-118.422231 34.01925)</td>\n",
       "            </tr>\n",
       "            <tr>\n",
       "                                <td id=\"T_d100e72e_7158_11ea_9e87_50e08586bf81row3_col0\" class=\"data row3 col0\" >06/12/2017</td>\n",
       "                        <td id=\"T_d100e72e_7158_11ea_9e87_50e08586bf81row3_col1\" class=\"data row3 col1\" >OW0100197</td>\n",
       "                        <td id=\"T_d100e72e_7158_11ea_9e87_50e08586bf81row3_col2\" class=\"data row3 col2\" >SBARRO, LLC</td>\n",
       "                        <td id=\"T_d100e72e_7158_11ea_9e87_50e08586bf81row3_col3\" class=\"data row3 col3\" >FA0032188</td>\n",
       "                        <td id=\"T_d100e72e_7158_11ea_9e87_50e08586bf81row3_col4\" class=\"data row3 col4\" >SBARRO</td>\n",
       "                        <td id=\"T_d100e72e_7158_11ea_9e87_50e08586bf81row3_col5\" class=\"data row3 col5\" >PR0018712</td>\n",
       "                        <td id=\"T_d100e72e_7158_11ea_9e87_50e08586bf81row3_col6\" class=\"data row3 col6\" >SBARRO</td>\n",
       "                        <td id=\"T_d100e72e_7158_11ea_9e87_50e08586bf81row3_col7\" class=\"data row3 col7\" >ACTIVE</td>\n",
       "                        <td id=\"T_d100e72e_7158_11ea_9e87_50e08586bf81row3_col8\" class=\"data row3 col8\" >1631</td>\n",
       "                        <td id=\"T_d100e72e_7158_11ea_9e87_50e08586bf81row3_col9\" class=\"data row3 col9\" >RESTAURANT (0-30) SEATS MODERATE RISK</td>\n",
       "                        <td id=\"T_d100e72e_7158_11ea_9e87_50e08586bf81row3_col10\" class=\"data row3 col10\" >3650 W MLK BLVD # FC-10</td>\n",
       "                        <td id=\"T_d100e72e_7158_11ea_9e87_50e08586bf81row3_col11\" class=\"data row3 col11\" >LOS ANGELES</td>\n",
       "                        <td id=\"T_d100e72e_7158_11ea_9e87_50e08586bf81row3_col12\" class=\"data row3 col12\" >CA</td>\n",
       "                        <td id=\"T_d100e72e_7158_11ea_9e87_50e08586bf81row3_col13\" class=\"data row3 col13\" >90008</td>\n",
       "                        <td id=\"T_d100e72e_7158_11ea_9e87_50e08586bf81row3_col14\" class=\"data row3 col14\" >1</td>\n",
       "                        <td id=\"T_d100e72e_7158_11ea_9e87_50e08586bf81row3_col15\" class=\"data row3 col15\" >ROUTINE INSPECTION</td>\n",
       "                        <td id=\"T_d100e72e_7158_11ea_9e87_50e08586bf81row3_col16\" class=\"data row3 col16\" >90</td>\n",
       "                        <td id=\"T_d100e72e_7158_11ea_9e87_50e08586bf81row3_col17\" class=\"data row3 col17\" >A</td>\n",
       "                        <td id=\"T_d100e72e_7158_11ea_9e87_50e08586bf81row3_col18\" class=\"data row3 col18\" >DAMPB9559</td>\n",
       "                        <td id=\"T_d100e72e_7158_11ea_9e87_50e08586bf81row3_col19\" class=\"data row3 col19\" >EE0000176</td>\n",
       "                        <td id=\"T_d100e72e_7158_11ea_9e87_50e08586bf81row3_col20\" class=\"data row3 col20\" >nan</td>\n",
       "            </tr>\n",
       "            <tr>\n",
       "                                <td id=\"T_d100e72e_7158_11ea_9e87_50e08586bf81row4_col0\" class=\"data row4 col0\" >06/15/2017</td>\n",
       "                        <td id=\"T_d100e72e_7158_11ea_9e87_50e08586bf81row4_col1\" class=\"data row4 col1\" >OW0028751</td>\n",
       "                        <td id=\"T_d100e72e_7158_11ea_9e87_50e08586bf81row4_col2\" class=\"data row4 col2\" >PO SOKHOR</td>\n",
       "                        <td id=\"T_d100e72e_7158_11ea_9e87_50e08586bf81row4_col3\" class=\"data row4 col3\" >FA0023039</td>\n",
       "                        <td id=\"T_d100e72e_7158_11ea_9e87_50e08586bf81row4_col4\" class=\"data row4 col4\" >LUCKY DONUTS</td>\n",
       "                        <td id=\"T_d100e72e_7158_11ea_9e87_50e08586bf81row4_col5\" class=\"data row4 col5\" >PR0038158</td>\n",
       "                        <td id=\"T_d100e72e_7158_11ea_9e87_50e08586bf81row4_col6\" class=\"data row4 col6\" >LUCKY DONUTS</td>\n",
       "                        <td id=\"T_d100e72e_7158_11ea_9e87_50e08586bf81row4_col7\" class=\"data row4 col7\" >ACTIVE</td>\n",
       "                        <td id=\"T_d100e72e_7158_11ea_9e87_50e08586bf81row4_col8\" class=\"data row4 col8\" >1631</td>\n",
       "                        <td id=\"T_d100e72e_7158_11ea_9e87_50e08586bf81row4_col9\" class=\"data row4 col9\" >RESTAURANT (0-30) SEATS MODERATE RISK</td>\n",
       "                        <td id=\"T_d100e72e_7158_11ea_9e87_50e08586bf81row4_col10\" class=\"data row4 col10\" >14700 S WESTERN AVE STE # 106</td>\n",
       "                        <td id=\"T_d100e72e_7158_11ea_9e87_50e08586bf81row4_col11\" class=\"data row4 col11\" >GARDENA</td>\n",
       "                        <td id=\"T_d100e72e_7158_11ea_9e87_50e08586bf81row4_col12\" class=\"data row4 col12\" >CA</td>\n",
       "                        <td id=\"T_d100e72e_7158_11ea_9e87_50e08586bf81row4_col13\" class=\"data row4 col13\" >90249</td>\n",
       "                        <td id=\"T_d100e72e_7158_11ea_9e87_50e08586bf81row4_col14\" class=\"data row4 col14\" >1</td>\n",
       "                        <td id=\"T_d100e72e_7158_11ea_9e87_50e08586bf81row4_col15\" class=\"data row4 col15\" >ROUTINE INSPECTION</td>\n",
       "                        <td id=\"T_d100e72e_7158_11ea_9e87_50e08586bf81row4_col16\" class=\"data row4 col16\" >93</td>\n",
       "                        <td id=\"T_d100e72e_7158_11ea_9e87_50e08586bf81row4_col17\" class=\"data row4 col17\" >A</td>\n",
       "                        <td id=\"T_d100e72e_7158_11ea_9e87_50e08586bf81row4_col18\" class=\"data row4 col18\" >DAAG0SNGQ</td>\n",
       "                        <td id=\"T_d100e72e_7158_11ea_9e87_50e08586bf81row4_col19\" class=\"data row4 col19\" >EE0000062</td>\n",
       "                        <td id=\"T_d100e72e_7158_11ea_9e87_50e08586bf81row4_col20\" class=\"data row4 col20\" >nan</td>\n",
       "            </tr>\n",
       "    </tbody></table>"
      ],
      "text/plain": [
       "<pandas.io.formats.style.Styler at 0x20fced90608>"
      ]
     },
     "execution_count": 3,
     "metadata": {},
     "output_type": "execute_result"
    }
   ],
   "source": [
    "Inspections_df = pd.read_csv('Data/LA/LOS_ANGELES_COUNTY_RESTAURANT_AND_MARKET_INSPECTIONS.csv')\n",
    "Inspections_df.head().style.hide_index()"
   ]
  },
  {
   "cell_type": "markdown",
   "metadata": {},
   "source": [
    "# Preprocessing\n",
    "\n",
    "## Inspection Dataset"
   ]
  },
  {
   "cell_type": "markdown",
   "metadata": {},
   "source": [
    "Converting the activty date into datetime format."
   ]
  },
  {
   "cell_type": "code",
   "execution_count": 4,
   "metadata": {},
   "outputs": [
    {
     "data": {
      "text/html": [
       "<div>\n",
       "<style scoped>\n",
       "    .dataframe tbody tr th:only-of-type {\n",
       "        vertical-align: middle;\n",
       "    }\n",
       "\n",
       "    .dataframe tbody tr th {\n",
       "        vertical-align: top;\n",
       "    }\n",
       "\n",
       "    .dataframe thead th {\n",
       "        text-align: right;\n",
       "    }\n",
       "</style>\n",
       "<table border=\"1\" class=\"dataframe\">\n",
       "  <thead>\n",
       "    <tr style=\"text-align: right;\">\n",
       "      <th></th>\n",
       "      <th>ACTIVITY DATE</th>\n",
       "      <th>OWNER ID</th>\n",
       "      <th>OWNER NAME</th>\n",
       "      <th>FACILITY ID</th>\n",
       "      <th>FACILITY NAME</th>\n",
       "      <th>RECORD ID</th>\n",
       "      <th>PROGRAM NAME</th>\n",
       "      <th>PROGRAM STATUS</th>\n",
       "      <th>PROGRAM ELEMENT (PE)</th>\n",
       "      <th>PE DESCRIPTION</th>\n",
       "      <th>...</th>\n",
       "      <th>FACILITY CITY</th>\n",
       "      <th>FACILITY STATE</th>\n",
       "      <th>FACILITY ZIP</th>\n",
       "      <th>SERVICE CODE</th>\n",
       "      <th>SERVICE DESCRIPTION</th>\n",
       "      <th>SCORE</th>\n",
       "      <th>GRADE</th>\n",
       "      <th>SERIAL NUMBER</th>\n",
       "      <th>EMPLOYEE ID</th>\n",
       "      <th>Location</th>\n",
       "    </tr>\n",
       "  </thead>\n",
       "  <tbody>\n",
       "    <tr>\n",
       "      <th>4</th>\n",
       "      <td>2017-06-15</td>\n",
       "      <td>OW0028751</td>\n",
       "      <td>PO SOKHOR</td>\n",
       "      <td>FA0023039</td>\n",
       "      <td>LUCKY DONUTS</td>\n",
       "      <td>PR0038158</td>\n",
       "      <td>LUCKY DONUTS</td>\n",
       "      <td>ACTIVE</td>\n",
       "      <td>1631</td>\n",
       "      <td>RESTAURANT (0-30) SEATS MODERATE RISK</td>\n",
       "      <td>...</td>\n",
       "      <td>GARDENA</td>\n",
       "      <td>CA</td>\n",
       "      <td>90249</td>\n",
       "      <td>1</td>\n",
       "      <td>ROUTINE INSPECTION</td>\n",
       "      <td>93</td>\n",
       "      <td>A</td>\n",
       "      <td>DAAG0SNGQ</td>\n",
       "      <td>EE0000062</td>\n",
       "      <td>NaN</td>\n",
       "    </tr>\n",
       "    <tr>\n",
       "      <th>3</th>\n",
       "      <td>2017-06-12</td>\n",
       "      <td>OW0100197</td>\n",
       "      <td>SBARRO, LLC</td>\n",
       "      <td>FA0032188</td>\n",
       "      <td>SBARRO</td>\n",
       "      <td>PR0018712</td>\n",
       "      <td>SBARRO</td>\n",
       "      <td>ACTIVE</td>\n",
       "      <td>1631</td>\n",
       "      <td>RESTAURANT (0-30) SEATS MODERATE RISK</td>\n",
       "      <td>...</td>\n",
       "      <td>LOS ANGELES</td>\n",
       "      <td>CA</td>\n",
       "      <td>90008</td>\n",
       "      <td>1</td>\n",
       "      <td>ROUTINE INSPECTION</td>\n",
       "      <td>90</td>\n",
       "      <td>A</td>\n",
       "      <td>DAMPB9559</td>\n",
       "      <td>EE0000176</td>\n",
       "      <td>NaN</td>\n",
       "    </tr>\n",
       "    <tr>\n",
       "      <th>2</th>\n",
       "      <td>2017-06-07</td>\n",
       "      <td>OW0007353</td>\n",
       "      <td>CHEN, CHAO SHU</td>\n",
       "      <td>FA0070050</td>\n",
       "      <td>SAN HING</td>\n",
       "      <td>PR0004325</td>\n",
       "      <td>SAN HING</td>\n",
       "      <td>INACTIVE</td>\n",
       "      <td>1632</td>\n",
       "      <td>RESTAURANT (0-30) SEATS HIGH RISK</td>\n",
       "      <td>...</td>\n",
       "      <td>LOS ANGELES</td>\n",
       "      <td>CA</td>\n",
       "      <td>90034</td>\n",
       "      <td>1</td>\n",
       "      <td>ROUTINE INSPECTION</td>\n",
       "      <td>96</td>\n",
       "      <td>A</td>\n",
       "      <td>DAJMZ6U86</td>\n",
       "      <td>EE0000911</td>\n",
       "      <td>POINT (-118.422231 34.01925)</td>\n",
       "    </tr>\n",
       "    <tr>\n",
       "      <th>1</th>\n",
       "      <td>2017-06-05</td>\n",
       "      <td>OW0025119</td>\n",
       "      <td>MORNING SUN INC.</td>\n",
       "      <td>FA0008772</td>\n",
       "      <td>CHINA GATE</td>\n",
       "      <td>PR0029024</td>\n",
       "      <td>CHINA GATE</td>\n",
       "      <td>ACTIVE</td>\n",
       "      <td>1632</td>\n",
       "      <td>RESTAURANT (0-30) SEATS HIGH RISK</td>\n",
       "      <td>...</td>\n",
       "      <td>LOS ANGELES</td>\n",
       "      <td>CA</td>\n",
       "      <td>90059</td>\n",
       "      <td>1</td>\n",
       "      <td>ROUTINE INSPECTION</td>\n",
       "      <td>94</td>\n",
       "      <td>A</td>\n",
       "      <td>DADMCPXSY</td>\n",
       "      <td>EE0000927</td>\n",
       "      <td>NaN</td>\n",
       "    </tr>\n",
       "    <tr>\n",
       "      <th>0</th>\n",
       "      <td>2017-06-02</td>\n",
       "      <td>OW0030652</td>\n",
       "      <td>ROMERO, JUAN</td>\n",
       "      <td>FA0021745</td>\n",
       "      <td>EL ZIPOTE PUPUSERIA</td>\n",
       "      <td>PR0047587</td>\n",
       "      <td>EL ZIPOTE PUPUSERIA</td>\n",
       "      <td>ACTIVE</td>\n",
       "      <td>1632</td>\n",
       "      <td>RESTAURANT (0-30) SEATS HIGH RISK</td>\n",
       "      <td>...</td>\n",
       "      <td>MONTEBELLO</td>\n",
       "      <td>CA</td>\n",
       "      <td>90640</td>\n",
       "      <td>1</td>\n",
       "      <td>ROUTINE INSPECTION</td>\n",
       "      <td>91</td>\n",
       "      <td>A</td>\n",
       "      <td>DAXE7ACTS</td>\n",
       "      <td>EE0000773</td>\n",
       "      <td>NaN</td>\n",
       "    </tr>\n",
       "  </tbody>\n",
       "</table>\n",
       "<p>5 rows × 21 columns</p>\n",
       "</div>"
      ],
      "text/plain": [
       "  ACTIVITY DATE   OWNER ID        OWNER NAME FACILITY ID        FACILITY NAME  \\\n",
       "4    2017-06-15  OW0028751         PO SOKHOR   FA0023039         LUCKY DONUTS   \n",
       "3    2017-06-12  OW0100197       SBARRO, LLC   FA0032188               SBARRO   \n",
       "2    2017-06-07  OW0007353    CHEN, CHAO SHU   FA0070050             SAN HING   \n",
       "1    2017-06-05  OW0025119  MORNING SUN INC.   FA0008772           CHINA GATE   \n",
       "0    2017-06-02  OW0030652      ROMERO, JUAN   FA0021745  EL ZIPOTE PUPUSERIA   \n",
       "\n",
       "   RECORD ID         PROGRAM NAME PROGRAM STATUS  PROGRAM ELEMENT (PE)  \\\n",
       "4  PR0038158         LUCKY DONUTS         ACTIVE                  1631   \n",
       "3  PR0018712               SBARRO         ACTIVE                  1631   \n",
       "2  PR0004325             SAN HING       INACTIVE                  1632   \n",
       "1  PR0029024           CHINA GATE         ACTIVE                  1632   \n",
       "0  PR0047587  EL ZIPOTE PUPUSERIA         ACTIVE                  1632   \n",
       "\n",
       "                          PE DESCRIPTION  ... FACILITY CITY FACILITY STATE  \\\n",
       "4  RESTAURANT (0-30) SEATS MODERATE RISK  ...       GARDENA             CA   \n",
       "3  RESTAURANT (0-30) SEATS MODERATE RISK  ...   LOS ANGELES             CA   \n",
       "2      RESTAURANT (0-30) SEATS HIGH RISK  ...   LOS ANGELES             CA   \n",
       "1      RESTAURANT (0-30) SEATS HIGH RISK  ...   LOS ANGELES             CA   \n",
       "0      RESTAURANT (0-30) SEATS HIGH RISK  ...    MONTEBELLO             CA   \n",
       "\n",
       "  FACILITY ZIP SERVICE CODE  SERVICE DESCRIPTION SCORE  GRADE SERIAL NUMBER  \\\n",
       "4        90249            1   ROUTINE INSPECTION    93      A     DAAG0SNGQ   \n",
       "3        90008            1   ROUTINE INSPECTION    90      A     DAMPB9559   \n",
       "2        90034            1   ROUTINE INSPECTION    96      A     DAJMZ6U86   \n",
       "1        90059            1   ROUTINE INSPECTION    94      A     DADMCPXSY   \n",
       "0        90640            1   ROUTINE INSPECTION    91      A     DAXE7ACTS   \n",
       "\n",
       "  EMPLOYEE ID                      Location  \n",
       "4   EE0000062                           NaN  \n",
       "3   EE0000176                           NaN  \n",
       "2   EE0000911  POINT (-118.422231 34.01925)  \n",
       "1   EE0000927                           NaN  \n",
       "0   EE0000773                           NaN  \n",
       "\n",
       "[5 rows x 21 columns]"
      ]
     },
     "execution_count": 4,
     "metadata": {},
     "output_type": "execute_result"
    }
   ],
   "source": [
    "Inspections_df['ACTIVITY DATE'] = pd.to_datetime(Inspections_df['ACTIVITY DATE'], format='%m/%d/%Y')\n",
    "Inspections_df.head().sort_values('ACTIVITY DATE', ascending=False)"
   ]
  },
  {
   "cell_type": "markdown",
   "metadata": {},
   "source": [
    "Moreover, note that"
   ]
  },
  {
   "cell_type": "code",
   "execution_count": 5,
   "metadata": {},
   "outputs": [
    {
     "data": {
      "text/plain": [
       "array(['90640', '90059', '90034', ..., '90029-1070', '93543-3116',\n",
       "       '91324-1307'], dtype=object)"
      ]
     },
     "execution_count": 5,
     "metadata": {},
     "output_type": "execute_result"
    }
   ],
   "source": [
    "Inspections_df['FACILITY ZIP'].unique()"
   ]
  },
  {
   "cell_type": "markdown",
   "metadata": {},
   "source": [
    "We would like to keep only the first five digits of each zip code (right before the dashed line). Thus,"
   ]
  },
  {
   "cell_type": "code",
   "execution_count": 6,
   "metadata": {},
   "outputs": [],
   "source": [
    "Inspections_df['FACILITY ZIP'] = Inspections_df['FACILITY ZIP'].apply(lambda x: x[:5])"
   ]
  },
  {
   "cell_type": "markdown",
   "metadata": {},
   "source": [
    "## Creating a new Dataset\n",
    "\n",
    "Moreover, note that the two databases only have a mutual column"
   ]
  },
  {
   "cell_type": "code",
   "execution_count": 7,
   "metadata": {},
   "outputs": [
    {
     "data": {
      "text/plain": [
       "['SERIAL NUMBER']"
      ]
     },
     "execution_count": 7,
     "metadata": {},
     "output_type": "execute_result"
    }
   ],
   "source": [
    "list(Inspections_df.columns & Violations_df.columns)"
   ]
  },
  {
   "cell_type": "code",
   "execution_count": 8,
   "metadata": {
    "scrolled": false
   },
   "outputs": [
    {
     "data": {
      "text/html": [
       "<style  type=\"text/css\" >\n",
       "</style><table id=\"T_d1eb827a_7158_11ea_b07b_50e08586bf81\" ><thead>    <tr>        <th class=\"col_heading level0 col0\" >ACTIVITY DATE</th>        <th class=\"col_heading level0 col1\" >OWNER ID</th>        <th class=\"col_heading level0 col2\" >OWNER NAME</th>        <th class=\"col_heading level0 col3\" >FACILITY ID</th>        <th class=\"col_heading level0 col4\" >FACILITY NAME</th>        <th class=\"col_heading level0 col5\" >RECORD ID</th>        <th class=\"col_heading level0 col6\" >PROGRAM NAME</th>        <th class=\"col_heading level0 col7\" >PROGRAM STATUS</th>        <th class=\"col_heading level0 col8\" >PROGRAM ELEMENT (PE)</th>        <th class=\"col_heading level0 col9\" >PE DESCRIPTION</th>        <th class=\"col_heading level0 col10\" >FACILITY ADDRESS</th>        <th class=\"col_heading level0 col11\" >FACILITY CITY</th>        <th class=\"col_heading level0 col12\" >FACILITY STATE</th>        <th class=\"col_heading level0 col13\" >FACILITY ZIP</th>        <th class=\"col_heading level0 col14\" >SERVICE CODE</th>        <th class=\"col_heading level0 col15\" >SERVICE DESCRIPTION</th>        <th class=\"col_heading level0 col16\" >SCORE</th>        <th class=\"col_heading level0 col17\" >GRADE</th>        <th class=\"col_heading level0 col18\" >SERIAL NUMBER</th>        <th class=\"col_heading level0 col19\" >EMPLOYEE ID</th>        <th class=\"col_heading level0 col20\" >Location</th>        <th class=\"col_heading level0 col21\" >VIOLATION  STATUS</th>        <th class=\"col_heading level0 col22\" >VIOLATION CODE</th>        <th class=\"col_heading level0 col23\" >VIOLATION DESCRIPTION</th>        <th class=\"col_heading level0 col24\" >POINTS</th>    </tr></thead><tbody>\n",
       "                <tr>\n",
       "                                <td id=\"T_d1eb827a_7158_11ea_b07b_50e08586bf81row0_col0\" class=\"data row0 col0\" >2017-06-02 00:00:00</td>\n",
       "                        <td id=\"T_d1eb827a_7158_11ea_b07b_50e08586bf81row0_col1\" class=\"data row0 col1\" >OW0030652</td>\n",
       "                        <td id=\"T_d1eb827a_7158_11ea_b07b_50e08586bf81row0_col2\" class=\"data row0 col2\" >ROMERO, JUAN</td>\n",
       "                        <td id=\"T_d1eb827a_7158_11ea_b07b_50e08586bf81row0_col3\" class=\"data row0 col3\" >FA0021745</td>\n",
       "                        <td id=\"T_d1eb827a_7158_11ea_b07b_50e08586bf81row0_col4\" class=\"data row0 col4\" >EL ZIPOTE PUPUSERIA</td>\n",
       "                        <td id=\"T_d1eb827a_7158_11ea_b07b_50e08586bf81row0_col5\" class=\"data row0 col5\" >PR0047587</td>\n",
       "                        <td id=\"T_d1eb827a_7158_11ea_b07b_50e08586bf81row0_col6\" class=\"data row0 col6\" >EL ZIPOTE PUPUSERIA</td>\n",
       "                        <td id=\"T_d1eb827a_7158_11ea_b07b_50e08586bf81row0_col7\" class=\"data row0 col7\" >ACTIVE</td>\n",
       "                        <td id=\"T_d1eb827a_7158_11ea_b07b_50e08586bf81row0_col8\" class=\"data row0 col8\" >1632.000000</td>\n",
       "                        <td id=\"T_d1eb827a_7158_11ea_b07b_50e08586bf81row0_col9\" class=\"data row0 col9\" >RESTAURANT (0-30) SEATS HIGH RISK</td>\n",
       "                        <td id=\"T_d1eb827a_7158_11ea_b07b_50e08586bf81row0_col10\" class=\"data row0 col10\" >1111 W WASHINGTON BLVD STE H</td>\n",
       "                        <td id=\"T_d1eb827a_7158_11ea_b07b_50e08586bf81row0_col11\" class=\"data row0 col11\" >MONTEBELLO</td>\n",
       "                        <td id=\"T_d1eb827a_7158_11ea_b07b_50e08586bf81row0_col12\" class=\"data row0 col12\" >CA</td>\n",
       "                        <td id=\"T_d1eb827a_7158_11ea_b07b_50e08586bf81row0_col13\" class=\"data row0 col13\" >90640</td>\n",
       "                        <td id=\"T_d1eb827a_7158_11ea_b07b_50e08586bf81row0_col14\" class=\"data row0 col14\" >1.000000</td>\n",
       "                        <td id=\"T_d1eb827a_7158_11ea_b07b_50e08586bf81row0_col15\" class=\"data row0 col15\" >ROUTINE INSPECTION</td>\n",
       "                        <td id=\"T_d1eb827a_7158_11ea_b07b_50e08586bf81row0_col16\" class=\"data row0 col16\" >91.000000</td>\n",
       "                        <td id=\"T_d1eb827a_7158_11ea_b07b_50e08586bf81row0_col17\" class=\"data row0 col17\" >A</td>\n",
       "                        <td id=\"T_d1eb827a_7158_11ea_b07b_50e08586bf81row0_col18\" class=\"data row0 col18\" >DAXE7ACTS</td>\n",
       "                        <td id=\"T_d1eb827a_7158_11ea_b07b_50e08586bf81row0_col19\" class=\"data row0 col19\" >EE0000773</td>\n",
       "                        <td id=\"T_d1eb827a_7158_11ea_b07b_50e08586bf81row0_col20\" class=\"data row0 col20\" >nan</td>\n",
       "                        <td id=\"T_d1eb827a_7158_11ea_b07b_50e08586bf81row0_col21\" class=\"data row0 col21\" >OUT OF COMPLIANCE</td>\n",
       "                        <td id=\"T_d1eb827a_7158_11ea_b07b_50e08586bf81row0_col22\" class=\"data row0 col22\" >F036</td>\n",
       "                        <td id=\"T_d1eb827a_7158_11ea_b07b_50e08586bf81row0_col23\" class=\"data row0 col23\" ># 36. Equipment, utensils and linens: storage and use</td>\n",
       "                        <td id=\"T_d1eb827a_7158_11ea_b07b_50e08586bf81row0_col24\" class=\"data row0 col24\" >1.000000</td>\n",
       "            </tr>\n",
       "            <tr>\n",
       "                                <td id=\"T_d1eb827a_7158_11ea_b07b_50e08586bf81row1_col0\" class=\"data row1 col0\" >2017-06-02 00:00:00</td>\n",
       "                        <td id=\"T_d1eb827a_7158_11ea_b07b_50e08586bf81row1_col1\" class=\"data row1 col1\" >OW0030652</td>\n",
       "                        <td id=\"T_d1eb827a_7158_11ea_b07b_50e08586bf81row1_col2\" class=\"data row1 col2\" >ROMERO, JUAN</td>\n",
       "                        <td id=\"T_d1eb827a_7158_11ea_b07b_50e08586bf81row1_col3\" class=\"data row1 col3\" >FA0021745</td>\n",
       "                        <td id=\"T_d1eb827a_7158_11ea_b07b_50e08586bf81row1_col4\" class=\"data row1 col4\" >EL ZIPOTE PUPUSERIA</td>\n",
       "                        <td id=\"T_d1eb827a_7158_11ea_b07b_50e08586bf81row1_col5\" class=\"data row1 col5\" >PR0047587</td>\n",
       "                        <td id=\"T_d1eb827a_7158_11ea_b07b_50e08586bf81row1_col6\" class=\"data row1 col6\" >EL ZIPOTE PUPUSERIA</td>\n",
       "                        <td id=\"T_d1eb827a_7158_11ea_b07b_50e08586bf81row1_col7\" class=\"data row1 col7\" >ACTIVE</td>\n",
       "                        <td id=\"T_d1eb827a_7158_11ea_b07b_50e08586bf81row1_col8\" class=\"data row1 col8\" >1632.000000</td>\n",
       "                        <td id=\"T_d1eb827a_7158_11ea_b07b_50e08586bf81row1_col9\" class=\"data row1 col9\" >RESTAURANT (0-30) SEATS HIGH RISK</td>\n",
       "                        <td id=\"T_d1eb827a_7158_11ea_b07b_50e08586bf81row1_col10\" class=\"data row1 col10\" >1111 W WASHINGTON BLVD STE H</td>\n",
       "                        <td id=\"T_d1eb827a_7158_11ea_b07b_50e08586bf81row1_col11\" class=\"data row1 col11\" >MONTEBELLO</td>\n",
       "                        <td id=\"T_d1eb827a_7158_11ea_b07b_50e08586bf81row1_col12\" class=\"data row1 col12\" >CA</td>\n",
       "                        <td id=\"T_d1eb827a_7158_11ea_b07b_50e08586bf81row1_col13\" class=\"data row1 col13\" >90640</td>\n",
       "                        <td id=\"T_d1eb827a_7158_11ea_b07b_50e08586bf81row1_col14\" class=\"data row1 col14\" >1.000000</td>\n",
       "                        <td id=\"T_d1eb827a_7158_11ea_b07b_50e08586bf81row1_col15\" class=\"data row1 col15\" >ROUTINE INSPECTION</td>\n",
       "                        <td id=\"T_d1eb827a_7158_11ea_b07b_50e08586bf81row1_col16\" class=\"data row1 col16\" >91.000000</td>\n",
       "                        <td id=\"T_d1eb827a_7158_11ea_b07b_50e08586bf81row1_col17\" class=\"data row1 col17\" >A</td>\n",
       "                        <td id=\"T_d1eb827a_7158_11ea_b07b_50e08586bf81row1_col18\" class=\"data row1 col18\" >DAXE7ACTS</td>\n",
       "                        <td id=\"T_d1eb827a_7158_11ea_b07b_50e08586bf81row1_col19\" class=\"data row1 col19\" >EE0000773</td>\n",
       "                        <td id=\"T_d1eb827a_7158_11ea_b07b_50e08586bf81row1_col20\" class=\"data row1 col20\" >nan</td>\n",
       "                        <td id=\"T_d1eb827a_7158_11ea_b07b_50e08586bf81row1_col21\" class=\"data row1 col21\" >OUT OF COMPLIANCE</td>\n",
       "                        <td id=\"T_d1eb827a_7158_11ea_b07b_50e08586bf81row1_col22\" class=\"data row1 col22\" >F004</td>\n",
       "                        <td id=\"T_d1eb827a_7158_11ea_b07b_50e08586bf81row1_col23\" class=\"data row1 col23\" ># 04. Proper eating, drinking, or tobacco use</td>\n",
       "                        <td id=\"T_d1eb827a_7158_11ea_b07b_50e08586bf81row1_col24\" class=\"data row1 col24\" >2.000000</td>\n",
       "            </tr>\n",
       "            <tr>\n",
       "                                <td id=\"T_d1eb827a_7158_11ea_b07b_50e08586bf81row2_col0\" class=\"data row2 col0\" >2017-06-02 00:00:00</td>\n",
       "                        <td id=\"T_d1eb827a_7158_11ea_b07b_50e08586bf81row2_col1\" class=\"data row2 col1\" >OW0030652</td>\n",
       "                        <td id=\"T_d1eb827a_7158_11ea_b07b_50e08586bf81row2_col2\" class=\"data row2 col2\" >ROMERO, JUAN</td>\n",
       "                        <td id=\"T_d1eb827a_7158_11ea_b07b_50e08586bf81row2_col3\" class=\"data row2 col3\" >FA0021745</td>\n",
       "                        <td id=\"T_d1eb827a_7158_11ea_b07b_50e08586bf81row2_col4\" class=\"data row2 col4\" >EL ZIPOTE PUPUSERIA</td>\n",
       "                        <td id=\"T_d1eb827a_7158_11ea_b07b_50e08586bf81row2_col5\" class=\"data row2 col5\" >PR0047587</td>\n",
       "                        <td id=\"T_d1eb827a_7158_11ea_b07b_50e08586bf81row2_col6\" class=\"data row2 col6\" >EL ZIPOTE PUPUSERIA</td>\n",
       "                        <td id=\"T_d1eb827a_7158_11ea_b07b_50e08586bf81row2_col7\" class=\"data row2 col7\" >ACTIVE</td>\n",
       "                        <td id=\"T_d1eb827a_7158_11ea_b07b_50e08586bf81row2_col8\" class=\"data row2 col8\" >1632.000000</td>\n",
       "                        <td id=\"T_d1eb827a_7158_11ea_b07b_50e08586bf81row2_col9\" class=\"data row2 col9\" >RESTAURANT (0-30) SEATS HIGH RISK</td>\n",
       "                        <td id=\"T_d1eb827a_7158_11ea_b07b_50e08586bf81row2_col10\" class=\"data row2 col10\" >1111 W WASHINGTON BLVD STE H</td>\n",
       "                        <td id=\"T_d1eb827a_7158_11ea_b07b_50e08586bf81row2_col11\" class=\"data row2 col11\" >MONTEBELLO</td>\n",
       "                        <td id=\"T_d1eb827a_7158_11ea_b07b_50e08586bf81row2_col12\" class=\"data row2 col12\" >CA</td>\n",
       "                        <td id=\"T_d1eb827a_7158_11ea_b07b_50e08586bf81row2_col13\" class=\"data row2 col13\" >90640</td>\n",
       "                        <td id=\"T_d1eb827a_7158_11ea_b07b_50e08586bf81row2_col14\" class=\"data row2 col14\" >1.000000</td>\n",
       "                        <td id=\"T_d1eb827a_7158_11ea_b07b_50e08586bf81row2_col15\" class=\"data row2 col15\" >ROUTINE INSPECTION</td>\n",
       "                        <td id=\"T_d1eb827a_7158_11ea_b07b_50e08586bf81row2_col16\" class=\"data row2 col16\" >91.000000</td>\n",
       "                        <td id=\"T_d1eb827a_7158_11ea_b07b_50e08586bf81row2_col17\" class=\"data row2 col17\" >A</td>\n",
       "                        <td id=\"T_d1eb827a_7158_11ea_b07b_50e08586bf81row2_col18\" class=\"data row2 col18\" >DAXE7ACTS</td>\n",
       "                        <td id=\"T_d1eb827a_7158_11ea_b07b_50e08586bf81row2_col19\" class=\"data row2 col19\" >EE0000773</td>\n",
       "                        <td id=\"T_d1eb827a_7158_11ea_b07b_50e08586bf81row2_col20\" class=\"data row2 col20\" >nan</td>\n",
       "                        <td id=\"T_d1eb827a_7158_11ea_b07b_50e08586bf81row2_col21\" class=\"data row2 col21\" >OUT OF COMPLIANCE</td>\n",
       "                        <td id=\"T_d1eb827a_7158_11ea_b07b_50e08586bf81row2_col22\" class=\"data row2 col22\" >F023</td>\n",
       "                        <td id=\"T_d1eb827a_7158_11ea_b07b_50e08586bf81row2_col23\" class=\"data row2 col23\" ># 23. No rodents, insects, birds, or animals</td>\n",
       "                        <td id=\"T_d1eb827a_7158_11ea_b07b_50e08586bf81row2_col24\" class=\"data row2 col24\" >2.000000</td>\n",
       "            </tr>\n",
       "            <tr>\n",
       "                                <td id=\"T_d1eb827a_7158_11ea_b07b_50e08586bf81row3_col0\" class=\"data row3 col0\" >2017-06-02 00:00:00</td>\n",
       "                        <td id=\"T_d1eb827a_7158_11ea_b07b_50e08586bf81row3_col1\" class=\"data row3 col1\" >OW0030652</td>\n",
       "                        <td id=\"T_d1eb827a_7158_11ea_b07b_50e08586bf81row3_col2\" class=\"data row3 col2\" >ROMERO, JUAN</td>\n",
       "                        <td id=\"T_d1eb827a_7158_11ea_b07b_50e08586bf81row3_col3\" class=\"data row3 col3\" >FA0021745</td>\n",
       "                        <td id=\"T_d1eb827a_7158_11ea_b07b_50e08586bf81row3_col4\" class=\"data row3 col4\" >EL ZIPOTE PUPUSERIA</td>\n",
       "                        <td id=\"T_d1eb827a_7158_11ea_b07b_50e08586bf81row3_col5\" class=\"data row3 col5\" >PR0047587</td>\n",
       "                        <td id=\"T_d1eb827a_7158_11ea_b07b_50e08586bf81row3_col6\" class=\"data row3 col6\" >EL ZIPOTE PUPUSERIA</td>\n",
       "                        <td id=\"T_d1eb827a_7158_11ea_b07b_50e08586bf81row3_col7\" class=\"data row3 col7\" >ACTIVE</td>\n",
       "                        <td id=\"T_d1eb827a_7158_11ea_b07b_50e08586bf81row3_col8\" class=\"data row3 col8\" >1632.000000</td>\n",
       "                        <td id=\"T_d1eb827a_7158_11ea_b07b_50e08586bf81row3_col9\" class=\"data row3 col9\" >RESTAURANT (0-30) SEATS HIGH RISK</td>\n",
       "                        <td id=\"T_d1eb827a_7158_11ea_b07b_50e08586bf81row3_col10\" class=\"data row3 col10\" >1111 W WASHINGTON BLVD STE H</td>\n",
       "                        <td id=\"T_d1eb827a_7158_11ea_b07b_50e08586bf81row3_col11\" class=\"data row3 col11\" >MONTEBELLO</td>\n",
       "                        <td id=\"T_d1eb827a_7158_11ea_b07b_50e08586bf81row3_col12\" class=\"data row3 col12\" >CA</td>\n",
       "                        <td id=\"T_d1eb827a_7158_11ea_b07b_50e08586bf81row3_col13\" class=\"data row3 col13\" >90640</td>\n",
       "                        <td id=\"T_d1eb827a_7158_11ea_b07b_50e08586bf81row3_col14\" class=\"data row3 col14\" >1.000000</td>\n",
       "                        <td id=\"T_d1eb827a_7158_11ea_b07b_50e08586bf81row3_col15\" class=\"data row3 col15\" >ROUTINE INSPECTION</td>\n",
       "                        <td id=\"T_d1eb827a_7158_11ea_b07b_50e08586bf81row3_col16\" class=\"data row3 col16\" >91.000000</td>\n",
       "                        <td id=\"T_d1eb827a_7158_11ea_b07b_50e08586bf81row3_col17\" class=\"data row3 col17\" >A</td>\n",
       "                        <td id=\"T_d1eb827a_7158_11ea_b07b_50e08586bf81row3_col18\" class=\"data row3 col18\" >DAXE7ACTS</td>\n",
       "                        <td id=\"T_d1eb827a_7158_11ea_b07b_50e08586bf81row3_col19\" class=\"data row3 col19\" >EE0000773</td>\n",
       "                        <td id=\"T_d1eb827a_7158_11ea_b07b_50e08586bf81row3_col20\" class=\"data row3 col20\" >nan</td>\n",
       "                        <td id=\"T_d1eb827a_7158_11ea_b07b_50e08586bf81row3_col21\" class=\"data row3 col21\" >OUT OF COMPLIANCE</td>\n",
       "                        <td id=\"T_d1eb827a_7158_11ea_b07b_50e08586bf81row3_col22\" class=\"data row3 col22\" >F005</td>\n",
       "                        <td id=\"T_d1eb827a_7158_11ea_b07b_50e08586bf81row3_col23\" class=\"data row3 col23\" ># 05. Hands clean and properly washed; gloves used properly</td>\n",
       "                        <td id=\"T_d1eb827a_7158_11ea_b07b_50e08586bf81row3_col24\" class=\"data row3 col24\" >4.000000</td>\n",
       "            </tr>\n",
       "            <tr>\n",
       "                                <td id=\"T_d1eb827a_7158_11ea_b07b_50e08586bf81row4_col0\" class=\"data row4 col0\" >2017-06-05 00:00:00</td>\n",
       "                        <td id=\"T_d1eb827a_7158_11ea_b07b_50e08586bf81row4_col1\" class=\"data row4 col1\" >OW0025119</td>\n",
       "                        <td id=\"T_d1eb827a_7158_11ea_b07b_50e08586bf81row4_col2\" class=\"data row4 col2\" >MORNING SUN INC.</td>\n",
       "                        <td id=\"T_d1eb827a_7158_11ea_b07b_50e08586bf81row4_col3\" class=\"data row4 col3\" >FA0008772</td>\n",
       "                        <td id=\"T_d1eb827a_7158_11ea_b07b_50e08586bf81row4_col4\" class=\"data row4 col4\" >CHINA GATE</td>\n",
       "                        <td id=\"T_d1eb827a_7158_11ea_b07b_50e08586bf81row4_col5\" class=\"data row4 col5\" >PR0029024</td>\n",
       "                        <td id=\"T_d1eb827a_7158_11ea_b07b_50e08586bf81row4_col6\" class=\"data row4 col6\" >CHINA GATE</td>\n",
       "                        <td id=\"T_d1eb827a_7158_11ea_b07b_50e08586bf81row4_col7\" class=\"data row4 col7\" >ACTIVE</td>\n",
       "                        <td id=\"T_d1eb827a_7158_11ea_b07b_50e08586bf81row4_col8\" class=\"data row4 col8\" >1632.000000</td>\n",
       "                        <td id=\"T_d1eb827a_7158_11ea_b07b_50e08586bf81row4_col9\" class=\"data row4 col9\" >RESTAURANT (0-30) SEATS HIGH RISK</td>\n",
       "                        <td id=\"T_d1eb827a_7158_11ea_b07b_50e08586bf81row4_col10\" class=\"data row4 col10\" >11814 S WILMINGTON AVE</td>\n",
       "                        <td id=\"T_d1eb827a_7158_11ea_b07b_50e08586bf81row4_col11\" class=\"data row4 col11\" >LOS ANGELES</td>\n",
       "                        <td id=\"T_d1eb827a_7158_11ea_b07b_50e08586bf81row4_col12\" class=\"data row4 col12\" >CA</td>\n",
       "                        <td id=\"T_d1eb827a_7158_11ea_b07b_50e08586bf81row4_col13\" class=\"data row4 col13\" >90059</td>\n",
       "                        <td id=\"T_d1eb827a_7158_11ea_b07b_50e08586bf81row4_col14\" class=\"data row4 col14\" >1.000000</td>\n",
       "                        <td id=\"T_d1eb827a_7158_11ea_b07b_50e08586bf81row4_col15\" class=\"data row4 col15\" >ROUTINE INSPECTION</td>\n",
       "                        <td id=\"T_d1eb827a_7158_11ea_b07b_50e08586bf81row4_col16\" class=\"data row4 col16\" >94.000000</td>\n",
       "                        <td id=\"T_d1eb827a_7158_11ea_b07b_50e08586bf81row4_col17\" class=\"data row4 col17\" >A</td>\n",
       "                        <td id=\"T_d1eb827a_7158_11ea_b07b_50e08586bf81row4_col18\" class=\"data row4 col18\" >DADMCPXSY</td>\n",
       "                        <td id=\"T_d1eb827a_7158_11ea_b07b_50e08586bf81row4_col19\" class=\"data row4 col19\" >EE0000927</td>\n",
       "                        <td id=\"T_d1eb827a_7158_11ea_b07b_50e08586bf81row4_col20\" class=\"data row4 col20\" >nan</td>\n",
       "                        <td id=\"T_d1eb827a_7158_11ea_b07b_50e08586bf81row4_col21\" class=\"data row4 col21\" >OUT OF COMPLIANCE</td>\n",
       "                        <td id=\"T_d1eb827a_7158_11ea_b07b_50e08586bf81row4_col22\" class=\"data row4 col22\" >F039</td>\n",
       "                        <td id=\"T_d1eb827a_7158_11ea_b07b_50e08586bf81row4_col23\" class=\"data row4 col23\" ># 39. Wiping cloths: properly used and stored</td>\n",
       "                        <td id=\"T_d1eb827a_7158_11ea_b07b_50e08586bf81row4_col24\" class=\"data row4 col24\" >1.000000</td>\n",
       "            </tr>\n",
       "    </tbody></table>"
      ],
      "text/plain": [
       "<pandas.io.formats.style.Styler at 0x20fcfe18808>"
      ]
     },
     "execution_count": 8,
     "metadata": {},
     "output_type": "execute_result"
    }
   ],
   "source": [
    "Data=pd.merge(Inspections_df, Violations_df, on='SERIAL NUMBER', how='right')\n",
    "Data.head().style.hide_index()"
   ]
  },
  {
   "cell_type": "markdown",
   "metadata": {},
   "source": [
    "Moreover, note that"
   ]
  },
  {
   "cell_type": "code",
   "execution_count": 9,
   "metadata": {},
   "outputs": [
    {
     "data": {
      "text/plain": [
       "array(['RESTAURANT (0-30) SEATS HIGH RISK',\n",
       "       'RESTAURANT (0-30) SEATS MODERATE RISK',\n",
       "       'RESTAURANT (31-60) SEATS HIGH RISK',\n",
       "       'RESTAURANT (151 + ) SEATS HIGH RISK',\n",
       "       'RESTAURANT (151 + ) SEATS MODERATE RISK',\n",
       "       'RESTAURANT (61-150) SEATS MODERATE RISK',\n",
       "       'RESTAURANT (0-30) SEATS LOW RISK',\n",
       "       'RESTAURANT (61-150) SEATS HIGH RISK',\n",
       "       'RESTAURANT (31-60) SEATS MODERATE RISK',\n",
       "       'FOOD MKT RETAIL (2,000+ SF) LOW RISK',\n",
       "       'FOOD MKT RETAIL (1-1,999 SF) LOW RISK',\n",
       "       'RESTAURANT (61-150) SEATS LOW RISK',\n",
       "       'FOOD MKT RETAIL (2,000+ SF) MODERATE RISK',\n",
       "       'FOOD MKT RETAIL (1-1,999 SF) HIGH RISK',\n",
       "       'FOOD MKT RETAIL (1-1,999 SF) MODERATE RISK',\n",
       "       'FOOD MKT RETAIL (2,000+ SF) HIGH RISK',\n",
       "       'RESTAURANT (151 + ) SEATS LOW RISK',\n",
       "       'RESTAURANT (31-60) SEATS LOW RISK', 'CATERER (0-999 SQ. FT.)',\n",
       "       'INTERIM HOUSING FF (1-1,999) SQ. FT.',\n",
       "       'FOOD PROCESSING WHOLESALE (2,000-5,999 SF)',\n",
       "       'INTERIM HOUSING FF (2,000-4,999) SQ. FT.',\n",
       "       'CATERER (1,000-1,999 SQ. FT.)',\n",
       "       'LIC HTH CARE FOOD FAC (4000-9999 SF)HIGH RISK',\n",
       "       'SWAP MEET PREPACKAGED FOOD STAND',\n",
       "       'FOOD PROCESSING WHOLESALE (1-1,999 SQ. FT.)',\n",
       "       'PRIVATE SCHOOL CAFETERIA',\n",
       "       'LIC HTH CARE FOOD FAC (2000-3999 SF)HIGH RISK',\n",
       "       'FOOD VEHICLE COMMISSARY (0-10)',\n",
       "       'FOOD PROCESSING WHOLESALE (6,000 + SQ. FT.)',\n",
       "       'FOOD MARKET WHOLESALE',\n",
       "       'LIC HTH CARE FOOD FAC (0-1999 SF) HIGH RISK',\n",
       "       'LIC HTH CARE FOOD FAC (10,000+ SF) HIGH RISK',\n",
       "       'FOOD WAREHOUSE (1-4,999) SQ. FT.',\n",
       "       'LIC HTH CARE FOOD FAC (0-1999 SF) MOD RISK', nan], dtype=object)"
      ]
     },
     "execution_count": 9,
     "metadata": {},
     "output_type": "execute_result"
    }
   ],
   "source": [
    "Data['PE DESCRIPTION'].unique()"
   ]
  },
  {
   "cell_type": "markdown",
   "metadata": {},
   "source": [
    "This column can be split into three columns."
   ]
  },
  {
   "cell_type": "code",
   "execution_count": 10,
   "metadata": {
    "scrolled": true
   },
   "outputs": [],
   "source": [
    "temp = Data['PE DESCRIPTION'].str.split(\"(\", n = 2, expand = True)\n",
    "temp1 = temp.loc[:,1].str.split(\")\", n = 2, expand = True)"
   ]
  },
  {
   "cell_type": "code",
   "execution_count": 11,
   "metadata": {},
   "outputs": [],
   "source": [
    "Data['PE_Type']=temp.loc[:,0]\n",
    "del temp"
   ]
  },
  {
   "cell_type": "markdown",
   "metadata": {},
   "source": [
    "As for types, we have the following types:"
   ]
  },
  {
   "cell_type": "code",
   "execution_count": 12,
   "metadata": {
    "scrolled": true
   },
   "outputs": [
    {
     "data": {
      "text/plain": [
       "['RESTAURANT ',\n",
       " 'FOOD MKT RETAIL ',\n",
       " 'CATERER ',\n",
       " 'INTERIM HOUSING FF ',\n",
       " 'FOOD PROCESSING WHOLESALE ',\n",
       " 'LIC HTH CARE FOOD FAC ',\n",
       " 'SWAP MEET PREPACKAGED FOOD STAND',\n",
       " 'PRIVATE SCHOOL CAFETERIA',\n",
       " 'FOOD VEHICLE COMMISSARY ',\n",
       " 'FOOD MARKET WHOLESALE',\n",
       " 'FOOD WAREHOUSE ',\n",
       " nan]"
      ]
     },
     "execution_count": 12,
     "metadata": {},
     "output_type": "execute_result"
    }
   ],
   "source": [
    "Data['PE_Type'].unique().tolist()"
   ]
  },
  {
   "cell_type": "code",
   "execution_count": 13,
   "metadata": {},
   "outputs": [],
   "source": [
    "Map = {'RESTAURANT ':'Restaurant',\n",
    "       'FOOD MKT RETAIL ':'Food Market Retail',\n",
    "       'INTERIM HOUSING FF ':'Interim Housing FF',\n",
    "       'LIC HTH CARE FOOD FAC ':'LIC HTH Care Food FAC',\n",
    "       'CATERER ':'Caterer',\n",
    "       'SWAP MEET PREPACKAGED FOOD STAND':'Swap Meet Prepackaged Food Stand',\n",
    "       'PRIVATE SCHOOL CAFETERIA':'Private School Cafeteria',\n",
    "       'FOOD PROCESSING WHOLESALE ':'Food Processing Wholesale',\n",
    "       'FOOD VEHICLE COMMISSARY ':'Food Vehicle Commissary',\n",
    "       'FOOD WAREHOUSE ':'Food Warehouse',\n",
    "       'FOOD MARKET WHOLESALE':'Food Market Wholesale'} \n",
    "Data['PE_Type'] = Data['PE_Type'].map(Map)"
   ]
  },
  {
   "cell_type": "code",
   "execution_count": 14,
   "metadata": {},
   "outputs": [],
   "source": [
    "Data['PE_Seats']=temp1.loc[:,0]\n",
    "Data['PE_Risk']=temp1.loc[:,1]\n",
    "del temp1"
   ]
  },
  {
   "cell_type": "markdown",
   "metadata": {},
   "source": [
    "Risk level:"
   ]
  },
  {
   "cell_type": "code",
   "execution_count": 15,
   "metadata": {},
   "outputs": [
    {
     "data": {
      "text/plain": [
       "array([' SEATS HIGH RISK', ' SEATS MODERATE RISK', ' SEATS LOW RISK',\n",
       "       ' LOW RISK', ' MODERATE RISK', ' HIGH RISK', '', ' SQ. FT.',\n",
       "       'HIGH RISK', None, ' MOD RISK', nan], dtype=object)"
      ]
     },
     "execution_count": 15,
     "metadata": {},
     "output_type": "execute_result"
    }
   ],
   "source": [
    "Data['PE_Risk'].unique()"
   ]
  },
  {
   "cell_type": "code",
   "execution_count": 16,
   "metadata": {},
   "outputs": [],
   "source": [
    "Map = {' SEATS MODERATE RISK':'Moderate Risk',\n",
    "       ' SEATS HIGH RISK':'High Risk',\n",
    "       ' LOW RISK':'Low Risk',\n",
    "       ' SEATS LOW RISK':'Low Risk',\n",
    "       ' HIGH RISK':'High Risk',\n",
    "       ' MODERATE RISK':'Moderate Risk', \n",
    "       ' SQ. FT.':None,\n",
    "       'HIGH RISK':'High Risk',\n",
    "       '':None,\n",
    "       None:None,\n",
    "       ' MOD RISK':'Moderate Risk'}\n",
    "Data['PE_Risk'] = Data['PE_Risk'].map(Map)"
   ]
  },
  {
   "cell_type": "code",
   "execution_count": 17,
   "metadata": {},
   "outputs": [
    {
     "data": {
      "text/plain": [
       "array(['0-30', '31-60', '151 + ', '61-150', '2,000+ SF', '1-1,999 SF',\n",
       "       '0-999 SQ. FT.', '1-1,999', '2,000-5,999 SF', '2,000-4,999',\n",
       "       '1,000-1,999 SQ. FT.', '4000-9999 SF', None, '1-1,999 SQ. FT.',\n",
       "       '2000-3999 SF', '0-10', '6,000 + SQ. FT.', '0-1999 SF',\n",
       "       '10,000+ SF', '1-4,999', nan], dtype=object)"
      ]
     },
     "execution_count": 17,
     "metadata": {},
     "output_type": "execute_result"
    }
   ],
   "source": [
    "Data['PE_Seats'].unique()"
   ]
  },
  {
   "cell_type": "code",
   "execution_count": 18,
   "metadata": {},
   "outputs": [],
   "source": [
    "Map = {'0-30':'0-30 SQ. FT.', '31-60':'31-60 SQ. FT.', '61-150 SQ. FT.':'61-150 SQ. FT.',\n",
    "       '151 + ':'151+ SQ. FT.', '1-1,999 SF':'1-1999 SQ. FT.', '2,000+ SF':'2000+ SQ. FT.',\n",
    "       '2,000-4,999':'2000-4999 SQ. FT.', '10,000+ SF':'10000+ SQ. FT.', '1-1,999':'1-1999 SQ. FT.',\n",
    "       '4000-9999 SF':'4000-9999 SQ. FT.','1,000-1,999 SQ. FT.':'1000-1999 SQ. FT.',np.nan:'Other',\n",
    "       None:'Other', '2,000-5,999 SF':'2000-5999 SQ. FT.', '0-999 SQ. FT.':'0-999 SQ. FT.',\n",
    "       '1-1,999 SQ. FT.':'1-1999 SQ. FT.','2000-3999 SF':'2000-3999 SQ. FT.', '0-1999 SF':'0-1999 SQ. FT.',\n",
    "       '0-10':'0-10 SQ. FT.','6,000 + SQ. FT.':'6000+ SQ. FT.', '1-4,999':'1-4999 SQ. FT.'}\n",
    "Data['PE_Seats'] = Data['PE_Seats'].map(Map)"
   ]
  },
  {
   "cell_type": "markdown",
   "metadata": {},
   "source": [
    "Droping **PE DESCRIPTION** column."
   ]
  },
  {
   "cell_type": "code",
   "execution_count": 19,
   "metadata": {},
   "outputs": [],
   "source": [
    "Data = Data.drop(columns='PE DESCRIPTION')"
   ]
  },
  {
   "cell_type": "code",
   "execution_count": 20,
   "metadata": {
    "scrolled": true
   },
   "outputs": [
    {
     "data": {
      "text/html": [
       "<style  type=\"text/css\" >\n",
       "</style><table id=\"T_d513ef22_7158_11ea_af30_50e08586bf81\" ><thead>    <tr>        <th class=\"col_heading level0 col0\" >PE_Type</th>        <th class=\"col_heading level0 col1\" >PE_Seats</th>        <th class=\"col_heading level0 col2\" >PE_Risk</th>    </tr></thead><tbody>\n",
       "                <tr>\n",
       "                                <td id=\"T_d513ef22_7158_11ea_af30_50e08586bf81row0_col0\" class=\"data row0 col0\" >Restaurant</td>\n",
       "                        <td id=\"T_d513ef22_7158_11ea_af30_50e08586bf81row0_col1\" class=\"data row0 col1\" >0-30 SQ. FT.</td>\n",
       "                        <td id=\"T_d513ef22_7158_11ea_af30_50e08586bf81row0_col2\" class=\"data row0 col2\" >High Risk</td>\n",
       "            </tr>\n",
       "            <tr>\n",
       "                                <td id=\"T_d513ef22_7158_11ea_af30_50e08586bf81row1_col0\" class=\"data row1 col0\" >Restaurant</td>\n",
       "                        <td id=\"T_d513ef22_7158_11ea_af30_50e08586bf81row1_col1\" class=\"data row1 col1\" >0-30 SQ. FT.</td>\n",
       "                        <td id=\"T_d513ef22_7158_11ea_af30_50e08586bf81row1_col2\" class=\"data row1 col2\" >High Risk</td>\n",
       "            </tr>\n",
       "            <tr>\n",
       "                                <td id=\"T_d513ef22_7158_11ea_af30_50e08586bf81row2_col0\" class=\"data row2 col0\" >Restaurant</td>\n",
       "                        <td id=\"T_d513ef22_7158_11ea_af30_50e08586bf81row2_col1\" class=\"data row2 col1\" >0-30 SQ. FT.</td>\n",
       "                        <td id=\"T_d513ef22_7158_11ea_af30_50e08586bf81row2_col2\" class=\"data row2 col2\" >High Risk</td>\n",
       "            </tr>\n",
       "            <tr>\n",
       "                                <td id=\"T_d513ef22_7158_11ea_af30_50e08586bf81row3_col0\" class=\"data row3 col0\" >Restaurant</td>\n",
       "                        <td id=\"T_d513ef22_7158_11ea_af30_50e08586bf81row3_col1\" class=\"data row3 col1\" >0-30 SQ. FT.</td>\n",
       "                        <td id=\"T_d513ef22_7158_11ea_af30_50e08586bf81row3_col2\" class=\"data row3 col2\" >High Risk</td>\n",
       "            </tr>\n",
       "            <tr>\n",
       "                                <td id=\"T_d513ef22_7158_11ea_af30_50e08586bf81row4_col0\" class=\"data row4 col0\" >Restaurant</td>\n",
       "                        <td id=\"T_d513ef22_7158_11ea_af30_50e08586bf81row4_col1\" class=\"data row4 col1\" >0-30 SQ. FT.</td>\n",
       "                        <td id=\"T_d513ef22_7158_11ea_af30_50e08586bf81row4_col2\" class=\"data row4 col2\" >High Risk</td>\n",
       "            </tr>\n",
       "    </tbody></table>"
      ],
      "text/plain": [
       "<pandas.io.formats.style.Styler at 0x20f86b908c8>"
      ]
     },
     "execution_count": 20,
     "metadata": {},
     "output_type": "execute_result"
    }
   ],
   "source": [
    "Data.head()[['PE_Type','PE_Seats','PE_Risk']].style.hide_index()"
   ]
  },
  {
   "cell_type": "markdown",
   "metadata": {},
   "source": [
    "### Reindexing"
   ]
  },
  {
   "cell_type": "code",
   "execution_count": 21,
   "metadata": {},
   "outputs": [],
   "source": [
    "mylist = Data.columns.tolist()\n",
    "mylist = [x.title() for x in mylist]\n",
    "mylist = [x.replace('Id','ID') for x in mylist]\n",
    "mylist = [x.replace('Pe','PE') for x in mylist]\n",
    "mylist = [x.replace('  ',' ') for x in mylist]\n",
    "temp = pd.DataFrame(Data.values, columns=mylist)\n",
    "Data=temp.copy()\n",
    "del temp, mylist"
   ]
  },
  {
   "cell_type": "code",
   "execution_count": 22,
   "metadata": {
    "scrolled": false
   },
   "outputs": [
    {
     "data": {
      "text/html": [
       "<style  type=\"text/css\" >\n",
       "</style><table id=\"T_d74de05a_7158_11ea_8226_50e08586bf81\" ><thead>    <tr>        <th class=\"col_heading level0 col0\" >Activity Date</th>        <th class=\"col_heading level0 col1\" >Owner ID</th>        <th class=\"col_heading level0 col2\" >Owner Name</th>        <th class=\"col_heading level0 col3\" >Facility ID</th>        <th class=\"col_heading level0 col4\" >Facility Name</th>        <th class=\"col_heading level0 col5\" >Record ID</th>        <th class=\"col_heading level0 col6\" >Program Name</th>        <th class=\"col_heading level0 col7\" >Program Status</th>        <th class=\"col_heading level0 col8\" >Program Element (PE)</th>        <th class=\"col_heading level0 col9\" >Facility Address</th>        <th class=\"col_heading level0 col10\" >Facility City</th>        <th class=\"col_heading level0 col11\" >Facility State</th>        <th class=\"col_heading level0 col12\" >Facility Zip</th>        <th class=\"col_heading level0 col13\" >Service Code</th>        <th class=\"col_heading level0 col14\" >Service Description</th>        <th class=\"col_heading level0 col15\" >Score</th>        <th class=\"col_heading level0 col16\" >Grade</th>        <th class=\"col_heading level0 col17\" >Serial Number</th>        <th class=\"col_heading level0 col18\" >Employee ID</th>        <th class=\"col_heading level0 col19\" >Location</th>        <th class=\"col_heading level0 col20\" >Violation Status</th>        <th class=\"col_heading level0 col21\" >Violation Code</th>        <th class=\"col_heading level0 col22\" >Violation Description</th>        <th class=\"col_heading level0 col23\" >Points</th>        <th class=\"col_heading level0 col24\" >PE_Type</th>        <th class=\"col_heading level0 col25\" >PE_Seats</th>        <th class=\"col_heading level0 col26\" >PE_Risk</th>    </tr></thead><tbody>\n",
       "                <tr>\n",
       "                                <td id=\"T_d74de05a_7158_11ea_8226_50e08586bf81row0_col0\" class=\"data row0 col0\" >2017-06-02 00:00:00</td>\n",
       "                        <td id=\"T_d74de05a_7158_11ea_8226_50e08586bf81row0_col1\" class=\"data row0 col1\" >OW0030652</td>\n",
       "                        <td id=\"T_d74de05a_7158_11ea_8226_50e08586bf81row0_col2\" class=\"data row0 col2\" >ROMERO, JUAN</td>\n",
       "                        <td id=\"T_d74de05a_7158_11ea_8226_50e08586bf81row0_col3\" class=\"data row0 col3\" >FA0021745</td>\n",
       "                        <td id=\"T_d74de05a_7158_11ea_8226_50e08586bf81row0_col4\" class=\"data row0 col4\" >EL ZIPOTE PUPUSERIA</td>\n",
       "                        <td id=\"T_d74de05a_7158_11ea_8226_50e08586bf81row0_col5\" class=\"data row0 col5\" >PR0047587</td>\n",
       "                        <td id=\"T_d74de05a_7158_11ea_8226_50e08586bf81row0_col6\" class=\"data row0 col6\" >EL ZIPOTE PUPUSERIA</td>\n",
       "                        <td id=\"T_d74de05a_7158_11ea_8226_50e08586bf81row0_col7\" class=\"data row0 col7\" >ACTIVE</td>\n",
       "                        <td id=\"T_d74de05a_7158_11ea_8226_50e08586bf81row0_col8\" class=\"data row0 col8\" >1632.000000</td>\n",
       "                        <td id=\"T_d74de05a_7158_11ea_8226_50e08586bf81row0_col9\" class=\"data row0 col9\" >1111 W WASHINGTON BLVD STE H</td>\n",
       "                        <td id=\"T_d74de05a_7158_11ea_8226_50e08586bf81row0_col10\" class=\"data row0 col10\" >MONTEBELLO</td>\n",
       "                        <td id=\"T_d74de05a_7158_11ea_8226_50e08586bf81row0_col11\" class=\"data row0 col11\" >CA</td>\n",
       "                        <td id=\"T_d74de05a_7158_11ea_8226_50e08586bf81row0_col12\" class=\"data row0 col12\" >90640</td>\n",
       "                        <td id=\"T_d74de05a_7158_11ea_8226_50e08586bf81row0_col13\" class=\"data row0 col13\" >1.000000</td>\n",
       "                        <td id=\"T_d74de05a_7158_11ea_8226_50e08586bf81row0_col14\" class=\"data row0 col14\" >ROUTINE INSPECTION</td>\n",
       "                        <td id=\"T_d74de05a_7158_11ea_8226_50e08586bf81row0_col15\" class=\"data row0 col15\" >91.000000</td>\n",
       "                        <td id=\"T_d74de05a_7158_11ea_8226_50e08586bf81row0_col16\" class=\"data row0 col16\" >A</td>\n",
       "                        <td id=\"T_d74de05a_7158_11ea_8226_50e08586bf81row0_col17\" class=\"data row0 col17\" >DAXE7ACTS</td>\n",
       "                        <td id=\"T_d74de05a_7158_11ea_8226_50e08586bf81row0_col18\" class=\"data row0 col18\" >EE0000773</td>\n",
       "                        <td id=\"T_d74de05a_7158_11ea_8226_50e08586bf81row0_col19\" class=\"data row0 col19\" >nan</td>\n",
       "                        <td id=\"T_d74de05a_7158_11ea_8226_50e08586bf81row0_col20\" class=\"data row0 col20\" >OUT OF COMPLIANCE</td>\n",
       "                        <td id=\"T_d74de05a_7158_11ea_8226_50e08586bf81row0_col21\" class=\"data row0 col21\" >F036</td>\n",
       "                        <td id=\"T_d74de05a_7158_11ea_8226_50e08586bf81row0_col22\" class=\"data row0 col22\" ># 36. Equipment, utensils and linens: storage and use</td>\n",
       "                        <td id=\"T_d74de05a_7158_11ea_8226_50e08586bf81row0_col23\" class=\"data row0 col23\" >1.000000</td>\n",
       "                        <td id=\"T_d74de05a_7158_11ea_8226_50e08586bf81row0_col24\" class=\"data row0 col24\" >Restaurant</td>\n",
       "                        <td id=\"T_d74de05a_7158_11ea_8226_50e08586bf81row0_col25\" class=\"data row0 col25\" >0-30 SQ. FT.</td>\n",
       "                        <td id=\"T_d74de05a_7158_11ea_8226_50e08586bf81row0_col26\" class=\"data row0 col26\" >High Risk</td>\n",
       "            </tr>\n",
       "            <tr>\n",
       "                                <td id=\"T_d74de05a_7158_11ea_8226_50e08586bf81row1_col0\" class=\"data row1 col0\" >2017-06-02 00:00:00</td>\n",
       "                        <td id=\"T_d74de05a_7158_11ea_8226_50e08586bf81row1_col1\" class=\"data row1 col1\" >OW0030652</td>\n",
       "                        <td id=\"T_d74de05a_7158_11ea_8226_50e08586bf81row1_col2\" class=\"data row1 col2\" >ROMERO, JUAN</td>\n",
       "                        <td id=\"T_d74de05a_7158_11ea_8226_50e08586bf81row1_col3\" class=\"data row1 col3\" >FA0021745</td>\n",
       "                        <td id=\"T_d74de05a_7158_11ea_8226_50e08586bf81row1_col4\" class=\"data row1 col4\" >EL ZIPOTE PUPUSERIA</td>\n",
       "                        <td id=\"T_d74de05a_7158_11ea_8226_50e08586bf81row1_col5\" class=\"data row1 col5\" >PR0047587</td>\n",
       "                        <td id=\"T_d74de05a_7158_11ea_8226_50e08586bf81row1_col6\" class=\"data row1 col6\" >EL ZIPOTE PUPUSERIA</td>\n",
       "                        <td id=\"T_d74de05a_7158_11ea_8226_50e08586bf81row1_col7\" class=\"data row1 col7\" >ACTIVE</td>\n",
       "                        <td id=\"T_d74de05a_7158_11ea_8226_50e08586bf81row1_col8\" class=\"data row1 col8\" >1632.000000</td>\n",
       "                        <td id=\"T_d74de05a_7158_11ea_8226_50e08586bf81row1_col9\" class=\"data row1 col9\" >1111 W WASHINGTON BLVD STE H</td>\n",
       "                        <td id=\"T_d74de05a_7158_11ea_8226_50e08586bf81row1_col10\" class=\"data row1 col10\" >MONTEBELLO</td>\n",
       "                        <td id=\"T_d74de05a_7158_11ea_8226_50e08586bf81row1_col11\" class=\"data row1 col11\" >CA</td>\n",
       "                        <td id=\"T_d74de05a_7158_11ea_8226_50e08586bf81row1_col12\" class=\"data row1 col12\" >90640</td>\n",
       "                        <td id=\"T_d74de05a_7158_11ea_8226_50e08586bf81row1_col13\" class=\"data row1 col13\" >1.000000</td>\n",
       "                        <td id=\"T_d74de05a_7158_11ea_8226_50e08586bf81row1_col14\" class=\"data row1 col14\" >ROUTINE INSPECTION</td>\n",
       "                        <td id=\"T_d74de05a_7158_11ea_8226_50e08586bf81row1_col15\" class=\"data row1 col15\" >91.000000</td>\n",
       "                        <td id=\"T_d74de05a_7158_11ea_8226_50e08586bf81row1_col16\" class=\"data row1 col16\" >A</td>\n",
       "                        <td id=\"T_d74de05a_7158_11ea_8226_50e08586bf81row1_col17\" class=\"data row1 col17\" >DAXE7ACTS</td>\n",
       "                        <td id=\"T_d74de05a_7158_11ea_8226_50e08586bf81row1_col18\" class=\"data row1 col18\" >EE0000773</td>\n",
       "                        <td id=\"T_d74de05a_7158_11ea_8226_50e08586bf81row1_col19\" class=\"data row1 col19\" >nan</td>\n",
       "                        <td id=\"T_d74de05a_7158_11ea_8226_50e08586bf81row1_col20\" class=\"data row1 col20\" >OUT OF COMPLIANCE</td>\n",
       "                        <td id=\"T_d74de05a_7158_11ea_8226_50e08586bf81row1_col21\" class=\"data row1 col21\" >F004</td>\n",
       "                        <td id=\"T_d74de05a_7158_11ea_8226_50e08586bf81row1_col22\" class=\"data row1 col22\" ># 04. Proper eating, drinking, or tobacco use</td>\n",
       "                        <td id=\"T_d74de05a_7158_11ea_8226_50e08586bf81row1_col23\" class=\"data row1 col23\" >2.000000</td>\n",
       "                        <td id=\"T_d74de05a_7158_11ea_8226_50e08586bf81row1_col24\" class=\"data row1 col24\" >Restaurant</td>\n",
       "                        <td id=\"T_d74de05a_7158_11ea_8226_50e08586bf81row1_col25\" class=\"data row1 col25\" >0-30 SQ. FT.</td>\n",
       "                        <td id=\"T_d74de05a_7158_11ea_8226_50e08586bf81row1_col26\" class=\"data row1 col26\" >High Risk</td>\n",
       "            </tr>\n",
       "            <tr>\n",
       "                                <td id=\"T_d74de05a_7158_11ea_8226_50e08586bf81row2_col0\" class=\"data row2 col0\" >2017-06-02 00:00:00</td>\n",
       "                        <td id=\"T_d74de05a_7158_11ea_8226_50e08586bf81row2_col1\" class=\"data row2 col1\" >OW0030652</td>\n",
       "                        <td id=\"T_d74de05a_7158_11ea_8226_50e08586bf81row2_col2\" class=\"data row2 col2\" >ROMERO, JUAN</td>\n",
       "                        <td id=\"T_d74de05a_7158_11ea_8226_50e08586bf81row2_col3\" class=\"data row2 col3\" >FA0021745</td>\n",
       "                        <td id=\"T_d74de05a_7158_11ea_8226_50e08586bf81row2_col4\" class=\"data row2 col4\" >EL ZIPOTE PUPUSERIA</td>\n",
       "                        <td id=\"T_d74de05a_7158_11ea_8226_50e08586bf81row2_col5\" class=\"data row2 col5\" >PR0047587</td>\n",
       "                        <td id=\"T_d74de05a_7158_11ea_8226_50e08586bf81row2_col6\" class=\"data row2 col6\" >EL ZIPOTE PUPUSERIA</td>\n",
       "                        <td id=\"T_d74de05a_7158_11ea_8226_50e08586bf81row2_col7\" class=\"data row2 col7\" >ACTIVE</td>\n",
       "                        <td id=\"T_d74de05a_7158_11ea_8226_50e08586bf81row2_col8\" class=\"data row2 col8\" >1632.000000</td>\n",
       "                        <td id=\"T_d74de05a_7158_11ea_8226_50e08586bf81row2_col9\" class=\"data row2 col9\" >1111 W WASHINGTON BLVD STE H</td>\n",
       "                        <td id=\"T_d74de05a_7158_11ea_8226_50e08586bf81row2_col10\" class=\"data row2 col10\" >MONTEBELLO</td>\n",
       "                        <td id=\"T_d74de05a_7158_11ea_8226_50e08586bf81row2_col11\" class=\"data row2 col11\" >CA</td>\n",
       "                        <td id=\"T_d74de05a_7158_11ea_8226_50e08586bf81row2_col12\" class=\"data row2 col12\" >90640</td>\n",
       "                        <td id=\"T_d74de05a_7158_11ea_8226_50e08586bf81row2_col13\" class=\"data row2 col13\" >1.000000</td>\n",
       "                        <td id=\"T_d74de05a_7158_11ea_8226_50e08586bf81row2_col14\" class=\"data row2 col14\" >ROUTINE INSPECTION</td>\n",
       "                        <td id=\"T_d74de05a_7158_11ea_8226_50e08586bf81row2_col15\" class=\"data row2 col15\" >91.000000</td>\n",
       "                        <td id=\"T_d74de05a_7158_11ea_8226_50e08586bf81row2_col16\" class=\"data row2 col16\" >A</td>\n",
       "                        <td id=\"T_d74de05a_7158_11ea_8226_50e08586bf81row2_col17\" class=\"data row2 col17\" >DAXE7ACTS</td>\n",
       "                        <td id=\"T_d74de05a_7158_11ea_8226_50e08586bf81row2_col18\" class=\"data row2 col18\" >EE0000773</td>\n",
       "                        <td id=\"T_d74de05a_7158_11ea_8226_50e08586bf81row2_col19\" class=\"data row2 col19\" >nan</td>\n",
       "                        <td id=\"T_d74de05a_7158_11ea_8226_50e08586bf81row2_col20\" class=\"data row2 col20\" >OUT OF COMPLIANCE</td>\n",
       "                        <td id=\"T_d74de05a_7158_11ea_8226_50e08586bf81row2_col21\" class=\"data row2 col21\" >F023</td>\n",
       "                        <td id=\"T_d74de05a_7158_11ea_8226_50e08586bf81row2_col22\" class=\"data row2 col22\" ># 23. No rodents, insects, birds, or animals</td>\n",
       "                        <td id=\"T_d74de05a_7158_11ea_8226_50e08586bf81row2_col23\" class=\"data row2 col23\" >2.000000</td>\n",
       "                        <td id=\"T_d74de05a_7158_11ea_8226_50e08586bf81row2_col24\" class=\"data row2 col24\" >Restaurant</td>\n",
       "                        <td id=\"T_d74de05a_7158_11ea_8226_50e08586bf81row2_col25\" class=\"data row2 col25\" >0-30 SQ. FT.</td>\n",
       "                        <td id=\"T_d74de05a_7158_11ea_8226_50e08586bf81row2_col26\" class=\"data row2 col26\" >High Risk</td>\n",
       "            </tr>\n",
       "            <tr>\n",
       "                                <td id=\"T_d74de05a_7158_11ea_8226_50e08586bf81row3_col0\" class=\"data row3 col0\" >2017-06-02 00:00:00</td>\n",
       "                        <td id=\"T_d74de05a_7158_11ea_8226_50e08586bf81row3_col1\" class=\"data row3 col1\" >OW0030652</td>\n",
       "                        <td id=\"T_d74de05a_7158_11ea_8226_50e08586bf81row3_col2\" class=\"data row3 col2\" >ROMERO, JUAN</td>\n",
       "                        <td id=\"T_d74de05a_7158_11ea_8226_50e08586bf81row3_col3\" class=\"data row3 col3\" >FA0021745</td>\n",
       "                        <td id=\"T_d74de05a_7158_11ea_8226_50e08586bf81row3_col4\" class=\"data row3 col4\" >EL ZIPOTE PUPUSERIA</td>\n",
       "                        <td id=\"T_d74de05a_7158_11ea_8226_50e08586bf81row3_col5\" class=\"data row3 col5\" >PR0047587</td>\n",
       "                        <td id=\"T_d74de05a_7158_11ea_8226_50e08586bf81row3_col6\" class=\"data row3 col6\" >EL ZIPOTE PUPUSERIA</td>\n",
       "                        <td id=\"T_d74de05a_7158_11ea_8226_50e08586bf81row3_col7\" class=\"data row3 col7\" >ACTIVE</td>\n",
       "                        <td id=\"T_d74de05a_7158_11ea_8226_50e08586bf81row3_col8\" class=\"data row3 col8\" >1632.000000</td>\n",
       "                        <td id=\"T_d74de05a_7158_11ea_8226_50e08586bf81row3_col9\" class=\"data row3 col9\" >1111 W WASHINGTON BLVD STE H</td>\n",
       "                        <td id=\"T_d74de05a_7158_11ea_8226_50e08586bf81row3_col10\" class=\"data row3 col10\" >MONTEBELLO</td>\n",
       "                        <td id=\"T_d74de05a_7158_11ea_8226_50e08586bf81row3_col11\" class=\"data row3 col11\" >CA</td>\n",
       "                        <td id=\"T_d74de05a_7158_11ea_8226_50e08586bf81row3_col12\" class=\"data row3 col12\" >90640</td>\n",
       "                        <td id=\"T_d74de05a_7158_11ea_8226_50e08586bf81row3_col13\" class=\"data row3 col13\" >1.000000</td>\n",
       "                        <td id=\"T_d74de05a_7158_11ea_8226_50e08586bf81row3_col14\" class=\"data row3 col14\" >ROUTINE INSPECTION</td>\n",
       "                        <td id=\"T_d74de05a_7158_11ea_8226_50e08586bf81row3_col15\" class=\"data row3 col15\" >91.000000</td>\n",
       "                        <td id=\"T_d74de05a_7158_11ea_8226_50e08586bf81row3_col16\" class=\"data row3 col16\" >A</td>\n",
       "                        <td id=\"T_d74de05a_7158_11ea_8226_50e08586bf81row3_col17\" class=\"data row3 col17\" >DAXE7ACTS</td>\n",
       "                        <td id=\"T_d74de05a_7158_11ea_8226_50e08586bf81row3_col18\" class=\"data row3 col18\" >EE0000773</td>\n",
       "                        <td id=\"T_d74de05a_7158_11ea_8226_50e08586bf81row3_col19\" class=\"data row3 col19\" >nan</td>\n",
       "                        <td id=\"T_d74de05a_7158_11ea_8226_50e08586bf81row3_col20\" class=\"data row3 col20\" >OUT OF COMPLIANCE</td>\n",
       "                        <td id=\"T_d74de05a_7158_11ea_8226_50e08586bf81row3_col21\" class=\"data row3 col21\" >F005</td>\n",
       "                        <td id=\"T_d74de05a_7158_11ea_8226_50e08586bf81row3_col22\" class=\"data row3 col22\" ># 05. Hands clean and properly washed; gloves used properly</td>\n",
       "                        <td id=\"T_d74de05a_7158_11ea_8226_50e08586bf81row3_col23\" class=\"data row3 col23\" >4.000000</td>\n",
       "                        <td id=\"T_d74de05a_7158_11ea_8226_50e08586bf81row3_col24\" class=\"data row3 col24\" >Restaurant</td>\n",
       "                        <td id=\"T_d74de05a_7158_11ea_8226_50e08586bf81row3_col25\" class=\"data row3 col25\" >0-30 SQ. FT.</td>\n",
       "                        <td id=\"T_d74de05a_7158_11ea_8226_50e08586bf81row3_col26\" class=\"data row3 col26\" >High Risk</td>\n",
       "            </tr>\n",
       "            <tr>\n",
       "                                <td id=\"T_d74de05a_7158_11ea_8226_50e08586bf81row4_col0\" class=\"data row4 col0\" >2017-06-05 00:00:00</td>\n",
       "                        <td id=\"T_d74de05a_7158_11ea_8226_50e08586bf81row4_col1\" class=\"data row4 col1\" >OW0025119</td>\n",
       "                        <td id=\"T_d74de05a_7158_11ea_8226_50e08586bf81row4_col2\" class=\"data row4 col2\" >MORNING SUN INC.</td>\n",
       "                        <td id=\"T_d74de05a_7158_11ea_8226_50e08586bf81row4_col3\" class=\"data row4 col3\" >FA0008772</td>\n",
       "                        <td id=\"T_d74de05a_7158_11ea_8226_50e08586bf81row4_col4\" class=\"data row4 col4\" >CHINA GATE</td>\n",
       "                        <td id=\"T_d74de05a_7158_11ea_8226_50e08586bf81row4_col5\" class=\"data row4 col5\" >PR0029024</td>\n",
       "                        <td id=\"T_d74de05a_7158_11ea_8226_50e08586bf81row4_col6\" class=\"data row4 col6\" >CHINA GATE</td>\n",
       "                        <td id=\"T_d74de05a_7158_11ea_8226_50e08586bf81row4_col7\" class=\"data row4 col7\" >ACTIVE</td>\n",
       "                        <td id=\"T_d74de05a_7158_11ea_8226_50e08586bf81row4_col8\" class=\"data row4 col8\" >1632.000000</td>\n",
       "                        <td id=\"T_d74de05a_7158_11ea_8226_50e08586bf81row4_col9\" class=\"data row4 col9\" >11814 S WILMINGTON AVE</td>\n",
       "                        <td id=\"T_d74de05a_7158_11ea_8226_50e08586bf81row4_col10\" class=\"data row4 col10\" >LOS ANGELES</td>\n",
       "                        <td id=\"T_d74de05a_7158_11ea_8226_50e08586bf81row4_col11\" class=\"data row4 col11\" >CA</td>\n",
       "                        <td id=\"T_d74de05a_7158_11ea_8226_50e08586bf81row4_col12\" class=\"data row4 col12\" >90059</td>\n",
       "                        <td id=\"T_d74de05a_7158_11ea_8226_50e08586bf81row4_col13\" class=\"data row4 col13\" >1.000000</td>\n",
       "                        <td id=\"T_d74de05a_7158_11ea_8226_50e08586bf81row4_col14\" class=\"data row4 col14\" >ROUTINE INSPECTION</td>\n",
       "                        <td id=\"T_d74de05a_7158_11ea_8226_50e08586bf81row4_col15\" class=\"data row4 col15\" >94.000000</td>\n",
       "                        <td id=\"T_d74de05a_7158_11ea_8226_50e08586bf81row4_col16\" class=\"data row4 col16\" >A</td>\n",
       "                        <td id=\"T_d74de05a_7158_11ea_8226_50e08586bf81row4_col17\" class=\"data row4 col17\" >DADMCPXSY</td>\n",
       "                        <td id=\"T_d74de05a_7158_11ea_8226_50e08586bf81row4_col18\" class=\"data row4 col18\" >EE0000927</td>\n",
       "                        <td id=\"T_d74de05a_7158_11ea_8226_50e08586bf81row4_col19\" class=\"data row4 col19\" >nan</td>\n",
       "                        <td id=\"T_d74de05a_7158_11ea_8226_50e08586bf81row4_col20\" class=\"data row4 col20\" >OUT OF COMPLIANCE</td>\n",
       "                        <td id=\"T_d74de05a_7158_11ea_8226_50e08586bf81row4_col21\" class=\"data row4 col21\" >F039</td>\n",
       "                        <td id=\"T_d74de05a_7158_11ea_8226_50e08586bf81row4_col22\" class=\"data row4 col22\" ># 39. Wiping cloths: properly used and stored</td>\n",
       "                        <td id=\"T_d74de05a_7158_11ea_8226_50e08586bf81row4_col23\" class=\"data row4 col23\" >1.000000</td>\n",
       "                        <td id=\"T_d74de05a_7158_11ea_8226_50e08586bf81row4_col24\" class=\"data row4 col24\" >Restaurant</td>\n",
       "                        <td id=\"T_d74de05a_7158_11ea_8226_50e08586bf81row4_col25\" class=\"data row4 col25\" >0-30 SQ. FT.</td>\n",
       "                        <td id=\"T_d74de05a_7158_11ea_8226_50e08586bf81row4_col26\" class=\"data row4 col26\" >High Risk</td>\n",
       "            </tr>\n",
       "    </tbody></table>"
      ],
      "text/plain": [
       "<pandas.io.formats.style.Styler at 0x20f86b903c8>"
      ]
     },
     "execution_count": 22,
     "metadata": {},
     "output_type": "execute_result"
    }
   ],
   "source": [
    "Data.head().style.hide_index()"
   ]
  },
  {
   "cell_type": "code",
   "execution_count": 23,
   "metadata": {},
   "outputs": [],
   "source": [
    "def Data_info(Inp):\n",
    "    Out = pd.DataFrame(Inp.dtypes,columns=['Data Type']).sort_values(by=['Data Type'])\n",
    "    Out = Out.join(pd.DataFrame(Inp.isnull().sum(), columns=['Number of NaN Values']), how='outer')\n",
    "    Out['Percentage'] = np.round(100*(Out['Number of NaN Values']/Inp.shape[0]),2)\n",
    "    return Out"
   ]
  },
  {
   "cell_type": "code",
   "execution_count": 24,
   "metadata": {},
   "outputs": [
    {
     "data": {
      "text/html": [
       "<div>\n",
       "<style scoped>\n",
       "    .dataframe tbody tr th:only-of-type {\n",
       "        vertical-align: middle;\n",
       "    }\n",
       "\n",
       "    .dataframe tbody tr th {\n",
       "        vertical-align: top;\n",
       "    }\n",
       "\n",
       "    .dataframe thead th {\n",
       "        text-align: right;\n",
       "    }\n",
       "</style>\n",
       "<table border=\"1\" class=\"dataframe\">\n",
       "  <thead>\n",
       "    <tr style=\"text-align: right;\">\n",
       "      <th></th>\n",
       "      <th>Data Type</th>\n",
       "      <th>Number of NaN Values</th>\n",
       "      <th>Percentage</th>\n",
       "    </tr>\n",
       "  </thead>\n",
       "  <tbody>\n",
       "    <tr>\n",
       "      <th>Activity Date</th>\n",
       "      <td>datetime64[ns]</td>\n",
       "      <td>62</td>\n",
       "      <td>0.01</td>\n",
       "    </tr>\n",
       "    <tr>\n",
       "      <th>Employee ID</th>\n",
       "      <td>object</td>\n",
       "      <td>62</td>\n",
       "      <td>0.01</td>\n",
       "    </tr>\n",
       "    <tr>\n",
       "      <th>Facility Address</th>\n",
       "      <td>object</td>\n",
       "      <td>62</td>\n",
       "      <td>0.01</td>\n",
       "    </tr>\n",
       "    <tr>\n",
       "      <th>Facility City</th>\n",
       "      <td>object</td>\n",
       "      <td>62</td>\n",
       "      <td>0.01</td>\n",
       "    </tr>\n",
       "    <tr>\n",
       "      <th>Facility ID</th>\n",
       "      <td>object</td>\n",
       "      <td>62</td>\n",
       "      <td>0.01</td>\n",
       "    </tr>\n",
       "    <tr>\n",
       "      <th>Facility Name</th>\n",
       "      <td>object</td>\n",
       "      <td>62</td>\n",
       "      <td>0.01</td>\n",
       "    </tr>\n",
       "    <tr>\n",
       "      <th>Facility State</th>\n",
       "      <td>object</td>\n",
       "      <td>62</td>\n",
       "      <td>0.01</td>\n",
       "    </tr>\n",
       "    <tr>\n",
       "      <th>Facility Zip</th>\n",
       "      <td>object</td>\n",
       "      <td>62</td>\n",
       "      <td>0.01</td>\n",
       "    </tr>\n",
       "    <tr>\n",
       "      <th>Grade</th>\n",
       "      <td>object</td>\n",
       "      <td>1484</td>\n",
       "      <td>0.15</td>\n",
       "    </tr>\n",
       "    <tr>\n",
       "      <th>Location</th>\n",
       "      <td>object</td>\n",
       "      <td>32905</td>\n",
       "      <td>3.35</td>\n",
       "    </tr>\n",
       "    <tr>\n",
       "      <th>Owner ID</th>\n",
       "      <td>object</td>\n",
       "      <td>62</td>\n",
       "      <td>0.01</td>\n",
       "    </tr>\n",
       "    <tr>\n",
       "      <th>Owner Name</th>\n",
       "      <td>object</td>\n",
       "      <td>62</td>\n",
       "      <td>0.01</td>\n",
       "    </tr>\n",
       "    <tr>\n",
       "      <th>PE_Risk</th>\n",
       "      <td>object</td>\n",
       "      <td>639</td>\n",
       "      <td>0.07</td>\n",
       "    </tr>\n",
       "    <tr>\n",
       "      <th>PE_Seats</th>\n",
       "      <td>object</td>\n",
       "      <td>170477</td>\n",
       "      <td>17.37</td>\n",
       "    </tr>\n",
       "    <tr>\n",
       "      <th>PE_Type</th>\n",
       "      <td>object</td>\n",
       "      <td>62</td>\n",
       "      <td>0.01</td>\n",
       "    </tr>\n",
       "    <tr>\n",
       "      <th>Points</th>\n",
       "      <td>object</td>\n",
       "      <td>0</td>\n",
       "      <td>0.00</td>\n",
       "    </tr>\n",
       "    <tr>\n",
       "      <th>Program Element (PE)</th>\n",
       "      <td>object</td>\n",
       "      <td>62</td>\n",
       "      <td>0.01</td>\n",
       "    </tr>\n",
       "    <tr>\n",
       "      <th>Program Name</th>\n",
       "      <td>object</td>\n",
       "      <td>62</td>\n",
       "      <td>0.01</td>\n",
       "    </tr>\n",
       "    <tr>\n",
       "      <th>Program Status</th>\n",
       "      <td>object</td>\n",
       "      <td>62</td>\n",
       "      <td>0.01</td>\n",
       "    </tr>\n",
       "    <tr>\n",
       "      <th>Record ID</th>\n",
       "      <td>object</td>\n",
       "      <td>62</td>\n",
       "      <td>0.01</td>\n",
       "    </tr>\n",
       "    <tr>\n",
       "      <th>Score</th>\n",
       "      <td>object</td>\n",
       "      <td>62</td>\n",
       "      <td>0.01</td>\n",
       "    </tr>\n",
       "    <tr>\n",
       "      <th>Serial Number</th>\n",
       "      <td>object</td>\n",
       "      <td>0</td>\n",
       "      <td>0.00</td>\n",
       "    </tr>\n",
       "    <tr>\n",
       "      <th>Service Code</th>\n",
       "      <td>object</td>\n",
       "      <td>62</td>\n",
       "      <td>0.01</td>\n",
       "    </tr>\n",
       "    <tr>\n",
       "      <th>Service Description</th>\n",
       "      <td>object</td>\n",
       "      <td>62</td>\n",
       "      <td>0.01</td>\n",
       "    </tr>\n",
       "    <tr>\n",
       "      <th>Violation Code</th>\n",
       "      <td>object</td>\n",
       "      <td>0</td>\n",
       "      <td>0.00</td>\n",
       "    </tr>\n",
       "    <tr>\n",
       "      <th>Violation Description</th>\n",
       "      <td>object</td>\n",
       "      <td>0</td>\n",
       "      <td>0.00</td>\n",
       "    </tr>\n",
       "    <tr>\n",
       "      <th>Violation Status</th>\n",
       "      <td>object</td>\n",
       "      <td>0</td>\n",
       "      <td>0.00</td>\n",
       "    </tr>\n",
       "  </tbody>\n",
       "</table>\n",
       "</div>"
      ],
      "text/plain": [
       "                            Data Type  Number of NaN Values  Percentage\n",
       "Activity Date          datetime64[ns]                    62        0.01\n",
       "Employee ID                    object                    62        0.01\n",
       "Facility Address               object                    62        0.01\n",
       "Facility City                  object                    62        0.01\n",
       "Facility ID                    object                    62        0.01\n",
       "Facility Name                  object                    62        0.01\n",
       "Facility State                 object                    62        0.01\n",
       "Facility Zip                   object                    62        0.01\n",
       "Grade                          object                  1484        0.15\n",
       "Location                       object                 32905        3.35\n",
       "Owner ID                       object                    62        0.01\n",
       "Owner Name                     object                    62        0.01\n",
       "PE_Risk                        object                   639        0.07\n",
       "PE_Seats                       object                170477       17.37\n",
       "PE_Type                        object                    62        0.01\n",
       "Points                         object                     0        0.00\n",
       "Program Element (PE)           object                    62        0.01\n",
       "Program Name                   object                    62        0.01\n",
       "Program Status                 object                    62        0.01\n",
       "Record ID                      object                    62        0.01\n",
       "Score                          object                    62        0.01\n",
       "Serial Number                  object                     0        0.00\n",
       "Service Code                   object                    62        0.01\n",
       "Service Description            object                    62        0.01\n",
       "Violation Code                 object                     0        0.00\n",
       "Violation Description          object                     0        0.00\n",
       "Violation Status               object                     0        0.00"
      ]
     },
     "execution_count": 24,
     "metadata": {},
     "output_type": "execute_result"
    }
   ],
   "source": [
    "Data_info(Data)"
   ]
  },
  {
   "cell_type": "markdown",
   "metadata": {},
   "source": [
    "### Saving"
   ]
  },
  {
   "cell_type": "code",
   "execution_count": 25,
   "metadata": {},
   "outputs": [],
   "source": [
    "Violations_df.to_csv('Data/LA/Clean_Violations_df.csv',index=False)\n",
    "Inspections_df.to_csv('Data/LA/Clean_Inspections_df.csv',index=False)\n",
    "Data.to_csv('Data/LA/Data_Inspections_Violations_df.csv',index=False)"
   ]
  },
  {
   "cell_type": "markdown",
   "metadata": {},
   "source": [
    "## Creating a Dictionary"
   ]
  },
  {
   "cell_type": "code",
   "execution_count": 26,
   "metadata": {},
   "outputs": [],
   "source": [
    "Violation_Dictionary = dict.fromkeys(Data['Violation Code'].unique().tolist()) \n",
    "temp = Data['Violation Description'].unique().tolist()\n",
    "for i in Violation_Dictionary:\n",
    "    for j in temp:\n",
    "        # Comparing the two lists\n",
    "        if i[-2:] == j[2:4]:\n",
    "            Violation_Dictionary[i] = j\n",
    "del temp"
   ]
  },
  {
   "cell_type": "markdown",
   "metadata": {},
   "source": [
    "Adding a few more codes:"
   ]
  },
  {
   "cell_type": "code",
   "execution_count": 27,
   "metadata": {},
   "outputs": [],
   "source": [
    "Violation_Dictionary['F001'] = '# 01a. Demonstration of knowledge'\n",
    "Violation_Dictionary['F052'] = '# 01b. Food safety certification'\n",
    "Violation_Dictionary['F053'] = '# 21a. Hot Water Available'\n",
    "Violation_Dictionary['F054'] = '# 52. Multiple Major Critical Violations / Increased Risk to Public Health'\n",
    "Violation_Dictionary['F055'] = '# 01a. Demonstration of knowledge'\n",
    "Violation_Dictionary['F057'] = '# 18. Compliance with variance, specialized process, & HACCP Plan'\n",
    "Violation_Dictionary['F058'] = '# 19. Consumer advisory provided for raw or undercooked foods'"
   ]
  },
  {
   "cell_type": "code",
   "execution_count": 28,
   "metadata": {},
   "outputs": [
    {
     "data": {
      "text/html": [
       "<div>\n",
       "<style scoped>\n",
       "    .dataframe tbody tr th:only-of-type {\n",
       "        vertical-align: middle;\n",
       "    }\n",
       "\n",
       "    .dataframe tbody tr th {\n",
       "        vertical-align: top;\n",
       "    }\n",
       "\n",
       "    .dataframe thead th {\n",
       "        text-align: right;\n",
       "    }\n",
       "</style>\n",
       "<table border=\"1\" class=\"dataframe\">\n",
       "  <thead>\n",
       "    <tr style=\"text-align: right;\">\n",
       "      <th></th>\n",
       "      <th>Violation Code</th>\n",
       "      <th>Violation Description</th>\n",
       "    </tr>\n",
       "  </thead>\n",
       "  <tbody>\n",
       "    <tr>\n",
       "      <th>0</th>\n",
       "      <td>F054</td>\n",
       "      <td># 52. Multiple Major Critical Violations / Inc...</td>\n",
       "    </tr>\n",
       "    <tr>\n",
       "      <th>1</th>\n",
       "      <td>W052</td>\n",
       "      <td># 52. Multiple Major Critical Violations / Inc...</td>\n",
       "    </tr>\n",
       "    <tr>\n",
       "      <th>2</th>\n",
       "      <td>F051</td>\n",
       "      <td># 51. Permit Suspension</td>\n",
       "    </tr>\n",
       "    <tr>\n",
       "      <th>3</th>\n",
       "      <td>W051</td>\n",
       "      <td># 51. Permit Suspension</td>\n",
       "    </tr>\n",
       "    <tr>\n",
       "      <th>4</th>\n",
       "      <td>F050</td>\n",
       "      <td># 50. Impoundment of unsanitary equipment or food</td>\n",
       "    </tr>\n",
       "    <tr>\n",
       "      <th>5</th>\n",
       "      <td>W050</td>\n",
       "      <td># 50. Impoundment of unsanitary equipment or food</td>\n",
       "    </tr>\n",
       "    <tr>\n",
       "      <th>6</th>\n",
       "      <td>F049</td>\n",
       "      <td># 49. Samples Collected</td>\n",
       "    </tr>\n",
       "    <tr>\n",
       "      <th>7</th>\n",
       "      <td>W048</td>\n",
       "      <td># 48. Plan Review required for new or remodel ...</td>\n",
       "    </tr>\n",
       "    <tr>\n",
       "      <th>8</th>\n",
       "      <td>F048</td>\n",
       "      <td># 48. Plan Review required for new or remodel ...</td>\n",
       "    </tr>\n",
       "    <tr>\n",
       "      <th>9</th>\n",
       "      <td>F047</td>\n",
       "      <td># 47. Permits Available</td>\n",
       "    </tr>\n",
       "  </tbody>\n",
       "</table>\n",
       "</div>"
      ],
      "text/plain": [
       "  Violation Code                              Violation Description\n",
       "0           F054  # 52. Multiple Major Critical Violations / Inc...\n",
       "1           W052  # 52. Multiple Major Critical Violations / Inc...\n",
       "2           F051                            # 51. Permit Suspension\n",
       "3           W051                            # 51. Permit Suspension\n",
       "4           F050  # 50. Impoundment of unsanitary equipment or food\n",
       "5           W050  # 50. Impoundment of unsanitary equipment or food\n",
       "6           F049                            # 49. Samples Collected\n",
       "7           W048  # 48. Plan Review required for new or remodel ...\n",
       "8           F048  # 48. Plan Review required for new or remodel ...\n",
       "9           F047                            # 47. Permits Available"
      ]
     },
     "execution_count": 28,
     "metadata": {},
     "output_type": "execute_result"
    }
   ],
   "source": [
    "Violation_Dictionary_df = pd.DataFrame.from_dict(Violation_Dictionary, orient='index', columns=['Violation Description'])\n",
    "Violation_Dictionary_df = Violation_Dictionary_df.sort_values('Violation Description', ascending=False)\n",
    "Violation_Dictionary_df = Violation_Dictionary_df.reset_index().rename(columns={'index':'Violation Code'})\n",
    "Violation_Dictionary_df.head(10)"
   ]
  },
  {
   "cell_type": "markdown",
   "metadata": {},
   "source": [
    "### Saving"
   ]
  },
  {
   "cell_type": "code",
   "execution_count": 29,
   "metadata": {},
   "outputs": [],
   "source": [
    "Violation_Dictionary_df.to_csv('Data/LA/Violation_Dictionary_df.csv',index=False)"
   ]
  },
  {
   "cell_type": "markdown",
   "metadata": {},
   "source": [
    "***"
   ]
  }
 ],
 "metadata": {
  "kernelspec": {
   "display_name": "Python 3",
   "language": "python",
   "name": "python3"
  },
  "language_info": {
   "codemirror_mode": {
    "name": "ipython",
    "version": 3
   },
   "file_extension": ".py",
   "mimetype": "text/x-python",
   "name": "python",
   "nbconvert_exporter": "python",
   "pygments_lexer": "ipython3",
   "version": "3.7.7"
  }
 },
 "nbformat": 4,
 "nbformat_minor": 2
}
