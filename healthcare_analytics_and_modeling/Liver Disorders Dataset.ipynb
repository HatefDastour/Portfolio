{
 "cells": [
  {
   "cell_type": "code",
   "execution_count": 1,
   "metadata": {},
   "outputs": [],
   "source": [
    "# Computations\n",
    "import numpy as np\n",
    "import pandas as pd\n",
    "\n",
    "# sklearn\n",
    "from sklearn.tree import DecisionTreeRegressor \n",
    "from sklearn.ensemble import StackingRegressor, GradientBoostingRegressor, RandomForestRegressor,\\\n",
    "                             BaggingRegressor, AdaBoostRegressor\n",
    "from sklearn.neural_network import MLPRegressor\n",
    "from sklearn.compose import make_column_transformer\n",
    "from sklearn import metrics\n",
    "from sklearn.model_selection import train_test_split, cross_validate, cross_val_predict\n",
    "from sklearn.preprocessing import LabelEncoder, OneHotEncoder, StandardScaler\n",
    "from sklearn.pipeline import make_pipeline\n",
    "from sklearn import set_config\n",
    "set_config('diagram')\n",
    "\n",
    "# Visualisation libraries\n",
    "\n",
    "## Text\n",
    "from colorama import Fore, Back, Style\n",
    "from IPython.display import Image, display, Markdown, Latex, clear_output\n",
    "\n",
    "## seaborn\n",
    "import seaborn as sns\n",
    "sns.set_style(\"whitegrid\")\n",
    "sns.set_context(\"paper\", rc={\"font.size\":12,\"axes.titlesize\":14,\"axes.labelsize\":12})\n",
    "\n",
    "## progressbar\n",
    "import progressbar\n",
    "\n",
    "## matplotlib\n",
    "import matplotlib.pyplot as plt\n",
    "from matplotlib.patches import Ellipse, Polygon\n",
    "import matplotlib.gridspec as gridspec\n",
    "import matplotlib.colors\n",
    "from pylab import rcParams\n",
    "plt.style.use('seaborn-whitegrid')\n",
    "import matplotlib as mpl\n",
    "mpl.rcParams['figure.figsize'] = (17, 6)\n",
    "mpl.rcParams['axes.labelsize'] = 14\n",
    "mpl.rcParams['xtick.labelsize'] = 12\n",
    "mpl.rcParams['ytick.labelsize'] = 12\n",
    "mpl.rcParams['text.color'] = 'k'\n",
    "%matplotlib inline"
   ]
  },
  {
   "cell_type": "markdown",
   "metadata": {},
   "source": [
    "\n",
    "<div class=\"alert alert-block alert-info\">\n",
    "<font size=\"+3\"><b>\n",
    "Liver Disorders Dataset\n",
    "</b></font>\n",
    "</div>\n",
    "\n",
    "In this article, we analyze the \n",
    "[Liver Disorders Dataset](https://archive.ics.uci.edu/ml/datasets/liver+disorders) from the [UCI Machine Learning Repository](https://archive.ics.uci.edu/ml/index.php). \n",
    "\n",
    "\n",
    "<img src='https://www.niddk.nih.gov/-/media/Images/Research-Areas/liver_sized.jpg?h=300&la=en&w=200&hash=3D132E712774BA63344950C19D492C4A' height='500' align=\"center\"/>\n",
    "\n",
    "**Picture Source**: [niddk.nih.gov](https://www.niddk.nih.gov/about-niddk/research-areas/liver-disease)\n",
    "\n",
    "\n",
    "## Dataset Information:\n",
    "The first five variables are all blood tests thought to be sensitive to liver disorders that might arise from excessive alcohol consumption. Each line in the dataset constitutes the record of a single male individual.\n",
    "\n",
    "Important note: The 7th field (selector) has been widely misinterpreted in the past as a dependent variable representing the presence or absence of a liver disorder. This is incorrect [1]. The 7th field was created by BUPA researchers as a train/test selector. It is not suitable as a dependent variable for classification. The dataset does not contain any variable representing the presence or absence of a liver disorder. Researchers who wish to use this dataset as a classification benchmark should follow the method used in experiments by the donor (Forsyth & Rada, 1986, Machine learning: applications in expert systems and information retrieval) and others (e.g. Turney, 1995, Cost-sensitive classification: Empirical evaluation of a hybrid genetic decision tree induction algorithm), who used the 6th field (drinks), after dichotomizing, as a dependent variable for classification. Because of widespread misinterpretation in the past, researchers should take care to state their method clearly.\n",
    "\n",
    "\n",
    "\n",
    "## Attribute Information:\n",
    "\n",
    "| Attribute | Information                                                          |\n",
    "|-----------|----------------------------------------------------------------------|\n",
    "| MCV       | Mean corpuscular volume                                              |\n",
    "| AlkPhos   | Alkaline Phosphotase                                                 |\n",
    "| Sgpt      | Alamine Aminotransferase                                             |\n",
    "| Sgot      | Aspartate Aminotransferase                                           |\n",
    "| GammaGT   | Gamma-Glutamyl Transpeptidase                                        |\n",
    "| Drinks    | Number of half-pint equivalents of alcoholic beverages drunk per day |\n",
    "| Selector  | Field used to split data into two sets                               |"
   ]
  },
  {
   "cell_type": "code",
   "execution_count": 2,
   "metadata": {},
   "outputs": [
    {
     "data": {
      "text/html": [
       "<div>\n",
       "<style scoped>\n",
       "    .dataframe tbody tr th:only-of-type {\n",
       "        vertical-align: middle;\n",
       "    }\n",
       "\n",
       "    .dataframe tbody tr th {\n",
       "        vertical-align: top;\n",
       "    }\n",
       "\n",
       "    .dataframe thead th {\n",
       "        text-align: right;\n",
       "    }\n",
       "</style>\n",
       "<table border=\"1\" class=\"dataframe\">\n",
       "  <thead>\n",
       "    <tr style=\"text-align: right;\">\n",
       "      <th></th>\n",
       "      <th>MCV</th>\n",
       "      <th>AlkPhos</th>\n",
       "      <th>Sgpt</th>\n",
       "      <th>Sgot</th>\n",
       "      <th>GammaGT</th>\n",
       "      <th>Drinks</th>\n",
       "      <th>Selector</th>\n",
       "    </tr>\n",
       "  </thead>\n",
       "  <tbody>\n",
       "    <tr>\n",
       "      <th>0</th>\n",
       "      <td>85</td>\n",
       "      <td>92</td>\n",
       "      <td>45</td>\n",
       "      <td>27</td>\n",
       "      <td>31</td>\n",
       "      <td>0</td>\n",
       "      <td>1</td>\n",
       "    </tr>\n",
       "    <tr>\n",
       "      <th>1</th>\n",
       "      <td>85</td>\n",
       "      <td>64</td>\n",
       "      <td>59</td>\n",
       "      <td>32</td>\n",
       "      <td>23</td>\n",
       "      <td>0</td>\n",
       "      <td>2</td>\n",
       "    </tr>\n",
       "    <tr>\n",
       "      <th>2</th>\n",
       "      <td>86</td>\n",
       "      <td>54</td>\n",
       "      <td>33</td>\n",
       "      <td>16</td>\n",
       "      <td>54</td>\n",
       "      <td>0</td>\n",
       "      <td>2</td>\n",
       "    </tr>\n",
       "    <tr>\n",
       "      <th>3</th>\n",
       "      <td>91</td>\n",
       "      <td>78</td>\n",
       "      <td>34</td>\n",
       "      <td>24</td>\n",
       "      <td>36</td>\n",
       "      <td>0</td>\n",
       "      <td>2</td>\n",
       "    </tr>\n",
       "    <tr>\n",
       "      <th>4</th>\n",
       "      <td>87</td>\n",
       "      <td>70</td>\n",
       "      <td>12</td>\n",
       "      <td>28</td>\n",
       "      <td>10</td>\n",
       "      <td>0</td>\n",
       "      <td>2</td>\n",
       "    </tr>\n",
       "  </tbody>\n",
       "</table>\n",
       "</div>"
      ],
      "text/plain": [
       "   MCV  AlkPhos  Sgpt  Sgot  GammaGT  Drinks  Selector\n",
       "0   85       92    45    27       31       0         1\n",
       "1   85       64    59    32       23       0         2\n",
       "2   86       54    33    16       54       0         2\n",
       "3   91       78    34    24       36       0         2\n",
       "4   87       70    12    28       10       0         2"
      ]
     },
     "metadata": {},
     "output_type": "display_data"
    }
   ],
   "source": [
    "Data = np.genfromtxt('liver-disorders/bupa.data', delimiter=',', dtype = int)\n",
    "Attributes = ['MCV', 'AlkPhos', 'Sgpt', 'Sgot', 'GammaGT', 'Drinks', 'Selector']\n",
    "Data = pd.DataFrame(data = Data, columns = Attributes)\n",
    "display(Data.head())"
   ]
  },
  {
   "cell_type": "markdown",
   "metadata": {},
   "source": [
    "# Problem Description\n",
    "\n",
    "In this article, the dependent variable is the number of drinks. Note that, Selector column is intended to split the data into train and test subsets for one particular experiment."
   ]
  },
  {
   "cell_type": "markdown",
   "metadata": {},
   "source": [
    "# Train and Test sets"
   ]
  },
  {
   "cell_type": "code",
   "execution_count": 3,
   "metadata": {},
   "outputs": [
    {
     "name": "stdout",
     "output_type": "stream",
     "text": [
      "\u001b[44m\u001b[37m\u001b[22mTrain\u001b[0m \u001b[34m\u001b[22m==============================================================================================\u001b[0m\n"
     ]
    },
    {
     "data": {
      "text/html": [
       "<style  type=\"text/css\" >\n",
       "</style><table id=\"T_9eef6a4c_b0b3_11ea_9c6b_50e08586bf81\" ><thead>    <tr>        <th class=\"col_heading level0 col0\" >Number of Instances</th>        <th class=\"col_heading level0 col1\" >Number of Attributes</th>    </tr></thead><tbody>\n",
       "                <tr>\n",
       "                                <td id=\"T_9eef6a4c_b0b3_11ea_9c6b_50e08586bf81row0_col0\" class=\"data row0 col0\" >200</td>\n",
       "                        <td id=\"T_9eef6a4c_b0b3_11ea_9c6b_50e08586bf81row0_col1\" class=\"data row0 col1\" >6</td>\n",
       "            </tr>\n",
       "    </tbody></table>"
      ],
      "text/plain": [
       "<pandas.io.formats.style.Styler at 0x220872f6588>"
      ]
     },
     "metadata": {},
     "output_type": "display_data"
    },
    {
     "name": "stdout",
     "output_type": "stream",
     "text": [
      "\u001b[42m\u001b[37m\u001b[22mTest\u001b[0m \u001b[32m\u001b[22m===============================================================================================\u001b[0m\n"
     ]
    },
    {
     "data": {
      "text/html": [
       "<style  type=\"text/css\" >\n",
       "</style><table id=\"T_9ef02642_b0b3_11ea_ae59_50e08586bf81\" ><thead>    <tr>        <th class=\"col_heading level0 col0\" >Number of Instances</th>        <th class=\"col_heading level0 col1\" >Number of Attributes</th>    </tr></thead><tbody>\n",
       "                <tr>\n",
       "                                <td id=\"T_9ef02642_b0b3_11ea_ae59_50e08586bf81row0_col0\" class=\"data row0 col0\" >145</td>\n",
       "                        <td id=\"T_9ef02642_b0b3_11ea_ae59_50e08586bf81row0_col1\" class=\"data row0 col1\" >6</td>\n",
       "            </tr>\n",
       "    </tbody></table>"
      ],
      "text/plain": [
       "<pandas.io.formats.style.Styler at 0x2208c8fd408>"
      ]
     },
     "metadata": {},
     "output_type": "display_data"
    },
    {
     "name": "stdout",
     "output_type": "stream",
     "text": [
      "\u001b[34m\u001b[22m====================================================================================================\u001b[0m\n"
     ]
    },
    {
     "data": {
      "text/html": [
       "<div>\n",
       "<style scoped>\n",
       "    .dataframe tbody tr th:only-of-type {\n",
       "        vertical-align: middle;\n",
       "    }\n",
       "\n",
       "    .dataframe tbody tr th {\n",
       "        vertical-align: top;\n",
       "    }\n",
       "\n",
       "    .dataframe thead th {\n",
       "        text-align: right;\n",
       "    }\n",
       "</style>\n",
       "<table border=\"1\" class=\"dataframe\">\n",
       "  <thead>\n",
       "    <tr style=\"text-align: right;\">\n",
       "      <th>Set</th>\n",
       "      <th>X_train</th>\n",
       "      <th>X_test</th>\n",
       "      <th>y_train</th>\n",
       "      <th>y_test</th>\n",
       "    </tr>\n",
       "  </thead>\n",
       "  <tbody>\n",
       "    <tr>\n",
       "      <th>Shape</th>\n",
       "      <td>(200, 5)</td>\n",
       "      <td>(145, 5)</td>\n",
       "      <td>(200,)</td>\n",
       "      <td>(145,)</td>\n",
       "    </tr>\n",
       "  </tbody>\n",
       "</table>\n",
       "</div>"
      ],
      "text/plain": [
       "Set     X_train    X_test y_train  y_test\n",
       "Shape  (200, 5)  (145, 5)  (200,)  (145,)"
      ]
     },
     "metadata": {},
     "output_type": "display_data"
    }
   ],
   "source": [
    "def DataSize(Inp):\n",
    "    return pd.DataFrame({'Number of Instances': [Inp.shape[0]], 'Number of Attributes': [Inp.shape[1]]}).style.hide_index()\n",
    "def Header(Text, L = 100, C1 = Back.BLUE, C2 = Fore.BLUE):\n",
    "    print(C1 + Fore.WHITE + Style.NORMAL + Text + Style.RESET_ALL + ' ' + C2 +\n",
    "          Style.NORMAL +  (L- len(Text) - 1)*'=' + Style.RESET_ALL)\n",
    "def Line(L=100, C = Fore.BLUE): print(C + Style.NORMAL + L*'=' + Style.RESET_ALL)\n",
    "\n",
    "    \n",
    "Target = 'Drinks'\n",
    "\n",
    "# X and y sets\n",
    "X = Data.drop(columns = 'Selector')\n",
    "y = X.pop(Target)\n",
    "\n",
    "# Train Set\n",
    "Header(Text = 'Train')\n",
    "Train = Data.loc[Data.Selector == 2].drop(columns = 'Selector').reset_index(drop = True)\n",
    "display(DataSize(Train))\n",
    "X_train = Train.copy()\n",
    "y_train = X_train.pop(Target)\n",
    "\n",
    "# Test Set\n",
    "Header(Text = 'Test', C1 = Back.GREEN, C2 = Fore.GREEN)\n",
    "Test = Data.loc[Data.Selector == 1].drop(columns = 'Selector').reset_index(drop = True)\n",
    "display(DataSize(Test))\n",
    "X_test = Test.copy()\n",
    "y_test = X_test.pop(Target)\n",
    "Line()\n",
    "\n",
    "display(pd.DataFrame(data={'Set':['X_train','X_test','y_train','y_test'],\n",
    "               'Shape':[X_train.shape, X_test.shape, y_train.shape, y_test.shape]}).set_index('Set').T)"
   ]
  },
  {
   "cell_type": "markdown",
   "metadata": {},
   "source": [
    "# Regressors\n",
    "\n",
    "In this section, we test a number of efficient scikit-learn regressors. Then from those that have performed well, a stacked model can be formed. In particular, we use the following models:\n",
    "\n",
    "| Regressor                   | Link                                                                                                                                                               |\n",
    "|-----------------------------|--------------------------------------------------------------------------------------------------------------------------------------------------------------------|\n",
    "| AdaBoost Regressor          | [sklearn.ensemble.AdaBoostRegressor](https://scikit-learn.org/stable/modules/generated/sklearn.ensemble.AdaBoostRegressor.html#sklearn.ensemble.AdaBoostRegressor) |\n",
    "| Bagging Regressor          | [sklearn.ensemble.BaggingRegressor](https://scikit-learn.org/stable/modules/generated/sklearn.ensemble.BaggingRegressor.html)                                      |\n",
    "| Decision Tree Regressor     | [sklearn.tree.DecisionTreeRegressor](https://scikit-learn.org/stable/modules/generated/sklearn.tree.DecisionTreeRegressor.html)                                    |\n",
    "| Gradient Boosting Regressor | [sklearn.ensemble.GradientBoostingRegressor](https://scikit-learn.org/stable/modules/generated/sklearn.ensemble.GradientBoostingRegressor.html)                    |\n",
    "| MLP Regressor               | [sklearn.neural_network.MLPRegressor](https://scikit-learn.org/stable/modules/generated/sklearn.neural_network.MLPRegressor.html)                                  |\n",
    "| Random Forest Regressor     | [sklearn.ensemble.RandomForestRegressor](https://scikit-learn.org/stable/modules/generated/sklearn.ensemble.RandomForestRegressor.html)                            |"
   ]
  },
  {
   "cell_type": "code",
   "execution_count": 41,
   "metadata": {},
   "outputs": [],
   "source": [
    "import xgboost as xgb\n",
    "data_dmatrix = xgb.DMatrix(data=X,label=y)\n",
    "\n",
    "xg_reg = xgb.XGBRegressor(objective ='reg:linear', colsample_bytree = 0.3, learning_rate = 0.1,\n",
    "                max_depth = 5, alpha = 10, n_estimators = 10)"
   ]
  },
  {
   "cell_type": "code",
   "execution_count": 42,
   "metadata": {},
   "outputs": [
    {
     "name": "stdout",
     "output_type": "stream",
     "text": [
      "[10:10:43] WARNING: C:/Users/Administrator/workspace/xgboost-win64_release_1.1.0/src/objective/regression_obj.cu:170: reg:linear is now deprecated in favor of reg:squarederror.\n",
      "[10:10:43] WARNING: C:/Users/Administrator/workspace/xgboost-win64_release_1.1.0/src/objective/regression_obj.cu:170: reg:linear is now deprecated in favor of reg:squarederror.\n"
     ]
    }
   ],
   "source": [
    "xg_reg.fit(X_train,y_train)\n",
    "\n",
    "preds = xg_reg.predict(X_test)"
   ]
  },
  {
   "cell_type": "code",
   "execution_count": 43,
   "metadata": {},
   "outputs": [
    {
     "name": "stdout",
     "output_type": "stream",
     "text": [
      "RMSE: 4.078785\n"
     ]
    }
   ],
   "source": [
    "rmse = np.sqrt(metrics.mean_squared_error(y_test, preds))\n",
    "print(\"RMSE: %f\" % (rmse))"
   ]
  },
  {
   "cell_type": "code",
   "execution_count": 44,
   "metadata": {},
   "outputs": [
    {
     "data": {
      "text/plain": [
       "-0.007913061479751349"
      ]
     },
     "execution_count": 44,
     "metadata": {},
     "output_type": "execute_result"
    }
   ],
   "source": [
    " metrics.r2_score(y_test, preds)"
   ]
  },
  {
   "cell_type": "code",
   "execution_count": 36,
   "metadata": {},
   "outputs": [],
   "source": [
    "# creating an empty dictionary\n",
    "params = {}\n",
    "params[\"silent\"] = 1\n",
    "params[\"eta\"] = 0.11\n",
    "params[\"min_child_weight\"] = 11\n",
    "params[\"scale_pos_weight\"] = 0.7\n",
    "params[\"seed\"] = 0\n",
    "params[\"base_score\"] = 1800\n",
    "params[\"subsample\"] = 0.6\n",
    "params[\"colsample_bytree\"] = 0.6\n",
    "\n",
    "parm_list = list(params.items())\n",
    "Steps = 1500"
   ]
  },
  {
   "cell_type": "code",
   "execution_count": 37,
   "metadata": {},
   "outputs": [
    {
     "name": "stdout",
     "output_type": "stream",
     "text": [
      "[10:10:13] WARNING: C:\\Users\\Administrator\\workspace\\xgboost-win64_release_1.1.0\\src\\learner.cc:480: \n",
      "Parameters: { silent } might not be used.\n",
      "\n",
      "  This may not be accurate due to some parameters are only used in language bindings but\n",
      "  passed down to XGBoost core.  Or some parameters are not used but slip through this\n",
      "  verification. Please open an issue if you find above cases.\n",
      "\n",
      "\n"
     ]
    }
   ],
   "source": [
    "xgtrain = xgb.DMatrix(X_train, label=y_train)\n",
    "model = xgb.train(parm_list, xgtrain, Steps)"
   ]
  },
  {
   "cell_type": "code",
   "execution_count": 40,
   "metadata": {},
   "outputs": [
    {
     "data": {
      "text/html": [
       "<div>\n",
       "<style scoped>\n",
       "    .dataframe tbody tr th:only-of-type {\n",
       "        vertical-align: middle;\n",
       "    }\n",
       "\n",
       "    .dataframe tbody tr th {\n",
       "        vertical-align: top;\n",
       "    }\n",
       "\n",
       "    .dataframe thead th {\n",
       "        text-align: right;\n",
       "    }\n",
       "</style>\n",
       "<table border=\"1\" class=\"dataframe\">\n",
       "  <thead>\n",
       "    <tr style=\"text-align: right;\">\n",
       "      <th></th>\n",
       "      <th>MSE</th>\n",
       "      <th>Variance score</th>\n",
       "    </tr>\n",
       "  </thead>\n",
       "  <tbody>\n",
       "    <tr>\n",
       "      <th>0</th>\n",
       "      <td>16.78403</td>\n",
       "      <td>-0.016852</td>\n",
       "    </tr>\n",
       "  </tbody>\n",
       "</table>\n",
       "</div>"
      ],
      "text/plain": [
       "        MSE  Variance score\n",
       "0  16.78403       -0.016852"
      ]
     },
     "metadata": {},
     "output_type": "display_data"
    },
    {
     "name": "stdout",
     "output_type": "stream",
     "text": [
      "Minimum = -2.845947, Maximum = 10.615723\n"
     ]
    }
   ],
   "source": [
    "Predictions = model.predict(xgb.DMatrix(X_test))\n",
    "display(pd.DataFrame(np.array([[metrics.mean_squared_error(y_test, Predictions), metrics.r2_score(y_test, Predictions)]]),\n",
    "                       columns=['MSE', 'Variance score']))\n",
    "print('Minimum = %f, Maximum = %f'% (Predictions.min(), Predictions.max()))"
   ]
  },
  {
   "cell_type": "markdown",
   "metadata": {},
   "source": [
    "***\n",
    "# References\n",
    "1. McDermott, J. and Forsyth, R.S., 2016. Diagnosing a disorder in a classification benchmark. Pattern Recognition Letters, 73, pp.41-43.\n",
    "***"
   ]
  }
 ],
 "metadata": {
  "accelerator": "GPU",
  "colab": {
   "collapsed_sections": [],
   "name": "boosted_trees_model_understanding.ipynb",
   "provenance": [],
   "toc_visible": true
  },
  "kernelspec": {
   "display_name": "Python 3",
   "language": "python",
   "name": "python3"
  },
  "language_info": {
   "codemirror_mode": {
    "name": "ipython",
    "version": 3
   },
   "file_extension": ".py",
   "mimetype": "text/x-python",
   "name": "python",
   "nbconvert_exporter": "python",
   "pygments_lexer": "ipython3",
   "version": "3.7.7"
  }
 },
 "nbformat": 4,
 "nbformat_minor": 1
}
